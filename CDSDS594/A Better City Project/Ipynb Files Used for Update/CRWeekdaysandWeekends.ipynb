{
  "nbformat": 4,
  "nbformat_minor": 0,
  "metadata": {
    "colab": {
      "provenance": []
    },
    "kernelspec": {
      "name": "python3",
      "display_name": "Python 3"
    },
    "language_info": {
      "name": "python"
    }
  },
  "cells": [
    {
      "cell_type": "code",
      "execution_count": 137,
      "metadata": {
        "id": "R7zH2zz_E-NI"
      },
      "outputs": [],
      "source": [
        "import pandas as pd\n",
        "import csv\n",
        "import matplotlib.pyplot as plt\n",
        "from google.colab import files"
      ]
    },
    {
      "cell_type": "code",
      "source": [
        "df = pd.read_csv(\"summary.csv\")\n",
        "df.head(5)"
      ],
      "metadata": {
        "colab": {
          "base_uri": "https://localhost:8080/",
          "height": 278
        },
        "id": "kV0JTecnFMPk",
        "outputId": "5d45a089-2ebb-4239-ac06-037f16455517"
      },
      "execution_count": 131,
      "outputs": [
        {
          "output_type": "execute_result",
          "data": {
            "text/plain": [
              "        date        route_id  total_trips  early_am_trips  peak_am_trips  \\\n",
              "0  10/3/2019     CR-Franklin           40               3              8   \n",
              "1  10/3/2019    CR-Worcester           54               5             14   \n",
              "2  10/3/2019   CR-Providence           71               5             17   \n",
              "3  10/3/2019    CR-Fitchburg           38               1              9   \n",
              "4  10/3/2019  CR-Newburyport           67               3             16   \n",
              "\n",
              "   midday_trips  peak_pm_trips  evening_pm_trips  late_pm_trips  local_trips  \\\n",
              "0            11              9                 5              4            1   \n",
              "1            10             12                 9              4           15   \n",
              "2            17             16                 9              7            4   \n",
              "3            12              8                 5              3            4   \n",
              "4            18             15                 9              6           67   \n",
              "\n",
              "   express_trips  typical_trips  atypical_trips  \n",
              "0             39             40               0  \n",
              "1             39             54               0  \n",
              "2             67             71               0  \n",
              "3             34             38               0  \n",
              "4              0             67               0  "
            ],
            "text/html": [
              "\n",
              "  <div id=\"df-6e2d0bb3-6d17-4882-bbc1-c1d59ffd408c\" class=\"colab-df-container\">\n",
              "    <div>\n",
              "<style scoped>\n",
              "    .dataframe tbody tr th:only-of-type {\n",
              "        vertical-align: middle;\n",
              "    }\n",
              "\n",
              "    .dataframe tbody tr th {\n",
              "        vertical-align: top;\n",
              "    }\n",
              "\n",
              "    .dataframe thead th {\n",
              "        text-align: right;\n",
              "    }\n",
              "</style>\n",
              "<table border=\"1\" class=\"dataframe\">\n",
              "  <thead>\n",
              "    <tr style=\"text-align: right;\">\n",
              "      <th></th>\n",
              "      <th>date</th>\n",
              "      <th>route_id</th>\n",
              "      <th>total_trips</th>\n",
              "      <th>early_am_trips</th>\n",
              "      <th>peak_am_trips</th>\n",
              "      <th>midday_trips</th>\n",
              "      <th>peak_pm_trips</th>\n",
              "      <th>evening_pm_trips</th>\n",
              "      <th>late_pm_trips</th>\n",
              "      <th>local_trips</th>\n",
              "      <th>express_trips</th>\n",
              "      <th>typical_trips</th>\n",
              "      <th>atypical_trips</th>\n",
              "    </tr>\n",
              "  </thead>\n",
              "  <tbody>\n",
              "    <tr>\n",
              "      <th>0</th>\n",
              "      <td>10/3/2019</td>\n",
              "      <td>CR-Franklin</td>\n",
              "      <td>40</td>\n",
              "      <td>3</td>\n",
              "      <td>8</td>\n",
              "      <td>11</td>\n",
              "      <td>9</td>\n",
              "      <td>5</td>\n",
              "      <td>4</td>\n",
              "      <td>1</td>\n",
              "      <td>39</td>\n",
              "      <td>40</td>\n",
              "      <td>0</td>\n",
              "    </tr>\n",
              "    <tr>\n",
              "      <th>1</th>\n",
              "      <td>10/3/2019</td>\n",
              "      <td>CR-Worcester</td>\n",
              "      <td>54</td>\n",
              "      <td>5</td>\n",
              "      <td>14</td>\n",
              "      <td>10</td>\n",
              "      <td>12</td>\n",
              "      <td>9</td>\n",
              "      <td>4</td>\n",
              "      <td>15</td>\n",
              "      <td>39</td>\n",
              "      <td>54</td>\n",
              "      <td>0</td>\n",
              "    </tr>\n",
              "    <tr>\n",
              "      <th>2</th>\n",
              "      <td>10/3/2019</td>\n",
              "      <td>CR-Providence</td>\n",
              "      <td>71</td>\n",
              "      <td>5</td>\n",
              "      <td>17</td>\n",
              "      <td>17</td>\n",
              "      <td>16</td>\n",
              "      <td>9</td>\n",
              "      <td>7</td>\n",
              "      <td>4</td>\n",
              "      <td>67</td>\n",
              "      <td>71</td>\n",
              "      <td>0</td>\n",
              "    </tr>\n",
              "    <tr>\n",
              "      <th>3</th>\n",
              "      <td>10/3/2019</td>\n",
              "      <td>CR-Fitchburg</td>\n",
              "      <td>38</td>\n",
              "      <td>1</td>\n",
              "      <td>9</td>\n",
              "      <td>12</td>\n",
              "      <td>8</td>\n",
              "      <td>5</td>\n",
              "      <td>3</td>\n",
              "      <td>4</td>\n",
              "      <td>34</td>\n",
              "      <td>38</td>\n",
              "      <td>0</td>\n",
              "    </tr>\n",
              "    <tr>\n",
              "      <th>4</th>\n",
              "      <td>10/3/2019</td>\n",
              "      <td>CR-Newburyport</td>\n",
              "      <td>67</td>\n",
              "      <td>3</td>\n",
              "      <td>16</td>\n",
              "      <td>18</td>\n",
              "      <td>15</td>\n",
              "      <td>9</td>\n",
              "      <td>6</td>\n",
              "      <td>67</td>\n",
              "      <td>0</td>\n",
              "      <td>67</td>\n",
              "      <td>0</td>\n",
              "    </tr>\n",
              "  </tbody>\n",
              "</table>\n",
              "</div>\n",
              "    <div class=\"colab-df-buttons\">\n",
              "\n",
              "  <div class=\"colab-df-container\">\n",
              "    <button class=\"colab-df-convert\" onclick=\"convertToInteractive('df-6e2d0bb3-6d17-4882-bbc1-c1d59ffd408c')\"\n",
              "            title=\"Convert this dataframe to an interactive table.\"\n",
              "            style=\"display:none;\">\n",
              "\n",
              "  <svg xmlns=\"http://www.w3.org/2000/svg\" height=\"24px\" viewBox=\"0 -960 960 960\">\n",
              "    <path d=\"M120-120v-720h720v720H120Zm60-500h600v-160H180v160Zm220 220h160v-160H400v160Zm0 220h160v-160H400v160ZM180-400h160v-160H180v160Zm440 0h160v-160H620v160ZM180-180h160v-160H180v160Zm440 0h160v-160H620v160Z\"/>\n",
              "  </svg>\n",
              "    </button>\n",
              "\n",
              "  <style>\n",
              "    .colab-df-container {\n",
              "      display:flex;\n",
              "      gap: 12px;\n",
              "    }\n",
              "\n",
              "    .colab-df-convert {\n",
              "      background-color: #E8F0FE;\n",
              "      border: none;\n",
              "      border-radius: 50%;\n",
              "      cursor: pointer;\n",
              "      display: none;\n",
              "      fill: #1967D2;\n",
              "      height: 32px;\n",
              "      padding: 0 0 0 0;\n",
              "      width: 32px;\n",
              "    }\n",
              "\n",
              "    .colab-df-convert:hover {\n",
              "      background-color: #E2EBFA;\n",
              "      box-shadow: 0px 1px 2px rgba(60, 64, 67, 0.3), 0px 1px 3px 1px rgba(60, 64, 67, 0.15);\n",
              "      fill: #174EA6;\n",
              "    }\n",
              "\n",
              "    .colab-df-buttons div {\n",
              "      margin-bottom: 4px;\n",
              "    }\n",
              "\n",
              "    [theme=dark] .colab-df-convert {\n",
              "      background-color: #3B4455;\n",
              "      fill: #D2E3FC;\n",
              "    }\n",
              "\n",
              "    [theme=dark] .colab-df-convert:hover {\n",
              "      background-color: #434B5C;\n",
              "      box-shadow: 0px 1px 3px 1px rgba(0, 0, 0, 0.15);\n",
              "      filter: drop-shadow(0px 1px 2px rgba(0, 0, 0, 0.3));\n",
              "      fill: #FFFFFF;\n",
              "    }\n",
              "  </style>\n",
              "\n",
              "    <script>\n",
              "      const buttonEl =\n",
              "        document.querySelector('#df-6e2d0bb3-6d17-4882-bbc1-c1d59ffd408c button.colab-df-convert');\n",
              "      buttonEl.style.display =\n",
              "        google.colab.kernel.accessAllowed ? 'block' : 'none';\n",
              "\n",
              "      async function convertToInteractive(key) {\n",
              "        const element = document.querySelector('#df-6e2d0bb3-6d17-4882-bbc1-c1d59ffd408c');\n",
              "        const dataTable =\n",
              "          await google.colab.kernel.invokeFunction('convertToInteractive',\n",
              "                                                    [key], {});\n",
              "        if (!dataTable) return;\n",
              "\n",
              "        const docLinkHtml = 'Like what you see? Visit the ' +\n",
              "          '<a target=\"_blank\" href=https://colab.research.google.com/notebooks/data_table.ipynb>data table notebook</a>'\n",
              "          + ' to learn more about interactive tables.';\n",
              "        element.innerHTML = '';\n",
              "        dataTable['output_type'] = 'display_data';\n",
              "        await google.colab.output.renderOutput(dataTable, element);\n",
              "        const docLink = document.createElement('div');\n",
              "        docLink.innerHTML = docLinkHtml;\n",
              "        element.appendChild(docLink);\n",
              "      }\n",
              "    </script>\n",
              "  </div>\n",
              "\n",
              "\n",
              "<div id=\"df-1b6d52b1-33da-441e-9f22-9457fbb379f4\">\n",
              "  <button class=\"colab-df-quickchart\" onclick=\"quickchart('df-1b6d52b1-33da-441e-9f22-9457fbb379f4')\"\n",
              "            title=\"Suggest charts\"\n",
              "            style=\"display:none;\">\n",
              "\n",
              "<svg xmlns=\"http://www.w3.org/2000/svg\" height=\"24px\"viewBox=\"0 0 24 24\"\n",
              "     width=\"24px\">\n",
              "    <g>\n",
              "        <path d=\"M19 3H5c-1.1 0-2 .9-2 2v14c0 1.1.9 2 2 2h14c1.1 0 2-.9 2-2V5c0-1.1-.9-2-2-2zM9 17H7v-7h2v7zm4 0h-2V7h2v10zm4 0h-2v-4h2v4z\"/>\n",
              "    </g>\n",
              "</svg>\n",
              "  </button>\n",
              "\n",
              "<style>\n",
              "  .colab-df-quickchart {\n",
              "      --bg-color: #E8F0FE;\n",
              "      --fill-color: #1967D2;\n",
              "      --hover-bg-color: #E2EBFA;\n",
              "      --hover-fill-color: #174EA6;\n",
              "      --disabled-fill-color: #AAA;\n",
              "      --disabled-bg-color: #DDD;\n",
              "  }\n",
              "\n",
              "  [theme=dark] .colab-df-quickchart {\n",
              "      --bg-color: #3B4455;\n",
              "      --fill-color: #D2E3FC;\n",
              "      --hover-bg-color: #434B5C;\n",
              "      --hover-fill-color: #FFFFFF;\n",
              "      --disabled-bg-color: #3B4455;\n",
              "      --disabled-fill-color: #666;\n",
              "  }\n",
              "\n",
              "  .colab-df-quickchart {\n",
              "    background-color: var(--bg-color);\n",
              "    border: none;\n",
              "    border-radius: 50%;\n",
              "    cursor: pointer;\n",
              "    display: none;\n",
              "    fill: var(--fill-color);\n",
              "    height: 32px;\n",
              "    padding: 0;\n",
              "    width: 32px;\n",
              "  }\n",
              "\n",
              "  .colab-df-quickchart:hover {\n",
              "    background-color: var(--hover-bg-color);\n",
              "    box-shadow: 0 1px 2px rgba(60, 64, 67, 0.3), 0 1px 3px 1px rgba(60, 64, 67, 0.15);\n",
              "    fill: var(--button-hover-fill-color);\n",
              "  }\n",
              "\n",
              "  .colab-df-quickchart-complete:disabled,\n",
              "  .colab-df-quickchart-complete:disabled:hover {\n",
              "    background-color: var(--disabled-bg-color);\n",
              "    fill: var(--disabled-fill-color);\n",
              "    box-shadow: none;\n",
              "  }\n",
              "\n",
              "  .colab-df-spinner {\n",
              "    border: 2px solid var(--fill-color);\n",
              "    border-color: transparent;\n",
              "    border-bottom-color: var(--fill-color);\n",
              "    animation:\n",
              "      spin 1s steps(1) infinite;\n",
              "  }\n",
              "\n",
              "  @keyframes spin {\n",
              "    0% {\n",
              "      border-color: transparent;\n",
              "      border-bottom-color: var(--fill-color);\n",
              "      border-left-color: var(--fill-color);\n",
              "    }\n",
              "    20% {\n",
              "      border-color: transparent;\n",
              "      border-left-color: var(--fill-color);\n",
              "      border-top-color: var(--fill-color);\n",
              "    }\n",
              "    30% {\n",
              "      border-color: transparent;\n",
              "      border-left-color: var(--fill-color);\n",
              "      border-top-color: var(--fill-color);\n",
              "      border-right-color: var(--fill-color);\n",
              "    }\n",
              "    40% {\n",
              "      border-color: transparent;\n",
              "      border-right-color: var(--fill-color);\n",
              "      border-top-color: var(--fill-color);\n",
              "    }\n",
              "    60% {\n",
              "      border-color: transparent;\n",
              "      border-right-color: var(--fill-color);\n",
              "    }\n",
              "    80% {\n",
              "      border-color: transparent;\n",
              "      border-right-color: var(--fill-color);\n",
              "      border-bottom-color: var(--fill-color);\n",
              "    }\n",
              "    90% {\n",
              "      border-color: transparent;\n",
              "      border-bottom-color: var(--fill-color);\n",
              "    }\n",
              "  }\n",
              "</style>\n",
              "\n",
              "  <script>\n",
              "    async function quickchart(key) {\n",
              "      const quickchartButtonEl =\n",
              "        document.querySelector('#' + key + ' button');\n",
              "      quickchartButtonEl.disabled = true;  // To prevent multiple clicks.\n",
              "      quickchartButtonEl.classList.add('colab-df-spinner');\n",
              "      try {\n",
              "        const charts = await google.colab.kernel.invokeFunction(\n",
              "            'suggestCharts', [key], {});\n",
              "      } catch (error) {\n",
              "        console.error('Error during call to suggestCharts:', error);\n",
              "      }\n",
              "      quickchartButtonEl.classList.remove('colab-df-spinner');\n",
              "      quickchartButtonEl.classList.add('colab-df-quickchart-complete');\n",
              "    }\n",
              "    (() => {\n",
              "      let quickchartButtonEl =\n",
              "        document.querySelector('#df-1b6d52b1-33da-441e-9f22-9457fbb379f4 button');\n",
              "      quickchartButtonEl.style.display =\n",
              "        google.colab.kernel.accessAllowed ? 'block' : 'none';\n",
              "    })();\n",
              "  </script>\n",
              "</div>\n",
              "\n",
              "    </div>\n",
              "  </div>\n"
            ],
            "application/vnd.google.colaboratory.intrinsic+json": {
              "type": "dataframe",
              "variable_name": "df",
              "summary": "{\n  \"name\": \"df\",\n  \"rows\": 11934,\n  \"fields\": [\n    {\n      \"column\": \"date\",\n      \"properties\": {\n        \"dtype\": \"object\",\n        \"num_unique_values\": 1034,\n        \"samples\": [\n          \"7/28/2020\",\n          \"1/3/2021\",\n          \"7/9/2021\"\n        ],\n        \"semantic_type\": \"\",\n        \"description\": \"\"\n      }\n    },\n    {\n      \"column\": \"route_id\",\n      \"properties\": {\n        \"dtype\": \"category\",\n        \"num_unique_values\": 13,\n        \"samples\": [\n          \"CR-Fairmount\",\n          \"CR-Greenbush\",\n          \"CR-Franklin\"\n        ],\n        \"semantic_type\": \"\",\n        \"description\": \"\"\n      }\n    },\n    {\n      \"column\": \"total_trips\",\n      \"properties\": {\n        \"dtype\": \"number\",\n        \"std\": 15,\n        \"min\": 1,\n        \"max\": 81,\n        \"num_unique_values\": 49,\n        \"samples\": [\n          26,\n          19,\n          27\n        ],\n        \"semantic_type\": \"\",\n        \"description\": \"\"\n      }\n    },\n    {\n      \"column\": \"early_am_trips\",\n      \"properties\": {\n        \"dtype\": \"number\",\n        \"std\": 1,\n        \"min\": 0,\n        \"max\": 7,\n        \"num_unique_values\": 8,\n        \"samples\": [\n          5,\n          0,\n          3\n        ],\n        \"semantic_type\": \"\",\n        \"description\": \"\"\n      }\n    },\n    {\n      \"column\": \"peak_am_trips\",\n      \"properties\": {\n        \"dtype\": \"number\",\n        \"std\": 3,\n        \"min\": 0,\n        \"max\": 17,\n        \"num_unique_values\": 17,\n        \"samples\": [\n          8,\n          14,\n          10\n        ],\n        \"semantic_type\": \"\",\n        \"description\": \"\"\n      }\n    },\n    {\n      \"column\": \"midday_trips\",\n      \"properties\": {\n        \"dtype\": \"number\",\n        \"std\": 4,\n        \"min\": 0,\n        \"max\": 27,\n        \"num_unique_values\": 24,\n        \"samples\": [\n          9,\n          27,\n          11\n        ],\n        \"semantic_type\": \"\",\n        \"description\": \"\"\n      }\n    },\n    {\n      \"column\": \"peak_pm_trips\",\n      \"properties\": {\n        \"dtype\": \"number\",\n        \"std\": 3,\n        \"min\": 0,\n        \"max\": 17,\n        \"num_unique_values\": 18,\n        \"samples\": [\n          9,\n          12,\n          4\n        ],\n        \"semantic_type\": \"\",\n        \"description\": \"\"\n      }\n    },\n    {\n      \"column\": \"evening_pm_trips\",\n      \"properties\": {\n        \"dtype\": \"number\",\n        \"std\": 2,\n        \"min\": 0,\n        \"max\": 11,\n        \"num_unique_values\": 12,\n        \"samples\": [\n          10,\n          1,\n          5\n        ],\n        \"semantic_type\": \"\",\n        \"description\": \"\"\n      }\n    },\n    {\n      \"column\": \"late_pm_trips\",\n      \"properties\": {\n        \"dtype\": \"number\",\n        \"std\": 1,\n        \"min\": 0,\n        \"max\": 7,\n        \"num_unique_values\": 8,\n        \"samples\": [\n          7,\n          2,\n          4\n        ],\n        \"semantic_type\": \"\",\n        \"description\": \"\"\n      }\n    },\n    {\n      \"column\": \"local_trips\",\n      \"properties\": {\n        \"dtype\": \"number\",\n        \"std\": 14,\n        \"min\": 1,\n        \"max\": 81,\n        \"num_unique_values\": 45,\n        \"samples\": [\n          25,\n          55,\n          5\n        ],\n        \"semantic_type\": \"\",\n        \"description\": \"\"\n      }\n    },\n    {\n      \"column\": \"express_trips\",\n      \"properties\": {\n        \"dtype\": \"number\",\n        \"std\": 18,\n        \"min\": 0,\n        \"max\": 70,\n        \"num_unique_values\": 39,\n        \"samples\": [\n          16,\n          17,\n          28\n        ],\n        \"semantic_type\": \"\",\n        \"description\": \"\"\n      }\n    },\n    {\n      \"column\": \"typical_trips\",\n      \"properties\": {\n        \"dtype\": \"number\",\n        \"std\": 20,\n        \"min\": 0,\n        \"max\": 81,\n        \"num_unique_values\": 44,\n        \"samples\": [\n          72,\n          33,\n          56\n        ],\n        \"semantic_type\": \"\",\n        \"description\": \"\"\n      }\n    },\n    {\n      \"column\": \"atypical_trips\",\n      \"properties\": {\n        \"dtype\": \"number\",\n        \"std\": 12,\n        \"min\": 0,\n        \"max\": 72,\n        \"num_unique_values\": 36,\n        \"samples\": [\n          1,\n          17,\n          8\n        ],\n        \"semantic_type\": \"\",\n        \"description\": \"\"\n      }\n    }\n  ]\n}"
            }
          },
          "metadata": {},
          "execution_count": 131
        }
      ]
    },
    {
      "cell_type": "code",
      "source": [
        "df.drop([\"typical_trips\", \"atypical_trips\"], axis = 1, inplace = True)"
      ],
      "metadata": {
        "id": "DOqzuGVsY5Iz"
      },
      "execution_count": 132,
      "outputs": []
    },
    {
      "cell_type": "code",
      "source": [
        "df[\"route_id\"].unique()"
      ],
      "metadata": {
        "colab": {
          "base_uri": "https://localhost:8080/"
        },
        "id": "KBEKuYF50HXG",
        "outputId": "0549ffc8-36d5-49f6-bbfc-895f9b413171"
      },
      "execution_count": 133,
      "outputs": [
        {
          "output_type": "execute_result",
          "data": {
            "text/plain": [
              "array(['CR-Franklin', 'CR-Worcester', 'CR-Providence', 'CR-Fitchburg',\n",
              "       'CR-Newburyport', 'CR-Haverhill', 'CR-Middleborough',\n",
              "       'CR-Kingston', 'CR-Lowell', 'CR-Greenbush', 'CR-Needham',\n",
              "       'CR-Fairmount', 'CR-Foxboro'], dtype=object)"
            ]
          },
          "metadata": {},
          "execution_count": 133
        }
      ]
    },
    {
      "cell_type": "code",
      "source": [
        "dfFranklin = df[df[\"route_id\"] == \"CR-Franklin\"]\n",
        "dfFranklin['date'] = pd.to_datetime(dfFranklin['date'])\n",
        "dfFranklin['day_type'] = dfFranklin['date'].dt.dayofweek.apply(lambda x: 'Weekend' if x > 4 else 'Weekday')\n",
        "df_Franklin_weekday = dfFranklin[dfFranklin['day_type'] == 'Weekday']\n",
        "df_Franklin_weekend = dfFranklin[dfFranklin['day_type'] == 'Weekend']"
      ],
      "metadata": {
        "colab": {
          "base_uri": "https://localhost:8080/"
        },
        "id": "q8ZB48mw0NT7",
        "outputId": "4d16fba3-004e-4760-a82b-6673f353636c"
      },
      "execution_count": 134,
      "outputs": [
        {
          "output_type": "stream",
          "name": "stderr",
          "text": [
            "<ipython-input-134-60e0ee16e193>:2: SettingWithCopyWarning: \n",
            "A value is trying to be set on a copy of a slice from a DataFrame.\n",
            "Try using .loc[row_indexer,col_indexer] = value instead\n",
            "\n",
            "See the caveats in the documentation: https://pandas.pydata.org/pandas-docs/stable/user_guide/indexing.html#returning-a-view-versus-a-copy\n",
            "  dfFranklin['date'] = pd.to_datetime(dfFranklin['date'])\n",
            "<ipython-input-134-60e0ee16e193>:3: SettingWithCopyWarning: \n",
            "A value is trying to be set on a copy of a slice from a DataFrame.\n",
            "Try using .loc[row_indexer,col_indexer] = value instead\n",
            "\n",
            "See the caveats in the documentation: https://pandas.pydata.org/pandas-docs/stable/user_guide/indexing.html#returning-a-view-versus-a-copy\n",
            "  dfFranklin['day_type'] = dfFranklin['date'].dt.dayofweek.apply(lambda x: 'Weekend' if x > 4 else 'Weekday')\n"
          ]
        }
      ]
    },
    {
      "cell_type": "code",
      "source": [
        "df_Franklin_weekday['year'] = pd.to_datetime(df_Franklin_weekday['date']).dt.year\n",
        "df_Franklin_weekday['month'] = pd.to_datetime(df_Franklin_weekday['date']).dt.month\n",
        "df_Franklin_weekday['day'] = pd.to_datetime(df_Franklin_weekday['date']).dt.day\n",
        "\n",
        "df_Franklin_weekday = df_Franklin_weekday.drop_duplicates(subset=['year', 'month'])\n",
        "\n",
        "df_Franklin_weekend['year'] = pd.to_datetime(df_Franklin_weekend['date']).dt.year\n",
        "df_Franklin_weekend['month'] = pd.to_datetime(df_Franklin_weekend['date']).dt.month\n",
        "df_Franklin_weekend['day'] = pd.to_datetime(df_Franklin_weekend['date']).dt.day\n",
        "\n",
        "df_Franklin_weekend = df_Franklin_weekend.drop_duplicates(subset=['year', 'month'])\n",
        "\n"
      ],
      "metadata": {
        "colab": {
          "base_uri": "https://localhost:8080/"
        },
        "id": "0UZ_JljawyPF",
        "outputId": "b89ad3d9-ce08-43bb-e3db-a675cbd16c75"
      },
      "execution_count": 135,
      "outputs": [
        {
          "output_type": "stream",
          "name": "stderr",
          "text": [
            "<ipython-input-135-b4433bf4ec90>:1: SettingWithCopyWarning: \n",
            "A value is trying to be set on a copy of a slice from a DataFrame.\n",
            "Try using .loc[row_indexer,col_indexer] = value instead\n",
            "\n",
            "See the caveats in the documentation: https://pandas.pydata.org/pandas-docs/stable/user_guide/indexing.html#returning-a-view-versus-a-copy\n",
            "  df_Franklin_weekday['year'] = pd.to_datetime(df_Franklin_weekday['date']).dt.year\n",
            "<ipython-input-135-b4433bf4ec90>:2: SettingWithCopyWarning: \n",
            "A value is trying to be set on a copy of a slice from a DataFrame.\n",
            "Try using .loc[row_indexer,col_indexer] = value instead\n",
            "\n",
            "See the caveats in the documentation: https://pandas.pydata.org/pandas-docs/stable/user_guide/indexing.html#returning-a-view-versus-a-copy\n",
            "  df_Franklin_weekday['month'] = pd.to_datetime(df_Franklin_weekday['date']).dt.month\n",
            "<ipython-input-135-b4433bf4ec90>:3: SettingWithCopyWarning: \n",
            "A value is trying to be set on a copy of a slice from a DataFrame.\n",
            "Try using .loc[row_indexer,col_indexer] = value instead\n",
            "\n",
            "See the caveats in the documentation: https://pandas.pydata.org/pandas-docs/stable/user_guide/indexing.html#returning-a-view-versus-a-copy\n",
            "  df_Franklin_weekday['day'] = pd.to_datetime(df_Franklin_weekday['date']).dt.day\n",
            "<ipython-input-135-b4433bf4ec90>:7: SettingWithCopyWarning: \n",
            "A value is trying to be set on a copy of a slice from a DataFrame.\n",
            "Try using .loc[row_indexer,col_indexer] = value instead\n",
            "\n",
            "See the caveats in the documentation: https://pandas.pydata.org/pandas-docs/stable/user_guide/indexing.html#returning-a-view-versus-a-copy\n",
            "  df_Franklin_weekend['year'] = pd.to_datetime(df_Franklin_weekend['date']).dt.year\n",
            "<ipython-input-135-b4433bf4ec90>:8: SettingWithCopyWarning: \n",
            "A value is trying to be set on a copy of a slice from a DataFrame.\n",
            "Try using .loc[row_indexer,col_indexer] = value instead\n",
            "\n",
            "See the caveats in the documentation: https://pandas.pydata.org/pandas-docs/stable/user_guide/indexing.html#returning-a-view-versus-a-copy\n",
            "  df_Franklin_weekend['month'] = pd.to_datetime(df_Franklin_weekend['date']).dt.month\n",
            "<ipython-input-135-b4433bf4ec90>:9: SettingWithCopyWarning: \n",
            "A value is trying to be set on a copy of a slice from a DataFrame.\n",
            "Try using .loc[row_indexer,col_indexer] = value instead\n",
            "\n",
            "See the caveats in the documentation: https://pandas.pydata.org/pandas-docs/stable/user_guide/indexing.html#returning-a-view-versus-a-copy\n",
            "  df_Franklin_weekend['day'] = pd.to_datetime(df_Franklin_weekend['date']).dt.day\n"
          ]
        }
      ]
    },
    {
      "cell_type": "code",
      "source": [
        "plt.figure(figsize=(12, 6))\n",
        "\n",
        "# Plot for weekdays\n",
        "plt.subplot(1, 2, 1)  # 1 row, 2 columns, first subplot\n",
        "plt.plot(df_Franklin_weekday['date'], df_Franklin_weekday['early_am_trips'], marker='o', linestyle='-', color='blue')\n",
        "plt.title('Early_am_trips on Weekdays')\n",
        "plt.xlabel('Date')\n",
        "plt.ylabel('Total Trips')\n",
        "plt.xticks(rotation=45)\n",
        "plt.tight_layout()\n",
        "\n",
        "# Plot for weekends\n",
        "plt.subplot(1, 2, 2)  # 1 row, 2 columns, second subplot\n",
        "plt.plot(df_Franklin_weekend['date'], df_Franklin_weekend['early_am_trips'], marker='o', linestyle='-', color='red')\n",
        "plt.title('Early_am_trips on Weekends')\n",
        "plt.xlabel('Date')\n",
        "plt.ylabel('Total Trips')\n",
        "plt.xticks(rotation=45)\n",
        "plt.tight_layout()\n",
        "\n",
        "plt.show()\n",
        "\n",
        "\n",
        "plt.figure(figsize=(12, 6))\n",
        "\n",
        "# Plot for weekdays\n",
        "plt.subplot(1, 2, 1)  # 1 row, 2 columns, first subplot\n",
        "plt.plot(df_Franklin_weekday['date'], df_Franklin_weekday['peak_am_trips'], marker='o', linestyle='-', color='blue')\n",
        "plt.title('Early_am_trips on Weekdays')\n",
        "plt.xlabel('Date')\n",
        "plt.ylabel('Total Trips')\n",
        "plt.xticks(rotation=45)\n",
        "plt.tight_layout()\n",
        "\n",
        "# Plot for weekends\n",
        "plt.subplot(1, 2, 2)  # 1 row, 2 columns, second subplot\n",
        "plt.plot(df_Franklin_weekend['date'], df_Franklin_weekend['peak_am_trips'], marker='o', linestyle='-', color='red')\n",
        "plt.title('Early_am_trips on Weekends')\n",
        "plt.xlabel('Date')\n",
        "plt.ylabel('Total Trips')\n",
        "plt.xticks(rotation=45)\n",
        "plt.tight_layout()\n",
        "\n",
        "plt.show()\n",
        "\n",
        "plt.figure(figsize=(12, 6))\n",
        "\n",
        "# Plot for weekdays\n",
        "plt.subplot(1, 2, 1)  # 1 row, 2 columns, first subplot\n",
        "plt.plot(df_Franklin_weekday['date'], df_Franklin_weekday['midday_trips'], marker='o', linestyle='-', color='blue')\n",
        "plt.title('Early_am_trips on Weekdays')\n",
        "plt.xlabel('Date')\n",
        "plt.ylabel('Total Trips')\n",
        "plt.xticks(rotation=45)\n",
        "plt.tight_layout()\n",
        "\n",
        "# Plot for weekends\n",
        "plt.subplot(1, 2, 2)  # 1 row, 2 columns, second subplot\n",
        "plt.plot(df_Franklin_weekend['date'], df_Franklin_weekend['midday_trips'], marker='o', linestyle='-', color='red')\n",
        "plt.title('Early_am_trips on Weekends')\n",
        "plt.xlabel('Date')\n",
        "plt.ylabel('Total Trips')\n",
        "plt.xticks(rotation=45)\n",
        "plt.tight_layout()\n",
        "\n",
        "plt.show()"
      ],
      "metadata": {
        "colab": {
          "base_uri": "https://localhost:8080/",
          "height": 1000
        },
        "id": "0FeoDcJwYxNb",
        "outputId": "56754433-1910-41dc-82af-0da597fa9dcc"
      },
      "execution_count": 136,
      "outputs": [
        {
          "output_type": "display_data",
          "data": {
            "text/plain": [
              "<Figure size 1200x600 with 2 Axes>"
            ],
            "image/png": "[encoded data removed]"
          },
          "metadata": {}
        },
        {
          "output_type": "display_data",
          "data": {
            "text/plain": [
              "<Figure size 1200x600 with 2 Axes>"
            ],
            "image/png": "[encoded data removed]"
          },
          "metadata": {}
        },
        {
          "output_type": "display_data",
          "data": {
            "text/plain": [
              "<Figure size 1200x600 with 2 Axes>"
            ],
            "image/png": "[encoded data removed]"
          },
          "metadata": {}
        }
      ]
    },
    {
      "cell_type": "code",
      "source": [
        "csv_file_path = 'Franklin_weekend.csv'\n",
        "df_Franklin_weekend.to_csv(csv_file_path, index=False)\n",
        "files.download(csv_file_path)"
      ],
      "metadata": {
        "colab": {
          "base_uri": "https://localhost:8080/",
          "height": 17
        },
        "id": "9Dl8dc35xLL5",
        "outputId": "d40466cb-f0cd-48f3-b3ed-0ad8dd028a8b"
      },
      "execution_count": 138,
      "outputs": [
        {
          "output_type": "display_data",
          "data": {
            "text/plain": [
              "<IPython.core.display.Javascript object>"
            ],
            "application/javascript": [
              "\n",
              "    async function download(id, filename, size) {\n",
              "      if (!google.colab.kernel.accessAllowed) {\n",
              "        return;\n",
              "      }\n",
              "      const div = document.createElement('div');\n",
              "      const label = document.createElement('label');\n",
              "      label.textContent = `Downloading \"${filename}\": `;\n",
              "      div.appendChild(label);\n",
              "      const progress = document.createElement('progress');\n",
              "      progress.max = size;\n",
              "      div.appendChild(progress);\n",
              "      document.body.appendChild(div);\n",
              "\n",
              "      const buffers = [];\n",
              "      let downloaded = 0;\n",
              "\n",
              "      const channel = await google.colab.kernel.comms.open(id);\n",
              "      // Send a message to notify the kernel that we're ready.\n",
              "      channel.send({})\n",
              "\n",
              "      for await (const message of channel.messages) {\n",
              "        // Send a message to notify the kernel that we're ready.\n",
              "        channel.send({})\n",
              "        if (message.buffers) {\n",
              "          for (const buffer of message.buffers) {\n",
              "            buffers.push(buffer);\n",
              "            downloaded += buffer.byteLength;\n",
              "            progress.value = downloaded;\n",
              "          }\n",
              "        }\n",
              "      }\n",
              "      const blob = new Blob(buffers, {type: 'application/binary'});\n",
              "      const a = document.createElement('a');\n",
              "      a.href = window.URL.createObjectURL(blob);\n",
              "      a.download = filename;\n",
              "      div.appendChild(a);\n",
              "      a.click();\n",
              "      div.remove();\n",
              "    }\n",
              "  "
            ]
          },
          "metadata": {}
        },
        {
          "output_type": "display_data",
          "data": {
            "text/plain": [
              "<IPython.core.display.Javascript object>"
            ],
            "application/javascript": [
              "download(\"download_f6ddc156-8297-4da4-838f-0a7747492d27\", \"Franklin_weekend.csv\", 1672)"
            ]
          },
          "metadata": {}
        }
      ]
    },
    {
      "cell_type": "code",
      "source": [
        "csv_file_path = 'Franklin_weekday.csv'\n",
        "df_Franklin_weekday.to_csv(csv_file_path, index=False)\n",
        "files.download(csv_file_path)"
      ],
      "metadata": {
        "colab": {
          "base_uri": "https://localhost:8080/",
          "height": 17
        },
        "id": "7y3xz5qHkO07",
        "outputId": "1c003a8b-f05b-46ce-e922-32b9a92a73a9"
      },
      "execution_count": 139,
      "outputs": [
        {
          "output_type": "display_data",
          "data": {
            "text/plain": [
              "<IPython.core.display.Javascript object>"
            ],
            "application/javascript": [
              "\n",
              "    async function download(id, filename, size) {\n",
              "      if (!google.colab.kernel.accessAllowed) {\n",
              "        return;\n",
              "      }\n",
              "      const div = document.createElement('div');\n",
              "      const label = document.createElement('label');\n",
              "      label.textContent = `Downloading \"${filename}\": `;\n",
              "      div.appendChild(label);\n",
              "      const progress = document.createElement('progress');\n",
              "      progress.max = size;\n",
              "      div.appendChild(progress);\n",
              "      document.body.appendChild(div);\n",
              "\n",
              "      const buffers = [];\n",
              "      let downloaded = 0;\n",
              "\n",
              "      const channel = await google.colab.kernel.comms.open(id);\n",
              "      // Send a message to notify the kernel that we're ready.\n",
              "      channel.send({})\n",
              "\n",
              "      for await (const message of channel.messages) {\n",
              "        // Send a message to notify the kernel that we're ready.\n",
              "        channel.send({})\n",
              "        if (message.buffers) {\n",
              "          for (const buffer of message.buffers) {\n",
              "            buffers.push(buffer);\n",
              "            downloaded += buffer.byteLength;\n",
              "            progress.value = downloaded;\n",
              "          }\n",
              "        }\n",
              "      }\n",
              "      const blob = new Blob(buffers, {type: 'application/binary'});\n",
              "      const a = document.createElement('a');\n",
              "      a.href = window.URL.createObjectURL(blob);\n",
              "      a.download = filename;\n",
              "      div.appendChild(a);\n",
              "      a.click();\n",
              "      div.remove();\n",
              "    }\n",
              "  "
            ]
          },
          "metadata": {}
        },
        {
          "output_type": "display_data",
          "data": {
            "text/plain": [
              "<IPython.core.display.Javascript object>"
            ],
            "application/javascript": [
              "download(\"download_7756861d-fd04-43b8-97da-638ba5104150\", \"Franklin_weekday.csv\", 2311)"
            ]
          },
          "metadata": {}
        }
      ]
    },
    {
      "cell_type": "code",
      "source": [
        "dfWorcester = df[df[\"route_id\"] == \"CR-Worcester\"]\n",
        "dfWorcester['date'] = pd.to_datetime(dfWorcester['date'])\n",
        "dfWorcester['day_type'] = dfWorcester['date'].dt.dayofweek.apply(lambda x: 'Weekend' if x > 4 else 'Weekday')\n",
        "df_Worcester_weekday = dfWorcester[dfWorcester['day_type'] == 'Weekday']\n",
        "df_Worcester_weekend = dfWorcester[dfWorcester['day_type'] == 'Weekend']"
      ],
      "metadata": {
        "colab": {
          "base_uri": "https://localhost:8080/"
        },
        "id": "Lrwuk1R51fgj",
        "outputId": "2e9c813b-83ac-49b5-d38c-2a9d52e686be"
      },
      "execution_count": 142,
      "outputs": [
        {
          "output_type": "stream",
          "name": "stderr",
          "text": [
            "<ipython-input-142-af88b6907fd8>:2: SettingWithCopyWarning: \n",
            "A value is trying to be set on a copy of a slice from a DataFrame.\n",
            "Try using .loc[row_indexer,col_indexer] = value instead\n",
            "\n",
            "See the caveats in the documentation: https://pandas.pydata.org/pandas-docs/stable/user_guide/indexing.html#returning-a-view-versus-a-copy\n",
            "  dfWorcester['date'] = pd.to_datetime(dfWorcester['date'])\n",
            "<ipython-input-142-af88b6907fd8>:3: SettingWithCopyWarning: \n",
            "A value is trying to be set on a copy of a slice from a DataFrame.\n",
            "Try using .loc[row_indexer,col_indexer] = value instead\n",
            "\n",
            "See the caveats in the documentation: https://pandas.pydata.org/pandas-docs/stable/user_guide/indexing.html#returning-a-view-versus-a-copy\n",
            "  dfWorcester['day_type'] = dfWorcester['date'].dt.dayofweek.apply(lambda x: 'Weekend' if x > 4 else 'Weekday')\n"
          ]
        }
      ]
    },
    {
      "cell_type": "code",
      "source": [
        "df_Worcester_weekday['year'] = pd.to_datetime(df_Worcester_weekday['date']).dt.year\n",
        "df_Worcester_weekday['month'] = pd.to_datetime(df_Worcester_weekday['date']).dt.month\n",
        "df_Worcester_weekday['day'] = pd.to_datetime(df_Worcester_weekday['date']).dt.day\n",
        "\n",
        "df_Worcester_weekday = df_Worcester_weekday.drop_duplicates(subset=['year', 'month'])\n",
        "\n",
        "df_Worcester_weekend['year'] = pd.to_datetime(df_Worcester_weekend['date']).dt.year\n",
        "df_Worcester_weekend['month'] = pd.to_datetime(df_Worcester_weekend['date']).dt.month\n",
        "df_Worcester_weekend['day'] = pd.to_datetime(df_Worcester_weekend['date']).dt.day\n",
        "\n",
        "df_Worcester_weekend = df_Worcester_weekend.drop_duplicates(subset=['year', 'month'])\n",
        "\n"
      ],
      "metadata": {
        "colab": {
          "base_uri": "https://localhost:8080/"
        },
        "id": "NRG8VG_M12TH",
        "outputId": "b1724a07-7918-4589-f16d-22c4c32b67f4"
      },
      "execution_count": 143,
      "outputs": [
        {
          "output_type": "stream",
          "name": "stderr",
          "text": [
            "<ipython-input-143-4f7cd7bda693>:1: SettingWithCopyWarning: \n",
            "A value is trying to be set on a copy of a slice from a DataFrame.\n",
            "Try using .loc[row_indexer,col_indexer] = value instead\n",
            "\n",
            "See the caveats in the documentation: https://pandas.pydata.org/pandas-docs/stable/user_guide/indexing.html#returning-a-view-versus-a-copy\n",
            "  df_Worcester_weekday['year'] = pd.to_datetime(df_Worcester_weekday['date']).dt.year\n",
            "<ipython-input-143-4f7cd7bda693>:2: SettingWithCopyWarning: \n",
            "A value is trying to be set on a copy of a slice from a DataFrame.\n",
            "Try using .loc[row_indexer,col_indexer] = value instead\n",
            "\n",
            "See the caveats in the documentation: https://pandas.pydata.org/pandas-docs/stable/user_guide/indexing.html#returning-a-view-versus-a-copy\n",
            "  df_Worcester_weekday['month'] = pd.to_datetime(df_Worcester_weekday['date']).dt.month\n",
            "<ipython-input-143-4f7cd7bda693>:3: SettingWithCopyWarning: \n",
            "A value is trying to be set on a copy of a slice from a DataFrame.\n",
            "Try using .loc[row_indexer,col_indexer] = value instead\n",
            "\n",
            "See the caveats in the documentation: https://pandas.pydata.org/pandas-docs/stable/user_guide/indexing.html#returning-a-view-versus-a-copy\n",
            "  df_Worcester_weekday['day'] = pd.to_datetime(df_Worcester_weekday['date']).dt.day\n",
            "<ipython-input-143-4f7cd7bda693>:7: SettingWithCopyWarning: \n",
            "A value is trying to be set on a copy of a slice from a DataFrame.\n",
            "Try using .loc[row_indexer,col_indexer] = value instead\n",
            "\n",
            "See the caveats in the documentation: https://pandas.pydata.org/pandas-docs/stable/user_guide/indexing.html#returning-a-view-versus-a-copy\n",
            "  df_Worcester_weekend['year'] = pd.to_datetime(df_Worcester_weekend['date']).dt.year\n",
            "<ipython-input-143-4f7cd7bda693>:8: SettingWithCopyWarning: \n",
            "A value is trying to be set on a copy of a slice from a DataFrame.\n",
            "Try using .loc[row_indexer,col_indexer] = value instead\n",
            "\n",
            "See the caveats in the documentation: https://pandas.pydata.org/pandas-docs/stable/user_guide/indexing.html#returning-a-view-versus-a-copy\n",
            "  df_Worcester_weekend['month'] = pd.to_datetime(df_Worcester_weekend['date']).dt.month\n",
            "<ipython-input-143-4f7cd7bda693>:9: SettingWithCopyWarning: \n",
            "A value is trying to be set on a copy of a slice from a DataFrame.\n",
            "Try using .loc[row_indexer,col_indexer] = value instead\n",
            "\n",
            "See the caveats in the documentation: https://pandas.pydata.org/pandas-docs/stable/user_guide/indexing.html#returning-a-view-versus-a-copy\n",
            "  df_Worcester_weekend['day'] = pd.to_datetime(df_Worcester_weekend['date']).dt.day\n"
          ]
        }
      ]
    },
    {
      "cell_type": "code",
      "source": [
        "csv_file_path = 'Worcester_weekend.csv'\n",
        "df_Worcester_weekend.to_csv(csv_file_path, index=False)\n",
        "files.download(csv_file_path)\n",
        "\n",
        "csv_file_path = 'Worcester_weekday.csv'\n",
        "df_Worcester_weekday.to_csv(csv_file_path, index=False)\n",
        "files.download(csv_file_path)"
      ],
      "metadata": {
        "colab": {
          "base_uri": "https://localhost:8080/",
          "height": 17
        },
        "id": "kTruaOa52C-c",
        "outputId": "7255060c-99a7-4462-a144-7d8b6caa2d70"
      },
      "execution_count": 144,
      "outputs": [
        {
          "output_type": "display_data",
          "data": {
            "text/plain": [
              "<IPython.core.display.Javascript object>"
            ],
            "application/javascript": [
              "\n",
              "    async function download(id, filename, size) {\n",
              "      if (!google.colab.kernel.accessAllowed) {\n",
              "        return;\n",
              "      }\n",
              "      const div = document.createElement('div');\n",
              "      const label = document.createElement('label');\n",
              "      label.textContent = `Downloading \"${filename}\": `;\n",
              "      div.appendChild(label);\n",
              "      const progress = document.createElement('progress');\n",
              "      progress.max = size;\n",
              "      div.appendChild(progress);\n",
              "      document.body.appendChild(div);\n",
              "\n",
              "      const buffers = [];\n",
              "      let downloaded = 0;\n",
              "\n",
              "      const channel = await google.colab.kernel.comms.open(id);\n",
              "      // Send a message to notify the kernel that we're ready.\n",
              "      channel.send({})\n",
              "\n",
              "      for await (const message of channel.messages) {\n",
              "        // Send a message to notify the kernel that we're ready.\n",
              "        channel.send({})\n",
              "        if (message.buffers) {\n",
              "          for (const buffer of message.buffers) {\n",
              "            buffers.push(buffer);\n",
              "            downloaded += buffer.byteLength;\n",
              "            progress.value = downloaded;\n",
              "          }\n",
              "        }\n",
              "      }\n",
              "      const blob = new Blob(buffers, {type: 'application/binary'});\n",
              "      const a = document.createElement('a');\n",
              "      a.href = window.URL.createObjectURL(blob);\n",
              "      a.download = filename;\n",
              "      div.appendChild(a);\n",
              "      a.click();\n",
              "      div.remove();\n",
              "    }\n",
              "  "
            ]
          },
          "metadata": {}
        },
        {
          "output_type": "display_data",
          "data": {
            "text/plain": [
              "<IPython.core.display.Javascript object>"
            ],
            "application/javascript": [
              "download(\"download_a3dfcad9-81ba-4528-9fa7-0d42d2a476d4\", \"Worcester_weekend.csv\", 2307)"
            ]
          },
          "metadata": {}
        },
        {
          "output_type": "display_data",
          "data": {
            "text/plain": [
              "<IPython.core.display.Javascript object>"
            ],
            "application/javascript": [
              "\n",
              "    async function download(id, filename, size) {\n",
              "      if (!google.colab.kernel.accessAllowed) {\n",
              "        return;\n",
              "      }\n",
              "      const div = document.createElement('div');\n",
              "      const label = document.createElement('label');\n",
              "      label.textContent = `Downloading \"${filename}\": `;\n",
              "      div.appendChild(label);\n",
              "      const progress = document.createElement('progress');\n",
              "      progress.max = size;\n",
              "      div.appendChild(progress);\n",
              "      document.body.appendChild(div);\n",
              "\n",
              "      const buffers = [];\n",
              "      let downloaded = 0;\n",
              "\n",
              "      const channel = await google.colab.kernel.comms.open(id);\n",
              "      // Send a message to notify the kernel that we're ready.\n",
              "      channel.send({})\n",
              "\n",
              "      for await (const message of channel.messages) {\n",
              "        // Send a message to notify the kernel that we're ready.\n",
              "        channel.send({})\n",
              "        if (message.buffers) {\n",
              "          for (const buffer of message.buffers) {\n",
              "            buffers.push(buffer);\n",
              "            downloaded += buffer.byteLength;\n",
              "            progress.value = downloaded;\n",
              "          }\n",
              "        }\n",
              "      }\n",
              "      const blob = new Blob(buffers, {type: 'application/binary'});\n",
              "      const a = document.createElement('a');\n",
              "      a.href = window.URL.createObjectURL(blob);\n",
              "      a.download = filename;\n",
              "      div.appendChild(a);\n",
              "      a.click();\n",
              "      div.remove();\n",
              "    }\n",
              "  "
            ]
          },
          "metadata": {}
        },
        {
          "output_type": "display_data",
          "data": {
            "text/plain": [
              "<IPython.core.display.Javascript object>"
            ],
            "application/javascript": [
              "download(\"download_f570de9a-9f43-4cd1-a5f3-62a28b94846b\", \"Worcester_weekday.csv\", 2386)"
            ]
          },
          "metadata": {}
        }
      ]
    },
    {
      "cell_type": "code",
      "source": [
        "dfProvidence = df[df[\"route_id\"] == \"CR-Providence\"]\n",
        "dfProvidence['date'] = pd.to_datetime(dfProvidence['date'])\n",
        "dfProvidence['day_type'] = dfProvidence['date'].dt.dayofweek.apply(lambda x: 'Weekend' if x > 4 else 'Weekday')\n",
        "df_Providence_weekday = dfProvidence[dfProvidence['day_type'] == 'Weekday']\n",
        "df_Providence_weekend = dfProvidence[dfProvidence['day_type'] == 'Weekend']\n",
        "\n",
        "\n",
        "\n",
        "df_Providence_weekday['year'] = pd.to_datetime(df_Providence_weekday['date']).dt.year\n",
        "df_Providence_weekday['month'] = pd.to_datetime(df_Providence_weekday['date']).dt.month\n",
        "df_Providence_weekday['day'] = pd.to_datetime(df_Providence_weekday['date']).dt.day\n",
        "\n",
        "df_Providence_weekday = df_Providence_weekday.drop_duplicates(subset=['year', 'month'])\n",
        "\n",
        "df_Providence_weekend['year'] = pd.to_datetime(df_Providence_weekend['date']).dt.year\n",
        "df_Providence_weekend['month'] = pd.to_datetime(df_Providence_weekend['date']).dt.month\n",
        "df_Providence_weekend['day'] = pd.to_datetime(df_Providence_weekend['date']).dt.day\n",
        "\n",
        "df_Providence_weekend = df_Providence_weekend.drop_duplicates(subset=['year', 'month'])\n",
        "\n",
        "\n",
        "\n",
        "csv_file_path = 'Providence_weekend.csv'\n",
        "df_Providence_weekend.to_csv(csv_file_path, index=False)\n",
        "files.download(csv_file_path)\n",
        "\n",
        "csv_file_path = 'Providence_weekday.csv'\n",
        "df_Providence_weekday.to_csv(csv_file_path, index=False)\n",
        "files.download(csv_file_path)\n",
        "\n"
      ],
      "metadata": {
        "colab": {
          "base_uri": "https://localhost:8080/",
          "height": 894
        },
        "id": "Wn00DX6_2NxX",
        "outputId": "08402bab-1378-4f99-caf6-3dbb867b9f12"
      },
      "execution_count": 145,
      "outputs": [
        {
          "output_type": "stream",
          "name": "stderr",
          "text": [
            "<ipython-input-145-5463c069c1f4>:2: SettingWithCopyWarning: \n",
            "A value is trying to be set on a copy of a slice from a DataFrame.\n",
            "Try using .loc[row_indexer,col_indexer] = value instead\n",
            "\n",
            "See the caveats in the documentation: https://pandas.pydata.org/pandas-docs/stable/user_guide/indexing.html#returning-a-view-versus-a-copy\n",
            "  dfProvidence['date'] = pd.to_datetime(dfProvidence['date'])\n",
            "<ipython-input-145-5463c069c1f4>:3: SettingWithCopyWarning: \n",
            "A value is trying to be set on a copy of a slice from a DataFrame.\n",
            "Try using .loc[row_indexer,col_indexer] = value instead\n",
            "\n",
            "See the caveats in the documentation: https://pandas.pydata.org/pandas-docs/stable/user_guide/indexing.html#returning-a-view-versus-a-copy\n",
            "  dfProvidence['day_type'] = dfProvidence['date'].dt.dayofweek.apply(lambda x: 'Weekend' if x > 4 else 'Weekday')\n",
            "<ipython-input-145-5463c069c1f4>:9: SettingWithCopyWarning: \n",
            "A value is trying to be set on a copy of a slice from a DataFrame.\n",
            "Try using .loc[row_indexer,col_indexer] = value instead\n",
            "\n",
            "See the caveats in the documentation: https://pandas.pydata.org/pandas-docs/stable/user_guide/indexing.html#returning-a-view-versus-a-copy\n",
            "  df_Providence_weekday['year'] = pd.to_datetime(df_Providence_weekday['date']).dt.year\n",
            "<ipython-input-145-5463c069c1f4>:10: SettingWithCopyWarning: \n",
            "A value is trying to be set on a copy of a slice from a DataFrame.\n",
            "Try using .loc[row_indexer,col_indexer] = value instead\n",
            "\n",
            "See the caveats in the documentation: https://pandas.pydata.org/pandas-docs/stable/user_guide/indexing.html#returning-a-view-versus-a-copy\n",
            "  df_Providence_weekday['month'] = pd.to_datetime(df_Providence_weekday['date']).dt.month\n",
            "<ipython-input-145-5463c069c1f4>:11: SettingWithCopyWarning: \n",
            "A value is trying to be set on a copy of a slice from a DataFrame.\n",
            "Try using .loc[row_indexer,col_indexer] = value instead\n",
            "\n",
            "See the caveats in the documentation: https://pandas.pydata.org/pandas-docs/stable/user_guide/indexing.html#returning-a-view-versus-a-copy\n",
            "  df_Providence_weekday['day'] = pd.to_datetime(df_Providence_weekday['date']).dt.day\n",
            "<ipython-input-145-5463c069c1f4>:15: SettingWithCopyWarning: \n",
            "A value is trying to be set on a copy of a slice from a DataFrame.\n",
            "Try using .loc[row_indexer,col_indexer] = value instead\n",
            "\n",
            "See the caveats in the documentation: https://pandas.pydata.org/pandas-docs/stable/user_guide/indexing.html#returning-a-view-versus-a-copy\n",
            "  df_Providence_weekend['year'] = pd.to_datetime(df_Providence_weekend['date']).dt.year\n",
            "<ipython-input-145-5463c069c1f4>:16: SettingWithCopyWarning: \n",
            "A value is trying to be set on a copy of a slice from a DataFrame.\n",
            "Try using .loc[row_indexer,col_indexer] = value instead\n",
            "\n",
            "See the caveats in the documentation: https://pandas.pydata.org/pandas-docs/stable/user_guide/indexing.html#returning-a-view-versus-a-copy\n",
            "  df_Providence_weekend['month'] = pd.to_datetime(df_Providence_weekend['date']).dt.month\n",
            "<ipython-input-145-5463c069c1f4>:17: SettingWithCopyWarning: \n",
            "A value is trying to be set on a copy of a slice from a DataFrame.\n",
            "Try using .loc[row_indexer,col_indexer] = value instead\n",
            "\n",
            "See the caveats in the documentation: https://pandas.pydata.org/pandas-docs/stable/user_guide/indexing.html#returning-a-view-versus-a-copy\n",
            "  df_Providence_weekend['day'] = pd.to_datetime(df_Providence_weekend['date']).dt.day\n"
          ]
        },
        {
          "output_type": "display_data",
          "data": {
            "text/plain": [
              "<IPython.core.display.Javascript object>"
            ],
            "application/javascript": [
              "\n",
              "    async function download(id, filename, size) {\n",
              "      if (!google.colab.kernel.accessAllowed) {\n",
              "        return;\n",
              "      }\n",
              "      const div = document.createElement('div');\n",
              "      const label = document.createElement('label');\n",
              "      label.textContent = `Downloading \"${filename}\": `;\n",
              "      div.appendChild(label);\n",
              "      const progress = document.createElement('progress');\n",
              "      progress.max = size;\n",
              "      div.appendChild(progress);\n",
              "      document.body.appendChild(div);\n",
              "\n",
              "      const buffers = [];\n",
              "      let downloaded = 0;\n",
              "\n",
              "      const channel = await google.colab.kernel.comms.open(id);\n",
              "      // Send a message to notify the kernel that we're ready.\n",
              "      channel.send({})\n",
              "\n",
              "      for await (const message of channel.messages) {\n",
              "        // Send a message to notify the kernel that we're ready.\n",
              "        channel.send({})\n",
              "        if (message.buffers) {\n",
              "          for (const buffer of message.buffers) {\n",
              "            buffers.push(buffer);\n",
              "            downloaded += buffer.byteLength;\n",
              "            progress.value = downloaded;\n",
              "          }\n",
              "        }\n",
              "      }\n",
              "      const blob = new Blob(buffers, {type: 'application/binary'});\n",
              "      const a = document.createElement('a');\n",
              "      a.href = window.URL.createObjectURL(blob);\n",
              "      a.download = filename;\n",
              "      div.appendChild(a);\n",
              "      a.click();\n",
              "      div.remove();\n",
              "    }\n",
              "  "
            ]
          },
          "metadata": {}
        },
        {
          "output_type": "display_data",
          "data": {
            "text/plain": [
              "<IPython.core.display.Javascript object>"
            ],
            "application/javascript": [
              "download(\"download_10026cbe-6c02-4e32-896b-5c192c76120d\", \"Providence_weekend.csv\", 2342)"
            ]
          },
          "metadata": {}
        },
        {
          "output_type": "display_data",
          "data": {
            "text/plain": [
              "<IPython.core.display.Javascript object>"
            ],
            "application/javascript": [
              "\n",
              "    async function download(id, filename, size) {\n",
              "      if (!google.colab.kernel.accessAllowed) {\n",
              "        return;\n",
              "      }\n",
              "      const div = document.createElement('div');\n",
              "      const label = document.createElement('label');\n",
              "      label.textContent = `Downloading \"${filename}\": `;\n",
              "      div.appendChild(label);\n",
              "      const progress = document.createElement('progress');\n",
              "      progress.max = size;\n",
              "      div.appendChild(progress);\n",
              "      document.body.appendChild(div);\n",
              "\n",
              "      const buffers = [];\n",
              "      let downloaded = 0;\n",
              "\n",
              "      const channel = await google.colab.kernel.comms.open(id);\n",
              "      // Send a message to notify the kernel that we're ready.\n",
              "      channel.send({})\n",
              "\n",
              "      for await (const message of channel.messages) {\n",
              "        // Send a message to notify the kernel that we're ready.\n",
              "        channel.send({})\n",
              "        if (message.buffers) {\n",
              "          for (const buffer of message.buffers) {\n",
              "            buffers.push(buffer);\n",
              "            downloaded += buffer.byteLength;\n",
              "            progress.value = downloaded;\n",
              "          }\n",
              "        }\n",
              "      }\n",
              "      const blob = new Blob(buffers, {type: 'application/binary'});\n",
              "      const a = document.createElement('a');\n",
              "      a.href = window.URL.createObjectURL(blob);\n",
              "      a.download = filename;\n",
              "      div.appendChild(a);\n",
              "      a.click();\n",
              "      div.remove();\n",
              "    }\n",
              "  "
            ]
          },
          "metadata": {}
        },
        {
          "output_type": "display_data",
          "data": {
            "text/plain": [
              "<IPython.core.display.Javascript object>"
            ],
            "application/javascript": [
              "download(\"download_0cc83e7d-a330-4d4b-82ff-75128a975f1f\", \"Providence_weekday.csv\", 2444)"
            ]
          },
          "metadata": {}
        }
      ]
    },
    {
      "cell_type": "code",
      "source": [
        "dfFitchburg = df[df[\"route_id\"] == \"CR-Fitchburg\"]\n",
        "dfFitchburg['date'] = pd.to_datetime(dfFitchburg['date'])\n",
        "dfFitchburg['day_type'] = dfFitchburg['date'].dt.dayofweek.apply(lambda x: 'Weekend' if x > 4 else 'Weekday')\n",
        "df_Fitchburg_weekday = dfFitchburg[dfFitchburg['day_type'] == 'Weekday']\n",
        "df_Fitchburg_weekend = dfFitchburg[dfFitchburg['day_type'] == 'Weekend']\n",
        "\n",
        "\n",
        "\n",
        "df_Fitchburg_weekday['year'] = pd.to_datetime(df_Fitchburg_weekday['date']).dt.year\n",
        "df_Fitchburg_weekday['month'] = pd.to_datetime(df_Fitchburg_weekday['date']).dt.month\n",
        "df_Fitchburg_weekday['day'] = pd.to_datetime(df_Fitchburg_weekday['date']).dt.day\n",
        "\n",
        "df_Fitchburg_weekday = df_Fitchburg_weekday.drop_duplicates(subset=['year', 'month'])\n",
        "\n",
        "df_Fitchburg_weekend['year'] = pd.to_datetime(df_Fitchburg_weekend['date']).dt.year\n",
        "df_Fitchburg_weekend['month'] = pd.to_datetime(df_Fitchburg_weekend['date']).dt.month\n",
        "df_Fitchburg_weekend['day'] = pd.to_datetime(df_Fitchburg_weekend['date']).dt.day\n",
        "\n",
        "df_Fitchburg_weekend = df_Fitchburg_weekend.drop_duplicates(subset=['year', 'month'])\n",
        "\n",
        "\n",
        "\n",
        "csv_file_path = 'Fitchburg_weekend.csv'\n",
        "df_Fitchburg_weekend.to_csv(csv_file_path, index=False)\n",
        "files.download(csv_file_path)\n",
        "\n",
        "csv_file_path = 'Fitchburg_weekday.csv'\n",
        "df_Fitchburg_weekday.to_csv(csv_file_path, index=False)\n",
        "files.download(csv_file_path)\n",
        "\n"
      ],
      "metadata": {
        "colab": {
          "base_uri": "https://localhost:8080/",
          "height": 894
        },
        "id": "qkmF1mA92jxh",
        "outputId": "3b9cfb36-ec24-4274-9991-06ac7f56de1c"
      },
      "execution_count": 146,
      "outputs": [
        {
          "output_type": "stream",
          "name": "stderr",
          "text": [
            "<ipython-input-146-0f9a82909f9c>:2: SettingWithCopyWarning: \n",
            "A value is trying to be set on a copy of a slice from a DataFrame.\n",
            "Try using .loc[row_indexer,col_indexer] = value instead\n",
            "\n",
            "See the caveats in the documentation: https://pandas.pydata.org/pandas-docs/stable/user_guide/indexing.html#returning-a-view-versus-a-copy\n",
            "  dfFitchburg['date'] = pd.to_datetime(dfFitchburg['date'])\n",
            "<ipython-input-146-0f9a82909f9c>:3: SettingWithCopyWarning: \n",
            "A value is trying to be set on a copy of a slice from a DataFrame.\n",
            "Try using .loc[row_indexer,col_indexer] = value instead\n",
            "\n",
            "See the caveats in the documentation: https://pandas.pydata.org/pandas-docs/stable/user_guide/indexing.html#returning-a-view-versus-a-copy\n",
            "  dfFitchburg['day_type'] = dfFitchburg['date'].dt.dayofweek.apply(lambda x: 'Weekend' if x > 4 else 'Weekday')\n",
            "<ipython-input-146-0f9a82909f9c>:9: SettingWithCopyWarning: \n",
            "A value is trying to be set on a copy of a slice from a DataFrame.\n",
            "Try using .loc[row_indexer,col_indexer] = value instead\n",
            "\n",
            "See the caveats in the documentation: https://pandas.pydata.org/pandas-docs/stable/user_guide/indexing.html#returning-a-view-versus-a-copy\n",
            "  df_Fitchburg_weekday['year'] = pd.to_datetime(df_Fitchburg_weekday['date']).dt.year\n",
            "<ipython-input-146-0f9a82909f9c>:10: SettingWithCopyWarning: \n",
            "A value is trying to be set on a copy of a slice from a DataFrame.\n",
            "Try using .loc[row_indexer,col_indexer] = value instead\n",
            "\n",
            "See the caveats in the documentation: https://pandas.pydata.org/pandas-docs/stable/user_guide/indexing.html#returning-a-view-versus-a-copy\n",
            "  df_Fitchburg_weekday['month'] = pd.to_datetime(df_Fitchburg_weekday['date']).dt.month\n",
            "<ipython-input-146-0f9a82909f9c>:11: SettingWithCopyWarning: \n",
            "A value is trying to be set on a copy of a slice from a DataFrame.\n",
            "Try using .loc[row_indexer,col_indexer] = value instead\n",
            "\n",
            "See the caveats in the documentation: https://pandas.pydata.org/pandas-docs/stable/user_guide/indexing.html#returning-a-view-versus-a-copy\n",
            "  df_Fitchburg_weekday['day'] = pd.to_datetime(df_Fitchburg_weekday['date']).dt.day\n",
            "<ipython-input-146-0f9a82909f9c>:15: SettingWithCopyWarning: \n",
            "A value is trying to be set on a copy of a slice from a DataFrame.\n",
            "Try using .loc[row_indexer,col_indexer] = value instead\n",
            "\n",
            "See the caveats in the documentation: https://pandas.pydata.org/pandas-docs/stable/user_guide/indexing.html#returning-a-view-versus-a-copy\n",
            "  df_Fitchburg_weekend['year'] = pd.to_datetime(df_Fitchburg_weekend['date']).dt.year\n",
            "<ipython-input-146-0f9a82909f9c>:16: SettingWithCopyWarning: \n",
            "A value is trying to be set on a copy of a slice from a DataFrame.\n",
            "Try using .loc[row_indexer,col_indexer] = value instead\n",
            "\n",
            "See the caveats in the documentation: https://pandas.pydata.org/pandas-docs/stable/user_guide/indexing.html#returning-a-view-versus-a-copy\n",
            "  df_Fitchburg_weekend['month'] = pd.to_datetime(df_Fitchburg_weekend['date']).dt.month\n",
            "<ipython-input-146-0f9a82909f9c>:17: SettingWithCopyWarning: \n",
            "A value is trying to be set on a copy of a slice from a DataFrame.\n",
            "Try using .loc[row_indexer,col_indexer] = value instead\n",
            "\n",
            "See the caveats in the documentation: https://pandas.pydata.org/pandas-docs/stable/user_guide/indexing.html#returning-a-view-versus-a-copy\n",
            "  df_Fitchburg_weekend['day'] = pd.to_datetime(df_Fitchburg_weekend['date']).dt.day\n"
          ]
        },
        {
          "output_type": "display_data",
          "data": {
            "text/plain": [
              "<IPython.core.display.Javascript object>"
            ],
            "application/javascript": [
              "\n",
              "    async function download(id, filename, size) {\n",
              "      if (!google.colab.kernel.accessAllowed) {\n",
              "        return;\n",
              "      }\n",
              "      const div = document.createElement('div');\n",
              "      const label = document.createElement('label');\n",
              "      label.textContent = `Downloading \"${filename}\": `;\n",
              "      div.appendChild(label);\n",
              "      const progress = document.createElement('progress');\n",
              "      progress.max = size;\n",
              "      div.appendChild(progress);\n",
              "      document.body.appendChild(div);\n",
              "\n",
              "      const buffers = [];\n",
              "      let downloaded = 0;\n",
              "\n",
              "      const channel = await google.colab.kernel.comms.open(id);\n",
              "      // Send a message to notify the kernel that we're ready.\n",
              "      channel.send({})\n",
              "\n",
              "      for await (const message of channel.messages) {\n",
              "        // Send a message to notify the kernel that we're ready.\n",
              "        channel.send({})\n",
              "        if (message.buffers) {\n",
              "          for (const buffer of message.buffers) {\n",
              "            buffers.push(buffer);\n",
              "            downloaded += buffer.byteLength;\n",
              "            progress.value = downloaded;\n",
              "          }\n",
              "        }\n",
              "      }\n",
              "      const blob = new Blob(buffers, {type: 'application/binary'});\n",
              "      const a = document.createElement('a');\n",
              "      a.href = window.URL.createObjectURL(blob);\n",
              "      a.download = filename;\n",
              "      div.appendChild(a);\n",
              "      a.click();\n",
              "      div.remove();\n",
              "    }\n",
              "  "
            ]
          },
          "metadata": {}
        },
        {
          "output_type": "display_data",
          "data": {
            "text/plain": [
              "<IPython.core.display.Javascript object>"
            ],
            "application/javascript": [
              "download(\"download_11c27ac9-f347-46c5-b369-7903415e7f81\", \"Fitchburg_weekend.csv\", 2002)"
            ]
          },
          "metadata": {}
        },
        {
          "output_type": "display_data",
          "data": {
            "text/plain": [
              "<IPython.core.display.Javascript object>"
            ],
            "application/javascript": [
              "\n",
              "    async function download(id, filename, size) {\n",
              "      if (!google.colab.kernel.accessAllowed) {\n",
              "        return;\n",
              "      }\n",
              "      const div = document.createElement('div');\n",
              "      const label = document.createElement('label');\n",
              "      label.textContent = `Downloading \"${filename}\": `;\n",
              "      div.appendChild(label);\n",
              "      const progress = document.createElement('progress');\n",
              "      progress.max = size;\n",
              "      div.appendChild(progress);\n",
              "      document.body.appendChild(div);\n",
              "\n",
              "      const buffers = [];\n",
              "      let downloaded = 0;\n",
              "\n",
              "      const channel = await google.colab.kernel.comms.open(id);\n",
              "      // Send a message to notify the kernel that we're ready.\n",
              "      channel.send({})\n",
              "\n",
              "      for await (const message of channel.messages) {\n",
              "        // Send a message to notify the kernel that we're ready.\n",
              "        channel.send({})\n",
              "        if (message.buffers) {\n",
              "          for (const buffer of message.buffers) {\n",
              "            buffers.push(buffer);\n",
              "            downloaded += buffer.byteLength;\n",
              "            progress.value = downloaded;\n",
              "          }\n",
              "        }\n",
              "      }\n",
              "      const blob = new Blob(buffers, {type: 'application/binary'});\n",
              "      const a = document.createElement('a');\n",
              "      a.href = window.URL.createObjectURL(blob);\n",
              "      a.download = filename;\n",
              "      div.appendChild(a);\n",
              "      a.click();\n",
              "      div.remove();\n",
              "    }\n",
              "  "
            ]
          },
          "metadata": {}
        },
        {
          "output_type": "display_data",
          "data": {
            "text/plain": [
              "<IPython.core.display.Javascript object>"
            ],
            "application/javascript": [
              "download(\"download_ba4ce76b-25e2-4ae0-86fe-a194d389fc55\", \"Fitchburg_weekday.csv\", 2335)"
            ]
          },
          "metadata": {}
        }
      ]
    },
    {
      "cell_type": "code",
      "source": [
        "dfHaverhill = df[df[\"route_id\"] == \"CR-Haverhill\"]\n",
        "dfHaverhill['date'] = pd.to_datetime(dfHaverhill['date'])\n",
        "dfHaverhill['day_type'] = dfHaverhill['date'].dt.dayofweek.apply(lambda x: 'Weekend' if x > 4 else 'Weekday')\n",
        "df_Haverhill_weekday = dfHaverhill[dfHaverhill['day_type'] == 'Weekday']\n",
        "df_Haverhill_weekend = dfHaverhill[dfHaverhill['day_type'] == 'Weekend']\n",
        "\n",
        "\n",
        "\n",
        "df_Haverhill_weekday['year'] = pd.to_datetime(df_Haverhill_weekday['date']).dt.year\n",
        "df_Haverhill_weekday['month'] = pd.to_datetime(df_Haverhill_weekday['date']).dt.month\n",
        "df_Haverhill_weekday['day'] = pd.to_datetime(df_Haverhill_weekday['date']).dt.day\n",
        "\n",
        "df_Haverhill_weekday = df_Haverhill_weekday.drop_duplicates(subset=['year', 'month'])\n",
        "\n",
        "df_Haverhill_weekend['year'] = pd.to_datetime(df_Haverhill_weekend['date']).dt.year\n",
        "df_Haverhill_weekend['month'] = pd.to_datetime(df_Haverhill_weekend['date']).dt.month\n",
        "df_Haverhill_weekend['day'] = pd.to_datetime(df_Haverhill_weekend['date']).dt.day\n",
        "\n",
        "df_Haverhill_weekend = df_Haverhill_weekend.drop_duplicates(subset=['year', 'month'])\n",
        "\n",
        "\n",
        "\n",
        "csv_file_path = 'Haverhill_weekend.csv'\n",
        "df_Haverhill_weekend.to_csv(csv_file_path, index=False)\n",
        "files.download(csv_file_path)\n",
        "\n",
        "csv_file_path = 'Haverhill_weekday.csv'\n",
        "df_Haverhill_weekday.to_csv(csv_file_path, index=False)\n",
        "files.download(csv_file_path)\n",
        "\n"
      ],
      "metadata": {
        "colab": {
          "base_uri": "https://localhost:8080/",
          "height": 894
        },
        "id": "e4hZiN9d3X9H",
        "outputId": "909f6676-8249-4571-9bd5-9152d81c44c9"
      },
      "execution_count": 148,
      "outputs": [
        {
          "output_type": "stream",
          "name": "stderr",
          "text": [
            "<ipython-input-148-bc64a5eee54f>:2: SettingWithCopyWarning: \n",
            "A value is trying to be set on a copy of a slice from a DataFrame.\n",
            "Try using .loc[row_indexer,col_indexer] = value instead\n",
            "\n",
            "See the caveats in the documentation: https://pandas.pydata.org/pandas-docs/stable/user_guide/indexing.html#returning-a-view-versus-a-copy\n",
            "  dfHaverhill['date'] = pd.to_datetime(dfHaverhill['date'])\n",
            "<ipython-input-148-bc64a5eee54f>:3: SettingWithCopyWarning: \n",
            "A value is trying to be set on a copy of a slice from a DataFrame.\n",
            "Try using .loc[row_indexer,col_indexer] = value instead\n",
            "\n",
            "See the caveats in the documentation: https://pandas.pydata.org/pandas-docs/stable/user_guide/indexing.html#returning-a-view-versus-a-copy\n",
            "  dfHaverhill['day_type'] = dfHaverhill['date'].dt.dayofweek.apply(lambda x: 'Weekend' if x > 4 else 'Weekday')\n",
            "<ipython-input-148-bc64a5eee54f>:9: SettingWithCopyWarning: \n",
            "A value is trying to be set on a copy of a slice from a DataFrame.\n",
            "Try using .loc[row_indexer,col_indexer] = value instead\n",
            "\n",
            "See the caveats in the documentation: https://pandas.pydata.org/pandas-docs/stable/user_guide/indexing.html#returning-a-view-versus-a-copy\n",
            "  df_Haverhill_weekday['year'] = pd.to_datetime(df_Haverhill_weekday['date']).dt.year\n",
            "<ipython-input-148-bc64a5eee54f>:10: SettingWithCopyWarning: \n",
            "A value is trying to be set on a copy of a slice from a DataFrame.\n",
            "Try using .loc[row_indexer,col_indexer] = value instead\n",
            "\n",
            "See the caveats in the documentation: https://pandas.pydata.org/pandas-docs/stable/user_guide/indexing.html#returning-a-view-versus-a-copy\n",
            "  df_Haverhill_weekday['month'] = pd.to_datetime(df_Haverhill_weekday['date']).dt.month\n",
            "<ipython-input-148-bc64a5eee54f>:11: SettingWithCopyWarning: \n",
            "A value is trying to be set on a copy of a slice from a DataFrame.\n",
            "Try using .loc[row_indexer,col_indexer] = value instead\n",
            "\n",
            "See the caveats in the documentation: https://pandas.pydata.org/pandas-docs/stable/user_guide/indexing.html#returning-a-view-versus-a-copy\n",
            "  df_Haverhill_weekday['day'] = pd.to_datetime(df_Haverhill_weekday['date']).dt.day\n",
            "<ipython-input-148-bc64a5eee54f>:15: SettingWithCopyWarning: \n",
            "A value is trying to be set on a copy of a slice from a DataFrame.\n",
            "Try using .loc[row_indexer,col_indexer] = value instead\n",
            "\n",
            "See the caveats in the documentation: https://pandas.pydata.org/pandas-docs/stable/user_guide/indexing.html#returning-a-view-versus-a-copy\n",
            "  df_Haverhill_weekend['year'] = pd.to_datetime(df_Haverhill_weekend['date']).dt.year\n",
            "<ipython-input-148-bc64a5eee54f>:16: SettingWithCopyWarning: \n",
            "A value is trying to be set on a copy of a slice from a DataFrame.\n",
            "Try using .loc[row_indexer,col_indexer] = value instead\n",
            "\n",
            "See the caveats in the documentation: https://pandas.pydata.org/pandas-docs/stable/user_guide/indexing.html#returning-a-view-versus-a-copy\n",
            "  df_Haverhill_weekend['month'] = pd.to_datetime(df_Haverhill_weekend['date']).dt.month\n",
            "<ipython-input-148-bc64a5eee54f>:17: SettingWithCopyWarning: \n",
            "A value is trying to be set on a copy of a slice from a DataFrame.\n",
            "Try using .loc[row_indexer,col_indexer] = value instead\n",
            "\n",
            "See the caveats in the documentation: https://pandas.pydata.org/pandas-docs/stable/user_guide/indexing.html#returning-a-view-versus-a-copy\n",
            "  df_Haverhill_weekend['day'] = pd.to_datetime(df_Haverhill_weekend['date']).dt.day\n"
          ]
        },
        {
          "output_type": "display_data",
          "data": {
            "text/plain": [
              "<IPython.core.display.Javascript object>"
            ],
            "application/javascript": [
              "\n",
              "    async function download(id, filename, size) {\n",
              "      if (!google.colab.kernel.accessAllowed) {\n",
              "        return;\n",
              "      }\n",
              "      const div = document.createElement('div');\n",
              "      const label = document.createElement('label');\n",
              "      label.textContent = `Downloading \"${filename}\": `;\n",
              "      div.appendChild(label);\n",
              "      const progress = document.createElement('progress');\n",
              "      progress.max = size;\n",
              "      div.appendChild(progress);\n",
              "      document.body.appendChild(div);\n",
              "\n",
              "      const buffers = [];\n",
              "      let downloaded = 0;\n",
              "\n",
              "      const channel = await google.colab.kernel.comms.open(id);\n",
              "      // Send a message to notify the kernel that we're ready.\n",
              "      channel.send({})\n",
              "\n",
              "      for await (const message of channel.messages) {\n",
              "        // Send a message to notify the kernel that we're ready.\n",
              "        channel.send({})\n",
              "        if (message.buffers) {\n",
              "          for (const buffer of message.buffers) {\n",
              "            buffers.push(buffer);\n",
              "            downloaded += buffer.byteLength;\n",
              "            progress.value = downloaded;\n",
              "          }\n",
              "        }\n",
              "      }\n",
              "      const blob = new Blob(buffers, {type: 'application/binary'});\n",
              "      const a = document.createElement('a');\n",
              "      a.href = window.URL.createObjectURL(blob);\n",
              "      a.download = filename;\n",
              "      div.appendChild(a);\n",
              "      a.click();\n",
              "      div.remove();\n",
              "    }\n",
              "  "
            ]
          },
          "metadata": {}
        },
        {
          "output_type": "display_data",
          "data": {
            "text/plain": [
              "<IPython.core.display.Javascript object>"
            ],
            "application/javascript": [
              "download(\"download_2c47060d-3639-49a5-afab-ad4a764528ef\", \"Haverhill_weekend.csv\", 2002)"
            ]
          },
          "metadata": {}
        },
        {
          "output_type": "display_data",
          "data": {
            "text/plain": [
              "<IPython.core.display.Javascript object>"
            ],
            "application/javascript": [
              "\n",
              "    async function download(id, filename, size) {\n",
              "      if (!google.colab.kernel.accessAllowed) {\n",
              "        return;\n",
              "      }\n",
              "      const div = document.createElement('div');\n",
              "      const label = document.createElement('label');\n",
              "      label.textContent = `Downloading \"${filename}\": `;\n",
              "      div.appendChild(label);\n",
              "      const progress = document.createElement('progress');\n",
              "      progress.max = size;\n",
              "      div.appendChild(progress);\n",
              "      document.body.appendChild(div);\n",
              "\n",
              "      const buffers = [];\n",
              "      let downloaded = 0;\n",
              "\n",
              "      const channel = await google.colab.kernel.comms.open(id);\n",
              "      // Send a message to notify the kernel that we're ready.\n",
              "      channel.send({})\n",
              "\n",
              "      for await (const message of channel.messages) {\n",
              "        // Send a message to notify the kernel that we're ready.\n",
              "        channel.send({})\n",
              "        if (message.buffers) {\n",
              "          for (const buffer of message.buffers) {\n",
              "            buffers.push(buffer);\n",
              "            downloaded += buffer.byteLength;\n",
              "            progress.value = downloaded;\n",
              "          }\n",
              "        }\n",
              "      }\n",
              "      const blob = new Blob(buffers, {type: 'application/binary'});\n",
              "      const a = document.createElement('a');\n",
              "      a.href = window.URL.createObjectURL(blob);\n",
              "      a.download = filename;\n",
              "      div.appendChild(a);\n",
              "      a.click();\n",
              "      div.remove();\n",
              "    }\n",
              "  "
            ]
          },
          "metadata": {}
        },
        {
          "output_type": "display_data",
          "data": {
            "text/plain": [
              "<IPython.core.display.Javascript object>"
            ],
            "application/javascript": [
              "download(\"download_f93374f9-1304-463c-ab0b-c94c2a156005\", \"Haverhill_weekday.csv\", 2388)"
            ]
          },
          "metadata": {}
        }
      ]
    },
    {
      "cell_type": "code",
      "source": [
        "dfMiddleborough = df[df[\"route_id\"] == \"CR-Middleborough\"]\n",
        "dfMiddleborough['date'] = pd.to_datetime(dfMiddleborough['date'])\n",
        "dfMiddleborough['day_type'] = dfMiddleborough['date'].dt.dayofweek.apply(lambda x: 'Weekend' if x > 4 else 'Weekday')\n",
        "df_Middleborough_weekday = dfMiddleborough[dfMiddleborough['day_type'] == 'Weekday']\n",
        "df_Middleborough_weekend = dfMiddleborough[dfMiddleborough['day_type'] == 'Weekend']\n",
        "\n",
        "\n",
        "\n",
        "df_Middleborough_weekday['year'] = pd.to_datetime(df_Middleborough_weekday['date']).dt.year\n",
        "df_Middleborough_weekday['month'] = pd.to_datetime(df_Middleborough_weekday['date']).dt.month\n",
        "df_Middleborough_weekday['day'] = pd.to_datetime(df_Middleborough_weekday['date']).dt.day\n",
        "\n",
        "df_Middleborough_weekday = df_Middleborough_weekday.drop_duplicates(subset=['year', 'month'])\n",
        "\n",
        "df_Middleborough_weekend['year'] = pd.to_datetime(df_Middleborough_weekend['date']).dt.year\n",
        "df_Middleborough_weekend['month'] = pd.to_datetime(df_Middleborough_weekend['date']).dt.month\n",
        "df_Middleborough_weekend['day'] = pd.to_datetime(df_Middleborough_weekend['date']).dt.day\n",
        "\n",
        "df_Middleborough_weekend = df_Middleborough_weekend.drop_duplicates(subset=['year', 'month'])\n",
        "\n",
        "\n",
        "\n",
        "csv_file_path = 'Middleborough_weekend.csv'\n",
        "df_Middleborough_weekend.to_csv(csv_file_path, index=False)\n",
        "files.download(csv_file_path)\n",
        "\n",
        "csv_file_path = 'Middleborough_weekday.csv'\n",
        "df_Middleborough_weekday.to_csv(csv_file_path, index=False)\n",
        "files.download(csv_file_path)\n",
        "\n"
      ],
      "metadata": {
        "colab": {
          "base_uri": "https://localhost:8080/",
          "height": 894
        },
        "id": "AZ4neQfi3rZR",
        "outputId": "e393ce34-0167-4da8-edaa-ecd57799a146"
      },
      "execution_count": 149,
      "outputs": [
        {
          "output_type": "stream",
          "name": "stderr",
          "text": [
            "<ipython-input-149-312a9b478a33>:2: SettingWithCopyWarning: \n",
            "A value is trying to be set on a copy of a slice from a DataFrame.\n",
            "Try using .loc[row_indexer,col_indexer] = value instead\n",
            "\n",
            "See the caveats in the documentation: https://pandas.pydata.org/pandas-docs/stable/user_guide/indexing.html#returning-a-view-versus-a-copy\n",
            "  dfMiddleborough['date'] = pd.to_datetime(dfMiddleborough['date'])\n",
            "<ipython-input-149-312a9b478a33>:3: SettingWithCopyWarning: \n",
            "A value is trying to be set on a copy of a slice from a DataFrame.\n",
            "Try using .loc[row_indexer,col_indexer] = value instead\n",
            "\n",
            "See the caveats in the documentation: https://pandas.pydata.org/pandas-docs/stable/user_guide/indexing.html#returning-a-view-versus-a-copy\n",
            "  dfMiddleborough['day_type'] = dfMiddleborough['date'].dt.dayofweek.apply(lambda x: 'Weekend' if x > 4 else 'Weekday')\n",
            "<ipython-input-149-312a9b478a33>:9: SettingWithCopyWarning: \n",
            "A value is trying to be set on a copy of a slice from a DataFrame.\n",
            "Try using .loc[row_indexer,col_indexer] = value instead\n",
            "\n",
            "See the caveats in the documentation: https://pandas.pydata.org/pandas-docs/stable/user_guide/indexing.html#returning-a-view-versus-a-copy\n",
            "  df_Middleborough_weekday['year'] = pd.to_datetime(df_Middleborough_weekday['date']).dt.year\n",
            "<ipython-input-149-312a9b478a33>:10: SettingWithCopyWarning: \n",
            "A value is trying to be set on a copy of a slice from a DataFrame.\n",
            "Try using .loc[row_indexer,col_indexer] = value instead\n",
            "\n",
            "See the caveats in the documentation: https://pandas.pydata.org/pandas-docs/stable/user_guide/indexing.html#returning-a-view-versus-a-copy\n",
            "  df_Middleborough_weekday['month'] = pd.to_datetime(df_Middleborough_weekday['date']).dt.month\n",
            "<ipython-input-149-312a9b478a33>:11: SettingWithCopyWarning: \n",
            "A value is trying to be set on a copy of a slice from a DataFrame.\n",
            "Try using .loc[row_indexer,col_indexer] = value instead\n",
            "\n",
            "See the caveats in the documentation: https://pandas.pydata.org/pandas-docs/stable/user_guide/indexing.html#returning-a-view-versus-a-copy\n",
            "  df_Middleborough_weekday['day'] = pd.to_datetime(df_Middleborough_weekday['date']).dt.day\n",
            "<ipython-input-149-312a9b478a33>:15: SettingWithCopyWarning: \n",
            "A value is trying to be set on a copy of a slice from a DataFrame.\n",
            "Try using .loc[row_indexer,col_indexer] = value instead\n",
            "\n",
            "See the caveats in the documentation: https://pandas.pydata.org/pandas-docs/stable/user_guide/indexing.html#returning-a-view-versus-a-copy\n",
            "  df_Middleborough_weekend['year'] = pd.to_datetime(df_Middleborough_weekend['date']).dt.year\n",
            "<ipython-input-149-312a9b478a33>:16: SettingWithCopyWarning: \n",
            "A value is trying to be set on a copy of a slice from a DataFrame.\n",
            "Try using .loc[row_indexer,col_indexer] = value instead\n",
            "\n",
            "See the caveats in the documentation: https://pandas.pydata.org/pandas-docs/stable/user_guide/indexing.html#returning-a-view-versus-a-copy\n",
            "  df_Middleborough_weekend['month'] = pd.to_datetime(df_Middleborough_weekend['date']).dt.month\n",
            "<ipython-input-149-312a9b478a33>:17: SettingWithCopyWarning: \n",
            "A value is trying to be set on a copy of a slice from a DataFrame.\n",
            "Try using .loc[row_indexer,col_indexer] = value instead\n",
            "\n",
            "See the caveats in the documentation: https://pandas.pydata.org/pandas-docs/stable/user_guide/indexing.html#returning-a-view-versus-a-copy\n",
            "  df_Middleborough_weekend['day'] = pd.to_datetime(df_Middleborough_weekend['date']).dt.day\n"
          ]
        },
        {
          "output_type": "display_data",
          "data": {
            "text/plain": [
              "<IPython.core.display.Javascript object>"
            ],
            "application/javascript": [
              "\n",
              "    async function download(id, filename, size) {\n",
              "      if (!google.colab.kernel.accessAllowed) {\n",
              "        return;\n",
              "      }\n",
              "      const div = document.createElement('div');\n",
              "      const label = document.createElement('label');\n",
              "      label.textContent = `Downloading \"${filename}\": `;\n",
              "      div.appendChild(label);\n",
              "      const progress = document.createElement('progress');\n",
              "      progress.max = size;\n",
              "      div.appendChild(progress);\n",
              "      document.body.appendChild(div);\n",
              "\n",
              "      const buffers = [];\n",
              "      let downloaded = 0;\n",
              "\n",
              "      const channel = await google.colab.kernel.comms.open(id);\n",
              "      // Send a message to notify the kernel that we're ready.\n",
              "      channel.send({})\n",
              "\n",
              "      for await (const message of channel.messages) {\n",
              "        // Send a message to notify the kernel that we're ready.\n",
              "        channel.send({})\n",
              "        if (message.buffers) {\n",
              "          for (const buffer of message.buffers) {\n",
              "            buffers.push(buffer);\n",
              "            downloaded += buffer.byteLength;\n",
              "            progress.value = downloaded;\n",
              "          }\n",
              "        }\n",
              "      }\n",
              "      const blob = new Blob(buffers, {type: 'application/binary'});\n",
              "      const a = document.createElement('a');\n",
              "      a.href = window.URL.createObjectURL(blob);\n",
              "      a.download = filename;\n",
              "      div.appendChild(a);\n",
              "      a.click();\n",
              "      div.remove();\n",
              "    }\n",
              "  "
            ]
          },
          "metadata": {}
        },
        {
          "output_type": "display_data",
          "data": {
            "text/plain": [
              "<IPython.core.display.Javascript object>"
            ],
            "application/javascript": [
              "download(\"download_2b2c0773-8b16-4971-b6bf-d1b23ecd5984\", \"Middleborough_weekend.csv\", 2449)"
            ]
          },
          "metadata": {}
        },
        {
          "output_type": "display_data",
          "data": {
            "text/plain": [
              "<IPython.core.display.Javascript object>"
            ],
            "application/javascript": [
              "\n",
              "    async function download(id, filename, size) {\n",
              "      if (!google.colab.kernel.accessAllowed) {\n",
              "        return;\n",
              "      }\n",
              "      const div = document.createElement('div');\n",
              "      const label = document.createElement('label');\n",
              "      label.textContent = `Downloading \"${filename}\": `;\n",
              "      div.appendChild(label);\n",
              "      const progress = document.createElement('progress');\n",
              "      progress.max = size;\n",
              "      div.appendChild(progress);\n",
              "      document.body.appendChild(div);\n",
              "\n",
              "      const buffers = [];\n",
              "      let downloaded = 0;\n",
              "\n",
              "      const channel = await google.colab.kernel.comms.open(id);\n",
              "      // Send a message to notify the kernel that we're ready.\n",
              "      channel.send({})\n",
              "\n",
              "      for await (const message of channel.messages) {\n",
              "        // Send a message to notify the kernel that we're ready.\n",
              "        channel.send({})\n",
              "        if (message.buffers) {\n",
              "          for (const buffer of message.buffers) {\n",
              "            buffers.push(buffer);\n",
              "            downloaded += buffer.byteLength;\n",
              "            progress.value = downloaded;\n",
              "          }\n",
              "        }\n",
              "      }\n",
              "      const blob = new Blob(buffers, {type: 'application/binary'});\n",
              "      const a = document.createElement('a');\n",
              "      a.href = window.URL.createObjectURL(blob);\n",
              "      a.download = filename;\n",
              "      div.appendChild(a);\n",
              "      a.click();\n",
              "      div.remove();\n",
              "    }\n",
              "  "
            ]
          },
          "metadata": {}
        },
        {
          "output_type": "display_data",
          "data": {
            "text/plain": [
              "<IPython.core.display.Javascript object>"
            ],
            "application/javascript": [
              "download(\"download_8f8df0c3-6a58-4d1e-8edb-39b1442d9897\", \"Middleborough_weekday.csv\", 2473)"
            ]
          },
          "metadata": {}
        }
      ]
    },
    {
      "cell_type": "code",
      "source": [
        "dfKingston = df[df[\"route_id\"] == \"CR-Kingston\"]\n",
        "dfKingston['date'] = pd.to_datetime(dfKingston['date'])\n",
        "dfKingston['day_type'] = dfKingston['date'].dt.dayofweek.apply(lambda x: 'Weekend' if x > 4 else 'Weekday')\n",
        "df_Kingston_weekday = dfKingston[dfKingston['day_type'] == 'Weekday']\n",
        "df_Kingston_weekend = dfKingston[dfKingston['day_type'] == 'Weekend']\n",
        "\n",
        "\n",
        "\n",
        "df_Kingston_weekday['year'] = pd.to_datetime(df_Kingston_weekday['date']).dt.year\n",
        "df_Kingston_weekday['month'] = pd.to_datetime(df_Kingston_weekday['date']).dt.month\n",
        "df_Kingston_weekday['day'] = pd.to_datetime(df_Kingston_weekday['date']).dt.day\n",
        "\n",
        "df_Kingston_weekday = df_Kingston_weekday.drop_duplicates(subset=['year', 'month'])\n",
        "\n",
        "df_Kingston_weekend['year'] = pd.to_datetime(df_Kingston_weekend['date']).dt.year\n",
        "df_Kingston_weekend['month'] = pd.to_datetime(df_Kingston_weekend['date']).dt.month\n",
        "df_Kingston_weekend['day'] = pd.to_datetime(df_Kingston_weekend['date']).dt.day\n",
        "\n",
        "df_Kingston_weekend = df_Kingston_weekend.drop_duplicates(subset=['year', 'month'])\n",
        "\n",
        "\n",
        "\n",
        "csv_file_path = 'Kingston_weekend.csv'\n",
        "df_Kingston_weekend.to_csv(csv_file_path, index=False)\n",
        "files.download(csv_file_path)\n",
        "\n",
        "csv_file_path = 'Kingston_weekday.csv'\n",
        "df_Kingston_weekday.to_csv(csv_file_path, index=False)\n",
        "files.download(csv_file_path)\n",
        "\n"
      ],
      "metadata": {
        "colab": {
          "base_uri": "https://localhost:8080/",
          "height": 894
        },
        "id": "t-3vY5JU3tzS",
        "outputId": "3080ac5c-a37b-4638-b967-8408d97a52e1"
      },
      "execution_count": 150,
      "outputs": [
        {
          "output_type": "stream",
          "name": "stderr",
          "text": [
            "<ipython-input-150-da8d1fd0db79>:2: SettingWithCopyWarning: \n",
            "A value is trying to be set on a copy of a slice from a DataFrame.\n",
            "Try using .loc[row_indexer,col_indexer] = value instead\n",
            "\n",
            "See the caveats in the documentation: https://pandas.pydata.org/pandas-docs/stable/user_guide/indexing.html#returning-a-view-versus-a-copy\n",
            "  dfKingston['date'] = pd.to_datetime(dfKingston['date'])\n",
            "<ipython-input-150-da8d1fd0db79>:3: SettingWithCopyWarning: \n",
            "A value is trying to be set on a copy of a slice from a DataFrame.\n",
            "Try using .loc[row_indexer,col_indexer] = value instead\n",
            "\n",
            "See the caveats in the documentation: https://pandas.pydata.org/pandas-docs/stable/user_guide/indexing.html#returning-a-view-versus-a-copy\n",
            "  dfKingston['day_type'] = dfKingston['date'].dt.dayofweek.apply(lambda x: 'Weekend' if x > 4 else 'Weekday')\n",
            "<ipython-input-150-da8d1fd0db79>:9: SettingWithCopyWarning: \n",
            "A value is trying to be set on a copy of a slice from a DataFrame.\n",
            "Try using .loc[row_indexer,col_indexer] = value instead\n",
            "\n",
            "See the caveats in the documentation: https://pandas.pydata.org/pandas-docs/stable/user_guide/indexing.html#returning-a-view-versus-a-copy\n",
            "  df_Kingston_weekday['year'] = pd.to_datetime(df_Kingston_weekday['date']).dt.year\n",
            "<ipython-input-150-da8d1fd0db79>:10: SettingWithCopyWarning: \n",
            "A value is trying to be set on a copy of a slice from a DataFrame.\n",
            "Try using .loc[row_indexer,col_indexer] = value instead\n",
            "\n",
            "See the caveats in the documentation: https://pandas.pydata.org/pandas-docs/stable/user_guide/indexing.html#returning-a-view-versus-a-copy\n",
            "  df_Kingston_weekday['month'] = pd.to_datetime(df_Kingston_weekday['date']).dt.month\n",
            "<ipython-input-150-da8d1fd0db79>:11: SettingWithCopyWarning: \n",
            "A value is trying to be set on a copy of a slice from a DataFrame.\n",
            "Try using .loc[row_indexer,col_indexer] = value instead\n",
            "\n",
            "See the caveats in the documentation: https://pandas.pydata.org/pandas-docs/stable/user_guide/indexing.html#returning-a-view-versus-a-copy\n",
            "  df_Kingston_weekday['day'] = pd.to_datetime(df_Kingston_weekday['date']).dt.day\n",
            "<ipython-input-150-da8d1fd0db79>:15: SettingWithCopyWarning: \n",
            "A value is trying to be set on a copy of a slice from a DataFrame.\n",
            "Try using .loc[row_indexer,col_indexer] = value instead\n",
            "\n",
            "See the caveats in the documentation: https://pandas.pydata.org/pandas-docs/stable/user_guide/indexing.html#returning-a-view-versus-a-copy\n",
            "  df_Kingston_weekend['year'] = pd.to_datetime(df_Kingston_weekend['date']).dt.year\n",
            "<ipython-input-150-da8d1fd0db79>:16: SettingWithCopyWarning: \n",
            "A value is trying to be set on a copy of a slice from a DataFrame.\n",
            "Try using .loc[row_indexer,col_indexer] = value instead\n",
            "\n",
            "See the caveats in the documentation: https://pandas.pydata.org/pandas-docs/stable/user_guide/indexing.html#returning-a-view-versus-a-copy\n",
            "  df_Kingston_weekend['month'] = pd.to_datetime(df_Kingston_weekend['date']).dt.month\n",
            "<ipython-input-150-da8d1fd0db79>:17: SettingWithCopyWarning: \n",
            "A value is trying to be set on a copy of a slice from a DataFrame.\n",
            "Try using .loc[row_indexer,col_indexer] = value instead\n",
            "\n",
            "See the caveats in the documentation: https://pandas.pydata.org/pandas-docs/stable/user_guide/indexing.html#returning-a-view-versus-a-copy\n",
            "  df_Kingston_weekend['day'] = pd.to_datetime(df_Kingston_weekend['date']).dt.day\n"
          ]
        },
        {
          "output_type": "display_data",
          "data": {
            "text/plain": [
              "<IPython.core.display.Javascript object>"
            ],
            "application/javascript": [
              "\n",
              "    async function download(id, filename, size) {\n",
              "      if (!google.colab.kernel.accessAllowed) {\n",
              "        return;\n",
              "      }\n",
              "      const div = document.createElement('div');\n",
              "      const label = document.createElement('label');\n",
              "      label.textContent = `Downloading \"${filename}\": `;\n",
              "      div.appendChild(label);\n",
              "      const progress = document.createElement('progress');\n",
              "      progress.max = size;\n",
              "      div.appendChild(progress);\n",
              "      document.body.appendChild(div);\n",
              "\n",
              "      const buffers = [];\n",
              "      let downloaded = 0;\n",
              "\n",
              "      const channel = await google.colab.kernel.comms.open(id);\n",
              "      // Send a message to notify the kernel that we're ready.\n",
              "      channel.send({})\n",
              "\n",
              "      for await (const message of channel.messages) {\n",
              "        // Send a message to notify the kernel that we're ready.\n",
              "        channel.send({})\n",
              "        if (message.buffers) {\n",
              "          for (const buffer of message.buffers) {\n",
              "            buffers.push(buffer);\n",
              "            downloaded += buffer.byteLength;\n",
              "            progress.value = downloaded;\n",
              "          }\n",
              "        }\n",
              "      }\n",
              "      const blob = new Blob(buffers, {type: 'application/binary'});\n",
              "      const a = document.createElement('a');\n",
              "      a.href = window.URL.createObjectURL(blob);\n",
              "      a.download = filename;\n",
              "      div.appendChild(a);\n",
              "      a.click();\n",
              "      div.remove();\n",
              "    }\n",
              "  "
            ]
          },
          "metadata": {}
        },
        {
          "output_type": "display_data",
          "data": {
            "text/plain": [
              "<IPython.core.display.Javascript object>"
            ],
            "application/javascript": [
              "download(\"download_ade461a1-fd3e-448d-9c97-9c004820b04b\", \"Kingston_weekend.csv\", 1972)"
            ]
          },
          "metadata": {}
        },
        {
          "output_type": "display_data",
          "data": {
            "text/plain": [
              "<IPython.core.display.Javascript object>"
            ],
            "application/javascript": [
              "\n",
              "    async function download(id, filename, size) {\n",
              "      if (!google.colab.kernel.accessAllowed) {\n",
              "        return;\n",
              "      }\n",
              "      const div = document.createElement('div');\n",
              "      const label = document.createElement('label');\n",
              "      label.textContent = `Downloading \"${filename}\": `;\n",
              "      div.appendChild(label);\n",
              "      const progress = document.createElement('progress');\n",
              "      progress.max = size;\n",
              "      div.appendChild(progress);\n",
              "      document.body.appendChild(div);\n",
              "\n",
              "      const buffers = [];\n",
              "      let downloaded = 0;\n",
              "\n",
              "      const channel = await google.colab.kernel.comms.open(id);\n",
              "      // Send a message to notify the kernel that we're ready.\n",
              "      channel.send({})\n",
              "\n",
              "      for await (const message of channel.messages) {\n",
              "        // Send a message to notify the kernel that we're ready.\n",
              "        channel.send({})\n",
              "        if (message.buffers) {\n",
              "          for (const buffer of message.buffers) {\n",
              "            buffers.push(buffer);\n",
              "            downloaded += buffer.byteLength;\n",
              "            progress.value = downloaded;\n",
              "          }\n",
              "        }\n",
              "      }\n",
              "      const blob = new Blob(buffers, {type: 'application/binary'});\n",
              "      const a = document.createElement('a');\n",
              "      a.href = window.URL.createObjectURL(blob);\n",
              "      a.download = filename;\n",
              "      div.appendChild(a);\n",
              "      a.click();\n",
              "      div.remove();\n",
              "    }\n",
              "  "
            ]
          },
          "metadata": {}
        },
        {
          "output_type": "display_data",
          "data": {
            "text/plain": [
              "<IPython.core.display.Javascript object>"
            ],
            "application/javascript": [
              "download(\"download_af81724a-91d9-4f40-9a96-1b0045c13538\", \"Kingston_weekday.csv\", 2288)"
            ]
          },
          "metadata": {}
        }
      ]
    },
    {
      "cell_type": "code",
      "source": [
        "dfLowell = df[df[\"route_id\"] == \"CR-Lowell\"]\n",
        "dfLowell['date'] = pd.to_datetime(dfLowell['date'])\n",
        "dfLowell['day_type'] = dfLowell['date'].dt.dayofweek.apply(lambda x: 'Weekend' if x > 4 else 'Weekday')\n",
        "df_Lowell_weekday = dfLowell[dfLowell['day_type'] == 'Weekday']\n",
        "df_Lowell_weekend = dfLowell[dfLowell['day_type'] == 'Weekend']\n",
        "\n",
        "\n",
        "\n",
        "df_Lowell_weekday['year'] = pd.to_datetime(df_Lowell_weekday['date']).dt.year\n",
        "df_Lowell_weekday['month'] = pd.to_datetime(df_Lowell_weekday['date']).dt.month\n",
        "df_Lowell_weekday['day'] = pd.to_datetime(df_Lowell_weekday['date']).dt.day\n",
        "\n",
        "df_Lowell_weekday = df_Lowell_weekday.drop_duplicates(subset=['year', 'month'])\n",
        "\n",
        "df_Lowell_weekend['year'] = pd.to_datetime(df_Lowell_weekend['date']).dt.year\n",
        "df_Lowell_weekend['month'] = pd.to_datetime(df_Lowell_weekend['date']).dt.month\n",
        "df_Lowell_weekend['day'] = pd.to_datetime(df_Lowell_weekend['date']).dt.day\n",
        "\n",
        "df_Lowell_weekend = df_Lowell_weekend.drop_duplicates(subset=['year', 'month'])\n",
        "\n",
        "\n",
        "\n",
        "csv_file_path = 'Lowell_weekend.csv'\n",
        "df_Lowell_weekend.to_csv(csv_file_path, index=False)\n",
        "files.download(csv_file_path)\n",
        "\n",
        "csv_file_path = 'Lowell_weekday.csv'\n",
        "df_Lowell_weekday.to_csv(csv_file_path, index=False)\n",
        "files.download(csv_file_path)\n",
        "\n"
      ],
      "metadata": {
        "colab": {
          "base_uri": "https://localhost:8080/",
          "height": 894
        },
        "id": "9VniMbuS3t1d",
        "outputId": "621ea2d4-d13e-4b69-9018-9aded11a3744"
      },
      "execution_count": 151,
      "outputs": [
        {
          "output_type": "stream",
          "name": "stderr",
          "text": [
            "<ipython-input-151-8dfef1986b84>:2: SettingWithCopyWarning: \n",
            "A value is trying to be set on a copy of a slice from a DataFrame.\n",
            "Try using .loc[row_indexer,col_indexer] = value instead\n",
            "\n",
            "See the caveats in the documentation: https://pandas.pydata.org/pandas-docs/stable/user_guide/indexing.html#returning-a-view-versus-a-copy\n",
            "  dfLowell['date'] = pd.to_datetime(dfLowell['date'])\n",
            "<ipython-input-151-8dfef1986b84>:3: SettingWithCopyWarning: \n",
            "A value is trying to be set on a copy of a slice from a DataFrame.\n",
            "Try using .loc[row_indexer,col_indexer] = value instead\n",
            "\n",
            "See the caveats in the documentation: https://pandas.pydata.org/pandas-docs/stable/user_guide/indexing.html#returning-a-view-versus-a-copy\n",
            "  dfLowell['day_type'] = dfLowell['date'].dt.dayofweek.apply(lambda x: 'Weekend' if x > 4 else 'Weekday')\n",
            "<ipython-input-151-8dfef1986b84>:9: SettingWithCopyWarning: \n",
            "A value is trying to be set on a copy of a slice from a DataFrame.\n",
            "Try using .loc[row_indexer,col_indexer] = value instead\n",
            "\n",
            "See the caveats in the documentation: https://pandas.pydata.org/pandas-docs/stable/user_guide/indexing.html#returning-a-view-versus-a-copy\n",
            "  df_Lowell_weekday['year'] = pd.to_datetime(df_Lowell_weekday['date']).dt.year\n",
            "<ipython-input-151-8dfef1986b84>:10: SettingWithCopyWarning: \n",
            "A value is trying to be set on a copy of a slice from a DataFrame.\n",
            "Try using .loc[row_indexer,col_indexer] = value instead\n",
            "\n",
            "See the caveats in the documentation: https://pandas.pydata.org/pandas-docs/stable/user_guide/indexing.html#returning-a-view-versus-a-copy\n",
            "  df_Lowell_weekday['month'] = pd.to_datetime(df_Lowell_weekday['date']).dt.month\n",
            "<ipython-input-151-8dfef1986b84>:11: SettingWithCopyWarning: \n",
            "A value is trying to be set on a copy of a slice from a DataFrame.\n",
            "Try using .loc[row_indexer,col_indexer] = value instead\n",
            "\n",
            "See the caveats in the documentation: https://pandas.pydata.org/pandas-docs/stable/user_guide/indexing.html#returning-a-view-versus-a-copy\n",
            "  df_Lowell_weekday['day'] = pd.to_datetime(df_Lowell_weekday['date']).dt.day\n",
            "<ipython-input-151-8dfef1986b84>:15: SettingWithCopyWarning: \n",
            "A value is trying to be set on a copy of a slice from a DataFrame.\n",
            "Try using .loc[row_indexer,col_indexer] = value instead\n",
            "\n",
            "See the caveats in the documentation: https://pandas.pydata.org/pandas-docs/stable/user_guide/indexing.html#returning-a-view-versus-a-copy\n",
            "  df_Lowell_weekend['year'] = pd.to_datetime(df_Lowell_weekend['date']).dt.year\n",
            "<ipython-input-151-8dfef1986b84>:16: SettingWithCopyWarning: \n",
            "A value is trying to be set on a copy of a slice from a DataFrame.\n",
            "Try using .loc[row_indexer,col_indexer] = value instead\n",
            "\n",
            "See the caveats in the documentation: https://pandas.pydata.org/pandas-docs/stable/user_guide/indexing.html#returning-a-view-versus-a-copy\n",
            "  df_Lowell_weekend['month'] = pd.to_datetime(df_Lowell_weekend['date']).dt.month\n",
            "<ipython-input-151-8dfef1986b84>:17: SettingWithCopyWarning: \n",
            "A value is trying to be set on a copy of a slice from a DataFrame.\n",
            "Try using .loc[row_indexer,col_indexer] = value instead\n",
            "\n",
            "See the caveats in the documentation: https://pandas.pydata.org/pandas-docs/stable/user_guide/indexing.html#returning-a-view-versus-a-copy\n",
            "  df_Lowell_weekend['day'] = pd.to_datetime(df_Lowell_weekend['date']).dt.day\n"
          ]
        },
        {
          "output_type": "display_data",
          "data": {
            "text/plain": [
              "<IPython.core.display.Javascript object>"
            ],
            "application/javascript": [
              "\n",
              "    async function download(id, filename, size) {\n",
              "      if (!google.colab.kernel.accessAllowed) {\n",
              "        return;\n",
              "      }\n",
              "      const div = document.createElement('div');\n",
              "      const label = document.createElement('label');\n",
              "      label.textContent = `Downloading \"${filename}\": `;\n",
              "      div.appendChild(label);\n",
              "      const progress = document.createElement('progress');\n",
              "      progress.max = size;\n",
              "      div.appendChild(progress);\n",
              "      document.body.appendChild(div);\n",
              "\n",
              "      const buffers = [];\n",
              "      let downloaded = 0;\n",
              "\n",
              "      const channel = await google.colab.kernel.comms.open(id);\n",
              "      // Send a message to notify the kernel that we're ready.\n",
              "      channel.send({})\n",
              "\n",
              "      for await (const message of channel.messages) {\n",
              "        // Send a message to notify the kernel that we're ready.\n",
              "        channel.send({})\n",
              "        if (message.buffers) {\n",
              "          for (const buffer of message.buffers) {\n",
              "            buffers.push(buffer);\n",
              "            downloaded += buffer.byteLength;\n",
              "            progress.value = downloaded;\n",
              "          }\n",
              "        }\n",
              "      }\n",
              "      const blob = new Blob(buffers, {type: 'application/binary'});\n",
              "      const a = document.createElement('a');\n",
              "      a.href = window.URL.createObjectURL(blob);\n",
              "      a.download = filename;\n",
              "      div.appendChild(a);\n",
              "      a.click();\n",
              "      div.remove();\n",
              "    }\n",
              "  "
            ]
          },
          "metadata": {}
        },
        {
          "output_type": "display_data",
          "data": {
            "text/plain": [
              "<IPython.core.display.Javascript object>"
            ],
            "application/javascript": [
              "download(\"download_c37b8b81-45e7-466e-9f7d-5d2919c80426\", \"Lowell_weekend.csv\", 1912)"
            ]
          },
          "metadata": {}
        },
        {
          "output_type": "display_data",
          "data": {
            "text/plain": [
              "<IPython.core.display.Javascript object>"
            ],
            "application/javascript": [
              "\n",
              "    async function download(id, filename, size) {\n",
              "      if (!google.colab.kernel.accessAllowed) {\n",
              "        return;\n",
              "      }\n",
              "      const div = document.createElement('div');\n",
              "      const label = document.createElement('label');\n",
              "      label.textContent = `Downloading \"${filename}\": `;\n",
              "      div.appendChild(label);\n",
              "      const progress = document.createElement('progress');\n",
              "      progress.max = size;\n",
              "      div.appendChild(progress);\n",
              "      document.body.appendChild(div);\n",
              "\n",
              "      const buffers = [];\n",
              "      let downloaded = 0;\n",
              "\n",
              "      const channel = await google.colab.kernel.comms.open(id);\n",
              "      // Send a message to notify the kernel that we're ready.\n",
              "      channel.send({})\n",
              "\n",
              "      for await (const message of channel.messages) {\n",
              "        // Send a message to notify the kernel that we're ready.\n",
              "        channel.send({})\n",
              "        if (message.buffers) {\n",
              "          for (const buffer of message.buffers) {\n",
              "            buffers.push(buffer);\n",
              "            downloaded += buffer.byteLength;\n",
              "            progress.value = downloaded;\n",
              "          }\n",
              "        }\n",
              "      }\n",
              "      const blob = new Blob(buffers, {type: 'application/binary'});\n",
              "      const a = document.createElement('a');\n",
              "      a.href = window.URL.createObjectURL(blob);\n",
              "      a.download = filename;\n",
              "      div.appendChild(a);\n",
              "      a.click();\n",
              "      div.remove();\n",
              "    }\n",
              "  "
            ]
          },
          "metadata": {}
        },
        {
          "output_type": "display_data",
          "data": {
            "text/plain": [
              "<IPython.core.display.Javascript object>"
            ],
            "application/javascript": [
              "download(\"download_6418874c-e629-4baf-8a3a-aa4cc5e7dc30\", \"Lowell_weekday.csv\", 2248)"
            ]
          },
          "metadata": {}
        }
      ]
    },
    {
      "cell_type": "code",
      "source": [
        "dfGreenbush = df[df[\"route_id\"] == \"CR-Greenbush\"]\n",
        "dfGreenbush['date'] = pd.to_datetime(dfGreenbush['date'])\n",
        "dfGreenbush['day_type'] = dfGreenbush['date'].dt.dayofweek.apply(lambda x: 'Weekend' if x > 4 else 'Weekday')\n",
        "df_Greenbush_weekday = dfGreenbush[dfGreenbush['day_type'] == 'Weekday']\n",
        "df_Greenbush_weekend = dfGreenbush[dfGreenbush['day_type'] == 'Weekend']\n",
        "\n",
        "\n",
        "\n",
        "df_Greenbush_weekday['year'] = pd.to_datetime(df_Greenbush_weekday['date']).dt.year\n",
        "df_Greenbush_weekday['month'] = pd.to_datetime(df_Greenbush_weekday['date']).dt.month\n",
        "df_Greenbush_weekday['day'] = pd.to_datetime(df_Greenbush_weekday['date']).dt.day\n",
        "\n",
        "df_Greenbush_weekday = df_Greenbush_weekday.drop_duplicates(subset=['year', 'month'])\n",
        "\n",
        "df_Greenbush_weekend['year'] = pd.to_datetime(df_Greenbush_weekend['date']).dt.year\n",
        "df_Greenbush_weekend['month'] = pd.to_datetime(df_Greenbush_weekend['date']).dt.month\n",
        "df_Greenbush_weekend['day'] = pd.to_datetime(df_Greenbush_weekend['date']).dt.day\n",
        "\n",
        "df_Greenbush_weekend = df_Greenbush_weekend.drop_duplicates(subset=['year', 'month'])\n",
        "\n",
        "\n",
        "\n",
        "csv_file_path = 'Greenbush_weekend.csv'\n",
        "df_Greenbush_weekend.to_csv(csv_file_path, index=False)\n",
        "files.download(csv_file_path)\n",
        "\n",
        "csv_file_path = 'Greenbush_weekday.csv'\n",
        "df_Greenbush_weekday.to_csv(csv_file_path, index=False)\n",
        "files.download(csv_file_path)\n",
        "\n"
      ],
      "metadata": {
        "colab": {
          "base_uri": "https://localhost:8080/",
          "height": 894
        },
        "id": "NTC-r6xn3t3l",
        "outputId": "03c44763-807c-4cd1-b3be-4bd07eaba6dc"
      },
      "execution_count": 152,
      "outputs": [
        {
          "output_type": "stream",
          "name": "stderr",
          "text": [
            "<ipython-input-152-b38e5fc774ad>:2: SettingWithCopyWarning: \n",
            "A value is trying to be set on a copy of a slice from a DataFrame.\n",
            "Try using .loc[row_indexer,col_indexer] = value instead\n",
            "\n",
            "See the caveats in the documentation: https://pandas.pydata.org/pandas-docs/stable/user_guide/indexing.html#returning-a-view-versus-a-copy\n",
            "  dfGreenbush['date'] = pd.to_datetime(dfGreenbush['date'])\n",
            "<ipython-input-152-b38e5fc774ad>:3: SettingWithCopyWarning: \n",
            "A value is trying to be set on a copy of a slice from a DataFrame.\n",
            "Try using .loc[row_indexer,col_indexer] = value instead\n",
            "\n",
            "See the caveats in the documentation: https://pandas.pydata.org/pandas-docs/stable/user_guide/indexing.html#returning-a-view-versus-a-copy\n",
            "  dfGreenbush['day_type'] = dfGreenbush['date'].dt.dayofweek.apply(lambda x: 'Weekend' if x > 4 else 'Weekday')\n",
            "<ipython-input-152-b38e5fc774ad>:9: SettingWithCopyWarning: \n",
            "A value is trying to be set on a copy of a slice from a DataFrame.\n",
            "Try using .loc[row_indexer,col_indexer] = value instead\n",
            "\n",
            "See the caveats in the documentation: https://pandas.pydata.org/pandas-docs/stable/user_guide/indexing.html#returning-a-view-versus-a-copy\n",
            "  df_Greenbush_weekday['year'] = pd.to_datetime(df_Greenbush_weekday['date']).dt.year\n",
            "<ipython-input-152-b38e5fc774ad>:10: SettingWithCopyWarning: \n",
            "A value is trying to be set on a copy of a slice from a DataFrame.\n",
            "Try using .loc[row_indexer,col_indexer] = value instead\n",
            "\n",
            "See the caveats in the documentation: https://pandas.pydata.org/pandas-docs/stable/user_guide/indexing.html#returning-a-view-versus-a-copy\n",
            "  df_Greenbush_weekday['month'] = pd.to_datetime(df_Greenbush_weekday['date']).dt.month\n",
            "<ipython-input-152-b38e5fc774ad>:11: SettingWithCopyWarning: \n",
            "A value is trying to be set on a copy of a slice from a DataFrame.\n",
            "Try using .loc[row_indexer,col_indexer] = value instead\n",
            "\n",
            "See the caveats in the documentation: https://pandas.pydata.org/pandas-docs/stable/user_guide/indexing.html#returning-a-view-versus-a-copy\n",
            "  df_Greenbush_weekday['day'] = pd.to_datetime(df_Greenbush_weekday['date']).dt.day\n",
            "<ipython-input-152-b38e5fc774ad>:15: SettingWithCopyWarning: \n",
            "A value is trying to be set on a copy of a slice from a DataFrame.\n",
            "Try using .loc[row_indexer,col_indexer] = value instead\n",
            "\n",
            "See the caveats in the documentation: https://pandas.pydata.org/pandas-docs/stable/user_guide/indexing.html#returning-a-view-versus-a-copy\n",
            "  df_Greenbush_weekend['year'] = pd.to_datetime(df_Greenbush_weekend['date']).dt.year\n",
            "<ipython-input-152-b38e5fc774ad>:16: SettingWithCopyWarning: \n",
            "A value is trying to be set on a copy of a slice from a DataFrame.\n",
            "Try using .loc[row_indexer,col_indexer] = value instead\n",
            "\n",
            "See the caveats in the documentation: https://pandas.pydata.org/pandas-docs/stable/user_guide/indexing.html#returning-a-view-versus-a-copy\n",
            "  df_Greenbush_weekend['month'] = pd.to_datetime(df_Greenbush_weekend['date']).dt.month\n",
            "<ipython-input-152-b38e5fc774ad>:17: SettingWithCopyWarning: \n",
            "A value is trying to be set on a copy of a slice from a DataFrame.\n",
            "Try using .loc[row_indexer,col_indexer] = value instead\n",
            "\n",
            "See the caveats in the documentation: https://pandas.pydata.org/pandas-docs/stable/user_guide/indexing.html#returning-a-view-versus-a-copy\n",
            "  df_Greenbush_weekend['day'] = pd.to_datetime(df_Greenbush_weekend['date']).dt.day\n"
          ]
        },
        {
          "output_type": "display_data",
          "data": {
            "text/plain": [
              "<IPython.core.display.Javascript object>"
            ],
            "application/javascript": [
              "\n",
              "    async function download(id, filename, size) {\n",
              "      if (!google.colab.kernel.accessAllowed) {\n",
              "        return;\n",
              "      }\n",
              "      const div = document.createElement('div');\n",
              "      const label = document.createElement('label');\n",
              "      label.textContent = `Downloading \"${filename}\": `;\n",
              "      div.appendChild(label);\n",
              "      const progress = document.createElement('progress');\n",
              "      progress.max = size;\n",
              "      div.appendChild(progress);\n",
              "      document.body.appendChild(div);\n",
              "\n",
              "      const buffers = [];\n",
              "      let downloaded = 0;\n",
              "\n",
              "      const channel = await google.colab.kernel.comms.open(id);\n",
              "      // Send a message to notify the kernel that we're ready.\n",
              "      channel.send({})\n",
              "\n",
              "      for await (const message of channel.messages) {\n",
              "        // Send a message to notify the kernel that we're ready.\n",
              "        channel.send({})\n",
              "        if (message.buffers) {\n",
              "          for (const buffer of message.buffers) {\n",
              "            buffers.push(buffer);\n",
              "            downloaded += buffer.byteLength;\n",
              "            progress.value = downloaded;\n",
              "          }\n",
              "        }\n",
              "      }\n",
              "      const blob = new Blob(buffers, {type: 'application/binary'});\n",
              "      const a = document.createElement('a');\n",
              "      a.href = window.URL.createObjectURL(blob);\n",
              "      a.download = filename;\n",
              "      div.appendChild(a);\n",
              "      a.click();\n",
              "      div.remove();\n",
              "    }\n",
              "  "
            ]
          },
          "metadata": {}
        },
        {
          "output_type": "display_data",
          "data": {
            "text/plain": [
              "<IPython.core.display.Javascript object>"
            ],
            "application/javascript": [
              "download(\"download_da67f70a-3188-4487-a215-91f4aa03f48c\", \"Greenbush_weekend.csv\", 1941)"
            ]
          },
          "metadata": {}
        },
        {
          "output_type": "display_data",
          "data": {
            "text/plain": [
              "<IPython.core.display.Javascript object>"
            ],
            "application/javascript": [
              "\n",
              "    async function download(id, filename, size) {\n",
              "      if (!google.colab.kernel.accessAllowed) {\n",
              "        return;\n",
              "      }\n",
              "      const div = document.createElement('div');\n",
              "      const label = document.createElement('label');\n",
              "      label.textContent = `Downloading \"${filename}\": `;\n",
              "      div.appendChild(label);\n",
              "      const progress = document.createElement('progress');\n",
              "      progress.max = size;\n",
              "      div.appendChild(progress);\n",
              "      document.body.appendChild(div);\n",
              "\n",
              "      const buffers = [];\n",
              "      let downloaded = 0;\n",
              "\n",
              "      const channel = await google.colab.kernel.comms.open(id);\n",
              "      // Send a message to notify the kernel that we're ready.\n",
              "      channel.send({})\n",
              "\n",
              "      for await (const message of channel.messages) {\n",
              "        // Send a message to notify the kernel that we're ready.\n",
              "        channel.send({})\n",
              "        if (message.buffers) {\n",
              "          for (const buffer of message.buffers) {\n",
              "            buffers.push(buffer);\n",
              "            downloaded += buffer.byteLength;\n",
              "            progress.value = downloaded;\n",
              "          }\n",
              "        }\n",
              "      }\n",
              "      const blob = new Blob(buffers, {type: 'application/binary'});\n",
              "      const a = document.createElement('a');\n",
              "      a.href = window.URL.createObjectURL(blob);\n",
              "      a.download = filename;\n",
              "      div.appendChild(a);\n",
              "      a.click();\n",
              "      div.remove();\n",
              "    }\n",
              "  "
            ]
          },
          "metadata": {}
        },
        {
          "output_type": "display_data",
          "data": {
            "text/plain": [
              "<IPython.core.display.Javascript object>"
            ],
            "application/javascript": [
              "download(\"download_da2c21c6-cd78-4fa2-9b45-de4c2d916b2b\", \"Greenbush_weekday.csv\", 2328)"
            ]
          },
          "metadata": {}
        }
      ]
    },
    {
      "cell_type": "code",
      "source": [
        "dfNeedham = df[df[\"route_id\"] == \"CR-Needham\"]\n",
        "dfNeedham['date'] = pd.to_datetime(dfNeedham['date'])\n",
        "dfNeedham['day_type'] = dfNeedham['date'].dt.dayofweek.apply(lambda x: 'Weekend' if x > 4 else 'Weekday')\n",
        "df_Needham_weekday = dfNeedham[dfNeedham['day_type'] == 'Weekday']\n",
        "df_Needham_weekend = dfNeedham[dfNeedham['day_type'] == 'Weekend']\n",
        "\n",
        "\n",
        "\n",
        "df_Needham_weekday['year'] = pd.to_datetime(df_Needham_weekday['date']).dt.year\n",
        "df_Needham_weekday['month'] = pd.to_datetime(df_Needham_weekday['date']).dt.month\n",
        "df_Needham_weekday['day'] = pd.to_datetime(df_Needham_weekday['date']).dt.day\n",
        "\n",
        "df_Needham_weekday = df_Needham_weekday.drop_duplicates(subset=['year', 'month'])\n",
        "\n",
        "df_Needham_weekend['year'] = pd.to_datetime(df_Needham_weekend['date']).dt.year\n",
        "df_Needham_weekend['month'] = pd.to_datetime(df_Needham_weekend['date']).dt.month\n",
        "df_Needham_weekend['day'] = pd.to_datetime(df_Needham_weekend['date']).dt.day\n",
        "\n",
        "df_Needham_weekend = df_Needham_weekend.drop_duplicates(subset=['year', 'month'])\n",
        "\n",
        "\n",
        "\n",
        "csv_file_path = 'Needham_weekend.csv'\n",
        "df_Needham_weekend.to_csv(csv_file_path, index=False)\n",
        "files.download(csv_file_path)\n",
        "\n",
        "csv_file_path = 'Needham_weekday.csv'\n",
        "df_Needham_weekday.to_csv(csv_file_path, index=False)\n",
        "files.download(csv_file_path)\n",
        "\n"
      ],
      "metadata": {
        "colab": {
          "base_uri": "https://localhost:8080/",
          "height": 894
        },
        "id": "AAZ2E9A13t5s",
        "outputId": "daef70e3-1e53-4236-aed4-f75e5a8db583"
      },
      "execution_count": 153,
      "outputs": [
        {
          "output_type": "stream",
          "name": "stderr",
          "text": [
            "<ipython-input-153-7f71aacf93ae>:2: SettingWithCopyWarning: \n",
            "A value is trying to be set on a copy of a slice from a DataFrame.\n",
            "Try using .loc[row_indexer,col_indexer] = value instead\n",
            "\n",
            "See the caveats in the documentation: https://pandas.pydata.org/pandas-docs/stable/user_guide/indexing.html#returning-a-view-versus-a-copy\n",
            "  dfNeedham['date'] = pd.to_datetime(dfNeedham['date'])\n",
            "<ipython-input-153-7f71aacf93ae>:3: SettingWithCopyWarning: \n",
            "A value is trying to be set on a copy of a slice from a DataFrame.\n",
            "Try using .loc[row_indexer,col_indexer] = value instead\n",
            "\n",
            "See the caveats in the documentation: https://pandas.pydata.org/pandas-docs/stable/user_guide/indexing.html#returning-a-view-versus-a-copy\n",
            "  dfNeedham['day_type'] = dfNeedham['date'].dt.dayofweek.apply(lambda x: 'Weekend' if x > 4 else 'Weekday')\n",
            "<ipython-input-153-7f71aacf93ae>:9: SettingWithCopyWarning: \n",
            "A value is trying to be set on a copy of a slice from a DataFrame.\n",
            "Try using .loc[row_indexer,col_indexer] = value instead\n",
            "\n",
            "See the caveats in the documentation: https://pandas.pydata.org/pandas-docs/stable/user_guide/indexing.html#returning-a-view-versus-a-copy\n",
            "  df_Needham_weekday['year'] = pd.to_datetime(df_Needham_weekday['date']).dt.year\n",
            "<ipython-input-153-7f71aacf93ae>:10: SettingWithCopyWarning: \n",
            "A value is trying to be set on a copy of a slice from a DataFrame.\n",
            "Try using .loc[row_indexer,col_indexer] = value instead\n",
            "\n",
            "See the caveats in the documentation: https://pandas.pydata.org/pandas-docs/stable/user_guide/indexing.html#returning-a-view-versus-a-copy\n",
            "  df_Needham_weekday['month'] = pd.to_datetime(df_Needham_weekday['date']).dt.month\n",
            "<ipython-input-153-7f71aacf93ae>:11: SettingWithCopyWarning: \n",
            "A value is trying to be set on a copy of a slice from a DataFrame.\n",
            "Try using .loc[row_indexer,col_indexer] = value instead\n",
            "\n",
            "See the caveats in the documentation: https://pandas.pydata.org/pandas-docs/stable/user_guide/indexing.html#returning-a-view-versus-a-copy\n",
            "  df_Needham_weekday['day'] = pd.to_datetime(df_Needham_weekday['date']).dt.day\n",
            "<ipython-input-153-7f71aacf93ae>:15: SettingWithCopyWarning: \n",
            "A value is trying to be set on a copy of a slice from a DataFrame.\n",
            "Try using .loc[row_indexer,col_indexer] = value instead\n",
            "\n",
            "See the caveats in the documentation: https://pandas.pydata.org/pandas-docs/stable/user_guide/indexing.html#returning-a-view-versus-a-copy\n",
            "  df_Needham_weekend['year'] = pd.to_datetime(df_Needham_weekend['date']).dt.year\n",
            "<ipython-input-153-7f71aacf93ae>:16: SettingWithCopyWarning: \n",
            "A value is trying to be set on a copy of a slice from a DataFrame.\n",
            "Try using .loc[row_indexer,col_indexer] = value instead\n",
            "\n",
            "See the caveats in the documentation: https://pandas.pydata.org/pandas-docs/stable/user_guide/indexing.html#returning-a-view-versus-a-copy\n",
            "  df_Needham_weekend['month'] = pd.to_datetime(df_Needham_weekend['date']).dt.month\n",
            "<ipython-input-153-7f71aacf93ae>:17: SettingWithCopyWarning: \n",
            "A value is trying to be set on a copy of a slice from a DataFrame.\n",
            "Try using .loc[row_indexer,col_indexer] = value instead\n",
            "\n",
            "See the caveats in the documentation: https://pandas.pydata.org/pandas-docs/stable/user_guide/indexing.html#returning-a-view-versus-a-copy\n",
            "  df_Needham_weekend['day'] = pd.to_datetime(df_Needham_weekend['date']).dt.day\n"
          ]
        },
        {
          "output_type": "display_data",
          "data": {
            "text/plain": [
              "<IPython.core.display.Javascript object>"
            ],
            "application/javascript": [
              "\n",
              "    async function download(id, filename, size) {\n",
              "      if (!google.colab.kernel.accessAllowed) {\n",
              "        return;\n",
              "      }\n",
              "      const div = document.createElement('div');\n",
              "      const label = document.createElement('label');\n",
              "      label.textContent = `Downloading \"${filename}\": `;\n",
              "      div.appendChild(label);\n",
              "      const progress = document.createElement('progress');\n",
              "      progress.max = size;\n",
              "      div.appendChild(progress);\n",
              "      document.body.appendChild(div);\n",
              "\n",
              "      const buffers = [];\n",
              "      let downloaded = 0;\n",
              "\n",
              "      const channel = await google.colab.kernel.comms.open(id);\n",
              "      // Send a message to notify the kernel that we're ready.\n",
              "      channel.send({})\n",
              "\n",
              "      for await (const message of channel.messages) {\n",
              "        // Send a message to notify the kernel that we're ready.\n",
              "        channel.send({})\n",
              "        if (message.buffers) {\n",
              "          for (const buffer of message.buffers) {\n",
              "            buffers.push(buffer);\n",
              "            downloaded += buffer.byteLength;\n",
              "            progress.value = downloaded;\n",
              "          }\n",
              "        }\n",
              "      }\n",
              "      const blob = new Blob(buffers, {type: 'application/binary'});\n",
              "      const a = document.createElement('a');\n",
              "      a.href = window.URL.createObjectURL(blob);\n",
              "      a.download = filename;\n",
              "      div.appendChild(a);\n",
              "      a.click();\n",
              "      div.remove();\n",
              "    }\n",
              "  "
            ]
          },
          "metadata": {}
        },
        {
          "output_type": "display_data",
          "data": {
            "text/plain": [
              "<IPython.core.display.Javascript object>"
            ],
            "application/javascript": [
              "download(\"download_305e7287-2961-4a84-842b-4b7add060b9f\", \"Needham_weekend.csv\", 1945)"
            ]
          },
          "metadata": {}
        },
        {
          "output_type": "display_data",
          "data": {
            "text/plain": [
              "<IPython.core.display.Javascript object>"
            ],
            "application/javascript": [
              "\n",
              "    async function download(id, filename, size) {\n",
              "      if (!google.colab.kernel.accessAllowed) {\n",
              "        return;\n",
              "      }\n",
              "      const div = document.createElement('div');\n",
              "      const label = document.createElement('label');\n",
              "      label.textContent = `Downloading \"${filename}\": `;\n",
              "      div.appendChild(label);\n",
              "      const progress = document.createElement('progress');\n",
              "      progress.max = size;\n",
              "      div.appendChild(progress);\n",
              "      document.body.appendChild(div);\n",
              "\n",
              "      const buffers = [];\n",
              "      let downloaded = 0;\n",
              "\n",
              "      const channel = await google.colab.kernel.comms.open(id);\n",
              "      // Send a message to notify the kernel that we're ready.\n",
              "      channel.send({})\n",
              "\n",
              "      for await (const message of channel.messages) {\n",
              "        // Send a message to notify the kernel that we're ready.\n",
              "        channel.send({})\n",
              "        if (message.buffers) {\n",
              "          for (const buffer of message.buffers) {\n",
              "            buffers.push(buffer);\n",
              "            downloaded += buffer.byteLength;\n",
              "            progress.value = downloaded;\n",
              "          }\n",
              "        }\n",
              "      }\n",
              "      const blob = new Blob(buffers, {type: 'application/binary'});\n",
              "      const a = document.createElement('a');\n",
              "      a.href = window.URL.createObjectURL(blob);\n",
              "      a.download = filename;\n",
              "      div.appendChild(a);\n",
              "      a.click();\n",
              "      div.remove();\n",
              "    }\n",
              "  "
            ]
          },
          "metadata": {}
        },
        {
          "output_type": "display_data",
          "data": {
            "text/plain": [
              "<IPython.core.display.Javascript object>"
            ],
            "application/javascript": [
              "download(\"download_df78f380-14ef-4559-94f4-f1b9be10a8dc\", \"Needham_weekday.csv\", 2255)"
            ]
          },
          "metadata": {}
        }
      ]
    },
    {
      "cell_type": "code",
      "source": [
        "dfFairmount = df[df[\"route_id\"] == \"CR-Fairmount\"]\n",
        "dfFairmount['date'] = pd.to_datetime(dfFairmount['date'])\n",
        "dfFairmount['day_type'] = dfFairmount['date'].dt.dayofweek.apply(lambda x: 'Weekend' if x > 4 else 'Weekday')\n",
        "df_Fairmount_weekday = dfFairmount[dfFairmount['day_type'] == 'Weekday']\n",
        "df_Fairmount_weekend = dfFairmount[dfFairmount['day_type'] == 'Weekend']\n",
        "\n",
        "\n",
        "\n",
        "df_Fairmount_weekday['year'] = pd.to_datetime(df_Fairmount_weekday['date']).dt.year\n",
        "df_Fairmount_weekday['month'] = pd.to_datetime(df_Fairmount_weekday['date']).dt.month\n",
        "df_Fairmount_weekday['day'] = pd.to_datetime(df_Fairmount_weekday['date']).dt.day\n",
        "\n",
        "df_Fairmount_weekday = df_Fairmount_weekday.drop_duplicates(subset=['year', 'month'])\n",
        "\n",
        "df_Fairmount_weekend['year'] = pd.to_datetime(df_Fairmount_weekend['date']).dt.year\n",
        "df_Fairmount_weekend['month'] = pd.to_datetime(df_Fairmount_weekend['date']).dt.month\n",
        "df_Fairmount_weekend['day'] = pd.to_datetime(df_Fairmount_weekend['date']).dt.day\n",
        "\n",
        "df_Fairmount_weekend = df_Fairmount_weekend.drop_duplicates(subset=['year', 'month'])\n",
        "\n",
        "\n",
        "\n",
        "csv_file_path = 'Fairmount_weekend.csv'\n",
        "df_Fairmount_weekend.to_csv(csv_file_path, index=False)\n",
        "files.download(csv_file_path)\n",
        "\n",
        "csv_file_path = 'Fairmount_weekday.csv'\n",
        "df_Fairmount_weekday.to_csv(csv_file_path, index=False)\n",
        "files.download(csv_file_path)\n",
        "\n"
      ],
      "metadata": {
        "colab": {
          "base_uri": "https://localhost:8080/",
          "height": 894
        },
        "id": "4JrubQ553t8A",
        "outputId": "149af3ca-f391-46d6-e65b-dac4d734e151"
      },
      "execution_count": 154,
      "outputs": [
        {
          "output_type": "stream",
          "name": "stderr",
          "text": [
            "<ipython-input-154-f3b2acb1eda0>:2: SettingWithCopyWarning: \n",
            "A value is trying to be set on a copy of a slice from a DataFrame.\n",
            "Try using .loc[row_indexer,col_indexer] = value instead\n",
            "\n",
            "See the caveats in the documentation: https://pandas.pydata.org/pandas-docs/stable/user_guide/indexing.html#returning-a-view-versus-a-copy\n",
            "  dfFairmount['date'] = pd.to_datetime(dfFairmount['date'])\n",
            "<ipython-input-154-f3b2acb1eda0>:3: SettingWithCopyWarning: \n",
            "A value is trying to be set on a copy of a slice from a DataFrame.\n",
            "Try using .loc[row_indexer,col_indexer] = value instead\n",
            "\n",
            "See the caveats in the documentation: https://pandas.pydata.org/pandas-docs/stable/user_guide/indexing.html#returning-a-view-versus-a-copy\n",
            "  dfFairmount['day_type'] = dfFairmount['date'].dt.dayofweek.apply(lambda x: 'Weekend' if x > 4 else 'Weekday')\n",
            "<ipython-input-154-f3b2acb1eda0>:9: SettingWithCopyWarning: \n",
            "A value is trying to be set on a copy of a slice from a DataFrame.\n",
            "Try using .loc[row_indexer,col_indexer] = value instead\n",
            "\n",
            "See the caveats in the documentation: https://pandas.pydata.org/pandas-docs/stable/user_guide/indexing.html#returning-a-view-versus-a-copy\n",
            "  df_Fairmount_weekday['year'] = pd.to_datetime(df_Fairmount_weekday['date']).dt.year\n",
            "<ipython-input-154-f3b2acb1eda0>:10: SettingWithCopyWarning: \n",
            "A value is trying to be set on a copy of a slice from a DataFrame.\n",
            "Try using .loc[row_indexer,col_indexer] = value instead\n",
            "\n",
            "See the caveats in the documentation: https://pandas.pydata.org/pandas-docs/stable/user_guide/indexing.html#returning-a-view-versus-a-copy\n",
            "  df_Fairmount_weekday['month'] = pd.to_datetime(df_Fairmount_weekday['date']).dt.month\n",
            "<ipython-input-154-f3b2acb1eda0>:11: SettingWithCopyWarning: \n",
            "A value is trying to be set on a copy of a slice from a DataFrame.\n",
            "Try using .loc[row_indexer,col_indexer] = value instead\n",
            "\n",
            "See the caveats in the documentation: https://pandas.pydata.org/pandas-docs/stable/user_guide/indexing.html#returning-a-view-versus-a-copy\n",
            "  df_Fairmount_weekday['day'] = pd.to_datetime(df_Fairmount_weekday['date']).dt.day\n",
            "<ipython-input-154-f3b2acb1eda0>:15: SettingWithCopyWarning: \n",
            "A value is trying to be set on a copy of a slice from a DataFrame.\n",
            "Try using .loc[row_indexer,col_indexer] = value instead\n",
            "\n",
            "See the caveats in the documentation: https://pandas.pydata.org/pandas-docs/stable/user_guide/indexing.html#returning-a-view-versus-a-copy\n",
            "  df_Fairmount_weekend['year'] = pd.to_datetime(df_Fairmount_weekend['date']).dt.year\n",
            "<ipython-input-154-f3b2acb1eda0>:16: SettingWithCopyWarning: \n",
            "A value is trying to be set on a copy of a slice from a DataFrame.\n",
            "Try using .loc[row_indexer,col_indexer] = value instead\n",
            "\n",
            "See the caveats in the documentation: https://pandas.pydata.org/pandas-docs/stable/user_guide/indexing.html#returning-a-view-versus-a-copy\n",
            "  df_Fairmount_weekend['month'] = pd.to_datetime(df_Fairmount_weekend['date']).dt.month\n",
            "<ipython-input-154-f3b2acb1eda0>:17: SettingWithCopyWarning: \n",
            "A value is trying to be set on a copy of a slice from a DataFrame.\n",
            "Try using .loc[row_indexer,col_indexer] = value instead\n",
            "\n",
            "See the caveats in the documentation: https://pandas.pydata.org/pandas-docs/stable/user_guide/indexing.html#returning-a-view-versus-a-copy\n",
            "  df_Fairmount_weekend['day'] = pd.to_datetime(df_Fairmount_weekend['date']).dt.day\n"
          ]
        },
        {
          "output_type": "display_data",
          "data": {
            "text/plain": [
              "<IPython.core.display.Javascript object>"
            ],
            "application/javascript": [
              "\n",
              "    async function download(id, filename, size) {\n",
              "      if (!google.colab.kernel.accessAllowed) {\n",
              "        return;\n",
              "      }\n",
              "      const div = document.createElement('div');\n",
              "      const label = document.createElement('label');\n",
              "      label.textContent = `Downloading \"${filename}\": `;\n",
              "      div.appendChild(label);\n",
              "      const progress = document.createElement('progress');\n",
              "      progress.max = size;\n",
              "      div.appendChild(progress);\n",
              "      document.body.appendChild(div);\n",
              "\n",
              "      const buffers = [];\n",
              "      let downloaded = 0;\n",
              "\n",
              "      const channel = await google.colab.kernel.comms.open(id);\n",
              "      // Send a message to notify the kernel that we're ready.\n",
              "      channel.send({})\n",
              "\n",
              "      for await (const message of channel.messages) {\n",
              "        // Send a message to notify the kernel that we're ready.\n",
              "        channel.send({})\n",
              "        if (message.buffers) {\n",
              "          for (const buffer of message.buffers) {\n",
              "            buffers.push(buffer);\n",
              "            downloaded += buffer.byteLength;\n",
              "            progress.value = downloaded;\n",
              "          }\n",
              "        }\n",
              "      }\n",
              "      const blob = new Blob(buffers, {type: 'application/binary'});\n",
              "      const a = document.createElement('a');\n",
              "      a.href = window.URL.createObjectURL(blob);\n",
              "      a.download = filename;\n",
              "      div.appendChild(a);\n",
              "      a.click();\n",
              "      div.remove();\n",
              "    }\n",
              "  "
            ]
          },
          "metadata": {}
        },
        {
          "output_type": "display_data",
          "data": {
            "text/plain": [
              "<IPython.core.display.Javascript object>"
            ],
            "application/javascript": [
              "download(\"download_c6fc3891-9fa5-48ee-8b91-679f35d16df7\", \"Fairmount_weekend.csv\", 2324)"
            ]
          },
          "metadata": {}
        },
        {
          "output_type": "display_data",
          "data": {
            "text/plain": [
              "<IPython.core.display.Javascript object>"
            ],
            "application/javascript": [
              "\n",
              "    async function download(id, filename, size) {\n",
              "      if (!google.colab.kernel.accessAllowed) {\n",
              "        return;\n",
              "      }\n",
              "      const div = document.createElement('div');\n",
              "      const label = document.createElement('label');\n",
              "      label.textContent = `Downloading \"${filename}\": `;\n",
              "      div.appendChild(label);\n",
              "      const progress = document.createElement('progress');\n",
              "      progress.max = size;\n",
              "      div.appendChild(progress);\n",
              "      document.body.appendChild(div);\n",
              "\n",
              "      const buffers = [];\n",
              "      let downloaded = 0;\n",
              "\n",
              "      const channel = await google.colab.kernel.comms.open(id);\n",
              "      // Send a message to notify the kernel that we're ready.\n",
              "      channel.send({})\n",
              "\n",
              "      for await (const message of channel.messages) {\n",
              "        // Send a message to notify the kernel that we're ready.\n",
              "        channel.send({})\n",
              "        if (message.buffers) {\n",
              "          for (const buffer of message.buffers) {\n",
              "            buffers.push(buffer);\n",
              "            downloaded += buffer.byteLength;\n",
              "            progress.value = downloaded;\n",
              "          }\n",
              "        }\n",
              "      }\n",
              "      const blob = new Blob(buffers, {type: 'application/binary'});\n",
              "      const a = document.createElement('a');\n",
              "      a.href = window.URL.createObjectURL(blob);\n",
              "      a.download = filename;\n",
              "      div.appendChild(a);\n",
              "      a.click();\n",
              "      div.remove();\n",
              "    }\n",
              "  "
            ]
          },
          "metadata": {}
        },
        {
          "output_type": "display_data",
          "data": {
            "text/plain": [
              "<IPython.core.display.Javascript object>"
            ],
            "application/javascript": [
              "download(\"download_24fa15d1-234d-4a3c-9900-ed635ff34689\", \"Fairmount_weekday.csv\", 2342)"
            ]
          },
          "metadata": {}
        }
      ]
    },
    {
      "cell_type": "code",
      "source": [
        "dfFoxboro = df[df[\"route_id\"] == \"CR-Foxboro\"]\n",
        "dfFoxboro['date'] = pd.to_datetime(dfFoxboro['date'])\n",
        "dfFoxboro['day_type'] = dfFoxboro['date'].dt.dayofweek.apply(lambda x: 'Weekend' if x > 4 else 'Weekday')\n",
        "df_Foxboro_weekday = dfFoxboro[dfFoxboro['day_type'] == 'Weekday']\n",
        "df_Foxboro_weekend = dfFoxboro[dfFoxboro['day_type'] == 'Weekend']\n",
        "\n",
        "\n",
        "\n",
        "df_Foxboro_weekday['year'] = pd.to_datetime(df_Foxboro_weekday['date']).dt.year\n",
        "df_Foxboro_weekday['month'] = pd.to_datetime(df_Foxboro_weekday['date']).dt.month\n",
        "df_Foxboro_weekday['day'] = pd.to_datetime(df_Foxboro_weekday['date']).dt.day\n",
        "\n",
        "df_Foxboro_weekday = df_Foxboro_weekday.drop_duplicates(subset=['year', 'month'])\n",
        "\n",
        "df_Foxboro_weekend['year'] = pd.to_datetime(df_Foxboro_weekend['date']).dt.year\n",
        "df_Foxboro_weekend['month'] = pd.to_datetime(df_Foxboro_weekend['date']).dt.month\n",
        "df_Foxboro_weekend['day'] = pd.to_datetime(df_Foxboro_weekend['date']).dt.day\n",
        "\n",
        "df_Foxboro_weekend = df_Foxboro_weekend.drop_duplicates(subset=['year', 'month'])\n",
        "\n",
        "\n",
        "\n",
        "csv_file_path = 'Foxboro_weekend.csv'\n",
        "df_Foxboro_weekend.to_csv(csv_file_path, index=False)\n",
        "files.download(csv_file_path)\n",
        "\n",
        "csv_file_path = 'Foxboro_weekday.csv'\n",
        "df_Foxboro_weekday.to_csv(csv_file_path, index=False)\n",
        "files.download(csv_file_path)\n",
        "\n"
      ],
      "metadata": {
        "colab": {
          "base_uri": "https://localhost:8080/",
          "height": 894
        },
        "id": "cFGpqKWU3uCd",
        "outputId": "c9b2cded-4263-40f2-c122-3ac355c364f5"
      },
      "execution_count": 155,
      "outputs": [
        {
          "output_type": "stream",
          "name": "stderr",
          "text": [
            "<ipython-input-155-a2cb7ca9fdf9>:2: SettingWithCopyWarning: \n",
            "A value is trying to be set on a copy of a slice from a DataFrame.\n",
            "Try using .loc[row_indexer,col_indexer] = value instead\n",
            "\n",
            "See the caveats in the documentation: https://pandas.pydata.org/pandas-docs/stable/user_guide/indexing.html#returning-a-view-versus-a-copy\n",
            "  dfFoxboro['date'] = pd.to_datetime(dfFoxboro['date'])\n",
            "<ipython-input-155-a2cb7ca9fdf9>:3: SettingWithCopyWarning: \n",
            "A value is trying to be set on a copy of a slice from a DataFrame.\n",
            "Try using .loc[row_indexer,col_indexer] = value instead\n",
            "\n",
            "See the caveats in the documentation: https://pandas.pydata.org/pandas-docs/stable/user_guide/indexing.html#returning-a-view-versus-a-copy\n",
            "  dfFoxboro['day_type'] = dfFoxboro['date'].dt.dayofweek.apply(lambda x: 'Weekend' if x > 4 else 'Weekday')\n",
            "<ipython-input-155-a2cb7ca9fdf9>:9: SettingWithCopyWarning: \n",
            "A value is trying to be set on a copy of a slice from a DataFrame.\n",
            "Try using .loc[row_indexer,col_indexer] = value instead\n",
            "\n",
            "See the caveats in the documentation: https://pandas.pydata.org/pandas-docs/stable/user_guide/indexing.html#returning-a-view-versus-a-copy\n",
            "  df_Foxboro_weekday['year'] = pd.to_datetime(df_Foxboro_weekday['date']).dt.year\n",
            "<ipython-input-155-a2cb7ca9fdf9>:10: SettingWithCopyWarning: \n",
            "A value is trying to be set on a copy of a slice from a DataFrame.\n",
            "Try using .loc[row_indexer,col_indexer] = value instead\n",
            "\n",
            "See the caveats in the documentation: https://pandas.pydata.org/pandas-docs/stable/user_guide/indexing.html#returning-a-view-versus-a-copy\n",
            "  df_Foxboro_weekday['month'] = pd.to_datetime(df_Foxboro_weekday['date']).dt.month\n",
            "<ipython-input-155-a2cb7ca9fdf9>:11: SettingWithCopyWarning: \n",
            "A value is trying to be set on a copy of a slice from a DataFrame.\n",
            "Try using .loc[row_indexer,col_indexer] = value instead\n",
            "\n",
            "See the caveats in the documentation: https://pandas.pydata.org/pandas-docs/stable/user_guide/indexing.html#returning-a-view-versus-a-copy\n",
            "  df_Foxboro_weekday['day'] = pd.to_datetime(df_Foxboro_weekday['date']).dt.day\n",
            "<ipython-input-155-a2cb7ca9fdf9>:15: SettingWithCopyWarning: \n",
            "A value is trying to be set on a copy of a slice from a DataFrame.\n",
            "Try using .loc[row_indexer,col_indexer] = value instead\n",
            "\n",
            "See the caveats in the documentation: https://pandas.pydata.org/pandas-docs/stable/user_guide/indexing.html#returning-a-view-versus-a-copy\n",
            "  df_Foxboro_weekend['year'] = pd.to_datetime(df_Foxboro_weekend['date']).dt.year\n",
            "<ipython-input-155-a2cb7ca9fdf9>:16: SettingWithCopyWarning: \n",
            "A value is trying to be set on a copy of a slice from a DataFrame.\n",
            "Try using .loc[row_indexer,col_indexer] = value instead\n",
            "\n",
            "See the caveats in the documentation: https://pandas.pydata.org/pandas-docs/stable/user_guide/indexing.html#returning-a-view-versus-a-copy\n",
            "  df_Foxboro_weekend['month'] = pd.to_datetime(df_Foxboro_weekend['date']).dt.month\n",
            "<ipython-input-155-a2cb7ca9fdf9>:17: SettingWithCopyWarning: \n",
            "A value is trying to be set on a copy of a slice from a DataFrame.\n",
            "Try using .loc[row_indexer,col_indexer] = value instead\n",
            "\n",
            "See the caveats in the documentation: https://pandas.pydata.org/pandas-docs/stable/user_guide/indexing.html#returning-a-view-versus-a-copy\n",
            "  df_Foxboro_weekend['day'] = pd.to_datetime(df_Foxboro_weekend['date']).dt.day\n"
          ]
        },
        {
          "output_type": "display_data",
          "data": {
            "text/plain": [
              "<IPython.core.display.Javascript object>"
            ],
            "application/javascript": [
              "\n",
              "    async function download(id, filename, size) {\n",
              "      if (!google.colab.kernel.accessAllowed) {\n",
              "        return;\n",
              "      }\n",
              "      const div = document.createElement('div');\n",
              "      const label = document.createElement('label');\n",
              "      label.textContent = `Downloading \"${filename}\": `;\n",
              "      div.appendChild(label);\n",
              "      const progress = document.createElement('progress');\n",
              "      progress.max = size;\n",
              "      div.appendChild(progress);\n",
              "      document.body.appendChild(div);\n",
              "\n",
              "      const buffers = [];\n",
              "      let downloaded = 0;\n",
              "\n",
              "      const channel = await google.colab.kernel.comms.open(id);\n",
              "      // Send a message to notify the kernel that we're ready.\n",
              "      channel.send({})\n",
              "\n",
              "      for await (const message of channel.messages) {\n",
              "        // Send a message to notify the kernel that we're ready.\n",
              "        channel.send({})\n",
              "        if (message.buffers) {\n",
              "          for (const buffer of message.buffers) {\n",
              "            buffers.push(buffer);\n",
              "            downloaded += buffer.byteLength;\n",
              "            progress.value = downloaded;\n",
              "          }\n",
              "        }\n",
              "      }\n",
              "      const blob = new Blob(buffers, {type: 'application/binary'});\n",
              "      const a = document.createElement('a');\n",
              "      a.href = window.URL.createObjectURL(blob);\n",
              "      a.download = filename;\n",
              "      div.appendChild(a);\n",
              "      a.click();\n",
              "      div.remove();\n",
              "    }\n",
              "  "
            ]
          },
          "metadata": {}
        },
        {
          "output_type": "display_data",
          "data": {
            "text/plain": [
              "<IPython.core.display.Javascript object>"
            ],
            "application/javascript": [
              "download(\"download_99dd9f9c-185d-4f82-acef-01571f5124a2\", \"Foxboro_weekend.csv\", 687)"
            ]
          },
          "metadata": {}
        },
        {
          "output_type": "display_data",
          "data": {
            "text/plain": [
              "<IPython.core.display.Javascript object>"
            ],
            "application/javascript": [
              "\n",
              "    async function download(id, filename, size) {\n",
              "      if (!google.colab.kernel.accessAllowed) {\n",
              "        return;\n",
              "      }\n",
              "      const div = document.createElement('div');\n",
              "      const label = document.createElement('label');\n",
              "      label.textContent = `Downloading \"${filename}\": `;\n",
              "      div.appendChild(label);\n",
              "      const progress = document.createElement('progress');\n",
              "      progress.max = size;\n",
              "      div.appendChild(progress);\n",
              "      document.body.appendChild(div);\n",
              "\n",
              "      const buffers = [];\n",
              "      let downloaded = 0;\n",
              "\n",
              "      const channel = await google.colab.kernel.comms.open(id);\n",
              "      // Send a message to notify the kernel that we're ready.\n",
              "      channel.send({})\n",
              "\n",
              "      for await (const message of channel.messages) {\n",
              "        // Send a message to notify the kernel that we're ready.\n",
              "        channel.send({})\n",
              "        if (message.buffers) {\n",
              "          for (const buffer of message.buffers) {\n",
              "            buffers.push(buffer);\n",
              "            downloaded += buffer.byteLength;\n",
              "            progress.value = downloaded;\n",
              "          }\n",
              "        }\n",
              "      }\n",
              "      const blob = new Blob(buffers, {type: 'application/binary'});\n",
              "      const a = document.createElement('a');\n",
              "      a.href = window.URL.createObjectURL(blob);\n",
              "      a.download = filename;\n",
              "      div.appendChild(a);\n",
              "      a.click();\n",
              "      div.remove();\n",
              "    }\n",
              "  "
            ]
          },
          "metadata": {}
        },
        {
          "output_type": "display_data",
          "data": {
            "text/plain": [
              "<IPython.core.display.Javascript object>"
            ],
            "application/javascript": [
              "download(\"download_50f0c7d0-86ad-490a-a23f-04faa8498e34\", \"Foxboro_weekday.csv\", 397)"
            ]
          },
          "metadata": {}
        }
      ]
    }
  ]
}