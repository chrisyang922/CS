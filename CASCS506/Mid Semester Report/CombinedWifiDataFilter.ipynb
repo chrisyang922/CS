{
  "nbformat": 4,
  "nbformat_minor": 0,
  "metadata": {
    "colab": {
      "provenance": []
    },
    "kernelspec": {
      "name": "python3",
      "display_name": "Python 3"
    },
    "language_info": {
      "name": "python"
    }
  },
  "cells": [
    {
      "cell_type": "code",
      "execution_count": 21,
      "metadata": {
        "id": "1Ocn8b6tueOM"
      },
      "outputs": [],
      "source": [
        "import pandas as pd\n",
        "import csv\n",
        "import numpy as np"
      ]
    },
    {
      "cell_type": "code",
      "source": [
        "dfGeospatial = pd.read_csv(\"updated_geospatial.csv\")\n",
        "dfGeospatial.head(5)"
      ],
      "metadata": {
        "colab": {
          "base_uri": "https://localhost:8080/",
          "height": 206
        },
        "id": "trswAB5QunOL",
        "outputId": "908caf5c-af6d-4eda-e763-a9fc40459e36"
      },
      "execution_count": 22,
      "outputs": [
        {
          "output_type": "execute_result",
          "data": {
            "text/plain": [
              "             BUILDING FLOOR  TOTAL STATIONS/BUILDING\n",
              "0   1019 Commonwealth     1                        1\n",
              "1  110-112 Cummington     2                        1\n",
              "2      111 Cummington     1                        4\n",
              "3      111 Cummington     1                        4\n",
              "4      111 Cummington     0                        4"
            ],
            "text/html": [
              "\n",
              "  <div id=\"df-ce33b6af-0983-4b93-b71a-29e520608c9c\" class=\"colab-df-container\">\n",
              "    <div>\n",
              "<style scoped>\n",
              "    .dataframe tbody tr th:only-of-type {\n",
              "        vertical-align: middle;\n",
              "    }\n",
              "\n",
              "    .dataframe tbody tr th {\n",
              "        vertical-align: top;\n",
              "    }\n",
              "\n",
              "    .dataframe thead th {\n",
              "        text-align: right;\n",
              "    }\n",
              "</style>\n",
              "<table border=\"1\" class=\"dataframe\">\n",
              "  <thead>\n",
              "    <tr style=\"text-align: right;\">\n",
              "      <th></th>\n",
              "      <th>BUILDING</th>\n",
              "      <th>FLOOR</th>\n",
              "      <th>TOTAL STATIONS/BUILDING</th>\n",
              "    </tr>\n",
              "  </thead>\n",
              "  <tbody>\n",
              "    <tr>\n",
              "      <th>0</th>\n",
              "      <td>1019 Commonwealth</td>\n",
              "      <td>1</td>\n",
              "      <td>1</td>\n",
              "    </tr>\n",
              "    <tr>\n",
              "      <th>1</th>\n",
              "      <td>110-112 Cummington</td>\n",
              "      <td>2</td>\n",
              "      <td>1</td>\n",
              "    </tr>\n",
              "    <tr>\n",
              "      <th>2</th>\n",
              "      <td>111 Cummington</td>\n",
              "      <td>1</td>\n",
              "      <td>4</td>\n",
              "    </tr>\n",
              "    <tr>\n",
              "      <th>3</th>\n",
              "      <td>111 Cummington</td>\n",
              "      <td>1</td>\n",
              "      <td>4</td>\n",
              "    </tr>\n",
              "    <tr>\n",
              "      <th>4</th>\n",
              "      <td>111 Cummington</td>\n",
              "      <td>0</td>\n",
              "      <td>4</td>\n",
              "    </tr>\n",
              "  </tbody>\n",
              "</table>\n",
              "</div>\n",
              "    <div class=\"colab-df-buttons\">\n",
              "\n",
              "  <div class=\"colab-df-container\">\n",
              "    <button class=\"colab-df-convert\" onclick=\"convertToInteractive('df-ce33b6af-0983-4b93-b71a-29e520608c9c')\"\n",
              "            title=\"Convert this dataframe to an interactive table.\"\n",
              "            style=\"display:none;\">\n",
              "\n",
              "  <svg xmlns=\"http://www.w3.org/2000/svg\" height=\"24px\" viewBox=\"0 -960 960 960\">\n",
              "    <path d=\"M120-120v-720h720v720H120Zm60-500h600v-160H180v160Zm220 220h160v-160H400v160Zm0 220h160v-160H400v160ZM180-400h160v-160H180v160Zm440 0h160v-160H620v160ZM180-180h160v-160H180v160Zm440 0h160v-160H620v160Z\"/>\n",
              "  </svg>\n",
              "    </button>\n",
              "\n",
              "  <style>\n",
              "    .colab-df-container {\n",
              "      display:flex;\n",
              "      gap: 12px;\n",
              "    }\n",
              "\n",
              "    .colab-df-convert {\n",
              "      background-color: #E8F0FE;\n",
              "      border: none;\n",
              "      border-radius: 50%;\n",
              "      cursor: pointer;\n",
              "      display: none;\n",
              "      fill: #1967D2;\n",
              "      height: 32px;\n",
              "      padding: 0 0 0 0;\n",
              "      width: 32px;\n",
              "    }\n",
              "\n",
              "    .colab-df-convert:hover {\n",
              "      background-color: #E2EBFA;\n",
              "      box-shadow: 0px 1px 2px rgba(60, 64, 67, 0.3), 0px 1px 3px 1px rgba(60, 64, 67, 0.15);\n",
              "      fill: #174EA6;\n",
              "    }\n",
              "\n",
              "    .colab-df-buttons div {\n",
              "      margin-bottom: 4px;\n",
              "    }\n",
              "\n",
              "    [theme=dark] .colab-df-convert {\n",
              "      background-color: #3B4455;\n",
              "      fill: #D2E3FC;\n",
              "    }\n",
              "\n",
              "    [theme=dark] .colab-df-convert:hover {\n",
              "      background-color: #434B5C;\n",
              "      box-shadow: 0px 1px 3px 1px rgba(0, 0, 0, 0.15);\n",
              "      filter: drop-shadow(0px 1px 2px rgba(0, 0, 0, 0.3));\n",
              "      fill: #FFFFFF;\n",
              "    }\n",
              "  </style>\n",
              "\n",
              "    <script>\n",
              "      const buttonEl =\n",
              "        document.querySelector('#df-ce33b6af-0983-4b93-b71a-29e520608c9c button.colab-df-convert');\n",
              "      buttonEl.style.display =\n",
              "        google.colab.kernel.accessAllowed ? 'block' : 'none';\n",
              "\n",
              "      async function convertToInteractive(key) {\n",
              "        const element = document.querySelector('#df-ce33b6af-0983-4b93-b71a-29e520608c9c');\n",
              "        const dataTable =\n",
              "          await google.colab.kernel.invokeFunction('convertToInteractive',\n",
              "                                                    [key], {});\n",
              "        if (!dataTable) return;\n",
              "\n",
              "        const docLinkHtml = 'Like what you see? Visit the ' +\n",
              "          '<a target=\"_blank\" href=https://colab.research.google.com/notebooks/data_table.ipynb>data table notebook</a>'\n",
              "          + ' to learn more about interactive tables.';\n",
              "        element.innerHTML = '';\n",
              "        dataTable['output_type'] = 'display_data';\n",
              "        await google.colab.output.renderOutput(dataTable, element);\n",
              "        const docLink = document.createElement('div');\n",
              "        docLink.innerHTML = docLinkHtml;\n",
              "        element.appendChild(docLink);\n",
              "      }\n",
              "    </script>\n",
              "  </div>\n",
              "\n",
              "\n",
              "<div id=\"df-ef95061a-22ff-4ade-a584-49c1fd6febb1\">\n",
              "  <button class=\"colab-df-quickchart\" onclick=\"quickchart('df-ef95061a-22ff-4ade-a584-49c1fd6febb1')\"\n",
              "            title=\"Suggest charts\"\n",
              "            style=\"display:none;\">\n",
              "\n",
              "<svg xmlns=\"http://www.w3.org/2000/svg\" height=\"24px\"viewBox=\"0 0 24 24\"\n",
              "     width=\"24px\">\n",
              "    <g>\n",
              "        <path d=\"M19 3H5c-1.1 0-2 .9-2 2v14c0 1.1.9 2 2 2h14c1.1 0 2-.9 2-2V5c0-1.1-.9-2-2-2zM9 17H7v-7h2v7zm4 0h-2V7h2v10zm4 0h-2v-4h2v4z\"/>\n",
              "    </g>\n",
              "</svg>\n",
              "  </button>\n",
              "\n",
              "<style>\n",
              "  .colab-df-quickchart {\n",
              "      --bg-color: #E8F0FE;\n",
              "      --fill-color: #1967D2;\n",
              "      --hover-bg-color: #E2EBFA;\n",
              "      --hover-fill-color: #174EA6;\n",
              "      --disabled-fill-color: #AAA;\n",
              "      --disabled-bg-color: #DDD;\n",
              "  }\n",
              "\n",
              "  [theme=dark] .colab-df-quickchart {\n",
              "      --bg-color: #3B4455;\n",
              "      --fill-color: #D2E3FC;\n",
              "      --hover-bg-color: #434B5C;\n",
              "      --hover-fill-color: #FFFFFF;\n",
              "      --disabled-bg-color: #3B4455;\n",
              "      --disabled-fill-color: #666;\n",
              "  }\n",
              "\n",
              "  .colab-df-quickchart {\n",
              "    background-color: var(--bg-color);\n",
              "    border: none;\n",
              "    border-radius: 50%;\n",
              "    cursor: pointer;\n",
              "    display: none;\n",
              "    fill: var(--fill-color);\n",
              "    height: 32px;\n",
              "    padding: 0;\n",
              "    width: 32px;\n",
              "  }\n",
              "\n",
              "  .colab-df-quickchart:hover {\n",
              "    background-color: var(--hover-bg-color);\n",
              "    box-shadow: 0 1px 2px rgba(60, 64, 67, 0.3), 0 1px 3px 1px rgba(60, 64, 67, 0.15);\n",
              "    fill: var(--button-hover-fill-color);\n",
              "  }\n",
              "\n",
              "  .colab-df-quickchart-complete:disabled,\n",
              "  .colab-df-quickchart-complete:disabled:hover {\n",
              "    background-color: var(--disabled-bg-color);\n",
              "    fill: var(--disabled-fill-color);\n",
              "    box-shadow: none;\n",
              "  }\n",
              "\n",
              "  .colab-df-spinner {\n",
              "    border: 2px solid var(--fill-color);\n",
              "    border-color: transparent;\n",
              "    border-bottom-color: var(--fill-color);\n",
              "    animation:\n",
              "      spin 1s steps(1) infinite;\n",
              "  }\n",
              "\n",
              "  @keyframes spin {\n",
              "    0% {\n",
              "      border-color: transparent;\n",
              "      border-bottom-color: var(--fill-color);\n",
              "      border-left-color: var(--fill-color);\n",
              "    }\n",
              "    20% {\n",
              "      border-color: transparent;\n",
              "      border-left-color: var(--fill-color);\n",
              "      border-top-color: var(--fill-color);\n",
              "    }\n",
              "    30% {\n",
              "      border-color: transparent;\n",
              "      border-left-color: var(--fill-color);\n",
              "      border-top-color: var(--fill-color);\n",
              "      border-right-color: var(--fill-color);\n",
              "    }\n",
              "    40% {\n",
              "      border-color: transparent;\n",
              "      border-right-color: var(--fill-color);\n",
              "      border-top-color: var(--fill-color);\n",
              "    }\n",
              "    60% {\n",
              "      border-color: transparent;\n",
              "      border-right-color: var(--fill-color);\n",
              "    }\n",
              "    80% {\n",
              "      border-color: transparent;\n",
              "      border-right-color: var(--fill-color);\n",
              "      border-bottom-color: var(--fill-color);\n",
              "    }\n",
              "    90% {\n",
              "      border-color: transparent;\n",
              "      border-bottom-color: var(--fill-color);\n",
              "    }\n",
              "  }\n",
              "</style>\n",
              "\n",
              "  <script>\n",
              "    async function quickchart(key) {\n",
              "      const quickchartButtonEl =\n",
              "        document.querySelector('#' + key + ' button');\n",
              "      quickchartButtonEl.disabled = true;  // To prevent multiple clicks.\n",
              "      quickchartButtonEl.classList.add('colab-df-spinner');\n",
              "      try {\n",
              "        const charts = await google.colab.kernel.invokeFunction(\n",
              "            'suggestCharts', [key], {});\n",
              "      } catch (error) {\n",
              "        console.error('Error during call to suggestCharts:', error);\n",
              "      }\n",
              "      quickchartButtonEl.classList.remove('colab-df-spinner');\n",
              "      quickchartButtonEl.classList.add('colab-df-quickchart-complete');\n",
              "    }\n",
              "    (() => {\n",
              "      let quickchartButtonEl =\n",
              "        document.querySelector('#df-ef95061a-22ff-4ade-a584-49c1fd6febb1 button');\n",
              "      quickchartButtonEl.style.display =\n",
              "        google.colab.kernel.accessAllowed ? 'block' : 'none';\n",
              "    })();\n",
              "  </script>\n",
              "</div>\n",
              "\n",
              "    </div>\n",
              "  </div>\n"
            ],
            "application/vnd.google.colaboratory.intrinsic+json": {
              "type": "dataframe",
              "variable_name": "dfGeospatial",
              "summary": "{\n  \"name\": \"dfGeospatial\",\n  \"rows\": 200,\n  \"fields\": [\n    {\n      \"column\": \"BUILDING\",\n      \"properties\": {\n        \"dtype\": \"category\",\n        \"num_unique_values\": 63,\n        \"samples\": [\n          \"Wheelock\",\n          \"Towers\",\n          \"1019 Commonwealth\"\n        ],\n        \"semantic_type\": \"\",\n        \"description\": \"\"\n      }\n    },\n    {\n      \"column\": \"FLOOR\",\n      \"properties\": {\n        \"dtype\": \"category\",\n        \"num_unique_values\": 19,\n        \"samples\": [\n          \"1\",\n          \"5\",\n          \"10\"\n        ],\n        \"semantic_type\": \"\",\n        \"description\": \"\"\n      }\n    },\n    {\n      \"column\": \"TOTAL STATIONS/BUILDING\",\n      \"properties\": {\n        \"dtype\": \"number\",\n        \"std\": 6,\n        \"min\": 1,\n        \"max\": 24,\n        \"num_unique_values\": 10,\n        \"samples\": [\n          24,\n          4,\n          5\n        ],\n        \"semantic_type\": \"\",\n        \"description\": \"\"\n      }\n    }\n  ]\n}"
            }
          },
          "metadata": {},
          "execution_count": 22
        }
      ]
    },
    {
      "cell_type": "code",
      "source": [
        "dfInventory = pd.read_csv(\"updated_Bottle_Fillers_Inventory.csv\")\n",
        "dfInventory.head(5)"
      ],
      "metadata": {
        "colab": {
          "base_uri": "https://localhost:8080/",
          "height": 276
        },
        "id": "4puFe1LK_tge",
        "outputId": "5648090b-e0f2-4b10-8a62-4869f48986ef"
      },
      "execution_count": 23,
      "outputs": [
        {
          "output_type": "execute_result",
          "data": {
            "text/plain": [
              "               Address    Floor   \\\n",
              "0       100 Ashford St     First   \n",
              "1       120 Ashford St     First   \n",
              "2       120 Ashford St    Second   \n",
              "3  8 St. Mary's Street  Basement   \n",
              "4  8 St. Mary's Street     First   \n",
              "\n",
              "                                         Description Space@Bu room  Quantity  \\\n",
              "0  Hallway across from vending machines, across f...           191       1.0   \n",
              "1                             Kitchenette, Room 116A          116A       1.0   \n",
              "2                              Kitchenette, Room 222           222       1.0   \n",
              "3                               Hallway by bathrooms           B81       1.0   \n",
              "4                         Hallway by electrical room           181       1.0   \n",
              "\n",
              "                                     Walk-Thru Notes  \n",
              "0  two additional drinking fountain locations in ...  \n",
              "1                                                NaN  \n",
              "2                                                NaN  \n",
              "3                                                NaN  \n",
              "4                                                NaN  "
            ],
            "text/html": [
              "\n",
              "  <div id=\"df-d5070a88-fb32-45f4-9c35-dc2ecfb96cf7\" class=\"colab-df-container\">\n",
              "    <div>\n",
              "<style scoped>\n",
              "    .dataframe tbody tr th:only-of-type {\n",
              "        vertical-align: middle;\n",
              "    }\n",
              "\n",
              "    .dataframe tbody tr th {\n",
              "        vertical-align: top;\n",
              "    }\n",
              "\n",
              "    .dataframe thead th {\n",
              "        text-align: right;\n",
              "    }\n",
              "</style>\n",
              "<table border=\"1\" class=\"dataframe\">\n",
              "  <thead>\n",
              "    <tr style=\"text-align: right;\">\n",
              "      <th></th>\n",
              "      <th>Address</th>\n",
              "      <th>Floor</th>\n",
              "      <th>Description</th>\n",
              "      <th>Space@Bu room</th>\n",
              "      <th>Quantity</th>\n",
              "      <th>Walk-Thru Notes</th>\n",
              "    </tr>\n",
              "  </thead>\n",
              "  <tbody>\n",
              "    <tr>\n",
              "      <th>0</th>\n",
              "      <td>100 Ashford St</td>\n",
              "      <td>First</td>\n",
              "      <td>Hallway across from vending machines, across f...</td>\n",
              "      <td>191</td>\n",
              "      <td>1.0</td>\n",
              "      <td>two additional drinking fountain locations in ...</td>\n",
              "    </tr>\n",
              "    <tr>\n",
              "      <th>1</th>\n",
              "      <td>120 Ashford St</td>\n",
              "      <td>First</td>\n",
              "      <td>Kitchenette, Room 116A</td>\n",
              "      <td>116A</td>\n",
              "      <td>1.0</td>\n",
              "      <td>NaN</td>\n",
              "    </tr>\n",
              "    <tr>\n",
              "      <th>2</th>\n",
              "      <td>120 Ashford St</td>\n",
              "      <td>Second</td>\n",
              "      <td>Kitchenette, Room 222</td>\n",
              "      <td>222</td>\n",
              "      <td>1.0</td>\n",
              "      <td>NaN</td>\n",
              "    </tr>\n",
              "    <tr>\n",
              "      <th>3</th>\n",
              "      <td>8 St. Mary's Street</td>\n",
              "      <td>Basement</td>\n",
              "      <td>Hallway by bathrooms</td>\n",
              "      <td>B81</td>\n",
              "      <td>1.0</td>\n",
              "      <td>NaN</td>\n",
              "    </tr>\n",
              "    <tr>\n",
              "      <th>4</th>\n",
              "      <td>8 St. Mary's Street</td>\n",
              "      <td>First</td>\n",
              "      <td>Hallway by electrical room</td>\n",
              "      <td>181</td>\n",
              "      <td>1.0</td>\n",
              "      <td>NaN</td>\n",
              "    </tr>\n",
              "  </tbody>\n",
              "</table>\n",
              "</div>\n",
              "    <div class=\"colab-df-buttons\">\n",
              "\n",
              "  <div class=\"colab-df-container\">\n",
              "    <button class=\"colab-df-convert\" onclick=\"convertToInteractive('df-d5070a88-fb32-45f4-9c35-dc2ecfb96cf7')\"\n",
              "            title=\"Convert this dataframe to an interactive table.\"\n",
              "            style=\"display:none;\">\n",
              "\n",
              "  <svg xmlns=\"http://www.w3.org/2000/svg\" height=\"24px\" viewBox=\"0 -960 960 960\">\n",
              "    <path d=\"M120-120v-720h720v720H120Zm60-500h600v-160H180v160Zm220 220h160v-160H400v160Zm0 220h160v-160H400v160ZM180-400h160v-160H180v160Zm440 0h160v-160H620v160ZM180-180h160v-160H180v160Zm440 0h160v-160H620v160Z\"/>\n",
              "  </svg>\n",
              "    </button>\n",
              "\n",
              "  <style>\n",
              "    .colab-df-container {\n",
              "      display:flex;\n",
              "      gap: 12px;\n",
              "    }\n",
              "\n",
              "    .colab-df-convert {\n",
              "      background-color: #E8F0FE;\n",
              "      border: none;\n",
              "      border-radius: 50%;\n",
              "      cursor: pointer;\n",
              "      display: none;\n",
              "      fill: #1967D2;\n",
              "      height: 32px;\n",
              "      padding: 0 0 0 0;\n",
              "      width: 32px;\n",
              "    }\n",
              "\n",
              "    .colab-df-convert:hover {\n",
              "      background-color: #E2EBFA;\n",
              "      box-shadow: 0px 1px 2px rgba(60, 64, 67, 0.3), 0px 1px 3px 1px rgba(60, 64, 67, 0.15);\n",
              "      fill: #174EA6;\n",
              "    }\n",
              "\n",
              "    .colab-df-buttons div {\n",
              "      margin-bottom: 4px;\n",
              "    }\n",
              "\n",
              "    [theme=dark] .colab-df-convert {\n",
              "      background-color: #3B4455;\n",
              "      fill: #D2E3FC;\n",
              "    }\n",
              "\n",
              "    [theme=dark] .colab-df-convert:hover {\n",
              "      background-color: #434B5C;\n",
              "      box-shadow: 0px 1px 3px 1px rgba(0, 0, 0, 0.15);\n",
              "      filter: drop-shadow(0px 1px 2px rgba(0, 0, 0, 0.3));\n",
              "      fill: #FFFFFF;\n",
              "    }\n",
              "  </style>\n",
              "\n",
              "    <script>\n",
              "      const buttonEl =\n",
              "        document.querySelector('#df-d5070a88-fb32-45f4-9c35-dc2ecfb96cf7 button.colab-df-convert');\n",
              "      buttonEl.style.display =\n",
              "        google.colab.kernel.accessAllowed ? 'block' : 'none';\n",
              "\n",
              "      async function convertToInteractive(key) {\n",
              "        const element = document.querySelector('#df-d5070a88-fb32-45f4-9c35-dc2ecfb96cf7');\n",
              "        const dataTable =\n",
              "          await google.colab.kernel.invokeFunction('convertToInteractive',\n",
              "                                                    [key], {});\n",
              "        if (!dataTable) return;\n",
              "\n",
              "        const docLinkHtml = 'Like what you see? Visit the ' +\n",
              "          '<a target=\"_blank\" href=https://colab.research.google.com/notebooks/data_table.ipynb>data table notebook</a>'\n",
              "          + ' to learn more about interactive tables.';\n",
              "        element.innerHTML = '';\n",
              "        dataTable['output_type'] = 'display_data';\n",
              "        await google.colab.output.renderOutput(dataTable, element);\n",
              "        const docLink = document.createElement('div');\n",
              "        docLink.innerHTML = docLinkHtml;\n",
              "        element.appendChild(docLink);\n",
              "      }\n",
              "    </script>\n",
              "  </div>\n",
              "\n",
              "\n",
              "<div id=\"df-05c5ab83-abd9-45be-a139-0b87b09b7d50\">\n",
              "  <button class=\"colab-df-quickchart\" onclick=\"quickchart('df-05c5ab83-abd9-45be-a139-0b87b09b7d50')\"\n",
              "            title=\"Suggest charts\"\n",
              "            style=\"display:none;\">\n",
              "\n",
              "<svg xmlns=\"http://www.w3.org/2000/svg\" height=\"24px\"viewBox=\"0 0 24 24\"\n",
              "     width=\"24px\">\n",
              "    <g>\n",
              "        <path d=\"M19 3H5c-1.1 0-2 .9-2 2v14c0 1.1.9 2 2 2h14c1.1 0 2-.9 2-2V5c0-1.1-.9-2-2-2zM9 17H7v-7h2v7zm4 0h-2V7h2v10zm4 0h-2v-4h2v4z\"/>\n",
              "    </g>\n",
              "</svg>\n",
              "  </button>\n",
              "\n",
              "<style>\n",
              "  .colab-df-quickchart {\n",
              "      --bg-color: #E8F0FE;\n",
              "      --fill-color: #1967D2;\n",
              "      --hover-bg-color: #E2EBFA;\n",
              "      --hover-fill-color: #174EA6;\n",
              "      --disabled-fill-color: #AAA;\n",
              "      --disabled-bg-color: #DDD;\n",
              "  }\n",
              "\n",
              "  [theme=dark] .colab-df-quickchart {\n",
              "      --bg-color: #3B4455;\n",
              "      --fill-color: #D2E3FC;\n",
              "      --hover-bg-color: #434B5C;\n",
              "      --hover-fill-color: #FFFFFF;\n",
              "      --disabled-bg-color: #3B4455;\n",
              "      --disabled-fill-color: #666;\n",
              "  }\n",
              "\n",
              "  .colab-df-quickchart {\n",
              "    background-color: var(--bg-color);\n",
              "    border: none;\n",
              "    border-radius: 50%;\n",
              "    cursor: pointer;\n",
              "    display: none;\n",
              "    fill: var(--fill-color);\n",
              "    height: 32px;\n",
              "    padding: 0;\n",
              "    width: 32px;\n",
              "  }\n",
              "\n",
              "  .colab-df-quickchart:hover {\n",
              "    background-color: var(--hover-bg-color);\n",
              "    box-shadow: 0 1px 2px rgba(60, 64, 67, 0.3), 0 1px 3px 1px rgba(60, 64, 67, 0.15);\n",
              "    fill: var(--button-hover-fill-color);\n",
              "  }\n",
              "\n",
              "  .colab-df-quickchart-complete:disabled,\n",
              "  .colab-df-quickchart-complete:disabled:hover {\n",
              "    background-color: var(--disabled-bg-color);\n",
              "    fill: var(--disabled-fill-color);\n",
              "    box-shadow: none;\n",
              "  }\n",
              "\n",
              "  .colab-df-spinner {\n",
              "    border: 2px solid var(--fill-color);\n",
              "    border-color: transparent;\n",
              "    border-bottom-color: var(--fill-color);\n",
              "    animation:\n",
              "      spin 1s steps(1) infinite;\n",
              "  }\n",
              "\n",
              "  @keyframes spin {\n",
              "    0% {\n",
              "      border-color: transparent;\n",
              "      border-bottom-color: var(--fill-color);\n",
              "      border-left-color: var(--fill-color);\n",
              "    }\n",
              "    20% {\n",
              "      border-color: transparent;\n",
              "      border-left-color: var(--fill-color);\n",
              "      border-top-color: var(--fill-color);\n",
              "    }\n",
              "    30% {\n",
              "      border-color: transparent;\n",
              "      border-left-color: var(--fill-color);\n",
              "      border-top-color: var(--fill-color);\n",
              "      border-right-color: var(--fill-color);\n",
              "    }\n",
              "    40% {\n",
              "      border-color: transparent;\n",
              "      border-right-color: var(--fill-color);\n",
              "      border-top-color: var(--fill-color);\n",
              "    }\n",
              "    60% {\n",
              "      border-color: transparent;\n",
              "      border-right-color: var(--fill-color);\n",
              "    }\n",
              "    80% {\n",
              "      border-color: transparent;\n",
              "      border-right-color: var(--fill-color);\n",
              "      border-bottom-color: var(--fill-color);\n",
              "    }\n",
              "    90% {\n",
              "      border-color: transparent;\n",
              "      border-bottom-color: var(--fill-color);\n",
              "    }\n",
              "  }\n",
              "</style>\n",
              "\n",
              "  <script>\n",
              "    async function quickchart(key) {\n",
              "      const quickchartButtonEl =\n",
              "        document.querySelector('#' + key + ' button');\n",
              "      quickchartButtonEl.disabled = true;  // To prevent multiple clicks.\n",
              "      quickchartButtonEl.classList.add('colab-df-spinner');\n",
              "      try {\n",
              "        const charts = await google.colab.kernel.invokeFunction(\n",
              "            'suggestCharts', [key], {});\n",
              "      } catch (error) {\n",
              "        console.error('Error during call to suggestCharts:', error);\n",
              "      }\n",
              "      quickchartButtonEl.classList.remove('colab-df-spinner');\n",
              "      quickchartButtonEl.classList.add('colab-df-quickchart-complete');\n",
              "    }\n",
              "    (() => {\n",
              "      let quickchartButtonEl =\n",
              "        document.querySelector('#df-05c5ab83-abd9-45be-a139-0b87b09b7d50 button');\n",
              "      quickchartButtonEl.style.display =\n",
              "        google.colab.kernel.accessAllowed ? 'block' : 'none';\n",
              "    })();\n",
              "  </script>\n",
              "</div>\n",
              "\n",
              "    </div>\n",
              "  </div>\n"
            ],
            "application/vnd.google.colaboratory.intrinsic+json": {
              "type": "dataframe",
              "variable_name": "dfInventory",
              "summary": "{\n  \"name\": \"dfInventory\",\n  \"rows\": 212,\n  \"fields\": [\n    {\n      \"column\": \"Address\",\n      \"properties\": {\n        \"dtype\": \"category\",\n        \"num_unique_values\": 68,\n        \"samples\": [\n          \"871 Commonwealth Ave\",\n          \"270 Bay State Road\",\n          \"275 Babcock St\"\n        ],\n        \"semantic_type\": \"\",\n        \"description\": \"\"\n      }\n    },\n    {\n      \"column\": \"Floor \",\n      \"properties\": {\n        \"dtype\": \"category\",\n        \"num_unique_values\": 26,\n        \"samples\": [\n          \"Eighth\",\n          \"Fifteenth\",\n          \"First\"\n        ],\n        \"semantic_type\": \"\",\n        \"description\": \"\"\n      }\n    },\n    {\n      \"column\": \"Description\",\n      \"properties\": {\n        \"dtype\": \"category\",\n        \"num_unique_values\": 87,\n        \"samples\": [\n          \"Near Ramp/bathrooms \",\n          \"Hallway across from vending machines, across from Room 180, turn right from the lobby\",\n          \"Room 251\"\n        ],\n        \"semantic_type\": \"\",\n        \"description\": \"\"\n      }\n    },\n    {\n      \"column\": \"Space@Bu room\",\n      \"properties\": {\n        \"dtype\": \"string\",\n        \"num_unique_values\": 136,\n        \"samples\": [\n          \"382\",\n          \"214\",\n          \"B90\"\n        ],\n        \"semantic_type\": \"\",\n        \"description\": \"\"\n      }\n    },\n    {\n      \"column\": \"Quantity\",\n      \"properties\": {\n        \"dtype\": \"number\",\n        \"std\": 24.798727884193436,\n        \"min\": 1.0,\n        \"max\": 255.0,\n        \"num_unique_values\": 6,\n        \"samples\": [\n          1.0,\n          2.0,\n          255.0\n        ],\n        \"semantic_type\": \"\",\n        \"description\": \"\"\n      }\n    },\n    {\n      \"column\": \"Walk-Thru Notes\",\n      \"properties\": {\n        \"dtype\": \"category\",\n        \"num_unique_values\": 23,\n        \"samples\": [\n          \"it looks like there might be 2 in this area\",\n          \"Not sure exactly where this is\",\n          \"two additional drinking fountain locations in the building are candidates for bottle fillers; one near Media Room 112; one near loading dock at west end of track\"\n        ],\n        \"semantic_type\": \"\",\n        \"description\": \"\"\n      }\n    }\n  ]\n}"
            }
          },
          "metadata": {},
          "execution_count": 23
        }
      ]
    },
    {
      "cell_type": "code",
      "source": [
        "dfHighVolume = pd.read_csv(\"updated_High_Volume_Event_Spaces.csv\")\n",
        "dfHighVolume.head(5)"
      ],
      "metadata": {
        "colab": {
          "base_uri": "https://localhost:8080/",
          "height": 258
        },
        "id": "gPhY21lZ_3DS",
        "outputId": "6b83ef2a-9bae-4692-c7d7-219e40541002"
      },
      "execution_count": 24,
      "outputs": [
        {
          "output_type": "execute_result",
          "data": {
            "text/plain": [
              "                                 Room_Name                       Address  \\\n",
              "0           Agganis Arena Burke Club Room        925 Commonwealth Avenue   \n",
              "1  Agganis Arena Friends of Hockey Lounge        925 Commonwealth Avenue   \n",
              "2              Case Center Eilberg Lounge             285 Babcock Street   \n",
              "3   College of Arts & Sciences Classrooms    675-725 Commonwealth Avenue   \n",
              "4         College of Communication Lounge         640 Commowealth Avenue   \n",
              "\n",
              "                                               Notes  Candidacy Floor Number  \n",
              "0  casual catered events, high liklihood of using...          2            2  \n",
              "1  casual catered events, high liklihood of using...          2            1  \n",
              "2  use of the space is limited; there are fillers...          5            3  \n",
              "3  There are a bunch already down the hallways; 4...          4            0  \n",
              "4                                hallway by room 105          5            1  "
            ],
            "text/html": [
              "\n",
              "  <div id=\"df-99fd7b31-8944-4e08-a869-60038c8d223c\" class=\"colab-df-container\">\n",
              "    <div>\n",
              "<style scoped>\n",
              "    .dataframe tbody tr th:only-of-type {\n",
              "        vertical-align: middle;\n",
              "    }\n",
              "\n",
              "    .dataframe tbody tr th {\n",
              "        vertical-align: top;\n",
              "    }\n",
              "\n",
              "    .dataframe thead th {\n",
              "        text-align: right;\n",
              "    }\n",
              "</style>\n",
              "<table border=\"1\" class=\"dataframe\">\n",
              "  <thead>\n",
              "    <tr style=\"text-align: right;\">\n",
              "      <th></th>\n",
              "      <th>Room_Name</th>\n",
              "      <th>Address</th>\n",
              "      <th>Notes</th>\n",
              "      <th>Candidacy</th>\n",
              "      <th>Floor Number</th>\n",
              "    </tr>\n",
              "  </thead>\n",
              "  <tbody>\n",
              "    <tr>\n",
              "      <th>0</th>\n",
              "      <td>Agganis Arena Burke Club Room</td>\n",
              "      <td>925 Commonwealth Avenue</td>\n",
              "      <td>casual catered events, high liklihood of using...</td>\n",
              "      <td>2</td>\n",
              "      <td>2</td>\n",
              "    </tr>\n",
              "    <tr>\n",
              "      <th>1</th>\n",
              "      <td>Agganis Arena Friends of Hockey Lounge</td>\n",
              "      <td>925 Commonwealth Avenue</td>\n",
              "      <td>casual catered events, high liklihood of using...</td>\n",
              "      <td>2</td>\n",
              "      <td>1</td>\n",
              "    </tr>\n",
              "    <tr>\n",
              "      <th>2</th>\n",
              "      <td>Case Center Eilberg Lounge</td>\n",
              "      <td>285 Babcock Street</td>\n",
              "      <td>use of the space is limited; there are fillers...</td>\n",
              "      <td>5</td>\n",
              "      <td>3</td>\n",
              "    </tr>\n",
              "    <tr>\n",
              "      <th>3</th>\n",
              "      <td>College of Arts &amp; Sciences Classrooms</td>\n",
              "      <td>675-725 Commonwealth Avenue</td>\n",
              "      <td>There are a bunch already down the hallways; 4...</td>\n",
              "      <td>4</td>\n",
              "      <td>0</td>\n",
              "    </tr>\n",
              "    <tr>\n",
              "      <th>4</th>\n",
              "      <td>College of Communication Lounge</td>\n",
              "      <td>640 Commowealth Avenue</td>\n",
              "      <td>hallway by room 105</td>\n",
              "      <td>5</td>\n",
              "      <td>1</td>\n",
              "    </tr>\n",
              "  </tbody>\n",
              "</table>\n",
              "</div>\n",
              "    <div class=\"colab-df-buttons\">\n",
              "\n",
              "  <div class=\"colab-df-container\">\n",
              "    <button class=\"colab-df-convert\" onclick=\"convertToInteractive('df-99fd7b31-8944-4e08-a869-60038c8d223c')\"\n",
              "            title=\"Convert this dataframe to an interactive table.\"\n",
              "            style=\"display:none;\">\n",
              "\n",
              "  <svg xmlns=\"http://www.w3.org/2000/svg\" height=\"24px\" viewBox=\"0 -960 960 960\">\n",
              "    <path d=\"M120-120v-720h720v720H120Zm60-500h600v-160H180v160Zm220 220h160v-160H400v160Zm0 220h160v-160H400v160ZM180-400h160v-160H180v160Zm440 0h160v-160H620v160ZM180-180h160v-160H180v160Zm440 0h160v-160H620v160Z\"/>\n",
              "  </svg>\n",
              "    </button>\n",
              "\n",
              "  <style>\n",
              "    .colab-df-container {\n",
              "      display:flex;\n",
              "      gap: 12px;\n",
              "    }\n",
              "\n",
              "    .colab-df-convert {\n",
              "      background-color: #E8F0FE;\n",
              "      border: none;\n",
              "      border-radius: 50%;\n",
              "      cursor: pointer;\n",
              "      display: none;\n",
              "      fill: #1967D2;\n",
              "      height: 32px;\n",
              "      padding: 0 0 0 0;\n",
              "      width: 32px;\n",
              "    }\n",
              "\n",
              "    .colab-df-convert:hover {\n",
              "      background-color: #E2EBFA;\n",
              "      box-shadow: 0px 1px 2px rgba(60, 64, 67, 0.3), 0px 1px 3px 1px rgba(60, 64, 67, 0.15);\n",
              "      fill: #174EA6;\n",
              "    }\n",
              "\n",
              "    .colab-df-buttons div {\n",
              "      margin-bottom: 4px;\n",
              "    }\n",
              "\n",
              "    [theme=dark] .colab-df-convert {\n",
              "      background-color: #3B4455;\n",
              "      fill: #D2E3FC;\n",
              "    }\n",
              "\n",
              "    [theme=dark] .colab-df-convert:hover {\n",
              "      background-color: #434B5C;\n",
              "      box-shadow: 0px 1px 3px 1px rgba(0, 0, 0, 0.15);\n",
              "      filter: drop-shadow(0px 1px 2px rgba(0, 0, 0, 0.3));\n",
              "      fill: #FFFFFF;\n",
              "    }\n",
              "  </style>\n",
              "\n",
              "    <script>\n",
              "      const buttonEl =\n",
              "        document.querySelector('#df-99fd7b31-8944-4e08-a869-60038c8d223c button.colab-df-convert');\n",
              "      buttonEl.style.display =\n",
              "        google.colab.kernel.accessAllowed ? 'block' : 'none';\n",
              "\n",
              "      async function convertToInteractive(key) {\n",
              "        const element = document.querySelector('#df-99fd7b31-8944-4e08-a869-60038c8d223c');\n",
              "        const dataTable =\n",
              "          await google.colab.kernel.invokeFunction('convertToInteractive',\n",
              "                                                    [key], {});\n",
              "        if (!dataTable) return;\n",
              "\n",
              "        const docLinkHtml = 'Like what you see? Visit the ' +\n",
              "          '<a target=\"_blank\" href=https://colab.research.google.com/notebooks/data_table.ipynb>data table notebook</a>'\n",
              "          + ' to learn more about interactive tables.';\n",
              "        element.innerHTML = '';\n",
              "        dataTable['output_type'] = 'display_data';\n",
              "        await google.colab.output.renderOutput(dataTable, element);\n",
              "        const docLink = document.createElement('div');\n",
              "        docLink.innerHTML = docLinkHtml;\n",
              "        element.appendChild(docLink);\n",
              "      }\n",
              "    </script>\n",
              "  </div>\n",
              "\n",
              "\n",
              "<div id=\"df-bbae9fe3-45f7-4870-9f9d-4e6a96a55d8d\">\n",
              "  <button class=\"colab-df-quickchart\" onclick=\"quickchart('df-bbae9fe3-45f7-4870-9f9d-4e6a96a55d8d')\"\n",
              "            title=\"Suggest charts\"\n",
              "            style=\"display:none;\">\n",
              "\n",
              "<svg xmlns=\"http://www.w3.org/2000/svg\" height=\"24px\"viewBox=\"0 0 24 24\"\n",
              "     width=\"24px\">\n",
              "    <g>\n",
              "        <path d=\"M19 3H5c-1.1 0-2 .9-2 2v14c0 1.1.9 2 2 2h14c1.1 0 2-.9 2-2V5c0-1.1-.9-2-2-2zM9 17H7v-7h2v7zm4 0h-2V7h2v10zm4 0h-2v-4h2v4z\"/>\n",
              "    </g>\n",
              "</svg>\n",
              "  </button>\n",
              "\n",
              "<style>\n",
              "  .colab-df-quickchart {\n",
              "      --bg-color: #E8F0FE;\n",
              "      --fill-color: #1967D2;\n",
              "      --hover-bg-color: #E2EBFA;\n",
              "      --hover-fill-color: #174EA6;\n",
              "      --disabled-fill-color: #AAA;\n",
              "      --disabled-bg-color: #DDD;\n",
              "  }\n",
              "\n",
              "  [theme=dark] .colab-df-quickchart {\n",
              "      --bg-color: #3B4455;\n",
              "      --fill-color: #D2E3FC;\n",
              "      --hover-bg-color: #434B5C;\n",
              "      --hover-fill-color: #FFFFFF;\n",
              "      --disabled-bg-color: #3B4455;\n",
              "      --disabled-fill-color: #666;\n",
              "  }\n",
              "\n",
              "  .colab-df-quickchart {\n",
              "    background-color: var(--bg-color);\n",
              "    border: none;\n",
              "    border-radius: 50%;\n",
              "    cursor: pointer;\n",
              "    display: none;\n",
              "    fill: var(--fill-color);\n",
              "    height: 32px;\n",
              "    padding: 0;\n",
              "    width: 32px;\n",
              "  }\n",
              "\n",
              "  .colab-df-quickchart:hover {\n",
              "    background-color: var(--hover-bg-color);\n",
              "    box-shadow: 0 1px 2px rgba(60, 64, 67, 0.3), 0 1px 3px 1px rgba(60, 64, 67, 0.15);\n",
              "    fill: var(--button-hover-fill-color);\n",
              "  }\n",
              "\n",
              "  .colab-df-quickchart-complete:disabled,\n",
              "  .colab-df-quickchart-complete:disabled:hover {\n",
              "    background-color: var(--disabled-bg-color);\n",
              "    fill: var(--disabled-fill-color);\n",
              "    box-shadow: none;\n",
              "  }\n",
              "\n",
              "  .colab-df-spinner {\n",
              "    border: 2px solid var(--fill-color);\n",
              "    border-color: transparent;\n",
              "    border-bottom-color: var(--fill-color);\n",
              "    animation:\n",
              "      spin 1s steps(1) infinite;\n",
              "  }\n",
              "\n",
              "  @keyframes spin {\n",
              "    0% {\n",
              "      border-color: transparent;\n",
              "      border-bottom-color: var(--fill-color);\n",
              "      border-left-color: var(--fill-color);\n",
              "    }\n",
              "    20% {\n",
              "      border-color: transparent;\n",
              "      border-left-color: var(--fill-color);\n",
              "      border-top-color: var(--fill-color);\n",
              "    }\n",
              "    30% {\n",
              "      border-color: transparent;\n",
              "      border-left-color: var(--fill-color);\n",
              "      border-top-color: var(--fill-color);\n",
              "      border-right-color: var(--fill-color);\n",
              "    }\n",
              "    40% {\n",
              "      border-color: transparent;\n",
              "      border-right-color: var(--fill-color);\n",
              "      border-top-color: var(--fill-color);\n",
              "    }\n",
              "    60% {\n",
              "      border-color: transparent;\n",
              "      border-right-color: var(--fill-color);\n",
              "    }\n",
              "    80% {\n",
              "      border-color: transparent;\n",
              "      border-right-color: var(--fill-color);\n",
              "      border-bottom-color: var(--fill-color);\n",
              "    }\n",
              "    90% {\n",
              "      border-color: transparent;\n",
              "      border-bottom-color: var(--fill-color);\n",
              "    }\n",
              "  }\n",
              "</style>\n",
              "\n",
              "  <script>\n",
              "    async function quickchart(key) {\n",
              "      const quickchartButtonEl =\n",
              "        document.querySelector('#' + key + ' button');\n",
              "      quickchartButtonEl.disabled = true;  // To prevent multiple clicks.\n",
              "      quickchartButtonEl.classList.add('colab-df-spinner');\n",
              "      try {\n",
              "        const charts = await google.colab.kernel.invokeFunction(\n",
              "            'suggestCharts', [key], {});\n",
              "      } catch (error) {\n",
              "        console.error('Error during call to suggestCharts:', error);\n",
              "      }\n",
              "      quickchartButtonEl.classList.remove('colab-df-spinner');\n",
              "      quickchartButtonEl.classList.add('colab-df-quickchart-complete');\n",
              "    }\n",
              "    (() => {\n",
              "      let quickchartButtonEl =\n",
              "        document.querySelector('#df-bbae9fe3-45f7-4870-9f9d-4e6a96a55d8d button');\n",
              "      quickchartButtonEl.style.display =\n",
              "        google.colab.kernel.accessAllowed ? 'block' : 'none';\n",
              "    })();\n",
              "  </script>\n",
              "</div>\n",
              "\n",
              "    </div>\n",
              "  </div>\n"
            ],
            "application/vnd.google.colaboratory.intrinsic+json": {
              "type": "dataframe",
              "variable_name": "dfHighVolume",
              "summary": "{\n  \"name\": \"dfHighVolume\",\n  \"rows\": 28,\n  \"fields\": [\n    {\n      \"column\": \"Room_Name\",\n      \"properties\": {\n        \"dtype\": \"string\",\n        \"num_unique_values\": 28,\n        \"samples\": [\n          \"George Sherman Union Alley\",\n          \"Student Village II Lounge \",\n          \"Dahod Family Alumni Center \"\n        ],\n        \"semantic_type\": \"\",\n        \"description\": \"\"\n      }\n    },\n    {\n      \"column\": \"Address\",\n      \"properties\": {\n        \"dtype\": \"string\",\n        \"num_unique_values\": 19,\n        \"samples\": [\n          \" 925 Commonwealth Avenue\",\n          \" 225 Bay State Road\",\n          \"595 Commonwealth Avenue\"\n        ],\n        \"semantic_type\": \"\",\n        \"description\": \"\"\n      }\n    },\n    {\n      \"column\": \"Notes\",\n      \"properties\": {\n        \"dtype\": \"string\",\n        \"num_unique_values\": 21,\n        \"samples\": [\n          \"casual catered events, high liklihood of using plastic bottles so guests can take onto the concourse; bottle fillers could reduce their sales. Auxiliary would need to be involved in decision making.\",\n          \"summer 2023 reno\",\n          \"check that there isn't already one in the hallway near bathroom; this room could be no catering, could be china, could be drop off service... possibly add to door wall or kitchen wall if it doesn't detract from the events\"\n        ],\n        \"semantic_type\": \"\",\n        \"description\": \"\"\n      }\n    },\n    {\n      \"column\": \"Candidacy\",\n      \"properties\": {\n        \"dtype\": \"number\",\n        \"std\": 1,\n        \"min\": 1,\n        \"max\": 5,\n        \"num_unique_values\": 5,\n        \"samples\": [\n          5,\n          3,\n          4\n        ],\n        \"semantic_type\": \"\",\n        \"description\": \"\"\n      }\n    },\n    {\n      \"column\": \"Floor Number\",\n      \"properties\": {\n        \"dtype\": \"category\",\n        \"num_unique_values\": 9,\n        \"samples\": [\n          \"18\",\n          \"1\",\n          \"1, 2\"\n        ],\n        \"semantic_type\": \"\",\n        \"description\": \"\"\n      }\n    }\n  ]\n}"
            }
          },
          "metadata": {},
          "execution_count": 24
        }
      ]
    },
    {
      "cell_type": "code",
      "source": [
        "dfHighVolume[\"Candidacy\"].unique()"
      ],
      "metadata": {
        "colab": {
          "base_uri": "https://localhost:8080/"
        },
        "id": "yHqcG6eyBO4c",
        "outputId": "e977642f-1125-4c1b-96c3-a352d1f8f389"
      },
      "execution_count": 25,
      "outputs": [
        {
          "output_type": "execute_result",
          "data": {
            "text/plain": [
              "array([2, 5, 4, 1, 3])"
            ]
          },
          "metadata": {},
          "execution_count": 25
        }
      ]
    },
    {
      "cell_type": "code",
      "source": [
        "dfGeospatial[\"BUILDING\"].unique()"
      ],
      "metadata": {
        "colab": {
          "base_uri": "https://localhost:8080/"
        },
        "id": "uDz6dL7dAQob",
        "outputId": "c7a4a41c-3983-4958-94e4-6368c7f93a69"
      },
      "execution_count": 26,
      "outputs": [
        {
          "output_type": "execute_result",
          "data": {
            "text/plain": [
              "array(['1019 Commonwealth', '110-112 Cummington', '111 Cummington',\n",
              "       '154 Bay State Road', '156 Bay State Road', '196 Bay State Road',\n",
              "       '2 Cummington', '25 Buick', '270 Bay State Road', '300 Babcock',\n",
              "       '33 Harry Agganis', '36 Cummington', '48 Cummington',\n",
              "       '5 Cummington', '517 Beacon', '565 Commonwealth', '64 Cummington',\n",
              "       '712 Beacon', '881 Commonwealth', '96 Cummington', 'Admissions',\n",
              "       'Booth', 'BUA', 'CAS', 'Case Center', 'CELOP', 'CFA', 'CGS',\n",
              "       'Claflin', 'COM', 'Danielson', 'EMA', 'ENG', 'Fitrec',\n",
              "       'Fuller Building', 'GRS', 'GSU', 'Hojo', 'Kilachand',\n",
              "       'Law Auditorium', 'Law', 'Linguistics', 'Marcom', 'Marsh',\n",
              "       'Metcalf', 'Mugar', 'Myles Annex', 'Myles Standish', 'Photonics',\n",
              "       'Questrom', 'Rich', 'Sargent', 'SHA', 'Sleeper', 'SSW', 'STH',\n",
              "       'Stone', 'Towers', 'Tsai', 'TTC', 'Warren', 'Wheelock', 'Yawkey'],\n",
              "      dtype=object)"
            ]
          },
          "metadata": {},
          "execution_count": 26
        }
      ]
    },
    {
      "cell_type": "code",
      "source": [
        "dfInventory[\"Address\"].unique()"
      ],
      "metadata": {
        "colab": {
          "base_uri": "https://localhost:8080/"
        },
        "id": "583DF43fAZZV",
        "outputId": "2e834143-774b-4a2c-eaac-ea08962eec45"
      },
      "execution_count": 27,
      "outputs": [
        {
          "output_type": "execute_result",
          "data": {
            "text/plain": [
              "array(['100 Ashford St', '120 Ashford St', \"8 St. Mary's Street\",\n",
              "       '273 Babcock St', '275 Babcock St', '277 Babcock St',\n",
              "       '285 Babcock St', '300 Babcock St', '91 Bay State Road',\n",
              "       '100 Bay State Road', '140 Bay State Road', '156 Bay State Road',\n",
              "       '196 Bay State Road', '226 Bay State Road', '233 Bay State Road',\n",
              "       '264 Bay State Road', '270 Bay State Road', '512 Beacon St',\n",
              "       '517 Beacon St', '610 Beacon St', '25 Buick St',\n",
              "       '565 Commonwealth Ave', '575 Commonwealth Ave',\n",
              "       '590 Commonwealth Ave', '595 Commonwealth Ave', '2 Silber Way',\n",
              "       '610 Commonwealth Ave', '621 Commonwealth Ave',\n",
              "       '635 Commonwealth Ave', '640 Commonwealth Ave',\n",
              "       '675 Commonwealth Ave', '685 Commonwealth Ave',\n",
              "       '700 Commonwealth Ave', '705 Commonwealth Ave',\n",
              "       '725 Commonwealth Ave', '735 Commonwealth Ave',\n",
              "       '745 Commonwealth Ave', '750 Commonwealth Ave',\n",
              "       '765 Commonwealth Ave', '767 Commonwealth Ave',\n",
              "       '771 Commonwealth Ave', '775 Commonwealth Ave', '1 University Rd',\n",
              "       '808 Commonwealth Ave', '820 Commonwealth Ave',\n",
              "       '855 Commonwealth Ave', '871 Commonwealth Ave',\n",
              "       '881 Commonwealth Ave', '890 Commonwealth Ave',\n",
              "       '915 Commonwealth Ave', '925 Commonwealth Ave',\n",
              "       '928 Commonwealth Ave', '985 Commonwealth Ave',\n",
              "       '1019 Commonwealth Ave', '808 Commonwealth Ave ',\n",
              "       '2 Cummington Mall', '5 Cummington Mall', '24 Cummington Mall',\n",
              "       '36 Cummington Mall', '44 Cummington Mall', '48 Cummington Mall',\n",
              "       '64 Cummington Mall', '68 Cummington Mall', '96 Cummington Mall',\n",
              "       '111 Cummington Mall', '110-112 Cummington Mall',\n",
              "       '33 Harry Agganis Way', 'nan nan'], dtype=object)"
            ]
          },
          "metadata": {},
          "execution_count": 27
        }
      ]
    },
    {
      "cell_type": "code",
      "source": [
        "dfHighVolumeOne = dfHighVolume[dfHighVolume[\"Candidacy\"] == 4]\n",
        "dfHighVolumeTwo = dfHighVolume[dfHighVolume[\"Candidacy\"] == 3]\n",
        "dfHighVolumeOne.head(5)"
      ],
      "metadata": {
        "colab": {
          "base_uri": "https://localhost:8080/",
          "height": 293
        },
        "id": "J_Yz7bj6AfeS",
        "outputId": "9d5a5248-cd9d-40ab-9f8b-62c47d288eb0"
      },
      "execution_count": 28,
      "outputs": [
        {
          "output_type": "execute_result",
          "data": {
            "text/plain": [
              "                                       Room_Name  \\\n",
              "3         College of Arts & Sciences Classrooms    \n",
              "5      College of General Studies Gilbane Lounge   \n",
              "6   College of General Studies Katzenberg Lounge   \n",
              "7  College of General Studies Sleeper Auditorium   \n",
              "8                    Dahod Family Alumni Center    \n",
              "\n",
              "                        Address  \\\n",
              "3   675-725 Commonwealth Avenue   \n",
              "5       871 Commonwealth Avenue   \n",
              "6       871 Commonwealth Avenue   \n",
              "7       871 Commonwealth Avenue   \n",
              "8            225 Bay State Road   \n",
              "\n",
              "                                               Notes  Candidacy Floor Number  \n",
              "3  There are a bunch already down the hallways; 4...          4            0  \n",
              "5                                  one on each floor          4            1  \n",
              "6                                                NaN          4            4  \n",
              "7                                                NaN          4            1  \n",
              "8  There's one in the space btw Castle and Admiss...          4            1  "
            ],
            "text/html": [
              "\n",
              "  <div id=\"df-d64ec039-2c2c-40e0-843e-d64a5b87704a\" class=\"colab-df-container\">\n",
              "    <div>\n",
              "<style scoped>\n",
              "    .dataframe tbody tr th:only-of-type {\n",
              "        vertical-align: middle;\n",
              "    }\n",
              "\n",
              "    .dataframe tbody tr th {\n",
              "        vertical-align: top;\n",
              "    }\n",
              "\n",
              "    .dataframe thead th {\n",
              "        text-align: right;\n",
              "    }\n",
              "</style>\n",
              "<table border=\"1\" class=\"dataframe\">\n",
              "  <thead>\n",
              "    <tr style=\"text-align: right;\">\n",
              "      <th></th>\n",
              "      <th>Room_Name</th>\n",
              "      <th>Address</th>\n",
              "      <th>Notes</th>\n",
              "      <th>Candidacy</th>\n",
              "      <th>Floor Number</th>\n",
              "    </tr>\n",
              "  </thead>\n",
              "  <tbody>\n",
              "    <tr>\n",
              "      <th>3</th>\n",
              "      <td>College of Arts &amp; Sciences Classrooms</td>\n",
              "      <td>675-725 Commonwealth Avenue</td>\n",
              "      <td>There are a bunch already down the hallways; 4...</td>\n",
              "      <td>4</td>\n",
              "      <td>0</td>\n",
              "    </tr>\n",
              "    <tr>\n",
              "      <th>5</th>\n",
              "      <td>College of General Studies Gilbane Lounge</td>\n",
              "      <td>871 Commonwealth Avenue</td>\n",
              "      <td>one on each floor</td>\n",
              "      <td>4</td>\n",
              "      <td>1</td>\n",
              "    </tr>\n",
              "    <tr>\n",
              "      <th>6</th>\n",
              "      <td>College of General Studies Katzenberg Lounge</td>\n",
              "      <td>871 Commonwealth Avenue</td>\n",
              "      <td>NaN</td>\n",
              "      <td>4</td>\n",
              "      <td>4</td>\n",
              "    </tr>\n",
              "    <tr>\n",
              "      <th>7</th>\n",
              "      <td>College of General Studies Sleeper Auditorium</td>\n",
              "      <td>871 Commonwealth Avenue</td>\n",
              "      <td>NaN</td>\n",
              "      <td>4</td>\n",
              "      <td>1</td>\n",
              "    </tr>\n",
              "    <tr>\n",
              "      <th>8</th>\n",
              "      <td>Dahod Family Alumni Center</td>\n",
              "      <td>225 Bay State Road</td>\n",
              "      <td>There's one in the space btw Castle and Admiss...</td>\n",
              "      <td>4</td>\n",
              "      <td>1</td>\n",
              "    </tr>\n",
              "  </tbody>\n",
              "</table>\n",
              "</div>\n",
              "    <div class=\"colab-df-buttons\">\n",
              "\n",
              "  <div class=\"colab-df-container\">\n",
              "    <button class=\"colab-df-convert\" onclick=\"convertToInteractive('df-d64ec039-2c2c-40e0-843e-d64a5b87704a')\"\n",
              "            title=\"Convert this dataframe to an interactive table.\"\n",
              "            style=\"display:none;\">\n",
              "\n",
              "  <svg xmlns=\"http://www.w3.org/2000/svg\" height=\"24px\" viewBox=\"0 -960 960 960\">\n",
              "    <path d=\"M120-120v-720h720v720H120Zm60-500h600v-160H180v160Zm220 220h160v-160H400v160Zm0 220h160v-160H400v160ZM180-400h160v-160H180v160Zm440 0h160v-160H620v160ZM180-180h160v-160H180v160Zm440 0h160v-160H620v160Z\"/>\n",
              "  </svg>\n",
              "    </button>\n",
              "\n",
              "  <style>\n",
              "    .colab-df-container {\n",
              "      display:flex;\n",
              "      gap: 12px;\n",
              "    }\n",
              "\n",
              "    .colab-df-convert {\n",
              "      background-color: #E8F0FE;\n",
              "      border: none;\n",
              "      border-radius: 50%;\n",
              "      cursor: pointer;\n",
              "      display: none;\n",
              "      fill: #1967D2;\n",
              "      height: 32px;\n",
              "      padding: 0 0 0 0;\n",
              "      width: 32px;\n",
              "    }\n",
              "\n",
              "    .colab-df-convert:hover {\n",
              "      background-color: #E2EBFA;\n",
              "      box-shadow: 0px 1px 2px rgba(60, 64, 67, 0.3), 0px 1px 3px 1px rgba(60, 64, 67, 0.15);\n",
              "      fill: #174EA6;\n",
              "    }\n",
              "\n",
              "    .colab-df-buttons div {\n",
              "      margin-bottom: 4px;\n",
              "    }\n",
              "\n",
              "    [theme=dark] .colab-df-convert {\n",
              "      background-color: #3B4455;\n",
              "      fill: #D2E3FC;\n",
              "    }\n",
              "\n",
              "    [theme=dark] .colab-df-convert:hover {\n",
              "      background-color: #434B5C;\n",
              "      box-shadow: 0px 1px 3px 1px rgba(0, 0, 0, 0.15);\n",
              "      filter: drop-shadow(0px 1px 2px rgba(0, 0, 0, 0.3));\n",
              "      fill: #FFFFFF;\n",
              "    }\n",
              "  </style>\n",
              "\n",
              "    <script>\n",
              "      const buttonEl =\n",
              "        document.querySelector('#df-d64ec039-2c2c-40e0-843e-d64a5b87704a button.colab-df-convert');\n",
              "      buttonEl.style.display =\n",
              "        google.colab.kernel.accessAllowed ? 'block' : 'none';\n",
              "\n",
              "      async function convertToInteractive(key) {\n",
              "        const element = document.querySelector('#df-d64ec039-2c2c-40e0-843e-d64a5b87704a');\n",
              "        const dataTable =\n",
              "          await google.colab.kernel.invokeFunction('convertToInteractive',\n",
              "                                                    [key], {});\n",
              "        if (!dataTable) return;\n",
              "\n",
              "        const docLinkHtml = 'Like what you see? Visit the ' +\n",
              "          '<a target=\"_blank\" href=https://colab.research.google.com/notebooks/data_table.ipynb>data table notebook</a>'\n",
              "          + ' to learn more about interactive tables.';\n",
              "        element.innerHTML = '';\n",
              "        dataTable['output_type'] = 'display_data';\n",
              "        await google.colab.output.renderOutput(dataTable, element);\n",
              "        const docLink = document.createElement('div');\n",
              "        docLink.innerHTML = docLinkHtml;\n",
              "        element.appendChild(docLink);\n",
              "      }\n",
              "    </script>\n",
              "  </div>\n",
              "\n",
              "\n",
              "<div id=\"df-38d15c58-6c04-46c7-a7e1-9671926d0a46\">\n",
              "  <button class=\"colab-df-quickchart\" onclick=\"quickchart('df-38d15c58-6c04-46c7-a7e1-9671926d0a46')\"\n",
              "            title=\"Suggest charts\"\n",
              "            style=\"display:none;\">\n",
              "\n",
              "<svg xmlns=\"http://www.w3.org/2000/svg\" height=\"24px\"viewBox=\"0 0 24 24\"\n",
              "     width=\"24px\">\n",
              "    <g>\n",
              "        <path d=\"M19 3H5c-1.1 0-2 .9-2 2v14c0 1.1.9 2 2 2h14c1.1 0 2-.9 2-2V5c0-1.1-.9-2-2-2zM9 17H7v-7h2v7zm4 0h-2V7h2v10zm4 0h-2v-4h2v4z\"/>\n",
              "    </g>\n",
              "</svg>\n",
              "  </button>\n",
              "\n",
              "<style>\n",
              "  .colab-df-quickchart {\n",
              "      --bg-color: #E8F0FE;\n",
              "      --fill-color: #1967D2;\n",
              "      --hover-bg-color: #E2EBFA;\n",
              "      --hover-fill-color: #174EA6;\n",
              "      --disabled-fill-color: #AAA;\n",
              "      --disabled-bg-color: #DDD;\n",
              "  }\n",
              "\n",
              "  [theme=dark] .colab-df-quickchart {\n",
              "      --bg-color: #3B4455;\n",
              "      --fill-color: #D2E3FC;\n",
              "      --hover-bg-color: #434B5C;\n",
              "      --hover-fill-color: #FFFFFF;\n",
              "      --disabled-bg-color: #3B4455;\n",
              "      --disabled-fill-color: #666;\n",
              "  }\n",
              "\n",
              "  .colab-df-quickchart {\n",
              "    background-color: var(--bg-color);\n",
              "    border: none;\n",
              "    border-radius: 50%;\n",
              "    cursor: pointer;\n",
              "    display: none;\n",
              "    fill: var(--fill-color);\n",
              "    height: 32px;\n",
              "    padding: 0;\n",
              "    width: 32px;\n",
              "  }\n",
              "\n",
              "  .colab-df-quickchart:hover {\n",
              "    background-color: var(--hover-bg-color);\n",
              "    box-shadow: 0 1px 2px rgba(60, 64, 67, 0.3), 0 1px 3px 1px rgba(60, 64, 67, 0.15);\n",
              "    fill: var(--button-hover-fill-color);\n",
              "  }\n",
              "\n",
              "  .colab-df-quickchart-complete:disabled,\n",
              "  .colab-df-quickchart-complete:disabled:hover {\n",
              "    background-color: var(--disabled-bg-color);\n",
              "    fill: var(--disabled-fill-color);\n",
              "    box-shadow: none;\n",
              "  }\n",
              "\n",
              "  .colab-df-spinner {\n",
              "    border: 2px solid var(--fill-color);\n",
              "    border-color: transparent;\n",
              "    border-bottom-color: var(--fill-color);\n",
              "    animation:\n",
              "      spin 1s steps(1) infinite;\n",
              "  }\n",
              "\n",
              "  @keyframes spin {\n",
              "    0% {\n",
              "      border-color: transparent;\n",
              "      border-bottom-color: var(--fill-color);\n",
              "      border-left-color: var(--fill-color);\n",
              "    }\n",
              "    20% {\n",
              "      border-color: transparent;\n",
              "      border-left-color: var(--fill-color);\n",
              "      border-top-color: var(--fill-color);\n",
              "    }\n",
              "    30% {\n",
              "      border-color: transparent;\n",
              "      border-left-color: var(--fill-color);\n",
              "      border-top-color: var(--fill-color);\n",
              "      border-right-color: var(--fill-color);\n",
              "    }\n",
              "    40% {\n",
              "      border-color: transparent;\n",
              "      border-right-color: var(--fill-color);\n",
              "      border-top-color: var(--fill-color);\n",
              "    }\n",
              "    60% {\n",
              "      border-color: transparent;\n",
              "      border-right-color: var(--fill-color);\n",
              "    }\n",
              "    80% {\n",
              "      border-color: transparent;\n",
              "      border-right-color: var(--fill-color);\n",
              "      border-bottom-color: var(--fill-color);\n",
              "    }\n",
              "    90% {\n",
              "      border-color: transparent;\n",
              "      border-bottom-color: var(--fill-color);\n",
              "    }\n",
              "  }\n",
              "</style>\n",
              "\n",
              "  <script>\n",
              "    async function quickchart(key) {\n",
              "      const quickchartButtonEl =\n",
              "        document.querySelector('#' + key + ' button');\n",
              "      quickchartButtonEl.disabled = true;  // To prevent multiple clicks.\n",
              "      quickchartButtonEl.classList.add('colab-df-spinner');\n",
              "      try {\n",
              "        const charts = await google.colab.kernel.invokeFunction(\n",
              "            'suggestCharts', [key], {});\n",
              "      } catch (error) {\n",
              "        console.error('Error during call to suggestCharts:', error);\n",
              "      }\n",
              "      quickchartButtonEl.classList.remove('colab-df-spinner');\n",
              "      quickchartButtonEl.classList.add('colab-df-quickchart-complete');\n",
              "    }\n",
              "    (() => {\n",
              "      let quickchartButtonEl =\n",
              "        document.querySelector('#df-38d15c58-6c04-46c7-a7e1-9671926d0a46 button');\n",
              "      quickchartButtonEl.style.display =\n",
              "        google.colab.kernel.accessAllowed ? 'block' : 'none';\n",
              "    })();\n",
              "  </script>\n",
              "</div>\n",
              "\n",
              "    </div>\n",
              "  </div>\n"
            ],
            "application/vnd.google.colaboratory.intrinsic+json": {
              "type": "dataframe",
              "variable_name": "dfHighVolumeOne",
              "summary": "{\n  \"name\": \"dfHighVolumeOne\",\n  \"rows\": 8,\n  \"fields\": [\n    {\n      \"column\": \"Room_Name\",\n      \"properties\": {\n        \"dtype\": \"string\",\n        \"num_unique_values\": 8,\n        \"samples\": [\n          \"College of General Studies Gilbane Lounge\",\n          \"George Sherman Union Alley\",\n          \"College of Arts & Sciences Classrooms \"\n        ],\n        \"semantic_type\": \"\",\n        \"description\": \"\"\n      }\n    },\n    {\n      \"column\": \"Address\",\n      \"properties\": {\n        \"dtype\": \"string\",\n        \"num_unique_values\": 6,\n        \"samples\": [\n          \" 675-725 Commonwealth Avenue\",\n          \" 871 Commonwealth Avenue\",\n          \" 685 Commonwealth Avenue\"\n        ],\n        \"semantic_type\": \"\",\n        \"description\": \"\"\n      }\n    },\n    {\n      \"column\": \"Notes\",\n      \"properties\": {\n        \"dtype\": \"string\",\n        \"num_unique_values\": 5,\n        \"samples\": [\n          \"one on each floor\",\n          \"any catered events would take place in the lobby/corridor.\",\n          \"There's one in the space btw Castle and Admissions; all catered events; a bottle filler isn't right for this space; bathrooms are near elevator so this is appropriate for the existing filler; very few events would have plastic; most events are receptions/dinners with china service\"\n        ],\n        \"semantic_type\": \"\",\n        \"description\": \"\"\n      }\n    },\n    {\n      \"column\": \"Candidacy\",\n      \"properties\": {\n        \"dtype\": \"number\",\n        \"std\": 0,\n        \"min\": 4,\n        \"max\": 4,\n        \"num_unique_values\": 1,\n        \"samples\": [\n          4\n        ],\n        \"semantic_type\": \"\",\n        \"description\": \"\"\n      }\n    },\n    {\n      \"column\": \"Floor Number\",\n      \"properties\": {\n        \"dtype\": \"string\",\n        \"num_unique_values\": 4,\n        \"samples\": [\n          \"1\"\n        ],\n        \"semantic_type\": \"\",\n        \"description\": \"\"\n      }\n    }\n  ]\n}"
            }
          },
          "metadata": {},
          "execution_count": 28
        }
      ]
    },
    {
      "cell_type": "code",
      "source": [
        "dfHighVolumeTwo.head(5)"
      ],
      "metadata": {
        "colab": {
          "base_uri": "https://localhost:8080/",
          "height": 164
        },
        "id": "mh1ZOUosA-uN",
        "outputId": "c9c8b796-23b2-4dd6-ccb2-0bf0e3014b11"
      },
      "execution_count": 29,
      "outputs": [
        {
          "output_type": "execute_result",
          "data": {
            "text/plain": [
              "                                            Room_Name  \\\n",
              "11                  George Sherman Union Metcalf Hall   \n",
              "15  Kilachand Center Eichenbaum Colloquium Room an...   \n",
              "\n",
              "                     Address  \\\n",
              "11   775 Commonwealth Avenue   \n",
              "15   610 Commonwealth Avenue   \n",
              "\n",
              "                                                Notes  Candidacy Floor Number  \n",
              "11  There are 3 on the second floor, just not in t...          3            2  \n",
              "15  there's one in the hallway; a bottle filler in...          3            1  "
            ],
            "text/html": [
              "\n",
              "  <div id=\"df-ea91d9e4-8ec8-4f18-9ecc-ea15ed6698fb\" class=\"colab-df-container\">\n",
              "    <div>\n",
              "<style scoped>\n",
              "    .dataframe tbody tr th:only-of-type {\n",
              "        vertical-align: middle;\n",
              "    }\n",
              "\n",
              "    .dataframe tbody tr th {\n",
              "        vertical-align: top;\n",
              "    }\n",
              "\n",
              "    .dataframe thead th {\n",
              "        text-align: right;\n",
              "    }\n",
              "</style>\n",
              "<table border=\"1\" class=\"dataframe\">\n",
              "  <thead>\n",
              "    <tr style=\"text-align: right;\">\n",
              "      <th></th>\n",
              "      <th>Room_Name</th>\n",
              "      <th>Address</th>\n",
              "      <th>Notes</th>\n",
              "      <th>Candidacy</th>\n",
              "      <th>Floor Number</th>\n",
              "    </tr>\n",
              "  </thead>\n",
              "  <tbody>\n",
              "    <tr>\n",
              "      <th>11</th>\n",
              "      <td>George Sherman Union Metcalf Hall</td>\n",
              "      <td>775 Commonwealth Avenue</td>\n",
              "      <td>There are 3 on the second floor, just not in t...</td>\n",
              "      <td>3</td>\n",
              "      <td>2</td>\n",
              "    </tr>\n",
              "    <tr>\n",
              "      <th>15</th>\n",
              "      <td>Kilachand Center Eichenbaum Colloquium Room an...</td>\n",
              "      <td>610 Commonwealth Avenue</td>\n",
              "      <td>there's one in the hallway; a bottle filler in...</td>\n",
              "      <td>3</td>\n",
              "      <td>1</td>\n",
              "    </tr>\n",
              "  </tbody>\n",
              "</table>\n",
              "</div>\n",
              "    <div class=\"colab-df-buttons\">\n",
              "\n",
              "  <div class=\"colab-df-container\">\n",
              "    <button class=\"colab-df-convert\" onclick=\"convertToInteractive('df-ea91d9e4-8ec8-4f18-9ecc-ea15ed6698fb')\"\n",
              "            title=\"Convert this dataframe to an interactive table.\"\n",
              "            style=\"display:none;\">\n",
              "\n",
              "  <svg xmlns=\"http://www.w3.org/2000/svg\" height=\"24px\" viewBox=\"0 -960 960 960\">\n",
              "    <path d=\"M120-120v-720h720v720H120Zm60-500h600v-160H180v160Zm220 220h160v-160H400v160Zm0 220h160v-160H400v160ZM180-400h160v-160H180v160Zm440 0h160v-160H620v160ZM180-180h160v-160H180v160Zm440 0h160v-160H620v160Z\"/>\n",
              "  </svg>\n",
              "    </button>\n",
              "\n",
              "  <style>\n",
              "    .colab-df-container {\n",
              "      display:flex;\n",
              "      gap: 12px;\n",
              "    }\n",
              "\n",
              "    .colab-df-convert {\n",
              "      background-color: #E8F0FE;\n",
              "      border: none;\n",
              "      border-radius: 50%;\n",
              "      cursor: pointer;\n",
              "      display: none;\n",
              "      fill: #1967D2;\n",
              "      height: 32px;\n",
              "      padding: 0 0 0 0;\n",
              "      width: 32px;\n",
              "    }\n",
              "\n",
              "    .colab-df-convert:hover {\n",
              "      background-color: #E2EBFA;\n",
              "      box-shadow: 0px 1px 2px rgba(60, 64, 67, 0.3), 0px 1px 3px 1px rgba(60, 64, 67, 0.15);\n",
              "      fill: #174EA6;\n",
              "    }\n",
              "\n",
              "    .colab-df-buttons div {\n",
              "      margin-bottom: 4px;\n",
              "    }\n",
              "\n",
              "    [theme=dark] .colab-df-convert {\n",
              "      background-color: #3B4455;\n",
              "      fill: #D2E3FC;\n",
              "    }\n",
              "\n",
              "    [theme=dark] .colab-df-convert:hover {\n",
              "      background-color: #434B5C;\n",
              "      box-shadow: 0px 1px 3px 1px rgba(0, 0, 0, 0.15);\n",
              "      filter: drop-shadow(0px 1px 2px rgba(0, 0, 0, 0.3));\n",
              "      fill: #FFFFFF;\n",
              "    }\n",
              "  </style>\n",
              "\n",
              "    <script>\n",
              "      const buttonEl =\n",
              "        document.querySelector('#df-ea91d9e4-8ec8-4f18-9ecc-ea15ed6698fb button.colab-df-convert');\n",
              "      buttonEl.style.display =\n",
              "        google.colab.kernel.accessAllowed ? 'block' : 'none';\n",
              "\n",
              "      async function convertToInteractive(key) {\n",
              "        const element = document.querySelector('#df-ea91d9e4-8ec8-4f18-9ecc-ea15ed6698fb');\n",
              "        const dataTable =\n",
              "          await google.colab.kernel.invokeFunction('convertToInteractive',\n",
              "                                                    [key], {});\n",
              "        if (!dataTable) return;\n",
              "\n",
              "        const docLinkHtml = 'Like what you see? Visit the ' +\n",
              "          '<a target=\"_blank\" href=https://colab.research.google.com/notebooks/data_table.ipynb>data table notebook</a>'\n",
              "          + ' to learn more about interactive tables.';\n",
              "        element.innerHTML = '';\n",
              "        dataTable['output_type'] = 'display_data';\n",
              "        await google.colab.output.renderOutput(dataTable, element);\n",
              "        const docLink = document.createElement('div');\n",
              "        docLink.innerHTML = docLinkHtml;\n",
              "        element.appendChild(docLink);\n",
              "      }\n",
              "    </script>\n",
              "  </div>\n",
              "\n",
              "\n",
              "<div id=\"df-94b92573-f749-478e-8e29-b1294d8d0254\">\n",
              "  <button class=\"colab-df-quickchart\" onclick=\"quickchart('df-94b92573-f749-478e-8e29-b1294d8d0254')\"\n",
              "            title=\"Suggest charts\"\n",
              "            style=\"display:none;\">\n",
              "\n",
              "<svg xmlns=\"http://www.w3.org/2000/svg\" height=\"24px\"viewBox=\"0 0 24 24\"\n",
              "     width=\"24px\">\n",
              "    <g>\n",
              "        <path d=\"M19 3H5c-1.1 0-2 .9-2 2v14c0 1.1.9 2 2 2h14c1.1 0 2-.9 2-2V5c0-1.1-.9-2-2-2zM9 17H7v-7h2v7zm4 0h-2V7h2v10zm4 0h-2v-4h2v4z\"/>\n",
              "    </g>\n",
              "</svg>\n",
              "  </button>\n",
              "\n",
              "<style>\n",
              "  .colab-df-quickchart {\n",
              "      --bg-color: #E8F0FE;\n",
              "      --fill-color: #1967D2;\n",
              "      --hover-bg-color: #E2EBFA;\n",
              "      --hover-fill-color: #174EA6;\n",
              "      --disabled-fill-color: #AAA;\n",
              "      --disabled-bg-color: #DDD;\n",
              "  }\n",
              "\n",
              "  [theme=dark] .colab-df-quickchart {\n",
              "      --bg-color: #3B4455;\n",
              "      --fill-color: #D2E3FC;\n",
              "      --hover-bg-color: #434B5C;\n",
              "      --hover-fill-color: #FFFFFF;\n",
              "      --disabled-bg-color: #3B4455;\n",
              "      --disabled-fill-color: #666;\n",
              "  }\n",
              "\n",
              "  .colab-df-quickchart {\n",
              "    background-color: var(--bg-color);\n",
              "    border: none;\n",
              "    border-radius: 50%;\n",
              "    cursor: pointer;\n",
              "    display: none;\n",
              "    fill: var(--fill-color);\n",
              "    height: 32px;\n",
              "    padding: 0;\n",
              "    width: 32px;\n",
              "  }\n",
              "\n",
              "  .colab-df-quickchart:hover {\n",
              "    background-color: var(--hover-bg-color);\n",
              "    box-shadow: 0 1px 2px rgba(60, 64, 67, 0.3), 0 1px 3px 1px rgba(60, 64, 67, 0.15);\n",
              "    fill: var(--button-hover-fill-color);\n",
              "  }\n",
              "\n",
              "  .colab-df-quickchart-complete:disabled,\n",
              "  .colab-df-quickchart-complete:disabled:hover {\n",
              "    background-color: var(--disabled-bg-color);\n",
              "    fill: var(--disabled-fill-color);\n",
              "    box-shadow: none;\n",
              "  }\n",
              "\n",
              "  .colab-df-spinner {\n",
              "    border: 2px solid var(--fill-color);\n",
              "    border-color: transparent;\n",
              "    border-bottom-color: var(--fill-color);\n",
              "    animation:\n",
              "      spin 1s steps(1) infinite;\n",
              "  }\n",
              "\n",
              "  @keyframes spin {\n",
              "    0% {\n",
              "      border-color: transparent;\n",
              "      border-bottom-color: var(--fill-color);\n",
              "      border-left-color: var(--fill-color);\n",
              "    }\n",
              "    20% {\n",
              "      border-color: transparent;\n",
              "      border-left-color: var(--fill-color);\n",
              "      border-top-color: var(--fill-color);\n",
              "    }\n",
              "    30% {\n",
              "      border-color: transparent;\n",
              "      border-left-color: var(--fill-color);\n",
              "      border-top-color: var(--fill-color);\n",
              "      border-right-color: var(--fill-color);\n",
              "    }\n",
              "    40% {\n",
              "      border-color: transparent;\n",
              "      border-right-color: var(--fill-color);\n",
              "      border-top-color: var(--fill-color);\n",
              "    }\n",
              "    60% {\n",
              "      border-color: transparent;\n",
              "      border-right-color: var(--fill-color);\n",
              "    }\n",
              "    80% {\n",
              "      border-color: transparent;\n",
              "      border-right-color: var(--fill-color);\n",
              "      border-bottom-color: var(--fill-color);\n",
              "    }\n",
              "    90% {\n",
              "      border-color: transparent;\n",
              "      border-bottom-color: var(--fill-color);\n",
              "    }\n",
              "  }\n",
              "</style>\n",
              "\n",
              "  <script>\n",
              "    async function quickchart(key) {\n",
              "      const quickchartButtonEl =\n",
              "        document.querySelector('#' + key + ' button');\n",
              "      quickchartButtonEl.disabled = true;  // To prevent multiple clicks.\n",
              "      quickchartButtonEl.classList.add('colab-df-spinner');\n",
              "      try {\n",
              "        const charts = await google.colab.kernel.invokeFunction(\n",
              "            'suggestCharts', [key], {});\n",
              "      } catch (error) {\n",
              "        console.error('Error during call to suggestCharts:', error);\n",
              "      }\n",
              "      quickchartButtonEl.classList.remove('colab-df-spinner');\n",
              "      quickchartButtonEl.classList.add('colab-df-quickchart-complete');\n",
              "    }\n",
              "    (() => {\n",
              "      let quickchartButtonEl =\n",
              "        document.querySelector('#df-94b92573-f749-478e-8e29-b1294d8d0254 button');\n",
              "      quickchartButtonEl.style.display =\n",
              "        google.colab.kernel.accessAllowed ? 'block' : 'none';\n",
              "    })();\n",
              "  </script>\n",
              "</div>\n",
              "\n",
              "    </div>\n",
              "  </div>\n"
            ],
            "application/vnd.google.colaboratory.intrinsic+json": {
              "type": "dataframe",
              "variable_name": "dfHighVolumeTwo",
              "summary": "{\n  \"name\": \"dfHighVolumeTwo\",\n  \"rows\": 2,\n  \"fields\": [\n    {\n      \"column\": \"Room_Name\",\n      \"properties\": {\n        \"dtype\": \"string\",\n        \"num_unique_values\": 2,\n        \"samples\": [\n          \"Kilachand Center Eichenbaum Colloquium Room and Atrium \",\n          \"George Sherman Union Metcalf Hall\"\n        ],\n        \"semantic_type\": \"\",\n        \"description\": \"\"\n      }\n    },\n    {\n      \"column\": \"Address\",\n      \"properties\": {\n        \"dtype\": \"string\",\n        \"num_unique_values\": 2,\n        \"samples\": [\n          \" 610 Commonwealth Avenue\",\n          \" 775 Commonwealth Avenue\"\n        ],\n        \"semantic_type\": \"\",\n        \"description\": \"\"\n      }\n    },\n    {\n      \"column\": \"Notes\",\n      \"properties\": {\n        \"dtype\": \"string\",\n        \"num_unique_values\": 2,\n        \"samples\": [\n          \"there's one in the hallway; a bottle filler in the room is not appropriate; does the interior fourth wall have plumbing? doubtful. possibly the only option is for catering to provide bulk water service. not big enough to do plumbed spigots.\",\n          \"There are 3 on the second floor, just not in the ballrooms; a bottle filler isn't the right solution here; there should be a special bulk option, perhaps with a couple spigots to 'plug into'\"\n        ],\n        \"semantic_type\": \"\",\n        \"description\": \"\"\n      }\n    },\n    {\n      \"column\": \"Candidacy\",\n      \"properties\": {\n        \"dtype\": \"number\",\n        \"std\": 0,\n        \"min\": 3,\n        \"max\": 3,\n        \"num_unique_values\": 1,\n        \"samples\": [\n          3\n        ],\n        \"semantic_type\": \"\",\n        \"description\": \"\"\n      }\n    },\n    {\n      \"column\": \"Floor Number\",\n      \"properties\": {\n        \"dtype\": \"string\",\n        \"num_unique_values\": 2,\n        \"samples\": [\n          \"1\"\n        ],\n        \"semantic_type\": \"\",\n        \"description\": \"\"\n      }\n    }\n  ]\n}"
            }
          },
          "metadata": {},
          "execution_count": 29
        }
      ]
    },
    {
      "cell_type": "code",
      "source": [
        "dfHighVolumeOne[\"Address\"].unique()"
      ],
      "metadata": {
        "colab": {
          "base_uri": "https://localhost:8080/"
        },
        "id": "xCFeLLZkCCiM",
        "outputId": "ffb557c8-ae2f-41a8-ffdb-d756328ac585"
      },
      "execution_count": 30,
      "outputs": [
        {
          "output_type": "execute_result",
          "data": {
            "text/plain": [
              "array([' 675-725 Commonwealth Avenue', ' 871 Commonwealth Avenue',\n",
              "       ' 225 Bay State Road', ' 775 Commonwealth Avenue',\n",
              "       ' 33 Agganis Way', ' 685 Commonwealth Avenue'], dtype=object)"
            ]
          },
          "metadata": {},
          "execution_count": 30
        }
      ]
    },
    {
      "cell_type": "code",
      "source": [
        "dfHighVolumeTwo[\"Address\"].unique()"
      ],
      "metadata": {
        "colab": {
          "base_uri": "https://localhost:8080/"
        },
        "id": "MKGzaBmqCG2h",
        "outputId": "b161eceb-d787-4840-e740-06ed1186102f"
      },
      "execution_count": 31,
      "outputs": [
        {
          "output_type": "execute_result",
          "data": {
            "text/plain": [
              "array([' 775 Commonwealth Avenue', ' 610 Commonwealth Avenue'],\n",
              "      dtype=object)"
            ]
          },
          "metadata": {},
          "execution_count": 31
        }
      ]
    },
    {
      "cell_type": "code",
      "source": [
        "dfWifi = pd.read_csv(\"Wifi.csv\")\n",
        "dfWifi.head(5)"
      ],
      "metadata": {
        "id": "6aJ41SMGADVT",
        "colab": {
          "base_uri": "https://localhost:8080/",
          "height": 293
        },
        "outputId": "16a1f37f-d10b-4518-c715-cc1a34c2dc9a"
      },
      "execution_count": 32,
      "outputs": [
        {
          "output_type": "execute_result",
          "data": {
            "text/plain": [
              "         date  hour building_floor           building_desc  latitude  \\\n",
              "0  2021-03-31     1              4      209 BAY STATE ROAD   42.3507   \n",
              "1  2021-03-31     1              2  200-202 BAY STATE ROAD   42.3503   \n",
              "2  2021-03-31     1              2      184 BAY STATE ROAD   42.3503   \n",
              "3  2021-03-31     1              3      190 BAY STATE ROAD   42.3503   \n",
              "4  2021-03-31     1              3      161 BAY STATE ROAD   42.3506   \n",
              "\n",
              "   longitude building_type  density_cnt  capacity  dc_ratio  \n",
              "0   -71.1028   Residential            1         8      0.13  \n",
              "1   -71.1026   Residential            1        12      0.08  \n",
              "2   -71.1019   Residential            1         6      0.17  \n",
              "3   -71.1021   Residential            1         9      0.11  \n",
              "4   -71.1009   Residential            1         5      0.20  "
            ],
            "text/html": [
              "\n",
              "  <div id=\"df-f2f0c328-f888-4438-887d-751795de88b5\" class=\"colab-df-container\">\n",
              "    <div>\n",
              "<style scoped>\n",
              "    .dataframe tbody tr th:only-of-type {\n",
              "        vertical-align: middle;\n",
              "    }\n",
              "\n",
              "    .dataframe tbody tr th {\n",
              "        vertical-align: top;\n",
              "    }\n",
              "\n",
              "    .dataframe thead th {\n",
              "        text-align: right;\n",
              "    }\n",
              "</style>\n",
              "<table border=\"1\" class=\"dataframe\">\n",
              "  <thead>\n",
              "    <tr style=\"text-align: right;\">\n",
              "      <th></th>\n",
              "      <th>date</th>\n",
              "      <th>hour</th>\n",
              "      <th>building_floor</th>\n",
              "      <th>building_desc</th>\n",
              "      <th>latitude</th>\n",
              "      <th>longitude</th>\n",
              "      <th>building_type</th>\n",
              "      <th>density_cnt</th>\n",
              "      <th>capacity</th>\n",
              "      <th>dc_ratio</th>\n",
              "    </tr>\n",
              "  </thead>\n",
              "  <tbody>\n",
              "    <tr>\n",
              "      <th>0</th>\n",
              "      <td>2021-03-31</td>\n",
              "      <td>1</td>\n",
              "      <td>4</td>\n",
              "      <td>209 BAY STATE ROAD</td>\n",
              "      <td>42.3507</td>\n",
              "      <td>-71.1028</td>\n",
              "      <td>Residential</td>\n",
              "      <td>1</td>\n",
              "      <td>8</td>\n",
              "      <td>0.13</td>\n",
              "    </tr>\n",
              "    <tr>\n",
              "      <th>1</th>\n",
              "      <td>2021-03-31</td>\n",
              "      <td>1</td>\n",
              "      <td>2</td>\n",
              "      <td>200-202 BAY STATE ROAD</td>\n",
              "      <td>42.3503</td>\n",
              "      <td>-71.1026</td>\n",
              "      <td>Residential</td>\n",
              "      <td>1</td>\n",
              "      <td>12</td>\n",
              "      <td>0.08</td>\n",
              "    </tr>\n",
              "    <tr>\n",
              "      <th>2</th>\n",
              "      <td>2021-03-31</td>\n",
              "      <td>1</td>\n",
              "      <td>2</td>\n",
              "      <td>184 BAY STATE ROAD</td>\n",
              "      <td>42.3503</td>\n",
              "      <td>-71.1019</td>\n",
              "      <td>Residential</td>\n",
              "      <td>1</td>\n",
              "      <td>6</td>\n",
              "      <td>0.17</td>\n",
              "    </tr>\n",
              "    <tr>\n",
              "      <th>3</th>\n",
              "      <td>2021-03-31</td>\n",
              "      <td>1</td>\n",
              "      <td>3</td>\n",
              "      <td>190 BAY STATE ROAD</td>\n",
              "      <td>42.3503</td>\n",
              "      <td>-71.1021</td>\n",
              "      <td>Residential</td>\n",
              "      <td>1</td>\n",
              "      <td>9</td>\n",
              "      <td>0.11</td>\n",
              "    </tr>\n",
              "    <tr>\n",
              "      <th>4</th>\n",
              "      <td>2021-03-31</td>\n",
              "      <td>1</td>\n",
              "      <td>3</td>\n",
              "      <td>161 BAY STATE ROAD</td>\n",
              "      <td>42.3506</td>\n",
              "      <td>-71.1009</td>\n",
              "      <td>Residential</td>\n",
              "      <td>1</td>\n",
              "      <td>5</td>\n",
              "      <td>0.20</td>\n",
              "    </tr>\n",
              "  </tbody>\n",
              "</table>\n",
              "</div>\n",
              "    <div class=\"colab-df-buttons\">\n",
              "\n",
              "  <div class=\"colab-df-container\">\n",
              "    <button class=\"colab-df-convert\" onclick=\"convertToInteractive('df-f2f0c328-f888-4438-887d-751795de88b5')\"\n",
              "            title=\"Convert this dataframe to an interactive table.\"\n",
              "            style=\"display:none;\">\n",
              "\n",
              "  <svg xmlns=\"http://www.w3.org/2000/svg\" height=\"24px\" viewBox=\"0 -960 960 960\">\n",
              "    <path d=\"M120-120v-720h720v720H120Zm60-500h600v-160H180v160Zm220 220h160v-160H400v160Zm0 220h160v-160H400v160ZM180-400h160v-160H180v160Zm440 0h160v-160H620v160ZM180-180h160v-160H180v160Zm440 0h160v-160H620v160Z\"/>\n",
              "  </svg>\n",
              "    </button>\n",
              "\n",
              "  <style>\n",
              "    .colab-df-container {\n",
              "      display:flex;\n",
              "      gap: 12px;\n",
              "    }\n",
              "\n",
              "    .colab-df-convert {\n",
              "      background-color: #E8F0FE;\n",
              "      border: none;\n",
              "      border-radius: 50%;\n",
              "      cursor: pointer;\n",
              "      display: none;\n",
              "      fill: #1967D2;\n",
              "      height: 32px;\n",
              "      padding: 0 0 0 0;\n",
              "      width: 32px;\n",
              "    }\n",
              "\n",
              "    .colab-df-convert:hover {\n",
              "      background-color: #E2EBFA;\n",
              "      box-shadow: 0px 1px 2px rgba(60, 64, 67, 0.3), 0px 1px 3px 1px rgba(60, 64, 67, 0.15);\n",
              "      fill: #174EA6;\n",
              "    }\n",
              "\n",
              "    .colab-df-buttons div {\n",
              "      margin-bottom: 4px;\n",
              "    }\n",
              "\n",
              "    [theme=dark] .colab-df-convert {\n",
              "      background-color: #3B4455;\n",
              "      fill: #D2E3FC;\n",
              "    }\n",
              "\n",
              "    [theme=dark] .colab-df-convert:hover {\n",
              "      background-color: #434B5C;\n",
              "      box-shadow: 0px 1px 3px 1px rgba(0, 0, 0, 0.15);\n",
              "      filter: drop-shadow(0px 1px 2px rgba(0, 0, 0, 0.3));\n",
              "      fill: #FFFFFF;\n",
              "    }\n",
              "  </style>\n",
              "\n",
              "    <script>\n",
              "      const buttonEl =\n",
              "        document.querySelector('#df-f2f0c328-f888-4438-887d-751795de88b5 button.colab-df-convert');\n",
              "      buttonEl.style.display =\n",
              "        google.colab.kernel.accessAllowed ? 'block' : 'none';\n",
              "\n",
              "      async function convertToInteractive(key) {\n",
              "        const element = document.querySelector('#df-f2f0c328-f888-4438-887d-751795de88b5');\n",
              "        const dataTable =\n",
              "          await google.colab.kernel.invokeFunction('convertToInteractive',\n",
              "                                                    [key], {});\n",
              "        if (!dataTable) return;\n",
              "\n",
              "        const docLinkHtml = 'Like what you see? Visit the ' +\n",
              "          '<a target=\"_blank\" href=https://colab.research.google.com/notebooks/data_table.ipynb>data table notebook</a>'\n",
              "          + ' to learn more about interactive tables.';\n",
              "        element.innerHTML = '';\n",
              "        dataTable['output_type'] = 'display_data';\n",
              "        await google.colab.output.renderOutput(dataTable, element);\n",
              "        const docLink = document.createElement('div');\n",
              "        docLink.innerHTML = docLinkHtml;\n",
              "        element.appendChild(docLink);\n",
              "      }\n",
              "    </script>\n",
              "  </div>\n",
              "\n",
              "\n",
              "<div id=\"df-ce678cd8-7cac-4723-b0f4-3d74c99dcb87\">\n",
              "  <button class=\"colab-df-quickchart\" onclick=\"quickchart('df-ce678cd8-7cac-4723-b0f4-3d74c99dcb87')\"\n",
              "            title=\"Suggest charts\"\n",
              "            style=\"display:none;\">\n",
              "\n",
              "<svg xmlns=\"http://www.w3.org/2000/svg\" height=\"24px\"viewBox=\"0 0 24 24\"\n",
              "     width=\"24px\">\n",
              "    <g>\n",
              "        <path d=\"M19 3H5c-1.1 0-2 .9-2 2v14c0 1.1.9 2 2 2h14c1.1 0 2-.9 2-2V5c0-1.1-.9-2-2-2zM9 17H7v-7h2v7zm4 0h-2V7h2v10zm4 0h-2v-4h2v4z\"/>\n",
              "    </g>\n",
              "</svg>\n",
              "  </button>\n",
              "\n",
              "<style>\n",
              "  .colab-df-quickchart {\n",
              "      --bg-color: #E8F0FE;\n",
              "      --fill-color: #1967D2;\n",
              "      --hover-bg-color: #E2EBFA;\n",
              "      --hover-fill-color: #174EA6;\n",
              "      --disabled-fill-color: #AAA;\n",
              "      --disabled-bg-color: #DDD;\n",
              "  }\n",
              "\n",
              "  [theme=dark] .colab-df-quickchart {\n",
              "      --bg-color: #3B4455;\n",
              "      --fill-color: #D2E3FC;\n",
              "      --hover-bg-color: #434B5C;\n",
              "      --hover-fill-color: #FFFFFF;\n",
              "      --disabled-bg-color: #3B4455;\n",
              "      --disabled-fill-color: #666;\n",
              "  }\n",
              "\n",
              "  .colab-df-quickchart {\n",
              "    background-color: var(--bg-color);\n",
              "    border: none;\n",
              "    border-radius: 50%;\n",
              "    cursor: pointer;\n",
              "    display: none;\n",
              "    fill: var(--fill-color);\n",
              "    height: 32px;\n",
              "    padding: 0;\n",
              "    width: 32px;\n",
              "  }\n",
              "\n",
              "  .colab-df-quickchart:hover {\n",
              "    background-color: var(--hover-bg-color);\n",
              "    box-shadow: 0 1px 2px rgba(60, 64, 67, 0.3), 0 1px 3px 1px rgba(60, 64, 67, 0.15);\n",
              "    fill: var(--button-hover-fill-color);\n",
              "  }\n",
              "\n",
              "  .colab-df-quickchart-complete:disabled,\n",
              "  .colab-df-quickchart-complete:disabled:hover {\n",
              "    background-color: var(--disabled-bg-color);\n",
              "    fill: var(--disabled-fill-color);\n",
              "    box-shadow: none;\n",
              "  }\n",
              "\n",
              "  .colab-df-spinner {\n",
              "    border: 2px solid var(--fill-color);\n",
              "    border-color: transparent;\n",
              "    border-bottom-color: var(--fill-color);\n",
              "    animation:\n",
              "      spin 1s steps(1) infinite;\n",
              "  }\n",
              "\n",
              "  @keyframes spin {\n",
              "    0% {\n",
              "      border-color: transparent;\n",
              "      border-bottom-color: var(--fill-color);\n",
              "      border-left-color: var(--fill-color);\n",
              "    }\n",
              "    20% {\n",
              "      border-color: transparent;\n",
              "      border-left-color: var(--fill-color);\n",
              "      border-top-color: var(--fill-color);\n",
              "    }\n",
              "    30% {\n",
              "      border-color: transparent;\n",
              "      border-left-color: var(--fill-color);\n",
              "      border-top-color: var(--fill-color);\n",
              "      border-right-color: var(--fill-color);\n",
              "    }\n",
              "    40% {\n",
              "      border-color: transparent;\n",
              "      border-right-color: var(--fill-color);\n",
              "      border-top-color: var(--fill-color);\n",
              "    }\n",
              "    60% {\n",
              "      border-color: transparent;\n",
              "      border-right-color: var(--fill-color);\n",
              "    }\n",
              "    80% {\n",
              "      border-color: transparent;\n",
              "      border-right-color: var(--fill-color);\n",
              "      border-bottom-color: var(--fill-color);\n",
              "    }\n",
              "    90% {\n",
              "      border-color: transparent;\n",
              "      border-bottom-color: var(--fill-color);\n",
              "    }\n",
              "  }\n",
              "</style>\n",
              "\n",
              "  <script>\n",
              "    async function quickchart(key) {\n",
              "      const quickchartButtonEl =\n",
              "        document.querySelector('#' + key + ' button');\n",
              "      quickchartButtonEl.disabled = true;  // To prevent multiple clicks.\n",
              "      quickchartButtonEl.classList.add('colab-df-spinner');\n",
              "      try {\n",
              "        const charts = await google.colab.kernel.invokeFunction(\n",
              "            'suggestCharts', [key], {});\n",
              "      } catch (error) {\n",
              "        console.error('Error during call to suggestCharts:', error);\n",
              "      }\n",
              "      quickchartButtonEl.classList.remove('colab-df-spinner');\n",
              "      quickchartButtonEl.classList.add('colab-df-quickchart-complete');\n",
              "    }\n",
              "    (() => {\n",
              "      let quickchartButtonEl =\n",
              "        document.querySelector('#df-ce678cd8-7cac-4723-b0f4-3d74c99dcb87 button');\n",
              "      quickchartButtonEl.style.display =\n",
              "        google.colab.kernel.accessAllowed ? 'block' : 'none';\n",
              "    })();\n",
              "  </script>\n",
              "</div>\n",
              "\n",
              "    </div>\n",
              "  </div>\n"
            ],
            "application/vnd.google.colaboratory.intrinsic+json": {
              "type": "dataframe",
              "variable_name": "dfWifi"
            }
          },
          "metadata": {},
          "execution_count": 32
        }
      ]
    },
    {
      "cell_type": "code",
      "source": [
        "dfWifi = dfWifi[~dfWifi['hour'].isin([3, 4, 5, 6])]\n",
        "dfWifi.head(5)"
      ],
      "metadata": {
        "colab": {
          "base_uri": "https://localhost:8080/",
          "height": 293
        },
        "id": "HqwU0ypUE8uP",
        "outputId": "a6f79119-4aff-4434-e88f-faa2f386e7a5"
      },
      "execution_count": 33,
      "outputs": [
        {
          "output_type": "execute_result",
          "data": {
            "text/plain": [
              "         date  hour building_floor           building_desc  latitude  \\\n",
              "0  2021-03-31     1              4      209 BAY STATE ROAD   42.3507   \n",
              "1  2021-03-31     1              2  200-202 BAY STATE ROAD   42.3503   \n",
              "2  2021-03-31     1              2      184 BAY STATE ROAD   42.3503   \n",
              "3  2021-03-31     1              3      190 BAY STATE ROAD   42.3503   \n",
              "4  2021-03-31     1              3      161 BAY STATE ROAD   42.3506   \n",
              "\n",
              "   longitude building_type  density_cnt  capacity  dc_ratio  \n",
              "0   -71.1028   Residential            1         8      0.13  \n",
              "1   -71.1026   Residential            1        12      0.08  \n",
              "2   -71.1019   Residential            1         6      0.17  \n",
              "3   -71.1021   Residential            1         9      0.11  \n",
              "4   -71.1009   Residential            1         5      0.20  "
            ],
            "text/html": [
              "\n",
              "  <div id=\"df-d571a5ae-0f49-4997-98af-16bca0288677\" class=\"colab-df-container\">\n",
              "    <div>\n",
              "<style scoped>\n",
              "    .dataframe tbody tr th:only-of-type {\n",
              "        vertical-align: middle;\n",
              "    }\n",
              "\n",
              "    .dataframe tbody tr th {\n",
              "        vertical-align: top;\n",
              "    }\n",
              "\n",
              "    .dataframe thead th {\n",
              "        text-align: right;\n",
              "    }\n",
              "</style>\n",
              "<table border=\"1\" class=\"dataframe\">\n",
              "  <thead>\n",
              "    <tr style=\"text-align: right;\">\n",
              "      <th></th>\n",
              "      <th>date</th>\n",
              "      <th>hour</th>\n",
              "      <th>building_floor</th>\n",
              "      <th>building_desc</th>\n",
              "      <th>latitude</th>\n",
              "      <th>longitude</th>\n",
              "      <th>building_type</th>\n",
              "      <th>density_cnt</th>\n",
              "      <th>capacity</th>\n",
              "      <th>dc_ratio</th>\n",
              "    </tr>\n",
              "  </thead>\n",
              "  <tbody>\n",
              "    <tr>\n",
              "      <th>0</th>\n",
              "      <td>2021-03-31</td>\n",
              "      <td>1</td>\n",
              "      <td>4</td>\n",
              "      <td>209 BAY STATE ROAD</td>\n",
              "      <td>42.3507</td>\n",
              "      <td>-71.1028</td>\n",
              "      <td>Residential</td>\n",
              "      <td>1</td>\n",
              "      <td>8</td>\n",
              "      <td>0.13</td>\n",
              "    </tr>\n",
              "    <tr>\n",
              "      <th>1</th>\n",
              "      <td>2021-03-31</td>\n",
              "      <td>1</td>\n",
              "      <td>2</td>\n",
              "      <td>200-202 BAY STATE ROAD</td>\n",
              "      <td>42.3503</td>\n",
              "      <td>-71.1026</td>\n",
              "      <td>Residential</td>\n",
              "      <td>1</td>\n",
              "      <td>12</td>\n",
              "      <td>0.08</td>\n",
              "    </tr>\n",
              "    <tr>\n",
              "      <th>2</th>\n",
              "      <td>2021-03-31</td>\n",
              "      <td>1</td>\n",
              "      <td>2</td>\n",
              "      <td>184 BAY STATE ROAD</td>\n",
              "      <td>42.3503</td>\n",
              "      <td>-71.1019</td>\n",
              "      <td>Residential</td>\n",
              "      <td>1</td>\n",
              "      <td>6</td>\n",
              "      <td>0.17</td>\n",
              "    </tr>\n",
              "    <tr>\n",
              "      <th>3</th>\n",
              "      <td>2021-03-31</td>\n",
              "      <td>1</td>\n",
              "      <td>3</td>\n",
              "      <td>190 BAY STATE ROAD</td>\n",
              "      <td>42.3503</td>\n",
              "      <td>-71.1021</td>\n",
              "      <td>Residential</td>\n",
              "      <td>1</td>\n",
              "      <td>9</td>\n",
              "      <td>0.11</td>\n",
              "    </tr>\n",
              "    <tr>\n",
              "      <th>4</th>\n",
              "      <td>2021-03-31</td>\n",
              "      <td>1</td>\n",
              "      <td>3</td>\n",
              "      <td>161 BAY STATE ROAD</td>\n",
              "      <td>42.3506</td>\n",
              "      <td>-71.1009</td>\n",
              "      <td>Residential</td>\n",
              "      <td>1</td>\n",
              "      <td>5</td>\n",
              "      <td>0.20</td>\n",
              "    </tr>\n",
              "  </tbody>\n",
              "</table>\n",
              "</div>\n",
              "    <div class=\"colab-df-buttons\">\n",
              "\n",
              "  <div class=\"colab-df-container\">\n",
              "    <button class=\"colab-df-convert\" onclick=\"convertToInteractive('df-d571a5ae-0f49-4997-98af-16bca0288677')\"\n",
              "            title=\"Convert this dataframe to an interactive table.\"\n",
              "            style=\"display:none;\">\n",
              "\n",
              "  <svg xmlns=\"http://www.w3.org/2000/svg\" height=\"24px\" viewBox=\"0 -960 960 960\">\n",
              "    <path d=\"M120-120v-720h720v720H120Zm60-500h600v-160H180v160Zm220 220h160v-160H400v160Zm0 220h160v-160H400v160ZM180-400h160v-160H180v160Zm440 0h160v-160H620v160ZM180-180h160v-160H180v160Zm440 0h160v-160H620v160Z\"/>\n",
              "  </svg>\n",
              "    </button>\n",
              "\n",
              "  <style>\n",
              "    .colab-df-container {\n",
              "      display:flex;\n",
              "      gap: 12px;\n",
              "    }\n",
              "\n",
              "    .colab-df-convert {\n",
              "      background-color: #E8F0FE;\n",
              "      border: none;\n",
              "      border-radius: 50%;\n",
              "      cursor: pointer;\n",
              "      display: none;\n",
              "      fill: #1967D2;\n",
              "      height: 32px;\n",
              "      padding: 0 0 0 0;\n",
              "      width: 32px;\n",
              "    }\n",
              "\n",
              "    .colab-df-convert:hover {\n",
              "      background-color: #E2EBFA;\n",
              "      box-shadow: 0px 1px 2px rgba(60, 64, 67, 0.3), 0px 1px 3px 1px rgba(60, 64, 67, 0.15);\n",
              "      fill: #174EA6;\n",
              "    }\n",
              "\n",
              "    .colab-df-buttons div {\n",
              "      margin-bottom: 4px;\n",
              "    }\n",
              "\n",
              "    [theme=dark] .colab-df-convert {\n",
              "      background-color: #3B4455;\n",
              "      fill: #D2E3FC;\n",
              "    }\n",
              "\n",
              "    [theme=dark] .colab-df-convert:hover {\n",
              "      background-color: #434B5C;\n",
              "      box-shadow: 0px 1px 3px 1px rgba(0, 0, 0, 0.15);\n",
              "      filter: drop-shadow(0px 1px 2px rgba(0, 0, 0, 0.3));\n",
              "      fill: #FFFFFF;\n",
              "    }\n",
              "  </style>\n",
              "\n",
              "    <script>\n",
              "      const buttonEl =\n",
              "        document.querySelector('#df-d571a5ae-0f49-4997-98af-16bca0288677 button.colab-df-convert');\n",
              "      buttonEl.style.display =\n",
              "        google.colab.kernel.accessAllowed ? 'block' : 'none';\n",
              "\n",
              "      async function convertToInteractive(key) {\n",
              "        const element = document.querySelector('#df-d571a5ae-0f49-4997-98af-16bca0288677');\n",
              "        const dataTable =\n",
              "          await google.colab.kernel.invokeFunction('convertToInteractive',\n",
              "                                                    [key], {});\n",
              "        if (!dataTable) return;\n",
              "\n",
              "        const docLinkHtml = 'Like what you see? Visit the ' +\n",
              "          '<a target=\"_blank\" href=https://colab.research.google.com/notebooks/data_table.ipynb>data table notebook</a>'\n",
              "          + ' to learn more about interactive tables.';\n",
              "        element.innerHTML = '';\n",
              "        dataTable['output_type'] = 'display_data';\n",
              "        await google.colab.output.renderOutput(dataTable, element);\n",
              "        const docLink = document.createElement('div');\n",
              "        docLink.innerHTML = docLinkHtml;\n",
              "        element.appendChild(docLink);\n",
              "      }\n",
              "    </script>\n",
              "  </div>\n",
              "\n",
              "\n",
              "<div id=\"df-99c3e796-492e-489c-b832-45f9552e8fb8\">\n",
              "  <button class=\"colab-df-quickchart\" onclick=\"quickchart('df-99c3e796-492e-489c-b832-45f9552e8fb8')\"\n",
              "            title=\"Suggest charts\"\n",
              "            style=\"display:none;\">\n",
              "\n",
              "<svg xmlns=\"http://www.w3.org/2000/svg\" height=\"24px\"viewBox=\"0 0 24 24\"\n",
              "     width=\"24px\">\n",
              "    <g>\n",
              "        <path d=\"M19 3H5c-1.1 0-2 .9-2 2v14c0 1.1.9 2 2 2h14c1.1 0 2-.9 2-2V5c0-1.1-.9-2-2-2zM9 17H7v-7h2v7zm4 0h-2V7h2v10zm4 0h-2v-4h2v4z\"/>\n",
              "    </g>\n",
              "</svg>\n",
              "  </button>\n",
              "\n",
              "<style>\n",
              "  .colab-df-quickchart {\n",
              "      --bg-color: #E8F0FE;\n",
              "      --fill-color: #1967D2;\n",
              "      --hover-bg-color: #E2EBFA;\n",
              "      --hover-fill-color: #174EA6;\n",
              "      --disabled-fill-color: #AAA;\n",
              "      --disabled-bg-color: #DDD;\n",
              "  }\n",
              "\n",
              "  [theme=dark] .colab-df-quickchart {\n",
              "      --bg-color: #3B4455;\n",
              "      --fill-color: #D2E3FC;\n",
              "      --hover-bg-color: #434B5C;\n",
              "      --hover-fill-color: #FFFFFF;\n",
              "      --disabled-bg-color: #3B4455;\n",
              "      --disabled-fill-color: #666;\n",
              "  }\n",
              "\n",
              "  .colab-df-quickchart {\n",
              "    background-color: var(--bg-color);\n",
              "    border: none;\n",
              "    border-radius: 50%;\n",
              "    cursor: pointer;\n",
              "    display: none;\n",
              "    fill: var(--fill-color);\n",
              "    height: 32px;\n",
              "    padding: 0;\n",
              "    width: 32px;\n",
              "  }\n",
              "\n",
              "  .colab-df-quickchart:hover {\n",
              "    background-color: var(--hover-bg-color);\n",
              "    box-shadow: 0 1px 2px rgba(60, 64, 67, 0.3), 0 1px 3px 1px rgba(60, 64, 67, 0.15);\n",
              "    fill: var(--button-hover-fill-color);\n",
              "  }\n",
              "\n",
              "  .colab-df-quickchart-complete:disabled,\n",
              "  .colab-df-quickchart-complete:disabled:hover {\n",
              "    background-color: var(--disabled-bg-color);\n",
              "    fill: var(--disabled-fill-color);\n",
              "    box-shadow: none;\n",
              "  }\n",
              "\n",
              "  .colab-df-spinner {\n",
              "    border: 2px solid var(--fill-color);\n",
              "    border-color: transparent;\n",
              "    border-bottom-color: var(--fill-color);\n",
              "    animation:\n",
              "      spin 1s steps(1) infinite;\n",
              "  }\n",
              "\n",
              "  @keyframes spin {\n",
              "    0% {\n",
              "      border-color: transparent;\n",
              "      border-bottom-color: var(--fill-color);\n",
              "      border-left-color: var(--fill-color);\n",
              "    }\n",
              "    20% {\n",
              "      border-color: transparent;\n",
              "      border-left-color: var(--fill-color);\n",
              "      border-top-color: var(--fill-color);\n",
              "    }\n",
              "    30% {\n",
              "      border-color: transparent;\n",
              "      border-left-color: var(--fill-color);\n",
              "      border-top-color: var(--fill-color);\n",
              "      border-right-color: var(--fill-color);\n",
              "    }\n",
              "    40% {\n",
              "      border-color: transparent;\n",
              "      border-right-color: var(--fill-color);\n",
              "      border-top-color: var(--fill-color);\n",
              "    }\n",
              "    60% {\n",
              "      border-color: transparent;\n",
              "      border-right-color: var(--fill-color);\n",
              "    }\n",
              "    80% {\n",
              "      border-color: transparent;\n",
              "      border-right-color: var(--fill-color);\n",
              "      border-bottom-color: var(--fill-color);\n",
              "    }\n",
              "    90% {\n",
              "      border-color: transparent;\n",
              "      border-bottom-color: var(--fill-color);\n",
              "    }\n",
              "  }\n",
              "</style>\n",
              "\n",
              "  <script>\n",
              "    async function quickchart(key) {\n",
              "      const quickchartButtonEl =\n",
              "        document.querySelector('#' + key + ' button');\n",
              "      quickchartButtonEl.disabled = true;  // To prevent multiple clicks.\n",
              "      quickchartButtonEl.classList.add('colab-df-spinner');\n",
              "      try {\n",
              "        const charts = await google.colab.kernel.invokeFunction(\n",
              "            'suggestCharts', [key], {});\n",
              "      } catch (error) {\n",
              "        console.error('Error during call to suggestCharts:', error);\n",
              "      }\n",
              "      quickchartButtonEl.classList.remove('colab-df-spinner');\n",
              "      quickchartButtonEl.classList.add('colab-df-quickchart-complete');\n",
              "    }\n",
              "    (() => {\n",
              "      let quickchartButtonEl =\n",
              "        document.querySelector('#df-99c3e796-492e-489c-b832-45f9552e8fb8 button');\n",
              "      quickchartButtonEl.style.display =\n",
              "        google.colab.kernel.accessAllowed ? 'block' : 'none';\n",
              "    })();\n",
              "  </script>\n",
              "</div>\n",
              "\n",
              "    </div>\n",
              "  </div>\n"
            ],
            "application/vnd.google.colaboratory.intrinsic+json": {
              "type": "dataframe",
              "variable_name": "dfWifi"
            }
          },
          "metadata": {},
          "execution_count": 33
        }
      ]
    },
    {
      "cell_type": "code",
      "source": [
        "wifiList = dfWifi[\"building_desc\"].unique()\n",
        "lengthOfList = int(len(wifiList)/4)\n",
        "chrisData = wifiList[:lengthOfList]\n",
        "ryanData = wifiList[lengthOfList:lengthOfList*2]\n",
        "junhoData = wifiList[lengthOfList*2:lengthOfList*3]\n",
        "wooData = wifiList[lengthOfList*3:]"
      ],
      "metadata": {
        "id": "vZzeq0y0Dz9S"
      },
      "execution_count": 34,
      "outputs": []
    },
    {
      "cell_type": "code",
      "source": [
        "print(chrisData)"
      ],
      "metadata": {
        "colab": {
          "base_uri": "https://localhost:8080/"
        },
        "id": "YuV6WPXQGVzL",
        "outputId": "0d2e53f2-d5a6-46f2-ef56-77c0e2e2c39b"
      },
      "execution_count": 35,
      "outputs": [
        {
          "output_type": "stream",
          "name": "stdout",
          "text": [
            "['209 BAY STATE ROAD' '200-202 BAY STATE ROAD' '184 BAY STATE ROAD'\n",
            " '190 BAY STATE ROAD' '161 BAY STATE ROAD' '163 BAY STATE ROAD'\n",
            " '159 BAY STATE ROAD' '771 COMMONWEALTH AVENUE' '775 COMMONWEALTH AVENUE'\n",
            " '1 UNIVERSITY ROAD' '745 - 755 COMMONWEALTH AVENUE'\n",
            " '264-270 BAY STATE ROAD' '6 BUSWELL STREET' '22 BUSWELL STREET'\n",
            " '96 MOUNTFORT STREET' '806-820 BEACON STREET' '844 BEACON STREET'\n",
            " '46 MOUNTFORT STREET' '856-862 BEACON STREET' '870-872 BEACON STREET'\n",
            " '824-826 BEACON STREET' '24 BUSWELL STREET' '16 ARUNDEL STREET'\n",
            " '834-836 BEACON STREET' '830 BEACON STREET' '98 MOUNTFORT STREET'\n",
            " '635 COMMONWEALTH AVENUE' '2 SILBER WAY' '595 COMMONWEALTH AVENUE'\n",
            " '285 BABCOCK STREET' '120 ASHFORD STREET' '100 ASHFORD STREET'\n",
            " '590 COMMONWEALTH AVENUE' '722-26-28 COMMONWEALTH AVENUE'\n",
            " '730 COMMONWEALTH AVENUE' \"8 ST. MARY'S STREET\"\n",
            " '1010 COMMONWEALTH AVENUE' '930-940 COMMONWEALTH AVENUE'\n",
            " '186 BAY STATE ROAD' '10 BUICK STREET' '900 COMMONWEALTH AVENUE'\n",
            " '25 BUICK STREET' '855 COMMONWEALTH AVENUE' '871 COMMONWEALTH AVENUE'\n",
            " '700 COMMONWEALTH AVENUE' '1019 COMMONWEALTH AVENUE' '38 BUSWELL STREET'\n",
            " '44 BUSWELL STREET' '48 BUSWELL STREET' '1053 BEACON STREET'\n",
            " '483 COMMONWEALTH AVENUE' '2 BUSWELL STREET' '210-212 BAY STATE ROAD'\n",
            " '10 LENOX STREET' '91 BAY STATE ROAD' '275 BABCOCK STREET'\n",
            " '540 COMMONWEALTH AVENUE' '33 HARRY AGGANIS WAY' '90-92 BAY STATE ROAD'\n",
            " '30 HARRY AGGANIS WAY']\n"
          ]
        }
      ]
    },
    {
      "cell_type": "markdown",
      "source": [
        "# First 1/4 data -- done by Jeong Yong"
      ],
      "metadata": {
        "id": "t6lqf1pedItF"
      }
    },
    {
      "cell_type": "markdown",
      "source": [
        "## Wifi Stations Without Water Bottle Filling Station"
      ],
      "metadata": {
        "id": "UIOZj56qj2U8"
      }
    },
    {
      "cell_type": "code",
      "source": [
        "WithoutWaterBottle = {}"
      ],
      "metadata": {
        "id": "Gg4NJpkkIKQb"
      },
      "execution_count": 36,
      "outputs": []
    },
    {
      "cell_type": "code",
      "source": [
        "grouped_df = dfWifi[dfWifi['building_desc'] == '209 BAY STATE ROAD']\n",
        "grouped_df = grouped_df.groupby(['building_desc', 'hour'])[['capacity']].mean().sum()\n",
        "print(f\"On an average day, {int(grouped_df)} people will benefit from a water bottle station at 209 BAY STATE ROAD\")\n",
        "WithoutWaterBottle['209 BAY STATE ROAD'] = int(grouped_df)"
      ],
      "metadata": {
        "colab": {
          "base_uri": "https://localhost:8080/"
        },
        "id": "J5jN1Uy3jzOn",
        "outputId": "dedca88a-6e75-4fc8-a292-77d210140966"
      },
      "execution_count": 37,
      "outputs": [
        {
          "output_type": "stream",
          "name": "stdout",
          "text": [
            "On an average day, 120 people will benefit from a water bottle station at 209 BAY STATE ROAD\n"
          ]
        },
        {
          "output_type": "stream",
          "name": "stderr",
          "text": [
            "<ipython-input-37-e6cbd21f6dfa>:3: FutureWarning: Calling int on a single element Series is deprecated and will raise a TypeError in the future. Use int(ser.iloc[0]) instead\n",
            "  print(f\"On an average day, {int(grouped_df)} people will benefit from a water bottle station at 209 BAY STATE ROAD\")\n",
            "<ipython-input-37-e6cbd21f6dfa>:4: FutureWarning: Calling int on a single element Series is deprecated and will raise a TypeError in the future. Use int(ser.iloc[0]) instead\n",
            "  WithoutWaterBottle['209 BAY STATE ROAD'] = int(grouped_df)\n"
          ]
        }
      ]
    },
    {
      "cell_type": "code",
      "source": [
        "grouped_df = dfWifi[dfWifi['building_desc'] == '200-202 BAY STATE ROAD']\n",
        "grouped_df = grouped_df.groupby(['building_desc', 'hour'])[['capacity']].mean().sum()\n",
        "print(f\"On an average day, {int(grouped_df)} people will benefit from a water bottle station at 200-202 BAY STATE ROAD\")\n",
        "WithoutWaterBottle['200-202 BAY STATE ROAD'] = int(grouped_df)"
      ],
      "metadata": {
        "colab": {
          "base_uri": "https://localhost:8080/"
        },
        "id": "hOHSjwuSjz9J",
        "outputId": "1c9b475c-c2fb-4792-cc1a-cae365001b33"
      },
      "execution_count": 38,
      "outputs": [
        {
          "output_type": "stream",
          "name": "stdout",
          "text": [
            "On an average day, 199 people will benefit from a water bottle station at 200-202 BAY STATE ROAD\n"
          ]
        },
        {
          "output_type": "stream",
          "name": "stderr",
          "text": [
            "<ipython-input-38-61650a0d2e21>:3: FutureWarning: Calling int on a single element Series is deprecated and will raise a TypeError in the future. Use int(ser.iloc[0]) instead\n",
            "  print(f\"On an average day, {int(grouped_df)} people will benefit from a water bottle station at 200-202 BAY STATE ROAD\")\n",
            "<ipython-input-38-61650a0d2e21>:4: FutureWarning: Calling int on a single element Series is deprecated and will raise a TypeError in the future. Use int(ser.iloc[0]) instead\n",
            "  WithoutWaterBottle['200-202 BAY STATE ROAD'] = int(grouped_df)\n"
          ]
        }
      ]
    },
    {
      "cell_type": "code",
      "source": [
        "grouped_df = dfWifi[dfWifi['building_desc'] == '184 BAY STATE ROAD']\n",
        "grouped_df = grouped_df.groupby(['building_desc', 'hour'])[['capacity']].mean().sum()\n",
        "print(f\"On an average day, {int(grouped_df)} people will benefit from a water bottle station at 184 BAY STATE ROAD\")\n",
        "WithoutWaterBottle['184 BAY STATE ROAD'] = int(grouped_df)"
      ],
      "metadata": {
        "colab": {
          "base_uri": "https://localhost:8080/"
        },
        "id": "pRH_J1D1jz_n",
        "outputId": "6dd3b495-7095-46ce-9175-433d7f27a650"
      },
      "execution_count": 39,
      "outputs": [
        {
          "output_type": "stream",
          "name": "stdout",
          "text": [
            "On an average day, 134 people will benefit from a water bottle station at 184 BAY STATE ROAD\n"
          ]
        },
        {
          "output_type": "stream",
          "name": "stderr",
          "text": [
            "<ipython-input-39-6f5277937727>:3: FutureWarning: Calling int on a single element Series is deprecated and will raise a TypeError in the future. Use int(ser.iloc[0]) instead\n",
            "  print(f\"On an average day, {int(grouped_df)} people will benefit from a water bottle station at 184 BAY STATE ROAD\")\n",
            "<ipython-input-39-6f5277937727>:4: FutureWarning: Calling int on a single element Series is deprecated and will raise a TypeError in the future. Use int(ser.iloc[0]) instead\n",
            "  WithoutWaterBottle['184 BAY STATE ROAD'] = int(grouped_df)\n"
          ]
        }
      ]
    },
    {
      "cell_type": "code",
      "source": [
        "grouped_df = dfWifi[dfWifi['building_desc'] == '190 BAY STATE ROAD']\n",
        "grouped_df = grouped_df.groupby(['building_desc', 'hour'])[['capacity']].mean().sum()\n",
        "print(f\"On an average day, {int(grouped_df)} people will benefit from a water bottle station at 190 BAY STATE ROAD\")\n",
        "WithoutWaterBottle['190 BAY STATE ROAD'] = int(grouped_df)"
      ],
      "metadata": {
        "colab": {
          "base_uri": "https://localhost:8080/"
        },
        "id": "k5RSb5Q1j0CH",
        "outputId": "a3a00f26-42f4-4f6a-e6bc-fdd538e0dce0"
      },
      "execution_count": 40,
      "outputs": [
        {
          "output_type": "stream",
          "name": "stdout",
          "text": [
            "On an average day, 146 people will benefit from a water bottle station at 190 BAY STATE ROAD\n"
          ]
        },
        {
          "output_type": "stream",
          "name": "stderr",
          "text": [
            "<ipython-input-40-d1758eec443e>:3: FutureWarning: Calling int on a single element Series is deprecated and will raise a TypeError in the future. Use int(ser.iloc[0]) instead\n",
            "  print(f\"On an average day, {int(grouped_df)} people will benefit from a water bottle station at 190 BAY STATE ROAD\")\n",
            "<ipython-input-40-d1758eec443e>:4: FutureWarning: Calling int on a single element Series is deprecated and will raise a TypeError in the future. Use int(ser.iloc[0]) instead\n",
            "  WithoutWaterBottle['190 BAY STATE ROAD'] = int(grouped_df)\n"
          ]
        }
      ]
    },
    {
      "cell_type": "code",
      "source": [
        "grouped_df = dfWifi[dfWifi['building_desc'] == '161 BAY STATE ROAD']\n",
        "grouped_df = grouped_df.groupby(['building_desc', 'hour'])[['capacity']].mean().sum()\n",
        "print(f\"On an average day, {int(grouped_df)} people will benefit from a water bottle station at 161 BAY STATE ROAD\")\n",
        "WithoutWaterBottle['161 BAY STATE ROAD'] = int(grouped_df)"
      ],
      "metadata": {
        "colab": {
          "base_uri": "https://localhost:8080/"
        },
        "id": "TjRYlHL4j0E3",
        "outputId": "7e0a084b-6236-43df-a232-ec1adf83138d"
      },
      "execution_count": 41,
      "outputs": [
        {
          "output_type": "stream",
          "name": "stdout",
          "text": [
            "On an average day, 86 people will benefit from a water bottle station at 161 BAY STATE ROAD\n"
          ]
        },
        {
          "output_type": "stream",
          "name": "stderr",
          "text": [
            "<ipython-input-41-bf1461d744a3>:3: FutureWarning: Calling int on a single element Series is deprecated and will raise a TypeError in the future. Use int(ser.iloc[0]) instead\n",
            "  print(f\"On an average day, {int(grouped_df)} people will benefit from a water bottle station at 161 BAY STATE ROAD\")\n",
            "<ipython-input-41-bf1461d744a3>:4: FutureWarning: Calling int on a single element Series is deprecated and will raise a TypeError in the future. Use int(ser.iloc[0]) instead\n",
            "  WithoutWaterBottle['161 BAY STATE ROAD'] = int(grouped_df)\n"
          ]
        }
      ]
    },
    {
      "cell_type": "code",
      "source": [
        "grouped_df = dfWifi[dfWifi['building_desc'] == '163 BAY STATE ROAD']\n",
        "grouped_df = grouped_df.groupby(['building_desc', 'hour'])[['capacity']].mean().sum()\n",
        "print(f\"On an average day, {int(grouped_df)} people will benefit from a water bottle station at 163 BAY STATE ROAD\")\n",
        "WithoutWaterBottle['163 BAY STATE ROAD'] = int(grouped_df)"
      ],
      "metadata": {
        "colab": {
          "base_uri": "https://localhost:8080/"
        },
        "id": "I4_8eEV7j0Ho",
        "outputId": "3c187166-d44f-412f-b9d7-27f050ed2ac7"
      },
      "execution_count": 42,
      "outputs": [
        {
          "output_type": "stream",
          "name": "stdout",
          "text": [
            "On an average day, 70 people will benefit from a water bottle station at 163 BAY STATE ROAD\n"
          ]
        },
        {
          "output_type": "stream",
          "name": "stderr",
          "text": [
            "<ipython-input-42-02b2c8ae4e02>:3: FutureWarning: Calling int on a single element Series is deprecated and will raise a TypeError in the future. Use int(ser.iloc[0]) instead\n",
            "  print(f\"On an average day, {int(grouped_df)} people will benefit from a water bottle station at 163 BAY STATE ROAD\")\n",
            "<ipython-input-42-02b2c8ae4e02>:4: FutureWarning: Calling int on a single element Series is deprecated and will raise a TypeError in the future. Use int(ser.iloc[0]) instead\n",
            "  WithoutWaterBottle['163 BAY STATE ROAD'] = int(grouped_df)\n"
          ]
        }
      ]
    },
    {
      "cell_type": "code",
      "source": [
        "grouped_df = dfWifi[dfWifi['building_desc'] == '159 BAY STATE ROAD']\n",
        "grouped_df = grouped_df.groupby(['building_desc', 'hour'])[['capacity']].mean().sum()\n",
        "print(f\"On an average day, {int(grouped_df)} people will benefit from a water bottle station at 159 BAY STATE ROAD\")\n",
        "WithoutWaterBottle['159 BAY STATE ROAD'] = int(grouped_df)"
      ],
      "metadata": {
        "colab": {
          "base_uri": "https://localhost:8080/"
        },
        "id": "6Za2xH1Ij0KR",
        "outputId": "450851e4-b5eb-48d6-d4b8-623925c40a8c"
      },
      "execution_count": 43,
      "outputs": [
        {
          "output_type": "stream",
          "name": "stdout",
          "text": [
            "On an average day, 106 people will benefit from a water bottle station at 159 BAY STATE ROAD\n"
          ]
        },
        {
          "output_type": "stream",
          "name": "stderr",
          "text": [
            "<ipython-input-43-d828bd22fdaa>:3: FutureWarning: Calling int on a single element Series is deprecated and will raise a TypeError in the future. Use int(ser.iloc[0]) instead\n",
            "  print(f\"On an average day, {int(grouped_df)} people will benefit from a water bottle station at 159 BAY STATE ROAD\")\n",
            "<ipython-input-43-d828bd22fdaa>:4: FutureWarning: Calling int on a single element Series is deprecated and will raise a TypeError in the future. Use int(ser.iloc[0]) instead\n",
            "  WithoutWaterBottle['159 BAY STATE ROAD'] = int(grouped_df)\n"
          ]
        }
      ]
    },
    {
      "cell_type": "code",
      "source": [
        "grouped_df = dfWifi[dfWifi['building_desc'] == '6 BUSWELL STREET']\n",
        "grouped_df = grouped_df.groupby(['building_desc', 'hour'])[['capacity']].mean().sum()\n",
        "print(f\"On an average day, {int(grouped_df)} people will benefit from a existing water bottle station at 6 BUSWELL STREET\")\n",
        "WithoutWaterBottle['6 BUSWELL STREET'] = int(grouped_df)"
      ],
      "metadata": {
        "colab": {
          "base_uri": "https://localhost:8080/"
        },
        "id": "VsAkz1lrj0Mn",
        "outputId": "4b88fee9-91a0-42d5-8566-32521f079737"
      },
      "execution_count": 44,
      "outputs": [
        {
          "output_type": "stream",
          "name": "stdout",
          "text": [
            "On an average day, 443 people will benefit from a existing water bottle station at 6 BUSWELL STREET\n"
          ]
        },
        {
          "output_type": "stream",
          "name": "stderr",
          "text": [
            "<ipython-input-44-8e5c1ecacb47>:3: FutureWarning: Calling int on a single element Series is deprecated and will raise a TypeError in the future. Use int(ser.iloc[0]) instead\n",
            "  print(f\"On an average day, {int(grouped_df)} people will benefit from a existing water bottle station at 6 BUSWELL STREET\")\n",
            "<ipython-input-44-8e5c1ecacb47>:4: FutureWarning: Calling int on a single element Series is deprecated and will raise a TypeError in the future. Use int(ser.iloc[0]) instead\n",
            "  WithoutWaterBottle['6 BUSWELL STREET'] = int(grouped_df)\n"
          ]
        }
      ]
    },
    {
      "cell_type": "code",
      "source": [
        "grouped_df = dfWifi[dfWifi['building_desc'] == '22 BUSWELL STREET']\n",
        "grouped_df = grouped_df.groupby(['building_desc', 'hour'])[['capacity']].mean().sum()\n",
        "print(f\"On an average day, {int(grouped_df)} people will benefit from a existing water bottle station at 22 BUSWELL STREET\")\n",
        "WithoutWaterBottle['22 BUSWELL STREET'] = int(grouped_df)"
      ],
      "metadata": {
        "colab": {
          "base_uri": "https://localhost:8080/"
        },
        "id": "8btogqt0j0PR",
        "outputId": "d32aafb5-4ba8-4a51-cfda-68e8b9195d72"
      },
      "execution_count": 45,
      "outputs": [
        {
          "output_type": "stream",
          "name": "stdout",
          "text": [
            "On an average day, 209 people will benefit from a existing water bottle station at 22 BUSWELL STREET\n"
          ]
        },
        {
          "output_type": "stream",
          "name": "stderr",
          "text": [
            "<ipython-input-45-e348787e3221>:3: FutureWarning: Calling int on a single element Series is deprecated and will raise a TypeError in the future. Use int(ser.iloc[0]) instead\n",
            "  print(f\"On an average day, {int(grouped_df)} people will benefit from a existing water bottle station at 22 BUSWELL STREET\")\n",
            "<ipython-input-45-e348787e3221>:4: FutureWarning: Calling int on a single element Series is deprecated and will raise a TypeError in the future. Use int(ser.iloc[0]) instead\n",
            "  WithoutWaterBottle['22 BUSWELL STREET'] = int(grouped_df)\n"
          ]
        }
      ]
    },
    {
      "cell_type": "code",
      "source": [
        "grouped_df = dfWifi[dfWifi['building_desc'] == '96 MOUNTFORT STREET']\n",
        "grouped_df = grouped_df.groupby(['building_desc', 'hour'])[['capacity']].mean().sum()\n",
        "print(f\"On an average day, {int(grouped_df)} people will benefit from a existing water bottle station at 96 MOUNTFORT STREET\")\n",
        "WithoutWaterBottle['96 MOUNTFORT STREET'] = int(grouped_df)"
      ],
      "metadata": {
        "colab": {
          "base_uri": "https://localhost:8080/"
        },
        "id": "22SfTwX8j0SF",
        "outputId": "4ebf1bd6-56f2-41f6-a81c-d9a8959b1844"
      },
      "execution_count": 46,
      "outputs": [
        {
          "output_type": "stream",
          "name": "stdout",
          "text": [
            "On an average day, 118 people will benefit from a existing water bottle station at 96 MOUNTFORT STREET\n"
          ]
        },
        {
          "output_type": "stream",
          "name": "stderr",
          "text": [
            "<ipython-input-46-a684940f8058>:3: FutureWarning: Calling int on a single element Series is deprecated and will raise a TypeError in the future. Use int(ser.iloc[0]) instead\n",
            "  print(f\"On an average day, {int(grouped_df)} people will benefit from a existing water bottle station at 96 MOUNTFORT STREET\")\n",
            "<ipython-input-46-a684940f8058>:4: FutureWarning: Calling int on a single element Series is deprecated and will raise a TypeError in the future. Use int(ser.iloc[0]) instead\n",
            "  WithoutWaterBottle['96 MOUNTFORT STREET'] = int(grouped_df)\n"
          ]
        }
      ]
    },
    {
      "cell_type": "code",
      "source": [
        "grouped_df = dfWifi[dfWifi['building_desc'] == '806-820 BEACON STREET']\n",
        "grouped_df = grouped_df.groupby(['building_desc', 'hour'])[['capacity']].mean().sum()\n",
        "print(f\"On an average day, {int(grouped_df)} people will benefit from a existing water bottle station at 806-820 BEACON STREET\")\n",
        "WithoutWaterBottle['806-820 BEACON STREET'] = int(grouped_df)"
      ],
      "metadata": {
        "id": "Kd37IjtjGVNR",
        "colab": {
          "base_uri": "https://localhost:8080/"
        },
        "outputId": "485ebbea-9de5-499e-b053-effd953f15eb"
      },
      "execution_count": 47,
      "outputs": [
        {
          "output_type": "stream",
          "name": "stdout",
          "text": [
            "On an average day, 197 people will benefit from a existing water bottle station at 806-820 BEACON STREET\n"
          ]
        },
        {
          "output_type": "stream",
          "name": "stderr",
          "text": [
            "<ipython-input-47-77884f2d8def>:3: FutureWarning: Calling int on a single element Series is deprecated and will raise a TypeError in the future. Use int(ser.iloc[0]) instead\n",
            "  print(f\"On an average day, {int(grouped_df)} people will benefit from a existing water bottle station at 806-820 BEACON STREET\")\n",
            "<ipython-input-47-77884f2d8def>:4: FutureWarning: Calling int on a single element Series is deprecated and will raise a TypeError in the future. Use int(ser.iloc[0]) instead\n",
            "  WithoutWaterBottle['806-820 BEACON STREET'] = int(grouped_df)\n"
          ]
        }
      ]
    },
    {
      "cell_type": "code",
      "source": [
        "grouped_df = dfWifi[dfWifi['building_desc'] == '844 BEACON STREET']\n",
        "grouped_df = grouped_df.groupby(['building_desc', 'hour'])[['capacity']].mean().sum()\n",
        "print(f\"On an average day, {int(grouped_df)} people will benefit from a existing water bottle station at 844 BEACON STREET\")\n",
        "WithoutWaterBottle['844 BEACON STREET'] = int(grouped_df)"
      ],
      "metadata": {
        "colab": {
          "base_uri": "https://localhost:8080/"
        },
        "id": "1jp-4Ogzk8xE",
        "outputId": "6bd3ad86-3102-4391-a170-45557379d9c8"
      },
      "execution_count": 48,
      "outputs": [
        {
          "output_type": "stream",
          "name": "stdout",
          "text": [
            "On an average day, 142 people will benefit from a existing water bottle station at 844 BEACON STREET\n"
          ]
        },
        {
          "output_type": "stream",
          "name": "stderr",
          "text": [
            "<ipython-input-48-664a85131713>:3: FutureWarning: Calling int on a single element Series is deprecated and will raise a TypeError in the future. Use int(ser.iloc[0]) instead\n",
            "  print(f\"On an average day, {int(grouped_df)} people will benefit from a existing water bottle station at 844 BEACON STREET\")\n",
            "<ipython-input-48-664a85131713>:4: FutureWarning: Calling int on a single element Series is deprecated and will raise a TypeError in the future. Use int(ser.iloc[0]) instead\n",
            "  WithoutWaterBottle['844 BEACON STREET'] = int(grouped_df)\n"
          ]
        }
      ]
    },
    {
      "cell_type": "code",
      "source": [
        "grouped_df = dfWifi[dfWifi['building_desc'] == '46 MOUNTFORT STREET']\n",
        "grouped_df = grouped_df.groupby(['building_desc', 'hour'])[['capacity']].mean().sum()\n",
        "print(f\"On an average day, {int(grouped_df)} people will benefit from a existing water bottle station at 46 MOUNTFORT STREET\")\n",
        "WithoutWaterBottle['46 MOUNTFORT STREET'] = int(grouped_df)"
      ],
      "metadata": {
        "colab": {
          "base_uri": "https://localhost:8080/"
        },
        "id": "GE2CU60Ak8yO",
        "outputId": "f544023f-7713-400c-bfb1-de83334e4645"
      },
      "execution_count": 49,
      "outputs": [
        {
          "output_type": "stream",
          "name": "stdout",
          "text": [
            "On an average day, 298 people will benefit from a existing water bottle station at 46 MOUNTFORT STREET\n"
          ]
        },
        {
          "output_type": "stream",
          "name": "stderr",
          "text": [
            "<ipython-input-49-09ddce86bdcd>:3: FutureWarning: Calling int on a single element Series is deprecated and will raise a TypeError in the future. Use int(ser.iloc[0]) instead\n",
            "  print(f\"On an average day, {int(grouped_df)} people will benefit from a existing water bottle station at 46 MOUNTFORT STREET\")\n",
            "<ipython-input-49-09ddce86bdcd>:4: FutureWarning: Calling int on a single element Series is deprecated and will raise a TypeError in the future. Use int(ser.iloc[0]) instead\n",
            "  WithoutWaterBottle['46 MOUNTFORT STREET'] = int(grouped_df)\n"
          ]
        }
      ]
    },
    {
      "cell_type": "code",
      "source": [
        "grouped_df = dfWifi[dfWifi['building_desc'] == '856-862 BEACON STREET']\n",
        "grouped_df = grouped_df.groupby(['building_desc', 'hour'])[['capacity']].mean().sum()\n",
        "print(f\"On an average day, {int(grouped_df)} people will benefit from a existing water bottle station at 856-862 BEACON STREET\")\n",
        "WithoutWaterBottle['856-862 BEACON STREET'] = int(grouped_df)"
      ],
      "metadata": {
        "colab": {
          "base_uri": "https://localhost:8080/"
        },
        "id": "M3dW_kYkk8y9",
        "outputId": "2487506b-b19a-4ed3-8d5b-4dc1e9212aeb"
      },
      "execution_count": 50,
      "outputs": [
        {
          "output_type": "stream",
          "name": "stdout",
          "text": [
            "On an average day, 90 people will benefit from a existing water bottle station at 856-862 BEACON STREET\n"
          ]
        },
        {
          "output_type": "stream",
          "name": "stderr",
          "text": [
            "<ipython-input-50-0d4126a7c60c>:3: FutureWarning: Calling int on a single element Series is deprecated and will raise a TypeError in the future. Use int(ser.iloc[0]) instead\n",
            "  print(f\"On an average day, {int(grouped_df)} people will benefit from a existing water bottle station at 856-862 BEACON STREET\")\n",
            "<ipython-input-50-0d4126a7c60c>:4: FutureWarning: Calling int on a single element Series is deprecated and will raise a TypeError in the future. Use int(ser.iloc[0]) instead\n",
            "  WithoutWaterBottle['856-862 BEACON STREET'] = int(grouped_df)\n"
          ]
        }
      ]
    },
    {
      "cell_type": "code",
      "source": [
        "grouped_df = dfWifi[dfWifi['building_desc'] == '870-872 BEACON STREET']\n",
        "grouped_df = grouped_df.groupby(['building_desc', 'hour'])[['capacity']].mean().sum()\n",
        "print(f\"On an average day, {int(grouped_df)} people will benefit from a existing water bottle station at 870-872 BEACON STREET\")\n",
        "WithoutWaterBottle['870-872 BEACON STREET'] = int(grouped_df)"
      ],
      "metadata": {
        "colab": {
          "base_uri": "https://localhost:8080/"
        },
        "id": "vbQ5fo85k8z_",
        "outputId": "9fe3cce2-f377-4310-cc06-1018160756a7"
      },
      "execution_count": 51,
      "outputs": [
        {
          "output_type": "stream",
          "name": "stdout",
          "text": [
            "On an average day, 34 people will benefit from a existing water bottle station at 870-872 BEACON STREET\n"
          ]
        },
        {
          "output_type": "stream",
          "name": "stderr",
          "text": [
            "<ipython-input-51-15fe71cb422b>:3: FutureWarning: Calling int on a single element Series is deprecated and will raise a TypeError in the future. Use int(ser.iloc[0]) instead\n",
            "  print(f\"On an average day, {int(grouped_df)} people will benefit from a existing water bottle station at 870-872 BEACON STREET\")\n",
            "<ipython-input-51-15fe71cb422b>:4: FutureWarning: Calling int on a single element Series is deprecated and will raise a TypeError in the future. Use int(ser.iloc[0]) instead\n",
            "  WithoutWaterBottle['870-872 BEACON STREET'] = int(grouped_df)\n"
          ]
        }
      ]
    },
    {
      "cell_type": "code",
      "source": [
        "grouped_df = dfWifi[dfWifi['building_desc'] == '824-826 BEACON STREET']\n",
        "grouped_df = grouped_df.groupby(['building_desc', 'hour'])[['capacity']].mean().sum()\n",
        "print(f\"On an average day, {int(grouped_df)} people will benefit from a existing water bottle station at 824-826 BEACON STREET\")\n",
        "WithoutWaterBottle['824-826 BEACON STREET'] = int(grouped_df)"
      ],
      "metadata": {
        "colab": {
          "base_uri": "https://localhost:8080/"
        },
        "id": "fkVL1MSKk81W",
        "outputId": "e2b4b62d-3d21-4feb-cd12-96de2952dedf"
      },
      "execution_count": 52,
      "outputs": [
        {
          "output_type": "stream",
          "name": "stdout",
          "text": [
            "On an average day, 157 people will benefit from a existing water bottle station at 824-826 BEACON STREET\n"
          ]
        },
        {
          "output_type": "stream",
          "name": "stderr",
          "text": [
            "<ipython-input-52-def99188e124>:3: FutureWarning: Calling int on a single element Series is deprecated and will raise a TypeError in the future. Use int(ser.iloc[0]) instead\n",
            "  print(f\"On an average day, {int(grouped_df)} people will benefit from a existing water bottle station at 824-826 BEACON STREET\")\n",
            "<ipython-input-52-def99188e124>:4: FutureWarning: Calling int on a single element Series is deprecated and will raise a TypeError in the future. Use int(ser.iloc[0]) instead\n",
            "  WithoutWaterBottle['824-826 BEACON STREET'] = int(grouped_df)\n"
          ]
        }
      ]
    },
    {
      "cell_type": "code",
      "source": [
        "grouped_df = dfWifi[dfWifi['building_desc'] == '24 BUSWELL STREET']\n",
        "grouped_df = grouped_df.groupby(['building_desc', 'hour'])[['capacity']].mean().sum()\n",
        "print(f\"On an average day, {int(grouped_df)} people will benefit from a existing water bottle station at 24 BUSWELL STREET\")\n",
        "WithoutWaterBottle['24 BUSWELL STREET'] = int(grouped_df)"
      ],
      "metadata": {
        "colab": {
          "base_uri": "https://localhost:8080/"
        },
        "id": "XiL18tvBk82A",
        "outputId": "fc95d512-c161-4b98-c893-23a86eb5d25e"
      },
      "execution_count": 53,
      "outputs": [
        {
          "output_type": "stream",
          "name": "stdout",
          "text": [
            "On an average day, 193 people will benefit from a existing water bottle station at 24 BUSWELL STREET\n"
          ]
        },
        {
          "output_type": "stream",
          "name": "stderr",
          "text": [
            "<ipython-input-53-ae9a9e166666>:3: FutureWarning: Calling int on a single element Series is deprecated and will raise a TypeError in the future. Use int(ser.iloc[0]) instead\n",
            "  print(f\"On an average day, {int(grouped_df)} people will benefit from a existing water bottle station at 24 BUSWELL STREET\")\n",
            "<ipython-input-53-ae9a9e166666>:4: FutureWarning: Calling int on a single element Series is deprecated and will raise a TypeError in the future. Use int(ser.iloc[0]) instead\n",
            "  WithoutWaterBottle['24 BUSWELL STREET'] = int(grouped_df)\n"
          ]
        }
      ]
    },
    {
      "cell_type": "code",
      "source": [
        "grouped_df = dfWifi[dfWifi['building_desc'] == '16 ARUNDEL STREET']\n",
        "grouped_df = grouped_df.groupby(['building_desc', 'hour'])[['capacity']].mean().sum()\n",
        "print(f\"On an average day, {int(grouped_df)} people will benefit from a existing water bottle station at 16 ARUNDEL STREET\")\n",
        "WithoutWaterBottle['16 ARUNDEL STREET'] = int(grouped_df)"
      ],
      "metadata": {
        "colab": {
          "base_uri": "https://localhost:8080/"
        },
        "id": "8Yuo7SwTk83T",
        "outputId": "7c59da10-ecb7-4cde-d501-35db76f69ba3"
      },
      "execution_count": 54,
      "outputs": [
        {
          "output_type": "stream",
          "name": "stdout",
          "text": [
            "On an average day, 71 people will benefit from a existing water bottle station at 16 ARUNDEL STREET\n"
          ]
        },
        {
          "output_type": "stream",
          "name": "stderr",
          "text": [
            "<ipython-input-54-7138e254e126>:3: FutureWarning: Calling int on a single element Series is deprecated and will raise a TypeError in the future. Use int(ser.iloc[0]) instead\n",
            "  print(f\"On an average day, {int(grouped_df)} people will benefit from a existing water bottle station at 16 ARUNDEL STREET\")\n",
            "<ipython-input-54-7138e254e126>:4: FutureWarning: Calling int on a single element Series is deprecated and will raise a TypeError in the future. Use int(ser.iloc[0]) instead\n",
            "  WithoutWaterBottle['16 ARUNDEL STREET'] = int(grouped_df)\n"
          ]
        }
      ]
    },
    {
      "cell_type": "code",
      "source": [
        "grouped_df = dfWifi[dfWifi['building_desc'] == '834-836 BEACON STREET']\n",
        "grouped_df = grouped_df.groupby(['building_desc', 'hour'])[['capacity']].mean().sum()\n",
        "print(f\"On an average day, {int(grouped_df)} people will benefit from a existing water bottle station at 834-836 BEACON STREET\")\n",
        "WithoutWaterBottle['834-836 BEACON STREET'] = int(grouped_df)"
      ],
      "metadata": {
        "colab": {
          "base_uri": "https://localhost:8080/"
        },
        "id": "viJ9vYCSm9us",
        "outputId": "b19bb06a-7cc4-4efa-ead0-344d0324e42e"
      },
      "execution_count": 55,
      "outputs": [
        {
          "output_type": "stream",
          "name": "stdout",
          "text": [
            "On an average day, 128 people will benefit from a existing water bottle station at 834-836 BEACON STREET\n"
          ]
        },
        {
          "output_type": "stream",
          "name": "stderr",
          "text": [
            "<ipython-input-55-0cc4a26d91ad>:3: FutureWarning: Calling int on a single element Series is deprecated and will raise a TypeError in the future. Use int(ser.iloc[0]) instead\n",
            "  print(f\"On an average day, {int(grouped_df)} people will benefit from a existing water bottle station at 834-836 BEACON STREET\")\n",
            "<ipython-input-55-0cc4a26d91ad>:4: FutureWarning: Calling int on a single element Series is deprecated and will raise a TypeError in the future. Use int(ser.iloc[0]) instead\n",
            "  WithoutWaterBottle['834-836 BEACON STREET'] = int(grouped_df)\n"
          ]
        }
      ]
    },
    {
      "cell_type": "code",
      "source": [
        "grouped_df = dfWifi[dfWifi['building_desc'] == '830 BEACON STREET']\n",
        "grouped_df = grouped_df.groupby(['building_desc', 'hour'])[['capacity']].mean().sum()\n",
        "print(f\"On an average day, {int(grouped_df)} people will benefit from a existing water bottle station at 830 BEACON STREET\")\n",
        "WithoutWaterBottle['830 BEACON STREET'] = int(grouped_df)"
      ],
      "metadata": {
        "colab": {
          "base_uri": "https://localhost:8080/"
        },
        "id": "ieXbycacm9xP",
        "outputId": "5effd7d6-1c33-490d-8d03-ed479287601c"
      },
      "execution_count": 56,
      "outputs": [
        {
          "output_type": "stream",
          "name": "stdout",
          "text": [
            "On an average day, 68 people will benefit from a existing water bottle station at 830 BEACON STREET\n"
          ]
        },
        {
          "output_type": "stream",
          "name": "stderr",
          "text": [
            "<ipython-input-56-6b29ae2e9131>:3: FutureWarning: Calling int on a single element Series is deprecated and will raise a TypeError in the future. Use int(ser.iloc[0]) instead\n",
            "  print(f\"On an average day, {int(grouped_df)} people will benefit from a existing water bottle station at 830 BEACON STREET\")\n",
            "<ipython-input-56-6b29ae2e9131>:4: FutureWarning: Calling int on a single element Series is deprecated and will raise a TypeError in the future. Use int(ser.iloc[0]) instead\n",
            "  WithoutWaterBottle['830 BEACON STREET'] = int(grouped_df)\n"
          ]
        }
      ]
    },
    {
      "cell_type": "code",
      "source": [
        "grouped_df = dfWifi[dfWifi['building_desc'] == '98 MOUNTFORT STREET']\n",
        "grouped_df = grouped_df.groupby(['building_desc', 'hour'])[['capacity']].mean().sum()\n",
        "print(f\"On an average day, {int(grouped_df)} people will benefit from a existing water bottle station at 98 MOUNTFORT STREET\")\n",
        "WithoutWaterBottle['98 MOUNTFORT STREET'] = int(grouped_df)"
      ],
      "metadata": {
        "colab": {
          "base_uri": "https://localhost:8080/"
        },
        "id": "LfJzN2CFm90H",
        "outputId": "357d7f65-babe-498d-fb7b-b78d5264f6a0"
      },
      "execution_count": 57,
      "outputs": [
        {
          "output_type": "stream",
          "name": "stdout",
          "text": [
            "On an average day, 148 people will benefit from a existing water bottle station at 98 MOUNTFORT STREET\n"
          ]
        },
        {
          "output_type": "stream",
          "name": "stderr",
          "text": [
            "<ipython-input-57-9406e9d0ce7d>:3: FutureWarning: Calling int on a single element Series is deprecated and will raise a TypeError in the future. Use int(ser.iloc[0]) instead\n",
            "  print(f\"On an average day, {int(grouped_df)} people will benefit from a existing water bottle station at 98 MOUNTFORT STREET\")\n",
            "<ipython-input-57-9406e9d0ce7d>:4: FutureWarning: Calling int on a single element Series is deprecated and will raise a TypeError in the future. Use int(ser.iloc[0]) instead\n",
            "  WithoutWaterBottle['98 MOUNTFORT STREET'] = int(grouped_df)\n"
          ]
        }
      ]
    },
    {
      "cell_type": "code",
      "source": [
        "grouped_df = dfWifi[dfWifi['building_desc'] == '1010 COMMONWEALTH AVENUE']\n",
        "grouped_df = grouped_df.groupby(['building_desc', 'hour'])[['capacity']].mean().sum()\n",
        "print(f\"On an average day, {int(grouped_df)} people will benefit from a existing water bottle station at 1010 COMMONWEALTH AVENUE\")\n",
        "WithoutWaterBottle['1010 COMMONWEALTH AVENUE'] = int(grouped_df)"
      ],
      "metadata": {
        "colab": {
          "base_uri": "https://localhost:8080/"
        },
        "id": "81AbiKXAm92V",
        "outputId": "e80870f2-eec4-43d9-b359-8fb50fd11d33"
      },
      "execution_count": 58,
      "outputs": [
        {
          "output_type": "stream",
          "name": "stdout",
          "text": [
            "On an average day, 1457 people will benefit from a existing water bottle station at 1010 COMMONWEALTH AVENUE\n"
          ]
        },
        {
          "output_type": "stream",
          "name": "stderr",
          "text": [
            "<ipython-input-58-191ef05b5a03>:3: FutureWarning: Calling int on a single element Series is deprecated and will raise a TypeError in the future. Use int(ser.iloc[0]) instead\n",
            "  print(f\"On an average day, {int(grouped_df)} people will benefit from a existing water bottle station at 1010 COMMONWEALTH AVENUE\")\n",
            "<ipython-input-58-191ef05b5a03>:4: FutureWarning: Calling int on a single element Series is deprecated and will raise a TypeError in the future. Use int(ser.iloc[0]) instead\n",
            "  WithoutWaterBottle['1010 COMMONWEALTH AVENUE'] = int(grouped_df)\n"
          ]
        }
      ]
    },
    {
      "cell_type": "code",
      "source": [
        "grouped_df = dfWifi[dfWifi['building_desc'] == '930-940 COMMONWEALTH AVENUE']\n",
        "grouped_df = grouped_df.groupby(['building_desc', 'hour'])[['capacity']].mean().sum()\n",
        "print(f\"On an average day, {int(grouped_df)} people will benefit from a existing water bottle station at 930-940 COMMONWEALTH AVENUE\")\n",
        "WithoutWaterBottle['930-940 COMMONWEALTH AVENUE'] = int(grouped_df)"
      ],
      "metadata": {
        "colab": {
          "base_uri": "https://localhost:8080/"
        },
        "id": "DhaCpYBCm94d",
        "outputId": "4240de54-7234-4cc4-ba8b-7d54058aed8f"
      },
      "execution_count": 59,
      "outputs": [
        {
          "output_type": "stream",
          "name": "stdout",
          "text": [
            "On an average day, 6202 people will benefit from a existing water bottle station at 930-940 COMMONWEALTH AVENUE\n"
          ]
        },
        {
          "output_type": "stream",
          "name": "stderr",
          "text": [
            "<ipython-input-59-2543e8adf475>:3: FutureWarning: Calling int on a single element Series is deprecated and will raise a TypeError in the future. Use int(ser.iloc[0]) instead\n",
            "  print(f\"On an average day, {int(grouped_df)} people will benefit from a existing water bottle station at 930-940 COMMONWEALTH AVENUE\")\n",
            "<ipython-input-59-2543e8adf475>:4: FutureWarning: Calling int on a single element Series is deprecated and will raise a TypeError in the future. Use int(ser.iloc[0]) instead\n",
            "  WithoutWaterBottle['930-940 COMMONWEALTH AVENUE'] = int(grouped_df)\n"
          ]
        }
      ]
    },
    {
      "cell_type": "code",
      "source": [
        "grouped_df = dfWifi[dfWifi['building_desc'] == '186 BAY STATE ROAD']\n",
        "grouped_df = grouped_df.groupby(['building_desc', 'hour'])[['capacity']].mean().sum()\n",
        "print(f\"On an average day, {int(grouped_df)} people will benefit from a existing water bottle station at 186 BAY STATE ROAD\")\n",
        "WithoutWaterBottle['186 BAY STATE ROAD'] = int(grouped_df)"
      ],
      "metadata": {
        "colab": {
          "base_uri": "https://localhost:8080/"
        },
        "id": "cEC3mF5Am96u",
        "outputId": "94da8945-9cb8-4f21-9bfa-2ec73cd0a037"
      },
      "execution_count": 60,
      "outputs": [
        {
          "output_type": "stream",
          "name": "stdout",
          "text": [
            "On an average day, 69 people will benefit from a existing water bottle station at 186 BAY STATE ROAD\n"
          ]
        },
        {
          "output_type": "stream",
          "name": "stderr",
          "text": [
            "<ipython-input-60-7e510c69e7d8>:3: FutureWarning: Calling int on a single element Series is deprecated and will raise a TypeError in the future. Use int(ser.iloc[0]) instead\n",
            "  print(f\"On an average day, {int(grouped_df)} people will benefit from a existing water bottle station at 186 BAY STATE ROAD\")\n",
            "<ipython-input-60-7e510c69e7d8>:4: FutureWarning: Calling int on a single element Series is deprecated and will raise a TypeError in the future. Use int(ser.iloc[0]) instead\n",
            "  WithoutWaterBottle['186 BAY STATE ROAD'] = int(grouped_df)\n"
          ]
        }
      ]
    },
    {
      "cell_type": "code",
      "source": [
        "grouped_df = dfWifi[dfWifi['building_desc'] == '10 BUICK STREET']\n",
        "grouped_df = grouped_df.groupby(['building_desc', 'hour'])[['capacity']].mean().sum()\n",
        "print(f\"On an average day, {int(grouped_df)} people will benefit from a existing water bottle station at 10 BUICK STREET\")\n",
        "WithoutWaterBottle['10 BUICK STREET'] = int(grouped_df)"
      ],
      "metadata": {
        "colab": {
          "base_uri": "https://localhost:8080/"
        },
        "id": "uB1DoUdNm98-",
        "outputId": "8a7bc066-5b05-46dc-fe8c-a7b4a6cf2b76"
      },
      "execution_count": 61,
      "outputs": [
        {
          "output_type": "stream",
          "name": "stdout",
          "text": [
            "On an average day, 1081 people will benefit from a existing water bottle station at 10 BUICK STREET\n"
          ]
        },
        {
          "output_type": "stream",
          "name": "stderr",
          "text": [
            "<ipython-input-61-b70b14c3a969>:3: FutureWarning: Calling int on a single element Series is deprecated and will raise a TypeError in the future. Use int(ser.iloc[0]) instead\n",
            "  print(f\"On an average day, {int(grouped_df)} people will benefit from a existing water bottle station at 10 BUICK STREET\")\n",
            "<ipython-input-61-b70b14c3a969>:4: FutureWarning: Calling int on a single element Series is deprecated and will raise a TypeError in the future. Use int(ser.iloc[0]) instead\n",
            "  WithoutWaterBottle['10 BUICK STREET'] = int(grouped_df)\n"
          ]
        }
      ]
    },
    {
      "cell_type": "code",
      "source": [
        "grouped_df = dfWifi[dfWifi['building_desc'] == '900 COMMONWEALTH AVENUE']\n",
        "grouped_df = grouped_df.groupby(['building_desc', 'hour'])[['capacity']].mean().sum()\n",
        "print(f\"On an average day, {int(grouped_df)} people will benefit from a existing water bottle station at 900 COMMONWEALTH AVENUE\")\n",
        "WithoutWaterBottle['900 COMMONWEALTH AVENUE'] = int(grouped_df)"
      ],
      "metadata": {
        "colab": {
          "base_uri": "https://localhost:8080/"
        },
        "id": "Av5D2E25m9_F",
        "outputId": "4270e22b-f290-4d7e-dd88-4fc6b610b15d"
      },
      "execution_count": 62,
      "outputs": [
        {
          "output_type": "stream",
          "name": "stdout",
          "text": [
            "On an average day, 4106 people will benefit from a existing water bottle station at 900 COMMONWEALTH AVENUE\n"
          ]
        },
        {
          "output_type": "stream",
          "name": "stderr",
          "text": [
            "<ipython-input-62-314c091892b0>:3: FutureWarning: Calling int on a single element Series is deprecated and will raise a TypeError in the future. Use int(ser.iloc[0]) instead\n",
            "  print(f\"On an average day, {int(grouped_df)} people will benefit from a existing water bottle station at 900 COMMONWEALTH AVENUE\")\n",
            "<ipython-input-62-314c091892b0>:4: FutureWarning: Calling int on a single element Series is deprecated and will raise a TypeError in the future. Use int(ser.iloc[0]) instead\n",
            "  WithoutWaterBottle['900 COMMONWEALTH AVENUE'] = int(grouped_df)\n"
          ]
        }
      ]
    },
    {
      "cell_type": "code",
      "source": [
        "grouped_df = dfWifi[dfWifi['building_desc'] == '16 ARUNDEL STREET']\n",
        "grouped_df = grouped_df.groupby(['building_desc', 'hour'])[['capacity']].mean().sum()\n",
        "print(f\"On an average day, {int(grouped_df)} people will benefit from a existing water bottle station at 16 ARUNDEL STREET\")\n",
        "WithoutWaterBottle['16 ARUNDEL STREET'] = int(grouped_df)"
      ],
      "metadata": {
        "colab": {
          "base_uri": "https://localhost:8080/"
        },
        "id": "hCivIpIam-BO",
        "outputId": "595cc1b6-8be5-4f21-bfb3-c949ed93714f"
      },
      "execution_count": 63,
      "outputs": [
        {
          "output_type": "stream",
          "name": "stdout",
          "text": [
            "On an average day, 71 people will benefit from a existing water bottle station at 16 ARUNDEL STREET\n"
          ]
        },
        {
          "output_type": "stream",
          "name": "stderr",
          "text": [
            "<ipython-input-63-7138e254e126>:3: FutureWarning: Calling int on a single element Series is deprecated and will raise a TypeError in the future. Use int(ser.iloc[0]) instead\n",
            "  print(f\"On an average day, {int(grouped_df)} people will benefit from a existing water bottle station at 16 ARUNDEL STREET\")\n",
            "<ipython-input-63-7138e254e126>:4: FutureWarning: Calling int on a single element Series is deprecated and will raise a TypeError in the future. Use int(ser.iloc[0]) instead\n",
            "  WithoutWaterBottle['16 ARUNDEL STREET'] = int(grouped_df)\n"
          ]
        }
      ]
    },
    {
      "cell_type": "code",
      "source": [
        "grouped_df = dfWifi[dfWifi['building_desc'] == '38 BUSWELL STREET']\n",
        "grouped_df = grouped_df.groupby(['building_desc', 'hour'])[['capacity']].mean().sum()\n",
        "print(f\"On an average day, {int(grouped_df)} people will benefit from a existing water bottle station at 38 BUSWELL STREET\")\n",
        "WithoutWaterBottle['38 BUSWELL STREET'] = int(grouped_df)"
      ],
      "metadata": {
        "colab": {
          "base_uri": "https://localhost:8080/"
        },
        "id": "5oWdAqvIm-Dg",
        "outputId": "5c4e9496-8d13-4d04-a75b-78c54fa4a215"
      },
      "execution_count": 64,
      "outputs": [
        {
          "output_type": "stream",
          "name": "stdout",
          "text": [
            "On an average day, 116 people will benefit from a existing water bottle station at 38 BUSWELL STREET\n"
          ]
        },
        {
          "output_type": "stream",
          "name": "stderr",
          "text": [
            "<ipython-input-64-2f0ecf178624>:3: FutureWarning: Calling int on a single element Series is deprecated and will raise a TypeError in the future. Use int(ser.iloc[0]) instead\n",
            "  print(f\"On an average day, {int(grouped_df)} people will benefit from a existing water bottle station at 38 BUSWELL STREET\")\n",
            "<ipython-input-64-2f0ecf178624>:4: FutureWarning: Calling int on a single element Series is deprecated and will raise a TypeError in the future. Use int(ser.iloc[0]) instead\n",
            "  WithoutWaterBottle['38 BUSWELL STREET'] = int(grouped_df)\n"
          ]
        }
      ]
    },
    {
      "cell_type": "code",
      "source": [
        "grouped_df = dfWifi[dfWifi['building_desc'] == '44 BUSWELL STREET']\n",
        "grouped_df = grouped_df.groupby(['building_desc', 'hour'])[['capacity']].mean().sum()\n",
        "print(f\"On an average day, {int(grouped_df)} people will benefit from a existing water bottle station at 44 BUSWELL STREET\")\n",
        "WithoutWaterBottle['44 BUSWELL STREET'] = int(grouped_df)"
      ],
      "metadata": {
        "colab": {
          "base_uri": "https://localhost:8080/"
        },
        "id": "17dITVKxm-Fm",
        "outputId": "e8b930a1-a392-4f1b-f2db-cca0fa0b8833"
      },
      "execution_count": 65,
      "outputs": [
        {
          "output_type": "stream",
          "name": "stdout",
          "text": [
            "On an average day, 3 people will benefit from a existing water bottle station at 44 BUSWELL STREET\n"
          ]
        },
        {
          "output_type": "stream",
          "name": "stderr",
          "text": [
            "<ipython-input-65-fdcfa2c25268>:3: FutureWarning: Calling int on a single element Series is deprecated and will raise a TypeError in the future. Use int(ser.iloc[0]) instead\n",
            "  print(f\"On an average day, {int(grouped_df)} people will benefit from a existing water bottle station at 44 BUSWELL STREET\")\n",
            "<ipython-input-65-fdcfa2c25268>:4: FutureWarning: Calling int on a single element Series is deprecated and will raise a TypeError in the future. Use int(ser.iloc[0]) instead\n",
            "  WithoutWaterBottle['44 BUSWELL STREET'] = int(grouped_df)\n"
          ]
        }
      ]
    },
    {
      "cell_type": "code",
      "source": [
        "grouped_df = dfWifi[dfWifi['building_desc'] == '48 BUSWELL STREET']\n",
        "grouped_df = grouped_df.groupby(['building_desc', 'hour'])[['capacity']].mean().sum()\n",
        "print(f\"On an average day, {int(grouped_df)} people will benefit from a existing water bottle station at 48 BUSWELL STREET\")\n",
        "WithoutWaterBottle['48 BUSWELL STREET'] = int(grouped_df)"
      ],
      "metadata": {
        "colab": {
          "base_uri": "https://localhost:8080/"
        },
        "id": "ljrYC3rGm-H-",
        "outputId": "f93a8d2e-b909-4cce-9fd1-fe3c90d59834"
      },
      "execution_count": 66,
      "outputs": [
        {
          "output_type": "stream",
          "name": "stdout",
          "text": [
            "On an average day, 5 people will benefit from a existing water bottle station at 48 BUSWELL STREET\n"
          ]
        },
        {
          "output_type": "stream",
          "name": "stderr",
          "text": [
            "<ipython-input-66-30e62bfb7e8b>:3: FutureWarning: Calling int on a single element Series is deprecated and will raise a TypeError in the future. Use int(ser.iloc[0]) instead\n",
            "  print(f\"On an average day, {int(grouped_df)} people will benefit from a existing water bottle station at 48 BUSWELL STREET\")\n",
            "<ipython-input-66-30e62bfb7e8b>:4: FutureWarning: Calling int on a single element Series is deprecated and will raise a TypeError in the future. Use int(ser.iloc[0]) instead\n",
            "  WithoutWaterBottle['48 BUSWELL STREET'] = int(grouped_df)\n"
          ]
        }
      ]
    },
    {
      "cell_type": "code",
      "source": [
        "grouped_df = dfWifi[dfWifi['building_desc'] == '1053 BEACON STREET']\n",
        "grouped_df = grouped_df.groupby(['building_desc', 'hour'])[['capacity']].mean().sum()\n",
        "print(f\"On an average day, {int(grouped_df)} people will benefit from a existing water bottle station at 1053 BEACON STREET\")\n",
        "WithoutWaterBottle['1053 BEACON STREET'] = int(grouped_df)"
      ],
      "metadata": {
        "colab": {
          "base_uri": "https://localhost:8080/"
        },
        "id": "yqW_ZVGkm-KI",
        "outputId": "d35567c9-ae5e-468c-8798-8df407630fbc"
      },
      "execution_count": 67,
      "outputs": [
        {
          "output_type": "stream",
          "name": "stdout",
          "text": [
            "On an average day, 28 people will benefit from a existing water bottle station at 1053 BEACON STREET\n"
          ]
        },
        {
          "output_type": "stream",
          "name": "stderr",
          "text": [
            "<ipython-input-67-f609d5747606>:3: FutureWarning: Calling int on a single element Series is deprecated and will raise a TypeError in the future. Use int(ser.iloc[0]) instead\n",
            "  print(f\"On an average day, {int(grouped_df)} people will benefit from a existing water bottle station at 1053 BEACON STREET\")\n",
            "<ipython-input-67-f609d5747606>:4: FutureWarning: Calling int on a single element Series is deprecated and will raise a TypeError in the future. Use int(ser.iloc[0]) instead\n",
            "  WithoutWaterBottle['1053 BEACON STREET'] = int(grouped_df)\n"
          ]
        }
      ]
    },
    {
      "cell_type": "code",
      "source": [
        "grouped_df = dfWifi[dfWifi['building_desc'] == '483 COMMONWEALTH AVENUE']\n",
        "grouped_df = grouped_df.groupby(['building_desc', 'hour'])[['capacity']].mean().sum()\n",
        "print(f\"On an average day, {int(grouped_df)} people will benefit from a existing water bottle station at 483 COMMONWEALTH AVENUE\")\n",
        "WithoutWaterBottle['483 COMMONWEALTH AVENUE'] = int(grouped_df)"
      ],
      "metadata": {
        "colab": {
          "base_uri": "https://localhost:8080/"
        },
        "id": "YQaJC06Pm-MY",
        "outputId": "b7fb922d-7529-437d-d88d-2e854f4f7395"
      },
      "execution_count": 68,
      "outputs": [
        {
          "output_type": "stream",
          "name": "stdout",
          "text": [
            "On an average day, 1 people will benefit from a existing water bottle station at 483 COMMONWEALTH AVENUE\n"
          ]
        },
        {
          "output_type": "stream",
          "name": "stderr",
          "text": [
            "<ipython-input-68-33a3433e751b>:3: FutureWarning: Calling int on a single element Series is deprecated and will raise a TypeError in the future. Use int(ser.iloc[0]) instead\n",
            "  print(f\"On an average day, {int(grouped_df)} people will benefit from a existing water bottle station at 483 COMMONWEALTH AVENUE\")\n",
            "<ipython-input-68-33a3433e751b>:4: FutureWarning: Calling int on a single element Series is deprecated and will raise a TypeError in the future. Use int(ser.iloc[0]) instead\n",
            "  WithoutWaterBottle['483 COMMONWEALTH AVENUE'] = int(grouped_df)\n"
          ]
        }
      ]
    },
    {
      "cell_type": "code",
      "source": [
        "grouped_df = dfWifi[dfWifi['building_desc'] == '2 BUSWELL STREET']\n",
        "grouped_df = grouped_df.groupby(['building_desc', 'hour'])[['capacity']].mean().sum()\n",
        "print(f\"On an average day, {int(grouped_df)} people will benefit from a existing water bottle station at 2 BUSWELL STREET\")\n",
        "WithoutWaterBottle['2 BUSWELL STREET'] = int(grouped_df)"
      ],
      "metadata": {
        "colab": {
          "base_uri": "https://localhost:8080/"
        },
        "id": "itBVcelYm-m1",
        "outputId": "2b4e1dfd-70d8-4cf2-a031-6961e1244478"
      },
      "execution_count": 69,
      "outputs": [
        {
          "output_type": "stream",
          "name": "stdout",
          "text": [
            "On an average day, 20 people will benefit from a existing water bottle station at 2 BUSWELL STREET\n"
          ]
        },
        {
          "output_type": "stream",
          "name": "stderr",
          "text": [
            "<ipython-input-69-25e79de5b727>:3: FutureWarning: Calling int on a single element Series is deprecated and will raise a TypeError in the future. Use int(ser.iloc[0]) instead\n",
            "  print(f\"On an average day, {int(grouped_df)} people will benefit from a existing water bottle station at 2 BUSWELL STREET\")\n",
            "<ipython-input-69-25e79de5b727>:4: FutureWarning: Calling int on a single element Series is deprecated and will raise a TypeError in the future. Use int(ser.iloc[0]) instead\n",
            "  WithoutWaterBottle['2 BUSWELL STREET'] = int(grouped_df)\n"
          ]
        }
      ]
    },
    {
      "cell_type": "code",
      "source": [
        "grouped_df = dfWifi[dfWifi['building_desc'] == '210-212 BAY STATE ROAD']\n",
        "grouped_df = grouped_df.groupby(['building_desc', 'hour'])[['capacity']].mean().sum()\n",
        "print(f\"On an average day, {int(grouped_df)} people will benefit from a existing water bottle station at 210-212 BAY STATE ROAD\")\n",
        "WithoutWaterBottle['210-212 BAY STATE ROAD'] = int(grouped_df)"
      ],
      "metadata": {
        "colab": {
          "base_uri": "https://localhost:8080/"
        },
        "id": "Y0Sd2iP8pdXJ",
        "outputId": "777e766e-118e-4fa6-ef3a-1f80641fea26"
      },
      "execution_count": 70,
      "outputs": [
        {
          "output_type": "stream",
          "name": "stdout",
          "text": [
            "On an average day, 197 people will benefit from a existing water bottle station at 210-212 BAY STATE ROAD\n"
          ]
        },
        {
          "output_type": "stream",
          "name": "stderr",
          "text": [
            "<ipython-input-70-88759cade3b8>:3: FutureWarning: Calling int on a single element Series is deprecated and will raise a TypeError in the future. Use int(ser.iloc[0]) instead\n",
            "  print(f\"On an average day, {int(grouped_df)} people will benefit from a existing water bottle station at 210-212 BAY STATE ROAD\")\n",
            "<ipython-input-70-88759cade3b8>:4: FutureWarning: Calling int on a single element Series is deprecated and will raise a TypeError in the future. Use int(ser.iloc[0]) instead\n",
            "  WithoutWaterBottle['210-212 BAY STATE ROAD'] = int(grouped_df)\n"
          ]
        }
      ]
    },
    {
      "cell_type": "code",
      "source": [
        "grouped_df = dfWifi[dfWifi['building_desc'] == '10 LENOX STREET']\n",
        "grouped_df = grouped_df.groupby(['building_desc', 'hour'])[['capacity']].mean().sum()\n",
        "print(f\"On an average day, {int(grouped_df)} people will benefit from a existing water bottle station at 10 LENOX STREET\")\n",
        "WithoutWaterBottle['10 LENOX STREET'] = int(grouped_df)"
      ],
      "metadata": {
        "colab": {
          "base_uri": "https://localhost:8080/"
        },
        "id": "ZILBIFmdpdaB",
        "outputId": "5e290004-0e31-4f71-cd81-79e029633950"
      },
      "execution_count": 71,
      "outputs": [
        {
          "output_type": "stream",
          "name": "stdout",
          "text": [
            "On an average day, 659 people will benefit from a existing water bottle station at 10 LENOX STREET\n"
          ]
        },
        {
          "output_type": "stream",
          "name": "stderr",
          "text": [
            "<ipython-input-71-267b4dbc251d>:3: FutureWarning: Calling int on a single element Series is deprecated and will raise a TypeError in the future. Use int(ser.iloc[0]) instead\n",
            "  print(f\"On an average day, {int(grouped_df)} people will benefit from a existing water bottle station at 10 LENOX STREET\")\n",
            "<ipython-input-71-267b4dbc251d>:4: FutureWarning: Calling int on a single element Series is deprecated and will raise a TypeError in the future. Use int(ser.iloc[0]) instead\n",
            "  WithoutWaterBottle['10 LENOX STREET'] = int(grouped_df)\n"
          ]
        }
      ]
    },
    {
      "cell_type": "code",
      "source": [
        "grouped_df = dfWifi[dfWifi['building_desc'] == '540 COMMONWEALTH AVENUE']\n",
        "grouped_df = grouped_df.groupby(['building_desc', 'hour'])[['capacity']].mean().sum()\n",
        "print(f\"On an average day, {int(grouped_df)} people will benefit from a existing water bottle station at 540 COMMONWEALTH AVENUE\")\n",
        "WithoutWaterBottle['540 COMMONWEALTH AVENUE'] = int(grouped_df)"
      ],
      "metadata": {
        "colab": {
          "base_uri": "https://localhost:8080/"
        },
        "id": "2e9ONM5Hpdcf",
        "outputId": "6e4932a7-4a94-4edb-efb3-56464e6e327d"
      },
      "execution_count": 72,
      "outputs": [
        {
          "output_type": "stream",
          "name": "stdout",
          "text": [
            "On an average day, 563 people will benefit from a existing water bottle station at 540 COMMONWEALTH AVENUE\n"
          ]
        },
        {
          "output_type": "stream",
          "name": "stderr",
          "text": [
            "<ipython-input-72-09a90315b741>:3: FutureWarning: Calling int on a single element Series is deprecated and will raise a TypeError in the future. Use int(ser.iloc[0]) instead\n",
            "  print(f\"On an average day, {int(grouped_df)} people will benefit from a existing water bottle station at 540 COMMONWEALTH AVENUE\")\n",
            "<ipython-input-72-09a90315b741>:4: FutureWarning: Calling int on a single element Series is deprecated and will raise a TypeError in the future. Use int(ser.iloc[0]) instead\n",
            "  WithoutWaterBottle['540 COMMONWEALTH AVENUE'] = int(grouped_df)\n"
          ]
        }
      ]
    },
    {
      "cell_type": "code",
      "source": [
        "grouped_df = dfWifi[dfWifi['building_desc'] == '90-92 BAY STATE ROAD']\n",
        "grouped_df = grouped_df.groupby(['building_desc', 'hour'])[['capacity']].mean().sum()\n",
        "print(f\"On an average day, {int(grouped_df)} people will benefit from a existing water bottle station at 90-92 BAY STATE ROAD\")\n",
        "WithoutWaterBottle['90-92 BAY STATE ROAD'] = int(grouped_df)"
      ],
      "metadata": {
        "colab": {
          "base_uri": "https://localhost:8080/"
        },
        "id": "Wprq5KGnpde2",
        "outputId": "f45a66e8-49ae-45c5-f2a2-0caf26817454"
      },
      "execution_count": 73,
      "outputs": [
        {
          "output_type": "stream",
          "name": "stdout",
          "text": [
            "On an average day, 184 people will benefit from a existing water bottle station at 90-92 BAY STATE ROAD\n"
          ]
        },
        {
          "output_type": "stream",
          "name": "stderr",
          "text": [
            "<ipython-input-73-494f32468997>:3: FutureWarning: Calling int on a single element Series is deprecated and will raise a TypeError in the future. Use int(ser.iloc[0]) instead\n",
            "  print(f\"On an average day, {int(grouped_df)} people will benefit from a existing water bottle station at 90-92 BAY STATE ROAD\")\n",
            "<ipython-input-73-494f32468997>:4: FutureWarning: Calling int on a single element Series is deprecated and will raise a TypeError in the future. Use int(ser.iloc[0]) instead\n",
            "  WithoutWaterBottle['90-92 BAY STATE ROAD'] = int(grouped_df)\n"
          ]
        }
      ]
    },
    {
      "cell_type": "code",
      "source": [
        "grouped_df = dfWifi[dfWifi['building_desc'] == '30 HARRY AGGANIS WAY']\n",
        "grouped_df = grouped_df.groupby(['building_desc', 'hour'])[['capacity']].mean().sum()\n",
        "print(f\"On an average day, {int(grouped_df)} people will benefit from a existing water bottle station at 30 HARRY AGGANIS WAY\")\n",
        "WithoutWaterBottle['30 HARRY AGGANIS WAY'] = int(grouped_df)"
      ],
      "metadata": {
        "colab": {
          "base_uri": "https://localhost:8080/"
        },
        "id": "FRalUw_wpdg_",
        "outputId": "85aa0825-c76e-485a-ff99-56dd6f6c7dfb"
      },
      "execution_count": 74,
      "outputs": [
        {
          "output_type": "stream",
          "name": "stdout",
          "text": [
            "On an average day, 0 people will benefit from a existing water bottle station at 30 HARRY AGGANIS WAY\n"
          ]
        },
        {
          "output_type": "stream",
          "name": "stderr",
          "text": [
            "<ipython-input-74-c63ac13b61a5>:3: FutureWarning: Calling int on a single element Series is deprecated and will raise a TypeError in the future. Use int(ser.iloc[0]) instead\n",
            "  print(f\"On an average day, {int(grouped_df)} people will benefit from a existing water bottle station at 30 HARRY AGGANIS WAY\")\n",
            "<ipython-input-74-c63ac13b61a5>:4: FutureWarning: Calling int on a single element Series is deprecated and will raise a TypeError in the future. Use int(ser.iloc[0]) instead\n",
            "  WithoutWaterBottle['30 HARRY AGGANIS WAY'] = int(grouped_df)\n"
          ]
        }
      ]
    },
    {
      "cell_type": "markdown",
      "source": [
        "## Wifi Stations With Water Bottle Filling Stations"
      ],
      "metadata": {
        "id": "QQfVNYUMkMVc"
      }
    },
    {
      "cell_type": "code",
      "source": [
        "grouped_df = dfWifi[dfWifi['building_desc'] == '771 COMMONWEALTH AVENUE']\n",
        "grouped_df = grouped_df.groupby(['building_desc', 'hour'])[['capacity']].mean().sum()\n",
        "print(f\"On an average day, {int(grouped_df)} people benefitted from the existing water bottle station at 771 COMMONWEALTH AVENUE\")"
      ],
      "metadata": {
        "colab": {
          "base_uri": "https://localhost:8080/"
        },
        "id": "E_aeeN0IlMHO",
        "outputId": "6a328fa5-0975-4a18-ee1b-b1b57b8896b5"
      },
      "execution_count": 75,
      "outputs": [
        {
          "output_type": "stream",
          "name": "stdout",
          "text": [
            "On an average day, 1065 people benefitted from the existing water bottle station at 771 COMMONWEALTH AVENUE\n"
          ]
        },
        {
          "output_type": "stream",
          "name": "stderr",
          "text": [
            "<ipython-input-75-a68256259827>:3: FutureWarning: Calling int on a single element Series is deprecated and will raise a TypeError in the future. Use int(ser.iloc[0]) instead\n",
            "  print(f\"On an average day, {int(grouped_df)} people benefitted from the existing water bottle station at 771 COMMONWEALTH AVENUE\")\n"
          ]
        }
      ]
    },
    {
      "cell_type": "code",
      "source": [
        "grouped_df = dfWifi[dfWifi['building_desc'] == '775 COMMONWEALTH AVENUE']\n",
        "grouped_df = grouped_df.groupby(['building_desc', 'hour'])[['capacity']].mean().sum()\n",
        "print(f\"On an average day, {int(grouped_df)} people benefitted from the existing water bottle station at 775 COMMONWEALTH AVENUE\")"
      ],
      "metadata": {
        "colab": {
          "base_uri": "https://localhost:8080/"
        },
        "id": "5GnGnjWWlMQF",
        "outputId": "2704ddf4-c05b-4942-edbe-bc182f59f151"
      },
      "execution_count": 76,
      "outputs": [
        {
          "output_type": "stream",
          "name": "stdout",
          "text": [
            "On an average day, 4647 people benefitted from the existing water bottle station at 775 COMMONWEALTH AVENUE\n"
          ]
        },
        {
          "output_type": "stream",
          "name": "stderr",
          "text": [
            "<ipython-input-76-21f1597f2da3>:3: FutureWarning: Calling int on a single element Series is deprecated and will raise a TypeError in the future. Use int(ser.iloc[0]) instead\n",
            "  print(f\"On an average day, {int(grouped_df)} people benefitted from the existing water bottle station at 775 COMMONWEALTH AVENUE\")\n"
          ]
        }
      ]
    },
    {
      "cell_type": "code",
      "source": [
        "grouped_df = dfWifi[dfWifi['building_desc'] == '1 UNIVERSITY ROAD']\n",
        "grouped_df = grouped_df.groupby(['building_desc', 'hour'])[['capacity']].mean().sum()\n",
        "print(f\"On an average day, {int(grouped_df)} people benefitted from the existing water bottle station at 1 UNIVERSITY ROAD\")"
      ],
      "metadata": {
        "colab": {
          "base_uri": "https://localhost:8080/"
        },
        "id": "bIYdjYurlMSk",
        "outputId": "3df2f9ec-ee70-4faf-bf21-10b2c3bd6517"
      },
      "execution_count": 77,
      "outputs": [
        {
          "output_type": "stream",
          "name": "stdout",
          "text": [
            "On an average day, 3219 people benefitted from the existing water bottle station at 1 UNIVERSITY ROAD\n"
          ]
        },
        {
          "output_type": "stream",
          "name": "stderr",
          "text": [
            "<ipython-input-77-40442fb7d789>:3: FutureWarning: Calling int on a single element Series is deprecated and will raise a TypeError in the future. Use int(ser.iloc[0]) instead\n",
            "  print(f\"On an average day, {int(grouped_df)} people benefitted from the existing water bottle station at 1 UNIVERSITY ROAD\")\n"
          ]
        }
      ]
    },
    {
      "cell_type": "code",
      "source": [
        "grouped_df = dfWifi[dfWifi['building_desc'] == '745 - 755 COMMONWEALTH AVENUE']\n",
        "grouped_df = grouped_df.groupby(['building_desc', 'hour'])[['capacity']].mean().sum()\n",
        "print(f\"On an average day, {int(grouped_df)} people benefitted from the existing water bottle station at 745 - 755 COMMONWEALTH AVENUE\")"
      ],
      "metadata": {
        "colab": {
          "base_uri": "https://localhost:8080/"
        },
        "id": "QAMNcyyzlMU8",
        "outputId": "40742eab-724e-44e8-b62b-637144574973"
      },
      "execution_count": 78,
      "outputs": [
        {
          "output_type": "stream",
          "name": "stdout",
          "text": [
            "On an average day, 1586 people benefitted from the existing water bottle station at 745 - 755 COMMONWEALTH AVENUE\n"
          ]
        },
        {
          "output_type": "stream",
          "name": "stderr",
          "text": [
            "<ipython-input-78-e8f96856b1d3>:3: FutureWarning: Calling int on a single element Series is deprecated and will raise a TypeError in the future. Use int(ser.iloc[0]) instead\n",
            "  print(f\"On an average day, {int(grouped_df)} people benefitted from the existing water bottle station at 745 - 755 COMMONWEALTH AVENUE\")\n"
          ]
        }
      ]
    },
    {
      "cell_type": "code",
      "source": [
        "grouped_df = dfWifi[dfWifi['building_desc'] == '264-270 BAY STATE ROAD']\n",
        "grouped_df = grouped_df.groupby(['building_desc', 'hour'])[['capacity']].mean().sum()\n",
        "print(f\"On an average day, {int(grouped_df)} people benefitted from the existing water bottle station at 264-270 BAY STATE ROAD\")"
      ],
      "metadata": {
        "colab": {
          "base_uri": "https://localhost:8080/"
        },
        "id": "nUVxFV6elMXJ",
        "outputId": "1a14db15-5ac6-49d5-dd27-f5aebf105371"
      },
      "execution_count": 79,
      "outputs": [
        {
          "output_type": "stream",
          "name": "stdout",
          "text": [
            "On an average day, 1104 people benefitted from the existing water bottle station at 264-270 BAY STATE ROAD\n"
          ]
        },
        {
          "output_type": "stream",
          "name": "stderr",
          "text": [
            "<ipython-input-79-a7c857a6e61e>:3: FutureWarning: Calling int on a single element Series is deprecated and will raise a TypeError in the future. Use int(ser.iloc[0]) instead\n",
            "  print(f\"On an average day, {int(grouped_df)} people benefitted from the existing water bottle station at 264-270 BAY STATE ROAD\")\n"
          ]
        }
      ]
    },
    {
      "cell_type": "code",
      "source": [
        "grouped_df = dfWifi[dfWifi['building_desc'] == '635 COMMONWEALTH AVENUE']\n",
        "grouped_df = grouped_df.groupby(['building_desc', 'hour'])[['capacity']].mean().sum()\n",
        "print(f\"On an average day, {int(grouped_df)} people benefitted from the existing water bottle station at 635 COMMONWEALTH AVENUE\")"
      ],
      "metadata": {
        "colab": {
          "base_uri": "https://localhost:8080/"
        },
        "id": "Gt5CGESUlMZO",
        "outputId": "aa41553c-be8d-40a8-a203-75679ef657f0"
      },
      "execution_count": 80,
      "outputs": [
        {
          "output_type": "stream",
          "name": "stdout",
          "text": [
            "On an average day, 1527 people benefitted from the existing water bottle station at 635 COMMONWEALTH AVENUE\n"
          ]
        },
        {
          "output_type": "stream",
          "name": "stderr",
          "text": [
            "<ipython-input-80-809ee4955409>:3: FutureWarning: Calling int on a single element Series is deprecated and will raise a TypeError in the future. Use int(ser.iloc[0]) instead\n",
            "  print(f\"On an average day, {int(grouped_df)} people benefitted from the existing water bottle station at 635 COMMONWEALTH AVENUE\")\n"
          ]
        }
      ]
    },
    {
      "cell_type": "code",
      "source": [
        "grouped_df = dfWifi[dfWifi['building_desc'] == '2 SILBER WAY']\n",
        "grouped_df = grouped_df.groupby(['building_desc', 'hour'])[['capacity']].mean().sum()\n",
        "print(f\"On an average day, {int(grouped_df)} people benefitted from the existing water bottle station at 2 SILBER WAY\")"
      ],
      "metadata": {
        "colab": {
          "base_uri": "https://localhost:8080/"
        },
        "id": "buq5X_z8lWgz",
        "outputId": "1476cf01-9104-4af5-a6b9-c84947847396"
      },
      "execution_count": 81,
      "outputs": [
        {
          "output_type": "stream",
          "name": "stdout",
          "text": [
            "On an average day, 1472 people benefitted from the existing water bottle station at 2 SILBER WAY\n"
          ]
        },
        {
          "output_type": "stream",
          "name": "stderr",
          "text": [
            "<ipython-input-81-8b82de2791be>:3: FutureWarning: Calling int on a single element Series is deprecated and will raise a TypeError in the future. Use int(ser.iloc[0]) instead\n",
            "  print(f\"On an average day, {int(grouped_df)} people benefitted from the existing water bottle station at 2 SILBER WAY\")\n"
          ]
        }
      ]
    },
    {
      "cell_type": "code",
      "source": [
        "grouped_df = dfWifi[dfWifi['building_desc'] == '595 COMMONWEALTH AVENUE']\n",
        "grouped_df = grouped_df.groupby(['building_desc', 'hour'])[['capacity']].mean().sum()\n",
        "print(f\"On an average day, {int(grouped_df)} people benefitted from the existing water bottle station at 595 COMMONWEALTH AVENUE\")"
      ],
      "metadata": {
        "colab": {
          "base_uri": "https://localhost:8080/"
        },
        "id": "7Me9Mv7Vqjwh",
        "outputId": "4f259861-bdce-4873-a2d2-1011f45c3a7b"
      },
      "execution_count": 82,
      "outputs": [
        {
          "output_type": "stream",
          "name": "stdout",
          "text": [
            "On an average day, 4523 people benefitted from the existing water bottle station at 595 COMMONWEALTH AVENUE\n"
          ]
        },
        {
          "output_type": "stream",
          "name": "stderr",
          "text": [
            "<ipython-input-82-92ce90f965e6>:3: FutureWarning: Calling int on a single element Series is deprecated and will raise a TypeError in the future. Use int(ser.iloc[0]) instead\n",
            "  print(f\"On an average day, {int(grouped_df)} people benefitted from the existing water bottle station at 595 COMMONWEALTH AVENUE\")\n"
          ]
        }
      ]
    },
    {
      "cell_type": "code",
      "source": [
        "grouped_df = dfWifi[dfWifi['building_desc'] == '285 BABCOCK STREET']\n",
        "grouped_df = grouped_df.groupby(['building_desc', 'hour'])[['capacity']].mean().sum()\n",
        "print(f\"On an average day, {int(grouped_df)} people benefitted from the existing water bottle station at 285 BABCOCK STREET\")"
      ],
      "metadata": {
        "colab": {
          "base_uri": "https://localhost:8080/"
        },
        "id": "HT3B2jENqjyv",
        "outputId": "78f15eea-fcf6-428a-9f65-e0339066777a"
      },
      "execution_count": 83,
      "outputs": [
        {
          "output_type": "stream",
          "name": "stdout",
          "text": [
            "On an average day, 8131 people benefitted from the existing water bottle station at 285 BABCOCK STREET\n"
          ]
        },
        {
          "output_type": "stream",
          "name": "stderr",
          "text": [
            "<ipython-input-83-037354930e02>:3: FutureWarning: Calling int on a single element Series is deprecated and will raise a TypeError in the future. Use int(ser.iloc[0]) instead\n",
            "  print(f\"On an average day, {int(grouped_df)} people benefitted from the existing water bottle station at 285 BABCOCK STREET\")\n"
          ]
        }
      ]
    },
    {
      "cell_type": "code",
      "source": [
        "grouped_df = dfWifi[dfWifi['building_desc'] == '120 ASHFORD STREET']\n",
        "grouped_df = grouped_df.groupby(['building_desc', 'hour'])[['capacity']].mean().sum()\n",
        "print(f\"On an average day, {int(grouped_df)} people benefitted from the existing water bottle station at 120 ASHFORD STREET\")"
      ],
      "metadata": {
        "colab": {
          "base_uri": "https://localhost:8080/"
        },
        "id": "ldMmEI85qj1B",
        "outputId": "1448c15e-0913-4b1f-8f40-8afc6a916b40"
      },
      "execution_count": 84,
      "outputs": [
        {
          "output_type": "stream",
          "name": "stdout",
          "text": [
            "On an average day, 4037 people benefitted from the existing water bottle station at 120 ASHFORD STREET\n"
          ]
        },
        {
          "output_type": "stream",
          "name": "stderr",
          "text": [
            "<ipython-input-84-8f4b9a5a1452>:3: FutureWarning: Calling int on a single element Series is deprecated and will raise a TypeError in the future. Use int(ser.iloc[0]) instead\n",
            "  print(f\"On an average day, {int(grouped_df)} people benefitted from the existing water bottle station at 120 ASHFORD STREET\")\n"
          ]
        }
      ]
    },
    {
      "cell_type": "code",
      "source": [
        "grouped_df = dfWifi[dfWifi['building_desc'] == '100 ASHFORD STREET']\n",
        "grouped_df = grouped_df.groupby(['building_desc', 'hour'])[['capacity']].mean().sum()\n",
        "print(f\"On an average day, {int(grouped_df)} people benefitted from the existing water bottle station at 100 ASHFORD STREET\")"
      ],
      "metadata": {
        "colab": {
          "base_uri": "https://localhost:8080/"
        },
        "id": "lyqsjvSxqj3Z",
        "outputId": "9cb35dc0-2c50-4a65-f56b-c3fe78aded63"
      },
      "execution_count": 85,
      "outputs": [
        {
          "output_type": "stream",
          "name": "stdout",
          "text": [
            "On an average day, 8905 people benefitted from the existing water bottle station at 100 ASHFORD STREET\n"
          ]
        },
        {
          "output_type": "stream",
          "name": "stderr",
          "text": [
            "<ipython-input-85-6a10c934cbbf>:3: FutureWarning: Calling int on a single element Series is deprecated and will raise a TypeError in the future. Use int(ser.iloc[0]) instead\n",
            "  print(f\"On an average day, {int(grouped_df)} people benefitted from the existing water bottle station at 100 ASHFORD STREET\")\n"
          ]
        }
      ]
    },
    {
      "cell_type": "code",
      "source": [
        "grouped_df = dfWifi[dfWifi['building_desc'] == '590 COMMONWEALTH AVENUE']\n",
        "grouped_df = grouped_df.groupby(['building_desc', 'hour'])[['capacity']].mean().sum()\n",
        "print(f\"On an average day, {int(grouped_df)} people benefitted from the existing water bottle station at 590 COMMONWEALTH AVENUE\")"
      ],
      "metadata": {
        "colab": {
          "base_uri": "https://localhost:8080/"
        },
        "id": "aH1PIkTxqj5m",
        "outputId": "b8021d57-6c4c-49c1-b1f2-c919bd987af6"
      },
      "execution_count": 86,
      "outputs": [
        {
          "output_type": "stream",
          "name": "stdout",
          "text": [
            "On an average day, 5117 people benefitted from the existing water bottle station at 590 COMMONWEALTH AVENUE\n"
          ]
        },
        {
          "output_type": "stream",
          "name": "stderr",
          "text": [
            "<ipython-input-86-295e6d252365>:3: FutureWarning: Calling int on a single element Series is deprecated and will raise a TypeError in the future. Use int(ser.iloc[0]) instead\n",
            "  print(f\"On an average day, {int(grouped_df)} people benefitted from the existing water bottle station at 590 COMMONWEALTH AVENUE\")\n"
          ]
        }
      ]
    },
    {
      "cell_type": "code",
      "source": [
        "grouped_df = dfWifi[dfWifi['building_desc'] == '722-26-28 COMMONWEALTH AVENUE']\n",
        "grouped_df = grouped_df.groupby(['building_desc', 'hour'])[['capacity']].mean().sum()\n",
        "print(f\"On an average day, {int(grouped_df)} people benefitted from the existing water bottle station at 722-26-28 COMMONWEALTH AVENUE\")"
      ],
      "metadata": {
        "colab": {
          "base_uri": "https://localhost:8080/"
        },
        "id": "sF1VLOYLqj76",
        "outputId": "4c80fa76-875b-406c-9964-07a30351b666"
      },
      "execution_count": 87,
      "outputs": [
        {
          "output_type": "stream",
          "name": "stdout",
          "text": [
            "On an average day, 837 people benefitted from the existing water bottle station at 722-26-28 COMMONWEALTH AVENUE\n"
          ]
        },
        {
          "output_type": "stream",
          "name": "stderr",
          "text": [
            "<ipython-input-87-59859a7a9dfd>:3: FutureWarning: Calling int on a single element Series is deprecated and will raise a TypeError in the future. Use int(ser.iloc[0]) instead\n",
            "  print(f\"On an average day, {int(grouped_df)} people benefitted from the existing water bottle station at 722-26-28 COMMONWEALTH AVENUE\")\n"
          ]
        }
      ]
    },
    {
      "cell_type": "code",
      "source": [
        "grouped_df = dfWifi[dfWifi['building_desc'] == '730 COMMONWEALTH AVENUE']\n",
        "grouped_df = grouped_df.groupby(['building_desc', 'hour'])[['capacity']].mean().sum()\n",
        "print(f\"On an average day, {int(grouped_df)} people benefitted from the existing water bottle station at 730 COMMONWEALTH AVENUE\")"
      ],
      "metadata": {
        "colab": {
          "base_uri": "https://localhost:8080/"
        },
        "id": "WP0r2v5Vqj-I",
        "outputId": "adb3d916-60ab-4439-abba-db64aab70ab5"
      },
      "execution_count": 88,
      "outputs": [
        {
          "output_type": "stream",
          "name": "stdout",
          "text": [
            "On an average day, 2205 people benefitted from the existing water bottle station at 730 COMMONWEALTH AVENUE\n"
          ]
        },
        {
          "output_type": "stream",
          "name": "stderr",
          "text": [
            "<ipython-input-88-551ff3317571>:3: FutureWarning: Calling int on a single element Series is deprecated and will raise a TypeError in the future. Use int(ser.iloc[0]) instead\n",
            "  print(f\"On an average day, {int(grouped_df)} people benefitted from the existing water bottle station at 730 COMMONWEALTH AVENUE\")\n"
          ]
        }
      ]
    },
    {
      "cell_type": "code",
      "source": [
        "grouped_df = dfWifi[dfWifi['building_desc'] == \"8 ST. MARY'S STREET\"]\n",
        "grouped_df = grouped_df.groupby(['building_desc', 'hour'])[['capacity']].mean().sum()\n",
        "print(f\"On an average day, {int(grouped_df)} people benefitted from the existing water bottle station at 8 ST. MARY'S STREET\")"
      ],
      "metadata": {
        "colab": {
          "base_uri": "https://localhost:8080/"
        },
        "id": "CZTI3nLgqkAa",
        "outputId": "a0629b30-322d-40d3-aa1b-c6452d589ff4"
      },
      "execution_count": 89,
      "outputs": [
        {
          "output_type": "stream",
          "name": "stdout",
          "text": [
            "On an average day, 2887 people benefitted from the existing water bottle station at 8 ST. MARY'S STREET\n"
          ]
        },
        {
          "output_type": "stream",
          "name": "stderr",
          "text": [
            "<ipython-input-89-bc8661ff363d>:3: FutureWarning: Calling int on a single element Series is deprecated and will raise a TypeError in the future. Use int(ser.iloc[0]) instead\n",
            "  print(f\"On an average day, {int(grouped_df)} people benefitted from the existing water bottle station at 8 ST. MARY'S STREET\")\n"
          ]
        }
      ]
    },
    {
      "cell_type": "code",
      "source": [
        "grouped_df = dfWifi[dfWifi['building_desc'] == '25 BUICK STREET']\n",
        "grouped_df = grouped_df.groupby(['building_desc', 'hour'])[['capacity']].mean().sum()\n",
        "print(f\"On an average day, {int(grouped_df)} people benefitted from the existing water bottle station at 25 BUICK STREET\")"
      ],
      "metadata": {
        "colab": {
          "base_uri": "https://localhost:8080/"
        },
        "id": "u5linLMNqkCf",
        "outputId": "cb69bb30-4e10-4676-eed0-1356f78a0751"
      },
      "execution_count": 90,
      "outputs": [
        {
          "output_type": "stream",
          "name": "stdout",
          "text": [
            "On an average day, 3624 people benefitted from the existing water bottle station at 25 BUICK STREET\n"
          ]
        },
        {
          "output_type": "stream",
          "name": "stderr",
          "text": [
            "<ipython-input-90-6d3210156fab>:3: FutureWarning: Calling int on a single element Series is deprecated and will raise a TypeError in the future. Use int(ser.iloc[0]) instead\n",
            "  print(f\"On an average day, {int(grouped_df)} people benefitted from the existing water bottle station at 25 BUICK STREET\")\n"
          ]
        }
      ]
    },
    {
      "cell_type": "code",
      "source": [
        "grouped_df = dfWifi[dfWifi['building_desc'] == '855 COMMONWEALTH AVENUE']\n",
        "grouped_df = grouped_df.groupby(['building_desc', 'hour'])[['capacity']].mean().sum()\n",
        "print(f\"On an average day, {int(grouped_df)} people benefitted from the existing water bottle station at 855 COMMONWEALTH AVENUE\")"
      ],
      "metadata": {
        "colab": {
          "base_uri": "https://localhost:8080/"
        },
        "id": "_E9GZa0ZqkE0",
        "outputId": "3034490a-d357-4aa6-a64b-185aae7a7c21"
      },
      "execution_count": 91,
      "outputs": [
        {
          "output_type": "stream",
          "name": "stdout",
          "text": [
            "On an average day, 3123 people benefitted from the existing water bottle station at 855 COMMONWEALTH AVENUE\n"
          ]
        },
        {
          "output_type": "stream",
          "name": "stderr",
          "text": [
            "<ipython-input-91-35238480d61a>:3: FutureWarning: Calling int on a single element Series is deprecated and will raise a TypeError in the future. Use int(ser.iloc[0]) instead\n",
            "  print(f\"On an average day, {int(grouped_df)} people benefitted from the existing water bottle station at 855 COMMONWEALTH AVENUE\")\n"
          ]
        }
      ]
    },
    {
      "cell_type": "code",
      "source": [
        "grouped_df = dfWifi[dfWifi['building_desc'] == '871 COMMONWEALTH AVENUE']\n",
        "grouped_df = grouped_df.groupby(['building_desc', 'hour'])[['capacity']].mean().sum()\n",
        "print(f\"On an average day, {int(grouped_df)} people benefitted from the existing water bottle station at 871 COMMONWEALTH AVENUE\")"
      ],
      "metadata": {
        "colab": {
          "base_uri": "https://localhost:8080/"
        },
        "id": "dsiUyCvVqkHH",
        "outputId": "3a9a76c0-03b6-4028-a7ba-16814a4f631d"
      },
      "execution_count": 92,
      "outputs": [
        {
          "output_type": "stream",
          "name": "stdout",
          "text": [
            "On an average day, 2830 people benefitted from the existing water bottle station at 871 COMMONWEALTH AVENUE\n"
          ]
        },
        {
          "output_type": "stream",
          "name": "stderr",
          "text": [
            "<ipython-input-92-7524d6902efe>:3: FutureWarning: Calling int on a single element Series is deprecated and will raise a TypeError in the future. Use int(ser.iloc[0]) instead\n",
            "  print(f\"On an average day, {int(grouped_df)} people benefitted from the existing water bottle station at 871 COMMONWEALTH AVENUE\")\n"
          ]
        }
      ]
    },
    {
      "cell_type": "code",
      "source": [
        "grouped_df = dfWifi[dfWifi['building_desc'] == '700 COMMONWEALTH AVENUE']\n",
        "grouped_df = grouped_df.groupby(['building_desc', 'hour'])[['capacity']].mean().sum()\n",
        "print(f\"On an average day, {int(grouped_df)} people benefitted from the existing water bottle station at 700 COMMONWEALTH AVENUE\")"
      ],
      "metadata": {
        "colab": {
          "base_uri": "https://localhost:8080/"
        },
        "id": "fKd_NjeBqkf6",
        "outputId": "94e2407c-0590-40bc-f802-ed195e08bf8c"
      },
      "execution_count": 93,
      "outputs": [
        {
          "output_type": "stream",
          "name": "stdout",
          "text": [
            "On an average day, 2640 people benefitted from the existing water bottle station at 700 COMMONWEALTH AVENUE\n"
          ]
        },
        {
          "output_type": "stream",
          "name": "stderr",
          "text": [
            "<ipython-input-93-7d7f64e6e05a>:3: FutureWarning: Calling int on a single element Series is deprecated and will raise a TypeError in the future. Use int(ser.iloc[0]) instead\n",
            "  print(f\"On an average day, {int(grouped_df)} people benefitted from the existing water bottle station at 700 COMMONWEALTH AVENUE\")\n"
          ]
        }
      ]
    },
    {
      "cell_type": "code",
      "source": [
        "grouped_df = dfWifi[dfWifi['building_desc'] == '1019 COMMONWEALTH AVENUE']\n",
        "grouped_df = grouped_df.groupby(['building_desc', 'hour'])[['capacity']].mean().sum()\n",
        "print(f\"On an average day, {int(grouped_df)} people benefitted from the existing water bottle station at 1019 COMMONWEALTH AVENUE\")"
      ],
      "metadata": {
        "colab": {
          "base_uri": "https://localhost:8080/"
        },
        "id": "6sIf6UOVqkh_",
        "outputId": "32b04171-3889-4a5e-b153-fcf485ebf5f0"
      },
      "execution_count": 94,
      "outputs": [
        {
          "output_type": "stream",
          "name": "stdout",
          "text": [
            "On an average day, 1087 people benefitted from the existing water bottle station at 1019 COMMONWEALTH AVENUE\n"
          ]
        },
        {
          "output_type": "stream",
          "name": "stderr",
          "text": [
            "<ipython-input-94-36f1855f6d12>:3: FutureWarning: Calling int on a single element Series is deprecated and will raise a TypeError in the future. Use int(ser.iloc[0]) instead\n",
            "  print(f\"On an average day, {int(grouped_df)} people benefitted from the existing water bottle station at 1019 COMMONWEALTH AVENUE\")\n"
          ]
        }
      ]
    },
    {
      "cell_type": "code",
      "source": [
        "grouped_df = dfWifi[dfWifi['building_desc'] == '91 BAY STATE ROAD']\n",
        "grouped_df = grouped_df.groupby(['building_desc', 'hour'])[['capacity']].mean().sum()\n",
        "print(f\"On an average day, {int(grouped_df)} people benefitted from the existing water bottle station at 91 BAY STATE ROAD\")"
      ],
      "metadata": {
        "colab": {
          "base_uri": "https://localhost:8080/"
        },
        "id": "0Erh5Y0QlWi1",
        "outputId": "e6c96fe5-0c33-4147-cf93-d03ab2348bac"
      },
      "execution_count": 95,
      "outputs": [
        {
          "output_type": "stream",
          "name": "stdout",
          "text": [
            "On an average day, 1831 people benefitted from the existing water bottle station at 91 BAY STATE ROAD\n"
          ]
        },
        {
          "output_type": "stream",
          "name": "stderr",
          "text": [
            "<ipython-input-95-8de1bf6152b8>:3: FutureWarning: Calling int on a single element Series is deprecated and will raise a TypeError in the future. Use int(ser.iloc[0]) instead\n",
            "  print(f\"On an average day, {int(grouped_df)} people benefitted from the existing water bottle station at 91 BAY STATE ROAD\")\n"
          ]
        }
      ]
    },
    {
      "cell_type": "code",
      "source": [
        "grouped_df = dfWifi[dfWifi['building_desc'] == '275 BABCOCK STREET']\n",
        "grouped_df = grouped_df.groupby(['building_desc', 'hour'])[['capacity']].mean().sum()\n",
        "print(f\"On an average day, {int(grouped_df)} people benefitted from the existing water bottle station at 275 BABCOCK STREET\")"
      ],
      "metadata": {
        "colab": {
          "base_uri": "https://localhost:8080/"
        },
        "id": "H_XAlfGKrnhp",
        "outputId": "4982943b-3f64-4aaa-be91-7e7956ffc84c"
      },
      "execution_count": 96,
      "outputs": [
        {
          "output_type": "stream",
          "name": "stdout",
          "text": [
            "On an average day, 1727 people benefitted from the existing water bottle station at 275 BABCOCK STREET\n"
          ]
        },
        {
          "output_type": "stream",
          "name": "stderr",
          "text": [
            "<ipython-input-96-18a578d5c381>:3: FutureWarning: Calling int on a single element Series is deprecated and will raise a TypeError in the future. Use int(ser.iloc[0]) instead\n",
            "  print(f\"On an average day, {int(grouped_df)} people benefitted from the existing water bottle station at 275 BABCOCK STREET\")\n"
          ]
        }
      ]
    },
    {
      "cell_type": "code",
      "source": [
        "grouped_df = dfWifi[dfWifi['building_desc'] == '33 HARRY AGGANIS WAY']\n",
        "grouped_df = grouped_df.groupby(['building_desc', 'hour'])[['capacity']].mean().sum()\n",
        "print(f\"On an average day, {int(grouped_df)} people benefitted from the existing water bottle station at 33 HARRY AGGANIS WAY\")"
      ],
      "metadata": {
        "colab": {
          "base_uri": "https://localhost:8080/"
        },
        "id": "_gP-mUtkrnn3",
        "outputId": "0d599a5e-3981-4c8d-d068-2b766f3c75d7"
      },
      "execution_count": 97,
      "outputs": [
        {
          "output_type": "stream",
          "name": "stdout",
          "text": [
            "On an average day, 1266 people benefitted from the existing water bottle station at 33 HARRY AGGANIS WAY\n"
          ]
        },
        {
          "output_type": "stream",
          "name": "stderr",
          "text": [
            "<ipython-input-97-41b02c3bbfc5>:3: FutureWarning: Calling int on a single element Series is deprecated and will raise a TypeError in the future. Use int(ser.iloc[0]) instead\n",
            "  print(f\"On an average day, {int(grouped_df)} people benefitted from the existing water bottle station at 33 HARRY AGGANIS WAY\")\n"
          ]
        }
      ]
    },
    {
      "cell_type": "markdown",
      "source": [
        "## Users Per Water Bottle Station (If there are multiple water bottle stations in one building, divide it by the total number of water bottle stations to check how many people benefit per water bottle station)"
      ],
      "metadata": {
        "id": "BFlOa_qQMuuK"
      }
    },
    {
      "cell_type": "code",
      "source": [
        "WithWaterBottle = {}"
      ],
      "metadata": {
        "id": "zX0LouEwNp4A"
      },
      "execution_count": 98,
      "outputs": []
    },
    {
      "cell_type": "code",
      "source": [
        "grouped_df = dfWifi[dfWifi['building_desc'] == '771 COMMONWEALTH AVENUE']\n",
        "grouped_df = grouped_df.groupby(['building_desc', 'hour'])[['capacity']].mean().sum() / 3\n",
        "print(f\"On an average day, {int(grouped_df)} people benefitted per existing water bottle station at 771 COMMONWEALTH AVENUE\")\n",
        "WithWaterBottle[\"771 COMMONWEALTH AVENUE\"] = int(grouped_df)"
      ],
      "metadata": {
        "id": "9i1aGtMjrymh",
        "colab": {
          "base_uri": "https://localhost:8080/"
        },
        "outputId": "7cb26006-84dc-45c2-8c03-1443da43799b"
      },
      "execution_count": 99,
      "outputs": [
        {
          "output_type": "stream",
          "name": "stdout",
          "text": [
            "On an average day, 355 people benefitted per existing water bottle station at 771 COMMONWEALTH AVENUE\n"
          ]
        },
        {
          "output_type": "stream",
          "name": "stderr",
          "text": [
            "<ipython-input-99-d66440c41fe4>:3: FutureWarning: Calling int on a single element Series is deprecated and will raise a TypeError in the future. Use int(ser.iloc[0]) instead\n",
            "  print(f\"On an average day, {int(grouped_df)} people benefitted per existing water bottle station at 771 COMMONWEALTH AVENUE\")\n",
            "<ipython-input-99-d66440c41fe4>:4: FutureWarning: Calling int on a single element Series is deprecated and will raise a TypeError in the future. Use int(ser.iloc[0]) instead\n",
            "  WithWaterBottle[\"771 COMMONWEALTH AVENUE\"] = int(grouped_df)\n"
          ]
        }
      ]
    },
    {
      "cell_type": "code",
      "source": [
        "grouped_df = dfWifi[dfWifi['building_desc'] == '775 COMMONWEALTH AVENUE']\n",
        "grouped_df = grouped_df.groupby(['building_desc', 'hour'])[['capacity']].mean().sum() / 5\n",
        "print(f\"On an average day, {int(grouped_df)} people benefitted per existing water bottle station at 775 COMMONWEALTH AVENUE\")\n",
        "WithWaterBottle[\"775 COMMONWEALTH AVENUE\"] = int(grouped_df)"
      ],
      "metadata": {
        "colab": {
          "base_uri": "https://localhost:8080/"
        },
        "id": "4Ii76t91NLXW",
        "outputId": "a0cdac32-f049-4862-a920-13272bd112ff"
      },
      "execution_count": 100,
      "outputs": [
        {
          "output_type": "stream",
          "name": "stdout",
          "text": [
            "On an average day, 929 people benefitted per existing water bottle station at 775 COMMONWEALTH AVENUE\n"
          ]
        },
        {
          "output_type": "stream",
          "name": "stderr",
          "text": [
            "<ipython-input-100-686837cd0e7e>:3: FutureWarning: Calling int on a single element Series is deprecated and will raise a TypeError in the future. Use int(ser.iloc[0]) instead\n",
            "  print(f\"On an average day, {int(grouped_df)} people benefitted per existing water bottle station at 775 COMMONWEALTH AVENUE\")\n",
            "<ipython-input-100-686837cd0e7e>:4: FutureWarning: Calling int on a single element Series is deprecated and will raise a TypeError in the future. Use int(ser.iloc[0]) instead\n",
            "  WithWaterBottle[\"775 COMMONWEALTH AVENUE\"] = int(grouped_df)\n"
          ]
        }
      ]
    },
    {
      "cell_type": "code",
      "source": [
        "grouped_df = dfWifi[dfWifi['building_desc'] == '1 UNIVERSITY ROAD']\n",
        "grouped_df = grouped_df.groupby(['building_desc', 'hour'])[['capacity']].mean().sum() / 4\n",
        "print(f\"On an average day, {int(grouped_df)} people benefitted per existing water bottle station at 1 UNIVERSITY ROAD\")\n",
        "WithWaterBottle[\"1 UNIVERSITY ROAD\"] = int(grouped_df)"
      ],
      "metadata": {
        "colab": {
          "base_uri": "https://localhost:8080/"
        },
        "id": "jrnUDvM3NLZ3",
        "outputId": "4b197345-615e-4a60-8ae7-58c77957c11e"
      },
      "execution_count": 101,
      "outputs": [
        {
          "output_type": "stream",
          "name": "stdout",
          "text": [
            "On an average day, 804 people benefitted per existing water bottle station at 1 UNIVERSITY ROAD\n"
          ]
        },
        {
          "output_type": "stream",
          "name": "stderr",
          "text": [
            "<ipython-input-101-e5c654ed5fbf>:3: FutureWarning: Calling int on a single element Series is deprecated and will raise a TypeError in the future. Use int(ser.iloc[0]) instead\n",
            "  print(f\"On an average day, {int(grouped_df)} people benefitted per existing water bottle station at 1 UNIVERSITY ROAD\")\n",
            "<ipython-input-101-e5c654ed5fbf>:4: FutureWarning: Calling int on a single element Series is deprecated and will raise a TypeError in the future. Use int(ser.iloc[0]) instead\n",
            "  WithWaterBottle[\"1 UNIVERSITY ROAD\"] = int(grouped_df)\n"
          ]
        }
      ]
    },
    {
      "cell_type": "code",
      "source": [
        "grouped_df = dfWifi[dfWifi['building_desc'] == '745 - 755 COMMONWEALTH AVENUE']\n",
        "grouped_df = grouped_df.groupby(['building_desc', 'hour'])[['capacity']].mean().sum() / 4\n",
        "print(f\"On an average day, {int(grouped_df)} people benefitted per existing water bottle station at 745 - 755 COMMONWEALTH AVENUE\")\n",
        "WithWaterBottle[\"745 - 755 COMMONWEALTH AVENUE\"] = int(grouped_df)"
      ],
      "metadata": {
        "colab": {
          "base_uri": "https://localhost:8080/"
        },
        "id": "xlEyObepNLcI",
        "outputId": "55c99432-62fb-437d-8897-9f4619ce2205"
      },
      "execution_count": 102,
      "outputs": [
        {
          "output_type": "stream",
          "name": "stdout",
          "text": [
            "On an average day, 396 people benefitted per existing water bottle station at 745 - 755 COMMONWEALTH AVENUE\n"
          ]
        },
        {
          "output_type": "stream",
          "name": "stderr",
          "text": [
            "<ipython-input-102-643a50c79ede>:3: FutureWarning: Calling int on a single element Series is deprecated and will raise a TypeError in the future. Use int(ser.iloc[0]) instead\n",
            "  print(f\"On an average day, {int(grouped_df)} people benefitted per existing water bottle station at 745 - 755 COMMONWEALTH AVENUE\")\n",
            "<ipython-input-102-643a50c79ede>:4: FutureWarning: Calling int on a single element Series is deprecated and will raise a TypeError in the future. Use int(ser.iloc[0]) instead\n",
            "  WithWaterBottle[\"745 - 755 COMMONWEALTH AVENUE\"] = int(grouped_df)\n"
          ]
        }
      ]
    },
    {
      "cell_type": "code",
      "source": [
        "grouped_df = dfWifi[dfWifi['building_desc'] == '264-270 BAY STATE ROAD']\n",
        "grouped_df = grouped_df.groupby(['building_desc', 'hour'])[['capacity']].mean().sum() / 3\n",
        "print(f\"On an average day, {int(grouped_df)} people benefitted per existing water bottle station at 264-270 BAY STATE ROAD\")\n",
        "WithWaterBottle[\"264-270 BAY STATE ROAD\"] = int(grouped_df)"
      ],
      "metadata": {
        "colab": {
          "base_uri": "https://localhost:8080/"
        },
        "id": "FgdvWlYiNLeO",
        "outputId": "6667a547-2662-4db1-eeda-8628f9d90fb9"
      },
      "execution_count": 103,
      "outputs": [
        {
          "output_type": "stream",
          "name": "stdout",
          "text": [
            "On an average day, 368 people benefitted per existing water bottle station at 264-270 BAY STATE ROAD\n"
          ]
        },
        {
          "output_type": "stream",
          "name": "stderr",
          "text": [
            "<ipython-input-103-968d139dc61f>:3: FutureWarning: Calling int on a single element Series is deprecated and will raise a TypeError in the future. Use int(ser.iloc[0]) instead\n",
            "  print(f\"On an average day, {int(grouped_df)} people benefitted per existing water bottle station at 264-270 BAY STATE ROAD\")\n",
            "<ipython-input-103-968d139dc61f>:4: FutureWarning: Calling int on a single element Series is deprecated and will raise a TypeError in the future. Use int(ser.iloc[0]) instead\n",
            "  WithWaterBottle[\"264-270 BAY STATE ROAD\"] = int(grouped_df)\n"
          ]
        }
      ]
    },
    {
      "cell_type": "code",
      "source": [
        "grouped_df = dfWifi[dfWifi['building_desc'] == '635 COMMONWEALTH AVENUE']\n",
        "grouped_df = grouped_df.groupby(['building_desc', 'hour'])[['capacity']].mean().sum() / 4\n",
        "print(f\"On an average day, {int(grouped_df)} people benefitted per existing water bottle station at 635 COMMONWEALTH AVENUE\")\n",
        "WithWaterBottle[\"635 COMMONWEALTH AVENUE\"] = int(grouped_df)"
      ],
      "metadata": {
        "colab": {
          "base_uri": "https://localhost:8080/"
        },
        "id": "QNc5BAI8NLgV",
        "outputId": "8c03028b-6432-4dd4-d6a9-67db36ea23b2"
      },
      "execution_count": 104,
      "outputs": [
        {
          "output_type": "stream",
          "name": "stdout",
          "text": [
            "On an average day, 381 people benefitted per existing water bottle station at 635 COMMONWEALTH AVENUE\n"
          ]
        },
        {
          "output_type": "stream",
          "name": "stderr",
          "text": [
            "<ipython-input-104-52ef71c8fcc0>:3: FutureWarning: Calling int on a single element Series is deprecated and will raise a TypeError in the future. Use int(ser.iloc[0]) instead\n",
            "  print(f\"On an average day, {int(grouped_df)} people benefitted per existing water bottle station at 635 COMMONWEALTH AVENUE\")\n",
            "<ipython-input-104-52ef71c8fcc0>:4: FutureWarning: Calling int on a single element Series is deprecated and will raise a TypeError in the future. Use int(ser.iloc[0]) instead\n",
            "  WithWaterBottle[\"635 COMMONWEALTH AVENUE\"] = int(grouped_df)\n"
          ]
        }
      ]
    },
    {
      "cell_type": "code",
      "source": [
        "grouped_df = dfWifi[dfWifi['building_desc'] == '2 SILBER WAY']\n",
        "grouped_df = grouped_df.groupby(['building_desc', 'hour'])[['capacity']].mean().sum() / 6\n",
        "print(f\"On an average day, {int(grouped_df)} people benefitted per existing water bottle station at 2 SILBER WAY\")\n",
        "WithWaterBottle[\"2 SILBER WAY'\"] = int(grouped_df)"
      ],
      "metadata": {
        "colab": {
          "base_uri": "https://localhost:8080/"
        },
        "id": "uO8BChOUNLid",
        "outputId": "c1aef98e-3b0e-45ef-8f76-688dda3becb4"
      },
      "execution_count": 105,
      "outputs": [
        {
          "output_type": "stream",
          "name": "stdout",
          "text": [
            "On an average day, 245 people benefitted per existing water bottle station at 2 SILBER WAY\n"
          ]
        },
        {
          "output_type": "stream",
          "name": "stderr",
          "text": [
            "<ipython-input-105-cb983c510a22>:3: FutureWarning: Calling int on a single element Series is deprecated and will raise a TypeError in the future. Use int(ser.iloc[0]) instead\n",
            "  print(f\"On an average day, {int(grouped_df)} people benefitted per existing water bottle station at 2 SILBER WAY\")\n",
            "<ipython-input-105-cb983c510a22>:4: FutureWarning: Calling int on a single element Series is deprecated and will raise a TypeError in the future. Use int(ser.iloc[0]) instead\n",
            "  WithWaterBottle[\"2 SILBER WAY'\"] = int(grouped_df)\n"
          ]
        }
      ]
    },
    {
      "cell_type": "code",
      "source": [
        "grouped_df = dfWifi[dfWifi['building_desc'] == '595 COMMONWEALTH AVENUE']\n",
        "grouped_df = grouped_df.groupby(['building_desc', 'hour'])[['capacity']].mean().sum() / 9\n",
        "print(f\"On an average day, {int(grouped_df)} people benefitted per existing water bottle station at 595 COMMONWEALTH AVENUE\")\n",
        "WithWaterBottle[\"595 COMMONWEALTH AVENUE\"] = int(grouped_df)"
      ],
      "metadata": {
        "colab": {
          "base_uri": "https://localhost:8080/"
        },
        "id": "4V22rmdUNLkl",
        "outputId": "d14807dc-b9ad-49e0-b4e6-0a5ff7c0a83f"
      },
      "execution_count": 106,
      "outputs": [
        {
          "output_type": "stream",
          "name": "stdout",
          "text": [
            "On an average day, 502 people benefitted per existing water bottle station at 595 COMMONWEALTH AVENUE\n"
          ]
        },
        {
          "output_type": "stream",
          "name": "stderr",
          "text": [
            "<ipython-input-106-af6221a1e2a0>:3: FutureWarning: Calling int on a single element Series is deprecated and will raise a TypeError in the future. Use int(ser.iloc[0]) instead\n",
            "  print(f\"On an average day, {int(grouped_df)} people benefitted per existing water bottle station at 595 COMMONWEALTH AVENUE\")\n",
            "<ipython-input-106-af6221a1e2a0>:4: FutureWarning: Calling int on a single element Series is deprecated and will raise a TypeError in the future. Use int(ser.iloc[0]) instead\n",
            "  WithWaterBottle[\"595 COMMONWEALTH AVENUE\"] = int(grouped_df)\n"
          ]
        }
      ]
    },
    {
      "cell_type": "code",
      "source": [
        "grouped_df = dfWifi[dfWifi['building_desc'] == '285 BABCOCK STREET']\n",
        "grouped_df = grouped_df.groupby(['building_desc', 'hour'])[['capacity']].mean().sum() / 5\n",
        "print(f\"On an average day, {int(grouped_df)} people benefitted per existing water bottle station at 285 BABCOCK STREET\")\n",
        "WithWaterBottle[\"285 BABCOCK STREET\"] = int(grouped_df)"
      ],
      "metadata": {
        "colab": {
          "base_uri": "https://localhost:8080/"
        },
        "id": "aPAGI02CNLmt",
        "outputId": "2d2fee57-2114-4ee8-ab16-ffa62b6a651e"
      },
      "execution_count": 107,
      "outputs": [
        {
          "output_type": "stream",
          "name": "stdout",
          "text": [
            "On an average day, 1626 people benefitted per existing water bottle station at 285 BABCOCK STREET\n"
          ]
        },
        {
          "output_type": "stream",
          "name": "stderr",
          "text": [
            "<ipython-input-107-62252c306af0>:3: FutureWarning: Calling int on a single element Series is deprecated and will raise a TypeError in the future. Use int(ser.iloc[0]) instead\n",
            "  print(f\"On an average day, {int(grouped_df)} people benefitted per existing water bottle station at 285 BABCOCK STREET\")\n",
            "<ipython-input-107-62252c306af0>:4: FutureWarning: Calling int on a single element Series is deprecated and will raise a TypeError in the future. Use int(ser.iloc[0]) instead\n",
            "  WithWaterBottle[\"285 BABCOCK STREET\"] = int(grouped_df)\n"
          ]
        }
      ]
    },
    {
      "cell_type": "code",
      "source": [
        "grouped_df = dfWifi[dfWifi['building_desc'] == '120 ASHFORD STREET']\n",
        "grouped_df = grouped_df.groupby(['building_desc', 'hour'])[['capacity']].mean().sum() / 2\n",
        "print(f\"On an average day, {int(grouped_df)} people benefitted per existing water bottle station at 120 ASHFORD STREET\")\n",
        "WithWaterBottle[\"120 ASHFORD STREET\"] = int(grouped_df)"
      ],
      "metadata": {
        "colab": {
          "base_uri": "https://localhost:8080/"
        },
        "id": "lbedllYiNLo5",
        "outputId": "2d73729a-4bb4-4df4-87ac-5047200fb5ad"
      },
      "execution_count": 108,
      "outputs": [
        {
          "output_type": "stream",
          "name": "stdout",
          "text": [
            "On an average day, 2018 people benefitted per existing water bottle station at 120 ASHFORD STREET\n"
          ]
        },
        {
          "output_type": "stream",
          "name": "stderr",
          "text": [
            "<ipython-input-108-24ef5511e229>:3: FutureWarning: Calling int on a single element Series is deprecated and will raise a TypeError in the future. Use int(ser.iloc[0]) instead\n",
            "  print(f\"On an average day, {int(grouped_df)} people benefitted per existing water bottle station at 120 ASHFORD STREET\")\n",
            "<ipython-input-108-24ef5511e229>:4: FutureWarning: Calling int on a single element Series is deprecated and will raise a TypeError in the future. Use int(ser.iloc[0]) instead\n",
            "  WithWaterBottle[\"120 ASHFORD STREET\"] = int(grouped_df)\n"
          ]
        }
      ]
    },
    {
      "cell_type": "code",
      "source": [
        "grouped_df = dfWifi[dfWifi['building_desc'] == '100 ASHFORD STREET']\n",
        "grouped_df = grouped_df.groupby(['building_desc', 'hour'])[['capacity']].mean().sum() / 1\n",
        "print(f\"On an average day, {int(grouped_df)} people benefitted per existing water bottle station at 100 ASHFORD STREET\")\n",
        "WithWaterBottle[\"100 ASHFORD STREET\"] = int(grouped_df)"
      ],
      "metadata": {
        "colab": {
          "base_uri": "https://localhost:8080/"
        },
        "id": "27mZpq_sNLrG",
        "outputId": "ed5dfcf9-7ec3-4c1e-bb70-c9e3254192a8"
      },
      "execution_count": 109,
      "outputs": [
        {
          "output_type": "stream",
          "name": "stdout",
          "text": [
            "On an average day, 8905 people benefitted per existing water bottle station at 100 ASHFORD STREET\n"
          ]
        },
        {
          "output_type": "stream",
          "name": "stderr",
          "text": [
            "<ipython-input-109-d5da026884f1>:3: FutureWarning: Calling int on a single element Series is deprecated and will raise a TypeError in the future. Use int(ser.iloc[0]) instead\n",
            "  print(f\"On an average day, {int(grouped_df)} people benefitted per existing water bottle station at 100 ASHFORD STREET\")\n",
            "<ipython-input-109-d5da026884f1>:4: FutureWarning: Calling int on a single element Series is deprecated and will raise a TypeError in the future. Use int(ser.iloc[0]) instead\n",
            "  WithWaterBottle[\"100 ASHFORD STREET\"] = int(grouped_df)\n"
          ]
        }
      ]
    },
    {
      "cell_type": "code",
      "source": [
        "grouped_df = dfWifi[dfWifi['building_desc'] == '590 COMMONWEALTH AVENUE']\n",
        "grouped_df = grouped_df.groupby(['building_desc', 'hour'])[['capacity']].mean().sum() / 6\n",
        "print(f\"On an average day, {int(grouped_df)} people benefitted per existing water bottle station at 590 COMMONWEALTH AVENUE\")\n",
        "WithWaterBottle[\"590 COMMONWEALTH AVENUE\"] = int(grouped_df)"
      ],
      "metadata": {
        "colab": {
          "base_uri": "https://localhost:8080/"
        },
        "id": "WSwme5xtNLtW",
        "outputId": "15212a32-78e5-44be-bfc9-2c2198205261"
      },
      "execution_count": 110,
      "outputs": [
        {
          "output_type": "stream",
          "name": "stdout",
          "text": [
            "On an average day, 852 people benefitted per existing water bottle station at 590 COMMONWEALTH AVENUE\n"
          ]
        },
        {
          "output_type": "stream",
          "name": "stderr",
          "text": [
            "<ipython-input-110-fe739224037c>:3: FutureWarning: Calling int on a single element Series is deprecated and will raise a TypeError in the future. Use int(ser.iloc[0]) instead\n",
            "  print(f\"On an average day, {int(grouped_df)} people benefitted per existing water bottle station at 590 COMMONWEALTH AVENUE\")\n",
            "<ipython-input-110-fe739224037c>:4: FutureWarning: Calling int on a single element Series is deprecated and will raise a TypeError in the future. Use int(ser.iloc[0]) instead\n",
            "  WithWaterBottle[\"590 COMMONWEALTH AVENUE\"] = int(grouped_df)\n"
          ]
        }
      ]
    },
    {
      "cell_type": "code",
      "source": [
        "grouped_df = dfWifi[dfWifi['building_desc'] == '722-26-28 COMMONWEALTH AVENUE']\n",
        "grouped_df = grouped_df.groupby(['building_desc', 'hour'])[['capacity']].mean().sum() / 7\n",
        "print(f\"On an average day, {int(grouped_df)} people benefitted per existing water bottle station at 722-26-28 COMMONWEALTH AVENUE\")\n",
        "WithWaterBottle[\"722-26-28 COMMONWEALTH AVENUE\"] = int(grouped_df)"
      ],
      "metadata": {
        "colab": {
          "base_uri": "https://localhost:8080/"
        },
        "id": "8JXjGVQMNLvu",
        "outputId": "3add6619-c662-47b3-da12-3bda8be8d98e"
      },
      "execution_count": 111,
      "outputs": [
        {
          "output_type": "stream",
          "name": "stdout",
          "text": [
            "On an average day, 119 people benefitted per existing water bottle station at 722-26-28 COMMONWEALTH AVENUE\n"
          ]
        },
        {
          "output_type": "stream",
          "name": "stderr",
          "text": [
            "<ipython-input-111-ef4a92e792f2>:3: FutureWarning: Calling int on a single element Series is deprecated and will raise a TypeError in the future. Use int(ser.iloc[0]) instead\n",
            "  print(f\"On an average day, {int(grouped_df)} people benefitted per existing water bottle station at 722-26-28 COMMONWEALTH AVENUE\")\n",
            "<ipython-input-111-ef4a92e792f2>:4: FutureWarning: Calling int on a single element Series is deprecated and will raise a TypeError in the future. Use int(ser.iloc[0]) instead\n",
            "  WithWaterBottle[\"722-26-28 COMMONWEALTH AVENUE\"] = int(grouped_df)\n"
          ]
        }
      ]
    },
    {
      "cell_type": "code",
      "source": [
        "grouped_df = dfWifi[dfWifi['building_desc'] == '730 COMMONWEALTH AVENUE']\n",
        "grouped_df = grouped_df.groupby(['building_desc', 'hour'])[['capacity']].mean().sum() / 1\n",
        "print(f\"On an average day, {int(grouped_df)} people benefitted per existing water bottle station at 730 COMMONWEALTH AVENUE\")\n",
        "WithWaterBottle[\"730 COMMONWEALTH AVENUE\"] = int(grouped_df)"
      ],
      "metadata": {
        "colab": {
          "base_uri": "https://localhost:8080/"
        },
        "id": "t6RGiM1cNLyi",
        "outputId": "d7bd64ab-6ca4-4209-825b-50a958cd186b"
      },
      "execution_count": 112,
      "outputs": [
        {
          "output_type": "stream",
          "name": "stdout",
          "text": [
            "On an average day, 2205 people benefitted per existing water bottle station at 730 COMMONWEALTH AVENUE\n"
          ]
        },
        {
          "output_type": "stream",
          "name": "stderr",
          "text": [
            "<ipython-input-112-8c458d2e3a4d>:3: FutureWarning: Calling int on a single element Series is deprecated and will raise a TypeError in the future. Use int(ser.iloc[0]) instead\n",
            "  print(f\"On an average day, {int(grouped_df)} people benefitted per existing water bottle station at 730 COMMONWEALTH AVENUE\")\n",
            "<ipython-input-112-8c458d2e3a4d>:4: FutureWarning: Calling int on a single element Series is deprecated and will raise a TypeError in the future. Use int(ser.iloc[0]) instead\n",
            "  WithWaterBottle[\"730 COMMONWEALTH AVENUE\"] = int(grouped_df)\n"
          ]
        }
      ]
    },
    {
      "cell_type": "code",
      "source": [
        "grouped_df = dfWifi[dfWifi['building_desc'] == \"8 ST. MARY'S STREET\"]\n",
        "grouped_df = grouped_df.groupby(['building_desc', 'hour'])[['capacity']].mean().sum() / 4\n",
        "print(f\"On an average day, {int(grouped_df)} people benefitted per existing water bottle station at 8 ST. MARY'S STREET\")\n",
        "WithWaterBottle[\"8 ST. MARY'S STREET\"] = int(grouped_df)"
      ],
      "metadata": {
        "colab": {
          "base_uri": "https://localhost:8080/"
        },
        "id": "Kij2I8JyNL0d",
        "outputId": "291af6ba-92f7-48d2-b681-eb483e2ab587"
      },
      "execution_count": 113,
      "outputs": [
        {
          "output_type": "stream",
          "name": "stdout",
          "text": [
            "On an average day, 721 people benefitted per existing water bottle station at 8 ST. MARY'S STREET\n"
          ]
        },
        {
          "output_type": "stream",
          "name": "stderr",
          "text": [
            "<ipython-input-113-860919f2e23f>:3: FutureWarning: Calling int on a single element Series is deprecated and will raise a TypeError in the future. Use int(ser.iloc[0]) instead\n",
            "  print(f\"On an average day, {int(grouped_df)} people benefitted per existing water bottle station at 8 ST. MARY'S STREET\")\n",
            "<ipython-input-113-860919f2e23f>:4: FutureWarning: Calling int on a single element Series is deprecated and will raise a TypeError in the future. Use int(ser.iloc[0]) instead\n",
            "  WithWaterBottle[\"8 ST. MARY'S STREET\"] = int(grouped_df)\n"
          ]
        }
      ]
    },
    {
      "cell_type": "code",
      "source": [
        "grouped_df = dfWifi[dfWifi['building_desc'] == '25 BUICK STREET']\n",
        "grouped_df = grouped_df.groupby(['building_desc', 'hour'])[['capacity']].mean().sum() / 1\n",
        "print(f\"On an average day, {int(grouped_df)} people benefitted per existing water bottle station at 25 BUICK STREET\")\n",
        "WithWaterBottle[\"25 BUICK STREET\"] = int(grouped_df)"
      ],
      "metadata": {
        "colab": {
          "base_uri": "https://localhost:8080/"
        },
        "id": "B_PZaJOZNL2l",
        "outputId": "a2cade27-e8c1-4bcc-fb14-db7c0b2b0867"
      },
      "execution_count": 114,
      "outputs": [
        {
          "output_type": "stream",
          "name": "stdout",
          "text": [
            "On an average day, 3624 people benefitted per existing water bottle station at 25 BUICK STREET\n"
          ]
        },
        {
          "output_type": "stream",
          "name": "stderr",
          "text": [
            "<ipython-input-114-05ef9d0c1659>:3: FutureWarning: Calling int on a single element Series is deprecated and will raise a TypeError in the future. Use int(ser.iloc[0]) instead\n",
            "  print(f\"On an average day, {int(grouped_df)} people benefitted per existing water bottle station at 25 BUICK STREET\")\n",
            "<ipython-input-114-05ef9d0c1659>:4: FutureWarning: Calling int on a single element Series is deprecated and will raise a TypeError in the future. Use int(ser.iloc[0]) instead\n",
            "  WithWaterBottle[\"25 BUICK STREET\"] = int(grouped_df)\n"
          ]
        }
      ]
    },
    {
      "cell_type": "code",
      "source": [
        "grouped_df = dfWifi[dfWifi['building_desc'] == '855 COMMONWEALTH AVENUE']\n",
        "grouped_df = grouped_df.groupby(['building_desc', 'hour'])[['capacity']].mean().sum() / 6\n",
        "print(f\"On an average day, {int(grouped_df)} people benefitted per existing water bottle station at 855 COMMONWEALTH AVENUE\")\n",
        "WithWaterBottle[\"855 COMMONWEALTH AVENUE\"] = int(grouped_df)"
      ],
      "metadata": {
        "colab": {
          "base_uri": "https://localhost:8080/"
        },
        "id": "vqP4MBCmNL43",
        "outputId": "09b15643-dc3a-449a-ced4-f11ebfae0990"
      },
      "execution_count": 115,
      "outputs": [
        {
          "output_type": "stream",
          "name": "stdout",
          "text": [
            "On an average day, 520 people benefitted per existing water bottle station at 855 COMMONWEALTH AVENUE\n"
          ]
        },
        {
          "output_type": "stream",
          "name": "stderr",
          "text": [
            "<ipython-input-115-d87e2a484129>:3: FutureWarning: Calling int on a single element Series is deprecated and will raise a TypeError in the future. Use int(ser.iloc[0]) instead\n",
            "  print(f\"On an average day, {int(grouped_df)} people benefitted per existing water bottle station at 855 COMMONWEALTH AVENUE\")\n",
            "<ipython-input-115-d87e2a484129>:4: FutureWarning: Calling int on a single element Series is deprecated and will raise a TypeError in the future. Use int(ser.iloc[0]) instead\n",
            "  WithWaterBottle[\"855 COMMONWEALTH AVENUE\"] = int(grouped_df)\n"
          ]
        }
      ]
    },
    {
      "cell_type": "code",
      "source": [
        "grouped_df = dfWifi[dfWifi['building_desc'] == '871 COMMONWEALTH AVENUE']\n",
        "grouped_df = grouped_df.groupby(['building_desc', 'hour'])[['capacity']].mean().sum() / 12\n",
        "print(f\"On an average day, {int(grouped_df)} people benefitted per existing water bottle station at 871 COMMONWEALTH AVENUE\")\n",
        "WithWaterBottle[\"871 COMMONWEALTH AVENUE\"] = int(grouped_df)"
      ],
      "metadata": {
        "colab": {
          "base_uri": "https://localhost:8080/"
        },
        "id": "6v9Wf9foNL7J",
        "outputId": "711eba8c-052d-4ae6-e8ec-6bcb0fea7c7e"
      },
      "execution_count": 116,
      "outputs": [
        {
          "output_type": "stream",
          "name": "stdout",
          "text": [
            "On an average day, 235 people benefitted per existing water bottle station at 871 COMMONWEALTH AVENUE\n"
          ]
        },
        {
          "output_type": "stream",
          "name": "stderr",
          "text": [
            "<ipython-input-116-7b3ce634561d>:3: FutureWarning: Calling int on a single element Series is deprecated and will raise a TypeError in the future. Use int(ser.iloc[0]) instead\n",
            "  print(f\"On an average day, {int(grouped_df)} people benefitted per existing water bottle station at 871 COMMONWEALTH AVENUE\")\n",
            "<ipython-input-116-7b3ce634561d>:4: FutureWarning: Calling int on a single element Series is deprecated and will raise a TypeError in the future. Use int(ser.iloc[0]) instead\n",
            "  WithWaterBottle[\"871 COMMONWEALTH AVENUE\"] = int(grouped_df)\n"
          ]
        }
      ]
    },
    {
      "cell_type": "code",
      "source": [
        "grouped_df = dfWifi[dfWifi['building_desc'] == '700 COMMONWEALTH AVENUE']\n",
        "grouped_df = grouped_df.groupby(['building_desc', 'hour'])[['capacity']].mean().sum() / 6\n",
        "print(f\"On an average day, {int(grouped_df)} people benefitted per existing water bottle station at 700 COMMONWEALTH AVENUE\")\n",
        "WithWaterBottle[\"700 COMMONWEALTH AVENUE\"] = int(grouped_df)"
      ],
      "metadata": {
        "colab": {
          "base_uri": "https://localhost:8080/"
        },
        "id": "qExZF36oNL9V",
        "outputId": "18cba8c6-fbe9-423d-c170-c280801698c2"
      },
      "execution_count": 117,
      "outputs": [
        {
          "output_type": "stream",
          "name": "stdout",
          "text": [
            "On an average day, 440 people benefitted per existing water bottle station at 700 COMMONWEALTH AVENUE\n"
          ]
        },
        {
          "output_type": "stream",
          "name": "stderr",
          "text": [
            "<ipython-input-117-7dd0d37538b6>:3: FutureWarning: Calling int on a single element Series is deprecated and will raise a TypeError in the future. Use int(ser.iloc[0]) instead\n",
            "  print(f\"On an average day, {int(grouped_df)} people benefitted per existing water bottle station at 700 COMMONWEALTH AVENUE\")\n",
            "<ipython-input-117-7dd0d37538b6>:4: FutureWarning: Calling int on a single element Series is deprecated and will raise a TypeError in the future. Use int(ser.iloc[0]) instead\n",
            "  WithWaterBottle[\"700 COMMONWEALTH AVENUE\"] = int(grouped_df)\n"
          ]
        }
      ]
    },
    {
      "cell_type": "code",
      "source": [
        "grouped_df = dfWifi[dfWifi['building_desc'] == '1019 COMMONWEALTH AVENUE']\n",
        "grouped_df = grouped_df.groupby(['building_desc', 'hour'])[['capacity']].mean().sum() / 6\n",
        "print(f\"On an average day, {int(grouped_df)} people benefitted per existing water bottle station at 1019 COMMONWEALTH AVENUE\")\n",
        "WithWaterBottle[\"1019 COMMONWEALTH AVENUE\"] = int(grouped_df)"
      ],
      "metadata": {
        "colab": {
          "base_uri": "https://localhost:8080/"
        },
        "id": "Ymp6j5U1NL_n",
        "outputId": "7efe6ba2-72b8-4c25-8e68-2704220a933c"
      },
      "execution_count": 118,
      "outputs": [
        {
          "output_type": "stream",
          "name": "stdout",
          "text": [
            "On an average day, 181 people benefitted per existing water bottle station at 1019 COMMONWEALTH AVENUE\n"
          ]
        },
        {
          "output_type": "stream",
          "name": "stderr",
          "text": [
            "<ipython-input-118-0f8f2e3636d2>:3: FutureWarning: Calling int on a single element Series is deprecated and will raise a TypeError in the future. Use int(ser.iloc[0]) instead\n",
            "  print(f\"On an average day, {int(grouped_df)} people benefitted per existing water bottle station at 1019 COMMONWEALTH AVENUE\")\n",
            "<ipython-input-118-0f8f2e3636d2>:4: FutureWarning: Calling int on a single element Series is deprecated and will raise a TypeError in the future. Use int(ser.iloc[0]) instead\n",
            "  WithWaterBottle[\"1019 COMMONWEALTH AVENUE\"] = int(grouped_df)\n"
          ]
        }
      ]
    },
    {
      "cell_type": "code",
      "source": [
        "grouped_df = dfWifi[dfWifi['building_desc'] == '91 BAY STATE ROAD']\n",
        "grouped_df = grouped_df.groupby(['building_desc', 'hour'])[['capacity']].mean().sum() / 2\n",
        "print(f\"On an average day, {int(grouped_df)} people benefitted per existing water bottle station at 91 BAY STATE ROAD\")\n",
        "WithWaterBottle[\"91 BAY STATE ROAD\"] = int(grouped_df)"
      ],
      "metadata": {
        "colab": {
          "base_uri": "https://localhost:8080/"
        },
        "id": "InhB0AC0NMB5",
        "outputId": "b2069ee0-4c9f-46ac-c12d-b470419fd5bf"
      },
      "execution_count": 119,
      "outputs": [
        {
          "output_type": "stream",
          "name": "stdout",
          "text": [
            "On an average day, 915 people benefitted per existing water bottle station at 91 BAY STATE ROAD\n"
          ]
        },
        {
          "output_type": "stream",
          "name": "stderr",
          "text": [
            "<ipython-input-119-c5374cad79ad>:3: FutureWarning: Calling int on a single element Series is deprecated and will raise a TypeError in the future. Use int(ser.iloc[0]) instead\n",
            "  print(f\"On an average day, {int(grouped_df)} people benefitted per existing water bottle station at 91 BAY STATE ROAD\")\n",
            "<ipython-input-119-c5374cad79ad>:4: FutureWarning: Calling int on a single element Series is deprecated and will raise a TypeError in the future. Use int(ser.iloc[0]) instead\n",
            "  WithWaterBottle[\"91 BAY STATE ROAD\"] = int(grouped_df)\n"
          ]
        }
      ]
    },
    {
      "cell_type": "code",
      "source": [
        "grouped_df = dfWifi[dfWifi['building_desc'] == '275 BABCOCK STREET']\n",
        "grouped_df = grouped_df.groupby(['building_desc', 'hour'])[['capacity']].mean().sum() / 1\n",
        "print(f\"On an average day, {int(grouped_df)} people benefitted per existing water bottle station at 275 BABCOCK STREET\")\n",
        "WithWaterBottle[\"275 BABCOCK STREET\"] = int(grouped_df)"
      ],
      "metadata": {
        "colab": {
          "base_uri": "https://localhost:8080/"
        },
        "id": "J_Y-NODENMEG",
        "outputId": "a5bf7193-15fd-4388-8cd9-9f6da004e531"
      },
      "execution_count": 120,
      "outputs": [
        {
          "output_type": "stream",
          "name": "stdout",
          "text": [
            "On an average day, 1727 people benefitted per existing water bottle station at 275 BABCOCK STREET\n"
          ]
        },
        {
          "output_type": "stream",
          "name": "stderr",
          "text": [
            "<ipython-input-120-86ee6ff630ec>:3: FutureWarning: Calling int on a single element Series is deprecated and will raise a TypeError in the future. Use int(ser.iloc[0]) instead\n",
            "  print(f\"On an average day, {int(grouped_df)} people benefitted per existing water bottle station at 275 BABCOCK STREET\")\n",
            "<ipython-input-120-86ee6ff630ec>:4: FutureWarning: Calling int on a single element Series is deprecated and will raise a TypeError in the future. Use int(ser.iloc[0]) instead\n",
            "  WithWaterBottle[\"275 BABCOCK STREET\"] = int(grouped_df)\n"
          ]
        }
      ]
    },
    {
      "cell_type": "code",
      "source": [
        "grouped_df = dfWifi[dfWifi['building_desc'] == '33 HARRY AGGANIS WAY']\n",
        "grouped_df = grouped_df.groupby(['building_desc', 'hour'])[['capacity']].mean().sum() / 2\n",
        "print(f\"On an average day, {int(grouped_df)} people benefitted per existing water bottle station at 33 HARRY AGGANIS WAY\")\n",
        "WithWaterBottle[\"33 HARRY AGGANIS WAY\"] = int(grouped_df)"
      ],
      "metadata": {
        "colab": {
          "base_uri": "https://localhost:8080/"
        },
        "id": "ABgDXOTNNMGd",
        "outputId": "e07c890a-b1c3-4d47-a640-ba45baedca1a"
      },
      "execution_count": 121,
      "outputs": [
        {
          "output_type": "stream",
          "name": "stdout",
          "text": [
            "On an average day, 633 people benefitted per existing water bottle station at 33 HARRY AGGANIS WAY\n"
          ]
        },
        {
          "output_type": "stream",
          "name": "stderr",
          "text": [
            "<ipython-input-121-4d28547be67a>:3: FutureWarning: Calling int on a single element Series is deprecated and will raise a TypeError in the future. Use int(ser.iloc[0]) instead\n",
            "  print(f\"On an average day, {int(grouped_df)} people benefitted per existing water bottle station at 33 HARRY AGGANIS WAY\")\n",
            "<ipython-input-121-4d28547be67a>:4: FutureWarning: Calling int on a single element Series is deprecated and will raise a TypeError in the future. Use int(ser.iloc[0]) instead\n",
            "  WithWaterBottle[\"33 HARRY AGGANIS WAY\"] = int(grouped_df)\n"
          ]
        }
      ]
    },
    {
      "cell_type": "markdown",
      "source": [
        "## Summary"
      ],
      "metadata": {
        "id": "HcrWZIqSRnmI"
      }
    },
    {
      "cell_type": "code",
      "source": [
        "for key, value in WithoutWaterBottle.items():\n",
        "    print(f\"    '{key}' : {value},\")"
      ],
      "metadata": {
        "colab": {
          "base_uri": "https://localhost:8080/"
        },
        "id": "mcVaPugtRopT",
        "outputId": "a89e1a31-f2db-4597-fc94-a5a28a91d32a"
      },
      "execution_count": 122,
      "outputs": [
        {
          "output_type": "stream",
          "name": "stdout",
          "text": [
            "    '209 BAY STATE ROAD' : 120,\n",
            "    '200-202 BAY STATE ROAD' : 199,\n",
            "    '184 BAY STATE ROAD' : 134,\n",
            "    '190 BAY STATE ROAD' : 146,\n",
            "    '161 BAY STATE ROAD' : 86,\n",
            "    '163 BAY STATE ROAD' : 70,\n",
            "    '159 BAY STATE ROAD' : 106,\n",
            "    '6 BUSWELL STREET' : 443,\n",
            "    '22 BUSWELL STREET' : 209,\n",
            "    '96 MOUNTFORT STREET' : 118,\n",
            "    '806-820 BEACON STREET' : 197,\n",
            "    '844 BEACON STREET' : 142,\n",
            "    '46 MOUNTFORT STREET' : 298,\n",
            "    '856-862 BEACON STREET' : 90,\n",
            "    '870-872 BEACON STREET' : 34,\n",
            "    '824-826 BEACON STREET' : 157,\n",
            "    '24 BUSWELL STREET' : 193,\n",
            "    '16 ARUNDEL STREET' : 71,\n",
            "    '834-836 BEACON STREET' : 128,\n",
            "    '830 BEACON STREET' : 68,\n",
            "    '98 MOUNTFORT STREET' : 148,\n",
            "    '1010 COMMONWEALTH AVENUE' : 1457,\n",
            "    '930-940 COMMONWEALTH AVENUE' : 6202,\n",
            "    '186 BAY STATE ROAD' : 69,\n",
            "    '10 BUICK STREET' : 1081,\n",
            "    '900 COMMONWEALTH AVENUE' : 4106,\n",
            "    '38 BUSWELL STREET' : 116,\n",
            "    '44 BUSWELL STREET' : 3,\n",
            "    '48 BUSWELL STREET' : 5,\n",
            "    '1053 BEACON STREET' : 28,\n",
            "    '483 COMMONWEALTH AVENUE' : 1,\n",
            "    '2 BUSWELL STREET' : 20,\n",
            "    '210-212 BAY STATE ROAD' : 197,\n",
            "    '10 LENOX STREET' : 659,\n",
            "    '540 COMMONWEALTH AVENUE' : 563,\n",
            "    '90-92 BAY STATE ROAD' : 184,\n",
            "    '30 HARRY AGGANIS WAY' : 0,\n"
          ]
        }
      ]
    },
    {
      "cell_type": "code",
      "source": [
        "for key, value in WithWaterBottle.items():\n",
        "    print(f\"    '{key}' : {value},\")"
      ],
      "metadata": {
        "colab": {
          "base_uri": "https://localhost:8080/"
        },
        "id": "KrbNv01-Rtnr",
        "outputId": "502464b6-11e7-4aad-ed6a-3f9779f364b1"
      },
      "execution_count": 123,
      "outputs": [
        {
          "output_type": "stream",
          "name": "stdout",
          "text": [
            "    '771 COMMONWEALTH AVENUE' : 355,\n",
            "    '775 COMMONWEALTH AVENUE' : 929,\n",
            "    '1 UNIVERSITY ROAD' : 804,\n",
            "    '745 - 755 COMMONWEALTH AVENUE' : 396,\n",
            "    '264-270 BAY STATE ROAD' : 368,\n",
            "    '635 COMMONWEALTH AVENUE' : 381,\n",
            "    '2 SILBER WAY'' : 245,\n",
            "    '595 COMMONWEALTH AVENUE' : 502,\n",
            "    '285 BABCOCK STREET' : 1626,\n",
            "    '120 ASHFORD STREET' : 2018,\n",
            "    '100 ASHFORD STREET' : 8905,\n",
            "    '590 COMMONWEALTH AVENUE' : 852,\n",
            "    '722-26-28 COMMONWEALTH AVENUE' : 119,\n",
            "    '730 COMMONWEALTH AVENUE' : 2205,\n",
            "    '8 ST. MARY'S STREET' : 721,\n",
            "    '25 BUICK STREET' : 3624,\n",
            "    '855 COMMONWEALTH AVENUE' : 520,\n",
            "    '871 COMMONWEALTH AVENUE' : 235,\n",
            "    '700 COMMONWEALTH AVENUE' : 440,\n",
            "    '1019 COMMONWEALTH AVENUE' : 181,\n",
            "    '91 BAY STATE ROAD' : 915,\n",
            "    '275 BABCOCK STREET' : 1727,\n",
            "    '33 HARRY AGGANIS WAY' : 633,\n"
          ]
        }
      ]
    },
    {
      "cell_type": "markdown",
      "source": [
        "# Second 1/4 data -- done by Ryan"
      ],
      "metadata": {
        "id": "qjNYhf2UdNho"
      }
    },
    {
      "cell_type": "code",
      "source": [
        "no_water_station = ['17 BUSWELL STREET', '35 BUSWELL STREET', '187 BAY STATE ROAD', '710 COMMONWEALTH AVENUE', '25 ABERDEEN STREET',\n",
        "                    '515 PARK DRIVE', '171 BAY STATE ROAD', '278 BABCOCK STREET', '81 BAY STATE ROAD', '34 BUSWELL STREET',\n",
        "                    '163-179 AMORY STREET', '112 BAY STATE ROAD','135 BAY STATE ROAD', '139 BAY STATE ROAD', '580 COMMONWEALTH AVENUE',\n",
        "                    '31 BUSWELL STREET', '500-504 PARK DRIVE', '949 COMMONWEALTH AVENUE', '32 HARRY AGGANIS WAY', '11 BUSWELL STREET',\n",
        "                    '514-522 PARK DRIVE', '41 BUSWELL STREET', '50-52 BUSWELL STREET', '80-82 IVY STREET', '3 BUSWELL STREET',\n",
        "                    '29 BUSWELL STREET', '43 BUSWELL STREET', '55 BUSWELL STREET', '1A BUSWELL STREET', '15 BUSWELL STREET',\n",
        "                    '33 BUSWELL STREET', '79 BAY STATE ROAD', '2 RALEIGH STREET', '481 COMMONWEALTH AVENUE', '94 BAY STATE ROAD',\n",
        "                    '192 BAY STATE ROAD', '153 BAY STATE ROAD', '164 BAY STATE ROAD', '167-169 BAY STATE ROAD', '158-162 BAY STATE ROAD',\n",
        "                    '176 BAY STATE ROAD', '175 BAY STATE ROAD', '166-168 BAY STATE ROAD', '182 BAY STATE ROAD', '208 BAY STATE ROAD',\n",
        "                    '206 BAY STATE ROAD', '198 BAY STATE ROAD']\n",
        "\n",
        "yes_water_station = []\n",
        "\n",
        "for building in ryanData:\n",
        "    if building not in no_water_station:\n",
        "        yes_water_station.append(building)\n",
        "        print(building)"
      ],
      "metadata": {
        "id": "T0bZCc1ClKzl",
        "colab": {
          "base_uri": "https://localhost:8080/"
        },
        "outputId": "763717e1-d8f3-400a-a890-f41365c77cb3"
      },
      "execution_count": 124,
      "outputs": [
        {
          "output_type": "stream",
          "name": "stdout",
          "text": [
            "140 BAY STATE ROAD\n",
            "925 COMMONWEALTH AVENUE\n",
            "517-521 BEACON STREET\n",
            "48-52 CUMMINGTON MALL\n",
            "808 COMMONWEALTH AVENUE\n",
            "575 COMMONWEALTH AVENUE\n",
            "273 BABCOCK STREET\n",
            "277 BABCOCK STREET\n",
            "640 COMMONWEALTH AVENUE\n",
            "890 COMMONWEALTH AVENUE\n",
            "915 COMMONWEALTH AVENUE\n",
            "610 BEACON STREET\n",
            "512 BEACON STREET\n"
          ]
        }
      ]
    },
    {
      "cell_type": "markdown",
      "source": [
        "## Wifi Stations Without Water Bottle Filling Station"
      ],
      "metadata": {
        "id": "gselehvudfnR"
      }
    },
    {
      "cell_type": "code",
      "source": [
        "no_water = {}\n",
        "total_water = {}\n",
        "\n",
        "for building in no_water_station:\n",
        "    grouped_df = dfWifi[dfWifi['building_desc'] == building]\n",
        "    grouped_df = grouped_df.groupby(['building_desc', 'hour'])[['capacity']].mean().sum()\n",
        "    print(f\"On an average day, {int(grouped_df.iloc[0])} people will benefit from a water bottle station at \" + building)\n",
        "    no_water[building] = int(grouped_df.iloc[0])\n",
        "    total_water[building.title()] = int(grouped_df.iloc[0])"
      ],
      "metadata": {
        "colab": {
          "base_uri": "https://localhost:8080/"
        },
        "id": "DfHPwQSBdbbj",
        "outputId": "0e22fab5-ed14-4620-fd35-28590d8b0ed4"
      },
      "execution_count": 125,
      "outputs": [
        {
          "output_type": "stream",
          "name": "stdout",
          "text": [
            "On an average day, 75 people will benefit from a water bottle station at 17 BUSWELL STREET\n",
            "On an average day, 45 people will benefit from a water bottle station at 35 BUSWELL STREET\n",
            "On an average day, 0 people will benefit from a water bottle station at 187 BAY STATE ROAD\n",
            "On an average day, 67 people will benefit from a water bottle station at 710 COMMONWEALTH AVENUE\n",
            "On an average day, 11 people will benefit from a water bottle station at 25 ABERDEEN STREET\n",
            "On an average day, 2 people will benefit from a water bottle station at 515 PARK DRIVE\n",
            "On an average day, 59 people will benefit from a water bottle station at 171 BAY STATE ROAD\n",
            "On an average day, 0 people will benefit from a water bottle station at 278 BABCOCK STREET\n",
            "On an average day, 97 people will benefit from a water bottle station at 81 BAY STATE ROAD\n",
            "On an average day, 154 people will benefit from a water bottle station at 34 BUSWELL STREET\n",
            "On an average day, 1359 people will benefit from a water bottle station at 163-179 AMORY STREET\n",
            "On an average day, 48 people will benefit from a water bottle station at 112 BAY STATE ROAD\n",
            "On an average day, 139 people will benefit from a water bottle station at 135 BAY STATE ROAD\n",
            "On an average day, 40 people will benefit from a water bottle station at 139 BAY STATE ROAD\n",
            "On an average day, 845 people will benefit from a water bottle station at 580 COMMONWEALTH AVENUE\n",
            "On an average day, 69 people will benefit from a water bottle station at 31 BUSWELL STREET\n",
            "On an average day, 236 people will benefit from a water bottle station at 500-504 PARK DRIVE\n",
            "On an average day, 830 people will benefit from a water bottle station at 949 COMMONWEALTH AVENUE\n",
            "On an average day, 359 people will benefit from a water bottle station at 32 HARRY AGGANIS WAY\n",
            "On an average day, 89 people will benefit from a water bottle station at 11 BUSWELL STREET\n",
            "On an average day, 598 people will benefit from a water bottle station at 514-522 PARK DRIVE\n",
            "On an average day, 66 people will benefit from a water bottle station at 41 BUSWELL STREET\n",
            "On an average day, 295 people will benefit from a water bottle station at 50-52 BUSWELL STREET\n",
            "On an average day, 409 people will benefit from a water bottle station at 80-82 IVY STREET\n",
            "On an average day, 68 people will benefit from a water bottle station at 3 BUSWELL STREET\n",
            "On an average day, 136 people will benefit from a water bottle station at 29 BUSWELL STREET\n",
            "On an average day, 94 people will benefit from a water bottle station at 43 BUSWELL STREET\n",
            "On an average day, 276 people will benefit from a water bottle station at 55 BUSWELL STREET\n",
            "On an average day, 98 people will benefit from a water bottle station at 1A BUSWELL STREET\n",
            "On an average day, 55 people will benefit from a water bottle station at 15 BUSWELL STREET\n",
            "On an average day, 93 people will benefit from a water bottle station at 33 BUSWELL STREET\n",
            "On an average day, 165 people will benefit from a water bottle station at 79 BAY STATE ROAD\n",
            "On an average day, 81 people will benefit from a water bottle station at 2 RALEIGH STREET\n",
            "On an average day, 105 people will benefit from a water bottle station at 481 COMMONWEALTH AVENUE\n",
            "On an average day, 61 people will benefit from a water bottle station at 94 BAY STATE ROAD\n",
            "On an average day, 114 people will benefit from a water bottle station at 192 BAY STATE ROAD\n",
            "On an average day, 105 people will benefit from a water bottle station at 153 BAY STATE ROAD\n",
            "On an average day, 66 people will benefit from a water bottle station at 164 BAY STATE ROAD\n",
            "On an average day, 187 people will benefit from a water bottle station at 167-169 BAY STATE ROAD\n",
            "On an average day, 187 people will benefit from a water bottle station at 158-162 BAY STATE ROAD\n",
            "On an average day, 94 people will benefit from a water bottle station at 176 BAY STATE ROAD\n",
            "On an average day, 123 people will benefit from a water bottle station at 175 BAY STATE ROAD\n",
            "On an average day, 175 people will benefit from a water bottle station at 166-168 BAY STATE ROAD\n",
            "On an average day, 93 people will benefit from a water bottle station at 182 BAY STATE ROAD\n",
            "On an average day, 121 people will benefit from a water bottle station at 208 BAY STATE ROAD\n",
            "On an average day, 122 people will benefit from a water bottle station at 206 BAY STATE ROAD\n",
            "On an average day, 88 people will benefit from a water bottle station at 198 BAY STATE ROAD\n"
          ]
        }
      ]
    },
    {
      "cell_type": "markdown",
      "source": [
        "## Wifi Stations With Water Bottle Filling Station"
      ],
      "metadata": {
        "id": "t9kQAv83dpgU"
      }
    },
    {
      "cell_type": "code",
      "source": [
        "yes_water = {}\n",
        "\n",
        "for building in yes_water_station:\n",
        "    grouped_df = dfWifi[dfWifi['building_desc'] == building]\n",
        "    grouped_df = grouped_df.groupby(['building_desc', 'hour'])[['capacity']].mean().sum()\n",
        "    print(f\"On an average day, {int(grouped_df.iloc[0])} people benefitted from the existing water bottle station at \" + building)\n",
        "    yes_water[building] = int(grouped_df.iloc[0])\n",
        "    total_water[building.title()] = int(grouped_df.iloc[0])"
      ],
      "metadata": {
        "colab": {
          "base_uri": "https://localhost:8080/"
        },
        "id": "fw9NzRmwdmrE",
        "outputId": "70103629-7635-4cd8-914c-0eed65034b48"
      },
      "execution_count": 126,
      "outputs": [
        {
          "output_type": "stream",
          "name": "stdout",
          "text": [
            "On an average day, 905 people benefitted from the existing water bottle station at 140 BAY STATE ROAD\n",
            "On an average day, 41 people benefitted from the existing water bottle station at 925 COMMONWEALTH AVENUE\n",
            "On an average day, 304 people benefitted from the existing water bottle station at 517-521 BEACON STREET\n",
            "On an average day, 658 people benefitted from the existing water bottle station at 48-52 CUMMINGTON MALL\n",
            "On an average day, 4009 people benefitted from the existing water bottle station at 808 COMMONWEALTH AVENUE\n",
            "On an average day, 1228 people benefitted from the existing water bottle station at 575 COMMONWEALTH AVENUE\n",
            "On an average day, 952 people benefitted from the existing water bottle station at 273 BABCOCK STREET\n",
            "On an average day, 1012 people benefitted from the existing water bottle station at 277 BABCOCK STREET\n",
            "On an average day, 2569 people benefitted from the existing water bottle station at 640 COMMONWEALTH AVENUE\n",
            "On an average day, 3494 people benefitted from the existing water bottle station at 890 COMMONWEALTH AVENUE\n",
            "On an average day, 2739 people benefitted from the existing water bottle station at 915 COMMONWEALTH AVENUE\n",
            "On an average day, 1752 people benefitted from the existing water bottle station at 610 BEACON STREET\n",
            "On an average day, 572 people benefitted from the existing water bottle station at 512 BEACON STREET\n"
          ]
        }
      ]
    },
    {
      "cell_type": "code",
      "source": [
        "dfInventory.head(5)"
      ],
      "metadata": {
        "colab": {
          "base_uri": "https://localhost:8080/",
          "height": 276
        },
        "id": "C1MtyC9wdqoe",
        "outputId": "a060c780-c100-4cee-c503-89926ac2ada4"
      },
      "execution_count": 127,
      "outputs": [
        {
          "output_type": "execute_result",
          "data": {
            "text/plain": [
              "               Address    Floor   \\\n",
              "0       100 Ashford St     First   \n",
              "1       120 Ashford St     First   \n",
              "2       120 Ashford St    Second   \n",
              "3  8 St. Mary's Street  Basement   \n",
              "4  8 St. Mary's Street     First   \n",
              "\n",
              "                                         Description Space@Bu room  Quantity  \\\n",
              "0  Hallway across from vending machines, across f...           191       1.0   \n",
              "1                             Kitchenette, Room 116A          116A       1.0   \n",
              "2                              Kitchenette, Room 222           222       1.0   \n",
              "3                               Hallway by bathrooms           B81       1.0   \n",
              "4                         Hallway by electrical room           181       1.0   \n",
              "\n",
              "                                     Walk-Thru Notes  \n",
              "0  two additional drinking fountain locations in ...  \n",
              "1                                                NaN  \n",
              "2                                                NaN  \n",
              "3                                                NaN  \n",
              "4                                                NaN  "
            ],
            "text/html": [
              "\n",
              "  <div id=\"df-be978e93-0020-4c8c-9a6c-e70e7a1c4f1b\" class=\"colab-df-container\">\n",
              "    <div>\n",
              "<style scoped>\n",
              "    .dataframe tbody tr th:only-of-type {\n",
              "        vertical-align: middle;\n",
              "    }\n",
              "\n",
              "    .dataframe tbody tr th {\n",
              "        vertical-align: top;\n",
              "    }\n",
              "\n",
              "    .dataframe thead th {\n",
              "        text-align: right;\n",
              "    }\n",
              "</style>\n",
              "<table border=\"1\" class=\"dataframe\">\n",
              "  <thead>\n",
              "    <tr style=\"text-align: right;\">\n",
              "      <th></th>\n",
              "      <th>Address</th>\n",
              "      <th>Floor</th>\n",
              "      <th>Description</th>\n",
              "      <th>Space@Bu room</th>\n",
              "      <th>Quantity</th>\n",
              "      <th>Walk-Thru Notes</th>\n",
              "    </tr>\n",
              "  </thead>\n",
              "  <tbody>\n",
              "    <tr>\n",
              "      <th>0</th>\n",
              "      <td>100 Ashford St</td>\n",
              "      <td>First</td>\n",
              "      <td>Hallway across from vending machines, across f...</td>\n",
              "      <td>191</td>\n",
              "      <td>1.0</td>\n",
              "      <td>two additional drinking fountain locations in ...</td>\n",
              "    </tr>\n",
              "    <tr>\n",
              "      <th>1</th>\n",
              "      <td>120 Ashford St</td>\n",
              "      <td>First</td>\n",
              "      <td>Kitchenette, Room 116A</td>\n",
              "      <td>116A</td>\n",
              "      <td>1.0</td>\n",
              "      <td>NaN</td>\n",
              "    </tr>\n",
              "    <tr>\n",
              "      <th>2</th>\n",
              "      <td>120 Ashford St</td>\n",
              "      <td>Second</td>\n",
              "      <td>Kitchenette, Room 222</td>\n",
              "      <td>222</td>\n",
              "      <td>1.0</td>\n",
              "      <td>NaN</td>\n",
              "    </tr>\n",
              "    <tr>\n",
              "      <th>3</th>\n",
              "      <td>8 St. Mary's Street</td>\n",
              "      <td>Basement</td>\n",
              "      <td>Hallway by bathrooms</td>\n",
              "      <td>B81</td>\n",
              "      <td>1.0</td>\n",
              "      <td>NaN</td>\n",
              "    </tr>\n",
              "    <tr>\n",
              "      <th>4</th>\n",
              "      <td>8 St. Mary's Street</td>\n",
              "      <td>First</td>\n",
              "      <td>Hallway by electrical room</td>\n",
              "      <td>181</td>\n",
              "      <td>1.0</td>\n",
              "      <td>NaN</td>\n",
              "    </tr>\n",
              "  </tbody>\n",
              "</table>\n",
              "</div>\n",
              "    <div class=\"colab-df-buttons\">\n",
              "\n",
              "  <div class=\"colab-df-container\">\n",
              "    <button class=\"colab-df-convert\" onclick=\"convertToInteractive('df-be978e93-0020-4c8c-9a6c-e70e7a1c4f1b')\"\n",
              "            title=\"Convert this dataframe to an interactive table.\"\n",
              "            style=\"display:none;\">\n",
              "\n",
              "  <svg xmlns=\"http://www.w3.org/2000/svg\" height=\"24px\" viewBox=\"0 -960 960 960\">\n",
              "    <path d=\"M120-120v-720h720v720H120Zm60-500h600v-160H180v160Zm220 220h160v-160H400v160Zm0 220h160v-160H400v160ZM180-400h160v-160H180v160Zm440 0h160v-160H620v160ZM180-180h160v-160H180v160Zm440 0h160v-160H620v160Z\"/>\n",
              "  </svg>\n",
              "    </button>\n",
              "\n",
              "  <style>\n",
              "    .colab-df-container {\n",
              "      display:flex;\n",
              "      gap: 12px;\n",
              "    }\n",
              "\n",
              "    .colab-df-convert {\n",
              "      background-color: #E8F0FE;\n",
              "      border: none;\n",
              "      border-radius: 50%;\n",
              "      cursor: pointer;\n",
              "      display: none;\n",
              "      fill: #1967D2;\n",
              "      height: 32px;\n",
              "      padding: 0 0 0 0;\n",
              "      width: 32px;\n",
              "    }\n",
              "\n",
              "    .colab-df-convert:hover {\n",
              "      background-color: #E2EBFA;\n",
              "      box-shadow: 0px 1px 2px rgba(60, 64, 67, 0.3), 0px 1px 3px 1px rgba(60, 64, 67, 0.15);\n",
              "      fill: #174EA6;\n",
              "    }\n",
              "\n",
              "    .colab-df-buttons div {\n",
              "      margin-bottom: 4px;\n",
              "    }\n",
              "\n",
              "    [theme=dark] .colab-df-convert {\n",
              "      background-color: #3B4455;\n",
              "      fill: #D2E3FC;\n",
              "    }\n",
              "\n",
              "    [theme=dark] .colab-df-convert:hover {\n",
              "      background-color: #434B5C;\n",
              "      box-shadow: 0px 1px 3px 1px rgba(0, 0, 0, 0.15);\n",
              "      filter: drop-shadow(0px 1px 2px rgba(0, 0, 0, 0.3));\n",
              "      fill: #FFFFFF;\n",
              "    }\n",
              "  </style>\n",
              "\n",
              "    <script>\n",
              "      const buttonEl =\n",
              "        document.querySelector('#df-be978e93-0020-4c8c-9a6c-e70e7a1c4f1b button.colab-df-convert');\n",
              "      buttonEl.style.display =\n",
              "        google.colab.kernel.accessAllowed ? 'block' : 'none';\n",
              "\n",
              "      async function convertToInteractive(key) {\n",
              "        const element = document.querySelector('#df-be978e93-0020-4c8c-9a6c-e70e7a1c4f1b');\n",
              "        const dataTable =\n",
              "          await google.colab.kernel.invokeFunction('convertToInteractive',\n",
              "                                                    [key], {});\n",
              "        if (!dataTable) return;\n",
              "\n",
              "        const docLinkHtml = 'Like what you see? Visit the ' +\n",
              "          '<a target=\"_blank\" href=https://colab.research.google.com/notebooks/data_table.ipynb>data table notebook</a>'\n",
              "          + ' to learn more about interactive tables.';\n",
              "        element.innerHTML = '';\n",
              "        dataTable['output_type'] = 'display_data';\n",
              "        await google.colab.output.renderOutput(dataTable, element);\n",
              "        const docLink = document.createElement('div');\n",
              "        docLink.innerHTML = docLinkHtml;\n",
              "        element.appendChild(docLink);\n",
              "      }\n",
              "    </script>\n",
              "  </div>\n",
              "\n",
              "\n",
              "<div id=\"df-1928588c-51df-4e12-bd33-039b76df3d5d\">\n",
              "  <button class=\"colab-df-quickchart\" onclick=\"quickchart('df-1928588c-51df-4e12-bd33-039b76df3d5d')\"\n",
              "            title=\"Suggest charts\"\n",
              "            style=\"display:none;\">\n",
              "\n",
              "<svg xmlns=\"http://www.w3.org/2000/svg\" height=\"24px\"viewBox=\"0 0 24 24\"\n",
              "     width=\"24px\">\n",
              "    <g>\n",
              "        <path d=\"M19 3H5c-1.1 0-2 .9-2 2v14c0 1.1.9 2 2 2h14c1.1 0 2-.9 2-2V5c0-1.1-.9-2-2-2zM9 17H7v-7h2v7zm4 0h-2V7h2v10zm4 0h-2v-4h2v4z\"/>\n",
              "    </g>\n",
              "</svg>\n",
              "  </button>\n",
              "\n",
              "<style>\n",
              "  .colab-df-quickchart {\n",
              "      --bg-color: #E8F0FE;\n",
              "      --fill-color: #1967D2;\n",
              "      --hover-bg-color: #E2EBFA;\n",
              "      --hover-fill-color: #174EA6;\n",
              "      --disabled-fill-color: #AAA;\n",
              "      --disabled-bg-color: #DDD;\n",
              "  }\n",
              "\n",
              "  [theme=dark] .colab-df-quickchart {\n",
              "      --bg-color: #3B4455;\n",
              "      --fill-color: #D2E3FC;\n",
              "      --hover-bg-color: #434B5C;\n",
              "      --hover-fill-color: #FFFFFF;\n",
              "      --disabled-bg-color: #3B4455;\n",
              "      --disabled-fill-color: #666;\n",
              "  }\n",
              "\n",
              "  .colab-df-quickchart {\n",
              "    background-color: var(--bg-color);\n",
              "    border: none;\n",
              "    border-radius: 50%;\n",
              "    cursor: pointer;\n",
              "    display: none;\n",
              "    fill: var(--fill-color);\n",
              "    height: 32px;\n",
              "    padding: 0;\n",
              "    width: 32px;\n",
              "  }\n",
              "\n",
              "  .colab-df-quickchart:hover {\n",
              "    background-color: var(--hover-bg-color);\n",
              "    box-shadow: 0 1px 2px rgba(60, 64, 67, 0.3), 0 1px 3px 1px rgba(60, 64, 67, 0.15);\n",
              "    fill: var(--button-hover-fill-color);\n",
              "  }\n",
              "\n",
              "  .colab-df-quickchart-complete:disabled,\n",
              "  .colab-df-quickchart-complete:disabled:hover {\n",
              "    background-color: var(--disabled-bg-color);\n",
              "    fill: var(--disabled-fill-color);\n",
              "    box-shadow: none;\n",
              "  }\n",
              "\n",
              "  .colab-df-spinner {\n",
              "    border: 2px solid var(--fill-color);\n",
              "    border-color: transparent;\n",
              "    border-bottom-color: var(--fill-color);\n",
              "    animation:\n",
              "      spin 1s steps(1) infinite;\n",
              "  }\n",
              "\n",
              "  @keyframes spin {\n",
              "    0% {\n",
              "      border-color: transparent;\n",
              "      border-bottom-color: var(--fill-color);\n",
              "      border-left-color: var(--fill-color);\n",
              "    }\n",
              "    20% {\n",
              "      border-color: transparent;\n",
              "      border-left-color: var(--fill-color);\n",
              "      border-top-color: var(--fill-color);\n",
              "    }\n",
              "    30% {\n",
              "      border-color: transparent;\n",
              "      border-left-color: var(--fill-color);\n",
              "      border-top-color: var(--fill-color);\n",
              "      border-right-color: var(--fill-color);\n",
              "    }\n",
              "    40% {\n",
              "      border-color: transparent;\n",
              "      border-right-color: var(--fill-color);\n",
              "      border-top-color: var(--fill-color);\n",
              "    }\n",
              "    60% {\n",
              "      border-color: transparent;\n",
              "      border-right-color: var(--fill-color);\n",
              "    }\n",
              "    80% {\n",
              "      border-color: transparent;\n",
              "      border-right-color: var(--fill-color);\n",
              "      border-bottom-color: var(--fill-color);\n",
              "    }\n",
              "    90% {\n",
              "      border-color: transparent;\n",
              "      border-bottom-color: var(--fill-color);\n",
              "    }\n",
              "  }\n",
              "</style>\n",
              "\n",
              "  <script>\n",
              "    async function quickchart(key) {\n",
              "      const quickchartButtonEl =\n",
              "        document.querySelector('#' + key + ' button');\n",
              "      quickchartButtonEl.disabled = true;  // To prevent multiple clicks.\n",
              "      quickchartButtonEl.classList.add('colab-df-spinner');\n",
              "      try {\n",
              "        const charts = await google.colab.kernel.invokeFunction(\n",
              "            'suggestCharts', [key], {});\n",
              "      } catch (error) {\n",
              "        console.error('Error during call to suggestCharts:', error);\n",
              "      }\n",
              "      quickchartButtonEl.classList.remove('colab-df-spinner');\n",
              "      quickchartButtonEl.classList.add('colab-df-quickchart-complete');\n",
              "    }\n",
              "    (() => {\n",
              "      let quickchartButtonEl =\n",
              "        document.querySelector('#df-1928588c-51df-4e12-bd33-039b76df3d5d button');\n",
              "      quickchartButtonEl.style.display =\n",
              "        google.colab.kernel.accessAllowed ? 'block' : 'none';\n",
              "    })();\n",
              "  </script>\n",
              "</div>\n",
              "\n",
              "    </div>\n",
              "  </div>\n"
            ],
            "application/vnd.google.colaboratory.intrinsic+json": {
              "type": "dataframe",
              "variable_name": "dfInventory",
              "summary": "{\n  \"name\": \"dfInventory\",\n  \"rows\": 212,\n  \"fields\": [\n    {\n      \"column\": \"Address\",\n      \"properties\": {\n        \"dtype\": \"category\",\n        \"num_unique_values\": 68,\n        \"samples\": [\n          \"871 Commonwealth Ave\",\n          \"270 Bay State Road\",\n          \"275 Babcock St\"\n        ],\n        \"semantic_type\": \"\",\n        \"description\": \"\"\n      }\n    },\n    {\n      \"column\": \"Floor \",\n      \"properties\": {\n        \"dtype\": \"category\",\n        \"num_unique_values\": 26,\n        \"samples\": [\n          \"Eighth\",\n          \"Fifteenth\",\n          \"First\"\n        ],\n        \"semantic_type\": \"\",\n        \"description\": \"\"\n      }\n    },\n    {\n      \"column\": \"Description\",\n      \"properties\": {\n        \"dtype\": \"category\",\n        \"num_unique_values\": 87,\n        \"samples\": [\n          \"Near Ramp/bathrooms \",\n          \"Hallway across from vending machines, across from Room 180, turn right from the lobby\",\n          \"Room 251\"\n        ],\n        \"semantic_type\": \"\",\n        \"description\": \"\"\n      }\n    },\n    {\n      \"column\": \"Space@Bu room\",\n      \"properties\": {\n        \"dtype\": \"string\",\n        \"num_unique_values\": 136,\n        \"samples\": [\n          \"382\",\n          \"214\",\n          \"B90\"\n        ],\n        \"semantic_type\": \"\",\n        \"description\": \"\"\n      }\n    },\n    {\n      \"column\": \"Quantity\",\n      \"properties\": {\n        \"dtype\": \"number\",\n        \"std\": 24.798727884193436,\n        \"min\": 1.0,\n        \"max\": 255.0,\n        \"num_unique_values\": 6,\n        \"samples\": [\n          1.0,\n          2.0,\n          255.0\n        ],\n        \"semantic_type\": \"\",\n        \"description\": \"\"\n      }\n    },\n    {\n      \"column\": \"Walk-Thru Notes\",\n      \"properties\": {\n        \"dtype\": \"category\",\n        \"num_unique_values\": 23,\n        \"samples\": [\n          \"it looks like there might be 2 in this area\",\n          \"Not sure exactly where this is\",\n          \"two additional drinking fountain locations in the building are candidates for bottle fillers; one near Media Room 112; one near loading dock at west end of track\"\n        ],\n        \"semantic_type\": \"\",\n        \"description\": \"\"\n      }\n    }\n  ]\n}"
            }
          },
          "metadata": {},
          "execution_count": 127
        }
      ]
    },
    {
      "cell_type": "code",
      "source": [
        "stations_multiple_floors = {}\n",
        "\n",
        "for idx, row in dfInventory.iterrows():\n",
        "    address = row['Address']\n",
        "    quantity = row['Quantity']\n",
        "\n",
        "    if address not in stations_multiple_floors:\n",
        "        stations_multiple_floors[address] = quantity\n",
        "    else:\n",
        "        stations_multiple_floors[address] += quantity\n",
        "\n",
        "for address in total_water:\n",
        "    if address in stations_multiple_floors:\n",
        "        quantity = stations_multiple_floors[address]\n",
        "        print(f\"On an average day, {total_water[address] / quantity} people benefitted per floor from the existing water bottle station at {address} with {quantity} floors\")\n",
        "\n"
      ],
      "metadata": {
        "colab": {
          "base_uri": "https://localhost:8080/"
        },
        "id": "a6psr7QBdsGt",
        "outputId": "e2653d87-a7cb-46c5-e163-9458c8b51bbc"
      },
      "execution_count": 128,
      "outputs": [
        {
          "output_type": "stream",
          "name": "stdout",
          "text": [
            "On an average day, 452.5 people benefitted per floor from the existing water bottle station at 140 Bay State Road with 2.0 floors\n"
          ]
        }
      ]
    },
    {
      "cell_type": "markdown",
      "source": [
        "# Third 1/4 data -- done by Junho"
      ],
      "metadata": {
        "id": "PxFks1didzdU"
      }
    },
    {
      "cell_type": "code",
      "source": [
        "print(junhoData)"
      ],
      "metadata": {
        "colab": {
          "base_uri": "https://localhost:8080/"
        },
        "id": "1cv1B-Uods_8",
        "outputId": "ad9d648e-d1dd-4ab6-af21-867befecd140"
      },
      "execution_count": 129,
      "outputs": [
        {
          "output_type": "stream",
          "name": "stdout",
          "text": [
            "['177 BAY STATE ROAD' '179 BAY STATE ROAD' '157 BAY STATE ROAD'\n",
            " '195-197 BAY STATE ROAD' '203 BAY STATE ROAD' '181 BAY STATE ROAD'\n",
            " '627-629 COMMONWEALTH AVENUE' '173 BAY STATE ROAD' '178 BAY STATE ROAD'\n",
            " '205 BAY STATE ROAD' '96-100 CUMMINGTON MALL' '42 BUSWELL STREET'\n",
            " '852 BEACON STREET' '848 BEACON STREET' '864 BEACON STREET'\n",
            " '133 BAY STATE ROAD' '625 COMMONWEALTH AVENUE' '832 BEACON STREET'\n",
            " '881 COMMONWEALTH AVENUE' '141 BAY STATE ROAD' '117 BAY STATE ROAD'\n",
            " '53 BAY STATE ROAD' '67 BAY STATE ROAD' '100 BAY STATE ROAD'\n",
            " '110 BAY STATE ROAD' '115 BAY STATE ROAD' '704 COMMONWEALTH AVENUE'\n",
            " '610 COMMONWEALTH AVENUE' '928 COMMONWEALTH AVENUE' '141 CARLTON STREET'\n",
            " '985 COMMONWEALTH AVENUE' '888 COMMONWEALTH AVENUE'\n",
            " '37-39 CARLTON STREET' '1 BUSWELL STREET' '5 BUSWELL STREET'\n",
            " '37 BUSWELL STREET' '39 BUSWELL STREET' '45 BUSWELL STREET'\n",
            " '47 BUSWELL STREET' '7 BUSWELL STREET' '60 BAY STATE ROAD'\n",
            " '80 BAY STATE ROAD' '820 COMMONWEALTH AVENUE' '191 BAY STATE ROAD'\n",
            " '199 BAY STATE ROAD' '232 BAY STATE ROAD' '196 BAY STATE ROAD'\n",
            " '201 BAY STATE ROAD' '214 BAY STATE ROAD' '207 BAY STATE ROAD'\n",
            " '188 BAY STATE ROAD' '204 BAY STATE ROAD' '619 MEMORIAL DRIVE'\n",
            " '100 MOUNTFORT STREET' '300 BABCOCK STREET' '2 CUMMINGTON MALL'\n",
            " '30-38 CUMMINGTON MALL' '3 - 5 CUMMINGTON MALL' '24 CUMMINGTON MALL'\n",
            " '677 BEACON STREET']\n"
          ]
        }
      ]
    },
    {
      "cell_type": "markdown",
      "source": [
        "## Wifi Stations Without Water Bottle Filling Station"
      ],
      "metadata": {
        "id": "kOLa3T6td8Kr"
      }
    },
    {
      "cell_type": "code",
      "source": [
        "WithoutWaterBottle = {}"
      ],
      "metadata": {
        "id": "XHXs4i_Ad51h"
      },
      "execution_count": 130,
      "outputs": []
    },
    {
      "cell_type": "code",
      "source": [
        "grouped_df = dfWifi[dfWifi['building_desc'] == '177 BAY STATE ROAD']\n",
        "grouped_df = grouped_df.groupby(['building_desc', 'hour'])[['capacity']].mean().sum()\n",
        "print(f\"On an average day, {int(grouped_df)} people will benefit from a water bottle station at 177 BAY STATE ROAD\")\n",
        "WithoutWaterBottle['177 BAY STATE ROAD'] = int(grouped_df)"
      ],
      "metadata": {
        "colab": {
          "base_uri": "https://localhost:8080/"
        },
        "id": "EQwR3j3Id9iJ",
        "outputId": "73c09a78-587a-4a22-9858-46e55b62108f"
      },
      "execution_count": 131,
      "outputs": [
        {
          "output_type": "stream",
          "name": "stdout",
          "text": [
            "On an average day, 148 people will benefit from a water bottle station at 177 BAY STATE ROAD\n"
          ]
        },
        {
          "output_type": "stream",
          "name": "stderr",
          "text": [
            "<ipython-input-131-0c334f19a557>:3: FutureWarning: Calling int on a single element Series is deprecated and will raise a TypeError in the future. Use int(ser.iloc[0]) instead\n",
            "  print(f\"On an average day, {int(grouped_df)} people will benefit from a water bottle station at 177 BAY STATE ROAD\")\n",
            "<ipython-input-131-0c334f19a557>:4: FutureWarning: Calling int on a single element Series is deprecated and will raise a TypeError in the future. Use int(ser.iloc[0]) instead\n",
            "  WithoutWaterBottle['177 BAY STATE ROAD'] = int(grouped_df)\n"
          ]
        }
      ]
    },
    {
      "cell_type": "code",
      "source": [
        "grouped_df = dfWifi[dfWifi['building_desc'] == '179 BAY STATE ROAD']\n",
        "grouped_df = grouped_df.groupby(['building_desc', 'hour'])[['capacity']].mean().sum()\n",
        "print(f\"On an average day, {int(grouped_df)} people will benefit from a water bottle station at 179 BAY STATE ROAD\")\n",
        "WithoutWaterBottle['179 BAY STATE ROAD'] = int(grouped_df)"
      ],
      "metadata": {
        "colab": {
          "base_uri": "https://localhost:8080/"
        },
        "id": "w_9ZyY2Sd-sk",
        "outputId": "0ef387f3-5f1b-433b-bf75-da7d1dc6a42e"
      },
      "execution_count": 132,
      "outputs": [
        {
          "output_type": "stream",
          "name": "stdout",
          "text": [
            "On an average day, 98 people will benefit from a water bottle station at 179 BAY STATE ROAD\n"
          ]
        },
        {
          "output_type": "stream",
          "name": "stderr",
          "text": [
            "<ipython-input-132-cdf0e091c19b>:3: FutureWarning: Calling int on a single element Series is deprecated and will raise a TypeError in the future. Use int(ser.iloc[0]) instead\n",
            "  print(f\"On an average day, {int(grouped_df)} people will benefit from a water bottle station at 179 BAY STATE ROAD\")\n",
            "<ipython-input-132-cdf0e091c19b>:4: FutureWarning: Calling int on a single element Series is deprecated and will raise a TypeError in the future. Use int(ser.iloc[0]) instead\n",
            "  WithoutWaterBottle['179 BAY STATE ROAD'] = int(grouped_df)\n"
          ]
        }
      ]
    },
    {
      "cell_type": "code",
      "source": [
        "grouped_df = dfWifi[dfWifi['building_desc'] == '157 BAY STATE ROAD']\n",
        "grouped_df = grouped_df.groupby(['building_desc', 'hour'])[['capacity']].mean().sum()\n",
        "print(f\"On an average day, {int(grouped_df)} people will benefit from a water bottle station at 157 BAY STATE ROAD\")\n",
        "WithoutWaterBottle['157 BAY STATE ROAD'] = int(grouped_df)"
      ],
      "metadata": {
        "colab": {
          "base_uri": "https://localhost:8080/"
        },
        "id": "6K5YTZv9d_cp",
        "outputId": "cdd8c50a-1fd1-4e74-f0b5-35947192ff16"
      },
      "execution_count": 133,
      "outputs": [
        {
          "output_type": "stream",
          "name": "stdout",
          "text": [
            "On an average day, 151 people will benefit from a water bottle station at 157 BAY STATE ROAD\n"
          ]
        },
        {
          "output_type": "stream",
          "name": "stderr",
          "text": [
            "<ipython-input-133-85a353f0413d>:3: FutureWarning: Calling int on a single element Series is deprecated and will raise a TypeError in the future. Use int(ser.iloc[0]) instead\n",
            "  print(f\"On an average day, {int(grouped_df)} people will benefit from a water bottle station at 157 BAY STATE ROAD\")\n",
            "<ipython-input-133-85a353f0413d>:4: FutureWarning: Calling int on a single element Series is deprecated and will raise a TypeError in the future. Use int(ser.iloc[0]) instead\n",
            "  WithoutWaterBottle['157 BAY STATE ROAD'] = int(grouped_df)\n"
          ]
        }
      ]
    },
    {
      "cell_type": "code",
      "source": [
        "grouped_df = dfWifi[dfWifi['building_desc'] == '203 BAY STATE ROAD']\n",
        "grouped_df = grouped_df.groupby(['building_desc', 'hour'])[['capacity']].mean().sum()\n",
        "print(f\"On an average day, {int(grouped_df)} people will benefit from a water bottle station at 203 BAY STATE ROAD\")\n",
        "WithoutWaterBottle['203 BAY STATE ROAD'] = int(grouped_df)"
      ],
      "metadata": {
        "colab": {
          "base_uri": "https://localhost:8080/"
        },
        "id": "iFG6_VAHeAgL",
        "outputId": "6068f123-d60e-4bea-a259-6859df1d9054"
      },
      "execution_count": 134,
      "outputs": [
        {
          "output_type": "stream",
          "name": "stdout",
          "text": [
            "On an average day, 155 people will benefit from a water bottle station at 203 BAY STATE ROAD\n"
          ]
        },
        {
          "output_type": "stream",
          "name": "stderr",
          "text": [
            "<ipython-input-134-16284df6e1a9>:3: FutureWarning: Calling int on a single element Series is deprecated and will raise a TypeError in the future. Use int(ser.iloc[0]) instead\n",
            "  print(f\"On an average day, {int(grouped_df)} people will benefit from a water bottle station at 203 BAY STATE ROAD\")\n",
            "<ipython-input-134-16284df6e1a9>:4: FutureWarning: Calling int on a single element Series is deprecated and will raise a TypeError in the future. Use int(ser.iloc[0]) instead\n",
            "  WithoutWaterBottle['203 BAY STATE ROAD'] = int(grouped_df)\n"
          ]
        }
      ]
    },
    {
      "cell_type": "code",
      "source": [
        "grouped_df = dfWifi[dfWifi['building_desc'] == '181 BAY STATE ROAD']\n",
        "grouped_df = grouped_df.groupby(['building_desc', 'hour'])[['capacity']].mean().sum()\n",
        "print(f\"On an average day, {int(grouped_df)} people will benefit from a water bottle station at 181 BAY STATE ROAD\")\n",
        "WithoutWaterBottle['181 BAY STATE ROAD'] = int(grouped_df)"
      ],
      "metadata": {
        "colab": {
          "base_uri": "https://localhost:8080/"
        },
        "id": "A3vuo5ALeBLp",
        "outputId": "9bbd33cc-ab5d-4d91-fa97-8d89ae5002f2"
      },
      "execution_count": 135,
      "outputs": [
        {
          "output_type": "stream",
          "name": "stdout",
          "text": [
            "On an average day, 103 people will benefit from a water bottle station at 181 BAY STATE ROAD\n"
          ]
        },
        {
          "output_type": "stream",
          "name": "stderr",
          "text": [
            "<ipython-input-135-ce6ad363eb44>:3: FutureWarning: Calling int on a single element Series is deprecated and will raise a TypeError in the future. Use int(ser.iloc[0]) instead\n",
            "  print(f\"On an average day, {int(grouped_df)} people will benefit from a water bottle station at 181 BAY STATE ROAD\")\n",
            "<ipython-input-135-ce6ad363eb44>:4: FutureWarning: Calling int on a single element Series is deprecated and will raise a TypeError in the future. Use int(ser.iloc[0]) instead\n",
            "  WithoutWaterBottle['181 BAY STATE ROAD'] = int(grouped_df)\n"
          ]
        }
      ]
    },
    {
      "cell_type": "code",
      "source": [
        "grouped_df = dfWifi[dfWifi['building_desc'] == '173 BAY STATE ROAD']\n",
        "grouped_df = grouped_df.groupby(['building_desc', 'hour'])[['capacity']].mean().sum()\n",
        "print(f\"On an average day, {int(grouped_df)} people will benefit from a water bottle station at 173 BAY STATE ROAD\")\n",
        "WithoutWaterBottle['173 BAY STATE ROAD'] = int(grouped_df)"
      ],
      "metadata": {
        "colab": {
          "base_uri": "https://localhost:8080/"
        },
        "id": "MTEtvIGOeCKz",
        "outputId": "2bdd8adf-1f1c-4820-9f2e-f0e1876b2fde"
      },
      "execution_count": 136,
      "outputs": [
        {
          "output_type": "stream",
          "name": "stdout",
          "text": [
            "On an average day, 46 people will benefit from a water bottle station at 173 BAY STATE ROAD\n"
          ]
        },
        {
          "output_type": "stream",
          "name": "stderr",
          "text": [
            "<ipython-input-136-fed343df163b>:3: FutureWarning: Calling int on a single element Series is deprecated and will raise a TypeError in the future. Use int(ser.iloc[0]) instead\n",
            "  print(f\"On an average day, {int(grouped_df)} people will benefit from a water bottle station at 173 BAY STATE ROAD\")\n",
            "<ipython-input-136-fed343df163b>:4: FutureWarning: Calling int on a single element Series is deprecated and will raise a TypeError in the future. Use int(ser.iloc[0]) instead\n",
            "  WithoutWaterBottle['173 BAY STATE ROAD'] = int(grouped_df)\n"
          ]
        }
      ]
    },
    {
      "cell_type": "code",
      "source": [
        "grouped_df = dfWifi[dfWifi['building_desc'] == '178 BAY STATE ROAD']\n",
        "grouped_df = grouped_df.groupby(['building_desc', 'hour'])[['capacity']].mean().sum()\n",
        "print(f\"On an average day, {int(grouped_df)} people will benefit from a water bottle station at 178 BAY STATE ROAD\")\n",
        "WithoutWaterBottle['178 BAY STATE ROAD'] = int(grouped_df)"
      ],
      "metadata": {
        "colab": {
          "base_uri": "https://localhost:8080/"
        },
        "id": "KVIOTRb3eCzx",
        "outputId": "39e8bb21-cc62-4ed5-d55e-3f35977bd43e"
      },
      "execution_count": 137,
      "outputs": [
        {
          "output_type": "stream",
          "name": "stdout",
          "text": [
            "On an average day, 138 people will benefit from a water bottle station at 178 BAY STATE ROAD\n"
          ]
        },
        {
          "output_type": "stream",
          "name": "stderr",
          "text": [
            "<ipython-input-137-b601f9227ac2>:3: FutureWarning: Calling int on a single element Series is deprecated and will raise a TypeError in the future. Use int(ser.iloc[0]) instead\n",
            "  print(f\"On an average day, {int(grouped_df)} people will benefit from a water bottle station at 178 BAY STATE ROAD\")\n",
            "<ipython-input-137-b601f9227ac2>:4: FutureWarning: Calling int on a single element Series is deprecated and will raise a TypeError in the future. Use int(ser.iloc[0]) instead\n",
            "  WithoutWaterBottle['178 BAY STATE ROAD'] = int(grouped_df)\n"
          ]
        }
      ]
    },
    {
      "cell_type": "code",
      "source": [
        "grouped_df = dfWifi[dfWifi['building_desc'] == '205 BAY STATE ROAD']\n",
        "grouped_df = grouped_df.groupby(['building_desc', 'hour'])[['capacity']].mean().sum()\n",
        "print(f\"On an average day, {int(grouped_df)} people will benefit from a water bottle station at 205 BAY STATE ROAD\")\n",
        "WithoutWaterBottle['205 BAY STATE ROAD'] = int(grouped_df)"
      ],
      "metadata": {
        "colab": {
          "base_uri": "https://localhost:8080/"
        },
        "id": "VzDO-4UjeD3H",
        "outputId": "e12a351a-3c63-44fe-8f6e-a88f65509bbf"
      },
      "execution_count": 138,
      "outputs": [
        {
          "output_type": "stream",
          "name": "stdout",
          "text": [
            "On an average day, 69 people will benefit from a water bottle station at 205 BAY STATE ROAD\n"
          ]
        },
        {
          "output_type": "stream",
          "name": "stderr",
          "text": [
            "<ipython-input-138-f25be767b7cd>:3: FutureWarning: Calling int on a single element Series is deprecated and will raise a TypeError in the future. Use int(ser.iloc[0]) instead\n",
            "  print(f\"On an average day, {int(grouped_df)} people will benefit from a water bottle station at 205 BAY STATE ROAD\")\n",
            "<ipython-input-138-f25be767b7cd>:4: FutureWarning: Calling int on a single element Series is deprecated and will raise a TypeError in the future. Use int(ser.iloc[0]) instead\n",
            "  WithoutWaterBottle['205 BAY STATE ROAD'] = int(grouped_df)\n"
          ]
        }
      ]
    },
    {
      "cell_type": "code",
      "source": [
        "grouped_df = dfWifi[dfWifi['building_desc'] == '42 BUSWELL STREET']\n",
        "grouped_df = grouped_df.groupby(['building_desc', 'hour'])[['capacity']].mean().sum()\n",
        "print(f\"On an average day, {int(grouped_df)} people will benefit from a water bottle station at 42 BUSWELL STREET\")\n",
        "WithoutWaterBottle['42 BUSWELL STREET'] = int(grouped_df)"
      ],
      "metadata": {
        "colab": {
          "base_uri": "https://localhost:8080/"
        },
        "id": "eE7heDC8eEqB",
        "outputId": "d8ae0870-552a-4325-dd84-9d1d64636779"
      },
      "execution_count": 139,
      "outputs": [
        {
          "output_type": "stream",
          "name": "stdout",
          "text": [
            "On an average day, 1 people will benefit from a water bottle station at 42 BUSWELL STREET\n"
          ]
        },
        {
          "output_type": "stream",
          "name": "stderr",
          "text": [
            "<ipython-input-139-86b92c7036da>:3: FutureWarning: Calling int on a single element Series is deprecated and will raise a TypeError in the future. Use int(ser.iloc[0]) instead\n",
            "  print(f\"On an average day, {int(grouped_df)} people will benefit from a water bottle station at 42 BUSWELL STREET\")\n",
            "<ipython-input-139-86b92c7036da>:4: FutureWarning: Calling int on a single element Series is deprecated and will raise a TypeError in the future. Use int(ser.iloc[0]) instead\n",
            "  WithoutWaterBottle['42 BUSWELL STREET'] = int(grouped_df)\n"
          ]
        }
      ]
    },
    {
      "cell_type": "code",
      "source": [
        "grouped_df = dfWifi[dfWifi['building_desc'] == '852 BEACON STREET']\n",
        "grouped_df = grouped_df.groupby(['building_desc', 'hour'])[['capacity']].mean().sum()\n",
        "print(f\"On an average day, {int(grouped_df)} people will benefit from a water bottle station at 852 BEACON STREET\")\n",
        "WithoutWaterBottle['852 BEACON STREET'] = int(grouped_df)"
      ],
      "metadata": {
        "colab": {
          "base_uri": "https://localhost:8080/"
        },
        "id": "9Vk-XXRseMoy",
        "outputId": "3ad6cf57-d3e2-44e8-824c-54be19a688d3"
      },
      "execution_count": 140,
      "outputs": [
        {
          "output_type": "stream",
          "name": "stdout",
          "text": [
            "On an average day, 1 people will benefit from a water bottle station at 852 BEACON STREET\n"
          ]
        },
        {
          "output_type": "stream",
          "name": "stderr",
          "text": [
            "<ipython-input-140-92fff5886a32>:3: FutureWarning: Calling int on a single element Series is deprecated and will raise a TypeError in the future. Use int(ser.iloc[0]) instead\n",
            "  print(f\"On an average day, {int(grouped_df)} people will benefit from a water bottle station at 852 BEACON STREET\")\n",
            "<ipython-input-140-92fff5886a32>:4: FutureWarning: Calling int on a single element Series is deprecated and will raise a TypeError in the future. Use int(ser.iloc[0]) instead\n",
            "  WithoutWaterBottle['852 BEACON STREET'] = int(grouped_df)\n"
          ]
        }
      ]
    },
    {
      "cell_type": "code",
      "source": [
        "grouped_df = dfWifi[dfWifi['building_desc'] == '848 BEACON STREET']\n",
        "grouped_df = grouped_df.groupby(['building_desc', 'hour'])[['capacity']].mean().sum()\n",
        "print(f\"On an average day, {int(grouped_df)} people will benefit from a water bottle station at 848 BEACON STREET\")\n",
        "WithoutWaterBottle['848 BEACON STREET'] = int(grouped_df)"
      ],
      "metadata": {
        "colab": {
          "base_uri": "https://localhost:8080/"
        },
        "id": "YiCL6VUQeN_u",
        "outputId": "5158461a-fff6-44df-ab6e-8344f06a6e5d"
      },
      "execution_count": 141,
      "outputs": [
        {
          "output_type": "stream",
          "name": "stdout",
          "text": [
            "On an average day, 2 people will benefit from a water bottle station at 848 BEACON STREET\n"
          ]
        },
        {
          "output_type": "stream",
          "name": "stderr",
          "text": [
            "<ipython-input-141-0aeb6441f31b>:3: FutureWarning: Calling int on a single element Series is deprecated and will raise a TypeError in the future. Use int(ser.iloc[0]) instead\n",
            "  print(f\"On an average day, {int(grouped_df)} people will benefit from a water bottle station at 848 BEACON STREET\")\n",
            "<ipython-input-141-0aeb6441f31b>:4: FutureWarning: Calling int on a single element Series is deprecated and will raise a TypeError in the future. Use int(ser.iloc[0]) instead\n",
            "  WithoutWaterBottle['848 BEACON STREET'] = int(grouped_df)\n"
          ]
        }
      ]
    },
    {
      "cell_type": "code",
      "source": [
        "grouped_df = dfWifi[dfWifi['building_desc'] == '864 BEACON STREET']\n",
        "grouped_df = grouped_df.groupby(['building_desc', 'hour'])[['capacity']].mean().sum()\n",
        "print(f\"On an average day, {int(grouped_df)} people will benefit from a water bottle station at 864 BEACON STREET\")\n",
        "WithoutWaterBottle['864 BEACON STREET'] = int(grouped_df)"
      ],
      "metadata": {
        "colab": {
          "base_uri": "https://localhost:8080/"
        },
        "id": "MLnHNKoHePf3",
        "outputId": "6b5fdd30-d687-4d2d-a767-0719701c3234"
      },
      "execution_count": 142,
      "outputs": [
        {
          "output_type": "stream",
          "name": "stdout",
          "text": [
            "On an average day, 1 people will benefit from a water bottle station at 864 BEACON STREET\n"
          ]
        },
        {
          "output_type": "stream",
          "name": "stderr",
          "text": [
            "<ipython-input-142-4ffeef3f0ab3>:3: FutureWarning: Calling int on a single element Series is deprecated and will raise a TypeError in the future. Use int(ser.iloc[0]) instead\n",
            "  print(f\"On an average day, {int(grouped_df)} people will benefit from a water bottle station at 864 BEACON STREET\")\n",
            "<ipython-input-142-4ffeef3f0ab3>:4: FutureWarning: Calling int on a single element Series is deprecated and will raise a TypeError in the future. Use int(ser.iloc[0]) instead\n",
            "  WithoutWaterBottle['864 BEACON STREET'] = int(grouped_df)\n"
          ]
        }
      ]
    },
    {
      "cell_type": "code",
      "source": [
        "grouped_df = dfWifi[dfWifi['building_desc'] == '133 BAY STATE ROAD']\n",
        "grouped_df = grouped_df.groupby(['building_desc', 'hour'])[['capacity']].mean().sum()\n",
        "print(f\"On an average day, {int(grouped_df)} people will benefit from a water bottle station at 133 BAY STATE ROAD\")\n",
        "WithoutWaterBottle['133 BAY STATE ROAD'] = int(grouped_df)"
      ],
      "metadata": {
        "colab": {
          "base_uri": "https://localhost:8080/"
        },
        "id": "hS5jxffieSb8",
        "outputId": "697b5676-252b-4745-b27b-52dab8e1c587"
      },
      "execution_count": 143,
      "outputs": [
        {
          "output_type": "stream",
          "name": "stdout",
          "text": [
            "On an average day, 54 people will benefit from a water bottle station at 133 BAY STATE ROAD\n"
          ]
        },
        {
          "output_type": "stream",
          "name": "stderr",
          "text": [
            "<ipython-input-143-03df081d91af>:3: FutureWarning: Calling int on a single element Series is deprecated and will raise a TypeError in the future. Use int(ser.iloc[0]) instead\n",
            "  print(f\"On an average day, {int(grouped_df)} people will benefit from a water bottle station at 133 BAY STATE ROAD\")\n",
            "<ipython-input-143-03df081d91af>:4: FutureWarning: Calling int on a single element Series is deprecated and will raise a TypeError in the future. Use int(ser.iloc[0]) instead\n",
            "  WithoutWaterBottle['133 BAY STATE ROAD'] = int(grouped_df)\n"
          ]
        }
      ]
    },
    {
      "cell_type": "code",
      "source": [
        "grouped_df = dfWifi[dfWifi['building_desc'] == '625 COMMONWEALTH AVENUE']\n",
        "grouped_df = grouped_df.groupby(['building_desc', 'hour'])[['capacity']].mean().sum()\n",
        "print(f\"On an average day, {int(grouped_df)} people will benefit from a water bottle station at 625 COMMONWEALTH AVENUE\")\n",
        "WithoutWaterBottle['625 COMMONWEALTH AVENUE'] = int(grouped_df)"
      ],
      "metadata": {
        "colab": {
          "base_uri": "https://localhost:8080/"
        },
        "id": "UncDSb8ceTUo",
        "outputId": "3e593834-cd50-4e6b-f356-01fd412d98df"
      },
      "execution_count": 144,
      "outputs": [
        {
          "output_type": "stream",
          "name": "stdout",
          "text": [
            "On an average day, 25 people will benefit from a water bottle station at 625 COMMONWEALTH AVENUE\n"
          ]
        },
        {
          "output_type": "stream",
          "name": "stderr",
          "text": [
            "<ipython-input-144-79345f738192>:3: FutureWarning: Calling int on a single element Series is deprecated and will raise a TypeError in the future. Use int(ser.iloc[0]) instead\n",
            "  print(f\"On an average day, {int(grouped_df)} people will benefit from a water bottle station at 625 COMMONWEALTH AVENUE\")\n",
            "<ipython-input-144-79345f738192>:4: FutureWarning: Calling int on a single element Series is deprecated and will raise a TypeError in the future. Use int(ser.iloc[0]) instead\n",
            "  WithoutWaterBottle['625 COMMONWEALTH AVENUE'] = int(grouped_df)\n"
          ]
        }
      ]
    },
    {
      "cell_type": "code",
      "source": [
        "grouped_df = dfWifi[dfWifi['building_desc'] == '832 BEACON STREET']\n",
        "grouped_df = grouped_df.groupby(['building_desc', 'hour'])[['capacity']].mean().sum()\n",
        "print(f\"On an average day, {int(grouped_df)} people will benefit from a water bottle station at 832 BEACON STREET\")\n",
        "WithoutWaterBottle['832 BEACON STREET'] = int(grouped_df)"
      ],
      "metadata": {
        "colab": {
          "base_uri": "https://localhost:8080/"
        },
        "id": "-rftd57zeT-W",
        "outputId": "30e2d01b-9864-47f7-8850-bd49669b836c"
      },
      "execution_count": 145,
      "outputs": [
        {
          "output_type": "stream",
          "name": "stdout",
          "text": [
            "On an average day, 61 people will benefit from a water bottle station at 832 BEACON STREET\n"
          ]
        },
        {
          "output_type": "stream",
          "name": "stderr",
          "text": [
            "<ipython-input-145-a5ac4b5f3826>:3: FutureWarning: Calling int on a single element Series is deprecated and will raise a TypeError in the future. Use int(ser.iloc[0]) instead\n",
            "  print(f\"On an average day, {int(grouped_df)} people will benefit from a water bottle station at 832 BEACON STREET\")\n",
            "<ipython-input-145-a5ac4b5f3826>:4: FutureWarning: Calling int on a single element Series is deprecated and will raise a TypeError in the future. Use int(ser.iloc[0]) instead\n",
            "  WithoutWaterBottle['832 BEACON STREET'] = int(grouped_df)\n"
          ]
        }
      ]
    },
    {
      "cell_type": "code",
      "source": [
        "grouped_df = dfWifi[dfWifi['building_desc'] == '141 BAY STATE ROAD']\n",
        "grouped_df = grouped_df.groupby(['building_desc', 'hour'])[['capacity']].mean().sum()\n",
        "print(f\"On an average day, {int(grouped_df)} people will benefit from a water bottle station at 141 BAY STATE ROAD\")\n",
        "WithoutWaterBottle['141 BAY STATE ROAD'] = int(grouped_df)"
      ],
      "metadata": {
        "colab": {
          "base_uri": "https://localhost:8080/"
        },
        "id": "e_cnkLGReUxC",
        "outputId": "d38e8bee-393b-40a4-ce1f-e11f5495f8d1"
      },
      "execution_count": 146,
      "outputs": [
        {
          "output_type": "stream",
          "name": "stdout",
          "text": [
            "On an average day, 101 people will benefit from a water bottle station at 141 BAY STATE ROAD\n"
          ]
        },
        {
          "output_type": "stream",
          "name": "stderr",
          "text": [
            "<ipython-input-146-58494bdf1ac3>:3: FutureWarning: Calling int on a single element Series is deprecated and will raise a TypeError in the future. Use int(ser.iloc[0]) instead\n",
            "  print(f\"On an average day, {int(grouped_df)} people will benefit from a water bottle station at 141 BAY STATE ROAD\")\n",
            "<ipython-input-146-58494bdf1ac3>:4: FutureWarning: Calling int on a single element Series is deprecated and will raise a TypeError in the future. Use int(ser.iloc[0]) instead\n",
            "  WithoutWaterBottle['141 BAY STATE ROAD'] = int(grouped_df)\n"
          ]
        }
      ]
    },
    {
      "cell_type": "code",
      "source": [
        "grouped_df = dfWifi[dfWifi['building_desc'] == '117 BAY STATE ROAD']\n",
        "grouped_df = grouped_df.groupby(['building_desc', 'hour'])[['capacity']].mean().sum()\n",
        "print(f\"On an average day, {int(grouped_df)} people will benefit from a water bottle station at 117 BAY STATE ROAD\")\n",
        "WithoutWaterBottle['117 BAY STATE ROAD'] = int(grouped_df)"
      ],
      "metadata": {
        "colab": {
          "base_uri": "https://localhost:8080/"
        },
        "id": "zC9h6w8ieVqV",
        "outputId": "f728eb0f-b86a-4252-cd2f-7138aba533c5"
      },
      "execution_count": 147,
      "outputs": [
        {
          "output_type": "stream",
          "name": "stdout",
          "text": [
            "On an average day, 103 people will benefit from a water bottle station at 117 BAY STATE ROAD\n"
          ]
        },
        {
          "output_type": "stream",
          "name": "stderr",
          "text": [
            "<ipython-input-147-dc0ad50fd26a>:3: FutureWarning: Calling int on a single element Series is deprecated and will raise a TypeError in the future. Use int(ser.iloc[0]) instead\n",
            "  print(f\"On an average day, {int(grouped_df)} people will benefit from a water bottle station at 117 BAY STATE ROAD\")\n",
            "<ipython-input-147-dc0ad50fd26a>:4: FutureWarning: Calling int on a single element Series is deprecated and will raise a TypeError in the future. Use int(ser.iloc[0]) instead\n",
            "  WithoutWaterBottle['117 BAY STATE ROAD'] = int(grouped_df)\n"
          ]
        }
      ]
    },
    {
      "cell_type": "code",
      "source": [
        "grouped_df = dfWifi[dfWifi['building_desc'] == '53 BAY STATE ROAD']\n",
        "grouped_df = grouped_df.groupby(['building_desc', 'hour'])[['capacity']].mean().sum()\n",
        "print(f\"On an average day, {int(grouped_df)} people will benefit from a water bottle station at 53 BAY STATE ROAD\")\n",
        "WithoutWaterBottle['53 BAY STATE ROAD'] = int(grouped_df)"
      ],
      "metadata": {
        "colab": {
          "base_uri": "https://localhost:8080/"
        },
        "id": "H5HWUjt4eWfN",
        "outputId": "d19da033-1b2e-4821-88d7-f38c28517be6"
      },
      "execution_count": 148,
      "outputs": [
        {
          "output_type": "stream",
          "name": "stdout",
          "text": [
            "On an average day, 349 people will benefit from a water bottle station at 53 BAY STATE ROAD\n"
          ]
        },
        {
          "output_type": "stream",
          "name": "stderr",
          "text": [
            "<ipython-input-148-0051ef9b9de2>:3: FutureWarning: Calling int on a single element Series is deprecated and will raise a TypeError in the future. Use int(ser.iloc[0]) instead\n",
            "  print(f\"On an average day, {int(grouped_df)} people will benefit from a water bottle station at 53 BAY STATE ROAD\")\n",
            "<ipython-input-148-0051ef9b9de2>:4: FutureWarning: Calling int on a single element Series is deprecated and will raise a TypeError in the future. Use int(ser.iloc[0]) instead\n",
            "  WithoutWaterBottle['53 BAY STATE ROAD'] = int(grouped_df)\n"
          ]
        }
      ]
    },
    {
      "cell_type": "code",
      "source": [
        "grouped_df = dfWifi[dfWifi['building_desc'] == '67 BAY STATE ROAD']\n",
        "grouped_df = grouped_df.groupby(['building_desc', 'hour'])[['capacity']].mean().sum()\n",
        "print(f\"On an average day, {int(grouped_df)} people will benefit from a water bottle station at 67 BAY STATE ROAD\")\n",
        "WithoutWaterBottle['67 BAY STATE ROAD'] = int(grouped_df)"
      ],
      "metadata": {
        "colab": {
          "base_uri": "https://localhost:8080/"
        },
        "id": "Vq335aJeeXU_",
        "outputId": "f9dec218-74ce-4ec8-a935-92823fb162f5"
      },
      "execution_count": 149,
      "outputs": [
        {
          "output_type": "stream",
          "name": "stdout",
          "text": [
            "On an average day, 157 people will benefit from a water bottle station at 67 BAY STATE ROAD\n"
          ]
        },
        {
          "output_type": "stream",
          "name": "stderr",
          "text": [
            "<ipython-input-149-842e4295c8eb>:3: FutureWarning: Calling int on a single element Series is deprecated and will raise a TypeError in the future. Use int(ser.iloc[0]) instead\n",
            "  print(f\"On an average day, {int(grouped_df)} people will benefit from a water bottle station at 67 BAY STATE ROAD\")\n",
            "<ipython-input-149-842e4295c8eb>:4: FutureWarning: Calling int on a single element Series is deprecated and will raise a TypeError in the future. Use int(ser.iloc[0]) instead\n",
            "  WithoutWaterBottle['67 BAY STATE ROAD'] = int(grouped_df)\n"
          ]
        }
      ]
    },
    {
      "cell_type": "code",
      "source": [
        "grouped_df = dfWifi[dfWifi['building_desc'] == '110 BAY STATE ROAD']\n",
        "grouped_df = grouped_df.groupby(['building_desc', 'hour'])[['capacity']].mean().sum()\n",
        "print(f\"On an average day, {int(grouped_df)} people will benefit from a water bottle station at 110 BAY STATE ROAD\")\n",
        "WithoutWaterBottle['110 BAY STATE ROAD'] = int(grouped_df)"
      ],
      "metadata": {
        "colab": {
          "base_uri": "https://localhost:8080/"
        },
        "id": "ej0NzoHseYDu",
        "outputId": "44fcefcc-c8a1-4134-989a-73388df4aa4e"
      },
      "execution_count": 150,
      "outputs": [
        {
          "output_type": "stream",
          "name": "stdout",
          "text": [
            "On an average day, 54 people will benefit from a water bottle station at 110 BAY STATE ROAD\n"
          ]
        },
        {
          "output_type": "stream",
          "name": "stderr",
          "text": [
            "<ipython-input-150-08941585e47b>:3: FutureWarning: Calling int on a single element Series is deprecated and will raise a TypeError in the future. Use int(ser.iloc[0]) instead\n",
            "  print(f\"On an average day, {int(grouped_df)} people will benefit from a water bottle station at 110 BAY STATE ROAD\")\n",
            "<ipython-input-150-08941585e47b>:4: FutureWarning: Calling int on a single element Series is deprecated and will raise a TypeError in the future. Use int(ser.iloc[0]) instead\n",
            "  WithoutWaterBottle['110 BAY STATE ROAD'] = int(grouped_df)\n"
          ]
        }
      ]
    },
    {
      "cell_type": "code",
      "source": [
        "grouped_df = dfWifi[dfWifi['building_desc'] == '115 BAY STATE ROAD']\n",
        "grouped_df = grouped_df.groupby(['building_desc', 'hour'])[['capacity']].mean().sum()\n",
        "print(f\"On an average day, {int(grouped_df)} people will benefit from a water bottle station at 115 BAY STATE ROAD\")\n",
        "WithoutWaterBottle['115 BAY STATE ROAD'] = int(grouped_df)"
      ],
      "metadata": {
        "colab": {
          "base_uri": "https://localhost:8080/"
        },
        "id": "X10DGC_DeY8N",
        "outputId": "34743976-a5f6-4e1a-f0bb-1701d8e0be17"
      },
      "execution_count": 151,
      "outputs": [
        {
          "output_type": "stream",
          "name": "stdout",
          "text": [
            "On an average day, 59 people will benefit from a water bottle station at 115 BAY STATE ROAD\n"
          ]
        },
        {
          "output_type": "stream",
          "name": "stderr",
          "text": [
            "<ipython-input-151-28bfaf1408b2>:3: FutureWarning: Calling int on a single element Series is deprecated and will raise a TypeError in the future. Use int(ser.iloc[0]) instead\n",
            "  print(f\"On an average day, {int(grouped_df)} people will benefit from a water bottle station at 115 BAY STATE ROAD\")\n",
            "<ipython-input-151-28bfaf1408b2>:4: FutureWarning: Calling int on a single element Series is deprecated and will raise a TypeError in the future. Use int(ser.iloc[0]) instead\n",
            "  WithoutWaterBottle['115 BAY STATE ROAD'] = int(grouped_df)\n"
          ]
        }
      ]
    },
    {
      "cell_type": "code",
      "source": [
        "grouped_df = dfWifi[dfWifi['building_desc'] == '704 COMMONWEALTH AVENUE']\n",
        "grouped_df = grouped_df.groupby(['building_desc', 'hour'])[['capacity']].mean().sum()\n",
        "print(f\"On an average day, {int(grouped_df)} people will benefit from a water bottle station at 704 COMMONWEALTH AVENUE\")\n",
        "WithoutWaterBottle['704 COMMONWEALTH AVENUE'] = int(grouped_df)"
      ],
      "metadata": {
        "colab": {
          "base_uri": "https://localhost:8080/"
        },
        "id": "zPG0sC6EeZ48",
        "outputId": "4c27f168-8246-4346-d3a3-f272d00ceff7"
      },
      "execution_count": 152,
      "outputs": [
        {
          "output_type": "stream",
          "name": "stdout",
          "text": [
            "On an average day, 510 people will benefit from a water bottle station at 704 COMMONWEALTH AVENUE\n"
          ]
        },
        {
          "output_type": "stream",
          "name": "stderr",
          "text": [
            "<ipython-input-152-128610f5c181>:3: FutureWarning: Calling int on a single element Series is deprecated and will raise a TypeError in the future. Use int(ser.iloc[0]) instead\n",
            "  print(f\"On an average day, {int(grouped_df)} people will benefit from a water bottle station at 704 COMMONWEALTH AVENUE\")\n",
            "<ipython-input-152-128610f5c181>:4: FutureWarning: Calling int on a single element Series is deprecated and will raise a TypeError in the future. Use int(ser.iloc[0]) instead\n",
            "  WithoutWaterBottle['704 COMMONWEALTH AVENUE'] = int(grouped_df)\n"
          ]
        }
      ]
    },
    {
      "cell_type": "code",
      "source": [
        "grouped_df = dfWifi[dfWifi['building_desc'] == '141 CARLTON STREET']\n",
        "grouped_df = grouped_df.groupby(['building_desc', 'hour'])[['capacity']].mean().sum()\n",
        "print(f\"On an average day, {int(grouped_df)} people will benefit from a water bottle station at 141 CARLTON STREET\")\n",
        "WithoutWaterBottle['141 CARLTON STREET'] = int(grouped_df)"
      ],
      "metadata": {
        "colab": {
          "base_uri": "https://localhost:8080/"
        },
        "id": "N3h_c1ESeamX",
        "outputId": "410fb448-2d6c-49d8-86b7-37eb1d8be712"
      },
      "execution_count": 153,
      "outputs": [
        {
          "output_type": "stream",
          "name": "stdout",
          "text": [
            "On an average day, 134 people will benefit from a water bottle station at 141 CARLTON STREET\n"
          ]
        },
        {
          "output_type": "stream",
          "name": "stderr",
          "text": [
            "<ipython-input-153-e5ef7babc48f>:3: FutureWarning: Calling int on a single element Series is deprecated and will raise a TypeError in the future. Use int(ser.iloc[0]) instead\n",
            "  print(f\"On an average day, {int(grouped_df)} people will benefit from a water bottle station at 141 CARLTON STREET\")\n",
            "<ipython-input-153-e5ef7babc48f>:4: FutureWarning: Calling int on a single element Series is deprecated and will raise a TypeError in the future. Use int(ser.iloc[0]) instead\n",
            "  WithoutWaterBottle['141 CARLTON STREET'] = int(grouped_df)\n"
          ]
        }
      ]
    },
    {
      "cell_type": "code",
      "source": [
        "grouped_df = dfWifi[dfWifi['building_desc'] == '37-39 CARLTON STREET']\n",
        "grouped_df = grouped_df.groupby(['building_desc', 'hour'])[['capacity']].mean().sum()\n",
        "print(f\"On an average day, {int(grouped_df)} people will benefit from a water bottle station at 37-39 CARLTON STREET\")\n",
        "WithoutWaterBottle['37-39 CARLTON STREET'] = int(grouped_df)"
      ],
      "metadata": {
        "colab": {
          "base_uri": "https://localhost:8080/"
        },
        "id": "R_tJtRTEebPA",
        "outputId": "23429435-21ad-4d6d-ab45-42e87998e7da"
      },
      "execution_count": 154,
      "outputs": [
        {
          "output_type": "stream",
          "name": "stdout",
          "text": [
            "On an average day, 211 people will benefit from a water bottle station at 37-39 CARLTON STREET\n"
          ]
        },
        {
          "output_type": "stream",
          "name": "stderr",
          "text": [
            "<ipython-input-154-69e5e0d7b302>:3: FutureWarning: Calling int on a single element Series is deprecated and will raise a TypeError in the future. Use int(ser.iloc[0]) instead\n",
            "  print(f\"On an average day, {int(grouped_df)} people will benefit from a water bottle station at 37-39 CARLTON STREET\")\n",
            "<ipython-input-154-69e5e0d7b302>:4: FutureWarning: Calling int on a single element Series is deprecated and will raise a TypeError in the future. Use int(ser.iloc[0]) instead\n",
            "  WithoutWaterBottle['37-39 CARLTON STREET'] = int(grouped_df)\n"
          ]
        }
      ]
    },
    {
      "cell_type": "code",
      "source": [
        "grouped_df = dfWifi[dfWifi['building_desc'] == '1 BUSWELL STREET']\n",
        "grouped_df = grouped_df.groupby(['building_desc', 'hour'])[['capacity']].mean().sum()\n",
        "print(f\"On an average day, {int(grouped_df)} people will benefit from a water bottle station at 1 BUSWELL STREET\")\n",
        "WithoutWaterBottle['1 BUSWELL STREET'] = int(grouped_df)"
      ],
      "metadata": {
        "colab": {
          "base_uri": "https://localhost:8080/"
        },
        "id": "TdYn3_rueb8U",
        "outputId": "354d2938-a0a3-4291-b37b-2898d7b50917"
      },
      "execution_count": 155,
      "outputs": [
        {
          "output_type": "stream",
          "name": "stdout",
          "text": [
            "On an average day, 75 people will benefit from a water bottle station at 1 BUSWELL STREET\n"
          ]
        },
        {
          "output_type": "stream",
          "name": "stderr",
          "text": [
            "<ipython-input-155-1f8da49ca8e5>:3: FutureWarning: Calling int on a single element Series is deprecated and will raise a TypeError in the future. Use int(ser.iloc[0]) instead\n",
            "  print(f\"On an average day, {int(grouped_df)} people will benefit from a water bottle station at 1 BUSWELL STREET\")\n",
            "<ipython-input-155-1f8da49ca8e5>:4: FutureWarning: Calling int on a single element Series is deprecated and will raise a TypeError in the future. Use int(ser.iloc[0]) instead\n",
            "  WithoutWaterBottle['1 BUSWELL STREET'] = int(grouped_df)\n"
          ]
        }
      ]
    },
    {
      "cell_type": "code",
      "source": [
        "grouped_df = dfWifi[dfWifi['building_desc'] == '5 BUSWELL STREET']\n",
        "grouped_df = grouped_df.groupby(['building_desc', 'hour'])[['capacity']].mean().sum()\n",
        "print(f\"On an average day, {int(grouped_df)} people will benefit from a water bottle station at 5 BUSWELL STREET\")\n",
        "WithoutWaterBottle['5 BUSWELL STREET'] = int(grouped_df)"
      ],
      "metadata": {
        "colab": {
          "base_uri": "https://localhost:8080/"
        },
        "id": "rv29yQ6gec70",
        "outputId": "796ec01b-58c5-437e-9921-f95e4177a571"
      },
      "execution_count": 156,
      "outputs": [
        {
          "output_type": "stream",
          "name": "stdout",
          "text": [
            "On an average day, 71 people will benefit from a water bottle station at 5 BUSWELL STREET\n"
          ]
        },
        {
          "output_type": "stream",
          "name": "stderr",
          "text": [
            "<ipython-input-156-3bcd77a1575a>:3: FutureWarning: Calling int on a single element Series is deprecated and will raise a TypeError in the future. Use int(ser.iloc[0]) instead\n",
            "  print(f\"On an average day, {int(grouped_df)} people will benefit from a water bottle station at 5 BUSWELL STREET\")\n",
            "<ipython-input-156-3bcd77a1575a>:4: FutureWarning: Calling int on a single element Series is deprecated and will raise a TypeError in the future. Use int(ser.iloc[0]) instead\n",
            "  WithoutWaterBottle['5 BUSWELL STREET'] = int(grouped_df)\n"
          ]
        }
      ]
    },
    {
      "cell_type": "code",
      "source": [
        "grouped_df = dfWifi[dfWifi['building_desc'] == '37 BUSWELL STREET']\n",
        "grouped_df = grouped_df.groupby(['building_desc', 'hour'])[['capacity']].mean().sum()\n",
        "print(f\"On an average day, {int(grouped_df)} people will benefit from a water bottle station at 37 BUSWELL STREET\")\n",
        "WithoutWaterBottle['37 BUSWELL STREET'] = int(grouped_df)"
      ],
      "metadata": {
        "colab": {
          "base_uri": "https://localhost:8080/"
        },
        "id": "3DlTZTQgedkW",
        "outputId": "cfa9801f-00b6-407b-e087-b356c8652048"
      },
      "execution_count": 157,
      "outputs": [
        {
          "output_type": "stream",
          "name": "stdout",
          "text": [
            "On an average day, 79 people will benefit from a water bottle station at 37 BUSWELL STREET\n"
          ]
        },
        {
          "output_type": "stream",
          "name": "stderr",
          "text": [
            "<ipython-input-157-3c0c8e843aa4>:3: FutureWarning: Calling int on a single element Series is deprecated and will raise a TypeError in the future. Use int(ser.iloc[0]) instead\n",
            "  print(f\"On an average day, {int(grouped_df)} people will benefit from a water bottle station at 37 BUSWELL STREET\")\n",
            "<ipython-input-157-3c0c8e843aa4>:4: FutureWarning: Calling int on a single element Series is deprecated and will raise a TypeError in the future. Use int(ser.iloc[0]) instead\n",
            "  WithoutWaterBottle['37 BUSWELL STREET'] = int(grouped_df)\n"
          ]
        }
      ]
    },
    {
      "cell_type": "code",
      "source": [
        "grouped_df = dfWifi[dfWifi['building_desc'] == '39 BUSWELL STREET']\n",
        "grouped_df = grouped_df.groupby(['building_desc', 'hour'])[['capacity']].mean().sum()\n",
        "print(f\"On an average day, {int(grouped_df)} people will benefit from a water bottle station at 39 BUSWELL STREET\")\n",
        "WithoutWaterBottle['39 BUSWELL STREET'] = int(grouped_df)"
      ],
      "metadata": {
        "colab": {
          "base_uri": "https://localhost:8080/"
        },
        "id": "PLW4QOHuee_m",
        "outputId": "2a505cfb-c284-45ee-b333-5e02f594b1ec"
      },
      "execution_count": 158,
      "outputs": [
        {
          "output_type": "stream",
          "name": "stdout",
          "text": [
            "On an average day, 40 people will benefit from a water bottle station at 39 BUSWELL STREET\n"
          ]
        },
        {
          "output_type": "stream",
          "name": "stderr",
          "text": [
            "<ipython-input-158-35e28ba11c1b>:3: FutureWarning: Calling int on a single element Series is deprecated and will raise a TypeError in the future. Use int(ser.iloc[0]) instead\n",
            "  print(f\"On an average day, {int(grouped_df)} people will benefit from a water bottle station at 39 BUSWELL STREET\")\n",
            "<ipython-input-158-35e28ba11c1b>:4: FutureWarning: Calling int on a single element Series is deprecated and will raise a TypeError in the future. Use int(ser.iloc[0]) instead\n",
            "  WithoutWaterBottle['39 BUSWELL STREET'] = int(grouped_df)\n"
          ]
        }
      ]
    },
    {
      "cell_type": "code",
      "source": [
        "grouped_df = dfWifi[dfWifi['building_desc'] == '45 BUSWELL STREET']\n",
        "grouped_df = grouped_df.groupby(['building_desc', 'hour'])[['capacity']].mean().sum()\n",
        "print(f\"On an average day, {int(grouped_df)} people will benefit from a water bottle station at 45 BUSWELL STREET\")\n",
        "WithoutWaterBottle['45 BUSWELL STREET'] = int(grouped_df)"
      ],
      "metadata": {
        "colab": {
          "base_uri": "https://localhost:8080/"
        },
        "id": "T6e6MHRpejbY",
        "outputId": "7fccf8c3-656e-4b2b-d92b-9a2026f0788f"
      },
      "execution_count": 159,
      "outputs": [
        {
          "output_type": "stream",
          "name": "stdout",
          "text": [
            "On an average day, 110 people will benefit from a water bottle station at 45 BUSWELL STREET\n"
          ]
        },
        {
          "output_type": "stream",
          "name": "stderr",
          "text": [
            "<ipython-input-159-cf978c20836f>:3: FutureWarning: Calling int on a single element Series is deprecated and will raise a TypeError in the future. Use int(ser.iloc[0]) instead\n",
            "  print(f\"On an average day, {int(grouped_df)} people will benefit from a water bottle station at 45 BUSWELL STREET\")\n",
            "<ipython-input-159-cf978c20836f>:4: FutureWarning: Calling int on a single element Series is deprecated and will raise a TypeError in the future. Use int(ser.iloc[0]) instead\n",
            "  WithoutWaterBottle['45 BUSWELL STREET'] = int(grouped_df)\n"
          ]
        }
      ]
    },
    {
      "cell_type": "code",
      "source": [
        "grouped_df = dfWifi[dfWifi['building_desc'] == '47 BUSWELL STREET']\n",
        "grouped_df = grouped_df.groupby(['building_desc', 'hour'])[['capacity']].mean().sum()\n",
        "print(f\"On an average day, {int(grouped_df)} people will benefit from a water bottle station at 47 BUSWELL STREET\")\n",
        "WithoutWaterBottle['47 BUSWELL STREET'] = int(grouped_df)"
      ],
      "metadata": {
        "colab": {
          "base_uri": "https://localhost:8080/"
        },
        "id": "gsEE_vURekX7",
        "outputId": "e2d97591-944a-4a5d-8542-bd0051f07025"
      },
      "execution_count": 160,
      "outputs": [
        {
          "output_type": "stream",
          "name": "stdout",
          "text": [
            "On an average day, 98 people will benefit from a water bottle station at 47 BUSWELL STREET\n"
          ]
        },
        {
          "output_type": "stream",
          "name": "stderr",
          "text": [
            "<ipython-input-160-7dcfefa18371>:3: FutureWarning: Calling int on a single element Series is deprecated and will raise a TypeError in the future. Use int(ser.iloc[0]) instead\n",
            "  print(f\"On an average day, {int(grouped_df)} people will benefit from a water bottle station at 47 BUSWELL STREET\")\n",
            "<ipython-input-160-7dcfefa18371>:4: FutureWarning: Calling int on a single element Series is deprecated and will raise a TypeError in the future. Use int(ser.iloc[0]) instead\n",
            "  WithoutWaterBottle['47 BUSWELL STREET'] = int(grouped_df)\n"
          ]
        }
      ]
    },
    {
      "cell_type": "code",
      "source": [
        "grouped_df = dfWifi[dfWifi['building_desc'] == '7 BUSWELL STREET']\n",
        "grouped_df = grouped_df.groupby(['building_desc', 'hour'])[['capacity']].mean().sum()\n",
        "print(f\"On an average day, {int(grouped_df)} people will benefit from a water bottle station at 7 BUSWELL STREET\")\n",
        "WithoutWaterBottle['7 BUSWELL STREET'] = int(grouped_df)"
      ],
      "metadata": {
        "colab": {
          "base_uri": "https://localhost:8080/"
        },
        "id": "qi0f0pC9eleB",
        "outputId": "3f2ea469-cb85-495d-9b84-278c54535c09"
      },
      "execution_count": 161,
      "outputs": [
        {
          "output_type": "stream",
          "name": "stdout",
          "text": [
            "On an average day, 84 people will benefit from a water bottle station at 7 BUSWELL STREET\n"
          ]
        },
        {
          "output_type": "stream",
          "name": "stderr",
          "text": [
            "<ipython-input-161-43ba968d8d87>:3: FutureWarning: Calling int on a single element Series is deprecated and will raise a TypeError in the future. Use int(ser.iloc[0]) instead\n",
            "  print(f\"On an average day, {int(grouped_df)} people will benefit from a water bottle station at 7 BUSWELL STREET\")\n",
            "<ipython-input-161-43ba968d8d87>:4: FutureWarning: Calling int on a single element Series is deprecated and will raise a TypeError in the future. Use int(ser.iloc[0]) instead\n",
            "  WithoutWaterBottle['7 BUSWELL STREET'] = int(grouped_df)\n"
          ]
        }
      ]
    },
    {
      "cell_type": "code",
      "source": [
        "grouped_df = dfWifi[dfWifi['building_desc'] == '60 BAY STATE ROAD']\n",
        "grouped_df = grouped_df.groupby(['building_desc', 'hour'])[['capacity']].mean().sum()\n",
        "print(f\"On an average day, {int(grouped_df)} people will benefit from a water bottle station at 60 BAY STATE ROAD\")\n",
        "WithoutWaterBottle['60 BAY STATE ROAD'] = int(grouped_df)"
      ],
      "metadata": {
        "colab": {
          "base_uri": "https://localhost:8080/"
        },
        "id": "pO_5AyJgemZ_",
        "outputId": "d18ad17d-54ad-4893-d5ba-e62dcc7ddce7"
      },
      "execution_count": 162,
      "outputs": [
        {
          "output_type": "stream",
          "name": "stdout",
          "text": [
            "On an average day, 70 people will benefit from a water bottle station at 60 BAY STATE ROAD\n"
          ]
        },
        {
          "output_type": "stream",
          "name": "stderr",
          "text": [
            "<ipython-input-162-3633f2098cc6>:3: FutureWarning: Calling int on a single element Series is deprecated and will raise a TypeError in the future. Use int(ser.iloc[0]) instead\n",
            "  print(f\"On an average day, {int(grouped_df)} people will benefit from a water bottle station at 60 BAY STATE ROAD\")\n",
            "<ipython-input-162-3633f2098cc6>:4: FutureWarning: Calling int on a single element Series is deprecated and will raise a TypeError in the future. Use int(ser.iloc[0]) instead\n",
            "  WithoutWaterBottle['60 BAY STATE ROAD'] = int(grouped_df)\n"
          ]
        }
      ]
    },
    {
      "cell_type": "code",
      "source": [
        "grouped_df = dfWifi[dfWifi['building_desc'] == '80 BAY STATE ROAD']\n",
        "grouped_df = grouped_df.groupby(['building_desc', 'hour'])[['capacity']].mean().sum()\n",
        "print(f\"On an average day, {int(grouped_df)} people will benefit from a water bottle station at 80 BAY STATE ROAD\")\n",
        "WithoutWaterBottle['80 BAY STATE ROAD'] = int(grouped_df)"
      ],
      "metadata": {
        "colab": {
          "base_uri": "https://localhost:8080/"
        },
        "id": "aRAbQouDenU2",
        "outputId": "0514114e-f8c6-4e3e-a28a-ae3f5ec592ef"
      },
      "execution_count": 163,
      "outputs": [
        {
          "output_type": "stream",
          "name": "stdout",
          "text": [
            "On an average day, 68 people will benefit from a water bottle station at 80 BAY STATE ROAD\n"
          ]
        },
        {
          "output_type": "stream",
          "name": "stderr",
          "text": [
            "<ipython-input-163-8c805fef6bd3>:3: FutureWarning: Calling int on a single element Series is deprecated and will raise a TypeError in the future. Use int(ser.iloc[0]) instead\n",
            "  print(f\"On an average day, {int(grouped_df)} people will benefit from a water bottle station at 80 BAY STATE ROAD\")\n",
            "<ipython-input-163-8c805fef6bd3>:4: FutureWarning: Calling int on a single element Series is deprecated and will raise a TypeError in the future. Use int(ser.iloc[0]) instead\n",
            "  WithoutWaterBottle['80 BAY STATE ROAD'] = int(grouped_df)\n"
          ]
        }
      ]
    },
    {
      "cell_type": "code",
      "source": [
        "grouped_df = dfWifi[dfWifi['building_desc'] == '191 BAY STATE ROAD']\n",
        "grouped_df = grouped_df.groupby(['building_desc', 'hour'])[['capacity']].mean().sum()\n",
        "print(f\"On an average day, {int(grouped_df)} people will benefit from a water bottle station at 191 BAY STATE ROAD\")\n",
        "WithoutWaterBottle['191 BAY STATE ROAD'] = int(grouped_df)"
      ],
      "metadata": {
        "colab": {
          "base_uri": "https://localhost:8080/"
        },
        "id": "9DraGv_neoTd",
        "outputId": "aacdb6a8-07ee-46cf-f075-4eb8459ef5e5"
      },
      "execution_count": 164,
      "outputs": [
        {
          "output_type": "stream",
          "name": "stdout",
          "text": [
            "On an average day, 145 people will benefit from a water bottle station at 191 BAY STATE ROAD\n"
          ]
        },
        {
          "output_type": "stream",
          "name": "stderr",
          "text": [
            "<ipython-input-164-a80d126665b0>:3: FutureWarning: Calling int on a single element Series is deprecated and will raise a TypeError in the future. Use int(ser.iloc[0]) instead\n",
            "  print(f\"On an average day, {int(grouped_df)} people will benefit from a water bottle station at 191 BAY STATE ROAD\")\n",
            "<ipython-input-164-a80d126665b0>:4: FutureWarning: Calling int on a single element Series is deprecated and will raise a TypeError in the future. Use int(ser.iloc[0]) instead\n",
            "  WithoutWaterBottle['191 BAY STATE ROAD'] = int(grouped_df)\n"
          ]
        }
      ]
    },
    {
      "cell_type": "code",
      "source": [
        "grouped_df = dfWifi[dfWifi['building_desc'] == '199 BAY STATE ROAD']\n",
        "grouped_df = grouped_df.groupby(['building_desc', 'hour'])[['capacity']].mean().sum()\n",
        "print(f\"On an average day, {int(grouped_df)} people will benefit from a water bottle station at 199 BAY STATE ROAD\")\n",
        "WithoutWaterBottle['199 BAY STATE ROAD'] = int(grouped_df)"
      ],
      "metadata": {
        "colab": {
          "base_uri": "https://localhost:8080/"
        },
        "id": "oVYANwHNepMN",
        "outputId": "a7cd00e0-6719-4c12-c062-7e41687208de"
      },
      "execution_count": 165,
      "outputs": [
        {
          "output_type": "stream",
          "name": "stdout",
          "text": [
            "On an average day, 128 people will benefit from a water bottle station at 199 BAY STATE ROAD\n"
          ]
        },
        {
          "output_type": "stream",
          "name": "stderr",
          "text": [
            "<ipython-input-165-dbf354e8ba55>:3: FutureWarning: Calling int on a single element Series is deprecated and will raise a TypeError in the future. Use int(ser.iloc[0]) instead\n",
            "  print(f\"On an average day, {int(grouped_df)} people will benefit from a water bottle station at 199 BAY STATE ROAD\")\n",
            "<ipython-input-165-dbf354e8ba55>:4: FutureWarning: Calling int on a single element Series is deprecated and will raise a TypeError in the future. Use int(ser.iloc[0]) instead\n",
            "  WithoutWaterBottle['199 BAY STATE ROAD'] = int(grouped_df)\n"
          ]
        }
      ]
    },
    {
      "cell_type": "code",
      "source": [
        "grouped_df = dfWifi[dfWifi['building_desc'] == '232 BAY STATE ROAD']\n",
        "grouped_df = grouped_df.groupby(['building_desc', 'hour'])[['capacity']].mean().sum()\n",
        "print(f\"On an average day, {int(grouped_df)} people will benefit from a water bottle station at 232 BAY STATE ROAD\")\n",
        "WithoutWaterBottle['232 BAY STATE ROAD'] = int(grouped_df)"
      ],
      "metadata": {
        "colab": {
          "base_uri": "https://localhost:8080/"
        },
        "id": "1Q17l3mOeqCJ",
        "outputId": "f1e368bc-282d-4616-8ce4-e4d41d77c948"
      },
      "execution_count": 166,
      "outputs": [
        {
          "output_type": "stream",
          "name": "stdout",
          "text": [
            "On an average day, 720 people will benefit from a water bottle station at 232 BAY STATE ROAD\n"
          ]
        },
        {
          "output_type": "stream",
          "name": "stderr",
          "text": [
            "<ipython-input-166-2b56cb78bd8a>:3: FutureWarning: Calling int on a single element Series is deprecated and will raise a TypeError in the future. Use int(ser.iloc[0]) instead\n",
            "  print(f\"On an average day, {int(grouped_df)} people will benefit from a water bottle station at 232 BAY STATE ROAD\")\n",
            "<ipython-input-166-2b56cb78bd8a>:4: FutureWarning: Calling int on a single element Series is deprecated and will raise a TypeError in the future. Use int(ser.iloc[0]) instead\n",
            "  WithoutWaterBottle['232 BAY STATE ROAD'] = int(grouped_df)\n"
          ]
        }
      ]
    },
    {
      "cell_type": "code",
      "source": [
        "grouped_df = dfWifi[dfWifi['building_desc'] == '201 BAY STATE ROAD']\n",
        "grouped_df = grouped_df.groupby(['building_desc', 'hour'])[['capacity']].mean().sum()\n",
        "print(f\"On an average day, {int(grouped_df)} people will benefit from a water bottle station at 201 BAY STATE ROAD\")\n",
        "WithoutWaterBottle['201 BAY STATE ROAD'] = int(grouped_df)"
      ],
      "metadata": {
        "colab": {
          "base_uri": "https://localhost:8080/"
        },
        "id": "-Zareen3eqzy",
        "outputId": "71f3b40c-6b18-48ab-b5d9-ea5ff5da58b8"
      },
      "execution_count": 167,
      "outputs": [
        {
          "output_type": "stream",
          "name": "stdout",
          "text": [
            "On an average day, 126 people will benefit from a water bottle station at 201 BAY STATE ROAD\n"
          ]
        },
        {
          "output_type": "stream",
          "name": "stderr",
          "text": [
            "<ipython-input-167-b5025d34dcb3>:3: FutureWarning: Calling int on a single element Series is deprecated and will raise a TypeError in the future. Use int(ser.iloc[0]) instead\n",
            "  print(f\"On an average day, {int(grouped_df)} people will benefit from a water bottle station at 201 BAY STATE ROAD\")\n",
            "<ipython-input-167-b5025d34dcb3>:4: FutureWarning: Calling int on a single element Series is deprecated and will raise a TypeError in the future. Use int(ser.iloc[0]) instead\n",
            "  WithoutWaterBottle['201 BAY STATE ROAD'] = int(grouped_df)\n"
          ]
        }
      ]
    },
    {
      "cell_type": "code",
      "source": [
        "grouped_df = dfWifi[dfWifi['building_desc'] == '214 BAY STATE ROAD']\n",
        "grouped_df = grouped_df.groupby(['building_desc', 'hour'])[['capacity']].mean().sum()\n",
        "print(f\"On an average day, {int(grouped_df)} people will benefit from a water bottle station at 214 BAY STATE ROAD\")\n",
        "WithoutWaterBottle['214 BAY STATE ROAD'] = int(grouped_df)"
      ],
      "metadata": {
        "colab": {
          "base_uri": "https://localhost:8080/"
        },
        "id": "8yGW_85-eruJ",
        "outputId": "083924db-6295-41ab-e8b6-fd3e7717690e"
      },
      "execution_count": 168,
      "outputs": [
        {
          "output_type": "stream",
          "name": "stdout",
          "text": [
            "On an average day, 44 people will benefit from a water bottle station at 214 BAY STATE ROAD\n"
          ]
        },
        {
          "output_type": "stream",
          "name": "stderr",
          "text": [
            "<ipython-input-168-eba0591ff864>:3: FutureWarning: Calling int on a single element Series is deprecated and will raise a TypeError in the future. Use int(ser.iloc[0]) instead\n",
            "  print(f\"On an average day, {int(grouped_df)} people will benefit from a water bottle station at 214 BAY STATE ROAD\")\n",
            "<ipython-input-168-eba0591ff864>:4: FutureWarning: Calling int on a single element Series is deprecated and will raise a TypeError in the future. Use int(ser.iloc[0]) instead\n",
            "  WithoutWaterBottle['214 BAY STATE ROAD'] = int(grouped_df)\n"
          ]
        }
      ]
    },
    {
      "cell_type": "code",
      "source": [
        "grouped_df = dfWifi[dfWifi['building_desc'] == '207 BAY STATE ROAD']\n",
        "grouped_df = grouped_df.groupby(['building_desc', 'hour'])[['capacity']].mean().sum()\n",
        "print(f\"On an average day, {int(grouped_df)} people will benefit from a water bottle station at 207 BAY STATE ROAD\")\n",
        "WithoutWaterBottle['207 BAY STATE ROAD'] = int(grouped_df)"
      ],
      "metadata": {
        "colab": {
          "base_uri": "https://localhost:8080/"
        },
        "id": "r9DzkT93etDS",
        "outputId": "71d3ad9d-c3f2-4dc7-a4a1-fad268b118c3"
      },
      "execution_count": 169,
      "outputs": [
        {
          "output_type": "stream",
          "name": "stdout",
          "text": [
            "On an average day, 83 people will benefit from a water bottle station at 207 BAY STATE ROAD\n"
          ]
        },
        {
          "output_type": "stream",
          "name": "stderr",
          "text": [
            "<ipython-input-169-83899aba9191>:3: FutureWarning: Calling int on a single element Series is deprecated and will raise a TypeError in the future. Use int(ser.iloc[0]) instead\n",
            "  print(f\"On an average day, {int(grouped_df)} people will benefit from a water bottle station at 207 BAY STATE ROAD\")\n",
            "<ipython-input-169-83899aba9191>:4: FutureWarning: Calling int on a single element Series is deprecated and will raise a TypeError in the future. Use int(ser.iloc[0]) instead\n",
            "  WithoutWaterBottle['207 BAY STATE ROAD'] = int(grouped_df)\n"
          ]
        }
      ]
    },
    {
      "cell_type": "code",
      "source": [
        "grouped_df = dfWifi[dfWifi['building_desc'] == '188 BAY STATE ROAD']\n",
        "grouped_df = grouped_df.groupby(['building_desc', 'hour'])[['capacity']].mean().sum()\n",
        "print(f\"On an average day, {int(grouped_df)} people will benefit from a water bottle station at 188 BAY STATE ROAD\")\n",
        "WithoutWaterBottle['188 BAY STATE ROAD'] = int(grouped_df)"
      ],
      "metadata": {
        "colab": {
          "base_uri": "https://localhost:8080/"
        },
        "id": "AWm1Wobtet3M",
        "outputId": "77c4f229-0329-4af4-dd3f-62e7935f1a84"
      },
      "execution_count": 170,
      "outputs": [
        {
          "output_type": "stream",
          "name": "stdout",
          "text": [
            "On an average day, 169 people will benefit from a water bottle station at 188 BAY STATE ROAD\n"
          ]
        },
        {
          "output_type": "stream",
          "name": "stderr",
          "text": [
            "<ipython-input-170-bd231df9052c>:3: FutureWarning: Calling int on a single element Series is deprecated and will raise a TypeError in the future. Use int(ser.iloc[0]) instead\n",
            "  print(f\"On an average day, {int(grouped_df)} people will benefit from a water bottle station at 188 BAY STATE ROAD\")\n",
            "<ipython-input-170-bd231df9052c>:4: FutureWarning: Calling int on a single element Series is deprecated and will raise a TypeError in the future. Use int(ser.iloc[0]) instead\n",
            "  WithoutWaterBottle['188 BAY STATE ROAD'] = int(grouped_df)\n"
          ]
        }
      ]
    },
    {
      "cell_type": "code",
      "source": [
        "grouped_df = dfWifi[dfWifi['building_desc'] == '204 BAY STATE ROAD']\n",
        "grouped_df = grouped_df.groupby(['building_desc', 'hour'])[['capacity']].mean().sum()\n",
        "print(f\"On an average day, {int(grouped_df)} people will benefit from a water bottle station at 204 BAY STATE ROAD\")\n",
        "WithoutWaterBottle['204 BAY STATE ROAD'] = int(grouped_df)"
      ],
      "metadata": {
        "colab": {
          "base_uri": "https://localhost:8080/"
        },
        "id": "KHOAntLGeu1H",
        "outputId": "34a6c79f-24aa-46ef-cb40-1e948c374666"
      },
      "execution_count": 171,
      "outputs": [
        {
          "output_type": "stream",
          "name": "stdout",
          "text": [
            "On an average day, 121 people will benefit from a water bottle station at 204 BAY STATE ROAD\n"
          ]
        },
        {
          "output_type": "stream",
          "name": "stderr",
          "text": [
            "<ipython-input-171-4fc7af58520c>:3: FutureWarning: Calling int on a single element Series is deprecated and will raise a TypeError in the future. Use int(ser.iloc[0]) instead\n",
            "  print(f\"On an average day, {int(grouped_df)} people will benefit from a water bottle station at 204 BAY STATE ROAD\")\n",
            "<ipython-input-171-4fc7af58520c>:4: FutureWarning: Calling int on a single element Series is deprecated and will raise a TypeError in the future. Use int(ser.iloc[0]) instead\n",
            "  WithoutWaterBottle['204 BAY STATE ROAD'] = int(grouped_df)\n"
          ]
        }
      ]
    },
    {
      "cell_type": "code",
      "source": [
        "grouped_df = dfWifi[dfWifi['building_desc'] == '619 MEMORIAL DRIVE']\n",
        "grouped_df = grouped_df.groupby(['building_desc', 'hour'])[['capacity']].mean().sum()\n",
        "print(f\"On an average day, {int(grouped_df)} people will benefit from a water bottle station at 619 MEMORIAL DRIVE\")\n",
        "WithoutWaterBottle['619 MEMORIAL DRIVE'] = int(grouped_df)"
      ],
      "metadata": {
        "colab": {
          "base_uri": "https://localhost:8080/"
        },
        "id": "YAWa_6lOevks",
        "outputId": "55d9ab42-47e5-4875-c625-5de6a638e68e"
      },
      "execution_count": 172,
      "outputs": [
        {
          "output_type": "stream",
          "name": "stdout",
          "text": [
            "On an average day, 1067 people will benefit from a water bottle station at 619 MEMORIAL DRIVE\n"
          ]
        },
        {
          "output_type": "stream",
          "name": "stderr",
          "text": [
            "<ipython-input-172-c0874e055fea>:3: FutureWarning: Calling int on a single element Series is deprecated and will raise a TypeError in the future. Use int(ser.iloc[0]) instead\n",
            "  print(f\"On an average day, {int(grouped_df)} people will benefit from a water bottle station at 619 MEMORIAL DRIVE\")\n",
            "<ipython-input-172-c0874e055fea>:4: FutureWarning: Calling int on a single element Series is deprecated and will raise a TypeError in the future. Use int(ser.iloc[0]) instead\n",
            "  WithoutWaterBottle['619 MEMORIAL DRIVE'] = int(grouped_df)\n"
          ]
        }
      ]
    },
    {
      "cell_type": "code",
      "source": [
        "grouped_df = dfWifi[dfWifi['building_desc'] == '100 MOUNTFORT STREET']\n",
        "grouped_df = grouped_df.groupby(['building_desc', 'hour'])[['capacity']].mean().sum()\n",
        "print(f\"On an average day, {int(grouped_df)} people will benefit from a water bottle station at 100 MOUNTFORT STREET\")\n",
        "WithoutWaterBottle['100 MOUNTFORT STREET'] = int(grouped_df)"
      ],
      "metadata": {
        "colab": {
          "base_uri": "https://localhost:8080/"
        },
        "id": "58d8z6X8ewfr",
        "outputId": "4f4882c9-7c62-4066-916a-5e5fb3401fc3"
      },
      "execution_count": 173,
      "outputs": [
        {
          "output_type": "stream",
          "name": "stdout",
          "text": [
            "On an average day, 79 people will benefit from a water bottle station at 100 MOUNTFORT STREET\n"
          ]
        },
        {
          "output_type": "stream",
          "name": "stderr",
          "text": [
            "<ipython-input-173-badb224f85f3>:3: FutureWarning: Calling int on a single element Series is deprecated and will raise a TypeError in the future. Use int(ser.iloc[0]) instead\n",
            "  print(f\"On an average day, {int(grouped_df)} people will benefit from a water bottle station at 100 MOUNTFORT STREET\")\n",
            "<ipython-input-173-badb224f85f3>:4: FutureWarning: Calling int on a single element Series is deprecated and will raise a TypeError in the future. Use int(ser.iloc[0]) instead\n",
            "  WithoutWaterBottle['100 MOUNTFORT STREET'] = int(grouped_df)\n"
          ]
        }
      ]
    },
    {
      "cell_type": "code",
      "source": [
        "grouped_df = dfWifi[dfWifi['building_desc'] == '677 BEACON STREET']\n",
        "grouped_df = grouped_df.groupby(['building_desc', 'hour'])[['capacity']].mean().sum()\n",
        "print(f\"On an average day, {int(grouped_df)} people will benefit from a water bottle station at 677 BEACON STREET\")\n",
        "WithoutWaterBottle['677 BEACON STREET'] = int(grouped_df)"
      ],
      "metadata": {
        "colab": {
          "base_uri": "https://localhost:8080/"
        },
        "id": "ryTGk3c1exQJ",
        "outputId": "1b137289-5e63-4872-be1a-bb03a28f471b"
      },
      "execution_count": 174,
      "outputs": [
        {
          "output_type": "stream",
          "name": "stdout",
          "text": [
            "On an average day, 667 people will benefit from a water bottle station at 677 BEACON STREET\n"
          ]
        },
        {
          "output_type": "stream",
          "name": "stderr",
          "text": [
            "<ipython-input-174-05dc0c2e044d>:3: FutureWarning: Calling int on a single element Series is deprecated and will raise a TypeError in the future. Use int(ser.iloc[0]) instead\n",
            "  print(f\"On an average day, {int(grouped_df)} people will benefit from a water bottle station at 677 BEACON STREET\")\n",
            "<ipython-input-174-05dc0c2e044d>:4: FutureWarning: Calling int on a single element Series is deprecated and will raise a TypeError in the future. Use int(ser.iloc[0]) instead\n",
            "  WithoutWaterBottle['677 BEACON STREET'] = int(grouped_df)\n"
          ]
        }
      ]
    },
    {
      "cell_type": "markdown",
      "source": [
        "## Wifi Stations With Water Bottle Filling Stations"
      ],
      "metadata": {
        "id": "uGn_TQugey__"
      }
    },
    {
      "cell_type": "code",
      "source": [
        "grouped_df = dfWifi[dfWifi['building_desc'] == '195-197 BAY STATE ROAD']\n",
        "grouped_df = grouped_df.groupby(['building_desc', 'hour'])[['capacity']].mean().sum()\n",
        "print(f\"On an average day, {int(grouped_df)} people benefitted from the existing water bottle station at 195-197 BAY STATE ROAD\")"
      ],
      "metadata": {
        "colab": {
          "base_uri": "https://localhost:8080/"
        },
        "id": "lampUhLPeyCo",
        "outputId": "03453e92-9b2b-40e9-9cf3-93bba9542ee6"
      },
      "execution_count": 175,
      "outputs": [
        {
          "output_type": "stream",
          "name": "stdout",
          "text": [
            "On an average day, 262 people benefitted from the existing water bottle station at 195-197 BAY STATE ROAD\n"
          ]
        },
        {
          "output_type": "stream",
          "name": "stderr",
          "text": [
            "<ipython-input-175-8151d642a1ee>:3: FutureWarning: Calling int on a single element Series is deprecated and will raise a TypeError in the future. Use int(ser.iloc[0]) instead\n",
            "  print(f\"On an average day, {int(grouped_df)} people benefitted from the existing water bottle station at 195-197 BAY STATE ROAD\")\n"
          ]
        }
      ]
    },
    {
      "cell_type": "code",
      "source": [
        "grouped_df = dfWifi[dfWifi['building_desc'] == '627-629 COMMONWEALTH AVENUE']\n",
        "grouped_df = grouped_df.groupby(['building_desc', 'hour'])[['capacity']].mean().sum()\n",
        "print(f\"On an average day, {int(grouped_df)} people benefitted from the existing water bottle station at 627-629 COMMONWEALTH AVENUE\")"
      ],
      "metadata": {
        "colab": {
          "base_uri": "https://localhost:8080/"
        },
        "id": "H_gTHze2e1XJ",
        "outputId": "013ff992-9245-46e3-abd6-2892671884f6"
      },
      "execution_count": 176,
      "outputs": [
        {
          "output_type": "stream",
          "name": "stdout",
          "text": [
            "On an average day, 183 people benefitted from the existing water bottle station at 627-629 COMMONWEALTH AVENUE\n"
          ]
        },
        {
          "output_type": "stream",
          "name": "stderr",
          "text": [
            "<ipython-input-176-71b9ce719ceb>:3: FutureWarning: Calling int on a single element Series is deprecated and will raise a TypeError in the future. Use int(ser.iloc[0]) instead\n",
            "  print(f\"On an average day, {int(grouped_df)} people benefitted from the existing water bottle station at 627-629 COMMONWEALTH AVENUE\")\n"
          ]
        }
      ]
    },
    {
      "cell_type": "code",
      "source": [
        "grouped_df = dfWifi[dfWifi['building_desc'] == '96-100 CUMMINGTON MALL']\n",
        "grouped_df = grouped_df.groupby(['building_desc', 'hour'])[['capacity']].mean().sum()\n",
        "print(f\"On an average day, {int(grouped_df)} people benefitted from the existing water bottle station at 96-100 CUMMINGTON MALL\")"
      ],
      "metadata": {
        "colab": {
          "base_uri": "https://localhost:8080/"
        },
        "id": "y9hgaOyXe2sN",
        "outputId": "26e8763e-7cf2-4cb8-89bf-7c2decb32864"
      },
      "execution_count": 177,
      "outputs": [
        {
          "output_type": "stream",
          "name": "stdout",
          "text": [
            "On an average day, 916 people benefitted from the existing water bottle station at 96-100 CUMMINGTON MALL\n"
          ]
        },
        {
          "output_type": "stream",
          "name": "stderr",
          "text": [
            "<ipython-input-177-b758c3b5f48d>:3: FutureWarning: Calling int on a single element Series is deprecated and will raise a TypeError in the future. Use int(ser.iloc[0]) instead\n",
            "  print(f\"On an average day, {int(grouped_df)} people benefitted from the existing water bottle station at 96-100 CUMMINGTON MALL\")\n"
          ]
        }
      ]
    },
    {
      "cell_type": "code",
      "source": [
        "grouped_df = dfWifi[dfWifi['building_desc'] == '881 COMMONWEALTH AVENUE']\n",
        "grouped_df = grouped_df.groupby(['building_desc', 'hour'])[['capacity']].mean().sum()\n",
        "print(f\"On an average day, {int(grouped_df)} people benefitted from the existing water bottle station at 881 COMMONWEALTH AVENUE\")"
      ],
      "metadata": {
        "colab": {
          "base_uri": "https://localhost:8080/"
        },
        "id": "ker2BIqWe3o8",
        "outputId": "e8f04d90-fbf5-437a-94d7-4e2f535b4154"
      },
      "execution_count": 178,
      "outputs": [
        {
          "output_type": "stream",
          "name": "stdout",
          "text": [
            "On an average day, 1620 people benefitted from the existing water bottle station at 881 COMMONWEALTH AVENUE\n"
          ]
        },
        {
          "output_type": "stream",
          "name": "stderr",
          "text": [
            "<ipython-input-178-a3895200547c>:3: FutureWarning: Calling int on a single element Series is deprecated and will raise a TypeError in the future. Use int(ser.iloc[0]) instead\n",
            "  print(f\"On an average day, {int(grouped_df)} people benefitted from the existing water bottle station at 881 COMMONWEALTH AVENUE\")\n"
          ]
        }
      ]
    },
    {
      "cell_type": "code",
      "source": [
        "grouped_df = dfWifi[dfWifi['building_desc'] == '100 BAY STATE ROAD']\n",
        "grouped_df = grouped_df.groupby(['building_desc', 'hour'])[['capacity']].mean().sum()\n",
        "print(f\"On an average day, {int(grouped_df)} people benefitted from the existing water bottle station at 100 BAY STATE ROAD\")"
      ],
      "metadata": {
        "colab": {
          "base_uri": "https://localhost:8080/"
        },
        "id": "5LaFLrPUe4cA",
        "outputId": "7a8bc0f9-27c9-494d-8d7c-c643f2a7edaa"
      },
      "execution_count": 179,
      "outputs": [
        {
          "output_type": "stream",
          "name": "stdout",
          "text": [
            "On an average day, 1957 people benefitted from the existing water bottle station at 100 BAY STATE ROAD\n"
          ]
        },
        {
          "output_type": "stream",
          "name": "stderr",
          "text": [
            "<ipython-input-179-9bba25364999>:3: FutureWarning: Calling int on a single element Series is deprecated and will raise a TypeError in the future. Use int(ser.iloc[0]) instead\n",
            "  print(f\"On an average day, {int(grouped_df)} people benefitted from the existing water bottle station at 100 BAY STATE ROAD\")\n"
          ]
        }
      ]
    },
    {
      "cell_type": "code",
      "source": [
        "grouped_df = dfWifi[dfWifi['building_desc'] == '928 COMMONWEALTH AVENUE']\n",
        "grouped_df = grouped_df.groupby(['building_desc', 'hour'])[['capacity']].mean().sum()\n",
        "print(f\"On an average day, {int(grouped_df)} people benefitted from the existing water bottle station at 928 COMMONWEALTH AVENUE\")"
      ],
      "metadata": {
        "colab": {
          "base_uri": "https://localhost:8080/"
        },
        "id": "mcJvsCRfe5MU",
        "outputId": "48af5a98-bfba-450e-a5a6-9ef9509a748d"
      },
      "execution_count": 180,
      "outputs": [
        {
          "output_type": "stream",
          "name": "stdout",
          "text": [
            "On an average day, 1533 people benefitted from the existing water bottle station at 928 COMMONWEALTH AVENUE\n"
          ]
        },
        {
          "output_type": "stream",
          "name": "stderr",
          "text": [
            "<ipython-input-180-d98440344c98>:3: FutureWarning: Calling int on a single element Series is deprecated and will raise a TypeError in the future. Use int(ser.iloc[0]) instead\n",
            "  print(f\"On an average day, {int(grouped_df)} people benefitted from the existing water bottle station at 928 COMMONWEALTH AVENUE\")\n"
          ]
        }
      ]
    },
    {
      "cell_type": "code",
      "source": [
        "grouped_df = dfWifi[dfWifi['building_desc'] == '985 COMMONWEALTH AVENUE']\n",
        "grouped_df = grouped_df.groupby(['building_desc', 'hour'])[['capacity']].mean().sum()\n",
        "print(f\"On an average day, {int(grouped_df)} people benefitted from the existing water bottle station at 985 COMMONWEALTH AVENUE\")"
      ],
      "metadata": {
        "colab": {
          "base_uri": "https://localhost:8080/"
        },
        "id": "LO67Yzgse5-f",
        "outputId": "3b6dfdc6-75f0-4b07-b71f-4dec12e81fc4"
      },
      "execution_count": 181,
      "outputs": [
        {
          "output_type": "stream",
          "name": "stdout",
          "text": [
            "On an average day, 2074 people benefitted from the existing water bottle station at 985 COMMONWEALTH AVENUE\n"
          ]
        },
        {
          "output_type": "stream",
          "name": "stderr",
          "text": [
            "<ipython-input-181-adaca9db8b91>:3: FutureWarning: Calling int on a single element Series is deprecated and will raise a TypeError in the future. Use int(ser.iloc[0]) instead\n",
            "  print(f\"On an average day, {int(grouped_df)} people benefitted from the existing water bottle station at 985 COMMONWEALTH AVENUE\")\n"
          ]
        }
      ]
    },
    {
      "cell_type": "code",
      "source": [
        "grouped_df = dfWifi[dfWifi['building_desc'] == '888 COMMONWEALTH AVENUE']\n",
        "grouped_df = grouped_df.groupby(['building_desc', 'hour'])[['capacity']].mean().sum()\n",
        "print(f\"On an average day, {int(grouped_df)} people benefitted from the existing water bottle station at 888 COMMONWEALTH AVENUE\")"
      ],
      "metadata": {
        "colab": {
          "base_uri": "https://localhost:8080/"
        },
        "id": "wAWPAnrOe6u-",
        "outputId": "e3b81738-206d-4689-85ac-ef7961a97cb2"
      },
      "execution_count": 182,
      "outputs": [
        {
          "output_type": "stream",
          "name": "stdout",
          "text": [
            "On an average day, 2396 people benefitted from the existing water bottle station at 888 COMMONWEALTH AVENUE\n"
          ]
        },
        {
          "output_type": "stream",
          "name": "stderr",
          "text": [
            "<ipython-input-182-244260c963f8>:3: FutureWarning: Calling int on a single element Series is deprecated and will raise a TypeError in the future. Use int(ser.iloc[0]) instead\n",
            "  print(f\"On an average day, {int(grouped_df)} people benefitted from the existing water bottle station at 888 COMMONWEALTH AVENUE\")\n"
          ]
        }
      ]
    },
    {
      "cell_type": "code",
      "source": [
        "grouped_df = dfWifi[dfWifi['building_desc'] == '820 COMMONWEALTH AVENUE']\n",
        "grouped_df = grouped_df.groupby(['building_desc', 'hour'])[['capacity']].mean().sum()\n",
        "print(f\"On an average day, {int(grouped_df)} people benefitted from the existing water bottle station at 820 COMMONWEALTH AVENUE\")"
      ],
      "metadata": {
        "colab": {
          "base_uri": "https://localhost:8080/"
        },
        "id": "gPEi-pk3e7e4",
        "outputId": "9547a43b-b372-4c1e-cfc0-4665789f02e6"
      },
      "execution_count": 183,
      "outputs": [
        {
          "output_type": "stream",
          "name": "stdout",
          "text": [
            "On an average day, 1619 people benefitted from the existing water bottle station at 820 COMMONWEALTH AVENUE\n"
          ]
        },
        {
          "output_type": "stream",
          "name": "stderr",
          "text": [
            "<ipython-input-183-c876d83da1bb>:3: FutureWarning: Calling int on a single element Series is deprecated and will raise a TypeError in the future. Use int(ser.iloc[0]) instead\n",
            "  print(f\"On an average day, {int(grouped_df)} people benefitted from the existing water bottle station at 820 COMMONWEALTH AVENUE\")\n"
          ]
        }
      ]
    },
    {
      "cell_type": "code",
      "source": [
        "grouped_df = dfWifi[dfWifi['building_desc'] == '196 BAY STATE ROAD']\n",
        "grouped_df = grouped_df.groupby(['building_desc', 'hour'])[['capacity']].mean().sum()\n",
        "print(f\"On an average day, {int(grouped_df)} people benefitted from the existing water bottle station at 196 BAY STATE ROAD\")"
      ],
      "metadata": {
        "colab": {
          "base_uri": "https://localhost:8080/"
        },
        "id": "MZ279RDSe8PX",
        "outputId": "e836a355-9787-42b5-a6e5-66d272217a11"
      },
      "execution_count": 184,
      "outputs": [
        {
          "output_type": "stream",
          "name": "stdout",
          "text": [
            "On an average day, 143 people benefitted from the existing water bottle station at 196 BAY STATE ROAD\n"
          ]
        },
        {
          "output_type": "stream",
          "name": "stderr",
          "text": [
            "<ipython-input-184-1984175cd6a5>:3: FutureWarning: Calling int on a single element Series is deprecated and will raise a TypeError in the future. Use int(ser.iloc[0]) instead\n",
            "  print(f\"On an average day, {int(grouped_df)} people benefitted from the existing water bottle station at 196 BAY STATE ROAD\")\n"
          ]
        }
      ]
    },
    {
      "cell_type": "code",
      "source": [
        "grouped_df = dfWifi[dfWifi['building_desc'] == '300 BABCOCK STREET']\n",
        "grouped_df = grouped_df.groupby(['building_desc', 'hour'])[['capacity']].mean().sum()\n",
        "print(f\"On an average day, {int(grouped_df)} people benefitted from the existing water bottle station at 300 BABCOCK STREET\")"
      ],
      "metadata": {
        "colab": {
          "base_uri": "https://localhost:8080/"
        },
        "id": "RxMYgTQ2e9Dv",
        "outputId": "c0a44430-1b4c-420e-b569-f7c9371d9886"
      },
      "execution_count": 185,
      "outputs": [
        {
          "output_type": "stream",
          "name": "stdout",
          "text": [
            "On an average day, 4138 people benefitted from the existing water bottle station at 300 BABCOCK STREET\n"
          ]
        },
        {
          "output_type": "stream",
          "name": "stderr",
          "text": [
            "<ipython-input-185-c32ca3774291>:3: FutureWarning: Calling int on a single element Series is deprecated and will raise a TypeError in the future. Use int(ser.iloc[0]) instead\n",
            "  print(f\"On an average day, {int(grouped_df)} people benefitted from the existing water bottle station at 300 BABCOCK STREET\")\n"
          ]
        }
      ]
    },
    {
      "cell_type": "code",
      "source": [
        "grouped_df = dfWifi[dfWifi['building_desc'] == '2 CUMMINGTON MALL']\n",
        "grouped_df = grouped_df.groupby(['building_desc', 'hour'])[['capacity']].mean().sum()\n",
        "print(f\"On an average day, {int(grouped_df)} people benefitted from the existing water bottle station at 2 CUMMINGTON MALL\")"
      ],
      "metadata": {
        "colab": {
          "base_uri": "https://localhost:8080/"
        },
        "id": "6xhqJrLVe901",
        "outputId": "9e54b65f-3156-4206-e390-254b7d2a0e30"
      },
      "execution_count": 186,
      "outputs": [
        {
          "output_type": "stream",
          "name": "stdout",
          "text": [
            "On an average day, 1032 people benefitted from the existing water bottle station at 2 CUMMINGTON MALL\n"
          ]
        },
        {
          "output_type": "stream",
          "name": "stderr",
          "text": [
            "<ipython-input-186-d69d20108ce3>:3: FutureWarning: Calling int on a single element Series is deprecated and will raise a TypeError in the future. Use int(ser.iloc[0]) instead\n",
            "  print(f\"On an average day, {int(grouped_df)} people benefitted from the existing water bottle station at 2 CUMMINGTON MALL\")\n"
          ]
        }
      ]
    },
    {
      "cell_type": "code",
      "source": [
        "grouped_df = dfWifi[dfWifi['building_desc'] == '30-38 CUMMINGTON MALL']\n",
        "grouped_df = grouped_df.groupby(['building_desc', 'hour'])[['capacity']].mean().sum()\n",
        "print(f\"On an average day, {int(grouped_df)} people benefitted from the existing water bottle station at 30-38 CUMMINGTON MALL\")"
      ],
      "metadata": {
        "colab": {
          "base_uri": "https://localhost:8080/"
        },
        "id": "hJ9bCO7Ke-0a",
        "outputId": "5fdb0fc7-62f7-4cba-a06c-ff384267c088"
      },
      "execution_count": 187,
      "outputs": [
        {
          "output_type": "stream",
          "name": "stdout",
          "text": [
            "On an average day, 1053 people benefitted from the existing water bottle station at 30-38 CUMMINGTON MALL\n"
          ]
        },
        {
          "output_type": "stream",
          "name": "stderr",
          "text": [
            "<ipython-input-187-e94470191e32>:3: FutureWarning: Calling int on a single element Series is deprecated and will raise a TypeError in the future. Use int(ser.iloc[0]) instead\n",
            "  print(f\"On an average day, {int(grouped_df)} people benefitted from the existing water bottle station at 30-38 CUMMINGTON MALL\")\n"
          ]
        }
      ]
    },
    {
      "cell_type": "code",
      "source": [
        "grouped_df = dfWifi[dfWifi['building_desc'] == '3 - 5 CUMMINGTON MALL']\n",
        "grouped_df = grouped_df.groupby(['building_desc', 'hour'])[['capacity']].mean().sum()\n",
        "print(f\"On an average day, {int(grouped_df)} people benefitted from the existing water bottle station at 3 - 5 CUMMINGTON MALL\")"
      ],
      "metadata": {
        "colab": {
          "base_uri": "https://localhost:8080/"
        },
        "id": "MB-OXVlae_xg",
        "outputId": "1d8e880e-085d-4d55-af3c-3031a1620e02"
      },
      "execution_count": 188,
      "outputs": [
        {
          "output_type": "stream",
          "name": "stdout",
          "text": [
            "On an average day, 2435 people benefitted from the existing water bottle station at 3 - 5 CUMMINGTON MALL\n"
          ]
        },
        {
          "output_type": "stream",
          "name": "stderr",
          "text": [
            "<ipython-input-188-665bac6ba705>:3: FutureWarning: Calling int on a single element Series is deprecated and will raise a TypeError in the future. Use int(ser.iloc[0]) instead\n",
            "  print(f\"On an average day, {int(grouped_df)} people benefitted from the existing water bottle station at 3 - 5 CUMMINGTON MALL\")\n"
          ]
        }
      ]
    },
    {
      "cell_type": "code",
      "source": [
        "grouped_df = dfWifi[dfWifi['building_desc'] == '24 CUMMINGTON MALL']\n",
        "grouped_df = grouped_df.groupby(['building_desc', 'hour'])[['capacity']].mean().sum()\n",
        "print(f\"On an average day, {int(grouped_df)} people benefitted from the existing water bottle station at 24 CUMMINGTON MALL\")"
      ],
      "metadata": {
        "colab": {
          "base_uri": "https://localhost:8080/"
        },
        "id": "eG4rMXKwfAm4",
        "outputId": "4aae09cf-035b-4cd5-b8c3-8a8084a7a09c"
      },
      "execution_count": 189,
      "outputs": [
        {
          "output_type": "stream",
          "name": "stdout",
          "text": [
            "On an average day, 1915 people benefitted from the existing water bottle station at 24 CUMMINGTON MALL\n"
          ]
        },
        {
          "output_type": "stream",
          "name": "stderr",
          "text": [
            "<ipython-input-189-d5f4d103eb75>:3: FutureWarning: Calling int on a single element Series is deprecated and will raise a TypeError in the future. Use int(ser.iloc[0]) instead\n",
            "  print(f\"On an average day, {int(grouped_df)} people benefitted from the existing water bottle station at 24 CUMMINGTON MALL\")\n"
          ]
        }
      ]
    },
    {
      "cell_type": "markdown",
      "source": [
        "## Users Per Water Bottle Station (If there are multiple water bottle stations in one building, divide it by the total number of water bottle stations to check how many people benefit per water bottle station)"
      ],
      "metadata": {
        "id": "cKkWzlcSfEei"
      }
    },
    {
      "cell_type": "code",
      "source": [
        "WithWaterBottle = {}"
      ],
      "metadata": {
        "id": "m87hfkB5fBkS"
      },
      "execution_count": 190,
      "outputs": []
    },
    {
      "cell_type": "code",
      "source": [
        "grouped_df = dfWifi[dfWifi['building_desc'] == '195-197 BAY STATE ROAD']\n",
        "grouped_df = grouped_df.groupby(['building_desc', 'hour'])[['capacity']].mean().sum()\n",
        "print(f\"On an average day, {int(grouped_df)} people benefitted from the existing water bottle station at 195-197 BAY STATE ROAD\")\n",
        "WithWaterBottle[\"195-197 BAY STATE ROAD\"] = int(grouped_df)"
      ],
      "metadata": {
        "colab": {
          "base_uri": "https://localhost:8080/"
        },
        "id": "HIvkolZ3fGgj",
        "outputId": "29d70534-dcc3-4007-d2d3-f829cc522938"
      },
      "execution_count": 191,
      "outputs": [
        {
          "output_type": "stream",
          "name": "stdout",
          "text": [
            "On an average day, 262 people benefitted from the existing water bottle station at 195-197 BAY STATE ROAD\n"
          ]
        },
        {
          "output_type": "stream",
          "name": "stderr",
          "text": [
            "<ipython-input-191-0cfa4665b877>:3: FutureWarning: Calling int on a single element Series is deprecated and will raise a TypeError in the future. Use int(ser.iloc[0]) instead\n",
            "  print(f\"On an average day, {int(grouped_df)} people benefitted from the existing water bottle station at 195-197 BAY STATE ROAD\")\n",
            "<ipython-input-191-0cfa4665b877>:4: FutureWarning: Calling int on a single element Series is deprecated and will raise a TypeError in the future. Use int(ser.iloc[0]) instead\n",
            "  WithWaterBottle[\"195-197 BAY STATE ROAD\"] = int(grouped_df)\n"
          ]
        }
      ]
    },
    {
      "cell_type": "code",
      "source": [
        "grouped_df = dfWifi[dfWifi['building_desc'] == '627-629 COMMONWEALTH AVENUE']\n",
        "grouped_df = grouped_df.groupby(['building_desc', 'hour'])[['capacity']].mean().sum()\n",
        "print(f\"On an average day, {int(grouped_df)} people benefitted per existing water bottle station at 627-629 COMMONWEALTH AVENUE\")\n",
        "WithWaterBottle[\"627-629 COMMONWEALTH AVENUE\"] = int(grouped_df)"
      ],
      "metadata": {
        "colab": {
          "base_uri": "https://localhost:8080/"
        },
        "id": "-9saT1tvfHYB",
        "outputId": "6737453e-ea8a-4291-9a93-dca5fdbbcb50"
      },
      "execution_count": 192,
      "outputs": [
        {
          "output_type": "stream",
          "name": "stdout",
          "text": [
            "On an average day, 183 people benefitted per existing water bottle station at 627-629 COMMONWEALTH AVENUE\n"
          ]
        },
        {
          "output_type": "stream",
          "name": "stderr",
          "text": [
            "<ipython-input-192-0dc56840ef2a>:3: FutureWarning: Calling int on a single element Series is deprecated and will raise a TypeError in the future. Use int(ser.iloc[0]) instead\n",
            "  print(f\"On an average day, {int(grouped_df)} people benefitted per existing water bottle station at 627-629 COMMONWEALTH AVENUE\")\n",
            "<ipython-input-192-0dc56840ef2a>:4: FutureWarning: Calling int on a single element Series is deprecated and will raise a TypeError in the future. Use int(ser.iloc[0]) instead\n",
            "  WithWaterBottle[\"627-629 COMMONWEALTH AVENUE\"] = int(grouped_df)\n"
          ]
        }
      ]
    },
    {
      "cell_type": "code",
      "source": [
        "grouped_df = dfWifi[dfWifi['building_desc'] == '96-100 CUMMINGTON MALL']\n",
        "grouped_df = grouped_df.groupby(['building_desc', 'hour'])[['capacity']].mean().sum()\n",
        "print(f\"On an average day, {int(grouped_df)} people benefitted per existing water bottle station at 96-100 CUMMINGTON MALL\")\n",
        "WithWaterBottle[\"96-100 CUMMINGTON MALL\"] = int(grouped_df)"
      ],
      "metadata": {
        "colab": {
          "base_uri": "https://localhost:8080/"
        },
        "id": "w2hNK_yyfIPY",
        "outputId": "d0971574-8b9c-477a-a6a3-3a13a5e6c1b9"
      },
      "execution_count": 193,
      "outputs": [
        {
          "output_type": "stream",
          "name": "stdout",
          "text": [
            "On an average day, 916 people benefitted per existing water bottle station at 96-100 CUMMINGTON MALL\n"
          ]
        },
        {
          "output_type": "stream",
          "name": "stderr",
          "text": [
            "<ipython-input-193-b31f13299cd1>:3: FutureWarning: Calling int on a single element Series is deprecated and will raise a TypeError in the future. Use int(ser.iloc[0]) instead\n",
            "  print(f\"On an average day, {int(grouped_df)} people benefitted per existing water bottle station at 96-100 CUMMINGTON MALL\")\n",
            "<ipython-input-193-b31f13299cd1>:4: FutureWarning: Calling int on a single element Series is deprecated and will raise a TypeError in the future. Use int(ser.iloc[0]) instead\n",
            "  WithWaterBottle[\"96-100 CUMMINGTON MALL\"] = int(grouped_df)\n"
          ]
        }
      ]
    },
    {
      "cell_type": "code",
      "source": [
        "grouped_df = dfWifi[dfWifi['building_desc'] == '881 COMMONWEALTH AVENUE']\n",
        "grouped_df = grouped_df.groupby(['building_desc', 'hour'])[['capacity']].mean().sum() / 3\n",
        "print(f\"On an average day, {int(grouped_df)} people benefitted from the existing water bottle station at 881 COMMONWEALTH AVENUE\")\n",
        "WithWaterBottle[\"881 COMMONWEALTH AVENUE\"] = int(grouped_df)"
      ],
      "metadata": {
        "colab": {
          "base_uri": "https://localhost:8080/"
        },
        "id": "RO0-DE2hfJMe",
        "outputId": "bb2a3f7d-31af-4fee-defe-36e7920df1aa"
      },
      "execution_count": 194,
      "outputs": [
        {
          "output_type": "stream",
          "name": "stdout",
          "text": [
            "On an average day, 540 people benefitted from the existing water bottle station at 881 COMMONWEALTH AVENUE\n"
          ]
        },
        {
          "output_type": "stream",
          "name": "stderr",
          "text": [
            "<ipython-input-194-7c51fec49bd6>:3: FutureWarning: Calling int on a single element Series is deprecated and will raise a TypeError in the future. Use int(ser.iloc[0]) instead\n",
            "  print(f\"On an average day, {int(grouped_df)} people benefitted from the existing water bottle station at 881 COMMONWEALTH AVENUE\")\n",
            "<ipython-input-194-7c51fec49bd6>:4: FutureWarning: Calling int on a single element Series is deprecated and will raise a TypeError in the future. Use int(ser.iloc[0]) instead\n",
            "  WithWaterBottle[\"881 COMMONWEALTH AVENUE\"] = int(grouped_df)\n"
          ]
        }
      ]
    },
    {
      "cell_type": "code",
      "source": [
        "grouped_df = dfWifi[dfWifi['building_desc'] == '100 BAY STATE ROAD']\n",
        "grouped_df = grouped_df.groupby(['building_desc', 'hour'])[['capacity']].mean().sum() / 6\n",
        "print(f\"On an average day, {int(grouped_df)} people benefitted per existing water bottle station at 100 BAY STATE ROAD\")\n",
        "WithWaterBottle[\"100 BAY STATE ROAD\"] = int(grouped_df)"
      ],
      "metadata": {
        "colab": {
          "base_uri": "https://localhost:8080/"
        },
        "id": "uCvWe7bPfKKo",
        "outputId": "a0050eee-704f-4c2d-9c1f-f40b0fb90bd9"
      },
      "execution_count": 195,
      "outputs": [
        {
          "output_type": "stream",
          "name": "stdout",
          "text": [
            "On an average day, 326 people benefitted per existing water bottle station at 100 BAY STATE ROAD\n"
          ]
        },
        {
          "output_type": "stream",
          "name": "stderr",
          "text": [
            "<ipython-input-195-e2e12d1ff2a9>:3: FutureWarning: Calling int on a single element Series is deprecated and will raise a TypeError in the future. Use int(ser.iloc[0]) instead\n",
            "  print(f\"On an average day, {int(grouped_df)} people benefitted per existing water bottle station at 100 BAY STATE ROAD\")\n",
            "<ipython-input-195-e2e12d1ff2a9>:4: FutureWarning: Calling int on a single element Series is deprecated and will raise a TypeError in the future. Use int(ser.iloc[0]) instead\n",
            "  WithWaterBottle[\"100 BAY STATE ROAD\"] = int(grouped_df)\n"
          ]
        }
      ]
    },
    {
      "cell_type": "code",
      "source": [
        "grouped_df = dfWifi[dfWifi['building_desc'] == '928 COMMONWEALTH AVENUE']\n",
        "grouped_df = grouped_df.groupby(['building_desc', 'hour'])[['capacity']].mean().sum() / 3\n",
        "print(f\"On an average day, {int(grouped_df)} people benefitted per existing water bottle station at 928 COMMONWEALTH AVENUE\")\n",
        "WithWaterBottle[\"928 COMMONWEALTH AVENUE\"] = int(grouped_df)"
      ],
      "metadata": {
        "colab": {
          "base_uri": "https://localhost:8080/"
        },
        "id": "3AXyiDVEfK78",
        "outputId": "21ef2fef-0d36-4746-f6e5-5138976701a7"
      },
      "execution_count": 196,
      "outputs": [
        {
          "output_type": "stream",
          "name": "stdout",
          "text": [
            "On an average day, 511 people benefitted per existing water bottle station at 928 COMMONWEALTH AVENUE\n"
          ]
        },
        {
          "output_type": "stream",
          "name": "stderr",
          "text": [
            "<ipython-input-196-ff5dba64f1de>:3: FutureWarning: Calling int on a single element Series is deprecated and will raise a TypeError in the future. Use int(ser.iloc[0]) instead\n",
            "  print(f\"On an average day, {int(grouped_df)} people benefitted per existing water bottle station at 928 COMMONWEALTH AVENUE\")\n",
            "<ipython-input-196-ff5dba64f1de>:4: FutureWarning: Calling int on a single element Series is deprecated and will raise a TypeError in the future. Use int(ser.iloc[0]) instead\n",
            "  WithWaterBottle[\"928 COMMONWEALTH AVENUE\"] = int(grouped_df)\n"
          ]
        }
      ]
    },
    {
      "cell_type": "code",
      "source": [
        "grouped_df = dfWifi[dfWifi['building_desc'] == '985 COMMONWEALTH AVENUE']\n",
        "grouped_df = grouped_df.groupby(['building_desc', 'hour'])[['capacity']].mean().sum()\n",
        "print(f\"On an average day, {int(grouped_df)} people benefitted per existing water bottle station at 985 COMMONWEALTH AVENUE\")\n",
        "WithWaterBottle[\"985 COMMONWEALTH AVENUE\"] = int(grouped_df)"
      ],
      "metadata": {
        "colab": {
          "base_uri": "https://localhost:8080/"
        },
        "id": "DdwZ2Ay7fLvX",
        "outputId": "0f4c27cf-6d85-4ac7-97b8-56bc30f61104"
      },
      "execution_count": 197,
      "outputs": [
        {
          "output_type": "stream",
          "name": "stdout",
          "text": [
            "On an average day, 2074 people benefitted per existing water bottle station at 985 COMMONWEALTH AVENUE\n"
          ]
        },
        {
          "output_type": "stream",
          "name": "stderr",
          "text": [
            "<ipython-input-197-7c6dce1738a0>:3: FutureWarning: Calling int on a single element Series is deprecated and will raise a TypeError in the future. Use int(ser.iloc[0]) instead\n",
            "  print(f\"On an average day, {int(grouped_df)} people benefitted per existing water bottle station at 985 COMMONWEALTH AVENUE\")\n",
            "<ipython-input-197-7c6dce1738a0>:4: FutureWarning: Calling int on a single element Series is deprecated and will raise a TypeError in the future. Use int(ser.iloc[0]) instead\n",
            "  WithWaterBottle[\"985 COMMONWEALTH AVENUE\"] = int(grouped_df)\n"
          ]
        }
      ]
    },
    {
      "cell_type": "code",
      "source": [
        "grouped_df = dfWifi[dfWifi['building_desc'] == '888 COMMONWEALTH AVENUE']\n",
        "grouped_df = grouped_df.groupby(['building_desc', 'hour'])[['capacity']].mean().sum()\n",
        "print(f\"On an average day, {int(grouped_df)} people benefitted per existing water bottle station at 888 COMMONWEALTH AVENUE\")\n",
        "WithWaterBottle[\"888 COMMONWEALTH AVENUE\"] = int(grouped_df)"
      ],
      "metadata": {
        "colab": {
          "base_uri": "https://localhost:8080/"
        },
        "id": "-aZzk6AxfMej",
        "outputId": "29883c17-8f9b-4389-f6b0-e15b484d2cb9"
      },
      "execution_count": 198,
      "outputs": [
        {
          "output_type": "stream",
          "name": "stdout",
          "text": [
            "On an average day, 2396 people benefitted per existing water bottle station at 888 COMMONWEALTH AVENUE\n"
          ]
        },
        {
          "output_type": "stream",
          "name": "stderr",
          "text": [
            "<ipython-input-198-7d351e833633>:3: FutureWarning: Calling int on a single element Series is deprecated and will raise a TypeError in the future. Use int(ser.iloc[0]) instead\n",
            "  print(f\"On an average day, {int(grouped_df)} people benefitted per existing water bottle station at 888 COMMONWEALTH AVENUE\")\n",
            "<ipython-input-198-7d351e833633>:4: FutureWarning: Calling int on a single element Series is deprecated and will raise a TypeError in the future. Use int(ser.iloc[0]) instead\n",
            "  WithWaterBottle[\"888 COMMONWEALTH AVENUE\"] = int(grouped_df)\n"
          ]
        }
      ]
    },
    {
      "cell_type": "code",
      "source": [
        "grouped_df = dfWifi[dfWifi['building_desc'] == '820 COMMONWEALTH AVENUE']\n",
        "grouped_df = grouped_df.groupby(['building_desc', 'hour'])[['capacity']].mean().sum() / 5\n",
        "print(f\"On an average day, {int(grouped_df)} people benefitted per existing water bottle station at 820 COMMONWEALTH AVENUE\")\n",
        "WithWaterBottle[\"820 COMMONWEALTH AVENUE\"] = int(grouped_df)"
      ],
      "metadata": {
        "colab": {
          "base_uri": "https://localhost:8080/"
        },
        "id": "ACz1kRznfNOf",
        "outputId": "141d7bcb-8cd7-47b9-c5ea-8f3c35d1d806"
      },
      "execution_count": 199,
      "outputs": [
        {
          "output_type": "stream",
          "name": "stdout",
          "text": [
            "On an average day, 323 people benefitted per existing water bottle station at 820 COMMONWEALTH AVENUE\n"
          ]
        },
        {
          "output_type": "stream",
          "name": "stderr",
          "text": [
            "<ipython-input-199-8154f32a35bb>:3: FutureWarning: Calling int on a single element Series is deprecated and will raise a TypeError in the future. Use int(ser.iloc[0]) instead\n",
            "  print(f\"On an average day, {int(grouped_df)} people benefitted per existing water bottle station at 820 COMMONWEALTH AVENUE\")\n",
            "<ipython-input-199-8154f32a35bb>:4: FutureWarning: Calling int on a single element Series is deprecated and will raise a TypeError in the future. Use int(ser.iloc[0]) instead\n",
            "  WithWaterBottle[\"820 COMMONWEALTH AVENUE\"] = int(grouped_df)\n"
          ]
        }
      ]
    },
    {
      "cell_type": "code",
      "source": [
        "grouped_df = dfWifi[dfWifi['building_desc'] == '196 BAY STATE ROAD']\n",
        "grouped_df = grouped_df.groupby(['building_desc', 'hour'])[['capacity']].mean().sum()\n",
        "print(f\"On an average day, {int(grouped_df)} people benefitted per existing water bottle station at 196 BAY STATE ROAD\")\n",
        "WithWaterBottle[\"196 BAY STATE ROAD\"] = int(grouped_df)"
      ],
      "metadata": {
        "colab": {
          "base_uri": "https://localhost:8080/"
        },
        "id": "b44EABNmfN9y",
        "outputId": "46218f86-6982-45e8-caca-07117e44b82f"
      },
      "execution_count": 200,
      "outputs": [
        {
          "output_type": "stream",
          "name": "stdout",
          "text": [
            "On an average day, 143 people benefitted per existing water bottle station at 196 BAY STATE ROAD\n"
          ]
        },
        {
          "output_type": "stream",
          "name": "stderr",
          "text": [
            "<ipython-input-200-1c10a3954a3e>:3: FutureWarning: Calling int on a single element Series is deprecated and will raise a TypeError in the future. Use int(ser.iloc[0]) instead\n",
            "  print(f\"On an average day, {int(grouped_df)} people benefitted per existing water bottle station at 196 BAY STATE ROAD\")\n",
            "<ipython-input-200-1c10a3954a3e>:4: FutureWarning: Calling int on a single element Series is deprecated and will raise a TypeError in the future. Use int(ser.iloc[0]) instead\n",
            "  WithWaterBottle[\"196 BAY STATE ROAD\"] = int(grouped_df)\n"
          ]
        }
      ]
    },
    {
      "cell_type": "code",
      "source": [
        "grouped_df = dfWifi[dfWifi['building_desc'] == '300 BABCOCK STREET']\n",
        "grouped_df = grouped_df.groupby(['building_desc', 'hour'])[['capacity']].mean().sum() / 2\n",
        "print(f\"On an average day, {int(grouped_df)} people benefitted per existing water bottle station at 300 BABCOCK STREET\")\n",
        "WithWaterBottle[\"196 BAY STATE ROAD\"] = int(grouped_df)"
      ],
      "metadata": {
        "colab": {
          "base_uri": "https://localhost:8080/"
        },
        "id": "AgH5GF2wfOwD",
        "outputId": "3bb201c3-23df-4a0f-f8b8-e9ce50e4ac59"
      },
      "execution_count": 201,
      "outputs": [
        {
          "output_type": "stream",
          "name": "stdout",
          "text": [
            "On an average day, 2069 people benefitted per existing water bottle station at 300 BABCOCK STREET\n"
          ]
        },
        {
          "output_type": "stream",
          "name": "stderr",
          "text": [
            "<ipython-input-201-56adfef04d7f>:3: FutureWarning: Calling int on a single element Series is deprecated and will raise a TypeError in the future. Use int(ser.iloc[0]) instead\n",
            "  print(f\"On an average day, {int(grouped_df)} people benefitted per existing water bottle station at 300 BABCOCK STREET\")\n",
            "<ipython-input-201-56adfef04d7f>:4: FutureWarning: Calling int on a single element Series is deprecated and will raise a TypeError in the future. Use int(ser.iloc[0]) instead\n",
            "  WithWaterBottle[\"196 BAY STATE ROAD\"] = int(grouped_df)\n"
          ]
        }
      ]
    },
    {
      "cell_type": "code",
      "source": [
        "grouped_df = dfWifi[dfWifi['building_desc'] == '2 CUMMINGTON MALL']\n",
        "grouped_df = grouped_df.groupby(['building_desc', 'hour'])[['capacity']].mean().sum() / 2\n",
        "print(f\"On an average day, {int(grouped_df)} people benefitted per existing water bottle station at 2 CUMMINGTON MALL\")\n",
        "WithWaterBottle[\"2 CUMMINGTON MALL\"] = int(grouped_df)"
      ],
      "metadata": {
        "colab": {
          "base_uri": "https://localhost:8080/"
        },
        "id": "HLF-6nuifPj7",
        "outputId": "d3ed7ec6-a44f-425a-ea86-e199c3605c24"
      },
      "execution_count": 202,
      "outputs": [
        {
          "output_type": "stream",
          "name": "stdout",
          "text": [
            "On an average day, 516 people benefitted per existing water bottle station at 2 CUMMINGTON MALL\n"
          ]
        },
        {
          "output_type": "stream",
          "name": "stderr",
          "text": [
            "<ipython-input-202-4a8b33a592bc>:3: FutureWarning: Calling int on a single element Series is deprecated and will raise a TypeError in the future. Use int(ser.iloc[0]) instead\n",
            "  print(f\"On an average day, {int(grouped_df)} people benefitted per existing water bottle station at 2 CUMMINGTON MALL\")\n",
            "<ipython-input-202-4a8b33a592bc>:4: FutureWarning: Calling int on a single element Series is deprecated and will raise a TypeError in the future. Use int(ser.iloc[0]) instead\n",
            "  WithWaterBottle[\"2 CUMMINGTON MALL\"] = int(grouped_df)\n"
          ]
        }
      ]
    },
    {
      "cell_type": "code",
      "source": [
        "grouped_df = dfWifi[dfWifi['building_desc'] == '30-38 CUMMINGTON MALL']\n",
        "grouped_df = grouped_df.groupby(['building_desc', 'hour'])[['capacity']].mean().sum() / 2\n",
        "print(f\"On an average day, {int(grouped_df)} people benefitted per existing water bottle station at 30-38 CUMMINGTON MALL\")\n",
        "WithWaterBottle[\"30-38 CUMMINGTON MALL\"] = int(grouped_df)"
      ],
      "metadata": {
        "colab": {
          "base_uri": "https://localhost:8080/"
        },
        "id": "CLX_u5f0fQWR",
        "outputId": "8889beae-9aa7-4527-c1f9-e7e319506e27"
      },
      "execution_count": 203,
      "outputs": [
        {
          "output_type": "stream",
          "name": "stdout",
          "text": [
            "On an average day, 526 people benefitted per existing water bottle station at 30-38 CUMMINGTON MALL\n"
          ]
        },
        {
          "output_type": "stream",
          "name": "stderr",
          "text": [
            "<ipython-input-203-29a5c47ae0d2>:3: FutureWarning: Calling int on a single element Series is deprecated and will raise a TypeError in the future. Use int(ser.iloc[0]) instead\n",
            "  print(f\"On an average day, {int(grouped_df)} people benefitted per existing water bottle station at 30-38 CUMMINGTON MALL\")\n",
            "<ipython-input-203-29a5c47ae0d2>:4: FutureWarning: Calling int on a single element Series is deprecated and will raise a TypeError in the future. Use int(ser.iloc[0]) instead\n",
            "  WithWaterBottle[\"30-38 CUMMINGTON MALL\"] = int(grouped_df)\n"
          ]
        }
      ]
    },
    {
      "cell_type": "code",
      "source": [
        "grouped_df = dfWifi[dfWifi['building_desc'] == '3 - 5 CUMMINGTON MALL']\n",
        "grouped_df = grouped_df.groupby(['building_desc', 'hour'])[['capacity']].mean().sum()\n",
        "print(f\"On an average day, {int(grouped_df)} people benefitted from the existing water bottle station at 3 - 5 CUMMINGTON MALL\")\n",
        "WithWaterBottle[\"3 - 5 CUMMINGTON MALL\"] = int(grouped_df)"
      ],
      "metadata": {
        "colab": {
          "base_uri": "https://localhost:8080/"
        },
        "id": "yZIV9oUAfRZY",
        "outputId": "fd8232ef-8543-443a-e34c-461d1be4d13e"
      },
      "execution_count": 204,
      "outputs": [
        {
          "output_type": "stream",
          "name": "stdout",
          "text": [
            "On an average day, 2435 people benefitted from the existing water bottle station at 3 - 5 CUMMINGTON MALL\n"
          ]
        },
        {
          "output_type": "stream",
          "name": "stderr",
          "text": [
            "<ipython-input-204-f08c46345a96>:3: FutureWarning: Calling int on a single element Series is deprecated and will raise a TypeError in the future. Use int(ser.iloc[0]) instead\n",
            "  print(f\"On an average day, {int(grouped_df)} people benefitted from the existing water bottle station at 3 - 5 CUMMINGTON MALL\")\n",
            "<ipython-input-204-f08c46345a96>:4: FutureWarning: Calling int on a single element Series is deprecated and will raise a TypeError in the future. Use int(ser.iloc[0]) instead\n",
            "  WithWaterBottle[\"3 - 5 CUMMINGTON MALL\"] = int(grouped_df)\n"
          ]
        }
      ]
    },
    {
      "cell_type": "code",
      "source": [
        "grouped_df = dfWifi[dfWifi['building_desc'] == '24 CUMMINGTON MALL']\n",
        "grouped_df = grouped_df.groupby(['building_desc', 'hour'])[['capacity']].mean().sum() / 2\n",
        "print(f\"On an average day, {int(grouped_df)} people benefitted from the existing water bottle station at 24 CUMMINGTON MALL\")\n",
        "WithWaterBottle[\"24 CUMMINGTON MALL\"] = int(grouped_df)"
      ],
      "metadata": {
        "colab": {
          "base_uri": "https://localhost:8080/"
        },
        "id": "ogvggXOsfSZa",
        "outputId": "ad55bd05-01d7-4f71-f1e9-ec1edef402c8"
      },
      "execution_count": 205,
      "outputs": [
        {
          "output_type": "stream",
          "name": "stdout",
          "text": [
            "On an average day, 957 people benefitted from the existing water bottle station at 24 CUMMINGTON MALL\n"
          ]
        },
        {
          "output_type": "stream",
          "name": "stderr",
          "text": [
            "<ipython-input-205-019adeb4b836>:3: FutureWarning: Calling int on a single element Series is deprecated and will raise a TypeError in the future. Use int(ser.iloc[0]) instead\n",
            "  print(f\"On an average day, {int(grouped_df)} people benefitted from the existing water bottle station at 24 CUMMINGTON MALL\")\n",
            "<ipython-input-205-019adeb4b836>:4: FutureWarning: Calling int on a single element Series is deprecated and will raise a TypeError in the future. Use int(ser.iloc[0]) instead\n",
            "  WithWaterBottle[\"24 CUMMINGTON MALL\"] = int(grouped_df)\n"
          ]
        }
      ]
    },
    {
      "cell_type": "code",
      "source": [
        "exsisting = {\n",
        "    '195-197 BAY STATE ROAD' : 262,\n",
        "    '627-629 COMMONWEALTH AVENUE' : 183,\n",
        "    '96-100 CUMMINGTON MALL' : 916,\n",
        "    '881 COMMONWEALTH AVENUE' : 540, # 1620/3\n",
        "    '100 BAY STATE ROAD' : 326, # 1957/6\n",
        "    '928 COMMONWEALTH AVENUE' : 511, # 1533/3\n",
        "    '985 COMMONWEALTH AVENUE' : 2074,\n",
        "    '888 COMMONWEALTH AVENUE' : 2396,\n",
        "    '820 COMMONWEALTH AVENUE' : 323, # 1619/5\n",
        "    '196 BAY STATE ROAD' : 143,\n",
        "    '300 BABCOCK STREET' : 2069, # 4138/2\n",
        "    '2 CUMMINGTON MALL' : 516, # 1032/2\n",
        "    '30-38 CUMMINGTON MALL' : 526, # 1053/2\n",
        "    '3 - 5 CUMMINGTON MALL' : 2435,\n",
        "    '24 CUMMINGTON MALL' : 957 # 1915/2\n",
        "}"
      ],
      "metadata": {
        "id": "hPrKvRbAfTRF"
      },
      "execution_count": 206,
      "outputs": []
    },
    {
      "cell_type": "markdown",
      "source": [
        "## Summary of Junho's work"
      ],
      "metadata": {
        "id": "EjjZ32TGfV7_"
      }
    },
    {
      "cell_type": "code",
      "source": [
        "for key, value in WithoutWaterBottle.items():\n",
        "    print(f\"{value}\")"
      ],
      "metadata": {
        "colab": {
          "base_uri": "https://localhost:8080/"
        },
        "id": "CCXRqZsXfU0J",
        "outputId": "09ac7f9d-d658-41ec-f099-33bde36ff25a"
      },
      "execution_count": 207,
      "outputs": [
        {
          "output_type": "stream",
          "name": "stdout",
          "text": [
            "148\n",
            "98\n",
            "151\n",
            "155\n",
            "103\n",
            "46\n",
            "138\n",
            "69\n",
            "1\n",
            "1\n",
            "2\n",
            "1\n",
            "54\n",
            "25\n",
            "61\n",
            "101\n",
            "103\n",
            "349\n",
            "157\n",
            "54\n",
            "59\n",
            "510\n",
            "134\n",
            "211\n",
            "75\n",
            "71\n",
            "79\n",
            "40\n",
            "110\n",
            "98\n",
            "84\n",
            "70\n",
            "68\n",
            "145\n",
            "128\n",
            "720\n",
            "126\n",
            "44\n",
            "83\n",
            "169\n",
            "121\n",
            "1067\n",
            "79\n",
            "667\n"
          ]
        }
      ]
    },
    {
      "cell_type": "code",
      "source": [
        "for key, value in WithWaterBottle.items():\n",
        "    print(f\"{value}\")"
      ],
      "metadata": {
        "colab": {
          "base_uri": "https://localhost:8080/"
        },
        "id": "f_-TkS8QfYjc",
        "outputId": "f713be8a-9748-48a3-f3ec-4b991f907bc6"
      },
      "execution_count": 208,
      "outputs": [
        {
          "output_type": "stream",
          "name": "stdout",
          "text": [
            "262\n",
            "183\n",
            "916\n",
            "540\n",
            "326\n",
            "511\n",
            "2074\n",
            "2396\n",
            "323\n",
            "2069\n",
            "516\n",
            "526\n",
            "2435\n",
            "957\n"
          ]
        }
      ]
    },
    {
      "cell_type": "code",
      "source": [
        "nonexsisting = {\n",
        "    '177 BAY STATE ROAD' :148,\n",
        "    '179 BAY STATE ROAD': 98,\n",
        "    '157 BAY STATE ROAD': 151,\n",
        "    '203 BAY STATE ROAD': 155,\n",
        "    '181 BAY STATE ROAD': 103,\n",
        "    '173 BAY STATE ROAD': 46,\n",
        "    '178 BAY STATE ROAD': 138,\n",
        "    '205 BAY STATE ROAD': 69,\n",
        "    '42 BUSWELL STREET': 1,\n",
        "    '852 BEACON STREET': 1,\n",
        "    '848 BEACON STREET': 2,\n",
        "    '864 BEACON STREET': 1,\n",
        "    '133 BAY STATE ROAD': 54,\n",
        "    '625 COMMONWEALTH AVENUE': 25,\n",
        "    '832 BEACON STREET': 61,\n",
        "    '141 BAY STATE ROAD': 101,\n",
        "    '117 BAY STATE ROAD': 103,\n",
        "    '53 BAY STATE ROAD': 349,\n",
        "    '67 BAY STATE ROAD': 157,\n",
        "    '110 BAY STATE ROAD': 54,\n",
        "    '115 BAY STATE ROAD': 59,\n",
        "    '704 COMMONWEALTH AVENUE': 510,\n",
        "    '141 CARLTON STREET': 134,\n",
        "    '37-39 CARLTON STREET': 211,\n",
        "    '1 BUSWELL STREET': 75,\n",
        "    '5 BUSWELL STREET': 71,\n",
        "    '37 BUSWELL STREET': 37,\n",
        "    '39 BUSWELL STREET': 40,\n",
        "    '45 BUSWELL STREET': 110,\n",
        "    '47 BUSWELL STREET': 98,\n",
        "    '7 BUSWELL STREET': 84,\n",
        "    '60 BAY STATE ROAD': 70,\n",
        "    '80 BAY STATE ROAD': 68,\n",
        "    '191 BAY STATE ROAD': 145,\n",
        "    '199 BAY STATE ROAD': 128,\n",
        "    '232 BAY STATE ROAD': 720,\n",
        "    '201 BAY STATE ROAD': 126,\n",
        "    '214 BAY STATE ROAD': 44,\n",
        "    '207 BAY STATE ROAD': 83,\n",
        "    '188 BAY STATE ROAD': 169,\n",
        "    '204 BAY STATE ROAD': 121,\n",
        "    '619 MEMORIAL DRIVE': 1067,\n",
        "    '100 MOUNTFORT STREET': 79,\n",
        "    '677 BEACON STREET': 667\n",
        "}\n"
      ],
      "metadata": {
        "id": "BoGPjd31fZeU"
      },
      "execution_count": 209,
      "outputs": []
    },
    {
      "cell_type": "markdown",
      "source": [
        "# Final 1/4 data -- done by Woohyeon"
      ],
      "metadata": {
        "id": "Nik_U1dKfgEq"
      }
    },
    {
      "cell_type": "code",
      "source": [
        "print(wooData)"
      ],
      "metadata": {
        "colab": {
          "base_uri": "https://localhost:8080/"
        },
        "id": "MlSXDoKHfaYI",
        "outputId": "ad9b88dc-59c2-4bbd-c27f-d8346b078dc4"
      },
      "execution_count": 210,
      "outputs": [
        {
          "output_type": "stream",
          "name": "stdout",
          "text": [
            "['700 BEACON STREET' '736 - 738 COMMONWEALTH AVENUE'\n",
            " '916-922 COMMONWEALTH AVENUE' '866 BEACON STREET'\n",
            " '714 COMMONWEALTH AVENUE' '154 BAY STATE ROAD' '111 CUMMINGTON MALL'\n",
            " '531 BEACON STREET' '180 BAY STATE ROAD' '830-846 COMMONWEALTH AVENUE'\n",
            " '24 COTTAGE FARM ROAD' '828 BEACON STREET' '40 BUSWELL STREET'\n",
            " '152 BAY STATE ROAD' '138 MOUNTFORT STREET' '765 COMMONWEALTH AVENUE'\n",
            " '565 COMMONWEALTH AVENUE' '44 CUMMINGTON MALL' '110-112 CUMMINGTON MALL'\n",
            " '76 BAY STATE ROAD' '27 ABERDEEN STREET' '236 BAY STATE ROAD'\n",
            " '675 - 725 COMMONWEALTH AVENUE' '128 BAY STATE ROAD'\n",
            " '910 COMMONWEALTH AVENUE' '194 BAY STATE ROAD' '213 BAY STATE ROAD'\n",
            " '457 PARK DRIVE' '455 PARK DRIVE' '750 COMMONWEALTH AVENUE'\n",
            " '735 COMMONWEALTH AVENUE' '147 BAY STATE ROAD' '226 BAY STATE ROAD'\n",
            " '172 BAY STATE ROAD' \"15 ST. MARY'S STREET\" '56 BAY STATE ROAD'\n",
            " '718 COMMONWEALTH AVENUE' '124 BAY STATE ROAD' '225 BAY STATE ROAD'\n",
            " '64-86 CUMMINGTON MALL' '125 BAY STATE ROAD' '975 COMMONWEALTH AVENUE'\n",
            " '617-621 COMMONWEALTH AVENUE' '708 COMMONWEALTH AVENUE'\n",
            " '121 BAY STATE ROAD' '185 BAY STATE ROAD' '116 BAY STATE ROAD'\n",
            " '602 COMMONWEALTH AVENUE' '61 BAY STATE ROAD' '233 BAY STATE ROAD'\n",
            " '193 BAY STATE ROAD' '10 COTTAGE FARM ROAD' '78 BAY STATE ROAD'\n",
            " '143 BAY STATE ROAD' '135 IVY STREET' '75 BAY STATE ROAD'\n",
            " '74 BAY STATE ROAD' '84 BAY STATE ROAD' '118 BAY STATE ROAD'\n",
            " '156 BAY STATE ROAD' '122 BAY STATE ROAD' '50 WORTHINGTON ROAD'\n",
            " '68-70 BAY STATE ROAD']\n"
          ]
        }
      ]
    },
    {
      "cell_type": "markdown",
      "source": [
        "## Wifi Stations Without Water Bottle Filling Station"
      ],
      "metadata": {
        "id": "coq3ART-bdEn"
      }
    },
    {
      "cell_type": "code",
      "source": [
        "WithoutWaterBottle = {}"
      ],
      "metadata": {
        "id": "asDzx-6pfopm"
      },
      "execution_count": 211,
      "outputs": []
    },
    {
      "cell_type": "code",
      "source": [
        "grouped_df = dfWifi[dfWifi['building_desc'] == '736 - 738 COMMONWEALTH AVENUE']\n",
        "grouped_df = grouped_df.groupby(['building_desc', 'hour'])[['capacity']].mean().sum()\n",
        "print(f\"On an average day, {int(grouped_df)} people will benefit from a water bottle station at 736 - 738 COMMONWEALTH AVENUE\")\n",
        "WithoutWaterBottle['736 - 738 COMMONWEALTH AVENUE'] = int(grouped_df)"
      ],
      "metadata": {
        "colab": {
          "base_uri": "https://localhost:8080/"
        },
        "id": "kyk7idatbog3",
        "outputId": "5b621453-0d27-420d-fdd5-8debcc6f4050"
      },
      "execution_count": 212,
      "outputs": [
        {
          "output_type": "stream",
          "name": "stdout",
          "text": [
            "On an average day, 692 people will benefit from a water bottle station at 736 - 738 COMMONWEALTH AVENUE\n"
          ]
        },
        {
          "output_type": "stream",
          "name": "stderr",
          "text": [
            "<ipython-input-212-8a17ba8f05ee>:3: FutureWarning: Calling int on a single element Series is deprecated and will raise a TypeError in the future. Use int(ser.iloc[0]) instead\n",
            "  print(f\"On an average day, {int(grouped_df)} people will benefit from a water bottle station at 736 - 738 COMMONWEALTH AVENUE\")\n",
            "<ipython-input-212-8a17ba8f05ee>:4: FutureWarning: Calling int on a single element Series is deprecated and will raise a TypeError in the future. Use int(ser.iloc[0]) instead\n",
            "  WithoutWaterBottle['736 - 738 COMMONWEALTH AVENUE'] = int(grouped_df)\n"
          ]
        }
      ]
    },
    {
      "cell_type": "code",
      "source": [
        "grouped_df = dfWifi[dfWifi['building_desc'] == '916-922 COMMONWEALTH AVENUE']\n",
        "grouped_df = grouped_df.groupby(['building_desc', 'hour'])[['capacity']].mean().sum()\n",
        "print(f\"On an average day, {int(grouped_df)} people will benefit from a water bottle station at 916-922 COMMONWEALTH AVENUE\")\n",
        "WithoutWaterBottle['916-922 COMMONWEALTH AVENUE'] = int(grouped_df)"
      ],
      "metadata": {
        "colab": {
          "base_uri": "https://localhost:8080/"
        },
        "id": "3m4Dp4JxbojX",
        "outputId": "3956883e-6ba2-45d8-f955-d867c2cdfbfb"
      },
      "execution_count": 213,
      "outputs": [
        {
          "output_type": "stream",
          "name": "stdout",
          "text": [
            "On an average day, 1610 people will benefit from a water bottle station at 916-922 COMMONWEALTH AVENUE\n"
          ]
        },
        {
          "output_type": "stream",
          "name": "stderr",
          "text": [
            "<ipython-input-213-b9b6950b8da0>:3: FutureWarning: Calling int on a single element Series is deprecated and will raise a TypeError in the future. Use int(ser.iloc[0]) instead\n",
            "  print(f\"On an average day, {int(grouped_df)} people will benefit from a water bottle station at 916-922 COMMONWEALTH AVENUE\")\n",
            "<ipython-input-213-b9b6950b8da0>:4: FutureWarning: Calling int on a single element Series is deprecated and will raise a TypeError in the future. Use int(ser.iloc[0]) instead\n",
            "  WithoutWaterBottle['916-922 COMMONWEALTH AVENUE'] = int(grouped_df)\n"
          ]
        }
      ]
    },
    {
      "cell_type": "code",
      "source": [
        "grouped_df = dfWifi[dfWifi['building_desc'] == '866 BEACON STREET']\n",
        "grouped_df = grouped_df.groupby(['building_desc', 'hour'])[['capacity']].mean().sum()\n",
        "print(f\"On an average day, {int(grouped_df)} people will benefit from a water bottle station at 866 BEACON STREET\")\n",
        "WithoutWaterBottle['866 BEACON STREET'] = int(grouped_df)"
      ],
      "metadata": {
        "colab": {
          "base_uri": "https://localhost:8080/"
        },
        "id": "A2qCa40jbomZ",
        "outputId": "5d9b4828-854e-4071-99ed-65a907b85835"
      },
      "execution_count": 214,
      "outputs": [
        {
          "output_type": "stream",
          "name": "stdout",
          "text": [
            "On an average day, 0 people will benefit from a water bottle station at 866 BEACON STREET\n"
          ]
        },
        {
          "output_type": "stream",
          "name": "stderr",
          "text": [
            "<ipython-input-214-e04eb1ed0b34>:3: FutureWarning: Calling int on a single element Series is deprecated and will raise a TypeError in the future. Use int(ser.iloc[0]) instead\n",
            "  print(f\"On an average day, {int(grouped_df)} people will benefit from a water bottle station at 866 BEACON STREET\")\n",
            "<ipython-input-214-e04eb1ed0b34>:4: FutureWarning: Calling int on a single element Series is deprecated and will raise a TypeError in the future. Use int(ser.iloc[0]) instead\n",
            "  WithoutWaterBottle['866 BEACON STREET'] = int(grouped_df)\n"
          ]
        }
      ]
    },
    {
      "cell_type": "code",
      "source": [
        "grouped_df = dfWifi[dfWifi['building_desc'] == '714 COMMONWEALTH AVENUE']\n",
        "grouped_df = grouped_df.groupby(['building_desc', 'hour'])[['capacity']].mean().sum()\n",
        "print(f\"On an average day, {int(grouped_df)} people will benefit from a water bottle station at 714 COMMONWEALTH AVENUE\")\n",
        "WithoutWaterBottle['714 COMMONWEALTH AVENUE'] = int(grouped_df)"
      ],
      "metadata": {
        "colab": {
          "base_uri": "https://localhost:8080/"
        },
        "id": "n5d3JrDNbon8",
        "outputId": "afb9cbd2-d0a9-43d8-a3b9-eb3fe25f6859"
      },
      "execution_count": 215,
      "outputs": [
        {
          "output_type": "stream",
          "name": "stdout",
          "text": [
            "On an average day, 1 people will benefit from a water bottle station at 714 COMMONWEALTH AVENUE\n"
          ]
        },
        {
          "output_type": "stream",
          "name": "stderr",
          "text": [
            "<ipython-input-215-4839de0a7226>:3: FutureWarning: Calling int on a single element Series is deprecated and will raise a TypeError in the future. Use int(ser.iloc[0]) instead\n",
            "  print(f\"On an average day, {int(grouped_df)} people will benefit from a water bottle station at 714 COMMONWEALTH AVENUE\")\n",
            "<ipython-input-215-4839de0a7226>:4: FutureWarning: Calling int on a single element Series is deprecated and will raise a TypeError in the future. Use int(ser.iloc[0]) instead\n",
            "  WithoutWaterBottle['714 COMMONWEALTH AVENUE'] = int(grouped_df)\n"
          ]
        }
      ]
    },
    {
      "cell_type": "code",
      "source": [
        "grouped_df = dfWifi[dfWifi['building_desc'] == '531 BEACON STREET']\n",
        "grouped_df = grouped_df.groupby(['building_desc', 'hour'])[['capacity']].mean().sum()\n",
        "print(f\"On an average day, {int(grouped_df)} people will benefit from a water bottle station at 531 BEACON STREET\")\n",
        "WithoutWaterBottle['531 BEACON STREET'] = int(grouped_df)"
      ],
      "metadata": {
        "colab": {
          "base_uri": "https://localhost:8080/"
        },
        "id": "Uz7wU8C-bop_",
        "outputId": "6ee20b2c-4ec6-4bf6-d712-1a9aae32b9a5"
      },
      "execution_count": 216,
      "outputs": [
        {
          "output_type": "stream",
          "name": "stdout",
          "text": [
            "On an average day, 18 people will benefit from a water bottle station at 531 BEACON STREET\n"
          ]
        },
        {
          "output_type": "stream",
          "name": "stderr",
          "text": [
            "<ipython-input-216-630da1d4b59b>:3: FutureWarning: Calling int on a single element Series is deprecated and will raise a TypeError in the future. Use int(ser.iloc[0]) instead\n",
            "  print(f\"On an average day, {int(grouped_df)} people will benefit from a water bottle station at 531 BEACON STREET\")\n",
            "<ipython-input-216-630da1d4b59b>:4: FutureWarning: Calling int on a single element Series is deprecated and will raise a TypeError in the future. Use int(ser.iloc[0]) instead\n",
            "  WithoutWaterBottle['531 BEACON STREET'] = int(grouped_df)\n"
          ]
        }
      ]
    },
    {
      "cell_type": "code",
      "source": [
        "grouped_df = dfWifi[dfWifi['building_desc'] == '180 BAY STATE ROAD']\n",
        "grouped_df = grouped_df.groupby(['building_desc', 'hour'])[['capacity']].mean().sum()\n",
        "print(f\"On an average day, {int(grouped_df)} people will benefit from a water bottle station at 180 BAY STATE ROAD\")\n",
        "WithoutWaterBottle['180 BAY STATE ROAD'] = int(grouped_df)"
      ],
      "metadata": {
        "colab": {
          "base_uri": "https://localhost:8080/"
        },
        "id": "qezacFXfbosD",
        "outputId": "b927281a-d88d-437b-d2ad-ea499fee9a89"
      },
      "execution_count": 217,
      "outputs": [
        {
          "output_type": "stream",
          "name": "stdout",
          "text": [
            "On an average day, 66 people will benefit from a water bottle station at 180 BAY STATE ROAD\n"
          ]
        },
        {
          "output_type": "stream",
          "name": "stderr",
          "text": [
            "<ipython-input-217-b593a65c2dbb>:3: FutureWarning: Calling int on a single element Series is deprecated and will raise a TypeError in the future. Use int(ser.iloc[0]) instead\n",
            "  print(f\"On an average day, {int(grouped_df)} people will benefit from a water bottle station at 180 BAY STATE ROAD\")\n",
            "<ipython-input-217-b593a65c2dbb>:4: FutureWarning: Calling int on a single element Series is deprecated and will raise a TypeError in the future. Use int(ser.iloc[0]) instead\n",
            "  WithoutWaterBottle['180 BAY STATE ROAD'] = int(grouped_df)\n"
          ]
        }
      ]
    },
    {
      "cell_type": "code",
      "source": [
        "grouped_df = dfWifi[dfWifi['building_desc'] == '830-846 COMMONWEALTH AVENUE']\n",
        "grouped_df = grouped_df.groupby(['building_desc', 'hour'])[['capacity']].mean().sum()\n",
        "print(f\"On an average day, {int(grouped_df)} people will benefit from a water bottle station at 830-846 COMMONWEALTH AVENUE\")\n",
        "WithoutWaterBottle['830-846 COMMONWEALTH AVENUE'] = int(grouped_df)"
      ],
      "metadata": {
        "colab": {
          "base_uri": "https://localhost:8080/"
        },
        "id": "0EFVOrq3bouX",
        "outputId": "e2cd47aa-d870-43a6-f2b0-9d9d28b1df58"
      },
      "execution_count": 218,
      "outputs": [
        {
          "output_type": "stream",
          "name": "stdout",
          "text": [
            "On an average day, 273 people will benefit from a water bottle station at 830-846 COMMONWEALTH AVENUE\n"
          ]
        },
        {
          "output_type": "stream",
          "name": "stderr",
          "text": [
            "<ipython-input-218-7e0f1c778069>:3: FutureWarning: Calling int on a single element Series is deprecated and will raise a TypeError in the future. Use int(ser.iloc[0]) instead\n",
            "  print(f\"On an average day, {int(grouped_df)} people will benefit from a water bottle station at 830-846 COMMONWEALTH AVENUE\")\n",
            "<ipython-input-218-7e0f1c778069>:4: FutureWarning: Calling int on a single element Series is deprecated and will raise a TypeError in the future. Use int(ser.iloc[0]) instead\n",
            "  WithoutWaterBottle['830-846 COMMONWEALTH AVENUE'] = int(grouped_df)\n"
          ]
        }
      ]
    },
    {
      "cell_type": "code",
      "source": [
        "grouped_df = dfWifi[dfWifi['building_desc'] == '24 COTTAGE FARM ROAD']\n",
        "grouped_df = grouped_df.groupby(['building_desc', 'hour'])[['capacity']].mean().sum()\n",
        "print(f\"On an average day, {int(grouped_df)} people will benefit from a water bottle station at 24 COTTAGE FARM ROAD\")\n",
        "WithoutWaterBottle['24 COTTAGE FARM ROAD'] = int(grouped_df)"
      ],
      "metadata": {
        "colab": {
          "base_uri": "https://localhost:8080/"
        },
        "id": "VLdOvdPQbowc",
        "outputId": "2b7f1708-abc6-4115-f053-1aca099776fe"
      },
      "execution_count": 219,
      "outputs": [
        {
          "output_type": "stream",
          "name": "stdout",
          "text": [
            "On an average day, 0 people will benefit from a water bottle station at 24 COTTAGE FARM ROAD\n"
          ]
        },
        {
          "output_type": "stream",
          "name": "stderr",
          "text": [
            "<ipython-input-219-ccfe3f09f91c>:3: FutureWarning: Calling int on a single element Series is deprecated and will raise a TypeError in the future. Use int(ser.iloc[0]) instead\n",
            "  print(f\"On an average day, {int(grouped_df)} people will benefit from a water bottle station at 24 COTTAGE FARM ROAD\")\n",
            "<ipython-input-219-ccfe3f09f91c>:4: FutureWarning: Calling int on a single element Series is deprecated and will raise a TypeError in the future. Use int(ser.iloc[0]) instead\n",
            "  WithoutWaterBottle['24 COTTAGE FARM ROAD'] = int(grouped_df)\n"
          ]
        }
      ]
    },
    {
      "cell_type": "code",
      "source": [
        "grouped_df = dfWifi[dfWifi['building_desc'] == '828 BEACON STREET']\n",
        "grouped_df = grouped_df.groupby(['building_desc', 'hour'])[['capacity']].mean().sum()\n",
        "print(f\"On an average day, {int(grouped_df)} people will benefit from a water bottle station at 828 BEACON STREET\")\n",
        "WithoutWaterBottle['828 BEACON STREET'] = int(grouped_df)"
      ],
      "metadata": {
        "colab": {
          "base_uri": "https://localhost:8080/"
        },
        "id": "aGiwjltfbo_7",
        "outputId": "96cc589d-f167-4e4c-d2aa-e4a03e555727"
      },
      "execution_count": 220,
      "outputs": [
        {
          "output_type": "stream",
          "name": "stdout",
          "text": [
            "On an average day, 69 people will benefit from a water bottle station at 828 BEACON STREET\n"
          ]
        },
        {
          "output_type": "stream",
          "name": "stderr",
          "text": [
            "<ipython-input-220-406408c0efde>:3: FutureWarning: Calling int on a single element Series is deprecated and will raise a TypeError in the future. Use int(ser.iloc[0]) instead\n",
            "  print(f\"On an average day, {int(grouped_df)} people will benefit from a water bottle station at 828 BEACON STREET\")\n",
            "<ipython-input-220-406408c0efde>:4: FutureWarning: Calling int on a single element Series is deprecated and will raise a TypeError in the future. Use int(ser.iloc[0]) instead\n",
            "  WithoutWaterBottle['828 BEACON STREET'] = int(grouped_df)\n"
          ]
        }
      ]
    },
    {
      "cell_type": "code",
      "source": [
        "grouped_df = dfWifi[dfWifi['building_desc'] == '40 BUSWELL STREET']\n",
        "grouped_df = grouped_df.groupby(['building_desc', 'hour'])[['capacity']].mean().sum()\n",
        "print(f\"On an average day, {int(grouped_df)} people will benefit from a water bottle station at 40 BUSWELL STREET\")\n",
        "WithoutWaterBottle['40 BUSWELL STREET'] = int(grouped_df)"
      ],
      "metadata": {
        "colab": {
          "base_uri": "https://localhost:8080/"
        },
        "id": "f9hHs_eubpB3",
        "outputId": "535f162a-74fc-46de-ebee-32bd9c5591a2"
      },
      "execution_count": 221,
      "outputs": [
        {
          "output_type": "stream",
          "name": "stdout",
          "text": [
            "On an average day, 100 people will benefit from a water bottle station at 40 BUSWELL STREET\n"
          ]
        },
        {
          "output_type": "stream",
          "name": "stderr",
          "text": [
            "<ipython-input-221-50e11a638234>:3: FutureWarning: Calling int on a single element Series is deprecated and will raise a TypeError in the future. Use int(ser.iloc[0]) instead\n",
            "  print(f\"On an average day, {int(grouped_df)} people will benefit from a water bottle station at 40 BUSWELL STREET\")\n",
            "<ipython-input-221-50e11a638234>:4: FutureWarning: Calling int on a single element Series is deprecated and will raise a TypeError in the future. Use int(ser.iloc[0]) instead\n",
            "  WithoutWaterBottle['40 BUSWELL STREET'] = int(grouped_df)\n"
          ]
        }
      ]
    },
    {
      "cell_type": "code",
      "source": [
        "grouped_df = dfWifi[dfWifi['building_desc'] == '152 BAY STATE ROAD']\n",
        "grouped_df = grouped_df.groupby(['building_desc', 'hour'])[['capacity']].mean().sum()\n",
        "print(f\"On an average day, {int(grouped_df)} people will benefit from a water bottle station at 152 BAY STATE ROAD\")\n",
        "WithoutWaterBottle['152 BAY STATE ROAD'] = int(grouped_df)"
      ],
      "metadata": {
        "colab": {
          "base_uri": "https://localhost:8080/"
        },
        "id": "7x9wqtAHbpDG",
        "outputId": "9e16bae5-1f2e-4a84-e678-093cd92acc4d"
      },
      "execution_count": 222,
      "outputs": [
        {
          "output_type": "stream",
          "name": "stdout",
          "text": [
            "On an average day, 161 people will benefit from a water bottle station at 152 BAY STATE ROAD\n"
          ]
        },
        {
          "output_type": "stream",
          "name": "stderr",
          "text": [
            "<ipython-input-222-a754cd5fd4ff>:3: FutureWarning: Calling int on a single element Series is deprecated and will raise a TypeError in the future. Use int(ser.iloc[0]) instead\n",
            "  print(f\"On an average day, {int(grouped_df)} people will benefit from a water bottle station at 152 BAY STATE ROAD\")\n",
            "<ipython-input-222-a754cd5fd4ff>:4: FutureWarning: Calling int on a single element Series is deprecated and will raise a TypeError in the future. Use int(ser.iloc[0]) instead\n",
            "  WithoutWaterBottle['152 BAY STATE ROAD'] = int(grouped_df)\n"
          ]
        }
      ]
    },
    {
      "cell_type": "code",
      "source": [
        "grouped_df = dfWifi[dfWifi['building_desc'] == '138 MOUNTFORT STREET']\n",
        "grouped_df = grouped_df.groupby(['building_desc', 'hour'])[['capacity']].mean().sum()\n",
        "print(f\"On an average day, {int(grouped_df)} people will benefit from a water bottle station at 138 MOUNTFORT STREET\")\n",
        "WithoutWaterBottle['138 MOUNTFORT STREET'] = int(grouped_df)"
      ],
      "metadata": {
        "colab": {
          "base_uri": "https://localhost:8080/"
        },
        "id": "mG_w5QdQbpER",
        "outputId": "3f21450b-665c-49c0-f494-a98b43714205"
      },
      "execution_count": 223,
      "outputs": [
        {
          "output_type": "stream",
          "name": "stdout",
          "text": [
            "On an average day, 85 people will benefit from a water bottle station at 138 MOUNTFORT STREET\n"
          ]
        },
        {
          "output_type": "stream",
          "name": "stderr",
          "text": [
            "<ipython-input-223-220049274aff>:3: FutureWarning: Calling int on a single element Series is deprecated and will raise a TypeError in the future. Use int(ser.iloc[0]) instead\n",
            "  print(f\"On an average day, {int(grouped_df)} people will benefit from a water bottle station at 138 MOUNTFORT STREET\")\n",
            "<ipython-input-223-220049274aff>:4: FutureWarning: Calling int on a single element Series is deprecated and will raise a TypeError in the future. Use int(ser.iloc[0]) instead\n",
            "  WithoutWaterBottle['138 MOUNTFORT STREET'] = int(grouped_df)\n"
          ]
        }
      ]
    },
    {
      "cell_type": "code",
      "source": [
        "grouped_df = dfWifi[dfWifi['building_desc'] == '76 BAY STATE ROAD']\n",
        "grouped_df = grouped_df.groupby(['building_desc', 'hour'])[['capacity']].mean().sum()\n",
        "print(f\"On an average day, {int(grouped_df)} people will benefit from a water bottle station at 76 BAY STATE ROAD\")\n",
        "WithoutWaterBottle['76 BAY STATE ROAD'] = int(grouped_df)"
      ],
      "metadata": {
        "colab": {
          "base_uri": "https://localhost:8080/"
        },
        "id": "1OcOmaPwbpFX",
        "outputId": "be0a8d85-6050-432d-e3fc-2158248cf002"
      },
      "execution_count": 224,
      "outputs": [
        {
          "output_type": "stream",
          "name": "stdout",
          "text": [
            "On an average day, 1 people will benefit from a water bottle station at 76 BAY STATE ROAD\n"
          ]
        },
        {
          "output_type": "stream",
          "name": "stderr",
          "text": [
            "<ipython-input-224-43d3aace24d4>:3: FutureWarning: Calling int on a single element Series is deprecated and will raise a TypeError in the future. Use int(ser.iloc[0]) instead\n",
            "  print(f\"On an average day, {int(grouped_df)} people will benefit from a water bottle station at 76 BAY STATE ROAD\")\n",
            "<ipython-input-224-43d3aace24d4>:4: FutureWarning: Calling int on a single element Series is deprecated and will raise a TypeError in the future. Use int(ser.iloc[0]) instead\n",
            "  WithoutWaterBottle['76 BAY STATE ROAD'] = int(grouped_df)\n"
          ]
        }
      ]
    },
    {
      "cell_type": "code",
      "source": [
        "grouped_df = dfWifi[dfWifi['building_desc'] == '27 ABERDEEN STREET']\n",
        "grouped_df = grouped_df.groupby(['building_desc', 'hour'])[['capacity']].mean().sum()\n",
        "print(f\"On an average day, {int(grouped_df)} people will benefit from a water bottle station at 27 ABERDEEN STREET\")\n",
        "WithoutWaterBottle['27 ABERDEEN STREET'] = int(grouped_df)"
      ],
      "metadata": {
        "colab": {
          "base_uri": "https://localhost:8080/"
        },
        "id": "qlXe0STgbpGb",
        "outputId": "bbb06285-7971-4906-8418-6241cc2ecd6b"
      },
      "execution_count": 225,
      "outputs": [
        {
          "output_type": "stream",
          "name": "stdout",
          "text": [
            "On an average day, 2 people will benefit from a water bottle station at 27 ABERDEEN STREET\n"
          ]
        },
        {
          "output_type": "stream",
          "name": "stderr",
          "text": [
            "<ipython-input-225-154e8e9acdeb>:3: FutureWarning: Calling int on a single element Series is deprecated and will raise a TypeError in the future. Use int(ser.iloc[0]) instead\n",
            "  print(f\"On an average day, {int(grouped_df)} people will benefit from a water bottle station at 27 ABERDEEN STREET\")\n",
            "<ipython-input-225-154e8e9acdeb>:4: FutureWarning: Calling int on a single element Series is deprecated and will raise a TypeError in the future. Use int(ser.iloc[0]) instead\n",
            "  WithoutWaterBottle['27 ABERDEEN STREET'] = int(grouped_df)\n"
          ]
        }
      ]
    },
    {
      "cell_type": "code",
      "source": [
        "grouped_df = dfWifi[dfWifi['building_desc'] == '236 BAY STATE ROAD']\n",
        "grouped_df = grouped_df.groupby(['building_desc', 'hour'])[['capacity']].mean().sum()\n",
        "print(f\"On an average day, {int(grouped_df)} people will benefit from a water bottle station at 236 BAY STATE ROAD\")\n",
        "WithoutWaterBottle['236 BAY STATE ROAD'] = int(grouped_df)"
      ],
      "metadata": {
        "colab": {
          "base_uri": "https://localhost:8080/"
        },
        "id": "zxKlEN-nbpH8",
        "outputId": "3d82cc8b-71ef-4758-9347-817329873c67"
      },
      "execution_count": 226,
      "outputs": [
        {
          "output_type": "stream",
          "name": "stdout",
          "text": [
            "On an average day, 301 people will benefit from a water bottle station at 236 BAY STATE ROAD\n"
          ]
        },
        {
          "output_type": "stream",
          "name": "stderr",
          "text": [
            "<ipython-input-226-4f7a33808d87>:3: FutureWarning: Calling int on a single element Series is deprecated and will raise a TypeError in the future. Use int(ser.iloc[0]) instead\n",
            "  print(f\"On an average day, {int(grouped_df)} people will benefit from a water bottle station at 236 BAY STATE ROAD\")\n",
            "<ipython-input-226-4f7a33808d87>:4: FutureWarning: Calling int on a single element Series is deprecated and will raise a TypeError in the future. Use int(ser.iloc[0]) instead\n",
            "  WithoutWaterBottle['236 BAY STATE ROAD'] = int(grouped_df)\n"
          ]
        }
      ]
    },
    {
      "cell_type": "code",
      "source": [
        "grouped_df = dfWifi[dfWifi['building_desc'] == '128 BAY STATE ROAD']\n",
        "grouped_df = grouped_df.groupby(['building_desc', 'hour'])[['capacity']].mean().sum()\n",
        "print(f\"On an average day, {int(grouped_df)} people will benefit from a water bottle station at 128 BAY STATE ROAD\")\n",
        "WithoutWaterBottle['128 BAY STATE ROAD'] = int(grouped_df)"
      ],
      "metadata": {
        "colab": {
          "base_uri": "https://localhost:8080/"
        },
        "id": "IEU_I5PnbpJX",
        "outputId": "5fcfbfb9-31f4-4c4e-d856-e19fa4c27d81"
      },
      "execution_count": 227,
      "outputs": [
        {
          "output_type": "stream",
          "name": "stdout",
          "text": [
            "On an average day, 133 people will benefit from a water bottle station at 128 BAY STATE ROAD\n"
          ]
        },
        {
          "output_type": "stream",
          "name": "stderr",
          "text": [
            "<ipython-input-227-1bf1354e11b1>:3: FutureWarning: Calling int on a single element Series is deprecated and will raise a TypeError in the future. Use int(ser.iloc[0]) instead\n",
            "  print(f\"On an average day, {int(grouped_df)} people will benefit from a water bottle station at 128 BAY STATE ROAD\")\n",
            "<ipython-input-227-1bf1354e11b1>:4: FutureWarning: Calling int on a single element Series is deprecated and will raise a TypeError in the future. Use int(ser.iloc[0]) instead\n",
            "  WithoutWaterBottle['128 BAY STATE ROAD'] = int(grouped_df)\n"
          ]
        }
      ]
    },
    {
      "cell_type": "code",
      "source": [
        "grouped_df = dfWifi[dfWifi['building_desc'] == '910 COMMONWEALTH AVENUE']\n",
        "grouped_df = grouped_df.groupby(['building_desc', 'hour'])[['capacity']].mean().sum()\n",
        "print(f\"On an average day, {int(grouped_df)} people will benefit from a water bottle station at 910 COMMONWEALTH AVENUE\")\n",
        "WithoutWaterBottle['910 COMMONWEALTH AVENUE'] = int(grouped_df)"
      ],
      "metadata": {
        "colab": {
          "base_uri": "https://localhost:8080/"
        },
        "id": "NBu5QWNgbpKd",
        "outputId": "626f790e-4730-4e3b-a7bd-3c29c83d1dd4"
      },
      "execution_count": 228,
      "outputs": [
        {
          "output_type": "stream",
          "name": "stdout",
          "text": [
            "On an average day, 1607 people will benefit from a water bottle station at 910 COMMONWEALTH AVENUE\n"
          ]
        },
        {
          "output_type": "stream",
          "name": "stderr",
          "text": [
            "<ipython-input-228-cbb4373b887b>:3: FutureWarning: Calling int on a single element Series is deprecated and will raise a TypeError in the future. Use int(ser.iloc[0]) instead\n",
            "  print(f\"On an average day, {int(grouped_df)} people will benefit from a water bottle station at 910 COMMONWEALTH AVENUE\")\n",
            "<ipython-input-228-cbb4373b887b>:4: FutureWarning: Calling int on a single element Series is deprecated and will raise a TypeError in the future. Use int(ser.iloc[0]) instead\n",
            "  WithoutWaterBottle['910 COMMONWEALTH AVENUE'] = int(grouped_df)\n"
          ]
        }
      ]
    },
    {
      "cell_type": "code",
      "source": [
        "grouped_df = dfWifi[dfWifi['building_desc'] == '194 BAY STATE ROAD']\n",
        "grouped_df = grouped_df.groupby(['building_desc', 'hour'])[['capacity']].mean().sum()\n",
        "print(f\"On an average day, {int(grouped_df)} people will benefit from a water bottle station at 194 BAY STATE ROAD\")\n",
        "WithoutWaterBottle['194 BAY STATE ROAD'] = int(grouped_df)"
      ],
      "metadata": {
        "colab": {
          "base_uri": "https://localhost:8080/"
        },
        "id": "qYG0MzbhbpLr",
        "outputId": "8f779800-7be5-495c-e186-03d898ab4996"
      },
      "execution_count": 229,
      "outputs": [
        {
          "output_type": "stream",
          "name": "stdout",
          "text": [
            "On an average day, 105 people will benefit from a water bottle station at 194 BAY STATE ROAD\n"
          ]
        },
        {
          "output_type": "stream",
          "name": "stderr",
          "text": [
            "<ipython-input-229-5e04607b65c4>:3: FutureWarning: Calling int on a single element Series is deprecated and will raise a TypeError in the future. Use int(ser.iloc[0]) instead\n",
            "  print(f\"On an average day, {int(grouped_df)} people will benefit from a water bottle station at 194 BAY STATE ROAD\")\n",
            "<ipython-input-229-5e04607b65c4>:4: FutureWarning: Calling int on a single element Series is deprecated and will raise a TypeError in the future. Use int(ser.iloc[0]) instead\n",
            "  WithoutWaterBottle['194 BAY STATE ROAD'] = int(grouped_df)\n"
          ]
        }
      ]
    },
    {
      "cell_type": "code",
      "source": [
        "grouped_df = dfWifi[dfWifi['building_desc'] == '213 BAY STATE ROAD']\n",
        "grouped_df = grouped_df.groupby(['building_desc', 'hour'])[['capacity']].mean().sum()\n",
        "print(f\"On an average day, {int(grouped_df)} people will benefit from a water bottle station at 213 BAY STATE ROAD\")\n",
        "WithoutWaterBottle['213 BAY STATE ROAD'] = int(grouped_df)"
      ],
      "metadata": {
        "colab": {
          "base_uri": "https://localhost:8080/"
        },
        "id": "Xd8_REbyb_1X",
        "outputId": "d9a0c76a-ec2d-4911-87da-5e7eaf4582d4"
      },
      "execution_count": 230,
      "outputs": [
        {
          "output_type": "stream",
          "name": "stdout",
          "text": [
            "On an average day, 1511 people will benefit from a water bottle station at 213 BAY STATE ROAD\n"
          ]
        },
        {
          "output_type": "stream",
          "name": "stderr",
          "text": [
            "<ipython-input-230-427916468523>:3: FutureWarning: Calling int on a single element Series is deprecated and will raise a TypeError in the future. Use int(ser.iloc[0]) instead\n",
            "  print(f\"On an average day, {int(grouped_df)} people will benefit from a water bottle station at 213 BAY STATE ROAD\")\n",
            "<ipython-input-230-427916468523>:4: FutureWarning: Calling int on a single element Series is deprecated and will raise a TypeError in the future. Use int(ser.iloc[0]) instead\n",
            "  WithoutWaterBottle['213 BAY STATE ROAD'] = int(grouped_df)\n"
          ]
        }
      ]
    },
    {
      "cell_type": "code",
      "source": [
        "grouped_df = dfWifi[dfWifi['building_desc'] == '457 PARK DRIVE']\n",
        "grouped_df = grouped_df.groupby(['building_desc', 'hour'])[['capacity']].mean().sum()\n",
        "print(f\"On an average day, {int(grouped_df)} people will benefit from a water bottle station at 457 PARK DRIVE\")\n",
        "WithoutWaterBottle['457 PARK DRIVE'] = int(grouped_df)"
      ],
      "metadata": {
        "colab": {
          "base_uri": "https://localhost:8080/"
        },
        "id": "EpE3khR8b_5E",
        "outputId": "218ee1d7-924e-4f6e-bf82-89871ea89eb2"
      },
      "execution_count": 231,
      "outputs": [
        {
          "output_type": "stream",
          "name": "stdout",
          "text": [
            "On an average day, 156 people will benefit from a water bottle station at 457 PARK DRIVE\n"
          ]
        },
        {
          "output_type": "stream",
          "name": "stderr",
          "text": [
            "<ipython-input-231-7b61b9b057bd>:3: FutureWarning: Calling int on a single element Series is deprecated and will raise a TypeError in the future. Use int(ser.iloc[0]) instead\n",
            "  print(f\"On an average day, {int(grouped_df)} people will benefit from a water bottle station at 457 PARK DRIVE\")\n",
            "<ipython-input-231-7b61b9b057bd>:4: FutureWarning: Calling int on a single element Series is deprecated and will raise a TypeError in the future. Use int(ser.iloc[0]) instead\n",
            "  WithoutWaterBottle['457 PARK DRIVE'] = int(grouped_df)\n"
          ]
        }
      ]
    },
    {
      "cell_type": "code",
      "source": [
        "grouped_df = dfWifi[dfWifi['building_desc'] == '455 PARK DRIVE']\n",
        "grouped_df = grouped_df.groupby(['building_desc', 'hour'])[['capacity']].mean().sum()\n",
        "print(f\"On an average day, {int(grouped_df)} people will benefit from a water bottle station at 455 PARK DRIVE\")\n",
        "WithoutWaterBottle['455 PARK DRIVE'] = int(grouped_df)"
      ],
      "metadata": {
        "colab": {
          "base_uri": "https://localhost:8080/"
        },
        "id": "dZX6XbUVb_78",
        "outputId": "4218c669-7047-4cac-eba8-6fa52013ef38"
      },
      "execution_count": 232,
      "outputs": [
        {
          "output_type": "stream",
          "name": "stdout",
          "text": [
            "On an average day, 156 people will benefit from a water bottle station at 455 PARK DRIVE\n"
          ]
        },
        {
          "output_type": "stream",
          "name": "stderr",
          "text": [
            "<ipython-input-232-ea8b5fcea2a9>:3: FutureWarning: Calling int on a single element Series is deprecated and will raise a TypeError in the future. Use int(ser.iloc[0]) instead\n",
            "  print(f\"On an average day, {int(grouped_df)} people will benefit from a water bottle station at 455 PARK DRIVE\")\n",
            "<ipython-input-232-ea8b5fcea2a9>:4: FutureWarning: Calling int on a single element Series is deprecated and will raise a TypeError in the future. Use int(ser.iloc[0]) instead\n",
            "  WithoutWaterBottle['455 PARK DRIVE'] = int(grouped_df)\n"
          ]
        }
      ]
    },
    {
      "cell_type": "code",
      "source": [
        "grouped_df = dfWifi[dfWifi['building_desc'] == '147 BAY STATE ROAD']\n",
        "grouped_df = grouped_df.groupby(['building_desc', 'hour'])[['capacity']].mean().sum()\n",
        "print(f\"On an average day, {int(grouped_df)} people will benefit from a water bottle station at 147 BAY STATE ROAD\")\n",
        "WithoutWaterBottle['147 BAY STATE ROAD'] = int(grouped_df)"
      ],
      "metadata": {
        "colab": {
          "base_uri": "https://localhost:8080/"
        },
        "id": "quimrNUKb_9g",
        "outputId": "812b03e7-56ab-4647-df7d-c1cd18755d52"
      },
      "execution_count": 233,
      "outputs": [
        {
          "output_type": "stream",
          "name": "stdout",
          "text": [
            "On an average day, 380 people will benefit from a water bottle station at 147 BAY STATE ROAD\n"
          ]
        },
        {
          "output_type": "stream",
          "name": "stderr",
          "text": [
            "<ipython-input-233-f6dfd8fe51db>:3: FutureWarning: Calling int on a single element Series is deprecated and will raise a TypeError in the future. Use int(ser.iloc[0]) instead\n",
            "  print(f\"On an average day, {int(grouped_df)} people will benefit from a water bottle station at 147 BAY STATE ROAD\")\n",
            "<ipython-input-233-f6dfd8fe51db>:4: FutureWarning: Calling int on a single element Series is deprecated and will raise a TypeError in the future. Use int(ser.iloc[0]) instead\n",
            "  WithoutWaterBottle['147 BAY STATE ROAD'] = int(grouped_df)\n"
          ]
        }
      ]
    },
    {
      "cell_type": "code",
      "source": [
        "grouped_df = dfWifi[dfWifi['building_desc'] == '172 BAY STATE ROAD']\n",
        "grouped_df = grouped_df.groupby(['building_desc', 'hour'])[['capacity']].mean().sum()\n",
        "print(f\"On an average day, {int(grouped_df)} people will benefit from a water bottle station at 172 BAY STATE ROAD\")\n",
        "WithoutWaterBottle['172 BAY STATE ROAD'] = int(grouped_df)"
      ],
      "metadata": {
        "colab": {
          "base_uri": "https://localhost:8080/"
        },
        "id": "P73IkXFRcAAB",
        "outputId": "cd6530ea-cbe6-4a40-c997-da04d7acd427"
      },
      "execution_count": 234,
      "outputs": [
        {
          "output_type": "stream",
          "name": "stdout",
          "text": [
            "On an average day, 106 people will benefit from a water bottle station at 172 BAY STATE ROAD\n"
          ]
        },
        {
          "output_type": "stream",
          "name": "stderr",
          "text": [
            "<ipython-input-234-66630a860d69>:3: FutureWarning: Calling int on a single element Series is deprecated and will raise a TypeError in the future. Use int(ser.iloc[0]) instead\n",
            "  print(f\"On an average day, {int(grouped_df)} people will benefit from a water bottle station at 172 BAY STATE ROAD\")\n",
            "<ipython-input-234-66630a860d69>:4: FutureWarning: Calling int on a single element Series is deprecated and will raise a TypeError in the future. Use int(ser.iloc[0]) instead\n",
            "  WithoutWaterBottle['172 BAY STATE ROAD'] = int(grouped_df)\n"
          ]
        }
      ]
    },
    {
      "cell_type": "code",
      "source": [
        "grouped_df = dfWifi[dfWifi['building_desc'] == \"15 ST. MARY'S STREET\"]\n",
        "grouped_df = grouped_df.groupby(['building_desc', 'hour'])[['capacity']].mean().sum()\n",
        "print(f\"On an average day, {int(grouped_df)} people will benefit from a water bottle station at 15 ST. MARY'S STREET\")\n",
        "WithoutWaterBottle[\"15 ST. MARY'S STREET\"] = int(grouped_df)"
      ],
      "metadata": {
        "colab": {
          "base_uri": "https://localhost:8080/"
        },
        "id": "3I2zd_IpcAB4",
        "outputId": "bb970a0c-d0f2-44c3-8f37-54c2e3deb949"
      },
      "execution_count": 235,
      "outputs": [
        {
          "output_type": "stream",
          "name": "stdout",
          "text": [
            "On an average day, 1868 people will benefit from a water bottle station at 15 ST. MARY'S STREET\n"
          ]
        },
        {
          "output_type": "stream",
          "name": "stderr",
          "text": [
            "<ipython-input-235-4532e5a013fa>:3: FutureWarning: Calling int on a single element Series is deprecated and will raise a TypeError in the future. Use int(ser.iloc[0]) instead\n",
            "  print(f\"On an average day, {int(grouped_df)} people will benefit from a water bottle station at 15 ST. MARY'S STREET\")\n",
            "<ipython-input-235-4532e5a013fa>:4: FutureWarning: Calling int on a single element Series is deprecated and will raise a TypeError in the future. Use int(ser.iloc[0]) instead\n",
            "  WithoutWaterBottle[\"15 ST. MARY'S STREET\"] = int(grouped_df)\n"
          ]
        }
      ]
    },
    {
      "cell_type": "code",
      "source": [
        "grouped_df = dfWifi[dfWifi['building_desc'] == '56 BAY STATE ROAD']\n",
        "grouped_df = grouped_df.groupby(['building_desc', 'hour'])[['capacity']].mean().sum()\n",
        "print(f\"On an average day, {int(grouped_df)} people will benefit from a water bottle station at 56 BAY STATE ROAD\")\n",
        "WithoutWaterBottle['56 BAY STATE ROAD'] = int(grouped_df)"
      ],
      "metadata": {
        "colab": {
          "base_uri": "https://localhost:8080/"
        },
        "id": "3_R5SC8zcAD1",
        "outputId": "dc7e6b60-ac61-407a-b263-fa54d4880af8"
      },
      "execution_count": 236,
      "outputs": [
        {
          "output_type": "stream",
          "name": "stdout",
          "text": [
            "On an average day, 66 people will benefit from a water bottle station at 56 BAY STATE ROAD\n"
          ]
        },
        {
          "output_type": "stream",
          "name": "stderr",
          "text": [
            "<ipython-input-236-90480b112a58>:3: FutureWarning: Calling int on a single element Series is deprecated and will raise a TypeError in the future. Use int(ser.iloc[0]) instead\n",
            "  print(f\"On an average day, {int(grouped_df)} people will benefit from a water bottle station at 56 BAY STATE ROAD\")\n",
            "<ipython-input-236-90480b112a58>:4: FutureWarning: Calling int on a single element Series is deprecated and will raise a TypeError in the future. Use int(ser.iloc[0]) instead\n",
            "  WithoutWaterBottle['56 BAY STATE ROAD'] = int(grouped_df)\n"
          ]
        }
      ]
    },
    {
      "cell_type": "code",
      "source": [
        "grouped_df = dfWifi[dfWifi['building_desc'] == '718 COMMONWEALTH AVENUE']\n",
        "grouped_df = grouped_df.groupby(['building_desc', 'hour'])[['capacity']].mean().sum()\n",
        "print(f\"On an average day, {int(grouped_df)} people will benefit from a water bottle station at 718 COMMONWEALTH AVENUE\")\n",
        "WithoutWaterBottle['718 COMMONWEALTH AVENUE'] = int(grouped_df)"
      ],
      "metadata": {
        "colab": {
          "base_uri": "https://localhost:8080/"
        },
        "id": "Cl-p1WFrcANh",
        "outputId": "fc9b4fac-0cc9-4b13-863a-a0de107972dc"
      },
      "execution_count": 237,
      "outputs": [
        {
          "output_type": "stream",
          "name": "stdout",
          "text": [
            "On an average day, 326 people will benefit from a water bottle station at 718 COMMONWEALTH AVENUE\n"
          ]
        },
        {
          "output_type": "stream",
          "name": "stderr",
          "text": [
            "<ipython-input-237-ac7084ae4206>:3: FutureWarning: Calling int on a single element Series is deprecated and will raise a TypeError in the future. Use int(ser.iloc[0]) instead\n",
            "  print(f\"On an average day, {int(grouped_df)} people will benefit from a water bottle station at 718 COMMONWEALTH AVENUE\")\n",
            "<ipython-input-237-ac7084ae4206>:4: FutureWarning: Calling int on a single element Series is deprecated and will raise a TypeError in the future. Use int(ser.iloc[0]) instead\n",
            "  WithoutWaterBottle['718 COMMONWEALTH AVENUE'] = int(grouped_df)\n"
          ]
        }
      ]
    },
    {
      "cell_type": "code",
      "source": [
        "grouped_df = dfWifi[dfWifi['building_desc'] == '124 BAY STATE ROAD']\n",
        "grouped_df = grouped_df.groupby(['building_desc', 'hour'])[['capacity']].mean().sum()\n",
        "print(f\"On an average day, {int(grouped_df)} people will benefit from a water bottle station at 124 BAY STATE ROAD\")\n",
        "WithoutWaterBottle['124 BAY STATE ROAD'] = int(grouped_df)"
      ],
      "metadata": {
        "colab": {
          "base_uri": "https://localhost:8080/"
        },
        "id": "OJACldBmcBbU",
        "outputId": "91560784-80b1-49a7-aa29-d4197dd3e0d2"
      },
      "execution_count": 238,
      "outputs": [
        {
          "output_type": "stream",
          "name": "stdout",
          "text": [
            "On an average day, 58 people will benefit from a water bottle station at 124 BAY STATE ROAD\n"
          ]
        },
        {
          "output_type": "stream",
          "name": "stderr",
          "text": [
            "<ipython-input-238-032aa6f4d79a>:3: FutureWarning: Calling int on a single element Series is deprecated and will raise a TypeError in the future. Use int(ser.iloc[0]) instead\n",
            "  print(f\"On an average day, {int(grouped_df)} people will benefit from a water bottle station at 124 BAY STATE ROAD\")\n",
            "<ipython-input-238-032aa6f4d79a>:4: FutureWarning: Calling int on a single element Series is deprecated and will raise a TypeError in the future. Use int(ser.iloc[0]) instead\n",
            "  WithoutWaterBottle['124 BAY STATE ROAD'] = int(grouped_df)\n"
          ]
        }
      ]
    },
    {
      "cell_type": "code",
      "source": [
        "grouped_df = dfWifi[dfWifi['building_desc'] == '125 BAY STATE ROAD']\n",
        "grouped_df = grouped_df.groupby(['building_desc', 'hour'])[['capacity']].mean().sum()\n",
        "print(f\"On an average day, {int(grouped_df)} people will benefit from a water bottle station at 125 BAY STATE ROAD\")\n",
        "WithoutWaterBottle['125 BAY STATE ROAD'] = int(grouped_df)"
      ],
      "metadata": {
        "colab": {
          "base_uri": "https://localhost:8080/"
        },
        "id": "_aXEr35NcBd3",
        "outputId": "5ba412b3-dfdd-4b15-f872-9b023ab37fd9"
      },
      "execution_count": 239,
      "outputs": [
        {
          "output_type": "stream",
          "name": "stdout",
          "text": [
            "On an average day, 154 people will benefit from a water bottle station at 125 BAY STATE ROAD\n"
          ]
        },
        {
          "output_type": "stream",
          "name": "stderr",
          "text": [
            "<ipython-input-239-75faac3cd1ab>:3: FutureWarning: Calling int on a single element Series is deprecated and will raise a TypeError in the future. Use int(ser.iloc[0]) instead\n",
            "  print(f\"On an average day, {int(grouped_df)} people will benefit from a water bottle station at 125 BAY STATE ROAD\")\n",
            "<ipython-input-239-75faac3cd1ab>:4: FutureWarning: Calling int on a single element Series is deprecated and will raise a TypeError in the future. Use int(ser.iloc[0]) instead\n",
            "  WithoutWaterBottle['125 BAY STATE ROAD'] = int(grouped_df)\n"
          ]
        }
      ]
    },
    {
      "cell_type": "code",
      "source": [
        "grouped_df = dfWifi[dfWifi['building_desc'] == '975 COMMONWEALTH AVENUE']\n",
        "grouped_df = grouped_df.groupby(['building_desc', 'hour'])[['capacity']].mean().sum()\n",
        "print(f\"On an average day, {int(grouped_df)} people will benefit from a water bottle station at 975 COMMONWEALTH AVENUE\")\n",
        "WithoutWaterBottle['975 COMMONWEALTH AVENUE'] = int(grouped_df)"
      ],
      "metadata": {
        "colab": {
          "base_uri": "https://localhost:8080/"
        },
        "id": "phqax1qtcBfi",
        "outputId": "84ab3568-5a9c-4d20-cd6e-3fa5740989a4"
      },
      "execution_count": 240,
      "outputs": [
        {
          "output_type": "stream",
          "name": "stdout",
          "text": [
            "On an average day, 1054 people will benefit from a water bottle station at 975 COMMONWEALTH AVENUE\n"
          ]
        },
        {
          "output_type": "stream",
          "name": "stderr",
          "text": [
            "<ipython-input-240-440fcbf84521>:3: FutureWarning: Calling int on a single element Series is deprecated and will raise a TypeError in the future. Use int(ser.iloc[0]) instead\n",
            "  print(f\"On an average day, {int(grouped_df)} people will benefit from a water bottle station at 975 COMMONWEALTH AVENUE\")\n",
            "<ipython-input-240-440fcbf84521>:4: FutureWarning: Calling int on a single element Series is deprecated and will raise a TypeError in the future. Use int(ser.iloc[0]) instead\n",
            "  WithoutWaterBottle['975 COMMONWEALTH AVENUE'] = int(grouped_df)\n"
          ]
        }
      ]
    },
    {
      "cell_type": "code",
      "source": [
        "grouped_df = dfWifi[dfWifi['building_desc'] == '708 COMMONWEALTH AVENUE']\n",
        "grouped_df = grouped_df.groupby(['building_desc', 'hour'])[['capacity']].mean().sum()\n",
        "print(f\"On an average day, {int(grouped_df)} people will benefit from a water bottle station at 708 COMMONWEALTH AVENUE\")\n",
        "WithoutWaterBottle['708 COMMONWEALTH AVENUE'] = int(grouped_df)"
      ],
      "metadata": {
        "colab": {
          "base_uri": "https://localhost:8080/"
        },
        "id": "7KtRjnIYcOeX",
        "outputId": "3c05f36f-b862-4eba-8e1f-d1683bac6518"
      },
      "execution_count": 241,
      "outputs": [
        {
          "output_type": "stream",
          "name": "stdout",
          "text": [
            "On an average day, 79 people will benefit from a water bottle station at 708 COMMONWEALTH AVENUE\n"
          ]
        },
        {
          "output_type": "stream",
          "name": "stderr",
          "text": [
            "<ipython-input-241-bd4a05bcb6f6>:3: FutureWarning: Calling int on a single element Series is deprecated and will raise a TypeError in the future. Use int(ser.iloc[0]) instead\n",
            "  print(f\"On an average day, {int(grouped_df)} people will benefit from a water bottle station at 708 COMMONWEALTH AVENUE\")\n",
            "<ipython-input-241-bd4a05bcb6f6>:4: FutureWarning: Calling int on a single element Series is deprecated and will raise a TypeError in the future. Use int(ser.iloc[0]) instead\n",
            "  WithoutWaterBottle['708 COMMONWEALTH AVENUE'] = int(grouped_df)\n"
          ]
        }
      ]
    },
    {
      "cell_type": "code",
      "source": [
        "grouped_df = dfWifi[dfWifi['building_desc'] == '121 BAY STATE ROAD']\n",
        "grouped_df = grouped_df.groupby(['building_desc', 'hour'])[['capacity']].mean().sum()\n",
        "print(f\"On an average day, {int(grouped_df)} people will benefit from a water bottle station at 121 BAY STATE ROAD\")\n",
        "WithoutWaterBottle['121 BAY STATE ROAD'] = int(grouped_df)"
      ],
      "metadata": {
        "colab": {
          "base_uri": "https://localhost:8080/"
        },
        "id": "XB8yED40cOgT",
        "outputId": "a8cd2f90-6647-44b5-9b36-860e2e880e12"
      },
      "execution_count": 242,
      "outputs": [
        {
          "output_type": "stream",
          "name": "stdout",
          "text": [
            "On an average day, 211 people will benefit from a water bottle station at 121 BAY STATE ROAD\n"
          ]
        },
        {
          "output_type": "stream",
          "name": "stderr",
          "text": [
            "<ipython-input-242-b45ecf91881d>:3: FutureWarning: Calling int on a single element Series is deprecated and will raise a TypeError in the future. Use int(ser.iloc[0]) instead\n",
            "  print(f\"On an average day, {int(grouped_df)} people will benefit from a water bottle station at 121 BAY STATE ROAD\")\n",
            "<ipython-input-242-b45ecf91881d>:4: FutureWarning: Calling int on a single element Series is deprecated and will raise a TypeError in the future. Use int(ser.iloc[0]) instead\n",
            "  WithoutWaterBottle['121 BAY STATE ROAD'] = int(grouped_df)\n"
          ]
        }
      ]
    },
    {
      "cell_type": "code",
      "source": [
        "grouped_df = dfWifi[dfWifi['building_desc'] == '185 BAY STATE ROAD']\n",
        "grouped_df = grouped_df.groupby(['building_desc', 'hour'])[['capacity']].mean().sum()\n",
        "print(f\"On an average day, {int(grouped_df)} people will benefit from a water bottle station at 185 BAY STATE ROAD\")\n",
        "WithoutWaterBottle['185 BAY STATE ROAD'] = int(grouped_df)"
      ],
      "metadata": {
        "colab": {
          "base_uri": "https://localhost:8080/"
        },
        "id": "Lhf0DaSFcOh4",
        "outputId": "50ce8021-6c67-4c11-960c-676aa5533258"
      },
      "execution_count": 243,
      "outputs": [
        {
          "output_type": "stream",
          "name": "stdout",
          "text": [
            "On an average day, 153 people will benefit from a water bottle station at 185 BAY STATE ROAD\n"
          ]
        },
        {
          "output_type": "stream",
          "name": "stderr",
          "text": [
            "<ipython-input-243-6dbde7d7552f>:3: FutureWarning: Calling int on a single element Series is deprecated and will raise a TypeError in the future. Use int(ser.iloc[0]) instead\n",
            "  print(f\"On an average day, {int(grouped_df)} people will benefit from a water bottle station at 185 BAY STATE ROAD\")\n",
            "<ipython-input-243-6dbde7d7552f>:4: FutureWarning: Calling int on a single element Series is deprecated and will raise a TypeError in the future. Use int(ser.iloc[0]) instead\n",
            "  WithoutWaterBottle['185 BAY STATE ROAD'] = int(grouped_df)\n"
          ]
        }
      ]
    },
    {
      "cell_type": "code",
      "source": [
        "grouped_df = dfWifi[dfWifi['building_desc'] == '116 BAY STATE ROAD']\n",
        "grouped_df = grouped_df.groupby(['building_desc', 'hour'])[['capacity']].mean().sum()\n",
        "print(f\"On an average day, {int(grouped_df)} people will benefit from a water bottle station at 116 BAY STATE ROAD\")\n",
        "WithoutWaterBottle['116 BAY STATE ROAD'] = int(grouped_df)"
      ],
      "metadata": {
        "colab": {
          "base_uri": "https://localhost:8080/"
        },
        "id": "AHNjJLyAcOrQ",
        "outputId": "dbfc8bcd-71ae-4ad2-f7e0-1c9fc5265399"
      },
      "execution_count": 244,
      "outputs": [
        {
          "output_type": "stream",
          "name": "stdout",
          "text": [
            "On an average day, 85 people will benefit from a water bottle station at 116 BAY STATE ROAD\n"
          ]
        },
        {
          "output_type": "stream",
          "name": "stderr",
          "text": [
            "<ipython-input-244-c16fefb75825>:3: FutureWarning: Calling int on a single element Series is deprecated and will raise a TypeError in the future. Use int(ser.iloc[0]) instead\n",
            "  print(f\"On an average day, {int(grouped_df)} people will benefit from a water bottle station at 116 BAY STATE ROAD\")\n",
            "<ipython-input-244-c16fefb75825>:4: FutureWarning: Calling int on a single element Series is deprecated and will raise a TypeError in the future. Use int(ser.iloc[0]) instead\n",
            "  WithoutWaterBottle['116 BAY STATE ROAD'] = int(grouped_df)\n"
          ]
        }
      ]
    },
    {
      "cell_type": "code",
      "source": [
        "grouped_df = dfWifi[dfWifi['building_desc'] == '602 COMMONWEALTH AVENUE']\n",
        "grouped_df = grouped_df.groupby(['building_desc', 'hour'])[['capacity']].mean().sum()\n",
        "print(f\"On an average day, {int(grouped_df)} people will benefit from a water bottle station at 602 COMMONWEALTH AVENUE\")\n",
        "WithoutWaterBottle['602 COMMONWEALTH AVENUE'] = int(grouped_df)"
      ],
      "metadata": {
        "colab": {
          "base_uri": "https://localhost:8080/"
        },
        "id": "C1I-ocefcOto",
        "outputId": "b6de0621-b5ed-4098-b3ed-dc675d811484"
      },
      "execution_count": 245,
      "outputs": [
        {
          "output_type": "stream",
          "name": "stdout",
          "text": [
            "On an average day, 829 people will benefit from a water bottle station at 602 COMMONWEALTH AVENUE\n"
          ]
        },
        {
          "output_type": "stream",
          "name": "stderr",
          "text": [
            "<ipython-input-245-5427c3675d01>:3: FutureWarning: Calling int on a single element Series is deprecated and will raise a TypeError in the future. Use int(ser.iloc[0]) instead\n",
            "  print(f\"On an average day, {int(grouped_df)} people will benefit from a water bottle station at 602 COMMONWEALTH AVENUE\")\n",
            "<ipython-input-245-5427c3675d01>:4: FutureWarning: Calling int on a single element Series is deprecated and will raise a TypeError in the future. Use int(ser.iloc[0]) instead\n",
            "  WithoutWaterBottle['602 COMMONWEALTH AVENUE'] = int(grouped_df)\n"
          ]
        }
      ]
    },
    {
      "cell_type": "code",
      "source": [
        "grouped_df = dfWifi[dfWifi['building_desc'] == '61 BAY STATE ROAD']\n",
        "grouped_df = grouped_df.groupby(['building_desc', 'hour'])[['capacity']].mean().sum()\n",
        "print(f\"On an average day, {int(grouped_df)} people will benefit from a water bottle station at 61 BAY STATE ROAD\")\n",
        "WithoutWaterBottle['61 BAY STATE ROAD'] = int(grouped_df)"
      ],
      "metadata": {
        "colab": {
          "base_uri": "https://localhost:8080/"
        },
        "id": "ZLbWIATBcOv4",
        "outputId": "3da57185-a0c4-4626-d670-0ffa5425070c"
      },
      "execution_count": 246,
      "outputs": [
        {
          "output_type": "stream",
          "name": "stdout",
          "text": [
            "On an average day, 79 people will benefit from a water bottle station at 61 BAY STATE ROAD\n"
          ]
        },
        {
          "output_type": "stream",
          "name": "stderr",
          "text": [
            "<ipython-input-246-5661edc5f326>:3: FutureWarning: Calling int on a single element Series is deprecated and will raise a TypeError in the future. Use int(ser.iloc[0]) instead\n",
            "  print(f\"On an average day, {int(grouped_df)} people will benefit from a water bottle station at 61 BAY STATE ROAD\")\n",
            "<ipython-input-246-5661edc5f326>:4: FutureWarning: Calling int on a single element Series is deprecated and will raise a TypeError in the future. Use int(ser.iloc[0]) instead\n",
            "  WithoutWaterBottle['61 BAY STATE ROAD'] = int(grouped_df)\n"
          ]
        }
      ]
    },
    {
      "cell_type": "code",
      "source": [
        "grouped_df = dfWifi[dfWifi['building_desc'] == '193 BAY STATE ROAD']\n",
        "grouped_df = grouped_df.groupby(['building_desc', 'hour'])[['capacity']].mean().sum()\n",
        "print(f\"On an average day, {int(grouped_df)} people will benefit from a water bottle station at 193 BAY STATE ROAD\")\n",
        "WithoutWaterBottle['193 BAY STATE ROAD'] = int(grouped_df)"
      ],
      "metadata": {
        "colab": {
          "base_uri": "https://localhost:8080/"
        },
        "id": "b6kG6LNicOyH",
        "outputId": "26e4111e-fed8-4cc4-93b4-fb9eb4d6b2c8"
      },
      "execution_count": 247,
      "outputs": [
        {
          "output_type": "stream",
          "name": "stdout",
          "text": [
            "On an average day, 151 people will benefit from a water bottle station at 193 BAY STATE ROAD\n"
          ]
        },
        {
          "output_type": "stream",
          "name": "stderr",
          "text": [
            "<ipython-input-247-355cad5a5243>:3: FutureWarning: Calling int on a single element Series is deprecated and will raise a TypeError in the future. Use int(ser.iloc[0]) instead\n",
            "  print(f\"On an average day, {int(grouped_df)} people will benefit from a water bottle station at 193 BAY STATE ROAD\")\n",
            "<ipython-input-247-355cad5a5243>:4: FutureWarning: Calling int on a single element Series is deprecated and will raise a TypeError in the future. Use int(ser.iloc[0]) instead\n",
            "  WithoutWaterBottle['193 BAY STATE ROAD'] = int(grouped_df)\n"
          ]
        }
      ]
    },
    {
      "cell_type": "code",
      "source": [
        "grouped_df = dfWifi[dfWifi['building_desc'] == '10 COTTAGE FARM ROAD']\n",
        "grouped_df = grouped_df.groupby(['building_desc', 'hour'])[['capacity']].mean().sum()\n",
        "print(f\"On an average day, {int(grouped_df)} people will benefit from a water bottle station at 10 COTTAGE FARM ROAD\")\n",
        "WithoutWaterBottle['10 COTTAGE FARM ROAD'] = int(grouped_df)"
      ],
      "metadata": {
        "colab": {
          "base_uri": "https://localhost:8080/"
        },
        "id": "VGXpVTa2cOz_",
        "outputId": "7d547205-c6b8-43ad-900c-2f0b6dca4b79"
      },
      "execution_count": 248,
      "outputs": [
        {
          "output_type": "stream",
          "name": "stdout",
          "text": [
            "On an average day, 0 people will benefit from a water bottle station at 10 COTTAGE FARM ROAD\n"
          ]
        },
        {
          "output_type": "stream",
          "name": "stderr",
          "text": [
            "<ipython-input-248-11f1bc9baa59>:3: FutureWarning: Calling int on a single element Series is deprecated and will raise a TypeError in the future. Use int(ser.iloc[0]) instead\n",
            "  print(f\"On an average day, {int(grouped_df)} people will benefit from a water bottle station at 10 COTTAGE FARM ROAD\")\n",
            "<ipython-input-248-11f1bc9baa59>:4: FutureWarning: Calling int on a single element Series is deprecated and will raise a TypeError in the future. Use int(ser.iloc[0]) instead\n",
            "  WithoutWaterBottle['10 COTTAGE FARM ROAD'] = int(grouped_df)\n"
          ]
        }
      ]
    },
    {
      "cell_type": "code",
      "source": [
        "grouped_df = dfWifi[dfWifi['building_desc'] == '78 BAY STATE ROAD']\n",
        "grouped_df = grouped_df.groupby(['building_desc', 'hour'])[['capacity']].mean().sum()\n",
        "print(f\"On an average day, {int(grouped_df)} people will benefit from a water bottle station at 78 BAY STATE ROAD\")\n",
        "WithoutWaterBottle['78 BAY STATE ROAD'] = int(grouped_df)"
      ],
      "metadata": {
        "colab": {
          "base_uri": "https://localhost:8080/"
        },
        "id": "-bwaeYhecXUu",
        "outputId": "a6fbdcbf-c996-4165-faa3-0d0e692291fc"
      },
      "execution_count": 249,
      "outputs": [
        {
          "output_type": "stream",
          "name": "stdout",
          "text": [
            "On an average day, 52 people will benefit from a water bottle station at 78 BAY STATE ROAD\n"
          ]
        },
        {
          "output_type": "stream",
          "name": "stderr",
          "text": [
            "<ipython-input-249-715a37ba0d04>:3: FutureWarning: Calling int on a single element Series is deprecated and will raise a TypeError in the future. Use int(ser.iloc[0]) instead\n",
            "  print(f\"On an average day, {int(grouped_df)} people will benefit from a water bottle station at 78 BAY STATE ROAD\")\n",
            "<ipython-input-249-715a37ba0d04>:4: FutureWarning: Calling int on a single element Series is deprecated and will raise a TypeError in the future. Use int(ser.iloc[0]) instead\n",
            "  WithoutWaterBottle['78 BAY STATE ROAD'] = int(grouped_df)\n"
          ]
        }
      ]
    },
    {
      "cell_type": "code",
      "source": [
        "grouped_df = dfWifi[dfWifi['building_desc'] == '143 BAY STATE ROAD']\n",
        "grouped_df = grouped_df.groupby(['building_desc', 'hour'])[['capacity']].mean().sum()\n",
        "print(f\"On an average day, {int(grouped_df)} people will benefit from a water bottle station at 143 BAY STATE ROAD\")\n",
        "WithoutWaterBottle['143 BAY STATE ROAD'] = int(grouped_df)"
      ],
      "metadata": {
        "colab": {
          "base_uri": "https://localhost:8080/"
        },
        "id": "dp2mb3rocXW-",
        "outputId": "7436a00f-69d7-4683-840c-4b9c9144e510"
      },
      "execution_count": 250,
      "outputs": [
        {
          "output_type": "stream",
          "name": "stdout",
          "text": [
            "On an average day, 194 people will benefit from a water bottle station at 143 BAY STATE ROAD\n"
          ]
        },
        {
          "output_type": "stream",
          "name": "stderr",
          "text": [
            "<ipython-input-250-8905577de6bc>:3: FutureWarning: Calling int on a single element Series is deprecated and will raise a TypeError in the future. Use int(ser.iloc[0]) instead\n",
            "  print(f\"On an average day, {int(grouped_df)} people will benefit from a water bottle station at 143 BAY STATE ROAD\")\n",
            "<ipython-input-250-8905577de6bc>:4: FutureWarning: Calling int on a single element Series is deprecated and will raise a TypeError in the future. Use int(ser.iloc[0]) instead\n",
            "  WithoutWaterBottle['143 BAY STATE ROAD'] = int(grouped_df)\n"
          ]
        }
      ]
    },
    {
      "cell_type": "code",
      "source": [
        "grouped_df = dfWifi[dfWifi['building_desc'] == '135 IVY STREET']\n",
        "grouped_df = grouped_df.groupby(['building_desc', 'hour'])[['capacity']].mean().sum()\n",
        "print(f\"On an average day, {int(grouped_df)} people will benefit from a water bottle station at 135 IVY STREET\")\n",
        "WithoutWaterBottle['135 IVY STREET'] = int(grouped_df)"
      ],
      "metadata": {
        "colab": {
          "base_uri": "https://localhost:8080/"
        },
        "id": "xpWSOuQscXZX",
        "outputId": "0f1f57b8-3bae-4570-b974-43fe83a59d2d"
      },
      "execution_count": 251,
      "outputs": [
        {
          "output_type": "stream",
          "name": "stdout",
          "text": [
            "On an average day, 0 people will benefit from a water bottle station at 135 IVY STREET\n"
          ]
        },
        {
          "output_type": "stream",
          "name": "stderr",
          "text": [
            "<ipython-input-251-104f652b39a9>:3: FutureWarning: Calling int on a single element Series is deprecated and will raise a TypeError in the future. Use int(ser.iloc[0]) instead\n",
            "  print(f\"On an average day, {int(grouped_df)} people will benefit from a water bottle station at 135 IVY STREET\")\n",
            "<ipython-input-251-104f652b39a9>:4: FutureWarning: Calling int on a single element Series is deprecated and will raise a TypeError in the future. Use int(ser.iloc[0]) instead\n",
            "  WithoutWaterBottle['135 IVY STREET'] = int(grouped_df)\n"
          ]
        }
      ]
    },
    {
      "cell_type": "code",
      "source": [
        "grouped_df = dfWifi[dfWifi['building_desc'] == '75 BAY STATE ROAD']\n",
        "grouped_df = grouped_df.groupby(['building_desc', 'hour'])[['capacity']].mean().sum()\n",
        "print(f\"On an average day, {int(grouped_df)} people will benefit from a water bottle station at 75 BAY STATE ROAD\")\n",
        "WithoutWaterBottle['75 BAY STATE ROAD'] = int(grouped_df)"
      ],
      "metadata": {
        "colab": {
          "base_uri": "https://localhost:8080/"
        },
        "id": "khDOs4EAcXbh",
        "outputId": "d005f3c7-fda2-4351-e77f-d6eeb16e57dc"
      },
      "execution_count": 252,
      "outputs": [
        {
          "output_type": "stream",
          "name": "stdout",
          "text": [
            "On an average day, 79 people will benefit from a water bottle station at 75 BAY STATE ROAD\n"
          ]
        },
        {
          "output_type": "stream",
          "name": "stderr",
          "text": [
            "<ipython-input-252-6d55cf3c461f>:3: FutureWarning: Calling int on a single element Series is deprecated and will raise a TypeError in the future. Use int(ser.iloc[0]) instead\n",
            "  print(f\"On an average day, {int(grouped_df)} people will benefit from a water bottle station at 75 BAY STATE ROAD\")\n",
            "<ipython-input-252-6d55cf3c461f>:4: FutureWarning: Calling int on a single element Series is deprecated and will raise a TypeError in the future. Use int(ser.iloc[0]) instead\n",
            "  WithoutWaterBottle['75 BAY STATE ROAD'] = int(grouped_df)\n"
          ]
        }
      ]
    },
    {
      "cell_type": "code",
      "source": [
        "grouped_df = dfWifi[dfWifi['building_desc'] == '74 BAY STATE ROAD']\n",
        "grouped_df = grouped_df.groupby(['building_desc', 'hour'])[['capacity']].mean().sum()\n",
        "print(f\"On an average day, {int(grouped_df)} people will benefit from a water bottle station at 74 BAY STATE ROAD\")\n",
        "WithoutWaterBottle['74 BAY STATE ROAD'] = int(grouped_df)"
      ],
      "metadata": {
        "colab": {
          "base_uri": "https://localhost:8080/"
        },
        "id": "Y0L2Z5wFcXd7",
        "outputId": "e0404bd4-ad22-419b-acca-4349a23c07b8"
      },
      "execution_count": 253,
      "outputs": [
        {
          "output_type": "stream",
          "name": "stdout",
          "text": [
            "On an average day, 50 people will benefit from a water bottle station at 74 BAY STATE ROAD\n"
          ]
        },
        {
          "output_type": "stream",
          "name": "stderr",
          "text": [
            "<ipython-input-253-08e9b7427a99>:3: FutureWarning: Calling int on a single element Series is deprecated and will raise a TypeError in the future. Use int(ser.iloc[0]) instead\n",
            "  print(f\"On an average day, {int(grouped_df)} people will benefit from a water bottle station at 74 BAY STATE ROAD\")\n",
            "<ipython-input-253-08e9b7427a99>:4: FutureWarning: Calling int on a single element Series is deprecated and will raise a TypeError in the future. Use int(ser.iloc[0]) instead\n",
            "  WithoutWaterBottle['74 BAY STATE ROAD'] = int(grouped_df)\n"
          ]
        }
      ]
    },
    {
      "cell_type": "code",
      "source": [
        "grouped_df = dfWifi[dfWifi['building_desc'] == '84 BAY STATE ROAD']\n",
        "grouped_df = grouped_df.groupby(['building_desc', 'hour'])[['capacity']].mean().sum()\n",
        "print(f\"On an average day, {int(grouped_df)} people will benefit from a water bottle station at 84 BAY STATE ROAD\")\n",
        "WithoutWaterBottle['84 BAY STATE ROAD'] = int(grouped_df)"
      ],
      "metadata": {
        "colab": {
          "base_uri": "https://localhost:8080/"
        },
        "id": "wc2AtBrlcXgH",
        "outputId": "25869b82-bcb2-4aaa-a544-2ca23ba0e607"
      },
      "execution_count": 254,
      "outputs": [
        {
          "output_type": "stream",
          "name": "stdout",
          "text": [
            "On an average day, 52 people will benefit from a water bottle station at 84 BAY STATE ROAD\n"
          ]
        },
        {
          "output_type": "stream",
          "name": "stderr",
          "text": [
            "<ipython-input-254-7461aaa1f720>:3: FutureWarning: Calling int on a single element Series is deprecated and will raise a TypeError in the future. Use int(ser.iloc[0]) instead\n",
            "  print(f\"On an average day, {int(grouped_df)} people will benefit from a water bottle station at 84 BAY STATE ROAD\")\n",
            "<ipython-input-254-7461aaa1f720>:4: FutureWarning: Calling int on a single element Series is deprecated and will raise a TypeError in the future. Use int(ser.iloc[0]) instead\n",
            "  WithoutWaterBottle['84 BAY STATE ROAD'] = int(grouped_df)\n"
          ]
        }
      ]
    },
    {
      "cell_type": "code",
      "source": [
        "grouped_df = dfWifi[dfWifi['building_desc'] == '118 BAY STATE ROAD']\n",
        "grouped_df = grouped_df.groupby(['building_desc', 'hour'])[['capacity']].mean().sum()\n",
        "print(f\"On an average day, {int(grouped_df)} people will benefit from a water bottle station at 118 BAY STATE ROAD\")\n",
        "WithoutWaterBottle['118 BAY STATE ROAD'] = int(grouped_df)"
      ],
      "metadata": {
        "colab": {
          "base_uri": "https://localhost:8080/"
        },
        "id": "8oGaI2-UceKd",
        "outputId": "fa9a497e-954c-4116-bcbe-32db0efb8918"
      },
      "execution_count": 255,
      "outputs": [
        {
          "output_type": "stream",
          "name": "stdout",
          "text": [
            "On an average day, 72 people will benefit from a water bottle station at 118 BAY STATE ROAD\n"
          ]
        },
        {
          "output_type": "stream",
          "name": "stderr",
          "text": [
            "<ipython-input-255-39d2e8ad5025>:3: FutureWarning: Calling int on a single element Series is deprecated and will raise a TypeError in the future. Use int(ser.iloc[0]) instead\n",
            "  print(f\"On an average day, {int(grouped_df)} people will benefit from a water bottle station at 118 BAY STATE ROAD\")\n",
            "<ipython-input-255-39d2e8ad5025>:4: FutureWarning: Calling int on a single element Series is deprecated and will raise a TypeError in the future. Use int(ser.iloc[0]) instead\n",
            "  WithoutWaterBottle['118 BAY STATE ROAD'] = int(grouped_df)\n"
          ]
        }
      ]
    },
    {
      "cell_type": "code",
      "source": [
        "grouped_df = dfWifi[dfWifi['building_desc'] == '122 BAY STATE ROAD']\n",
        "grouped_df = grouped_df.groupby(['building_desc', 'hour'])[['capacity']].mean().sum()\n",
        "print(f\"On an average day, {int(grouped_df)} people will benefit from a water bottle station at 122 BAY STATE ROAD\")\n",
        "WithoutWaterBottle['122 BAY STATE ROAD'] = int(grouped_df)"
      ],
      "metadata": {
        "colab": {
          "base_uri": "https://localhost:8080/"
        },
        "id": "dFcW7nQ-ceNO",
        "outputId": "57456ef3-53db-4a90-85cb-871496f92366"
      },
      "execution_count": 256,
      "outputs": [
        {
          "output_type": "stream",
          "name": "stdout",
          "text": [
            "On an average day, 177 people will benefit from a water bottle station at 122 BAY STATE ROAD\n"
          ]
        },
        {
          "output_type": "stream",
          "name": "stderr",
          "text": [
            "<ipython-input-256-c42ba0a5e19f>:3: FutureWarning: Calling int on a single element Series is deprecated and will raise a TypeError in the future. Use int(ser.iloc[0]) instead\n",
            "  print(f\"On an average day, {int(grouped_df)} people will benefit from a water bottle station at 122 BAY STATE ROAD\")\n",
            "<ipython-input-256-c42ba0a5e19f>:4: FutureWarning: Calling int on a single element Series is deprecated and will raise a TypeError in the future. Use int(ser.iloc[0]) instead\n",
            "  WithoutWaterBottle['122 BAY STATE ROAD'] = int(grouped_df)\n"
          ]
        }
      ]
    },
    {
      "cell_type": "code",
      "source": [
        "grouped_df = dfWifi[dfWifi['building_desc'] == '50 WORTHINGTON ROAD']\n",
        "grouped_df = grouped_df.groupby(['building_desc', 'hour'])[['capacity']].mean().sum()\n",
        "print(f\"On an average day, {int(grouped_df)} people will benefit from a water bottle station at 50 WORTHINGTON ROAD\")\n",
        "WithoutWaterBottle['50 WORTHINGTON ROAD'] = int(grouped_df)"
      ],
      "metadata": {
        "colab": {
          "base_uri": "https://localhost:8080/"
        },
        "id": "ODbtwunecePR",
        "outputId": "d327f484-2047-413a-9fce-7b458caa37b4"
      },
      "execution_count": 257,
      "outputs": [
        {
          "output_type": "stream",
          "name": "stdout",
          "text": [
            "On an average day, 0 people will benefit from a water bottle station at 50 WORTHINGTON ROAD\n"
          ]
        },
        {
          "output_type": "stream",
          "name": "stderr",
          "text": [
            "<ipython-input-257-a6d698682259>:3: FutureWarning: Calling int on a single element Series is deprecated and will raise a TypeError in the future. Use int(ser.iloc[0]) instead\n",
            "  print(f\"On an average day, {int(grouped_df)} people will benefit from a water bottle station at 50 WORTHINGTON ROAD\")\n",
            "<ipython-input-257-a6d698682259>:4: FutureWarning: Calling int on a single element Series is deprecated and will raise a TypeError in the future. Use int(ser.iloc[0]) instead\n",
            "  WithoutWaterBottle['50 WORTHINGTON ROAD'] = int(grouped_df)\n"
          ]
        }
      ]
    },
    {
      "cell_type": "code",
      "source": [
        "grouped_df = dfWifi[dfWifi['building_desc'] == '68-70 BAY STATE ROAD']\n",
        "grouped_df = grouped_df.groupby(['building_desc', 'hour'])[['capacity']].mean().sum()\n",
        "print(f\"On an average day, {int(grouped_df)} people will benefit from a water bottle station at 68-70 BAY STATE ROAD\")\n",
        "WithoutWaterBottle['68-70 BAY STATE ROAD'] = int(grouped_df)"
      ],
      "metadata": {
        "colab": {
          "base_uri": "https://localhost:8080/"
        },
        "id": "kmlKXBWxceRh",
        "outputId": "44ee8b6f-7722-4a79-d842-fe93a279fdff"
      },
      "execution_count": 258,
      "outputs": [
        {
          "output_type": "stream",
          "name": "stdout",
          "text": [
            "On an average day, 119 people will benefit from a water bottle station at 68-70 BAY STATE ROAD\n"
          ]
        },
        {
          "output_type": "stream",
          "name": "stderr",
          "text": [
            "<ipython-input-258-b9202733297e>:3: FutureWarning: Calling int on a single element Series is deprecated and will raise a TypeError in the future. Use int(ser.iloc[0]) instead\n",
            "  print(f\"On an average day, {int(grouped_df)} people will benefit from a water bottle station at 68-70 BAY STATE ROAD\")\n",
            "<ipython-input-258-b9202733297e>:4: FutureWarning: Calling int on a single element Series is deprecated and will raise a TypeError in the future. Use int(ser.iloc[0]) instead\n",
            "  WithoutWaterBottle['68-70 BAY STATE ROAD'] = int(grouped_df)\n"
          ]
        }
      ]
    },
    {
      "cell_type": "markdown",
      "source": [
        "## Wifi Stations With Water Bottle Filling Stations"
      ],
      "metadata": {
        "id": "tITQCRFlcjrE"
      }
    },
    {
      "cell_type": "code",
      "source": [
        "grouped_df = dfWifi[dfWifi['building_desc'] == '700 BEACON STREET']\n",
        "grouped_df = grouped_df.groupby(['building_desc', 'hour'])[['capacity']].mean().sum()\n",
        "print(f\"On an average day, {int(grouped_df)} people benefitted from a water bottle station at 700 BEACON STREET\")"
      ],
      "metadata": {
        "colab": {
          "base_uri": "https://localhost:8080/"
        },
        "id": "WyZBn3V5ceT-",
        "outputId": "bdec2789-5fe7-48d7-df9a-06f2cd8a2813"
      },
      "execution_count": 259,
      "outputs": [
        {
          "output_type": "stream",
          "name": "stdout",
          "text": [
            "On an average day, 924 people benefitted from a water bottle station at 700 BEACON STREET\n"
          ]
        },
        {
          "output_type": "stream",
          "name": "stderr",
          "text": [
            "<ipython-input-259-943b8fe9eeb8>:3: FutureWarning: Calling int on a single element Series is deprecated and will raise a TypeError in the future. Use int(ser.iloc[0]) instead\n",
            "  print(f\"On an average day, {int(grouped_df)} people benefitted from a water bottle station at 700 BEACON STREET\")\n"
          ]
        }
      ]
    },
    {
      "cell_type": "code",
      "source": [
        "grouped_df = dfWifi[dfWifi['building_desc'] == '154 BAY STATE ROAD']\n",
        "grouped_df = grouped_df.groupby(['building_desc', 'hour'])[['capacity']].mean().sum()\n",
        "print(f\"On an average day, {int(grouped_df)} people benefitted from a water bottle station at 154 BAY STATE ROAD\")"
      ],
      "metadata": {
        "colab": {
          "base_uri": "https://localhost:8080/"
        },
        "id": "chalv9otcmQJ",
        "outputId": "4ab39fee-85ab-4deb-d611-8c06b8b76f23"
      },
      "execution_count": 260,
      "outputs": [
        {
          "output_type": "stream",
          "name": "stdout",
          "text": [
            "On an average day, 113 people benefitted from a water bottle station at 154 BAY STATE ROAD\n"
          ]
        },
        {
          "output_type": "stream",
          "name": "stderr",
          "text": [
            "<ipython-input-260-ab6197ef9e43>:3: FutureWarning: Calling int on a single element Series is deprecated and will raise a TypeError in the future. Use int(ser.iloc[0]) instead\n",
            "  print(f\"On an average day, {int(grouped_df)} people benefitted from a water bottle station at 154 BAY STATE ROAD\")\n"
          ]
        }
      ]
    },
    {
      "cell_type": "code",
      "source": [
        "grouped_df = dfWifi[dfWifi['building_desc'] == '111 CUMMINGTON MALL']\n",
        "grouped_df = grouped_df.groupby(['building_desc', 'hour'])[['capacity']].mean().sum()\n",
        "print(f\"On an average day, {int(grouped_df)} people benefitted from a water bottle station at 111 CUMMINGTON MALL\")"
      ],
      "metadata": {
        "colab": {
          "base_uri": "https://localhost:8080/"
        },
        "id": "LAg7egjFcmSw",
        "outputId": "6e8f2e1c-50aa-4675-c340-eaee6a017ace"
      },
      "execution_count": 261,
      "outputs": [
        {
          "output_type": "stream",
          "name": "stdout",
          "text": [
            "On an average day, 1046 people benefitted from a water bottle station at 111 CUMMINGTON MALL\n"
          ]
        },
        {
          "output_type": "stream",
          "name": "stderr",
          "text": [
            "<ipython-input-261-3caa05f5f6d5>:3: FutureWarning: Calling int on a single element Series is deprecated and will raise a TypeError in the future. Use int(ser.iloc[0]) instead\n",
            "  print(f\"On an average day, {int(grouped_df)} people benefitted from a water bottle station at 111 CUMMINGTON MALL\")\n"
          ]
        }
      ]
    },
    {
      "cell_type": "code",
      "source": [
        "grouped_df = dfWifi[dfWifi['building_desc'] == '765 COMMONWEALTH AVENUE']\n",
        "grouped_df = grouped_df.groupby(['building_desc', 'hour'])[['capacity']].mean().sum()\n",
        "print(f\"On an average day, {int(grouped_df)} people benefitted from a water bottle station at 765 COMMONWEALTH AVENUE\")"
      ],
      "metadata": {
        "colab": {
          "base_uri": "https://localhost:8080/"
        },
        "id": "8rsrWHx5cmUr",
        "outputId": "ebc02120-49cd-4a5f-c09d-7b4440930cc4"
      },
      "execution_count": 262,
      "outputs": [
        {
          "output_type": "stream",
          "name": "stdout",
          "text": [
            "On an average day, 3471 people benefitted from a water bottle station at 765 COMMONWEALTH AVENUE\n"
          ]
        },
        {
          "output_type": "stream",
          "name": "stderr",
          "text": [
            "<ipython-input-262-ffcc4ddaf6bb>:3: FutureWarning: Calling int on a single element Series is deprecated and will raise a TypeError in the future. Use int(ser.iloc[0]) instead\n",
            "  print(f\"On an average day, {int(grouped_df)} people benefitted from a water bottle station at 765 COMMONWEALTH AVENUE\")\n"
          ]
        }
      ]
    },
    {
      "cell_type": "code",
      "source": [
        "grouped_df = dfWifi[dfWifi['building_desc'] == '565 COMMONWEALTH AVENUE']\n",
        "grouped_df = grouped_df.groupby(['building_desc', 'hour'])[['capacity']].mean().sum()\n",
        "print(f\"On an average day, {int(grouped_df)} people benefitted from a water bottle station at 565 COMMONWEALTH AVENUE\")"
      ],
      "metadata": {
        "colab": {
          "base_uri": "https://localhost:8080/"
        },
        "id": "c0rmFrv4cmW-",
        "outputId": "60a025be-9d93-464a-bd7d-9bdacfa36ee6"
      },
      "execution_count": 263,
      "outputs": [
        {
          "output_type": "stream",
          "name": "stdout",
          "text": [
            "On an average day, 1969 people benefitted from a water bottle station at 565 COMMONWEALTH AVENUE\n"
          ]
        },
        {
          "output_type": "stream",
          "name": "stderr",
          "text": [
            "<ipython-input-263-14de66cd649f>:3: FutureWarning: Calling int on a single element Series is deprecated and will raise a TypeError in the future. Use int(ser.iloc[0]) instead\n",
            "  print(f\"On an average day, {int(grouped_df)} people benefitted from a water bottle station at 565 COMMONWEALTH AVENUE\")\n"
          ]
        }
      ]
    },
    {
      "cell_type": "code",
      "source": [
        "grouped_df = dfWifi[dfWifi['building_desc'] == '44 CUMMINGTON MALL']\n",
        "grouped_df = grouped_df.groupby(['building_desc', 'hour'])[['capacity']].mean().sum()\n",
        "print(f\"On an average day, {int(grouped_df)} people benefitted from a water bottle station at 44 CUMMINGTON MALL\")"
      ],
      "metadata": {
        "colab": {
          "base_uri": "https://localhost:8080/"
        },
        "id": "kMOstfnrcmZQ",
        "outputId": "684816df-db41-4f1b-e746-228336e100e9"
      },
      "execution_count": 264,
      "outputs": [
        {
          "output_type": "stream",
          "name": "stdout",
          "text": [
            "On an average day, 1156 people benefitted from a water bottle station at 44 CUMMINGTON MALL\n"
          ]
        },
        {
          "output_type": "stream",
          "name": "stderr",
          "text": [
            "<ipython-input-264-3fee7e626eac>:3: FutureWarning: Calling int on a single element Series is deprecated and will raise a TypeError in the future. Use int(ser.iloc[0]) instead\n",
            "  print(f\"On an average day, {int(grouped_df)} people benefitted from a water bottle station at 44 CUMMINGTON MALL\")\n"
          ]
        }
      ]
    },
    {
      "cell_type": "code",
      "source": [
        "grouped_df = dfWifi[dfWifi['building_desc'] == '110-112 CUMMINGTON MALL']\n",
        "grouped_df = grouped_df.groupby(['building_desc', 'hour'])[['capacity']].mean().sum()\n",
        "print(f\"On an average day, {int(grouped_df)} people benefitted from a water bottle station at 110-112 CUMMINGTON MALL\")"
      ],
      "metadata": {
        "colab": {
          "base_uri": "https://localhost:8080/"
        },
        "id": "tDqE4Gctcmcn",
        "outputId": "2a74dc13-1dbe-412e-e988-534a4350d391"
      },
      "execution_count": 265,
      "outputs": [
        {
          "output_type": "stream",
          "name": "stdout",
          "text": [
            "On an average day, 1111 people benefitted from a water bottle station at 110-112 CUMMINGTON MALL\n"
          ]
        },
        {
          "output_type": "stream",
          "name": "stderr",
          "text": [
            "<ipython-input-265-0d10d9427f56>:3: FutureWarning: Calling int on a single element Series is deprecated and will raise a TypeError in the future. Use int(ser.iloc[0]) instead\n",
            "  print(f\"On an average day, {int(grouped_df)} people benefitted from a water bottle station at 110-112 CUMMINGTON MALL\")\n"
          ]
        }
      ]
    },
    {
      "cell_type": "code",
      "source": [
        "grouped_df = dfWifi[dfWifi['building_desc'] == '675 - 725 COMMONWEALTH AVENUE']\n",
        "grouped_df = grouped_df.groupby(['building_desc', 'hour'])[['capacity']].mean().sum()\n",
        "print(f\"On an average day, {int(grouped_df)} people benefitted from a water bottle station at 675 - 725 COMMONWEALTH AVENUE\")"
      ],
      "metadata": {
        "colab": {
          "base_uri": "https://localhost:8080/"
        },
        "id": "FPv3dUWNcmeW",
        "outputId": "5497cd01-5f84-4edf-c079-ed2162f11631"
      },
      "execution_count": 266,
      "outputs": [
        {
          "output_type": "stream",
          "name": "stdout",
          "text": [
            "On an average day, 0 people benefitted from a water bottle station at 675 - 725 COMMONWEALTH AVENUE\n"
          ]
        },
        {
          "output_type": "stream",
          "name": "stderr",
          "text": [
            "<ipython-input-266-99bd2a663945>:3: FutureWarning: Calling int on a single element Series is deprecated and will raise a TypeError in the future. Use int(ser.iloc[0]) instead\n",
            "  print(f\"On an average day, {int(grouped_df)} people benefitted from a water bottle station at 675 - 725 COMMONWEALTH AVENUE\")\n"
          ]
        }
      ]
    },
    {
      "cell_type": "code",
      "source": [
        "grouped_df = dfWifi[dfWifi['building_desc'] == '750 COMMONWEALTH AVENUE']\n",
        "grouped_df = grouped_df.groupby(['building_desc', 'hour'])[['capacity']].mean().sum()\n",
        "print(f\"On an average day, {int(grouped_df)} people benefitted from a water bottle station at 750 COMMONWEALTH AVENUE\")"
      ],
      "metadata": {
        "colab": {
          "base_uri": "https://localhost:8080/"
        },
        "id": "cscpWBepcmgO",
        "outputId": "48187b12-58a6-4aa8-c1b2-d7ce235c2cd5"
      },
      "execution_count": 267,
      "outputs": [
        {
          "output_type": "stream",
          "name": "stdout",
          "text": [
            "On an average day, 1921 people benefitted from a water bottle station at 750 COMMONWEALTH AVENUE\n"
          ]
        },
        {
          "output_type": "stream",
          "name": "stderr",
          "text": [
            "<ipython-input-267-4177ddd65447>:3: FutureWarning: Calling int on a single element Series is deprecated and will raise a TypeError in the future. Use int(ser.iloc[0]) instead\n",
            "  print(f\"On an average day, {int(grouped_df)} people benefitted from a water bottle station at 750 COMMONWEALTH AVENUE\")\n"
          ]
        }
      ]
    },
    {
      "cell_type": "code",
      "source": [
        "grouped_df = dfWifi[dfWifi['building_desc'] == '735 COMMONWEALTH AVENUE']\n",
        "grouped_df = grouped_df.groupby(['building_desc', 'hour'])[['capacity']].mean().sum()\n",
        "print(f\"On an average day, {int(grouped_df)} people benefitted from a water bottle station at 735 COMMONWEALTH AVENUE\")"
      ],
      "metadata": {
        "colab": {
          "base_uri": "https://localhost:8080/"
        },
        "id": "EAqvJDPfcmiZ",
        "outputId": "a15d9df5-9dfd-44e4-fede-c638be332ed4"
      },
      "execution_count": 268,
      "outputs": [
        {
          "output_type": "stream",
          "name": "stdout",
          "text": [
            "On an average day, 304 people benefitted from a water bottle station at 735 COMMONWEALTH AVENUE\n"
          ]
        },
        {
          "output_type": "stream",
          "name": "stderr",
          "text": [
            "<ipython-input-268-1b4fb77ed4ab>:3: FutureWarning: Calling int on a single element Series is deprecated and will raise a TypeError in the future. Use int(ser.iloc[0]) instead\n",
            "  print(f\"On an average day, {int(grouped_df)} people benefitted from a water bottle station at 735 COMMONWEALTH AVENUE\")\n"
          ]
        }
      ]
    },
    {
      "cell_type": "code",
      "source": [
        "grouped_df = dfWifi[dfWifi['building_desc'] == '226 BAY STATE ROAD']\n",
        "grouped_df = grouped_df.groupby(['building_desc', 'hour'])[['capacity']].mean().sum()\n",
        "print(f\"On an average day, {int(grouped_df)} people benefitted from a water bottle station at 226 BAY STATE ROAD\")"
      ],
      "metadata": {
        "colab": {
          "base_uri": "https://localhost:8080/"
        },
        "id": "H0BtF7AIcmkl",
        "outputId": "d405381f-0675-4ead-c139-d88b5f10360f"
      },
      "execution_count": 269,
      "outputs": [
        {
          "output_type": "stream",
          "name": "stdout",
          "text": [
            "On an average day, 273 people benefitted from a water bottle station at 226 BAY STATE ROAD\n"
          ]
        },
        {
          "output_type": "stream",
          "name": "stderr",
          "text": [
            "<ipython-input-269-8b14e0644c21>:3: FutureWarning: Calling int on a single element Series is deprecated and will raise a TypeError in the future. Use int(ser.iloc[0]) instead\n",
            "  print(f\"On an average day, {int(grouped_df)} people benefitted from a water bottle station at 226 BAY STATE ROAD\")\n"
          ]
        }
      ]
    },
    {
      "cell_type": "code",
      "source": [
        "grouped_df = dfWifi[dfWifi['building_desc'] == '225 BAY STATE ROAD']\n",
        "grouped_df = grouped_df.groupby(['building_desc', 'hour'])[['capacity']].mean().sum()\n",
        "print(f\"On an average day, {int(grouped_df)} people benefitted from a water bottle station at 225 BAY STATE ROAD\")"
      ],
      "metadata": {
        "colab": {
          "base_uri": "https://localhost:8080/"
        },
        "id": "kaAc4lUHcmmx",
        "outputId": "6a776ff6-d814-488d-d42a-2fcdf04e2965"
      },
      "execution_count": 270,
      "outputs": [
        {
          "output_type": "stream",
          "name": "stdout",
          "text": [
            "On an average day, 385 people benefitted from a water bottle station at 225 BAY STATE ROAD\n"
          ]
        },
        {
          "output_type": "stream",
          "name": "stderr",
          "text": [
            "<ipython-input-270-62311437899f>:3: FutureWarning: Calling int on a single element Series is deprecated and will raise a TypeError in the future. Use int(ser.iloc[0]) instead\n",
            "  print(f\"On an average day, {int(grouped_df)} people benefitted from a water bottle station at 225 BAY STATE ROAD\")\n"
          ]
        }
      ]
    },
    {
      "cell_type": "code",
      "source": [
        "grouped_df = dfWifi[dfWifi['building_desc'] == '64-86 CUMMINGTON MALL']\n",
        "grouped_df = grouped_df.groupby(['building_desc', 'hour'])[['capacity']].mean().sum()\n",
        "print(f\"On an average day, {int(grouped_df)} people benefitted from a water bottle station at 64-86 CUMMINGTON MALL\")"
      ],
      "metadata": {
        "colab": {
          "base_uri": "https://localhost:8080/"
        },
        "id": "-NwFaue-cmpQ",
        "outputId": "01655c41-48ad-4f1b-cc59-ae69a786a797"
      },
      "execution_count": 271,
      "outputs": [
        {
          "output_type": "stream",
          "name": "stdout",
          "text": [
            "On an average day, 1853 people benefitted from a water bottle station at 64-86 CUMMINGTON MALL\n"
          ]
        },
        {
          "output_type": "stream",
          "name": "stderr",
          "text": [
            "<ipython-input-271-1a20e652eb08>:3: FutureWarning: Calling int on a single element Series is deprecated and will raise a TypeError in the future. Use int(ser.iloc[0]) instead\n",
            "  print(f\"On an average day, {int(grouped_df)} people benefitted from a water bottle station at 64-86 CUMMINGTON MALL\")\n"
          ]
        }
      ]
    },
    {
      "cell_type": "code",
      "source": [
        "grouped_df = dfWifi[dfWifi['building_desc'] == '617-621 COMMONWEALTH AVENUE']\n",
        "grouped_df = grouped_df.groupby(['building_desc', 'hour'])[['capacity']].mean().sum()\n",
        "print(f\"On an average day, {int(grouped_df)} people benefitted from a water bottle station at 617-621 COMMONWEALTH AVENUE\")"
      ],
      "metadata": {
        "colab": {
          "base_uri": "https://localhost:8080/"
        },
        "id": "V1SveuvQd1YT",
        "outputId": "092de471-fdc3-4e04-e915-4e68422c0b67"
      },
      "execution_count": 272,
      "outputs": [
        {
          "output_type": "stream",
          "name": "stdout",
          "text": [
            "On an average day, 480 people benefitted from a water bottle station at 617-621 COMMONWEALTH AVENUE\n"
          ]
        },
        {
          "output_type": "stream",
          "name": "stderr",
          "text": [
            "<ipython-input-272-5a106cf6402f>:3: FutureWarning: Calling int on a single element Series is deprecated and will raise a TypeError in the future. Use int(ser.iloc[0]) instead\n",
            "  print(f\"On an average day, {int(grouped_df)} people benefitted from a water bottle station at 617-621 COMMONWEALTH AVENUE\")\n"
          ]
        }
      ]
    },
    {
      "cell_type": "code",
      "source": [
        "grouped_df = dfWifi[dfWifi['building_desc'] == '233 BAY STATE ROAD']\n",
        "grouped_df = grouped_df.groupby(['building_desc', 'hour'])[['capacity']].mean().sum()\n",
        "print(f\"On an average day, {int(grouped_df)} people benefitted from a water bottle station at 233 BAY STATE ROAD\")"
      ],
      "metadata": {
        "colab": {
          "base_uri": "https://localhost:8080/"
        },
        "id": "IX6ocmvEd1d-",
        "outputId": "c6b24420-6f43-4b0c-f3f7-322863096822"
      },
      "execution_count": 273,
      "outputs": [
        {
          "output_type": "stream",
          "name": "stdout",
          "text": [
            "On an average day, 929 people benefitted from a water bottle station at 233 BAY STATE ROAD\n"
          ]
        },
        {
          "output_type": "stream",
          "name": "stderr",
          "text": [
            "<ipython-input-273-dc0bc4eee82e>:3: FutureWarning: Calling int on a single element Series is deprecated and will raise a TypeError in the future. Use int(ser.iloc[0]) instead\n",
            "  print(f\"On an average day, {int(grouped_df)} people benefitted from a water bottle station at 233 BAY STATE ROAD\")\n"
          ]
        }
      ]
    },
    {
      "cell_type": "code",
      "source": [
        "grouped_df = dfWifi[dfWifi['building_desc'] == '156 BAY STATE ROAD']\n",
        "grouped_df = grouped_df.groupby(['building_desc', 'hour'])[['capacity']].mean().sum()\n",
        "print(f\"On an average day, {int(grouped_df)} people benefitted from a water bottle station at 156 BAY STATE ROAD\")"
      ],
      "metadata": {
        "colab": {
          "base_uri": "https://localhost:8080/"
        },
        "id": "5bCnEABzd1gZ",
        "outputId": "fee187cf-ea36-427c-e515-b3b4642bc365"
      },
      "execution_count": 274,
      "outputs": [
        {
          "output_type": "stream",
          "name": "stdout",
          "text": [
            "On an average day, 107 people benefitted from a water bottle station at 156 BAY STATE ROAD\n"
          ]
        },
        {
          "output_type": "stream",
          "name": "stderr",
          "text": [
            "<ipython-input-274-84bfa8e523b2>:3: FutureWarning: Calling int on a single element Series is deprecated and will raise a TypeError in the future. Use int(ser.iloc[0]) instead\n",
            "  print(f\"On an average day, {int(grouped_df)} people benefitted from a water bottle station at 156 BAY STATE ROAD\")\n"
          ]
        }
      ]
    },
    {
      "cell_type": "markdown",
      "source": [
        "## Users Per Water Bottle Station (If there are multiple water bottle stations in one building, divide it by the total number of water bottle stations to check how many people benefit per water bottle station)"
      ],
      "metadata": {
        "id": "3CTDlOYhd7Qv"
      }
    },
    {
      "cell_type": "code",
      "source": [
        "WithWaterBottle = {}"
      ],
      "metadata": {
        "id": "yXIcQvmrd16X"
      },
      "execution_count": 275,
      "outputs": []
    },
    {
      "cell_type": "code",
      "source": [
        "grouped_df = dfWifi[dfWifi['building_desc'] == '111 CUMMINGTON MALL']\n",
        "grouped_df = grouped_df.groupby(['building_desc', 'hour'])[['capacity']].mean().sum() / 4\n",
        "print(f\"On an average day, {int(grouped_df)} people benefitted per existing water bottle station at 111 CUMMINGTON MALL\")\n",
        "WithWaterBottle[\"111 CUMMINGTON MALL\"] = int(grouped_df)"
      ],
      "metadata": {
        "colab": {
          "base_uri": "https://localhost:8080/"
        },
        "id": "_t46OyZtd18M",
        "outputId": "78b90a3d-bf78-4547-8c25-5960dfa9bc21"
      },
      "execution_count": 276,
      "outputs": [
        {
          "output_type": "stream",
          "name": "stdout",
          "text": [
            "On an average day, 261 people benefitted per existing water bottle station at 111 CUMMINGTON MALL\n"
          ]
        },
        {
          "output_type": "stream",
          "name": "stderr",
          "text": [
            "<ipython-input-276-791a86b56a92>:3: FutureWarning: Calling int on a single element Series is deprecated and will raise a TypeError in the future. Use int(ser.iloc[0]) instead\n",
            "  print(f\"On an average day, {int(grouped_df)} people benefitted per existing water bottle station at 111 CUMMINGTON MALL\")\n",
            "<ipython-input-276-791a86b56a92>:4: FutureWarning: Calling int on a single element Series is deprecated and will raise a TypeError in the future. Use int(ser.iloc[0]) instead\n",
            "  WithWaterBottle[\"111 CUMMINGTON MALL\"] = int(grouped_df)\n"
          ]
        }
      ]
    },
    {
      "cell_type": "code",
      "source": [
        "grouped_df = dfWifi[dfWifi['building_desc'] == '765 COMMONWEALTH AVENUE']\n",
        "grouped_df = grouped_df.groupby(['building_desc', 'hour'])[['capacity']].mean().sum() / 23\n",
        "print(f\"On an average day, {int(grouped_df)} people benefitted per existing water bottle station at 765 COMMONWEALTH AVENUE\")\n",
        "WithWaterBottle[\"765 COMMONWEALTH AVENUE\"] = int(grouped_df)"
      ],
      "metadata": {
        "colab": {
          "base_uri": "https://localhost:8080/"
        },
        "id": "SQgOuXpid192",
        "outputId": "b8c3f155-ed97-43a4-8e72-a2e5385b1e43"
      },
      "execution_count": 277,
      "outputs": [
        {
          "output_type": "stream",
          "name": "stdout",
          "text": [
            "On an average day, 150 people benefitted per existing water bottle station at 765 COMMONWEALTH AVENUE\n"
          ]
        },
        {
          "output_type": "stream",
          "name": "stderr",
          "text": [
            "<ipython-input-277-bd6c4a983c13>:3: FutureWarning: Calling int on a single element Series is deprecated and will raise a TypeError in the future. Use int(ser.iloc[0]) instead\n",
            "  print(f\"On an average day, {int(grouped_df)} people benefitted per existing water bottle station at 765 COMMONWEALTH AVENUE\")\n",
            "<ipython-input-277-bd6c4a983c13>:4: FutureWarning: Calling int on a single element Series is deprecated and will raise a TypeError in the future. Use int(ser.iloc[0]) instead\n",
            "  WithWaterBottle[\"765 COMMONWEALTH AVENUE\"] = int(grouped_df)\n"
          ]
        }
      ]
    },
    {
      "cell_type": "code",
      "source": [
        "grouped_df = dfWifi[dfWifi['building_desc'] == '226 BAY STATE ROAD']\n",
        "grouped_df = grouped_df.groupby(['building_desc', 'hour'])[['capacity']].mean().sum() / 2\n",
        "print(f\"On an average day, {int(grouped_df)} people benefitted per existing water bottle station at 226 BAY STATE ROAD\")\n",
        "WithWaterBottle[\"226 BAY STATE ROAD\"] = int(grouped_df)"
      ],
      "metadata": {
        "colab": {
          "base_uri": "https://localhost:8080/"
        },
        "id": "72pWmAMcd1_Z",
        "outputId": "34cc782e-ec27-495e-b33e-66b9ca70b903"
      },
      "execution_count": 278,
      "outputs": [
        {
          "output_type": "stream",
          "name": "stdout",
          "text": [
            "On an average day, 136 people benefitted per existing water bottle station at 226 BAY STATE ROAD\n"
          ]
        },
        {
          "output_type": "stream",
          "name": "stderr",
          "text": [
            "<ipython-input-278-4e1bfb3541e2>:3: FutureWarning: Calling int on a single element Series is deprecated and will raise a TypeError in the future. Use int(ser.iloc[0]) instead\n",
            "  print(f\"On an average day, {int(grouped_df)} people benefitted per existing water bottle station at 226 BAY STATE ROAD\")\n",
            "<ipython-input-278-4e1bfb3541e2>:4: FutureWarning: Calling int on a single element Series is deprecated and will raise a TypeError in the future. Use int(ser.iloc[0]) instead\n",
            "  WithWaterBottle[\"226 BAY STATE ROAD\"] = int(grouped_df)\n"
          ]
        }
      ]
    },
    {
      "cell_type": "code",
      "source": [
        "grouped_df = dfWifi[dfWifi['building_desc'] == '617-621 COMMONWEALTH AVENUE']\n",
        "grouped_df = grouped_df.groupby(['building_desc', 'hour'])[['capacity']].mean().sum() / 2\n",
        "print(f\"On an average day, {int(grouped_df)} people benefitted per existing water bottle station at 617-621 COMMONWEALTH AVENUE\")\n",
        "WithWaterBottle[\"617-621 COMMONWEALTH AVENUE\"] = int(grouped_df)"
      ],
      "metadata": {
        "colab": {
          "base_uri": "https://localhost:8080/"
        },
        "id": "F0FmyMoSd2Be",
        "outputId": "ff6a232f-6af8-4921-dbb3-effc0fe88d2a"
      },
      "execution_count": 279,
      "outputs": [
        {
          "output_type": "stream",
          "name": "stdout",
          "text": [
            "On an average day, 240 people benefitted per existing water bottle station at 617-621 COMMONWEALTH AVENUE\n"
          ]
        },
        {
          "output_type": "stream",
          "name": "stderr",
          "text": [
            "<ipython-input-279-d47ce9ed8c81>:3: FutureWarning: Calling int on a single element Series is deprecated and will raise a TypeError in the future. Use int(ser.iloc[0]) instead\n",
            "  print(f\"On an average day, {int(grouped_df)} people benefitted per existing water bottle station at 617-621 COMMONWEALTH AVENUE\")\n",
            "<ipython-input-279-d47ce9ed8c81>:4: FutureWarning: Calling int on a single element Series is deprecated and will raise a TypeError in the future. Use int(ser.iloc[0]) instead\n",
            "  WithWaterBottle[\"617-621 COMMONWEALTH AVENUE\"] = int(grouped_df)\n"
          ]
        }
      ]
    },
    {
      "cell_type": "code",
      "source": [
        "grouped_df = dfWifi[dfWifi['building_desc'] == '233 BAY STATE ROAD']\n",
        "grouped_df = grouped_df.groupby(['building_desc', 'hour'])[['capacity']].mean().sum() / 4\n",
        "print(f\"On an average day, {int(grouped_df)} people benefitted per existing water bottle station at 233 BAY STATE ROAD\")\n",
        "WithWaterBottle[\"233 BAY STATE ROAD\"] = int(grouped_df)"
      ],
      "metadata": {
        "colab": {
          "base_uri": "https://localhost:8080/"
        },
        "id": "eAtPoijzd2DB",
        "outputId": "5b79cfbb-94b4-4239-da6e-0aca5527949f"
      },
      "execution_count": 280,
      "outputs": [
        {
          "output_type": "stream",
          "name": "stdout",
          "text": [
            "On an average day, 232 people benefitted per existing water bottle station at 233 BAY STATE ROAD\n"
          ]
        },
        {
          "output_type": "stream",
          "name": "stderr",
          "text": [
            "<ipython-input-280-4bcdfe3c7e91>:3: FutureWarning: Calling int on a single element Series is deprecated and will raise a TypeError in the future. Use int(ser.iloc[0]) instead\n",
            "  print(f\"On an average day, {int(grouped_df)} people benefitted per existing water bottle station at 233 BAY STATE ROAD\")\n",
            "<ipython-input-280-4bcdfe3c7e91>:4: FutureWarning: Calling int on a single element Series is deprecated and will raise a TypeError in the future. Use int(ser.iloc[0]) instead\n",
            "  WithWaterBottle[\"233 BAY STATE ROAD\"] = int(grouped_df)\n"
          ]
        }
      ]
    },
    {
      "cell_type": "markdown",
      "source": [
        "## Summary of Woohyeon's data"
      ],
      "metadata": {
        "id": "HaskQoXKeMz1"
      }
    },
    {
      "cell_type": "code",
      "source": [
        "for key, value in WithoutWaterBottle.items():\n",
        "    print(f\"{value}\")"
      ],
      "metadata": {
        "colab": {
          "base_uri": "https://localhost:8080/"
        },
        "id": "_OdUGrAyd2Ex",
        "outputId": "4fa391d0-f91e-410b-9851-759f4459acbc"
      },
      "execution_count": 281,
      "outputs": [
        {
          "output_type": "stream",
          "name": "stdout",
          "text": [
            "692\n",
            "1610\n",
            "0\n",
            "1\n",
            "18\n",
            "66\n",
            "273\n",
            "0\n",
            "69\n",
            "100\n",
            "161\n",
            "85\n",
            "1\n",
            "2\n",
            "301\n",
            "133\n",
            "1607\n",
            "105\n",
            "1511\n",
            "156\n",
            "156\n",
            "380\n",
            "106\n",
            "1868\n",
            "66\n",
            "326\n",
            "58\n",
            "154\n",
            "1054\n",
            "79\n",
            "211\n",
            "153\n",
            "85\n",
            "829\n",
            "79\n",
            "151\n",
            "0\n",
            "52\n",
            "194\n",
            "0\n",
            "79\n",
            "50\n",
            "52\n",
            "72\n",
            "177\n",
            "0\n",
            "119\n"
          ]
        }
      ]
    },
    {
      "cell_type": "code",
      "source": [
        "for key, value in WithWaterBottle.items():\n",
        "    print(f\"{value}\")"
      ],
      "metadata": {
        "colab": {
          "base_uri": "https://localhost:8080/"
        },
        "id": "eFonCVDKcmrU",
        "outputId": "42d8dcc8-b285-4b66-d0a0-52b109497b7b"
      },
      "execution_count": 282,
      "outputs": [
        {
          "output_type": "stream",
          "name": "stdout",
          "text": [
            "261\n",
            "150\n",
            "136\n",
            "240\n",
            "232\n"
          ]
        }
      ]
    },
    {
      "cell_type": "code",
      "source": [
        "nonexisting = {\n",
        "    '736 - 738 COMMONWEALTH AVENUE': 692,\n",
        "    '916-922 COMMONWEALTH AVENUE' : 1610,\n",
        "    '866 BEACON STREET' : 0,\n",
        "    '714 COMMONWEALTH AVENUE' : 1,\n",
        "    '531 BEACON STREET' : 18,\n",
        "    '180 BAY STATE ROAD' : 66,\n",
        "    '830-846 COMMONWEALTH AVENUE' : 273,\n",
        "    '24 COTTAGE FARM ROAD' : 0,\n",
        "    '828 BEACON STREET' : 69,\n",
        "    '40 BUSWELL STREET' : 100,\n",
        "    '152 BAY STATE ROAD' : 161,\n",
        "    '138 MOUNTFORT STREET' : 85,\n",
        "    '76 BAY STATE ROAD' : 1,\n",
        "    '27 ABERDEEN STREET' : 2,\n",
        "    '236 BAY STATE ROAD' : 301,\n",
        "    '128 BAY STATE ROAD' : 133,\n",
        "    '910 COMMONWEALTH AVENUE' : 1607,\n",
        "    '194 BAY STATE ROAD' : 105,\n",
        "    '213 BAY STATE ROAD' : 1511,\n",
        "    '457 PARK DRIVE' : 156,\n",
        "    '455 PARK DRIVE' : 156,\n",
        "    '147 BAY STATE ROAD' : 380,\n",
        "    '172 BAY STATE ROAD' : 106,\n",
        "    \"15 ST. MARY'S STREET\" : 1868,\n",
        "    '56 BAY STATE ROAD' : 66,\n",
        "    '718 COMMONWEALTH AVENUE' : 326,\n",
        "    '124 BAY STATE ROAD' : 58,\n",
        "    '125 BAY STATE ROAD' : 154,\n",
        "    '975 COMMONWEALTH AVENUE' : 1054,\n",
        "    '708 COMMONWEALTH AVENUE' : 79,\n",
        "    '121 BAY STATE ROAD' : 211,\n",
        "    '185 BAY STATE ROAD' : 153,\n",
        "    '116 BAY STATE ROAD' : 85,\n",
        "    '602 COMMONWEALTH AVENUE' : 829,\n",
        "    '61 BAY STATE ROAD' : 79,\n",
        "    '193 BAY STATE ROAD' : 151,\n",
        "    '10 COTTAGE FARM ROAD' : 0,\n",
        "    '78 BAY STATE ROAD' : 52,\n",
        "    '143 BAY STATE ROAD' : 194,\n",
        "    '135 IVY STREET' : 0,\n",
        "    '75 BAY STATE ROAD' : 79,\n",
        "    '74 BAY STATE ROAD' : 50,\n",
        "    '84 BAY STATE ROAD' : 52,\n",
        "    '118 BAY STATE ROAD' : 72,\n",
        "    '122 BAY STATE ROAD' : 177,\n",
        "    '50 WORTHINGTON ROAD' : 0,\n",
        "    '68-70 BAY STATE ROAD' : 119\n",
        "}"
      ],
      "metadata": {
        "id": "60rqFkH9cmtu"
      },
      "execution_count": 283,
      "outputs": []
    },
    {
      "cell_type": "code",
      "source": [
        "# Certain counts have been divided by a number (which represents the number of water foundations in the specific address) in order to generalize the data.\n",
        "existing = {\n",
        "    '700 BEACON STREET' : 924,\n",
        "    '154 BAY STATE ROAD' : 113,\n",
        "    '111 CUMMINGTON MALL' : 1046 / 4, # Supposed to be 1046, but divided by 4\n",
        "    '765 COMMONWEALTH AVENUE' : 3471 / 23, # Supposed to be 3471, but divided by 23\n",
        "    '565 COMMONWEALTH AVENUE' : 1969,\n",
        "    '44 CUMMINGTON MALL' : 1156 / 4, # Supposed to be 1156, but divided by 4\n",
        "    '110-112 CUMMINGTON MALL' : 1111,\n",
        "    '675 - 725 COMMONWEALTH AVENUE' : 0, # 675 Commonwealth has 3, 685 Commonwealth has 6, 700 Commonwealth has 31, 705 Commonwealth has 3, 725 Commonwealth has 7, but the estimation is 0.\n",
        "    '750 COMMONWEALTH AVENUE' : 1921,\n",
        "    '735 COMMONWEALTH AVENUE' : 304,\n",
        "    '226 BAY STATE ROAD' : 273 / 2, # Supposed to be 273, but divided by 2\n",
        "    '225 BAY STATE ROAD' : 385,\n",
        "    '64-86 CUMMINGTON MALL' : 1853,\n",
        "    '617-621 COMMONWEALTH AVENUE' : 480 / 2, # Supposed to be 480, but divided by 2\n",
        "    '233 BAY STATE ROAD' : 929 / 4, # Supposed to be 929, but divided by 4\n",
        "    '156 BAY STATE ROAD' : 107\n",
        "}"
      ],
      "metadata": {
        "id": "InwcX_jkeURR"
      },
      "execution_count": 284,
      "outputs": []
    }
  ]
}