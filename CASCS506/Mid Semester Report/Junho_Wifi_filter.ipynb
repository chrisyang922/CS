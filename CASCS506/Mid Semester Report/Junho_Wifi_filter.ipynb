{
 "cells": [
  {
   "cell_type": "code",
   "execution_count": 5,
   "id": "e21c083a",
   "metadata": {},
   "outputs": [],
   "source": [
    "import pandas as pd\n",
    "import csv\n",
    "import numpy as np"
   ]
  },
  {
   "cell_type": "code",
   "execution_count": 6,
   "id": "10252a9d",
   "metadata": {},
   "outputs": [
    {
     "data": {
      "text/html": [
       "<div>\n",
       "<style scoped>\n",
       "    .dataframe tbody tr th:only-of-type {\n",
       "        vertical-align: middle;\n",
       "    }\n",
       "\n",
       "    .dataframe tbody tr th {\n",
       "        vertical-align: top;\n",
       "    }\n",
       "\n",
       "    .dataframe thead th {\n",
       "        text-align: right;\n",
       "    }\n",
       "</style>\n",
       "<table border=\"1\" class=\"dataframe\">\n",
       "  <thead>\n",
       "    <tr style=\"text-align: right;\">\n",
       "      <th></th>\n",
       "      <th>BUILDING</th>\n",
       "      <th>FLOOR</th>\n",
       "      <th>TOTAL STATIONS/BUILDING</th>\n",
       "    </tr>\n",
       "  </thead>\n",
       "  <tbody>\n",
       "    <tr>\n",
       "      <th>0</th>\n",
       "      <td>1019 Commonwealth</td>\n",
       "      <td>1</td>\n",
       "      <td>1</td>\n",
       "    </tr>\n",
       "    <tr>\n",
       "      <th>1</th>\n",
       "      <td>110-112 Cummington</td>\n",
       "      <td>2</td>\n",
       "      <td>1</td>\n",
       "    </tr>\n",
       "    <tr>\n",
       "      <th>2</th>\n",
       "      <td>111 Cummington</td>\n",
       "      <td>1</td>\n",
       "      <td>4</td>\n",
       "    </tr>\n",
       "    <tr>\n",
       "      <th>3</th>\n",
       "      <td>111 Cummington</td>\n",
       "      <td>1</td>\n",
       "      <td>4</td>\n",
       "    </tr>\n",
       "    <tr>\n",
       "      <th>4</th>\n",
       "      <td>111 Cummington</td>\n",
       "      <td>0</td>\n",
       "      <td>4</td>\n",
       "    </tr>\n",
       "  </tbody>\n",
       "</table>\n",
       "</div>"
      ],
      "text/plain": [
       "             BUILDING FLOOR  TOTAL STATIONS/BUILDING\n",
       "0   1019 Commonwealth     1                        1\n",
       "1  110-112 Cummington     2                        1\n",
       "2      111 Cummington     1                        4\n",
       "3      111 Cummington     1                        4\n",
       "4      111 Cummington     0                        4"
      ]
     },
     "execution_count": 6,
     "metadata": {},
     "output_type": "execute_result"
    }
   ],
   "source": [
    "dfGeospatial = pd.read_csv(\"updated_geospatial.csv\")\n",
    "dfGeospatial.head(5)"
   ]
  },
  {
   "cell_type": "code",
   "execution_count": 7,
   "id": "3ebc8d27",
   "metadata": {},
   "outputs": [
    {
     "data": {
      "text/html": [
       "<div>\n",
       "<style scoped>\n",
       "    .dataframe tbody tr th:only-of-type {\n",
       "        vertical-align: middle;\n",
       "    }\n",
       "\n",
       "    .dataframe tbody tr th {\n",
       "        vertical-align: top;\n",
       "    }\n",
       "\n",
       "    .dataframe thead th {\n",
       "        text-align: right;\n",
       "    }\n",
       "</style>\n",
       "<table border=\"1\" class=\"dataframe\">\n",
       "  <thead>\n",
       "    <tr style=\"text-align: right;\">\n",
       "      <th></th>\n",
       "      <th>Address</th>\n",
       "      <th>Floor</th>\n",
       "      <th>Description</th>\n",
       "      <th>Space@Bu room</th>\n",
       "      <th>Quantity</th>\n",
       "      <th>Walk-Thru Notes</th>\n",
       "    </tr>\n",
       "  </thead>\n",
       "  <tbody>\n",
       "    <tr>\n",
       "      <th>0</th>\n",
       "      <td>100 Ashford St</td>\n",
       "      <td>First</td>\n",
       "      <td>Hallway across from vending machines, across f...</td>\n",
       "      <td>191</td>\n",
       "      <td>1.0</td>\n",
       "      <td>two additional drinking fountain locations in ...</td>\n",
       "    </tr>\n",
       "    <tr>\n",
       "      <th>1</th>\n",
       "      <td>120 Ashford St</td>\n",
       "      <td>First</td>\n",
       "      <td>Kitchenette, Room 116A</td>\n",
       "      <td>116A</td>\n",
       "      <td>1.0</td>\n",
       "      <td>NaN</td>\n",
       "    </tr>\n",
       "    <tr>\n",
       "      <th>2</th>\n",
       "      <td>120 Ashford St</td>\n",
       "      <td>Second</td>\n",
       "      <td>Kitchenette, Room 222</td>\n",
       "      <td>222</td>\n",
       "      <td>1.0</td>\n",
       "      <td>NaN</td>\n",
       "    </tr>\n",
       "    <tr>\n",
       "      <th>3</th>\n",
       "      <td>8 St. Mary's Street</td>\n",
       "      <td>Basement</td>\n",
       "      <td>Hallway by bathrooms</td>\n",
       "      <td>B81</td>\n",
       "      <td>1.0</td>\n",
       "      <td>NaN</td>\n",
       "    </tr>\n",
       "    <tr>\n",
       "      <th>4</th>\n",
       "      <td>8 St. Mary's Street</td>\n",
       "      <td>First</td>\n",
       "      <td>Hallway by electrical room</td>\n",
       "      <td>181</td>\n",
       "      <td>1.0</td>\n",
       "      <td>NaN</td>\n",
       "    </tr>\n",
       "  </tbody>\n",
       "</table>\n",
       "</div>"
      ],
      "text/plain": [
       "               Address    Floor   \\\n",
       "0       100 Ashford St     First   \n",
       "1       120 Ashford St     First   \n",
       "2       120 Ashford St    Second   \n",
       "3  8 St. Mary's Street  Basement   \n",
       "4  8 St. Mary's Street     First   \n",
       "\n",
       "                                         Description Space@Bu room  Quantity  \\\n",
       "0  Hallway across from vending machines, across f...           191       1.0   \n",
       "1                             Kitchenette, Room 116A          116A       1.0   \n",
       "2                              Kitchenette, Room 222           222       1.0   \n",
       "3                               Hallway by bathrooms           B81       1.0   \n",
       "4                         Hallway by electrical room           181       1.0   \n",
       "\n",
       "                                     Walk-Thru Notes  \n",
       "0  two additional drinking fountain locations in ...  \n",
       "1                                                NaN  \n",
       "2                                                NaN  \n",
       "3                                                NaN  \n",
       "4                                                NaN  "
      ]
     },
     "execution_count": 7,
     "metadata": {},
     "output_type": "execute_result"
    }
   ],
   "source": [
    "dfInventory = pd.read_csv(\"updated_Bottle_Fillers_Inventory.csv\")\n",
    "dfInventory.head(5)"
   ]
  },
  {
   "cell_type": "code",
   "execution_count": 8,
   "id": "2146ce92",
   "metadata": {},
   "outputs": [
    {
     "data": {
      "text/html": [
       "<div>\n",
       "<style scoped>\n",
       "    .dataframe tbody tr th:only-of-type {\n",
       "        vertical-align: middle;\n",
       "    }\n",
       "\n",
       "    .dataframe tbody tr th {\n",
       "        vertical-align: top;\n",
       "    }\n",
       "\n",
       "    .dataframe thead th {\n",
       "        text-align: right;\n",
       "    }\n",
       "</style>\n",
       "<table border=\"1\" class=\"dataframe\">\n",
       "  <thead>\n",
       "    <tr style=\"text-align: right;\">\n",
       "      <th></th>\n",
       "      <th>Room_Name</th>\n",
       "      <th>Address</th>\n",
       "      <th>Notes</th>\n",
       "      <th>Candidacy</th>\n",
       "      <th>Floor Number</th>\n",
       "    </tr>\n",
       "  </thead>\n",
       "  <tbody>\n",
       "    <tr>\n",
       "      <th>0</th>\n",
       "      <td>Agganis Arena Burke Club Room</td>\n",
       "      <td>925 Commonwealth Avenue</td>\n",
       "      <td>casual catered events, high liklihood of using...</td>\n",
       "      <td>2</td>\n",
       "      <td>2</td>\n",
       "    </tr>\n",
       "    <tr>\n",
       "      <th>1</th>\n",
       "      <td>Agganis Arena Friends of Hockey Lounge</td>\n",
       "      <td>925 Commonwealth Avenue</td>\n",
       "      <td>casual catered events, high liklihood of using...</td>\n",
       "      <td>2</td>\n",
       "      <td>1</td>\n",
       "    </tr>\n",
       "    <tr>\n",
       "      <th>2</th>\n",
       "      <td>Case Center Eilberg Lounge</td>\n",
       "      <td>285 Babcock Street</td>\n",
       "      <td>use of the space is limited; there are fillers...</td>\n",
       "      <td>5</td>\n",
       "      <td>3</td>\n",
       "    </tr>\n",
       "    <tr>\n",
       "      <th>3</th>\n",
       "      <td>College of Arts &amp; Sciences Classrooms</td>\n",
       "      <td>675-725 Commonwealth Avenue</td>\n",
       "      <td>There are a bunch already down the hallways; 4...</td>\n",
       "      <td>4</td>\n",
       "      <td>0</td>\n",
       "    </tr>\n",
       "    <tr>\n",
       "      <th>4</th>\n",
       "      <td>College of Communication Lounge</td>\n",
       "      <td>640 Commowealth Avenue</td>\n",
       "      <td>hallway by room 105</td>\n",
       "      <td>5</td>\n",
       "      <td>1</td>\n",
       "    </tr>\n",
       "  </tbody>\n",
       "</table>\n",
       "</div>"
      ],
      "text/plain": [
       "                                 Room_Name                       Address  \\\n",
       "0           Agganis Arena Burke Club Room        925 Commonwealth Avenue   \n",
       "1  Agganis Arena Friends of Hockey Lounge        925 Commonwealth Avenue   \n",
       "2              Case Center Eilberg Lounge             285 Babcock Street   \n",
       "3   College of Arts & Sciences Classrooms    675-725 Commonwealth Avenue   \n",
       "4         College of Communication Lounge         640 Commowealth Avenue   \n",
       "\n",
       "                                               Notes  Candidacy Floor Number  \n",
       "0  casual catered events, high liklihood of using...          2            2  \n",
       "1  casual catered events, high liklihood of using...          2            1  \n",
       "2  use of the space is limited; there are fillers...          5            3  \n",
       "3  There are a bunch already down the hallways; 4...          4            0  \n",
       "4                                hallway by room 105          5            1  "
      ]
     },
     "execution_count": 8,
     "metadata": {},
     "output_type": "execute_result"
    }
   ],
   "source": [
    "dfHighVolume = pd.read_csv(\"updated_High_Volume_Event_Spaces.csv\")\n",
    "dfHighVolume.head(5)"
   ]
  },
  {
   "cell_type": "code",
   "execution_count": 9,
   "id": "d6e5e5e2",
   "metadata": {},
   "outputs": [
    {
     "data": {
      "text/plain": [
       "array([2, 5, 4, 1, 3])"
      ]
     },
     "execution_count": 9,
     "metadata": {},
     "output_type": "execute_result"
    }
   ],
   "source": [
    "dfHighVolume[\"Candidacy\"].unique()"
   ]
  },
  {
   "cell_type": "code",
   "execution_count": 10,
   "id": "daf64ae2",
   "metadata": {},
   "outputs": [
    {
     "data": {
      "text/plain": [
       "array(['1019 Commonwealth', '110-112 Cummington', '111 Cummington',\n",
       "       '154 Bay State Road', '156 Bay State Road', '196 Bay State Road',\n",
       "       '2 Cummington', '25 Buick', '270 Bay State Road', '300 Babcock',\n",
       "       '33 Harry Agganis', '36 Cummington', '48 Cummington',\n",
       "       '5 Cummington', '517 Beacon', '565 Commonwealth', '64 Cummington',\n",
       "       '712 Beacon', '881 Commonwealth', '96 Cummington', 'Admissions',\n",
       "       'Booth', 'BUA', 'CAS', 'Case Center', 'CELOP', 'CFA', 'CGS',\n",
       "       'Claflin', 'COM', 'Danielson', 'EMA', 'ENG', 'Fitrec',\n",
       "       'Fuller Building', 'GRS', 'GSU', 'Hojo', 'Kilachand',\n",
       "       'Law Auditorium', 'Law', 'Linguistics', 'Marcom', 'Marsh',\n",
       "       'Metcalf', 'Mugar', 'Myles Annex', 'Myles Standish', 'Photonics',\n",
       "       'Questrom', 'Rich', 'Sargent', 'SHA', 'Sleeper', 'SSW', 'STH',\n",
       "       'Stone', 'Towers', 'Tsai', 'TTC', 'Warren', 'Wheelock', 'Yawkey'],\n",
       "      dtype=object)"
      ]
     },
     "execution_count": 10,
     "metadata": {},
     "output_type": "execute_result"
    }
   ],
   "source": [
    "dfGeospatial[\"BUILDING\"].unique()"
   ]
  },
  {
   "cell_type": "code",
   "execution_count": 11,
   "id": "5fd5c010",
   "metadata": {},
   "outputs": [
    {
     "data": {
      "text/plain": [
       "array(['100 Ashford St', '120 Ashford St', \"8 St. Mary's Street\",\n",
       "       '273 Babcock St', '275 Babcock St', '277 Babcock St',\n",
       "       '285 Babcock St', '300 Babcock St', '91 Bay State Road',\n",
       "       '100 Bay State Road', '140 Bay State Road', '156 Bay State Road',\n",
       "       '196 Bay State Road', '226 Bay State Road', '233 Bay State Road',\n",
       "       '264 Bay State Road', '270 Bay State Road', '512 Beacon St',\n",
       "       '517 Beacon St', '610 Beacon St', '25 Buick St',\n",
       "       '565 Commonwealth Ave', '575 Commonwealth Ave',\n",
       "       '590 Commonwealth Ave', '595 Commonwealth Ave', '2 Silber Way',\n",
       "       '610 Commonwealth Ave', '621 Commonwealth Ave',\n",
       "       '635 Commonwealth Ave', '640 Commonwealth Ave',\n",
       "       '675 Commonwealth Ave', '685 Commonwealth Ave',\n",
       "       '700 Commonwealth Ave', '705 Commonwealth Ave',\n",
       "       '725 Commonwealth Ave', '735 Commonwealth Ave',\n",
       "       '745 Commonwealth Ave', '750 Commonwealth Ave',\n",
       "       '765 Commonwealth Ave', '767 Commonwealth Ave',\n",
       "       '771 Commonwealth Ave', '775 Commonwealth Ave', '1 University Rd',\n",
       "       '808 Commonwealth Ave', '820 Commonwealth Ave',\n",
       "       '855 Commonwealth Ave', '871 Commonwealth Ave',\n",
       "       '881 Commonwealth Ave', '890 Commonwealth Ave',\n",
       "       '915 Commonwealth Ave', '925 Commonwealth Ave',\n",
       "       '928 Commonwealth Ave', '985 Commonwealth Ave',\n",
       "       '1019 Commonwealth Ave', '808 Commonwealth Ave ',\n",
       "       '2 Cummington Mall', '5 Cummington Mall', '24 Cummington Mall',\n",
       "       '36 Cummington Mall', '44 Cummington Mall', '48 Cummington Mall',\n",
       "       '64 Cummington Mall', '68 Cummington Mall', '96 Cummington Mall',\n",
       "       '111 Cummington Mall', '110-112 Cummington Mall',\n",
       "       '33 Harry Agganis Way', 'nan nan'], dtype=object)"
      ]
     },
     "execution_count": 11,
     "metadata": {},
     "output_type": "execute_result"
    }
   ],
   "source": [
    "dfInventory[\"Address\"].unique()"
   ]
  },
  {
   "cell_type": "code",
   "execution_count": 12,
   "id": "1936f802",
   "metadata": {},
   "outputs": [
    {
     "data": {
      "text/html": [
       "<div>\n",
       "<style scoped>\n",
       "    .dataframe tbody tr th:only-of-type {\n",
       "        vertical-align: middle;\n",
       "    }\n",
       "\n",
       "    .dataframe tbody tr th {\n",
       "        vertical-align: top;\n",
       "    }\n",
       "\n",
       "    .dataframe thead th {\n",
       "        text-align: right;\n",
       "    }\n",
       "</style>\n",
       "<table border=\"1\" class=\"dataframe\">\n",
       "  <thead>\n",
       "    <tr style=\"text-align: right;\">\n",
       "      <th></th>\n",
       "      <th>Room_Name</th>\n",
       "      <th>Address</th>\n",
       "      <th>Notes</th>\n",
       "      <th>Candidacy</th>\n",
       "      <th>Floor Number</th>\n",
       "    </tr>\n",
       "  </thead>\n",
       "  <tbody>\n",
       "    <tr>\n",
       "      <th>3</th>\n",
       "      <td>College of Arts &amp; Sciences Classrooms</td>\n",
       "      <td>675-725 Commonwealth Avenue</td>\n",
       "      <td>There are a bunch already down the hallways; 4...</td>\n",
       "      <td>4</td>\n",
       "      <td>0</td>\n",
       "    </tr>\n",
       "    <tr>\n",
       "      <th>5</th>\n",
       "      <td>College of General Studies Gilbane Lounge</td>\n",
       "      <td>871 Commonwealth Avenue</td>\n",
       "      <td>one on each floor</td>\n",
       "      <td>4</td>\n",
       "      <td>1</td>\n",
       "    </tr>\n",
       "    <tr>\n",
       "      <th>6</th>\n",
       "      <td>College of General Studies Katzenberg Lounge</td>\n",
       "      <td>871 Commonwealth Avenue</td>\n",
       "      <td>NaN</td>\n",
       "      <td>4</td>\n",
       "      <td>4</td>\n",
       "    </tr>\n",
       "    <tr>\n",
       "      <th>7</th>\n",
       "      <td>College of General Studies Sleeper Auditorium</td>\n",
       "      <td>871 Commonwealth Avenue</td>\n",
       "      <td>NaN</td>\n",
       "      <td>4</td>\n",
       "      <td>1</td>\n",
       "    </tr>\n",
       "    <tr>\n",
       "      <th>8</th>\n",
       "      <td>Dahod Family Alumni Center</td>\n",
       "      <td>225 Bay State Road</td>\n",
       "      <td>There's one in the space btw Castle and Admiss...</td>\n",
       "      <td>4</td>\n",
       "      <td>1</td>\n",
       "    </tr>\n",
       "  </tbody>\n",
       "</table>\n",
       "</div>"
      ],
      "text/plain": [
       "                                       Room_Name  \\\n",
       "3         College of Arts & Sciences Classrooms    \n",
       "5      College of General Studies Gilbane Lounge   \n",
       "6   College of General Studies Katzenberg Lounge   \n",
       "7  College of General Studies Sleeper Auditorium   \n",
       "8                    Dahod Family Alumni Center    \n",
       "\n",
       "                        Address  \\\n",
       "3   675-725 Commonwealth Avenue   \n",
       "5       871 Commonwealth Avenue   \n",
       "6       871 Commonwealth Avenue   \n",
       "7       871 Commonwealth Avenue   \n",
       "8            225 Bay State Road   \n",
       "\n",
       "                                               Notes  Candidacy Floor Number  \n",
       "3  There are a bunch already down the hallways; 4...          4            0  \n",
       "5                                  one on each floor          4            1  \n",
       "6                                                NaN          4            4  \n",
       "7                                                NaN          4            1  \n",
       "8  There's one in the space btw Castle and Admiss...          4            1  "
      ]
     },
     "execution_count": 12,
     "metadata": {},
     "output_type": "execute_result"
    }
   ],
   "source": [
    "dfHighVolumeOne = dfHighVolume[dfHighVolume[\"Candidacy\"] == 4]\n",
    "dfHighVolumeTwo = dfHighVolume[dfHighVolume[\"Candidacy\"] == 3]\n",
    "dfHighVolumeOne.head(5)"
   ]
  },
  {
   "cell_type": "code",
   "execution_count": 13,
   "id": "d9b42115",
   "metadata": {},
   "outputs": [
    {
     "data": {
      "text/html": [
       "<div>\n",
       "<style scoped>\n",
       "    .dataframe tbody tr th:only-of-type {\n",
       "        vertical-align: middle;\n",
       "    }\n",
       "\n",
       "    .dataframe tbody tr th {\n",
       "        vertical-align: top;\n",
       "    }\n",
       "\n",
       "    .dataframe thead th {\n",
       "        text-align: right;\n",
       "    }\n",
       "</style>\n",
       "<table border=\"1\" class=\"dataframe\">\n",
       "  <thead>\n",
       "    <tr style=\"text-align: right;\">\n",
       "      <th></th>\n",
       "      <th>Room_Name</th>\n",
       "      <th>Address</th>\n",
       "      <th>Notes</th>\n",
       "      <th>Candidacy</th>\n",
       "      <th>Floor Number</th>\n",
       "    </tr>\n",
       "  </thead>\n",
       "  <tbody>\n",
       "    <tr>\n",
       "      <th>11</th>\n",
       "      <td>George Sherman Union Metcalf Hall</td>\n",
       "      <td>775 Commonwealth Avenue</td>\n",
       "      <td>There are 3 on the second floor, just not in t...</td>\n",
       "      <td>3</td>\n",
       "      <td>2</td>\n",
       "    </tr>\n",
       "    <tr>\n",
       "      <th>15</th>\n",
       "      <td>Kilachand Center Eichenbaum Colloquium Room an...</td>\n",
       "      <td>610 Commonwealth Avenue</td>\n",
       "      <td>there's one in the hallway; a bottle filler in...</td>\n",
       "      <td>3</td>\n",
       "      <td>1</td>\n",
       "    </tr>\n",
       "  </tbody>\n",
       "</table>\n",
       "</div>"
      ],
      "text/plain": [
       "                                            Room_Name  \\\n",
       "11                  George Sherman Union Metcalf Hall   \n",
       "15  Kilachand Center Eichenbaum Colloquium Room an...   \n",
       "\n",
       "                     Address  \\\n",
       "11   775 Commonwealth Avenue   \n",
       "15   610 Commonwealth Avenue   \n",
       "\n",
       "                                                Notes  Candidacy Floor Number  \n",
       "11  There are 3 on the second floor, just not in t...          3            2  \n",
       "15  there's one in the hallway; a bottle filler in...          3            1  "
      ]
     },
     "execution_count": 13,
     "metadata": {},
     "output_type": "execute_result"
    }
   ],
   "source": [
    "dfHighVolumeTwo.head(5)"
   ]
  },
  {
   "cell_type": "code",
   "execution_count": 14,
   "id": "86782b02",
   "metadata": {},
   "outputs": [
    {
     "data": {
      "text/plain": [
       "array([' 675-725 Commonwealth Avenue', ' 871 Commonwealth Avenue',\n",
       "       ' 225 Bay State Road', ' 775 Commonwealth Avenue',\n",
       "       ' 33 Agganis Way', ' 685 Commonwealth Avenue'], dtype=object)"
      ]
     },
     "execution_count": 14,
     "metadata": {},
     "output_type": "execute_result"
    }
   ],
   "source": [
    "dfHighVolumeOne[\"Address\"].unique()"
   ]
  },
  {
   "cell_type": "code",
   "execution_count": 15,
   "id": "d5b1b4eb",
   "metadata": {},
   "outputs": [
    {
     "data": {
      "text/plain": [
       "array([' 775 Commonwealth Avenue', ' 610 Commonwealth Avenue'],\n",
       "      dtype=object)"
      ]
     },
     "execution_count": 15,
     "metadata": {},
     "output_type": "execute_result"
    }
   ],
   "source": [
    "dfHighVolumeTwo[\"Address\"].unique()"
   ]
  },
  {
   "cell_type": "code",
   "execution_count": 16,
   "id": "12f38b45",
   "metadata": {},
   "outputs": [
    {
     "data": {
      "text/html": [
       "<div>\n",
       "<style scoped>\n",
       "    .dataframe tbody tr th:only-of-type {\n",
       "        vertical-align: middle;\n",
       "    }\n",
       "\n",
       "    .dataframe tbody tr th {\n",
       "        vertical-align: top;\n",
       "    }\n",
       "\n",
       "    .dataframe thead th {\n",
       "        text-align: right;\n",
       "    }\n",
       "</style>\n",
       "<table border=\"1\" class=\"dataframe\">\n",
       "  <thead>\n",
       "    <tr style=\"text-align: right;\">\n",
       "      <th></th>\n",
       "      <th>date</th>\n",
       "      <th>hour</th>\n",
       "      <th>building_floor</th>\n",
       "      <th>building_desc</th>\n",
       "      <th>building_type</th>\n",
       "      <th>density_cnt</th>\n",
       "      <th>capacity</th>\n",
       "      <th>dc_ratio</th>\n",
       "    </tr>\n",
       "  </thead>\n",
       "  <tbody>\n",
       "    <tr>\n",
       "      <th>0</th>\n",
       "      <td>2021-03-31</td>\n",
       "      <td>1</td>\n",
       "      <td>4</td>\n",
       "      <td>209 BAY STATE ROAD</td>\n",
       "      <td>Residential</td>\n",
       "      <td>1</td>\n",
       "      <td>8</td>\n",
       "      <td>0.13</td>\n",
       "    </tr>\n",
       "    <tr>\n",
       "      <th>1</th>\n",
       "      <td>2021-03-31</td>\n",
       "      <td>1</td>\n",
       "      <td>2</td>\n",
       "      <td>200-202 BAY STATE ROAD</td>\n",
       "      <td>Residential</td>\n",
       "      <td>1</td>\n",
       "      <td>12</td>\n",
       "      <td>0.08</td>\n",
       "    </tr>\n",
       "    <tr>\n",
       "      <th>2</th>\n",
       "      <td>2021-03-31</td>\n",
       "      <td>1</td>\n",
       "      <td>2</td>\n",
       "      <td>184 BAY STATE ROAD</td>\n",
       "      <td>Residential</td>\n",
       "      <td>1</td>\n",
       "      <td>6</td>\n",
       "      <td>0.17</td>\n",
       "    </tr>\n",
       "    <tr>\n",
       "      <th>3</th>\n",
       "      <td>2021-03-31</td>\n",
       "      <td>1</td>\n",
       "      <td>3</td>\n",
       "      <td>190 BAY STATE ROAD</td>\n",
       "      <td>Residential</td>\n",
       "      <td>1</td>\n",
       "      <td>9</td>\n",
       "      <td>0.11</td>\n",
       "    </tr>\n",
       "    <tr>\n",
       "      <th>4</th>\n",
       "      <td>2021-03-31</td>\n",
       "      <td>1</td>\n",
       "      <td>3</td>\n",
       "      <td>161 BAY STATE ROAD</td>\n",
       "      <td>Residential</td>\n",
       "      <td>1</td>\n",
       "      <td>5</td>\n",
       "      <td>0.20</td>\n",
       "    </tr>\n",
       "  </tbody>\n",
       "</table>\n",
       "</div>"
      ],
      "text/plain": [
       "         date  hour building_floor           building_desc building_type  \\\n",
       "0  2021-03-31     1              4      209 BAY STATE ROAD   Residential   \n",
       "1  2021-03-31     1              2  200-202 BAY STATE ROAD   Residential   \n",
       "2  2021-03-31     1              2      184 BAY STATE ROAD   Residential   \n",
       "3  2021-03-31     1              3      190 BAY STATE ROAD   Residential   \n",
       "4  2021-03-31     1              3      161 BAY STATE ROAD   Residential   \n",
       "\n",
       "   density_cnt  capacity  dc_ratio  \n",
       "0            1         8      0.13  \n",
       "1            1        12      0.08  \n",
       "2            1         6      0.17  \n",
       "3            1         9      0.11  \n",
       "4            1         5      0.20  "
      ]
     },
     "execution_count": 16,
     "metadata": {},
     "output_type": "execute_result"
    }
   ],
   "source": [
    "dfWifi = pd.read_csv(\"updated_wifi.csv\")\n",
    "dfWifi.head(5)"
   ]
  },
  {
   "cell_type": "code",
   "execution_count": 17,
   "id": "05eeb0a0",
   "metadata": {},
   "outputs": [
    {
     "data": {
      "text/html": [
       "<div>\n",
       "<style scoped>\n",
       "    .dataframe tbody tr th:only-of-type {\n",
       "        vertical-align: middle;\n",
       "    }\n",
       "\n",
       "    .dataframe tbody tr th {\n",
       "        vertical-align: top;\n",
       "    }\n",
       "\n",
       "    .dataframe thead th {\n",
       "        text-align: right;\n",
       "    }\n",
       "</style>\n",
       "<table border=\"1\" class=\"dataframe\">\n",
       "  <thead>\n",
       "    <tr style=\"text-align: right;\">\n",
       "      <th></th>\n",
       "      <th>date</th>\n",
       "      <th>hour</th>\n",
       "      <th>building_floor</th>\n",
       "      <th>building_desc</th>\n",
       "      <th>building_type</th>\n",
       "      <th>density_cnt</th>\n",
       "      <th>capacity</th>\n",
       "      <th>dc_ratio</th>\n",
       "    </tr>\n",
       "  </thead>\n",
       "  <tbody>\n",
       "    <tr>\n",
       "      <th>0</th>\n",
       "      <td>2021-03-31</td>\n",
       "      <td>1</td>\n",
       "      <td>4</td>\n",
       "      <td>209 BAY STATE ROAD</td>\n",
       "      <td>Residential</td>\n",
       "      <td>1</td>\n",
       "      <td>8</td>\n",
       "      <td>0.13</td>\n",
       "    </tr>\n",
       "    <tr>\n",
       "      <th>1</th>\n",
       "      <td>2021-03-31</td>\n",
       "      <td>1</td>\n",
       "      <td>2</td>\n",
       "      <td>200-202 BAY STATE ROAD</td>\n",
       "      <td>Residential</td>\n",
       "      <td>1</td>\n",
       "      <td>12</td>\n",
       "      <td>0.08</td>\n",
       "    </tr>\n",
       "    <tr>\n",
       "      <th>2</th>\n",
       "      <td>2021-03-31</td>\n",
       "      <td>1</td>\n",
       "      <td>2</td>\n",
       "      <td>184 BAY STATE ROAD</td>\n",
       "      <td>Residential</td>\n",
       "      <td>1</td>\n",
       "      <td>6</td>\n",
       "      <td>0.17</td>\n",
       "    </tr>\n",
       "    <tr>\n",
       "      <th>3</th>\n",
       "      <td>2021-03-31</td>\n",
       "      <td>1</td>\n",
       "      <td>3</td>\n",
       "      <td>190 BAY STATE ROAD</td>\n",
       "      <td>Residential</td>\n",
       "      <td>1</td>\n",
       "      <td>9</td>\n",
       "      <td>0.11</td>\n",
       "    </tr>\n",
       "    <tr>\n",
       "      <th>4</th>\n",
       "      <td>2021-03-31</td>\n",
       "      <td>1</td>\n",
       "      <td>3</td>\n",
       "      <td>161 BAY STATE ROAD</td>\n",
       "      <td>Residential</td>\n",
       "      <td>1</td>\n",
       "      <td>5</td>\n",
       "      <td>0.20</td>\n",
       "    </tr>\n",
       "  </tbody>\n",
       "</table>\n",
       "</div>"
      ],
      "text/plain": [
       "         date  hour building_floor           building_desc building_type  \\\n",
       "0  2021-03-31     1              4      209 BAY STATE ROAD   Residential   \n",
       "1  2021-03-31     1              2  200-202 BAY STATE ROAD   Residential   \n",
       "2  2021-03-31     1              2      184 BAY STATE ROAD   Residential   \n",
       "3  2021-03-31     1              3      190 BAY STATE ROAD   Residential   \n",
       "4  2021-03-31     1              3      161 BAY STATE ROAD   Residential   \n",
       "\n",
       "   density_cnt  capacity  dc_ratio  \n",
       "0            1         8      0.13  \n",
       "1            1        12      0.08  \n",
       "2            1         6      0.17  \n",
       "3            1         9      0.11  \n",
       "4            1         5      0.20  "
      ]
     },
     "execution_count": 17,
     "metadata": {},
     "output_type": "execute_result"
    }
   ],
   "source": [
    "dfWifi = dfWifi[~dfWifi['hour'].isin([3, 4, 5, 6])]\n",
    "dfWifi.head(5)"
   ]
  },
  {
   "cell_type": "code",
   "execution_count": 18,
   "id": "c19c6572",
   "metadata": {},
   "outputs": [],
   "source": [
    "wifiList = dfWifi[\"building_desc\"].unique()\n",
    "lengthOfList = int(len(wifiList)/4)\n",
    "chrisData = wifiList[:lengthOfList]\n",
    "ryanData = wifiList[lengthOfList:lengthOfList*2]\n",
    "junhoData = wifiList[lengthOfList*2:lengthOfList*3]\n",
    "wooData = wifiList[lengthOfList*3:]"
   ]
  },
  {
   "cell_type": "code",
   "execution_count": 19,
   "id": "0a679067",
   "metadata": {
    "scrolled": true
   },
   "outputs": [
    {
     "name": "stdout",
     "output_type": "stream",
     "text": [
      "['177 BAY STATE ROAD' '179 BAY STATE ROAD' '157 BAY STATE ROAD'\n",
      " '195-197 BAY STATE ROAD' '203 BAY STATE ROAD' '181 BAY STATE ROAD'\n",
      " '627-629 COMMONWEALTH AVENUE' '173 BAY STATE ROAD' '178 BAY STATE ROAD'\n",
      " '205 BAY STATE ROAD' '96-100 CUMMINGTON MALL' '42 BUSWELL STREET'\n",
      " '852 BEACON STREET' '848 BEACON STREET' '864 BEACON STREET'\n",
      " '133 BAY STATE ROAD' '625 COMMONWEALTH AVENUE' '832 BEACON STREET'\n",
      " '881 COMMONWEALTH AVENUE' '141 BAY STATE ROAD' '117 BAY STATE ROAD'\n",
      " '53 BAY STATE ROAD' '67 BAY STATE ROAD' '100 BAY STATE ROAD'\n",
      " '110 BAY STATE ROAD' '115 BAY STATE ROAD' '704 COMMONWEALTH AVENUE'\n",
      " '610 COMMONWEALTH AVENUE' '928 COMMONWEALTH AVENUE' '141 CARLTON STREET'\n",
      " '985 COMMONWEALTH AVENUE' '888 COMMONWEALTH AVENUE'\n",
      " '37-39 CARLTON STREET' '1 BUSWELL STREET' '5 BUSWELL STREET'\n",
      " '37 BUSWELL STREET' '39 BUSWELL STREET' '45 BUSWELL STREET'\n",
      " '47 BUSWELL STREET' '7 BUSWELL STREET' '60 BAY STATE ROAD'\n",
      " '80 BAY STATE ROAD' '820 COMMONWEALTH AVENUE' '191 BAY STATE ROAD'\n",
      " '199 BAY STATE ROAD' '232 BAY STATE ROAD' '196 BAY STATE ROAD'\n",
      " '201 BAY STATE ROAD' '214 BAY STATE ROAD' '207 BAY STATE ROAD'\n",
      " '188 BAY STATE ROAD' '204 BAY STATE ROAD' '619 MEMORIAL DRIVE'\n",
      " '100 MOUNTFORT STREET' '300 BABCOCK STREET' '2 CUMMINGTON MALL'\n",
      " '30-38 CUMMINGTON MALL' '3 - 5 CUMMINGTON MALL' '24 CUMMINGTON MALL'\n",
      " '677 BEACON STREET']\n"
     ]
    }
   ],
   "source": [
    "print(junhoData)"
   ]
  },
  {
   "cell_type": "markdown",
   "id": "d52da77b",
   "metadata": {},
   "source": [
    "## Wifi Stations Without Water Bottle Filling Station"
   ]
  },
  {
   "cell_type": "code",
   "execution_count": 99,
   "id": "6f554bde",
   "metadata": {},
   "outputs": [],
   "source": [
    "WithoutWaterBottle = {}"
   ]
  },
  {
   "cell_type": "code",
   "execution_count": 100,
   "id": "64b3f503",
   "metadata": {},
   "outputs": [
    {
     "name": "stdout",
     "output_type": "stream",
     "text": [
      "On an average day, 148 people will benefit from a water bottle station at 177 BAY STATE ROAD\n"
     ]
    }
   ],
   "source": [
    "grouped_df = dfWifi[dfWifi['building_desc'] == '177 BAY STATE ROAD']\n",
    "grouped_df = grouped_df.groupby(['building_desc', 'hour'])[['capacity']].mean().sum()\n",
    "print(f\"On an average day, {int(grouped_df)} people will benefit from a water bottle station at 177 BAY STATE ROAD\")\n",
    "WithoutWaterBottle['177 BAY STATE ROAD'] = int(grouped_df)"
   ]
  },
  {
   "cell_type": "code",
   "execution_count": 101,
   "id": "606b9ef4",
   "metadata": {},
   "outputs": [
    {
     "name": "stdout",
     "output_type": "stream",
     "text": [
      "On an average day, 98 people will benefit from a water bottle station at 179 BAY STATE ROAD\n"
     ]
    }
   ],
   "source": [
    "grouped_df = dfWifi[dfWifi['building_desc'] == '179 BAY STATE ROAD']\n",
    "grouped_df = grouped_df.groupby(['building_desc', 'hour'])[['capacity']].mean().sum()\n",
    "print(f\"On an average day, {int(grouped_df)} people will benefit from a water bottle station at 179 BAY STATE ROAD\")\n",
    "WithoutWaterBottle['179 BAY STATE ROAD'] = int(grouped_df)"
   ]
  },
  {
   "cell_type": "code",
   "execution_count": 102,
   "id": "35ec2e67",
   "metadata": {},
   "outputs": [
    {
     "name": "stdout",
     "output_type": "stream",
     "text": [
      "On an average day, 151 people will benefit from a water bottle station at 157 BAY STATE ROAD\n"
     ]
    }
   ],
   "source": [
    "grouped_df = dfWifi[dfWifi['building_desc'] == '157 BAY STATE ROAD']\n",
    "grouped_df = grouped_df.groupby(['building_desc', 'hour'])[['capacity']].mean().sum()\n",
    "print(f\"On an average day, {int(grouped_df)} people will benefit from a water bottle station at 157 BAY STATE ROAD\")\n",
    "WithoutWaterBottle['157 BAY STATE ROAD'] = int(grouped_df)"
   ]
  },
  {
   "cell_type": "code",
   "execution_count": 103,
   "id": "4c6c1e0a",
   "metadata": {},
   "outputs": [
    {
     "name": "stdout",
     "output_type": "stream",
     "text": [
      "On an average day, 155 people will benefit from a water bottle station at 203 BAY STATE ROAD\n"
     ]
    }
   ],
   "source": [
    "grouped_df = dfWifi[dfWifi['building_desc'] == '203 BAY STATE ROAD']\n",
    "grouped_df = grouped_df.groupby(['building_desc', 'hour'])[['capacity']].mean().sum()\n",
    "print(f\"On an average day, {int(grouped_df)} people will benefit from a water bottle station at 203 BAY STATE ROAD\")\n",
    "WithoutWaterBottle['203 BAY STATE ROAD'] = int(grouped_df)"
   ]
  },
  {
   "cell_type": "code",
   "execution_count": 104,
   "id": "ba4ff813",
   "metadata": {},
   "outputs": [
    {
     "name": "stdout",
     "output_type": "stream",
     "text": [
      "On an average day, 103 people will benefit from a water bottle station at 181 BAY STATE ROAD\n"
     ]
    }
   ],
   "source": [
    "grouped_df = dfWifi[dfWifi['building_desc'] == '181 BAY STATE ROAD']\n",
    "grouped_df = grouped_df.groupby(['building_desc', 'hour'])[['capacity']].mean().sum()\n",
    "print(f\"On an average day, {int(grouped_df)} people will benefit from a water bottle station at 181 BAY STATE ROAD\")\n",
    "WithoutWaterBottle['181 BAY STATE ROAD'] = int(grouped_df)"
   ]
  },
  {
   "cell_type": "code",
   "execution_count": 105,
   "id": "361ae0d9",
   "metadata": {},
   "outputs": [
    {
     "name": "stdout",
     "output_type": "stream",
     "text": [
      "On an average day, 46 people will benefit from a water bottle station at 173 BAY STATE ROAD\n"
     ]
    }
   ],
   "source": [
    "grouped_df = dfWifi[dfWifi['building_desc'] == '173 BAY STATE ROAD']\n",
    "grouped_df = grouped_df.groupby(['building_desc', 'hour'])[['capacity']].mean().sum()\n",
    "print(f\"On an average day, {int(grouped_df)} people will benefit from a water bottle station at 173 BAY STATE ROAD\")\n",
    "WithoutWaterBottle['173 BAY STATE ROAD'] = int(grouped_df)"
   ]
  },
  {
   "cell_type": "code",
   "execution_count": 106,
   "id": "eac13695",
   "metadata": {},
   "outputs": [
    {
     "name": "stdout",
     "output_type": "stream",
     "text": [
      "On an average day, 138 people will benefit from a water bottle station at 178 BAY STATE ROAD\n"
     ]
    }
   ],
   "source": [
    "grouped_df = dfWifi[dfWifi['building_desc'] == '178 BAY STATE ROAD']\n",
    "grouped_df = grouped_df.groupby(['building_desc', 'hour'])[['capacity']].mean().sum()\n",
    "print(f\"On an average day, {int(grouped_df)} people will benefit from a water bottle station at 178 BAY STATE ROAD\")\n",
    "WithoutWaterBottle['178 BAY STATE ROAD'] = int(grouped_df)"
   ]
  },
  {
   "cell_type": "code",
   "execution_count": 107,
   "id": "9db60b6e",
   "metadata": {},
   "outputs": [
    {
     "name": "stdout",
     "output_type": "stream",
     "text": [
      "On an average day, 69 people will benefit from a water bottle station at 205 BAY STATE ROAD\n"
     ]
    }
   ],
   "source": [
    "grouped_df = dfWifi[dfWifi['building_desc'] == '205 BAY STATE ROAD']\n",
    "grouped_df = grouped_df.groupby(['building_desc', 'hour'])[['capacity']].mean().sum()\n",
    "print(f\"On an average day, {int(grouped_df)} people will benefit from a water bottle station at 205 BAY STATE ROAD\")\n",
    "WithoutWaterBottle['205 BAY STATE ROAD'] = int(grouped_df)"
   ]
  },
  {
   "cell_type": "code",
   "execution_count": 108,
   "id": "9152328d",
   "metadata": {},
   "outputs": [
    {
     "name": "stdout",
     "output_type": "stream",
     "text": [
      "On an average day, 1 people will benefit from a water bottle station at 42 BUSWELL STREET\n"
     ]
    }
   ],
   "source": [
    "grouped_df = dfWifi[dfWifi['building_desc'] == '42 BUSWELL STREET']\n",
    "grouped_df = grouped_df.groupby(['building_desc', 'hour'])[['capacity']].mean().sum()\n",
    "print(f\"On an average day, {int(grouped_df)} people will benefit from a water bottle station at 42 BUSWELL STREET\")\n",
    "WithoutWaterBottle['42 BUSWELL STREET'] = int(grouped_df)"
   ]
  },
  {
   "cell_type": "code",
   "execution_count": 109,
   "id": "1fc1c7a7",
   "metadata": {},
   "outputs": [
    {
     "name": "stdout",
     "output_type": "stream",
     "text": [
      "On an average day, 1 people will benefit from a water bottle station at 852 BEACON STREET\n"
     ]
    }
   ],
   "source": [
    "grouped_df = dfWifi[dfWifi['building_desc'] == '852 BEACON STREET']\n",
    "grouped_df = grouped_df.groupby(['building_desc', 'hour'])[['capacity']].mean().sum()\n",
    "print(f\"On an average day, {int(grouped_df)} people will benefit from a water bottle station at 852 BEACON STREET\")\n",
    "WithoutWaterBottle['852 BEACON STREET'] = int(grouped_df)"
   ]
  },
  {
   "cell_type": "code",
   "execution_count": 110,
   "id": "3557b2f1",
   "metadata": {},
   "outputs": [
    {
     "name": "stdout",
     "output_type": "stream",
     "text": [
      "On an average day, 2 people will benefit from a water bottle station at 848 BEACON STREET\n"
     ]
    }
   ],
   "source": [
    "grouped_df = dfWifi[dfWifi['building_desc'] == '848 BEACON STREET']\n",
    "grouped_df = grouped_df.groupby(['building_desc', 'hour'])[['capacity']].mean().sum()\n",
    "print(f\"On an average day, {int(grouped_df)} people will benefit from a water bottle station at 848 BEACON STREET\")\n",
    "WithoutWaterBottle['848 BEACON STREET'] = int(grouped_df)"
   ]
  },
  {
   "cell_type": "code",
   "execution_count": 111,
   "id": "20d98ec0",
   "metadata": {},
   "outputs": [
    {
     "name": "stdout",
     "output_type": "stream",
     "text": [
      "On an average day, 1 people will benefit from a water bottle station at 864 BEACON STREET\n"
     ]
    }
   ],
   "source": [
    "grouped_df = dfWifi[dfWifi['building_desc'] == '864 BEACON STREET']\n",
    "grouped_df = grouped_df.groupby(['building_desc', 'hour'])[['capacity']].mean().sum()\n",
    "print(f\"On an average day, {int(grouped_df)} people will benefit from a water bottle station at 864 BEACON STREET\")\n",
    "WithoutWaterBottle['864 BEACON STREET'] = int(grouped_df)"
   ]
  },
  {
   "cell_type": "code",
   "execution_count": 112,
   "id": "ef6d00b7",
   "metadata": {},
   "outputs": [
    {
     "name": "stdout",
     "output_type": "stream",
     "text": [
      "On an average day, 54 people will benefit from a water bottle station at 133 BAY STATE ROAD\n"
     ]
    }
   ],
   "source": [
    "grouped_df = dfWifi[dfWifi['building_desc'] == '133 BAY STATE ROAD']\n",
    "grouped_df = grouped_df.groupby(['building_desc', 'hour'])[['capacity']].mean().sum()\n",
    "print(f\"On an average day, {int(grouped_df)} people will benefit from a water bottle station at 133 BAY STATE ROAD\")\n",
    "WithoutWaterBottle['133 BAY STATE ROAD'] = int(grouped_df)"
   ]
  },
  {
   "cell_type": "code",
   "execution_count": 113,
   "id": "21907605",
   "metadata": {},
   "outputs": [
    {
     "name": "stdout",
     "output_type": "stream",
     "text": [
      "On an average day, 25 people will benefit from a water bottle station at 625 COMMONWEALTH AVENUE\n"
     ]
    }
   ],
   "source": [
    "grouped_df = dfWifi[dfWifi['building_desc'] == '625 COMMONWEALTH AVENUE']\n",
    "grouped_df = grouped_df.groupby(['building_desc', 'hour'])[['capacity']].mean().sum()\n",
    "print(f\"On an average day, {int(grouped_df)} people will benefit from a water bottle station at 625 COMMONWEALTH AVENUE\")\n",
    "WithoutWaterBottle['625 COMMONWEALTH AVENUE'] = int(grouped_df)"
   ]
  },
  {
   "cell_type": "code",
   "execution_count": 114,
   "id": "40198fd9",
   "metadata": {},
   "outputs": [
    {
     "name": "stdout",
     "output_type": "stream",
     "text": [
      "On an average day, 61 people will benefit from a water bottle station at 832 BEACON STREET\n"
     ]
    }
   ],
   "source": [
    "grouped_df = dfWifi[dfWifi['building_desc'] == '832 BEACON STREET']\n",
    "grouped_df = grouped_df.groupby(['building_desc', 'hour'])[['capacity']].mean().sum()\n",
    "print(f\"On an average day, {int(grouped_df)} people will benefit from a water bottle station at 832 BEACON STREET\")\n",
    "WithoutWaterBottle['832 BEACON STREET'] = int(grouped_df)"
   ]
  },
  {
   "cell_type": "code",
   "execution_count": 115,
   "id": "0ff012e1",
   "metadata": {},
   "outputs": [
    {
     "name": "stdout",
     "output_type": "stream",
     "text": [
      "On an average day, 101 people will benefit from a water bottle station at 141 BAY STATE ROAD\n"
     ]
    }
   ],
   "source": [
    "grouped_df = dfWifi[dfWifi['building_desc'] == '141 BAY STATE ROAD']\n",
    "grouped_df = grouped_df.groupby(['building_desc', 'hour'])[['capacity']].mean().sum()\n",
    "print(f\"On an average day, {int(grouped_df)} people will benefit from a water bottle station at 141 BAY STATE ROAD\")\n",
    "WithoutWaterBottle['141 BAY STATE ROAD'] = int(grouped_df)"
   ]
  },
  {
   "cell_type": "code",
   "execution_count": 116,
   "id": "c5269b23",
   "metadata": {},
   "outputs": [
    {
     "name": "stdout",
     "output_type": "stream",
     "text": [
      "On an average day, 103 people will benefit from a water bottle station at 117 BAY STATE ROAD\n"
     ]
    }
   ],
   "source": [
    "grouped_df = dfWifi[dfWifi['building_desc'] == '117 BAY STATE ROAD']\n",
    "grouped_df = grouped_df.groupby(['building_desc', 'hour'])[['capacity']].mean().sum()\n",
    "print(f\"On an average day, {int(grouped_df)} people will benefit from a water bottle station at 117 BAY STATE ROAD\")\n",
    "WithoutWaterBottle['117 BAY STATE ROAD'] = int(grouped_df)"
   ]
  },
  {
   "cell_type": "code",
   "execution_count": 117,
   "id": "363ca4d5",
   "metadata": {},
   "outputs": [
    {
     "name": "stdout",
     "output_type": "stream",
     "text": [
      "On an average day, 349 people will benefit from a water bottle station at 53 BAY STATE ROAD\n"
     ]
    }
   ],
   "source": [
    "grouped_df = dfWifi[dfWifi['building_desc'] == '53 BAY STATE ROAD']\n",
    "grouped_df = grouped_df.groupby(['building_desc', 'hour'])[['capacity']].mean().sum()\n",
    "print(f\"On an average day, {int(grouped_df)} people will benefit from a water bottle station at 53 BAY STATE ROAD\")\n",
    "WithoutWaterBottle['53 BAY STATE ROAD'] = int(grouped_df)"
   ]
  },
  {
   "cell_type": "code",
   "execution_count": 118,
   "id": "0efac7e8",
   "metadata": {},
   "outputs": [
    {
     "name": "stdout",
     "output_type": "stream",
     "text": [
      "On an average day, 157 people will benefit from a water bottle station at 67 BAY STATE ROAD\n"
     ]
    }
   ],
   "source": [
    "grouped_df = dfWifi[dfWifi['building_desc'] == '67 BAY STATE ROAD']\n",
    "grouped_df = grouped_df.groupby(['building_desc', 'hour'])[['capacity']].mean().sum()\n",
    "print(f\"On an average day, {int(grouped_df)} people will benefit from a water bottle station at 67 BAY STATE ROAD\")\n",
    "WithoutWaterBottle['67 BAY STATE ROAD'] = int(grouped_df)"
   ]
  },
  {
   "cell_type": "code",
   "execution_count": 119,
   "id": "06bbe4e1",
   "metadata": {},
   "outputs": [
    {
     "name": "stdout",
     "output_type": "stream",
     "text": [
      "On an average day, 54 people will benefit from a water bottle station at 110 BAY STATE ROAD\n"
     ]
    }
   ],
   "source": [
    "grouped_df = dfWifi[dfWifi['building_desc'] == '110 BAY STATE ROAD']\n",
    "grouped_df = grouped_df.groupby(['building_desc', 'hour'])[['capacity']].mean().sum()\n",
    "print(f\"On an average day, {int(grouped_df)} people will benefit from a water bottle station at 110 BAY STATE ROAD\")\n",
    "WithoutWaterBottle['110 BAY STATE ROAD'] = int(grouped_df)"
   ]
  },
  {
   "cell_type": "code",
   "execution_count": 120,
   "id": "2511580a",
   "metadata": {},
   "outputs": [
    {
     "name": "stdout",
     "output_type": "stream",
     "text": [
      "On an average day, 59 people will benefit from a water bottle station at 115 BAY STATE ROAD\n"
     ]
    }
   ],
   "source": [
    "grouped_df = dfWifi[dfWifi['building_desc'] == '115 BAY STATE ROAD']\n",
    "grouped_df = grouped_df.groupby(['building_desc', 'hour'])[['capacity']].mean().sum()\n",
    "print(f\"On an average day, {int(grouped_df)} people will benefit from a water bottle station at 115 BAY STATE ROAD\")\n",
    "WithoutWaterBottle['115 BAY STATE ROAD'] = int(grouped_df)"
   ]
  },
  {
   "cell_type": "code",
   "execution_count": 121,
   "id": "ddb2b392",
   "metadata": {},
   "outputs": [
    {
     "name": "stdout",
     "output_type": "stream",
     "text": [
      "On an average day, 510 people will benefit from a water bottle station at 704 COMMONWEALTH AVENUE\n"
     ]
    }
   ],
   "source": [
    "grouped_df = dfWifi[dfWifi['building_desc'] == '704 COMMONWEALTH AVENUE']\n",
    "grouped_df = grouped_df.groupby(['building_desc', 'hour'])[['capacity']].mean().sum()\n",
    "print(f\"On an average day, {int(grouped_df)} people will benefit from a water bottle station at 704 COMMONWEALTH AVENUE\")\n",
    "WithoutWaterBottle['704 COMMONWEALTH AVENUE'] = int(grouped_df)"
   ]
  },
  {
   "cell_type": "code",
   "execution_count": 122,
   "id": "6f6c69a7",
   "metadata": {},
   "outputs": [
    {
     "name": "stdout",
     "output_type": "stream",
     "text": [
      "On an average day, 134 people will benefit from a water bottle station at 141 CARLTON STREET\n"
     ]
    }
   ],
   "source": [
    "grouped_df = dfWifi[dfWifi['building_desc'] == '141 CARLTON STREET']\n",
    "grouped_df = grouped_df.groupby(['building_desc', 'hour'])[['capacity']].mean().sum()\n",
    "print(f\"On an average day, {int(grouped_df)} people will benefit from a water bottle station at 141 CARLTON STREET\")\n",
    "WithoutWaterBottle['141 CARLTON STREET'] = int(grouped_df)"
   ]
  },
  {
   "cell_type": "code",
   "execution_count": 123,
   "id": "fb8d3862",
   "metadata": {},
   "outputs": [
    {
     "name": "stdout",
     "output_type": "stream",
     "text": [
      "On an average day, 211 people will benefit from a water bottle station at 37-39 CARLTON STREET\n"
     ]
    }
   ],
   "source": [
    "grouped_df = dfWifi[dfWifi['building_desc'] == '37-39 CARLTON STREET']\n",
    "grouped_df = grouped_df.groupby(['building_desc', 'hour'])[['capacity']].mean().sum()\n",
    "print(f\"On an average day, {int(grouped_df)} people will benefit from a water bottle station at 37-39 CARLTON STREET\")\n",
    "WithoutWaterBottle['37-39 CARLTON STREET'] = int(grouped_df)"
   ]
  },
  {
   "cell_type": "code",
   "execution_count": 124,
   "id": "066e18db",
   "metadata": {},
   "outputs": [
    {
     "name": "stdout",
     "output_type": "stream",
     "text": [
      "On an average day, 75 people will benefit from a water bottle station at 1 BUSWELL STREET\n"
     ]
    }
   ],
   "source": [
    "grouped_df = dfWifi[dfWifi['building_desc'] == '1 BUSWELL STREET']\n",
    "grouped_df = grouped_df.groupby(['building_desc', 'hour'])[['capacity']].mean().sum()\n",
    "print(f\"On an average day, {int(grouped_df)} people will benefit from a water bottle station at 1 BUSWELL STREET\")\n",
    "WithoutWaterBottle['1 BUSWELL STREET'] = int(grouped_df)"
   ]
  },
  {
   "cell_type": "code",
   "execution_count": 125,
   "id": "38864f69",
   "metadata": {},
   "outputs": [
    {
     "name": "stdout",
     "output_type": "stream",
     "text": [
      "On an average day, 71 people will benefit from a water bottle station at 5 BUSWELL STREET\n"
     ]
    }
   ],
   "source": [
    "grouped_df = dfWifi[dfWifi['building_desc'] == '5 BUSWELL STREET']\n",
    "grouped_df = grouped_df.groupby(['building_desc', 'hour'])[['capacity']].mean().sum()\n",
    "print(f\"On an average day, {int(grouped_df)} people will benefit from a water bottle station at 5 BUSWELL STREET\")\n",
    "WithoutWaterBottle['5 BUSWELL STREET'] = int(grouped_df)"
   ]
  },
  {
   "cell_type": "code",
   "execution_count": 126,
   "id": "25c6f5b0",
   "metadata": {},
   "outputs": [
    {
     "name": "stdout",
     "output_type": "stream",
     "text": [
      "On an average day, 79 people will benefit from a water bottle station at 37 BUSWELL STREET\n"
     ]
    }
   ],
   "source": [
    "grouped_df = dfWifi[dfWifi['building_desc'] == '37 BUSWELL STREET']\n",
    "grouped_df = grouped_df.groupby(['building_desc', 'hour'])[['capacity']].mean().sum()\n",
    "print(f\"On an average day, {int(grouped_df)} people will benefit from a water bottle station at 37 BUSWELL STREET\")\n",
    "WithoutWaterBottle['37 BUSWELL STREET'] = int(grouped_df)"
   ]
  },
  {
   "cell_type": "code",
   "execution_count": 127,
   "id": "dc45c884",
   "metadata": {},
   "outputs": [
    {
     "name": "stdout",
     "output_type": "stream",
     "text": [
      "On an average day, 40 people will benefit from a water bottle station at 39 BUSWELL STREET\n"
     ]
    }
   ],
   "source": [
    "grouped_df = dfWifi[dfWifi['building_desc'] == '39 BUSWELL STREET']\n",
    "grouped_df = grouped_df.groupby(['building_desc', 'hour'])[['capacity']].mean().sum()\n",
    "print(f\"On an average day, {int(grouped_df)} people will benefit from a water bottle station at 39 BUSWELL STREET\")\n",
    "WithoutWaterBottle['39 BUSWELL STREET'] = int(grouped_df)"
   ]
  },
  {
   "cell_type": "code",
   "execution_count": 128,
   "id": "d78e0624",
   "metadata": {},
   "outputs": [
    {
     "name": "stdout",
     "output_type": "stream",
     "text": [
      "On an average day, 110 people will benefit from a water bottle station at 45 BUSWELL STREET\n"
     ]
    }
   ],
   "source": [
    "grouped_df = dfWifi[dfWifi['building_desc'] == '45 BUSWELL STREET']\n",
    "grouped_df = grouped_df.groupby(['building_desc', 'hour'])[['capacity']].mean().sum()\n",
    "print(f\"On an average day, {int(grouped_df)} people will benefit from a water bottle station at 45 BUSWELL STREET\")\n",
    "WithoutWaterBottle['45 BUSWELL STREET'] = int(grouped_df)"
   ]
  },
  {
   "cell_type": "code",
   "execution_count": 129,
   "id": "24fa7276",
   "metadata": {},
   "outputs": [
    {
     "name": "stdout",
     "output_type": "stream",
     "text": [
      "On an average day, 98 people will benefit from a water bottle station at 47 BUSWELL STREET\n"
     ]
    }
   ],
   "source": [
    "grouped_df = dfWifi[dfWifi['building_desc'] == '47 BUSWELL STREET']\n",
    "grouped_df = grouped_df.groupby(['building_desc', 'hour'])[['capacity']].mean().sum()\n",
    "print(f\"On an average day, {int(grouped_df)} people will benefit from a water bottle station at 47 BUSWELL STREET\")\n",
    "WithoutWaterBottle['47 BUSWELL STREET'] = int(grouped_df)"
   ]
  },
  {
   "cell_type": "code",
   "execution_count": 130,
   "id": "eb8c21a3",
   "metadata": {},
   "outputs": [
    {
     "name": "stdout",
     "output_type": "stream",
     "text": [
      "On an average day, 84 people will benefit from a water bottle station at 7 BUSWELL STREET\n"
     ]
    }
   ],
   "source": [
    "grouped_df = dfWifi[dfWifi['building_desc'] == '7 BUSWELL STREET']\n",
    "grouped_df = grouped_df.groupby(['building_desc', 'hour'])[['capacity']].mean().sum()\n",
    "print(f\"On an average day, {int(grouped_df)} people will benefit from a water bottle station at 7 BUSWELL STREET\")\n",
    "WithoutWaterBottle['7 BUSWELL STREET'] = int(grouped_df)"
   ]
  },
  {
   "cell_type": "code",
   "execution_count": 131,
   "id": "722a16fa",
   "metadata": {},
   "outputs": [
    {
     "name": "stdout",
     "output_type": "stream",
     "text": [
      "On an average day, 70 people will benefit from a water bottle station at 60 BAY STATE ROAD\n"
     ]
    }
   ],
   "source": [
    "grouped_df = dfWifi[dfWifi['building_desc'] == '60 BAY STATE ROAD']\n",
    "grouped_df = grouped_df.groupby(['building_desc', 'hour'])[['capacity']].mean().sum()\n",
    "print(f\"On an average day, {int(grouped_df)} people will benefit from a water bottle station at 60 BAY STATE ROAD\")\n",
    "WithoutWaterBottle['60 BAY STATE ROAD'] = int(grouped_df)"
   ]
  },
  {
   "cell_type": "code",
   "execution_count": 132,
   "id": "4c08dffb",
   "metadata": {},
   "outputs": [
    {
     "name": "stdout",
     "output_type": "stream",
     "text": [
      "On an average day, 68 people will benefit from a water bottle station at 80 BAY STATE ROAD\n"
     ]
    }
   ],
   "source": [
    "grouped_df = dfWifi[dfWifi['building_desc'] == '80 BAY STATE ROAD']\n",
    "grouped_df = grouped_df.groupby(['building_desc', 'hour'])[['capacity']].mean().sum()\n",
    "print(f\"On an average day, {int(grouped_df)} people will benefit from a water bottle station at 80 BAY STATE ROAD\")\n",
    "WithoutWaterBottle['80 BAY STATE ROAD'] = int(grouped_df)"
   ]
  },
  {
   "cell_type": "code",
   "execution_count": 133,
   "id": "9a6d073d",
   "metadata": {},
   "outputs": [
    {
     "name": "stdout",
     "output_type": "stream",
     "text": [
      "On an average day, 145 people will benefit from a water bottle station at 191 BAY STATE ROAD\n"
     ]
    }
   ],
   "source": [
    "grouped_df = dfWifi[dfWifi['building_desc'] == '191 BAY STATE ROAD']\n",
    "grouped_df = grouped_df.groupby(['building_desc', 'hour'])[['capacity']].mean().sum()\n",
    "print(f\"On an average day, {int(grouped_df)} people will benefit from a water bottle station at 191 BAY STATE ROAD\")\n",
    "WithoutWaterBottle['191 BAY STATE ROAD'] = int(grouped_df)"
   ]
  },
  {
   "cell_type": "code",
   "execution_count": 134,
   "id": "b84f342d",
   "metadata": {},
   "outputs": [
    {
     "name": "stdout",
     "output_type": "stream",
     "text": [
      "On an average day, 128 people will benefit from a water bottle station at 199 BAY STATE ROAD\n"
     ]
    }
   ],
   "source": [
    "grouped_df = dfWifi[dfWifi['building_desc'] == '199 BAY STATE ROAD']\n",
    "grouped_df = grouped_df.groupby(['building_desc', 'hour'])[['capacity']].mean().sum()\n",
    "print(f\"On an average day, {int(grouped_df)} people will benefit from a water bottle station at 199 BAY STATE ROAD\")\n",
    "WithoutWaterBottle['199 BAY STATE ROAD'] = int(grouped_df)"
   ]
  },
  {
   "cell_type": "code",
   "execution_count": 135,
   "id": "d7fa6582",
   "metadata": {},
   "outputs": [
    {
     "name": "stdout",
     "output_type": "stream",
     "text": [
      "On an average day, 720 people will benefit from a water bottle station at 232 BAY STATE ROAD\n"
     ]
    }
   ],
   "source": [
    "grouped_df = dfWifi[dfWifi['building_desc'] == '232 BAY STATE ROAD']\n",
    "grouped_df = grouped_df.groupby(['building_desc', 'hour'])[['capacity']].mean().sum()\n",
    "print(f\"On an average day, {int(grouped_df)} people will benefit from a water bottle station at 232 BAY STATE ROAD\")\n",
    "WithoutWaterBottle['232 BAY STATE ROAD'] = int(grouped_df)"
   ]
  },
  {
   "cell_type": "code",
   "execution_count": 136,
   "id": "f7c84075",
   "metadata": {},
   "outputs": [
    {
     "name": "stdout",
     "output_type": "stream",
     "text": [
      "On an average day, 126 people will benefit from a water bottle station at 201 BAY STATE ROAD\n"
     ]
    }
   ],
   "source": [
    "grouped_df = dfWifi[dfWifi['building_desc'] == '201 BAY STATE ROAD']\n",
    "grouped_df = grouped_df.groupby(['building_desc', 'hour'])[['capacity']].mean().sum()\n",
    "print(f\"On an average day, {int(grouped_df)} people will benefit from a water bottle station at 201 BAY STATE ROAD\")\n",
    "WithoutWaterBottle['201 BAY STATE ROAD'] = int(grouped_df)"
   ]
  },
  {
   "cell_type": "code",
   "execution_count": 137,
   "id": "436f6aa9",
   "metadata": {},
   "outputs": [
    {
     "name": "stdout",
     "output_type": "stream",
     "text": [
      "On an average day, 44 people will benefit from a water bottle station at 214 BAY STATE ROAD\n"
     ]
    }
   ],
   "source": [
    "grouped_df = dfWifi[dfWifi['building_desc'] == '214 BAY STATE ROAD']\n",
    "grouped_df = grouped_df.groupby(['building_desc', 'hour'])[['capacity']].mean().sum()\n",
    "print(f\"On an average day, {int(grouped_df)} people will benefit from a water bottle station at 214 BAY STATE ROAD\")\n",
    "WithoutWaterBottle['214 BAY STATE ROAD'] = int(grouped_df)"
   ]
  },
  {
   "cell_type": "code",
   "execution_count": 138,
   "id": "84f2f85a",
   "metadata": {},
   "outputs": [
    {
     "name": "stdout",
     "output_type": "stream",
     "text": [
      "On an average day, 83 people will benefit from a water bottle station at 207 BAY STATE ROAD\n"
     ]
    }
   ],
   "source": [
    "grouped_df = dfWifi[dfWifi['building_desc'] == '207 BAY STATE ROAD']\n",
    "grouped_df = grouped_df.groupby(['building_desc', 'hour'])[['capacity']].mean().sum()\n",
    "print(f\"On an average day, {int(grouped_df)} people will benefit from a water bottle station at 207 BAY STATE ROAD\")\n",
    "WithoutWaterBottle['207 BAY STATE ROAD'] = int(grouped_df)"
   ]
  },
  {
   "cell_type": "code",
   "execution_count": 139,
   "id": "5fa25b20",
   "metadata": {},
   "outputs": [
    {
     "name": "stdout",
     "output_type": "stream",
     "text": [
      "On an average day, 169 people will benefit from a water bottle station at 188 BAY STATE ROAD\n"
     ]
    }
   ],
   "source": [
    "grouped_df = dfWifi[dfWifi['building_desc'] == '188 BAY STATE ROAD']\n",
    "grouped_df = grouped_df.groupby(['building_desc', 'hour'])[['capacity']].mean().sum()\n",
    "print(f\"On an average day, {int(grouped_df)} people will benefit from a water bottle station at 188 BAY STATE ROAD\")\n",
    "WithoutWaterBottle['188 BAY STATE ROAD'] = int(grouped_df)"
   ]
  },
  {
   "cell_type": "code",
   "execution_count": 140,
   "id": "2a8684c7",
   "metadata": {},
   "outputs": [
    {
     "name": "stdout",
     "output_type": "stream",
     "text": [
      "On an average day, 121 people will benefit from a water bottle station at 204 BAY STATE ROAD\n"
     ]
    }
   ],
   "source": [
    "grouped_df = dfWifi[dfWifi['building_desc'] == '204 BAY STATE ROAD']\n",
    "grouped_df = grouped_df.groupby(['building_desc', 'hour'])[['capacity']].mean().sum()\n",
    "print(f\"On an average day, {int(grouped_df)} people will benefit from a water bottle station at 204 BAY STATE ROAD\")\n",
    "WithoutWaterBottle['204 BAY STATE ROAD'] = int(grouped_df)"
   ]
  },
  {
   "cell_type": "code",
   "execution_count": 141,
   "id": "bf8ceb56",
   "metadata": {},
   "outputs": [
    {
     "name": "stdout",
     "output_type": "stream",
     "text": [
      "On an average day, 1067 people will benefit from a water bottle station at 619 MEMORIAL DRIVE\n"
     ]
    }
   ],
   "source": [
    "grouped_df = dfWifi[dfWifi['building_desc'] == '619 MEMORIAL DRIVE']\n",
    "grouped_df = grouped_df.groupby(['building_desc', 'hour'])[['capacity']].mean().sum()\n",
    "print(f\"On an average day, {int(grouped_df)} people will benefit from a water bottle station at 619 MEMORIAL DRIVE\")\n",
    "WithoutWaterBottle['619 MEMORIAL DRIVE'] = int(grouped_df)"
   ]
  },
  {
   "cell_type": "code",
   "execution_count": 142,
   "id": "22f46b5b",
   "metadata": {},
   "outputs": [
    {
     "name": "stdout",
     "output_type": "stream",
     "text": [
      "On an average day, 79 people will benefit from a water bottle station at 100 MOUNTFORT STREET\n"
     ]
    }
   ],
   "source": [
    "grouped_df = dfWifi[dfWifi['building_desc'] == '100 MOUNTFORT STREET']\n",
    "grouped_df = grouped_df.groupby(['building_desc', 'hour'])[['capacity']].mean().sum()\n",
    "print(f\"On an average day, {int(grouped_df)} people will benefit from a water bottle station at 100 MOUNTFORT STREET\")\n",
    "WithoutWaterBottle['100 MOUNTFORT STREET'] = int(grouped_df)"
   ]
  },
  {
   "cell_type": "code",
   "execution_count": 143,
   "id": "b0003093",
   "metadata": {},
   "outputs": [
    {
     "name": "stdout",
     "output_type": "stream",
     "text": [
      "On an average day, 667 people will benefit from a water bottle station at 677 BEACON STREET\n"
     ]
    }
   ],
   "source": [
    "grouped_df = dfWifi[dfWifi['building_desc'] == '677 BEACON STREET']\n",
    "grouped_df = grouped_df.groupby(['building_desc', 'hour'])[['capacity']].mean().sum()\n",
    "print(f\"On an average day, {int(grouped_df)} people will benefit from a water bottle station at 677 BEACON STREET\")\n",
    "WithoutWaterBottle['677 BEACON STREET'] = int(grouped_df)"
   ]
  },
  {
   "cell_type": "markdown",
   "id": "a863ce7c",
   "metadata": {},
   "source": [
    "## Wifi Stations With Water Bottle Filling Stations"
   ]
  },
  {
   "cell_type": "code",
   "execution_count": 144,
   "id": "022a2391",
   "metadata": {},
   "outputs": [
    {
     "name": "stdout",
     "output_type": "stream",
     "text": [
      "On an average day, 262 people benefitted from the existing water bottle station at 195-197 BAY STATE ROAD\n"
     ]
    }
   ],
   "source": [
    "grouped_df = dfWifi[dfWifi['building_desc'] == '195-197 BAY STATE ROAD']\n",
    "grouped_df = grouped_df.groupby(['building_desc', 'hour'])[['capacity']].mean().sum()\n",
    "print(f\"On an average day, {int(grouped_df)} people benefitted from the existing water bottle station at 195-197 BAY STATE ROAD\")"
   ]
  },
  {
   "cell_type": "code",
   "execution_count": 145,
   "id": "f6986533",
   "metadata": {},
   "outputs": [
    {
     "name": "stdout",
     "output_type": "stream",
     "text": [
      "On an average day, 183 people benefitted from the existing water bottle station at 627-629 COMMONWEALTH AVENUE\n"
     ]
    }
   ],
   "source": [
    "grouped_df = dfWifi[dfWifi['building_desc'] == '627-629 COMMONWEALTH AVENUE']\n",
    "grouped_df = grouped_df.groupby(['building_desc', 'hour'])[['capacity']].mean().sum()\n",
    "print(f\"On an average day, {int(grouped_df)} people benefitted from the existing water bottle station at 627-629 COMMONWEALTH AVENUE\")"
   ]
  },
  {
   "cell_type": "code",
   "execution_count": 146,
   "id": "612c1d51",
   "metadata": {},
   "outputs": [
    {
     "name": "stdout",
     "output_type": "stream",
     "text": [
      "On an average day, 916 people benefitted from the existing water bottle station at 96-100 CUMMINGTON MALL\n"
     ]
    }
   ],
   "source": [
    "grouped_df = dfWifi[dfWifi['building_desc'] == '96-100 CUMMINGTON MALL']\n",
    "grouped_df = grouped_df.groupby(['building_desc', 'hour'])[['capacity']].mean().sum()\n",
    "print(f\"On an average day, {int(grouped_df)} people benefitted from the existing water bottle station at 96-100 CUMMINGTON MALL\")"
   ]
  },
  {
   "cell_type": "code",
   "execution_count": 147,
   "id": "8942eb18",
   "metadata": {},
   "outputs": [
    {
     "name": "stdout",
     "output_type": "stream",
     "text": [
      "On an average day, 1620 people benefitted from the existing water bottle station at 881 COMMONWEALTH AVENUE\n"
     ]
    }
   ],
   "source": [
    "grouped_df = dfWifi[dfWifi['building_desc'] == '881 COMMONWEALTH AVENUE']\n",
    "grouped_df = grouped_df.groupby(['building_desc', 'hour'])[['capacity']].mean().sum()\n",
    "print(f\"On an average day, {int(grouped_df)} people benefitted from the existing water bottle station at 881 COMMONWEALTH AVENUE\")"
   ]
  },
  {
   "cell_type": "code",
   "execution_count": 148,
   "id": "dce5b4dc",
   "metadata": {},
   "outputs": [
    {
     "name": "stdout",
     "output_type": "stream",
     "text": [
      "On an average day, 1957 people benefitted from the existing water bottle station at 100 BAY STATE ROAD\n"
     ]
    }
   ],
   "source": [
    "grouped_df = dfWifi[dfWifi['building_desc'] == '100 BAY STATE ROAD']\n",
    "grouped_df = grouped_df.groupby(['building_desc', 'hour'])[['capacity']].mean().sum()\n",
    "print(f\"On an average day, {int(grouped_df)} people benefitted from the existing water bottle station at 100 BAY STATE ROAD\")"
   ]
  },
  {
   "cell_type": "code",
   "execution_count": 149,
   "id": "417b7394",
   "metadata": {},
   "outputs": [
    {
     "name": "stdout",
     "output_type": "stream",
     "text": [
      "On an average day, 1533 people benefitted from the existing water bottle station at 928 COMMONWEALTH AVENUE\n"
     ]
    }
   ],
   "source": [
    "grouped_df = dfWifi[dfWifi['building_desc'] == '928 COMMONWEALTH AVENUE']\n",
    "grouped_df = grouped_df.groupby(['building_desc', 'hour'])[['capacity']].mean().sum()\n",
    "print(f\"On an average day, {int(grouped_df)} people benefitted from the existing water bottle station at 928 COMMONWEALTH AVENUE\")"
   ]
  },
  {
   "cell_type": "code",
   "execution_count": 150,
   "id": "f66b1089",
   "metadata": {},
   "outputs": [
    {
     "name": "stdout",
     "output_type": "stream",
     "text": [
      "On an average day, 2074 people benefitted from the existing water bottle station at 985 COMMONWEALTH AVENUE\n"
     ]
    }
   ],
   "source": [
    "grouped_df = dfWifi[dfWifi['building_desc'] == '985 COMMONWEALTH AVENUE']\n",
    "grouped_df = grouped_df.groupby(['building_desc', 'hour'])[['capacity']].mean().sum()\n",
    "print(f\"On an average day, {int(grouped_df)} people benefitted from the existing water bottle station at 985 COMMONWEALTH AVENUE\")"
   ]
  },
  {
   "cell_type": "code",
   "execution_count": 151,
   "id": "eec135be",
   "metadata": {},
   "outputs": [
    {
     "name": "stdout",
     "output_type": "stream",
     "text": [
      "On an average day, 2396 people benefitted from the existing water bottle station at 888 COMMONWEALTH AVENUE\n"
     ]
    }
   ],
   "source": [
    "grouped_df = dfWifi[dfWifi['building_desc'] == '888 COMMONWEALTH AVENUE']\n",
    "grouped_df = grouped_df.groupby(['building_desc', 'hour'])[['capacity']].mean().sum()\n",
    "print(f\"On an average day, {int(grouped_df)} people benefitted from the existing water bottle station at 888 COMMONWEALTH AVENUE\")"
   ]
  },
  {
   "cell_type": "code",
   "execution_count": 152,
   "id": "305bbed1",
   "metadata": {},
   "outputs": [
    {
     "name": "stdout",
     "output_type": "stream",
     "text": [
      "On an average day, 1619 people benefitted from the existing water bottle station at 820 COMMONWEALTH AVENUE\n"
     ]
    }
   ],
   "source": [
    "grouped_df = dfWifi[dfWifi['building_desc'] == '820 COMMONWEALTH AVENUE']\n",
    "grouped_df = grouped_df.groupby(['building_desc', 'hour'])[['capacity']].mean().sum()\n",
    "print(f\"On an average day, {int(grouped_df)} people benefitted from the existing water bottle station at 820 COMMONWEALTH AVENUE\")"
   ]
  },
  {
   "cell_type": "code",
   "execution_count": 153,
   "id": "831cfe8e",
   "metadata": {},
   "outputs": [
    {
     "name": "stdout",
     "output_type": "stream",
     "text": [
      "On an average day, 143 people benefitted from the existing water bottle station at 196 BAY STATE ROAD\n"
     ]
    }
   ],
   "source": [
    "grouped_df = dfWifi[dfWifi['building_desc'] == '196 BAY STATE ROAD']\n",
    "grouped_df = grouped_df.groupby(['building_desc', 'hour'])[['capacity']].mean().sum()\n",
    "print(f\"On an average day, {int(grouped_df)} people benefitted from the existing water bottle station at 196 BAY STATE ROAD\")"
   ]
  },
  {
   "cell_type": "code",
   "execution_count": 154,
   "id": "f76478c3",
   "metadata": {},
   "outputs": [
    {
     "name": "stdout",
     "output_type": "stream",
     "text": [
      "On an average day, 4138 people benefitted from the existing water bottle station at 300 BABCOCK STREET\n"
     ]
    }
   ],
   "source": [
    "grouped_df = dfWifi[dfWifi['building_desc'] == '300 BABCOCK STREET']\n",
    "grouped_df = grouped_df.groupby(['building_desc', 'hour'])[['capacity']].mean().sum()\n",
    "print(f\"On an average day, {int(grouped_df)} people benefitted from the existing water bottle station at 300 BABCOCK STREET\")"
   ]
  },
  {
   "cell_type": "code",
   "execution_count": 155,
   "id": "a8476e6f",
   "metadata": {},
   "outputs": [
    {
     "name": "stdout",
     "output_type": "stream",
     "text": [
      "On an average day, 1032 people benefitted from the existing water bottle station at 2 CUMMINGTON MALL\n"
     ]
    }
   ],
   "source": [
    "grouped_df = dfWifi[dfWifi['building_desc'] == '2 CUMMINGTON MALL']\n",
    "grouped_df = grouped_df.groupby(['building_desc', 'hour'])[['capacity']].mean().sum()\n",
    "print(f\"On an average day, {int(grouped_df)} people benefitted from the existing water bottle station at 2 CUMMINGTON MALL\")"
   ]
  },
  {
   "cell_type": "code",
   "execution_count": 156,
   "id": "9eb6be77",
   "metadata": {},
   "outputs": [
    {
     "name": "stdout",
     "output_type": "stream",
     "text": [
      "On an average day, 1053 people benefitted from the existing water bottle station at 30-38 CUMMINGTON MALL\n"
     ]
    }
   ],
   "source": [
    "grouped_df = dfWifi[dfWifi['building_desc'] == '30-38 CUMMINGTON MALL']\n",
    "grouped_df = grouped_df.groupby(['building_desc', 'hour'])[['capacity']].mean().sum()\n",
    "print(f\"On an average day, {int(grouped_df)} people benefitted from the existing water bottle station at 30-38 CUMMINGTON MALL\")"
   ]
  },
  {
   "cell_type": "code",
   "execution_count": 157,
   "id": "9e168c7a",
   "metadata": {},
   "outputs": [
    {
     "name": "stdout",
     "output_type": "stream",
     "text": [
      "On an average day, 2435 people benefitted from the existing water bottle station at 3 - 5 CUMMINGTON MALL\n"
     ]
    }
   ],
   "source": [
    "grouped_df = dfWifi[dfWifi['building_desc'] == '3 - 5 CUMMINGTON MALL']\n",
    "grouped_df = grouped_df.groupby(['building_desc', 'hour'])[['capacity']].mean().sum()\n",
    "print(f\"On an average day, {int(grouped_df)} people benefitted from the existing water bottle station at 3 - 5 CUMMINGTON MALL\")"
   ]
  },
  {
   "cell_type": "code",
   "execution_count": 158,
   "id": "6a4f7529",
   "metadata": {},
   "outputs": [
    {
     "name": "stdout",
     "output_type": "stream",
     "text": [
      "On an average day, 1915 people benefitted from the existing water bottle station at 24 CUMMINGTON MALL\n"
     ]
    }
   ],
   "source": [
    "grouped_df = dfWifi[dfWifi['building_desc'] == '24 CUMMINGTON MALL']\n",
    "grouped_df = grouped_df.groupby(['building_desc', 'hour'])[['capacity']].mean().sum()\n",
    "print(f\"On an average day, {int(grouped_df)} people benefitted from the existing water bottle station at 24 CUMMINGTON MALL\")"
   ]
  },
  {
   "cell_type": "markdown",
   "id": "92394e09",
   "metadata": {},
   "source": [
    "## Users Per Water Bottle Station (If there are multiple water bottle stations in one building, divide it by the total number of water bottle stations to check how many people benefit per water bottle station)"
   ]
  },
  {
   "cell_type": "code",
   "execution_count": 159,
   "id": "8b5598fc",
   "metadata": {},
   "outputs": [],
   "source": [
    "WithWaterBottle = {}"
   ]
  },
  {
   "cell_type": "code",
   "execution_count": 160,
   "id": "5b067156",
   "metadata": {},
   "outputs": [
    {
     "name": "stdout",
     "output_type": "stream",
     "text": [
      "On an average day, 262 people benefitted from the existing water bottle station at 195-197 BAY STATE ROAD\n"
     ]
    }
   ],
   "source": [
    "grouped_df = dfWifi[dfWifi['building_desc'] == '195-197 BAY STATE ROAD']\n",
    "grouped_df = grouped_df.groupby(['building_desc', 'hour'])[['capacity']].mean().sum()\n",
    "print(f\"On an average day, {int(grouped_df)} people benefitted from the existing water bottle station at 195-197 BAY STATE ROAD\")\n",
    "WithWaterBottle[\"195-197 BAY STATE ROAD\"] = int(grouped_df)"
   ]
  },
  {
   "cell_type": "code",
   "execution_count": 161,
   "id": "a07a800b",
   "metadata": {},
   "outputs": [
    {
     "name": "stdout",
     "output_type": "stream",
     "text": [
      "On an average day, 183 people benefitted per existing water bottle station at 627-629 COMMONWEALTH AVENUE\n"
     ]
    }
   ],
   "source": [
    "grouped_df = dfWifi[dfWifi['building_desc'] == '627-629 COMMONWEALTH AVENUE']\n",
    "grouped_df = grouped_df.groupby(['building_desc', 'hour'])[['capacity']].mean().sum()\n",
    "print(f\"On an average day, {int(grouped_df)} people benefitted per existing water bottle station at 627-629 COMMONWEALTH AVENUE\")\n",
    "WithWaterBottle[\"627-629 COMMONWEALTH AVENUE\"] = int(grouped_df)"
   ]
  },
  {
   "cell_type": "code",
   "execution_count": 162,
   "id": "87aaaea5",
   "metadata": {},
   "outputs": [
    {
     "name": "stdout",
     "output_type": "stream",
     "text": [
      "On an average day, 916 people benefitted per existing water bottle station at 96-100 CUMMINGTON MALL\n"
     ]
    }
   ],
   "source": [
    "grouped_df = dfWifi[dfWifi['building_desc'] == '96-100 CUMMINGTON MALL']\n",
    "grouped_df = grouped_df.groupby(['building_desc', 'hour'])[['capacity']].mean().sum()\n",
    "print(f\"On an average day, {int(grouped_df)} people benefitted per existing water bottle station at 96-100 CUMMINGTON MALL\")\n",
    "WithWaterBottle[\"96-100 CUMMINGTON MALL\"] = int(grouped_df)"
   ]
  },
  {
   "cell_type": "code",
   "execution_count": 163,
   "id": "8af820f6",
   "metadata": {},
   "outputs": [
    {
     "name": "stdout",
     "output_type": "stream",
     "text": [
      "On an average day, 540 people benefitted from the existing water bottle station at 881 COMMONWEALTH AVENUE\n"
     ]
    }
   ],
   "source": [
    "grouped_df = dfWifi[dfWifi['building_desc'] == '881 COMMONWEALTH AVENUE']\n",
    "grouped_df = grouped_df.groupby(['building_desc', 'hour'])[['capacity']].mean().sum() / 3\n",
    "print(f\"On an average day, {int(grouped_df)} people benefitted from the existing water bottle station at 881 COMMONWEALTH AVENUE\")\n",
    "WithWaterBottle[\"881 COMMONWEALTH AVENUE\"] = int(grouped_df)"
   ]
  },
  {
   "cell_type": "code",
   "execution_count": 164,
   "id": "f856f824",
   "metadata": {},
   "outputs": [
    {
     "name": "stdout",
     "output_type": "stream",
     "text": [
      "On an average day, 326 people benefitted per existing water bottle station at 100 BAY STATE ROAD\n"
     ]
    }
   ],
   "source": [
    "grouped_df = dfWifi[dfWifi['building_desc'] == '100 BAY STATE ROAD']\n",
    "grouped_df = grouped_df.groupby(['building_desc', 'hour'])[['capacity']].mean().sum() / 6\n",
    "print(f\"On an average day, {int(grouped_df)} people benefitted per existing water bottle station at 100 BAY STATE ROAD\")\n",
    "WithWaterBottle[\"100 BAY STATE ROAD\"] = int(grouped_df)"
   ]
  },
  {
   "cell_type": "code",
   "execution_count": 165,
   "id": "9979e229",
   "metadata": {},
   "outputs": [
    {
     "name": "stdout",
     "output_type": "stream",
     "text": [
      "On an average day, 511 people benefitted per existing water bottle station at 928 COMMONWEALTH AVENUE\n"
     ]
    }
   ],
   "source": [
    "grouped_df = dfWifi[dfWifi['building_desc'] == '928 COMMONWEALTH AVENUE']\n",
    "grouped_df = grouped_df.groupby(['building_desc', 'hour'])[['capacity']].mean().sum() / 3\n",
    "print(f\"On an average day, {int(grouped_df)} people benefitted per existing water bottle station at 928 COMMONWEALTH AVENUE\")\n",
    "WithWaterBottle[\"928 COMMONWEALTH AVENUE\"] = int(grouped_df)"
   ]
  },
  {
   "cell_type": "code",
   "execution_count": 166,
   "id": "74749fac",
   "metadata": {},
   "outputs": [
    {
     "name": "stdout",
     "output_type": "stream",
     "text": [
      "On an average day, 2074 people benefitted per existing water bottle station at 985 COMMONWEALTH AVENUE\n"
     ]
    }
   ],
   "source": [
    "grouped_df = dfWifi[dfWifi['building_desc'] == '985 COMMONWEALTH AVENUE']\n",
    "grouped_df = grouped_df.groupby(['building_desc', 'hour'])[['capacity']].mean().sum()\n",
    "print(f\"On an average day, {int(grouped_df)} people benefitted per existing water bottle station at 985 COMMONWEALTH AVENUE\")\n",
    "WithWaterBottle[\"985 COMMONWEALTH AVENUE\"] = int(grouped_df)"
   ]
  },
  {
   "cell_type": "code",
   "execution_count": 167,
   "id": "ffe48cc3",
   "metadata": {},
   "outputs": [
    {
     "name": "stdout",
     "output_type": "stream",
     "text": [
      "On an average day, 2396 people benefitted per existing water bottle station at 888 COMMONWEALTH AVENUE\n"
     ]
    }
   ],
   "source": [
    "grouped_df = dfWifi[dfWifi['building_desc'] == '888 COMMONWEALTH AVENUE']\n",
    "grouped_df = grouped_df.groupby(['building_desc', 'hour'])[['capacity']].mean().sum()\n",
    "print(f\"On an average day, {int(grouped_df)} people benefitted per existing water bottle station at 888 COMMONWEALTH AVENUE\")\n",
    "WithWaterBottle[\"888 COMMONWEALTH AVENUE\"] = int(grouped_df)"
   ]
  },
  {
   "cell_type": "code",
   "execution_count": 168,
   "id": "800e4070",
   "metadata": {},
   "outputs": [
    {
     "name": "stdout",
     "output_type": "stream",
     "text": [
      "On an average day, 323 people benefitted per existing water bottle station at 820 COMMONWEALTH AVENUE\n"
     ]
    }
   ],
   "source": [
    "grouped_df = dfWifi[dfWifi['building_desc'] == '820 COMMONWEALTH AVENUE']\n",
    "grouped_df = grouped_df.groupby(['building_desc', 'hour'])[['capacity']].mean().sum() / 5\n",
    "print(f\"On an average day, {int(grouped_df)} people benefitted per existing water bottle station at 820 COMMONWEALTH AVENUE\")\n",
    "WithWaterBottle[\"820 COMMONWEALTH AVENUE\"] = int(grouped_df)"
   ]
  },
  {
   "cell_type": "code",
   "execution_count": 169,
   "id": "56f51c4c",
   "metadata": {},
   "outputs": [
    {
     "name": "stdout",
     "output_type": "stream",
     "text": [
      "On an average day, 143 people benefitted per existing water bottle station at 196 BAY STATE ROAD\n"
     ]
    }
   ],
   "source": [
    "grouped_df = dfWifi[dfWifi['building_desc'] == '196 BAY STATE ROAD']\n",
    "grouped_df = grouped_df.groupby(['building_desc', 'hour'])[['capacity']].mean().sum()\n",
    "print(f\"On an average day, {int(grouped_df)} people benefitted per existing water bottle station at 196 BAY STATE ROAD\")\n",
    "WithWaterBottle[\"196 BAY STATE ROAD\"] = int(grouped_df)"
   ]
  },
  {
   "cell_type": "code",
   "execution_count": 170,
   "id": "1c375b98",
   "metadata": {},
   "outputs": [
    {
     "name": "stdout",
     "output_type": "stream",
     "text": [
      "On an average day, 2069 people benefitted per existing water bottle station at 300 BABCOCK STREET\n"
     ]
    }
   ],
   "source": [
    "grouped_df = dfWifi[dfWifi['building_desc'] == '300 BABCOCK STREET']\n",
    "grouped_df = grouped_df.groupby(['building_desc', 'hour'])[['capacity']].mean().sum() / 2\n",
    "print(f\"On an average day, {int(grouped_df)} people benefitted per existing water bottle station at 300 BABCOCK STREET\")\n",
    "WithWaterBottle[\"196 BAY STATE ROAD\"] = int(grouped_df)"
   ]
  },
  {
   "cell_type": "code",
   "execution_count": 171,
   "id": "fe7fd9d0",
   "metadata": {},
   "outputs": [
    {
     "name": "stdout",
     "output_type": "stream",
     "text": [
      "On an average day, 516 people benefitted per existing water bottle station at 2 CUMMINGTON MALL\n"
     ]
    }
   ],
   "source": [
    "grouped_df = dfWifi[dfWifi['building_desc'] == '2 CUMMINGTON MALL']\n",
    "grouped_df = grouped_df.groupby(['building_desc', 'hour'])[['capacity']].mean().sum() / 2\n",
    "print(f\"On an average day, {int(grouped_df)} people benefitted per existing water bottle station at 2 CUMMINGTON MALL\")\n",
    "WithWaterBottle[\"2 CUMMINGTON MALL\"] = int(grouped_df)"
   ]
  },
  {
   "cell_type": "code",
   "execution_count": 172,
   "id": "58b42c04",
   "metadata": {},
   "outputs": [
    {
     "name": "stdout",
     "output_type": "stream",
     "text": [
      "On an average day, 526 people benefitted per existing water bottle station at 30-38 CUMMINGTON MALL\n"
     ]
    }
   ],
   "source": [
    "grouped_df = dfWifi[dfWifi['building_desc'] == '30-38 CUMMINGTON MALL']\n",
    "grouped_df = grouped_df.groupby(['building_desc', 'hour'])[['capacity']].mean().sum() / 2 \n",
    "print(f\"On an average day, {int(grouped_df)} people benefitted per existing water bottle station at 30-38 CUMMINGTON MALL\")\n",
    "WithWaterBottle[\"30-38 CUMMINGTON MALL\"] = int(grouped_df)"
   ]
  },
  {
   "cell_type": "code",
   "execution_count": 173,
   "id": "0815bc9b",
   "metadata": {},
   "outputs": [
    {
     "name": "stdout",
     "output_type": "stream",
     "text": [
      "On an average day, 2435 people benefitted from the existing water bottle station at 3 - 5 CUMMINGTON MALL\n"
     ]
    }
   ],
   "source": [
    "grouped_df = dfWifi[dfWifi['building_desc'] == '3 - 5 CUMMINGTON MALL']\n",
    "grouped_df = grouped_df.groupby(['building_desc', 'hour'])[['capacity']].mean().sum()\n",
    "print(f\"On an average day, {int(grouped_df)} people benefitted from the existing water bottle station at 3 - 5 CUMMINGTON MALL\")\n",
    "WithWaterBottle[\"3 - 5 CUMMINGTON MALL\"] = int(grouped_df)"
   ]
  },
  {
   "cell_type": "code",
   "execution_count": 174,
   "id": "3d49b009",
   "metadata": {},
   "outputs": [
    {
     "name": "stdout",
     "output_type": "stream",
     "text": [
      "On an average day, 957 people benefitted from the existing water bottle station at 24 CUMMINGTON MALL\n"
     ]
    }
   ],
   "source": [
    "grouped_df = dfWifi[dfWifi['building_desc'] == '24 CUMMINGTON MALL']\n",
    "grouped_df = grouped_df.groupby(['building_desc', 'hour'])[['capacity']].mean().sum() / 2\n",
    "print(f\"On an average day, {int(grouped_df)} people benefitted from the existing water bottle station at 24 CUMMINGTON MALL\")\n",
    "WithWaterBottle[\"24 CUMMINGTON MALL\"] = int(grouped_df)"
   ]
  },
  {
   "cell_type": "code",
   "execution_count": 175,
   "id": "e4b32049",
   "metadata": {},
   "outputs": [],
   "source": [
    "exsisting = {\n",
    "    '195-197 BAY STATE ROAD' : 262, \n",
    "    '627-629 COMMONWEALTH AVENUE' : 183, \n",
    "    '96-100 CUMMINGTON MALL' : 916, \n",
    "    '881 COMMONWEALTH AVENUE' : 540, # 1620/3 \n",
    "    '100 BAY STATE ROAD' : 326, # 1957/6 \n",
    "    '928 COMMONWEALTH AVENUE' : 511, # 1533/3\n",
    "    '985 COMMONWEALTH AVENUE' : 2074, \n",
    "    '888 COMMONWEALTH AVENUE' : 2396,  \n",
    "    '820 COMMONWEALTH AVENUE' : 323, # 1619/5\n",
    "    '196 BAY STATE ROAD' : 143,\n",
    "    '300 BABCOCK STREET' : 2069, # 4138/2 \n",
    "    '2 CUMMINGTON MALL' : 516, # 1032/2\n",
    "    '30-38 CUMMINGTON MALL' : 526, # 1053/2\n",
    "    '3 - 5 CUMMINGTON MALL' : 2435, \n",
    "    '24 CUMMINGTON MALL' : 957 # 1915/2\n",
    "}"
   ]
  },
  {
   "cell_type": "markdown",
   "id": "fd498d31",
   "metadata": {},
   "source": [
    "## Summary"
   ]
  },
  {
   "cell_type": "code",
   "execution_count": 176,
   "id": "baac9973",
   "metadata": {},
   "outputs": [
    {
     "name": "stdout",
     "output_type": "stream",
     "text": [
      "148\n",
      "98\n",
      "151\n",
      "155\n",
      "103\n",
      "46\n",
      "138\n",
      "69\n",
      "1\n",
      "1\n",
      "2\n",
      "1\n",
      "54\n",
      "25\n",
      "61\n",
      "101\n",
      "103\n",
      "349\n",
      "157\n",
      "54\n",
      "59\n",
      "510\n",
      "134\n",
      "211\n",
      "75\n",
      "71\n",
      "79\n",
      "40\n",
      "110\n",
      "98\n",
      "84\n",
      "70\n",
      "68\n",
      "145\n",
      "128\n",
      "720\n",
      "126\n",
      "44\n",
      "83\n",
      "169\n",
      "121\n",
      "1067\n",
      "79\n",
      "667\n"
     ]
    }
   ],
   "source": [
    "for key, value in WithoutWaterBottle.items():\n",
    "    print(f\"{value}\")"
   ]
  },
  {
   "cell_type": "code",
   "execution_count": 177,
   "id": "351fde7c",
   "metadata": {},
   "outputs": [
    {
     "name": "stdout",
     "output_type": "stream",
     "text": [
      "262\n",
      "183\n",
      "916\n",
      "540\n",
      "326\n",
      "511\n",
      "2074\n",
      "2396\n",
      "323\n",
      "2069\n",
      "516\n",
      "526\n",
      "2435\n",
      "957\n"
     ]
    }
   ],
   "source": [
    "for key, value in WithWaterBottle.items():\n",
    "    print(f\"{value}\")"
   ]
  },
  {
   "cell_type": "code",
   "execution_count": 178,
   "id": "3c1f22be",
   "metadata": {},
   "outputs": [],
   "source": [
    "nonexsisting = {\n",
    "    '177 BAY STATE ROAD' :148,\n",
    "    '179 BAY STATE ROAD': 98,\n",
    "    '157 BAY STATE ROAD': 151,\n",
    "    '203 BAY STATE ROAD': 155,\n",
    "    '181 BAY STATE ROAD': 103,\n",
    "    '173 BAY STATE ROAD': 46,\n",
    "    '178 BAY STATE ROAD': 138,\n",
    "    '205 BAY STATE ROAD': 69,\n",
    "    '42 BUSWELL STREET': 1,\n",
    "    '852 BEACON STREET': 1,\n",
    "    '848 BEACON STREET': 2,\n",
    "    '864 BEACON STREET': 1,\n",
    "    '133 BAY STATE ROAD': 54,\n",
    "    '625 COMMONWEALTH AVENUE': 25,\n",
    "    '832 BEACON STREET': 61,\n",
    "    '141 BAY STATE ROAD': 101,\n",
    "    '117 BAY STATE ROAD': 103,\n",
    "    '53 BAY STATE ROAD': 349,\n",
    "    '67 BAY STATE ROAD': 157,\n",
    "    '110 BAY STATE ROAD': 54,\n",
    "    '115 BAY STATE ROAD': 59,\n",
    "    '704 COMMONWEALTH AVENUE': 510,\n",
    "    '141 CARLTON STREET': 134,\n",
    "    '37-39 CARLTON STREET': 211,\n",
    "    '1 BUSWELL STREET': 75,\n",
    "    '5 BUSWELL STREET': 71,\n",
    "    '37 BUSWELL STREET': 37,\n",
    "    '39 BUSWELL STREET': 40,\n",
    "    '45 BUSWELL STREET': 110,\n",
    "    '47 BUSWELL STREET': 98,\n",
    "    '7 BUSWELL STREET': 84,\n",
    "    '60 BAY STATE ROAD': 70,\n",
    "    '80 BAY STATE ROAD': 68,\n",
    "    '191 BAY STATE ROAD': 145,\n",
    "    '199 BAY STATE ROAD': 128,\n",
    "    '232 BAY STATE ROAD': 720,\n",
    "    '201 BAY STATE ROAD': 126,\n",
    "    '214 BAY STATE ROAD': 44,\n",
    "    '207 BAY STATE ROAD': 83,\n",
    "    '188 BAY STATE ROAD': 169,\n",
    "    '204 BAY STATE ROAD': 121,\n",
    "    '619 MEMORIAL DRIVE': 1067,\n",
    "    '100 MOUNTFORT STREET': 79,\n",
    "    '677 BEACON STREET': 667\n",
    "}\n"
   ]
  },
  {
   "cell_type": "code",
   "execution_count": null,
   "id": "5fda5ac3",
   "metadata": {},
   "outputs": [],
   "source": []
  }
 ],
 "metadata": {
  "kernelspec": {
   "display_name": "Python 3",
   "language": "python",
   "name": "python3"
  },
  "language_info": {
   "codemirror_mode": {
    "name": "ipython",
    "version": 3
   },
   "file_extension": ".py",
   "mimetype": "text/x-python",
   "name": "python",
   "nbconvert_exporter": "python",
   "pygments_lexer": "ipython3",
   "version": "3.8.8"
  }
 },
 "nbformat": 4,
 "nbformat_minor": 5
}
