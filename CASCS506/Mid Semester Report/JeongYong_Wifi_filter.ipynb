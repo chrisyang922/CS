{
  "nbformat": 4,
  "nbformat_minor": 0,
  "metadata": {
    "colab": {
      "provenance": []
    },
    "kernelspec": {
      "name": "python3",
      "display_name": "Python 3"
    },
    "language_info": {
      "name": "python"
    }
  },
  "cells": [
    {
      "cell_type": "code",
      "execution_count": null,
      "metadata": {
        "id": "1Ocn8b6tueOM"
      },
      "outputs": [],
      "source": [
        "import pandas as pd\n",
        "import csv\n",
        "import numpy as np"
      ]
    },
    {
      "cell_type": "code",
      "source": [
        "dfGeospatial = pd.read_csv(\"updated_geospatial.csv\")\n",
        "dfGeospatial.head(5)"
      ],
      "metadata": {
        "colab": {
          "base_uri": "https://localhost:8080/",
          "height": 206
        },
        "id": "trswAB5QunOL",
        "outputId": "91345faf-2822-4471-8d62-49c0071a2985"
      },
      "execution_count": null,
      "outputs": [
        {
          "output_type": "execute_result",
          "data": {
            "text/plain": [
              "             BUILDING FLOOR  TOTAL STATIONS/BUILDING\n",
              "0   1019 Commonwealth     1                        1\n",
              "1  110-112 Cummington     2                        1\n",
              "2      111 Cummington     1                        4\n",
              "3      111 Cummington     1                        4\n",
              "4      111 Cummington     0                        4"
            ],
            "text/html": [
              "\n",
              "  <div id=\"df-55ad50e3-b2ff-4d5c-921a-cbbfa5becfd1\" class=\"colab-df-container\">\n",
              "    <div>\n",
              "<style scoped>\n",
              "    .dataframe tbody tr th:only-of-type {\n",
              "        vertical-align: middle;\n",
              "    }\n",
              "\n",
              "    .dataframe tbody tr th {\n",
              "        vertical-align: top;\n",
              "    }\n",
              "\n",
              "    .dataframe thead th {\n",
              "        text-align: right;\n",
              "    }\n",
              "</style>\n",
              "<table border=\"1\" class=\"dataframe\">\n",
              "  <thead>\n",
              "    <tr style=\"text-align: right;\">\n",
              "      <th></th>\n",
              "      <th>BUILDING</th>\n",
              "      <th>FLOOR</th>\n",
              "      <th>TOTAL STATIONS/BUILDING</th>\n",
              "    </tr>\n",
              "  </thead>\n",
              "  <tbody>\n",
              "    <tr>\n",
              "      <th>0</th>\n",
              "      <td>1019 Commonwealth</td>\n",
              "      <td>1</td>\n",
              "      <td>1</td>\n",
              "    </tr>\n",
              "    <tr>\n",
              "      <th>1</th>\n",
              "      <td>110-112 Cummington</td>\n",
              "      <td>2</td>\n",
              "      <td>1</td>\n",
              "    </tr>\n",
              "    <tr>\n",
              "      <th>2</th>\n",
              "      <td>111 Cummington</td>\n",
              "      <td>1</td>\n",
              "      <td>4</td>\n",
              "    </tr>\n",
              "    <tr>\n",
              "      <th>3</th>\n",
              "      <td>111 Cummington</td>\n",
              "      <td>1</td>\n",
              "      <td>4</td>\n",
              "    </tr>\n",
              "    <tr>\n",
              "      <th>4</th>\n",
              "      <td>111 Cummington</td>\n",
              "      <td>0</td>\n",
              "      <td>4</td>\n",
              "    </tr>\n",
              "  </tbody>\n",
              "</table>\n",
              "</div>\n",
              "    <div class=\"colab-df-buttons\">\n",
              "\n",
              "  <div class=\"colab-df-container\">\n",
              "    <button class=\"colab-df-convert\" onclick=\"convertToInteractive('df-55ad50e3-b2ff-4d5c-921a-cbbfa5becfd1')\"\n",
              "            title=\"Convert this dataframe to an interactive table.\"\n",
              "            style=\"display:none;\">\n",
              "\n",
              "  <svg xmlns=\"http://www.w3.org/2000/svg\" height=\"24px\" viewBox=\"0 -960 960 960\">\n",
              "    <path d=\"M120-120v-720h720v720H120Zm60-500h600v-160H180v160Zm220 220h160v-160H400v160Zm0 220h160v-160H400v160ZM180-400h160v-160H180v160Zm440 0h160v-160H620v160ZM180-180h160v-160H180v160Zm440 0h160v-160H620v160Z\"/>\n",
              "  </svg>\n",
              "    </button>\n",
              "\n",
              "  <style>\n",
              "    .colab-df-container {\n",
              "      display:flex;\n",
              "      gap: 12px;\n",
              "    }\n",
              "\n",
              "    .colab-df-convert {\n",
              "      background-color: #E8F0FE;\n",
              "      border: none;\n",
              "      border-radius: 50%;\n",
              "      cursor: pointer;\n",
              "      display: none;\n",
              "      fill: #1967D2;\n",
              "      height: 32px;\n",
              "      padding: 0 0 0 0;\n",
              "      width: 32px;\n",
              "    }\n",
              "\n",
              "    .colab-df-convert:hover {\n",
              "      background-color: #E2EBFA;\n",
              "      box-shadow: 0px 1px 2px rgba(60, 64, 67, 0.3), 0px 1px 3px 1px rgba(60, 64, 67, 0.15);\n",
              "      fill: #174EA6;\n",
              "    }\n",
              "\n",
              "    .colab-df-buttons div {\n",
              "      margin-bottom: 4px;\n",
              "    }\n",
              "\n",
              "    [theme=dark] .colab-df-convert {\n",
              "      background-color: #3B4455;\n",
              "      fill: #D2E3FC;\n",
              "    }\n",
              "\n",
              "    [theme=dark] .colab-df-convert:hover {\n",
              "      background-color: #434B5C;\n",
              "      box-shadow: 0px 1px 3px 1px rgba(0, 0, 0, 0.15);\n",
              "      filter: drop-shadow(0px 1px 2px rgba(0, 0, 0, 0.3));\n",
              "      fill: #FFFFFF;\n",
              "    }\n",
              "  </style>\n",
              "\n",
              "    <script>\n",
              "      const buttonEl =\n",
              "        document.querySelector('#df-55ad50e3-b2ff-4d5c-921a-cbbfa5becfd1 button.colab-df-convert');\n",
              "      buttonEl.style.display =\n",
              "        google.colab.kernel.accessAllowed ? 'block' : 'none';\n",
              "\n",
              "      async function convertToInteractive(key) {\n",
              "        const element = document.querySelector('#df-55ad50e3-b2ff-4d5c-921a-cbbfa5becfd1');\n",
              "        const dataTable =\n",
              "          await google.colab.kernel.invokeFunction('convertToInteractive',\n",
              "                                                    [key], {});\n",
              "        if (!dataTable) return;\n",
              "\n",
              "        const docLinkHtml = 'Like what you see? Visit the ' +\n",
              "          '<a target=\"_blank\" href=https://colab.research.google.com/notebooks/data_table.ipynb>data table notebook</a>'\n",
              "          + ' to learn more about interactive tables.';\n",
              "        element.innerHTML = '';\n",
              "        dataTable['output_type'] = 'display_data';\n",
              "        await google.colab.output.renderOutput(dataTable, element);\n",
              "        const docLink = document.createElement('div');\n",
              "        docLink.innerHTML = docLinkHtml;\n",
              "        element.appendChild(docLink);\n",
              "      }\n",
              "    </script>\n",
              "  </div>\n",
              "\n",
              "\n",
              "<div id=\"df-abd9961a-b642-407f-a873-15382062cd63\">\n",
              "  <button class=\"colab-df-quickchart\" onclick=\"quickchart('df-abd9961a-b642-407f-a873-15382062cd63')\"\n",
              "            title=\"Suggest charts\"\n",
              "            style=\"display:none;\">\n",
              "\n",
              "<svg xmlns=\"http://www.w3.org/2000/svg\" height=\"24px\"viewBox=\"0 0 24 24\"\n",
              "     width=\"24px\">\n",
              "    <g>\n",
              "        <path d=\"M19 3H5c-1.1 0-2 .9-2 2v14c0 1.1.9 2 2 2h14c1.1 0 2-.9 2-2V5c0-1.1-.9-2-2-2zM9 17H7v-7h2v7zm4 0h-2V7h2v10zm4 0h-2v-4h2v4z\"/>\n",
              "    </g>\n",
              "</svg>\n",
              "  </button>\n",
              "\n",
              "<style>\n",
              "  .colab-df-quickchart {\n",
              "      --bg-color: #E8F0FE;\n",
              "      --fill-color: #1967D2;\n",
              "      --hover-bg-color: #E2EBFA;\n",
              "      --hover-fill-color: #174EA6;\n",
              "      --disabled-fill-color: #AAA;\n",
              "      --disabled-bg-color: #DDD;\n",
              "  }\n",
              "\n",
              "  [theme=dark] .colab-df-quickchart {\n",
              "      --bg-color: #3B4455;\n",
              "      --fill-color: #D2E3FC;\n",
              "      --hover-bg-color: #434B5C;\n",
              "      --hover-fill-color: #FFFFFF;\n",
              "      --disabled-bg-color: #3B4455;\n",
              "      --disabled-fill-color: #666;\n",
              "  }\n",
              "\n",
              "  .colab-df-quickchart {\n",
              "    background-color: var(--bg-color);\n",
              "    border: none;\n",
              "    border-radius: 50%;\n",
              "    cursor: pointer;\n",
              "    display: none;\n",
              "    fill: var(--fill-color);\n",
              "    height: 32px;\n",
              "    padding: 0;\n",
              "    width: 32px;\n",
              "  }\n",
              "\n",
              "  .colab-df-quickchart:hover {\n",
              "    background-color: var(--hover-bg-color);\n",
              "    box-shadow: 0 1px 2px rgba(60, 64, 67, 0.3), 0 1px 3px 1px rgba(60, 64, 67, 0.15);\n",
              "    fill: var(--button-hover-fill-color);\n",
              "  }\n",
              "\n",
              "  .colab-df-quickchart-complete:disabled,\n",
              "  .colab-df-quickchart-complete:disabled:hover {\n",
              "    background-color: var(--disabled-bg-color);\n",
              "    fill: var(--disabled-fill-color);\n",
              "    box-shadow: none;\n",
              "  }\n",
              "\n",
              "  .colab-df-spinner {\n",
              "    border: 2px solid var(--fill-color);\n",
              "    border-color: transparent;\n",
              "    border-bottom-color: var(--fill-color);\n",
              "    animation:\n",
              "      spin 1s steps(1) infinite;\n",
              "  }\n",
              "\n",
              "  @keyframes spin {\n",
              "    0% {\n",
              "      border-color: transparent;\n",
              "      border-bottom-color: var(--fill-color);\n",
              "      border-left-color: var(--fill-color);\n",
              "    }\n",
              "    20% {\n",
              "      border-color: transparent;\n",
              "      border-left-color: var(--fill-color);\n",
              "      border-top-color: var(--fill-color);\n",
              "    }\n",
              "    30% {\n",
              "      border-color: transparent;\n",
              "      border-left-color: var(--fill-color);\n",
              "      border-top-color: var(--fill-color);\n",
              "      border-right-color: var(--fill-color);\n",
              "    }\n",
              "    40% {\n",
              "      border-color: transparent;\n",
              "      border-right-color: var(--fill-color);\n",
              "      border-top-color: var(--fill-color);\n",
              "    }\n",
              "    60% {\n",
              "      border-color: transparent;\n",
              "      border-right-color: var(--fill-color);\n",
              "    }\n",
              "    80% {\n",
              "      border-color: transparent;\n",
              "      border-right-color: var(--fill-color);\n",
              "      border-bottom-color: var(--fill-color);\n",
              "    }\n",
              "    90% {\n",
              "      border-color: transparent;\n",
              "      border-bottom-color: var(--fill-color);\n",
              "    }\n",
              "  }\n",
              "</style>\n",
              "\n",
              "  <script>\n",
              "    async function quickchart(key) {\n",
              "      const quickchartButtonEl =\n",
              "        document.querySelector('#' + key + ' button');\n",
              "      quickchartButtonEl.disabled = true;  // To prevent multiple clicks.\n",
              "      quickchartButtonEl.classList.add('colab-df-spinner');\n",
              "      try {\n",
              "        const charts = await google.colab.kernel.invokeFunction(\n",
              "            'suggestCharts', [key], {});\n",
              "      } catch (error) {\n",
              "        console.error('Error during call to suggestCharts:', error);\n",
              "      }\n",
              "      quickchartButtonEl.classList.remove('colab-df-spinner');\n",
              "      quickchartButtonEl.classList.add('colab-df-quickchart-complete');\n",
              "    }\n",
              "    (() => {\n",
              "      let quickchartButtonEl =\n",
              "        document.querySelector('#df-abd9961a-b642-407f-a873-15382062cd63 button');\n",
              "      quickchartButtonEl.style.display =\n",
              "        google.colab.kernel.accessAllowed ? 'block' : 'none';\n",
              "    })();\n",
              "  </script>\n",
              "</div>\n",
              "\n",
              "    </div>\n",
              "  </div>\n"
            ],
            "application/vnd.google.colaboratory.intrinsic+json": {
              "type": "dataframe",
              "variable_name": "dfGeospatial",
              "summary": "{\n  \"name\": \"dfGeospatial\",\n  \"rows\": 200,\n  \"fields\": [\n    {\n      \"column\": \"BUILDING\",\n      \"properties\": {\n        \"dtype\": \"category\",\n        \"num_unique_values\": 63,\n        \"samples\": [\n          \"Wheelock\",\n          \"Towers\",\n          \"1019 Commonwealth\"\n        ],\n        \"semantic_type\": \"\",\n        \"description\": \"\"\n      }\n    },\n    {\n      \"column\": \"FLOOR\",\n      \"properties\": {\n        \"dtype\": \"category\",\n        \"num_unique_values\": 19,\n        \"samples\": [\n          \"1\",\n          \"5\",\n          \"10\"\n        ],\n        \"semantic_type\": \"\",\n        \"description\": \"\"\n      }\n    },\n    {\n      \"column\": \"TOTAL STATIONS/BUILDING\",\n      \"properties\": {\n        \"dtype\": \"number\",\n        \"std\": 6,\n        \"min\": 1,\n        \"max\": 24,\n        \"num_unique_values\": 10,\n        \"samples\": [\n          24,\n          4,\n          5\n        ],\n        \"semantic_type\": \"\",\n        \"description\": \"\"\n      }\n    }\n  ]\n}"
            }
          },
          "metadata": {},
          "execution_count": 10
        }
      ]
    },
    {
      "cell_type": "code",
      "source": [
        "dfInventory = pd.read_csv(\"updated_Bottle_Fillers_Inventory.csv\")\n",
        "dfInventory.head(5)"
      ],
      "metadata": {
        "colab": {
          "base_uri": "https://localhost:8080/",
          "height": 276
        },
        "id": "4puFe1LK_tge",
        "outputId": "99e5f2f9-cfd7-4f71-cf71-0055224444b9"
      },
      "execution_count": null,
      "outputs": [
        {
          "output_type": "execute_result",
          "data": {
            "text/plain": [
              "               Address    Floor   \\\n",
              "0       100 Ashford St     First   \n",
              "1       120 Ashford St     First   \n",
              "2       120 Ashford St    Second   \n",
              "3  8 St. Mary's Street  Basement   \n",
              "4  8 St. Mary's Street     First   \n",
              "\n",
              "                                         Description Space@Bu room  Quantity  \\\n",
              "0  Hallway across from vending machines, across f...           191       1.0   \n",
              "1                             Kitchenette, Room 116A          116A       1.0   \n",
              "2                              Kitchenette, Room 222           222       1.0   \n",
              "3                               Hallway by bathrooms           B81       1.0   \n",
              "4                         Hallway by electrical room           181       1.0   \n",
              "\n",
              "                                     Walk-Thru Notes  \n",
              "0  two additional drinking fountain locations in ...  \n",
              "1                                                NaN  \n",
              "2                                                NaN  \n",
              "3                                                NaN  \n",
              "4                                                NaN  "
            ],
            "text/html": [
              "\n",
              "  <div id=\"df-be19fc2e-08ab-4029-962e-c36b73218667\" class=\"colab-df-container\">\n",
              "    <div>\n",
              "<style scoped>\n",
              "    .dataframe tbody tr th:only-of-type {\n",
              "        vertical-align: middle;\n",
              "    }\n",
              "\n",
              "    .dataframe tbody tr th {\n",
              "        vertical-align: top;\n",
              "    }\n",
              "\n",
              "    .dataframe thead th {\n",
              "        text-align: right;\n",
              "    }\n",
              "</style>\n",
              "<table border=\"1\" class=\"dataframe\">\n",
              "  <thead>\n",
              "    <tr style=\"text-align: right;\">\n",
              "      <th></th>\n",
              "      <th>Address</th>\n",
              "      <th>Floor</th>\n",
              "      <th>Description</th>\n",
              "      <th>Space@Bu room</th>\n",
              "      <th>Quantity</th>\n",
              "      <th>Walk-Thru Notes</th>\n",
              "    </tr>\n",
              "  </thead>\n",
              "  <tbody>\n",
              "    <tr>\n",
              "      <th>0</th>\n",
              "      <td>100 Ashford St</td>\n",
              "      <td>First</td>\n",
              "      <td>Hallway across from vending machines, across f...</td>\n",
              "      <td>191</td>\n",
              "      <td>1.0</td>\n",
              "      <td>two additional drinking fountain locations in ...</td>\n",
              "    </tr>\n",
              "    <tr>\n",
              "      <th>1</th>\n",
              "      <td>120 Ashford St</td>\n",
              "      <td>First</td>\n",
              "      <td>Kitchenette, Room 116A</td>\n",
              "      <td>116A</td>\n",
              "      <td>1.0</td>\n",
              "      <td>NaN</td>\n",
              "    </tr>\n",
              "    <tr>\n",
              "      <th>2</th>\n",
              "      <td>120 Ashford St</td>\n",
              "      <td>Second</td>\n",
              "      <td>Kitchenette, Room 222</td>\n",
              "      <td>222</td>\n",
              "      <td>1.0</td>\n",
              "      <td>NaN</td>\n",
              "    </tr>\n",
              "    <tr>\n",
              "      <th>3</th>\n",
              "      <td>8 St. Mary's Street</td>\n",
              "      <td>Basement</td>\n",
              "      <td>Hallway by bathrooms</td>\n",
              "      <td>B81</td>\n",
              "      <td>1.0</td>\n",
              "      <td>NaN</td>\n",
              "    </tr>\n",
              "    <tr>\n",
              "      <th>4</th>\n",
              "      <td>8 St. Mary's Street</td>\n",
              "      <td>First</td>\n",
              "      <td>Hallway by electrical room</td>\n",
              "      <td>181</td>\n",
              "      <td>1.0</td>\n",
              "      <td>NaN</td>\n",
              "    </tr>\n",
              "  </tbody>\n",
              "</table>\n",
              "</div>\n",
              "    <div class=\"colab-df-buttons\">\n",
              "\n",
              "  <div class=\"colab-df-container\">\n",
              "    <button class=\"colab-df-convert\" onclick=\"convertToInteractive('df-be19fc2e-08ab-4029-962e-c36b73218667')\"\n",
              "            title=\"Convert this dataframe to an interactive table.\"\n",
              "            style=\"display:none;\">\n",
              "\n",
              "  <svg xmlns=\"http://www.w3.org/2000/svg\" height=\"24px\" viewBox=\"0 -960 960 960\">\n",
              "    <path d=\"M120-120v-720h720v720H120Zm60-500h600v-160H180v160Zm220 220h160v-160H400v160Zm0 220h160v-160H400v160ZM180-400h160v-160H180v160Zm440 0h160v-160H620v160ZM180-180h160v-160H180v160Zm440 0h160v-160H620v160Z\"/>\n",
              "  </svg>\n",
              "    </button>\n",
              "\n",
              "  <style>\n",
              "    .colab-df-container {\n",
              "      display:flex;\n",
              "      gap: 12px;\n",
              "    }\n",
              "\n",
              "    .colab-df-convert {\n",
              "      background-color: #E8F0FE;\n",
              "      border: none;\n",
              "      border-radius: 50%;\n",
              "      cursor: pointer;\n",
              "      display: none;\n",
              "      fill: #1967D2;\n",
              "      height: 32px;\n",
              "      padding: 0 0 0 0;\n",
              "      width: 32px;\n",
              "    }\n",
              "\n",
              "    .colab-df-convert:hover {\n",
              "      background-color: #E2EBFA;\n",
              "      box-shadow: 0px 1px 2px rgba(60, 64, 67, 0.3), 0px 1px 3px 1px rgba(60, 64, 67, 0.15);\n",
              "      fill: #174EA6;\n",
              "    }\n",
              "\n",
              "    .colab-df-buttons div {\n",
              "      margin-bottom: 4px;\n",
              "    }\n",
              "\n",
              "    [theme=dark] .colab-df-convert {\n",
              "      background-color: #3B4455;\n",
              "      fill: #D2E3FC;\n",
              "    }\n",
              "\n",
              "    [theme=dark] .colab-df-convert:hover {\n",
              "      background-color: #434B5C;\n",
              "      box-shadow: 0px 1px 3px 1px rgba(0, 0, 0, 0.15);\n",
              "      filter: drop-shadow(0px 1px 2px rgba(0, 0, 0, 0.3));\n",
              "      fill: #FFFFFF;\n",
              "    }\n",
              "  </style>\n",
              "\n",
              "    <script>\n",
              "      const buttonEl =\n",
              "        document.querySelector('#df-be19fc2e-08ab-4029-962e-c36b73218667 button.colab-df-convert');\n",
              "      buttonEl.style.display =\n",
              "        google.colab.kernel.accessAllowed ? 'block' : 'none';\n",
              "\n",
              "      async function convertToInteractive(key) {\n",
              "        const element = document.querySelector('#df-be19fc2e-08ab-4029-962e-c36b73218667');\n",
              "        const dataTable =\n",
              "          await google.colab.kernel.invokeFunction('convertToInteractive',\n",
              "                                                    [key], {});\n",
              "        if (!dataTable) return;\n",
              "\n",
              "        const docLinkHtml = 'Like what you see? Visit the ' +\n",
              "          '<a target=\"_blank\" href=https://colab.research.google.com/notebooks/data_table.ipynb>data table notebook</a>'\n",
              "          + ' to learn more about interactive tables.';\n",
              "        element.innerHTML = '';\n",
              "        dataTable['output_type'] = 'display_data';\n",
              "        await google.colab.output.renderOutput(dataTable, element);\n",
              "        const docLink = document.createElement('div');\n",
              "        docLink.innerHTML = docLinkHtml;\n",
              "        element.appendChild(docLink);\n",
              "      }\n",
              "    </script>\n",
              "  </div>\n",
              "\n",
              "\n",
              "<div id=\"df-be041708-774a-4c91-937f-47474c9c3848\">\n",
              "  <button class=\"colab-df-quickchart\" onclick=\"quickchart('df-be041708-774a-4c91-937f-47474c9c3848')\"\n",
              "            title=\"Suggest charts\"\n",
              "            style=\"display:none;\">\n",
              "\n",
              "<svg xmlns=\"http://www.w3.org/2000/svg\" height=\"24px\"viewBox=\"0 0 24 24\"\n",
              "     width=\"24px\">\n",
              "    <g>\n",
              "        <path d=\"M19 3H5c-1.1 0-2 .9-2 2v14c0 1.1.9 2 2 2h14c1.1 0 2-.9 2-2V5c0-1.1-.9-2-2-2zM9 17H7v-7h2v7zm4 0h-2V7h2v10zm4 0h-2v-4h2v4z\"/>\n",
              "    </g>\n",
              "</svg>\n",
              "  </button>\n",
              "\n",
              "<style>\n",
              "  .colab-df-quickchart {\n",
              "      --bg-color: #E8F0FE;\n",
              "      --fill-color: #1967D2;\n",
              "      --hover-bg-color: #E2EBFA;\n",
              "      --hover-fill-color: #174EA6;\n",
              "      --disabled-fill-color: #AAA;\n",
              "      --disabled-bg-color: #DDD;\n",
              "  }\n",
              "\n",
              "  [theme=dark] .colab-df-quickchart {\n",
              "      --bg-color: #3B4455;\n",
              "      --fill-color: #D2E3FC;\n",
              "      --hover-bg-color: #434B5C;\n",
              "      --hover-fill-color: #FFFFFF;\n",
              "      --disabled-bg-color: #3B4455;\n",
              "      --disabled-fill-color: #666;\n",
              "  }\n",
              "\n",
              "  .colab-df-quickchart {\n",
              "    background-color: var(--bg-color);\n",
              "    border: none;\n",
              "    border-radius: 50%;\n",
              "    cursor: pointer;\n",
              "    display: none;\n",
              "    fill: var(--fill-color);\n",
              "    height: 32px;\n",
              "    padding: 0;\n",
              "    width: 32px;\n",
              "  }\n",
              "\n",
              "  .colab-df-quickchart:hover {\n",
              "    background-color: var(--hover-bg-color);\n",
              "    box-shadow: 0 1px 2px rgba(60, 64, 67, 0.3), 0 1px 3px 1px rgba(60, 64, 67, 0.15);\n",
              "    fill: var(--button-hover-fill-color);\n",
              "  }\n",
              "\n",
              "  .colab-df-quickchart-complete:disabled,\n",
              "  .colab-df-quickchart-complete:disabled:hover {\n",
              "    background-color: var(--disabled-bg-color);\n",
              "    fill: var(--disabled-fill-color);\n",
              "    box-shadow: none;\n",
              "  }\n",
              "\n",
              "  .colab-df-spinner {\n",
              "    border: 2px solid var(--fill-color);\n",
              "    border-color: transparent;\n",
              "    border-bottom-color: var(--fill-color);\n",
              "    animation:\n",
              "      spin 1s steps(1) infinite;\n",
              "  }\n",
              "\n",
              "  @keyframes spin {\n",
              "    0% {\n",
              "      border-color: transparent;\n",
              "      border-bottom-color: var(--fill-color);\n",
              "      border-left-color: var(--fill-color);\n",
              "    }\n",
              "    20% {\n",
              "      border-color: transparent;\n",
              "      border-left-color: var(--fill-color);\n",
              "      border-top-color: var(--fill-color);\n",
              "    }\n",
              "    30% {\n",
              "      border-color: transparent;\n",
              "      border-left-color: var(--fill-color);\n",
              "      border-top-color: var(--fill-color);\n",
              "      border-right-color: var(--fill-color);\n",
              "    }\n",
              "    40% {\n",
              "      border-color: transparent;\n",
              "      border-right-color: var(--fill-color);\n",
              "      border-top-color: var(--fill-color);\n",
              "    }\n",
              "    60% {\n",
              "      border-color: transparent;\n",
              "      border-right-color: var(--fill-color);\n",
              "    }\n",
              "    80% {\n",
              "      border-color: transparent;\n",
              "      border-right-color: var(--fill-color);\n",
              "      border-bottom-color: var(--fill-color);\n",
              "    }\n",
              "    90% {\n",
              "      border-color: transparent;\n",
              "      border-bottom-color: var(--fill-color);\n",
              "    }\n",
              "  }\n",
              "</style>\n",
              "\n",
              "  <script>\n",
              "    async function quickchart(key) {\n",
              "      const quickchartButtonEl =\n",
              "        document.querySelector('#' + key + ' button');\n",
              "      quickchartButtonEl.disabled = true;  // To prevent multiple clicks.\n",
              "      quickchartButtonEl.classList.add('colab-df-spinner');\n",
              "      try {\n",
              "        const charts = await google.colab.kernel.invokeFunction(\n",
              "            'suggestCharts', [key], {});\n",
              "      } catch (error) {\n",
              "        console.error('Error during call to suggestCharts:', error);\n",
              "      }\n",
              "      quickchartButtonEl.classList.remove('colab-df-spinner');\n",
              "      quickchartButtonEl.classList.add('colab-df-quickchart-complete');\n",
              "    }\n",
              "    (() => {\n",
              "      let quickchartButtonEl =\n",
              "        document.querySelector('#df-be041708-774a-4c91-937f-47474c9c3848 button');\n",
              "      quickchartButtonEl.style.display =\n",
              "        google.colab.kernel.accessAllowed ? 'block' : 'none';\n",
              "    })();\n",
              "  </script>\n",
              "</div>\n",
              "\n",
              "    </div>\n",
              "  </div>\n"
            ],
            "application/vnd.google.colaboratory.intrinsic+json": {
              "type": "dataframe",
              "variable_name": "dfInventory",
              "summary": "{\n  \"name\": \"dfInventory\",\n  \"rows\": 212,\n  \"fields\": [\n    {\n      \"column\": \"Address\",\n      \"properties\": {\n        \"dtype\": \"category\",\n        \"num_unique_values\": 68,\n        \"samples\": [\n          \"871 Commonwealth Ave\",\n          \"270 Bay State Road\",\n          \"275 Babcock St\"\n        ],\n        \"semantic_type\": \"\",\n        \"description\": \"\"\n      }\n    },\n    {\n      \"column\": \"Floor \",\n      \"properties\": {\n        \"dtype\": \"category\",\n        \"num_unique_values\": 26,\n        \"samples\": [\n          \"Eighth\",\n          \"Fifteenth\",\n          \"First\"\n        ],\n        \"semantic_type\": \"\",\n        \"description\": \"\"\n      }\n    },\n    {\n      \"column\": \"Description\",\n      \"properties\": {\n        \"dtype\": \"category\",\n        \"num_unique_values\": 87,\n        \"samples\": [\n          \"Near Ramp/bathrooms \",\n          \"Hallway across from vending machines, across from Room 180, turn right from the lobby\",\n          \"Room 251\"\n        ],\n        \"semantic_type\": \"\",\n        \"description\": \"\"\n      }\n    },\n    {\n      \"column\": \"Space@Bu room\",\n      \"properties\": {\n        \"dtype\": \"string\",\n        \"num_unique_values\": 136,\n        \"samples\": [\n          \"382\",\n          \"214\",\n          \"B90\"\n        ],\n        \"semantic_type\": \"\",\n        \"description\": \"\"\n      }\n    },\n    {\n      \"column\": \"Quantity\",\n      \"properties\": {\n        \"dtype\": \"number\",\n        \"std\": 24.798727884193436,\n        \"min\": 1.0,\n        \"max\": 255.0,\n        \"num_unique_values\": 6,\n        \"samples\": [\n          1.0,\n          2.0,\n          255.0\n        ],\n        \"semantic_type\": \"\",\n        \"description\": \"\"\n      }\n    },\n    {\n      \"column\": \"Walk-Thru Notes\",\n      \"properties\": {\n        \"dtype\": \"category\",\n        \"num_unique_values\": 23,\n        \"samples\": [\n          \"it looks like there might be 2 in this area\",\n          \"Not sure exactly where this is\",\n          \"two additional drinking fountain locations in the building are candidates for bottle fillers; one near Media Room 112; one near loading dock at west end of track\"\n        ],\n        \"semantic_type\": \"\",\n        \"description\": \"\"\n      }\n    }\n  ]\n}"
            }
          },
          "metadata": {},
          "execution_count": 11
        }
      ]
    },
    {
      "cell_type": "code",
      "source": [
        "dfHighVolume = pd.read_csv(\"updated_High_Volume_Event_Spaces.csv\")\n",
        "dfHighVolume.head(5)"
      ],
      "metadata": {
        "colab": {
          "base_uri": "https://localhost:8080/",
          "height": 276
        },
        "id": "gPhY21lZ_3DS",
        "outputId": "00416e52-f92b-4168-cc21-23a4245c8146"
      },
      "execution_count": null,
      "outputs": [
        {
          "output_type": "execute_result",
          "data": {
            "text/plain": [
              "                                 Room_Name                       Address  \\\n",
              "0           Agganis Arena Burke Club Room        925 Commonwealth Avenue   \n",
              "1  Agganis Arena Friends of Hockey Lounge        925 Commonwealth Avenue   \n",
              "2              Case Center Eilberg Lounge             285 Babcock Street   \n",
              "3   College of Arts & Sciences Classrooms    675-725 Commonwealth Avenue   \n",
              "4         College of Communication Lounge         640 Commowealth Avenue   \n",
              "\n",
              "                                               Notes  Candidacy Floor Number  \n",
              "0  casual catered events, high liklihood of using...          2            2  \n",
              "1  casual catered events, high liklihood of using...          2            1  \n",
              "2  use of the space is limited; there are fillers...          5            3  \n",
              "3  There are a bunch already down the hallways; 4...          4            0  \n",
              "4                                hallway by room 105          5            1  "
            ],
            "text/html": [
              "\n",
              "  <div id=\"df-2c1575ce-feb6-4269-bba2-5fe330fdd6db\" class=\"colab-df-container\">\n",
              "    <div>\n",
              "<style scoped>\n",
              "    .dataframe tbody tr th:only-of-type {\n",
              "        vertical-align: middle;\n",
              "    }\n",
              "\n",
              "    .dataframe tbody tr th {\n",
              "        vertical-align: top;\n",
              "    }\n",
              "\n",
              "    .dataframe thead th {\n",
              "        text-align: right;\n",
              "    }\n",
              "</style>\n",
              "<table border=\"1\" class=\"dataframe\">\n",
              "  <thead>\n",
              "    <tr style=\"text-align: right;\">\n",
              "      <th></th>\n",
              "      <th>Room_Name</th>\n",
              "      <th>Address</th>\n",
              "      <th>Notes</th>\n",
              "      <th>Candidacy</th>\n",
              "      <th>Floor Number</th>\n",
              "    </tr>\n",
              "  </thead>\n",
              "  <tbody>\n",
              "    <tr>\n",
              "      <th>0</th>\n",
              "      <td>Agganis Arena Burke Club Room</td>\n",
              "      <td>925 Commonwealth Avenue</td>\n",
              "      <td>casual catered events, high liklihood of using...</td>\n",
              "      <td>2</td>\n",
              "      <td>2</td>\n",
              "    </tr>\n",
              "    <tr>\n",
              "      <th>1</th>\n",
              "      <td>Agganis Arena Friends of Hockey Lounge</td>\n",
              "      <td>925 Commonwealth Avenue</td>\n",
              "      <td>casual catered events, high liklihood of using...</td>\n",
              "      <td>2</td>\n",
              "      <td>1</td>\n",
              "    </tr>\n",
              "    <tr>\n",
              "      <th>2</th>\n",
              "      <td>Case Center Eilberg Lounge</td>\n",
              "      <td>285 Babcock Street</td>\n",
              "      <td>use of the space is limited; there are fillers...</td>\n",
              "      <td>5</td>\n",
              "      <td>3</td>\n",
              "    </tr>\n",
              "    <tr>\n",
              "      <th>3</th>\n",
              "      <td>College of Arts &amp; Sciences Classrooms</td>\n",
              "      <td>675-725 Commonwealth Avenue</td>\n",
              "      <td>There are a bunch already down the hallways; 4...</td>\n",
              "      <td>4</td>\n",
              "      <td>0</td>\n",
              "    </tr>\n",
              "    <tr>\n",
              "      <th>4</th>\n",
              "      <td>College of Communication Lounge</td>\n",
              "      <td>640 Commowealth Avenue</td>\n",
              "      <td>hallway by room 105</td>\n",
              "      <td>5</td>\n",
              "      <td>1</td>\n",
              "    </tr>\n",
              "  </tbody>\n",
              "</table>\n",
              "</div>\n",
              "    <div class=\"colab-df-buttons\">\n",
              "\n",
              "  <div class=\"colab-df-container\">\n",
              "    <button class=\"colab-df-convert\" onclick=\"convertToInteractive('df-2c1575ce-feb6-4269-bba2-5fe330fdd6db')\"\n",
              "            title=\"Convert this dataframe to an interactive table.\"\n",
              "            style=\"display:none;\">\n",
              "\n",
              "  <svg xmlns=\"http://www.w3.org/2000/svg\" height=\"24px\" viewBox=\"0 -960 960 960\">\n",
              "    <path d=\"M120-120v-720h720v720H120Zm60-500h600v-160H180v160Zm220 220h160v-160H400v160Zm0 220h160v-160H400v160ZM180-400h160v-160H180v160Zm440 0h160v-160H620v160ZM180-180h160v-160H180v160Zm440 0h160v-160H620v160Z\"/>\n",
              "  </svg>\n",
              "    </button>\n",
              "\n",
              "  <style>\n",
              "    .colab-df-container {\n",
              "      display:flex;\n",
              "      gap: 12px;\n",
              "    }\n",
              "\n",
              "    .colab-df-convert {\n",
              "      background-color: #E8F0FE;\n",
              "      border: none;\n",
              "      border-radius: 50%;\n",
              "      cursor: pointer;\n",
              "      display: none;\n",
              "      fill: #1967D2;\n",
              "      height: 32px;\n",
              "      padding: 0 0 0 0;\n",
              "      width: 32px;\n",
              "    }\n",
              "\n",
              "    .colab-df-convert:hover {\n",
              "      background-color: #E2EBFA;\n",
              "      box-shadow: 0px 1px 2px rgba(60, 64, 67, 0.3), 0px 1px 3px 1px rgba(60, 64, 67, 0.15);\n",
              "      fill: #174EA6;\n",
              "    }\n",
              "\n",
              "    .colab-df-buttons div {\n",
              "      margin-bottom: 4px;\n",
              "    }\n",
              "\n",
              "    [theme=dark] .colab-df-convert {\n",
              "      background-color: #3B4455;\n",
              "      fill: #D2E3FC;\n",
              "    }\n",
              "\n",
              "    [theme=dark] .colab-df-convert:hover {\n",
              "      background-color: #434B5C;\n",
              "      box-shadow: 0px 1px 3px 1px rgba(0, 0, 0, 0.15);\n",
              "      filter: drop-shadow(0px 1px 2px rgba(0, 0, 0, 0.3));\n",
              "      fill: #FFFFFF;\n",
              "    }\n",
              "  </style>\n",
              "\n",
              "    <script>\n",
              "      const buttonEl =\n",
              "        document.querySelector('#df-2c1575ce-feb6-4269-bba2-5fe330fdd6db button.colab-df-convert');\n",
              "      buttonEl.style.display =\n",
              "        google.colab.kernel.accessAllowed ? 'block' : 'none';\n",
              "\n",
              "      async function convertToInteractive(key) {\n",
              "        const element = document.querySelector('#df-2c1575ce-feb6-4269-bba2-5fe330fdd6db');\n",
              "        const dataTable =\n",
              "          await google.colab.kernel.invokeFunction('convertToInteractive',\n",
              "                                                    [key], {});\n",
              "        if (!dataTable) return;\n",
              "\n",
              "        const docLinkHtml = 'Like what you see? Visit the ' +\n",
              "          '<a target=\"_blank\" href=https://colab.research.google.com/notebooks/data_table.ipynb>data table notebook</a>'\n",
              "          + ' to learn more about interactive tables.';\n",
              "        element.innerHTML = '';\n",
              "        dataTable['output_type'] = 'display_data';\n",
              "        await google.colab.output.renderOutput(dataTable, element);\n",
              "        const docLink = document.createElement('div');\n",
              "        docLink.innerHTML = docLinkHtml;\n",
              "        element.appendChild(docLink);\n",
              "      }\n",
              "    </script>\n",
              "  </div>\n",
              "\n",
              "\n",
              "<div id=\"df-8e903d94-f2a4-4b88-a524-a350a80a095e\">\n",
              "  <button class=\"colab-df-quickchart\" onclick=\"quickchart('df-8e903d94-f2a4-4b88-a524-a350a80a095e')\"\n",
              "            title=\"Suggest charts\"\n",
              "            style=\"display:none;\">\n",
              "\n",
              "<svg xmlns=\"http://www.w3.org/2000/svg\" height=\"24px\"viewBox=\"0 0 24 24\"\n",
              "     width=\"24px\">\n",
              "    <g>\n",
              "        <path d=\"M19 3H5c-1.1 0-2 .9-2 2v14c0 1.1.9 2 2 2h14c1.1 0 2-.9 2-2V5c0-1.1-.9-2-2-2zM9 17H7v-7h2v7zm4 0h-2V7h2v10zm4 0h-2v-4h2v4z\"/>\n",
              "    </g>\n",
              "</svg>\n",
              "  </button>\n",
              "\n",
              "<style>\n",
              "  .colab-df-quickchart {\n",
              "      --bg-color: #E8F0FE;\n",
              "      --fill-color: #1967D2;\n",
              "      --hover-bg-color: #E2EBFA;\n",
              "      --hover-fill-color: #174EA6;\n",
              "      --disabled-fill-color: #AAA;\n",
              "      --disabled-bg-color: #DDD;\n",
              "  }\n",
              "\n",
              "  [theme=dark] .colab-df-quickchart {\n",
              "      --bg-color: #3B4455;\n",
              "      --fill-color: #D2E3FC;\n",
              "      --hover-bg-color: #434B5C;\n",
              "      --hover-fill-color: #FFFFFF;\n",
              "      --disabled-bg-color: #3B4455;\n",
              "      --disabled-fill-color: #666;\n",
              "  }\n",
              "\n",
              "  .colab-df-quickchart {\n",
              "    background-color: var(--bg-color);\n",
              "    border: none;\n",
              "    border-radius: 50%;\n",
              "    cursor: pointer;\n",
              "    display: none;\n",
              "    fill: var(--fill-color);\n",
              "    height: 32px;\n",
              "    padding: 0;\n",
              "    width: 32px;\n",
              "  }\n",
              "\n",
              "  .colab-df-quickchart:hover {\n",
              "    background-color: var(--hover-bg-color);\n",
              "    box-shadow: 0 1px 2px rgba(60, 64, 67, 0.3), 0 1px 3px 1px rgba(60, 64, 67, 0.15);\n",
              "    fill: var(--button-hover-fill-color);\n",
              "  }\n",
              "\n",
              "  .colab-df-quickchart-complete:disabled,\n",
              "  .colab-df-quickchart-complete:disabled:hover {\n",
              "    background-color: var(--disabled-bg-color);\n",
              "    fill: var(--disabled-fill-color);\n",
              "    box-shadow: none;\n",
              "  }\n",
              "\n",
              "  .colab-df-spinner {\n",
              "    border: 2px solid var(--fill-color);\n",
              "    border-color: transparent;\n",
              "    border-bottom-color: var(--fill-color);\n",
              "    animation:\n",
              "      spin 1s steps(1) infinite;\n",
              "  }\n",
              "\n",
              "  @keyframes spin {\n",
              "    0% {\n",
              "      border-color: transparent;\n",
              "      border-bottom-color: var(--fill-color);\n",
              "      border-left-color: var(--fill-color);\n",
              "    }\n",
              "    20% {\n",
              "      border-color: transparent;\n",
              "      border-left-color: var(--fill-color);\n",
              "      border-top-color: var(--fill-color);\n",
              "    }\n",
              "    30% {\n",
              "      border-color: transparent;\n",
              "      border-left-color: var(--fill-color);\n",
              "      border-top-color: var(--fill-color);\n",
              "      border-right-color: var(--fill-color);\n",
              "    }\n",
              "    40% {\n",
              "      border-color: transparent;\n",
              "      border-right-color: var(--fill-color);\n",
              "      border-top-color: var(--fill-color);\n",
              "    }\n",
              "    60% {\n",
              "      border-color: transparent;\n",
              "      border-right-color: var(--fill-color);\n",
              "    }\n",
              "    80% {\n",
              "      border-color: transparent;\n",
              "      border-right-color: var(--fill-color);\n",
              "      border-bottom-color: var(--fill-color);\n",
              "    }\n",
              "    90% {\n",
              "      border-color: transparent;\n",
              "      border-bottom-color: var(--fill-color);\n",
              "    }\n",
              "  }\n",
              "</style>\n",
              "\n",
              "  <script>\n",
              "    async function quickchart(key) {\n",
              "      const quickchartButtonEl =\n",
              "        document.querySelector('#' + key + ' button');\n",
              "      quickchartButtonEl.disabled = true;  // To prevent multiple clicks.\n",
              "      quickchartButtonEl.classList.add('colab-df-spinner');\n",
              "      try {\n",
              "        const charts = await google.colab.kernel.invokeFunction(\n",
              "            'suggestCharts', [key], {});\n",
              "      } catch (error) {\n",
              "        console.error('Error during call to suggestCharts:', error);\n",
              "      }\n",
              "      quickchartButtonEl.classList.remove('colab-df-spinner');\n",
              "      quickchartButtonEl.classList.add('colab-df-quickchart-complete');\n",
              "    }\n",
              "    (() => {\n",
              "      let quickchartButtonEl =\n",
              "        document.querySelector('#df-8e903d94-f2a4-4b88-a524-a350a80a095e button');\n",
              "      quickchartButtonEl.style.display =\n",
              "        google.colab.kernel.accessAllowed ? 'block' : 'none';\n",
              "    })();\n",
              "  </script>\n",
              "</div>\n",
              "\n",
              "    </div>\n",
              "  </div>\n"
            ],
            "application/vnd.google.colaboratory.intrinsic+json": {
              "type": "dataframe",
              "variable_name": "dfHighVolume",
              "summary": "{\n  \"name\": \"dfHighVolume\",\n  \"rows\": 28,\n  \"fields\": [\n    {\n      \"column\": \"Room_Name\",\n      \"properties\": {\n        \"dtype\": \"string\",\n        \"num_unique_values\": 28,\n        \"samples\": [\n          \"George Sherman Union Alley\",\n          \"Student Village II Lounge \",\n          \"Dahod Family Alumni Center \"\n        ],\n        \"semantic_type\": \"\",\n        \"description\": \"\"\n      }\n    },\n    {\n      \"column\": \"Address\",\n      \"properties\": {\n        \"dtype\": \"string\",\n        \"num_unique_values\": 19,\n        \"samples\": [\n          \" 925 Commonwealth Avenue\",\n          \" 225 Bay State Road\",\n          \"595 Commonwealth Avenue\"\n        ],\n        \"semantic_type\": \"\",\n        \"description\": \"\"\n      }\n    },\n    {\n      \"column\": \"Notes\",\n      \"properties\": {\n        \"dtype\": \"string\",\n        \"num_unique_values\": 21,\n        \"samples\": [\n          \"casual catered events, high liklihood of using plastic bottles so guests can take onto the concourse; bottle fillers could reduce their sales. Auxiliary would need to be involved in decision making.\",\n          \"summer 2023 reno\",\n          \"check that there isn't already one in the hallway near bathroom; this room could be no catering, could be china, could be drop off service... possibly add to door wall or kitchen wall if it doesn't detract from the events\"\n        ],\n        \"semantic_type\": \"\",\n        \"description\": \"\"\n      }\n    },\n    {\n      \"column\": \"Candidacy\",\n      \"properties\": {\n        \"dtype\": \"number\",\n        \"std\": 1,\n        \"min\": 1,\n        \"max\": 5,\n        \"num_unique_values\": 5,\n        \"samples\": [\n          5,\n          3,\n          4\n        ],\n        \"semantic_type\": \"\",\n        \"description\": \"\"\n      }\n    },\n    {\n      \"column\": \"Floor Number\",\n      \"properties\": {\n        \"dtype\": \"category\",\n        \"num_unique_values\": 9,\n        \"samples\": [\n          \"18\",\n          \"1\",\n          \"1, 2\"\n        ],\n        \"semantic_type\": \"\",\n        \"description\": \"\"\n      }\n    }\n  ]\n}"
            }
          },
          "metadata": {},
          "execution_count": 12
        }
      ]
    },
    {
      "cell_type": "code",
      "source": [
        "dfHighVolume[\"Candidacy\"].unique()"
      ],
      "metadata": {
        "colab": {
          "base_uri": "https://localhost:8080/"
        },
        "id": "yHqcG6eyBO4c",
        "outputId": "0cdc0694-7733-409b-b108-24619112e4bb"
      },
      "execution_count": null,
      "outputs": [
        {
          "output_type": "execute_result",
          "data": {
            "text/plain": [
              "array([2, 5, 4, 1, 3])"
            ]
          },
          "metadata": {},
          "execution_count": 13
        }
      ]
    },
    {
      "cell_type": "code",
      "source": [
        "dfGeospatial[\"BUILDING\"].unique()"
      ],
      "metadata": {
        "colab": {
          "base_uri": "https://localhost:8080/"
        },
        "id": "uDz6dL7dAQob",
        "outputId": "ba7f566e-f75e-4484-d630-8f7120f9bd4e"
      },
      "execution_count": null,
      "outputs": [
        {
          "output_type": "execute_result",
          "data": {
            "text/plain": [
              "array(['1019 Commonwealth', '110-112 Cummington', '111 Cummington',\n",
              "       '154 Bay State Road', '156 Bay State Road', '196 Bay State Road',\n",
              "       '2 Cummington', '25 Buick', '270 Bay State Road', '300 Babcock',\n",
              "       '33 Harry Agganis', '36 Cummington', '48 Cummington',\n",
              "       '5 Cummington', '517 Beacon', '565 Commonwealth', '64 Cummington',\n",
              "       '712 Beacon', '881 Commonwealth', '96 Cummington', 'Admissions',\n",
              "       'Booth', 'BUA', 'CAS', 'Case Center', 'CELOP', 'CFA', 'CGS',\n",
              "       'Claflin', 'COM', 'Danielson', 'EMA', 'ENG', 'Fitrec',\n",
              "       'Fuller Building', 'GRS', 'GSU', 'Hojo', 'Kilachand',\n",
              "       'Law Auditorium', 'Law', 'Linguistics', 'Marcom', 'Marsh',\n",
              "       'Metcalf', 'Mugar', 'Myles Annex', 'Myles Standish', 'Photonics',\n",
              "       'Questrom', 'Rich', 'Sargent', 'SHA', 'Sleeper', 'SSW', 'STH',\n",
              "       'Stone', 'Towers', 'Tsai', 'TTC', 'Warren', 'Wheelock', 'Yawkey'],\n",
              "      dtype=object)"
            ]
          },
          "metadata": {},
          "execution_count": 14
        }
      ]
    },
    {
      "cell_type": "code",
      "source": [
        "dfInventory[\"Address\"].unique()"
      ],
      "metadata": {
        "colab": {
          "base_uri": "https://localhost:8080/"
        },
        "id": "583DF43fAZZV",
        "outputId": "ef85c2b1-c8c5-4882-dfb6-c141ce634200"
      },
      "execution_count": null,
      "outputs": [
        {
          "output_type": "execute_result",
          "data": {
            "text/plain": [
              "array(['100 Ashford St', '120 Ashford St', \"8 St. Mary's Street\",\n",
              "       '273 Babcock St', '275 Babcock St', '277 Babcock St',\n",
              "       '285 Babcock St', '300 Babcock St', '91 Bay State Road',\n",
              "       '100 Bay State Road', '140 Bay State Road', '156 Bay State Road',\n",
              "       '196 Bay State Road', '226 Bay State Road', '233 Bay State Road',\n",
              "       '264 Bay State Road', '270 Bay State Road', '512 Beacon St',\n",
              "       '517 Beacon St', '610 Beacon St', '25 Buick St',\n",
              "       '565 Commonwealth Ave', '575 Commonwealth Ave',\n",
              "       '590 Commonwealth Ave', '595 Commonwealth Ave', '2 Silber Way',\n",
              "       '610 Commonwealth Ave', '621 Commonwealth Ave',\n",
              "       '635 Commonwealth Ave', '640 Commonwealth Ave',\n",
              "       '675 Commonwealth Ave', '685 Commonwealth Ave',\n",
              "       '700 Commonwealth Ave', '705 Commonwealth Ave',\n",
              "       '725 Commonwealth Ave', '735 Commonwealth Ave',\n",
              "       '745 Commonwealth Ave', '750 Commonwealth Ave',\n",
              "       '765 Commonwealth Ave', '767 Commonwealth Ave',\n",
              "       '771 Commonwealth Ave', '775 Commonwealth Ave', '1 University Rd',\n",
              "       '808 Commonwealth Ave', '820 Commonwealth Ave',\n",
              "       '855 Commonwealth Ave', '871 Commonwealth Ave',\n",
              "       '881 Commonwealth Ave', '890 Commonwealth Ave',\n",
              "       '915 Commonwealth Ave', '925 Commonwealth Ave',\n",
              "       '928 Commonwealth Ave', '985 Commonwealth Ave',\n",
              "       '1019 Commonwealth Ave', '808 Commonwealth Ave ',\n",
              "       '2 Cummington Mall', '5 Cummington Mall', '24 Cummington Mall',\n",
              "       '36 Cummington Mall', '44 Cummington Mall', '48 Cummington Mall',\n",
              "       '64 Cummington Mall', '68 Cummington Mall', '96 Cummington Mall',\n",
              "       '111 Cummington Mall', '110-112 Cummington Mall',\n",
              "       '33 Harry Agganis Way', 'nan nan'], dtype=object)"
            ]
          },
          "metadata": {},
          "execution_count": 15
        }
      ]
    },
    {
      "cell_type": "code",
      "source": [
        "dfHighVolumeOne = dfHighVolume[dfHighVolume[\"Candidacy\"] == 4]\n",
        "dfHighVolumeTwo = dfHighVolume[dfHighVolume[\"Candidacy\"] == 3]\n",
        "dfHighVolumeOne.head(5)"
      ],
      "metadata": {
        "colab": {
          "base_uri": "https://localhost:8080/",
          "height": 310
        },
        "id": "J_Yz7bj6AfeS",
        "outputId": "fa4a665b-3554-4ac3-d88a-7ade89936348"
      },
      "execution_count": null,
      "outputs": [
        {
          "output_type": "execute_result",
          "data": {
            "text/plain": [
              "                                       Room_Name  \\\n",
              "3         College of Arts & Sciences Classrooms    \n",
              "5      College of General Studies Gilbane Lounge   \n",
              "6   College of General Studies Katzenberg Lounge   \n",
              "7  College of General Studies Sleeper Auditorium   \n",
              "8                    Dahod Family Alumni Center    \n",
              "\n",
              "                        Address  \\\n",
              "3   675-725 Commonwealth Avenue   \n",
              "5       871 Commonwealth Avenue   \n",
              "6       871 Commonwealth Avenue   \n",
              "7       871 Commonwealth Avenue   \n",
              "8            225 Bay State Road   \n",
              "\n",
              "                                               Notes  Candidacy Floor Number  \n",
              "3  There are a bunch already down the hallways; 4...          4            0  \n",
              "5                                  one on each floor          4            1  \n",
              "6                                                NaN          4            4  \n",
              "7                                                NaN          4            1  \n",
              "8  There's one in the space btw Castle and Admiss...          4            1  "
            ],
            "text/html": [
              "\n",
              "  <div id=\"df-e98774d7-d8e4-42bc-b59e-9896a08d4521\" class=\"colab-df-container\">\n",
              "    <div>\n",
              "<style scoped>\n",
              "    .dataframe tbody tr th:only-of-type {\n",
              "        vertical-align: middle;\n",
              "    }\n",
              "\n",
              "    .dataframe tbody tr th {\n",
              "        vertical-align: top;\n",
              "    }\n",
              "\n",
              "    .dataframe thead th {\n",
              "        text-align: right;\n",
              "    }\n",
              "</style>\n",
              "<table border=\"1\" class=\"dataframe\">\n",
              "  <thead>\n",
              "    <tr style=\"text-align: right;\">\n",
              "      <th></th>\n",
              "      <th>Room_Name</th>\n",
              "      <th>Address</th>\n",
              "      <th>Notes</th>\n",
              "      <th>Candidacy</th>\n",
              "      <th>Floor Number</th>\n",
              "    </tr>\n",
              "  </thead>\n",
              "  <tbody>\n",
              "    <tr>\n",
              "      <th>3</th>\n",
              "      <td>College of Arts &amp; Sciences Classrooms</td>\n",
              "      <td>675-725 Commonwealth Avenue</td>\n",
              "      <td>There are a bunch already down the hallways; 4...</td>\n",
              "      <td>4</td>\n",
              "      <td>0</td>\n",
              "    </tr>\n",
              "    <tr>\n",
              "      <th>5</th>\n",
              "      <td>College of General Studies Gilbane Lounge</td>\n",
              "      <td>871 Commonwealth Avenue</td>\n",
              "      <td>one on each floor</td>\n",
              "      <td>4</td>\n",
              "      <td>1</td>\n",
              "    </tr>\n",
              "    <tr>\n",
              "      <th>6</th>\n",
              "      <td>College of General Studies Katzenberg Lounge</td>\n",
              "      <td>871 Commonwealth Avenue</td>\n",
              "      <td>NaN</td>\n",
              "      <td>4</td>\n",
              "      <td>4</td>\n",
              "    </tr>\n",
              "    <tr>\n",
              "      <th>7</th>\n",
              "      <td>College of General Studies Sleeper Auditorium</td>\n",
              "      <td>871 Commonwealth Avenue</td>\n",
              "      <td>NaN</td>\n",
              "      <td>4</td>\n",
              "      <td>1</td>\n",
              "    </tr>\n",
              "    <tr>\n",
              "      <th>8</th>\n",
              "      <td>Dahod Family Alumni Center</td>\n",
              "      <td>225 Bay State Road</td>\n",
              "      <td>There's one in the space btw Castle and Admiss...</td>\n",
              "      <td>4</td>\n",
              "      <td>1</td>\n",
              "    </tr>\n",
              "  </tbody>\n",
              "</table>\n",
              "</div>\n",
              "    <div class=\"colab-df-buttons\">\n",
              "\n",
              "  <div class=\"colab-df-container\">\n",
              "    <button class=\"colab-df-convert\" onclick=\"convertToInteractive('df-e98774d7-d8e4-42bc-b59e-9896a08d4521')\"\n",
              "            title=\"Convert this dataframe to an interactive table.\"\n",
              "            style=\"display:none;\">\n",
              "\n",
              "  <svg xmlns=\"http://www.w3.org/2000/svg\" height=\"24px\" viewBox=\"0 -960 960 960\">\n",
              "    <path d=\"M120-120v-720h720v720H120Zm60-500h600v-160H180v160Zm220 220h160v-160H400v160Zm0 220h160v-160H400v160ZM180-400h160v-160H180v160Zm440 0h160v-160H620v160ZM180-180h160v-160H180v160Zm440 0h160v-160H620v160Z\"/>\n",
              "  </svg>\n",
              "    </button>\n",
              "\n",
              "  <style>\n",
              "    .colab-df-container {\n",
              "      display:flex;\n",
              "      gap: 12px;\n",
              "    }\n",
              "\n",
              "    .colab-df-convert {\n",
              "      background-color: #E8F0FE;\n",
              "      border: none;\n",
              "      border-radius: 50%;\n",
              "      cursor: pointer;\n",
              "      display: none;\n",
              "      fill: #1967D2;\n",
              "      height: 32px;\n",
              "      padding: 0 0 0 0;\n",
              "      width: 32px;\n",
              "    }\n",
              "\n",
              "    .colab-df-convert:hover {\n",
              "      background-color: #E2EBFA;\n",
              "      box-shadow: 0px 1px 2px rgba(60, 64, 67, 0.3), 0px 1px 3px 1px rgba(60, 64, 67, 0.15);\n",
              "      fill: #174EA6;\n",
              "    }\n",
              "\n",
              "    .colab-df-buttons div {\n",
              "      margin-bottom: 4px;\n",
              "    }\n",
              "\n",
              "    [theme=dark] .colab-df-convert {\n",
              "      background-color: #3B4455;\n",
              "      fill: #D2E3FC;\n",
              "    }\n",
              "\n",
              "    [theme=dark] .colab-df-convert:hover {\n",
              "      background-color: #434B5C;\n",
              "      box-shadow: 0px 1px 3px 1px rgba(0, 0, 0, 0.15);\n",
              "      filter: drop-shadow(0px 1px 2px rgba(0, 0, 0, 0.3));\n",
              "      fill: #FFFFFF;\n",
              "    }\n",
              "  </style>\n",
              "\n",
              "    <script>\n",
              "      const buttonEl =\n",
              "        document.querySelector('#df-e98774d7-d8e4-42bc-b59e-9896a08d4521 button.colab-df-convert');\n",
              "      buttonEl.style.display =\n",
              "        google.colab.kernel.accessAllowed ? 'block' : 'none';\n",
              "\n",
              "      async function convertToInteractive(key) {\n",
              "        const element = document.querySelector('#df-e98774d7-d8e4-42bc-b59e-9896a08d4521');\n",
              "        const dataTable =\n",
              "          await google.colab.kernel.invokeFunction('convertToInteractive',\n",
              "                                                    [key], {});\n",
              "        if (!dataTable) return;\n",
              "\n",
              "        const docLinkHtml = 'Like what you see? Visit the ' +\n",
              "          '<a target=\"_blank\" href=https://colab.research.google.com/notebooks/data_table.ipynb>data table notebook</a>'\n",
              "          + ' to learn more about interactive tables.';\n",
              "        element.innerHTML = '';\n",
              "        dataTable['output_type'] = 'display_data';\n",
              "        await google.colab.output.renderOutput(dataTable, element);\n",
              "        const docLink = document.createElement('div');\n",
              "        docLink.innerHTML = docLinkHtml;\n",
              "        element.appendChild(docLink);\n",
              "      }\n",
              "    </script>\n",
              "  </div>\n",
              "\n",
              "\n",
              "<div id=\"df-b18c7c31-f207-4b57-a5f9-99b47d2b8f3c\">\n",
              "  <button class=\"colab-df-quickchart\" onclick=\"quickchart('df-b18c7c31-f207-4b57-a5f9-99b47d2b8f3c')\"\n",
              "            title=\"Suggest charts\"\n",
              "            style=\"display:none;\">\n",
              "\n",
              "<svg xmlns=\"http://www.w3.org/2000/svg\" height=\"24px\"viewBox=\"0 0 24 24\"\n",
              "     width=\"24px\">\n",
              "    <g>\n",
              "        <path d=\"M19 3H5c-1.1 0-2 .9-2 2v14c0 1.1.9 2 2 2h14c1.1 0 2-.9 2-2V5c0-1.1-.9-2-2-2zM9 17H7v-7h2v7zm4 0h-2V7h2v10zm4 0h-2v-4h2v4z\"/>\n",
              "    </g>\n",
              "</svg>\n",
              "  </button>\n",
              "\n",
              "<style>\n",
              "  .colab-df-quickchart {\n",
              "      --bg-color: #E8F0FE;\n",
              "      --fill-color: #1967D2;\n",
              "      --hover-bg-color: #E2EBFA;\n",
              "      --hover-fill-color: #174EA6;\n",
              "      --disabled-fill-color: #AAA;\n",
              "      --disabled-bg-color: #DDD;\n",
              "  }\n",
              "\n",
              "  [theme=dark] .colab-df-quickchart {\n",
              "      --bg-color: #3B4455;\n",
              "      --fill-color: #D2E3FC;\n",
              "      --hover-bg-color: #434B5C;\n",
              "      --hover-fill-color: #FFFFFF;\n",
              "      --disabled-bg-color: #3B4455;\n",
              "      --disabled-fill-color: #666;\n",
              "  }\n",
              "\n",
              "  .colab-df-quickchart {\n",
              "    background-color: var(--bg-color);\n",
              "    border: none;\n",
              "    border-radius: 50%;\n",
              "    cursor: pointer;\n",
              "    display: none;\n",
              "    fill: var(--fill-color);\n",
              "    height: 32px;\n",
              "    padding: 0;\n",
              "    width: 32px;\n",
              "  }\n",
              "\n",
              "  .colab-df-quickchart:hover {\n",
              "    background-color: var(--hover-bg-color);\n",
              "    box-shadow: 0 1px 2px rgba(60, 64, 67, 0.3), 0 1px 3px 1px rgba(60, 64, 67, 0.15);\n",
              "    fill: var(--button-hover-fill-color);\n",
              "  }\n",
              "\n",
              "  .colab-df-quickchart-complete:disabled,\n",
              "  .colab-df-quickchart-complete:disabled:hover {\n",
              "    background-color: var(--disabled-bg-color);\n",
              "    fill: var(--disabled-fill-color);\n",
              "    box-shadow: none;\n",
              "  }\n",
              "\n",
              "  .colab-df-spinner {\n",
              "    border: 2px solid var(--fill-color);\n",
              "    border-color: transparent;\n",
              "    border-bottom-color: var(--fill-color);\n",
              "    animation:\n",
              "      spin 1s steps(1) infinite;\n",
              "  }\n",
              "\n",
              "  @keyframes spin {\n",
              "    0% {\n",
              "      border-color: transparent;\n",
              "      border-bottom-color: var(--fill-color);\n",
              "      border-left-color: var(--fill-color);\n",
              "    }\n",
              "    20% {\n",
              "      border-color: transparent;\n",
              "      border-left-color: var(--fill-color);\n",
              "      border-top-color: var(--fill-color);\n",
              "    }\n",
              "    30% {\n",
              "      border-color: transparent;\n",
              "      border-left-color: var(--fill-color);\n",
              "      border-top-color: var(--fill-color);\n",
              "      border-right-color: var(--fill-color);\n",
              "    }\n",
              "    40% {\n",
              "      border-color: transparent;\n",
              "      border-right-color: var(--fill-color);\n",
              "      border-top-color: var(--fill-color);\n",
              "    }\n",
              "    60% {\n",
              "      border-color: transparent;\n",
              "      border-right-color: var(--fill-color);\n",
              "    }\n",
              "    80% {\n",
              "      border-color: transparent;\n",
              "      border-right-color: var(--fill-color);\n",
              "      border-bottom-color: var(--fill-color);\n",
              "    }\n",
              "    90% {\n",
              "      border-color: transparent;\n",
              "      border-bottom-color: var(--fill-color);\n",
              "    }\n",
              "  }\n",
              "</style>\n",
              "\n",
              "  <script>\n",
              "    async function quickchart(key) {\n",
              "      const quickchartButtonEl =\n",
              "        document.querySelector('#' + key + ' button');\n",
              "      quickchartButtonEl.disabled = true;  // To prevent multiple clicks.\n",
              "      quickchartButtonEl.classList.add('colab-df-spinner');\n",
              "      try {\n",
              "        const charts = await google.colab.kernel.invokeFunction(\n",
              "            'suggestCharts', [key], {});\n",
              "      } catch (error) {\n",
              "        console.error('Error during call to suggestCharts:', error);\n",
              "      }\n",
              "      quickchartButtonEl.classList.remove('colab-df-spinner');\n",
              "      quickchartButtonEl.classList.add('colab-df-quickchart-complete');\n",
              "    }\n",
              "    (() => {\n",
              "      let quickchartButtonEl =\n",
              "        document.querySelector('#df-b18c7c31-f207-4b57-a5f9-99b47d2b8f3c button');\n",
              "      quickchartButtonEl.style.display =\n",
              "        google.colab.kernel.accessAllowed ? 'block' : 'none';\n",
              "    })();\n",
              "  </script>\n",
              "</div>\n",
              "\n",
              "    </div>\n",
              "  </div>\n"
            ],
            "application/vnd.google.colaboratory.intrinsic+json": {
              "type": "dataframe",
              "variable_name": "dfHighVolumeOne",
              "summary": "{\n  \"name\": \"dfHighVolumeOne\",\n  \"rows\": 8,\n  \"fields\": [\n    {\n      \"column\": \"Room_Name\",\n      \"properties\": {\n        \"dtype\": \"string\",\n        \"num_unique_values\": 8,\n        \"samples\": [\n          \"College of General Studies Gilbane Lounge\",\n          \"George Sherman Union Alley\",\n          \"College of Arts & Sciences Classrooms \"\n        ],\n        \"semantic_type\": \"\",\n        \"description\": \"\"\n      }\n    },\n    {\n      \"column\": \"Address\",\n      \"properties\": {\n        \"dtype\": \"string\",\n        \"num_unique_values\": 6,\n        \"samples\": [\n          \" 675-725 Commonwealth Avenue\",\n          \" 871 Commonwealth Avenue\",\n          \" 685 Commonwealth Avenue\"\n        ],\n        \"semantic_type\": \"\",\n        \"description\": \"\"\n      }\n    },\n    {\n      \"column\": \"Notes\",\n      \"properties\": {\n        \"dtype\": \"string\",\n        \"num_unique_values\": 5,\n        \"samples\": [\n          \"one on each floor\",\n          \"any catered events would take place in the lobby/corridor.\",\n          \"There's one in the space btw Castle and Admissions; all catered events; a bottle filler isn't right for this space; bathrooms are near elevator so this is appropriate for the existing filler; very few events would have plastic; most events are receptions/dinners with china service\"\n        ],\n        \"semantic_type\": \"\",\n        \"description\": \"\"\n      }\n    },\n    {\n      \"column\": \"Candidacy\",\n      \"properties\": {\n        \"dtype\": \"number\",\n        \"std\": 0,\n        \"min\": 4,\n        \"max\": 4,\n        \"num_unique_values\": 1,\n        \"samples\": [\n          4\n        ],\n        \"semantic_type\": \"\",\n        \"description\": \"\"\n      }\n    },\n    {\n      \"column\": \"Floor Number\",\n      \"properties\": {\n        \"dtype\": \"string\",\n        \"num_unique_values\": 4,\n        \"samples\": [\n          \"1\"\n        ],\n        \"semantic_type\": \"\",\n        \"description\": \"\"\n      }\n    }\n  ]\n}"
            }
          },
          "metadata": {},
          "execution_count": 16
        }
      ]
    },
    {
      "cell_type": "code",
      "source": [
        "dfHighVolumeTwo.head(5)"
      ],
      "metadata": {
        "colab": {
          "base_uri": "https://localhost:8080/",
          "height": 164
        },
        "id": "mh1ZOUosA-uN",
        "outputId": "1c4ea9f4-a43d-43e1-8929-1096c8392f9f"
      },
      "execution_count": null,
      "outputs": [
        {
          "output_type": "execute_result",
          "data": {
            "text/plain": [
              "                                            Room_Name  \\\n",
              "11                  George Sherman Union Metcalf Hall   \n",
              "15  Kilachand Center Eichenbaum Colloquium Room an...   \n",
              "\n",
              "                     Address  \\\n",
              "11   775 Commonwealth Avenue   \n",
              "15   610 Commonwealth Avenue   \n",
              "\n",
              "                                                Notes  Candidacy Floor Number  \n",
              "11  There are 3 on the second floor, just not in t...          3            2  \n",
              "15  there's one in the hallway; a bottle filler in...          3            1  "
            ],
            "text/html": [
              "\n",
              "  <div id=\"df-6ca39e94-4110-4545-be1e-6a639be0de1f\" class=\"colab-df-container\">\n",
              "    <div>\n",
              "<style scoped>\n",
              "    .dataframe tbody tr th:only-of-type {\n",
              "        vertical-align: middle;\n",
              "    }\n",
              "\n",
              "    .dataframe tbody tr th {\n",
              "        vertical-align: top;\n",
              "    }\n",
              "\n",
              "    .dataframe thead th {\n",
              "        text-align: right;\n",
              "    }\n",
              "</style>\n",
              "<table border=\"1\" class=\"dataframe\">\n",
              "  <thead>\n",
              "    <tr style=\"text-align: right;\">\n",
              "      <th></th>\n",
              "      <th>Room_Name</th>\n",
              "      <th>Address</th>\n",
              "      <th>Notes</th>\n",
              "      <th>Candidacy</th>\n",
              "      <th>Floor Number</th>\n",
              "    </tr>\n",
              "  </thead>\n",
              "  <tbody>\n",
              "    <tr>\n",
              "      <th>11</th>\n",
              "      <td>George Sherman Union Metcalf Hall</td>\n",
              "      <td>775 Commonwealth Avenue</td>\n",
              "      <td>There are 3 on the second floor, just not in t...</td>\n",
              "      <td>3</td>\n",
              "      <td>2</td>\n",
              "    </tr>\n",
              "    <tr>\n",
              "      <th>15</th>\n",
              "      <td>Kilachand Center Eichenbaum Colloquium Room an...</td>\n",
              "      <td>610 Commonwealth Avenue</td>\n",
              "      <td>there's one in the hallway; a bottle filler in...</td>\n",
              "      <td>3</td>\n",
              "      <td>1</td>\n",
              "    </tr>\n",
              "  </tbody>\n",
              "</table>\n",
              "</div>\n",
              "    <div class=\"colab-df-buttons\">\n",
              "\n",
              "  <div class=\"colab-df-container\">\n",
              "    <button class=\"colab-df-convert\" onclick=\"convertToInteractive('df-6ca39e94-4110-4545-be1e-6a639be0de1f')\"\n",
              "            title=\"Convert this dataframe to an interactive table.\"\n",
              "            style=\"display:none;\">\n",
              "\n",
              "  <svg xmlns=\"http://www.w3.org/2000/svg\" height=\"24px\" viewBox=\"0 -960 960 960\">\n",
              "    <path d=\"M120-120v-720h720v720H120Zm60-500h600v-160H180v160Zm220 220h160v-160H400v160Zm0 220h160v-160H400v160ZM180-400h160v-160H180v160Zm440 0h160v-160H620v160ZM180-180h160v-160H180v160Zm440 0h160v-160H620v160Z\"/>\n",
              "  </svg>\n",
              "    </button>\n",
              "\n",
              "  <style>\n",
              "    .colab-df-container {\n",
              "      display:flex;\n",
              "      gap: 12px;\n",
              "    }\n",
              "\n",
              "    .colab-df-convert {\n",
              "      background-color: #E8F0FE;\n",
              "      border: none;\n",
              "      border-radius: 50%;\n",
              "      cursor: pointer;\n",
              "      display: none;\n",
              "      fill: #1967D2;\n",
              "      height: 32px;\n",
              "      padding: 0 0 0 0;\n",
              "      width: 32px;\n",
              "    }\n",
              "\n",
              "    .colab-df-convert:hover {\n",
              "      background-color: #E2EBFA;\n",
              "      box-shadow: 0px 1px 2px rgba(60, 64, 67, 0.3), 0px 1px 3px 1px rgba(60, 64, 67, 0.15);\n",
              "      fill: #174EA6;\n",
              "    }\n",
              "\n",
              "    .colab-df-buttons div {\n",
              "      margin-bottom: 4px;\n",
              "    }\n",
              "\n",
              "    [theme=dark] .colab-df-convert {\n",
              "      background-color: #3B4455;\n",
              "      fill: #D2E3FC;\n",
              "    }\n",
              "\n",
              "    [theme=dark] .colab-df-convert:hover {\n",
              "      background-color: #434B5C;\n",
              "      box-shadow: 0px 1px 3px 1px rgba(0, 0, 0, 0.15);\n",
              "      filter: drop-shadow(0px 1px 2px rgba(0, 0, 0, 0.3));\n",
              "      fill: #FFFFFF;\n",
              "    }\n",
              "  </style>\n",
              "\n",
              "    <script>\n",
              "      const buttonEl =\n",
              "        document.querySelector('#df-6ca39e94-4110-4545-be1e-6a639be0de1f button.colab-df-convert');\n",
              "      buttonEl.style.display =\n",
              "        google.colab.kernel.accessAllowed ? 'block' : 'none';\n",
              "\n",
              "      async function convertToInteractive(key) {\n",
              "        const element = document.querySelector('#df-6ca39e94-4110-4545-be1e-6a639be0de1f');\n",
              "        const dataTable =\n",
              "          await google.colab.kernel.invokeFunction('convertToInteractive',\n",
              "                                                    [key], {});\n",
              "        if (!dataTable) return;\n",
              "\n",
              "        const docLinkHtml = 'Like what you see? Visit the ' +\n",
              "          '<a target=\"_blank\" href=https://colab.research.google.com/notebooks/data_table.ipynb>data table notebook</a>'\n",
              "          + ' to learn more about interactive tables.';\n",
              "        element.innerHTML = '';\n",
              "        dataTable['output_type'] = 'display_data';\n",
              "        await google.colab.output.renderOutput(dataTable, element);\n",
              "        const docLink = document.createElement('div');\n",
              "        docLink.innerHTML = docLinkHtml;\n",
              "        element.appendChild(docLink);\n",
              "      }\n",
              "    </script>\n",
              "  </div>\n",
              "\n",
              "\n",
              "<div id=\"df-3e9e4353-9f7f-45d0-92f7-9be7e58d858a\">\n",
              "  <button class=\"colab-df-quickchart\" onclick=\"quickchart('df-3e9e4353-9f7f-45d0-92f7-9be7e58d858a')\"\n",
              "            title=\"Suggest charts\"\n",
              "            style=\"display:none;\">\n",
              "\n",
              "<svg xmlns=\"http://www.w3.org/2000/svg\" height=\"24px\"viewBox=\"0 0 24 24\"\n",
              "     width=\"24px\">\n",
              "    <g>\n",
              "        <path d=\"M19 3H5c-1.1 0-2 .9-2 2v14c0 1.1.9 2 2 2h14c1.1 0 2-.9 2-2V5c0-1.1-.9-2-2-2zM9 17H7v-7h2v7zm4 0h-2V7h2v10zm4 0h-2v-4h2v4z\"/>\n",
              "    </g>\n",
              "</svg>\n",
              "  </button>\n",
              "\n",
              "<style>\n",
              "  .colab-df-quickchart {\n",
              "      --bg-color: #E8F0FE;\n",
              "      --fill-color: #1967D2;\n",
              "      --hover-bg-color: #E2EBFA;\n",
              "      --hover-fill-color: #174EA6;\n",
              "      --disabled-fill-color: #AAA;\n",
              "      --disabled-bg-color: #DDD;\n",
              "  }\n",
              "\n",
              "  [theme=dark] .colab-df-quickchart {\n",
              "      --bg-color: #3B4455;\n",
              "      --fill-color: #D2E3FC;\n",
              "      --hover-bg-color: #434B5C;\n",
              "      --hover-fill-color: #FFFFFF;\n",
              "      --disabled-bg-color: #3B4455;\n",
              "      --disabled-fill-color: #666;\n",
              "  }\n",
              "\n",
              "  .colab-df-quickchart {\n",
              "    background-color: var(--bg-color);\n",
              "    border: none;\n",
              "    border-radius: 50%;\n",
              "    cursor: pointer;\n",
              "    display: none;\n",
              "    fill: var(--fill-color);\n",
              "    height: 32px;\n",
              "    padding: 0;\n",
              "    width: 32px;\n",
              "  }\n",
              "\n",
              "  .colab-df-quickchart:hover {\n",
              "    background-color: var(--hover-bg-color);\n",
              "    box-shadow: 0 1px 2px rgba(60, 64, 67, 0.3), 0 1px 3px 1px rgba(60, 64, 67, 0.15);\n",
              "    fill: var(--button-hover-fill-color);\n",
              "  }\n",
              "\n",
              "  .colab-df-quickchart-complete:disabled,\n",
              "  .colab-df-quickchart-complete:disabled:hover {\n",
              "    background-color: var(--disabled-bg-color);\n",
              "    fill: var(--disabled-fill-color);\n",
              "    box-shadow: none;\n",
              "  }\n",
              "\n",
              "  .colab-df-spinner {\n",
              "    border: 2px solid var(--fill-color);\n",
              "    border-color: transparent;\n",
              "    border-bottom-color: var(--fill-color);\n",
              "    animation:\n",
              "      spin 1s steps(1) infinite;\n",
              "  }\n",
              "\n",
              "  @keyframes spin {\n",
              "    0% {\n",
              "      border-color: transparent;\n",
              "      border-bottom-color: var(--fill-color);\n",
              "      border-left-color: var(--fill-color);\n",
              "    }\n",
              "    20% {\n",
              "      border-color: transparent;\n",
              "      border-left-color: var(--fill-color);\n",
              "      border-top-color: var(--fill-color);\n",
              "    }\n",
              "    30% {\n",
              "      border-color: transparent;\n",
              "      border-left-color: var(--fill-color);\n",
              "      border-top-color: var(--fill-color);\n",
              "      border-right-color: var(--fill-color);\n",
              "    }\n",
              "    40% {\n",
              "      border-color: transparent;\n",
              "      border-right-color: var(--fill-color);\n",
              "      border-top-color: var(--fill-color);\n",
              "    }\n",
              "    60% {\n",
              "      border-color: transparent;\n",
              "      border-right-color: var(--fill-color);\n",
              "    }\n",
              "    80% {\n",
              "      border-color: transparent;\n",
              "      border-right-color: var(--fill-color);\n",
              "      border-bottom-color: var(--fill-color);\n",
              "    }\n",
              "    90% {\n",
              "      border-color: transparent;\n",
              "      border-bottom-color: var(--fill-color);\n",
              "    }\n",
              "  }\n",
              "</style>\n",
              "\n",
              "  <script>\n",
              "    async function quickchart(key) {\n",
              "      const quickchartButtonEl =\n",
              "        document.querySelector('#' + key + ' button');\n",
              "      quickchartButtonEl.disabled = true;  // To prevent multiple clicks.\n",
              "      quickchartButtonEl.classList.add('colab-df-spinner');\n",
              "      try {\n",
              "        const charts = await google.colab.kernel.invokeFunction(\n",
              "            'suggestCharts', [key], {});\n",
              "      } catch (error) {\n",
              "        console.error('Error during call to suggestCharts:', error);\n",
              "      }\n",
              "      quickchartButtonEl.classList.remove('colab-df-spinner');\n",
              "      quickchartButtonEl.classList.add('colab-df-quickchart-complete');\n",
              "    }\n",
              "    (() => {\n",
              "      let quickchartButtonEl =\n",
              "        document.querySelector('#df-3e9e4353-9f7f-45d0-92f7-9be7e58d858a button');\n",
              "      quickchartButtonEl.style.display =\n",
              "        google.colab.kernel.accessAllowed ? 'block' : 'none';\n",
              "    })();\n",
              "  </script>\n",
              "</div>\n",
              "\n",
              "    </div>\n",
              "  </div>\n"
            ],
            "application/vnd.google.colaboratory.intrinsic+json": {
              "type": "dataframe",
              "variable_name": "dfHighVolumeTwo",
              "summary": "{\n  \"name\": \"dfHighVolumeTwo\",\n  \"rows\": 2,\n  \"fields\": [\n    {\n      \"column\": \"Room_Name\",\n      \"properties\": {\n        \"dtype\": \"string\",\n        \"num_unique_values\": 2,\n        \"samples\": [\n          \"Kilachand Center Eichenbaum Colloquium Room and Atrium \",\n          \"George Sherman Union Metcalf Hall\"\n        ],\n        \"semantic_type\": \"\",\n        \"description\": \"\"\n      }\n    },\n    {\n      \"column\": \"Address\",\n      \"properties\": {\n        \"dtype\": \"string\",\n        \"num_unique_values\": 2,\n        \"samples\": [\n          \" 610 Commonwealth Avenue\",\n          \" 775 Commonwealth Avenue\"\n        ],\n        \"semantic_type\": \"\",\n        \"description\": \"\"\n      }\n    },\n    {\n      \"column\": \"Notes\",\n      \"properties\": {\n        \"dtype\": \"string\",\n        \"num_unique_values\": 2,\n        \"samples\": [\n          \"there's one in the hallway; a bottle filler in the room is not appropriate; does the interior fourth wall have plumbing? doubtful. possibly the only option is for catering to provide bulk water service. not big enough to do plumbed spigots.\",\n          \"There are 3 on the second floor, just not in the ballrooms; a bottle filler isn't the right solution here; there should be a special bulk option, perhaps with a couple spigots to 'plug into'\"\n        ],\n        \"semantic_type\": \"\",\n        \"description\": \"\"\n      }\n    },\n    {\n      \"column\": \"Candidacy\",\n      \"properties\": {\n        \"dtype\": \"number\",\n        \"std\": 0,\n        \"min\": 3,\n        \"max\": 3,\n        \"num_unique_values\": 1,\n        \"samples\": [\n          3\n        ],\n        \"semantic_type\": \"\",\n        \"description\": \"\"\n      }\n    },\n    {\n      \"column\": \"Floor Number\",\n      \"properties\": {\n        \"dtype\": \"string\",\n        \"num_unique_values\": 2,\n        \"samples\": [\n          \"1\"\n        ],\n        \"semantic_type\": \"\",\n        \"description\": \"\"\n      }\n    }\n  ]\n}"
            }
          },
          "metadata": {},
          "execution_count": 17
        }
      ]
    },
    {
      "cell_type": "code",
      "source": [
        "dfHighVolumeOne[\"Address\"].unique()"
      ],
      "metadata": {
        "colab": {
          "base_uri": "https://localhost:8080/"
        },
        "id": "xCFeLLZkCCiM",
        "outputId": "cb75c8a1-1ac2-4d70-e2e7-840a01ef5985"
      },
      "execution_count": null,
      "outputs": [
        {
          "output_type": "execute_result",
          "data": {
            "text/plain": [
              "array([' 675-725 Commonwealth Avenue', ' 871 Commonwealth Avenue',\n",
              "       ' 225 Bay State Road', ' 775 Commonwealth Avenue',\n",
              "       ' 33 Agganis Way', ' 685 Commonwealth Avenue'], dtype=object)"
            ]
          },
          "metadata": {},
          "execution_count": 18
        }
      ]
    },
    {
      "cell_type": "code",
      "source": [
        "dfHighVolumeTwo[\"Address\"].unique()"
      ],
      "metadata": {
        "colab": {
          "base_uri": "https://localhost:8080/"
        },
        "id": "MKGzaBmqCG2h",
        "outputId": "d77c59c9-a329-4f4b-efc0-2fe54b95f875"
      },
      "execution_count": null,
      "outputs": [
        {
          "output_type": "execute_result",
          "data": {
            "text/plain": [
              "array([' 775 Commonwealth Avenue', ' 610 Commonwealth Avenue'],\n",
              "      dtype=object)"
            ]
          },
          "metadata": {},
          "execution_count": 19
        }
      ]
    },
    {
      "cell_type": "code",
      "source": [
        "dfWifi = pd.read_csv(\"updated_wifi.csv\")\n",
        "dfWifi.head(5)"
      ],
      "metadata": {
        "id": "6aJ41SMGADVT",
        "colab": {
          "base_uri": "https://localhost:8080/",
          "height": 206
        },
        "outputId": "6c48c2f6-1f25-4acb-e5e2-854c1616874c"
      },
      "execution_count": null,
      "outputs": [
        {
          "output_type": "execute_result",
          "data": {
            "text/plain": [
              "         date  hour building_floor           building_desc building_type  \\\n",
              "0  2021-03-31     1              4      209 BAY STATE ROAD   Residential   \n",
              "1  2021-03-31     1              2  200-202 BAY STATE ROAD   Residential   \n",
              "2  2021-03-31     1              2      184 BAY STATE ROAD   Residential   \n",
              "3  2021-03-31     1              3      190 BAY STATE ROAD   Residential   \n",
              "4  2021-03-31     1              3      161 BAY STATE ROAD   Residential   \n",
              "\n",
              "   density_cnt  capacity  dc_ratio  \n",
              "0            1         8      0.13  \n",
              "1            1        12      0.08  \n",
              "2            1         6      0.17  \n",
              "3            1         9      0.11  \n",
              "4            1         5      0.20  "
            ],
            "text/html": [
              "\n",
              "  <div id=\"df-51528b6d-94f4-4baf-88c5-5676070e0955\" class=\"colab-df-container\">\n",
              "    <div>\n",
              "<style scoped>\n",
              "    .dataframe tbody tr th:only-of-type {\n",
              "        vertical-align: middle;\n",
              "    }\n",
              "\n",
              "    .dataframe tbody tr th {\n",
              "        vertical-align: top;\n",
              "    }\n",
              "\n",
              "    .dataframe thead th {\n",
              "        text-align: right;\n",
              "    }\n",
              "</style>\n",
              "<table border=\"1\" class=\"dataframe\">\n",
              "  <thead>\n",
              "    <tr style=\"text-align: right;\">\n",
              "      <th></th>\n",
              "      <th>date</th>\n",
              "      <th>hour</th>\n",
              "      <th>building_floor</th>\n",
              "      <th>building_desc</th>\n",
              "      <th>building_type</th>\n",
              "      <th>density_cnt</th>\n",
              "      <th>capacity</th>\n",
              "      <th>dc_ratio</th>\n",
              "    </tr>\n",
              "  </thead>\n",
              "  <tbody>\n",
              "    <tr>\n",
              "      <th>0</th>\n",
              "      <td>2021-03-31</td>\n",
              "      <td>1</td>\n",
              "      <td>4</td>\n",
              "      <td>209 BAY STATE ROAD</td>\n",
              "      <td>Residential</td>\n",
              "      <td>1</td>\n",
              "      <td>8</td>\n",
              "      <td>0.13</td>\n",
              "    </tr>\n",
              "    <tr>\n",
              "      <th>1</th>\n",
              "      <td>2021-03-31</td>\n",
              "      <td>1</td>\n",
              "      <td>2</td>\n",
              "      <td>200-202 BAY STATE ROAD</td>\n",
              "      <td>Residential</td>\n",
              "      <td>1</td>\n",
              "      <td>12</td>\n",
              "      <td>0.08</td>\n",
              "    </tr>\n",
              "    <tr>\n",
              "      <th>2</th>\n",
              "      <td>2021-03-31</td>\n",
              "      <td>1</td>\n",
              "      <td>2</td>\n",
              "      <td>184 BAY STATE ROAD</td>\n",
              "      <td>Residential</td>\n",
              "      <td>1</td>\n",
              "      <td>6</td>\n",
              "      <td>0.17</td>\n",
              "    </tr>\n",
              "    <tr>\n",
              "      <th>3</th>\n",
              "      <td>2021-03-31</td>\n",
              "      <td>1</td>\n",
              "      <td>3</td>\n",
              "      <td>190 BAY STATE ROAD</td>\n",
              "      <td>Residential</td>\n",
              "      <td>1</td>\n",
              "      <td>9</td>\n",
              "      <td>0.11</td>\n",
              "    </tr>\n",
              "    <tr>\n",
              "      <th>4</th>\n",
              "      <td>2021-03-31</td>\n",
              "      <td>1</td>\n",
              "      <td>3</td>\n",
              "      <td>161 BAY STATE ROAD</td>\n",
              "      <td>Residential</td>\n",
              "      <td>1</td>\n",
              "      <td>5</td>\n",
              "      <td>0.20</td>\n",
              "    </tr>\n",
              "  </tbody>\n",
              "</table>\n",
              "</div>\n",
              "    <div class=\"colab-df-buttons\">\n",
              "\n",
              "  <div class=\"colab-df-container\">\n",
              "    <button class=\"colab-df-convert\" onclick=\"convertToInteractive('df-51528b6d-94f4-4baf-88c5-5676070e0955')\"\n",
              "            title=\"Convert this dataframe to an interactive table.\"\n",
              "            style=\"display:none;\">\n",
              "\n",
              "  <svg xmlns=\"http://www.w3.org/2000/svg\" height=\"24px\" viewBox=\"0 -960 960 960\">\n",
              "    <path d=\"M120-120v-720h720v720H120Zm60-500h600v-160H180v160Zm220 220h160v-160H400v160Zm0 220h160v-160H400v160ZM180-400h160v-160H180v160Zm440 0h160v-160H620v160ZM180-180h160v-160H180v160Zm440 0h160v-160H620v160Z\"/>\n",
              "  </svg>\n",
              "    </button>\n",
              "\n",
              "  <style>\n",
              "    .colab-df-container {\n",
              "      display:flex;\n",
              "      gap: 12px;\n",
              "    }\n",
              "\n",
              "    .colab-df-convert {\n",
              "      background-color: #E8F0FE;\n",
              "      border: none;\n",
              "      border-radius: 50%;\n",
              "      cursor: pointer;\n",
              "      display: none;\n",
              "      fill: #1967D2;\n",
              "      height: 32px;\n",
              "      padding: 0 0 0 0;\n",
              "      width: 32px;\n",
              "    }\n",
              "\n",
              "    .colab-df-convert:hover {\n",
              "      background-color: #E2EBFA;\n",
              "      box-shadow: 0px 1px 2px rgba(60, 64, 67, 0.3), 0px 1px 3px 1px rgba(60, 64, 67, 0.15);\n",
              "      fill: #174EA6;\n",
              "    }\n",
              "\n",
              "    .colab-df-buttons div {\n",
              "      margin-bottom: 4px;\n",
              "    }\n",
              "\n",
              "    [theme=dark] .colab-df-convert {\n",
              "      background-color: #3B4455;\n",
              "      fill: #D2E3FC;\n",
              "    }\n",
              "\n",
              "    [theme=dark] .colab-df-convert:hover {\n",
              "      background-color: #434B5C;\n",
              "      box-shadow: 0px 1px 3px 1px rgba(0, 0, 0, 0.15);\n",
              "      filter: drop-shadow(0px 1px 2px rgba(0, 0, 0, 0.3));\n",
              "      fill: #FFFFFF;\n",
              "    }\n",
              "  </style>\n",
              "\n",
              "    <script>\n",
              "      const buttonEl =\n",
              "        document.querySelector('#df-51528b6d-94f4-4baf-88c5-5676070e0955 button.colab-df-convert');\n",
              "      buttonEl.style.display =\n",
              "        google.colab.kernel.accessAllowed ? 'block' : 'none';\n",
              "\n",
              "      async function convertToInteractive(key) {\n",
              "        const element = document.querySelector('#df-51528b6d-94f4-4baf-88c5-5676070e0955');\n",
              "        const dataTable =\n",
              "          await google.colab.kernel.invokeFunction('convertToInteractive',\n",
              "                                                    [key], {});\n",
              "        if (!dataTable) return;\n",
              "\n",
              "        const docLinkHtml = 'Like what you see? Visit the ' +\n",
              "          '<a target=\"_blank\" href=https://colab.research.google.com/notebooks/data_table.ipynb>data table notebook</a>'\n",
              "          + ' to learn more about interactive tables.';\n",
              "        element.innerHTML = '';\n",
              "        dataTable['output_type'] = 'display_data';\n",
              "        await google.colab.output.renderOutput(dataTable, element);\n",
              "        const docLink = document.createElement('div');\n",
              "        docLink.innerHTML = docLinkHtml;\n",
              "        element.appendChild(docLink);\n",
              "      }\n",
              "    </script>\n",
              "  </div>\n",
              "\n",
              "\n",
              "<div id=\"df-9a26d800-aca4-4c0f-b4ea-32641650d818\">\n",
              "  <button class=\"colab-df-quickchart\" onclick=\"quickchart('df-9a26d800-aca4-4c0f-b4ea-32641650d818')\"\n",
              "            title=\"Suggest charts\"\n",
              "            style=\"display:none;\">\n",
              "\n",
              "<svg xmlns=\"http://www.w3.org/2000/svg\" height=\"24px\"viewBox=\"0 0 24 24\"\n",
              "     width=\"24px\">\n",
              "    <g>\n",
              "        <path d=\"M19 3H5c-1.1 0-2 .9-2 2v14c0 1.1.9 2 2 2h14c1.1 0 2-.9 2-2V5c0-1.1-.9-2-2-2zM9 17H7v-7h2v7zm4 0h-2V7h2v10zm4 0h-2v-4h2v4z\"/>\n",
              "    </g>\n",
              "</svg>\n",
              "  </button>\n",
              "\n",
              "<style>\n",
              "  .colab-df-quickchart {\n",
              "      --bg-color: #E8F0FE;\n",
              "      --fill-color: #1967D2;\n",
              "      --hover-bg-color: #E2EBFA;\n",
              "      --hover-fill-color: #174EA6;\n",
              "      --disabled-fill-color: #AAA;\n",
              "      --disabled-bg-color: #DDD;\n",
              "  }\n",
              "\n",
              "  [theme=dark] .colab-df-quickchart {\n",
              "      --bg-color: #3B4455;\n",
              "      --fill-color: #D2E3FC;\n",
              "      --hover-bg-color: #434B5C;\n",
              "      --hover-fill-color: #FFFFFF;\n",
              "      --disabled-bg-color: #3B4455;\n",
              "      --disabled-fill-color: #666;\n",
              "  }\n",
              "\n",
              "  .colab-df-quickchart {\n",
              "    background-color: var(--bg-color);\n",
              "    border: none;\n",
              "    border-radius: 50%;\n",
              "    cursor: pointer;\n",
              "    display: none;\n",
              "    fill: var(--fill-color);\n",
              "    height: 32px;\n",
              "    padding: 0;\n",
              "    width: 32px;\n",
              "  }\n",
              "\n",
              "  .colab-df-quickchart:hover {\n",
              "    background-color: var(--hover-bg-color);\n",
              "    box-shadow: 0 1px 2px rgba(60, 64, 67, 0.3), 0 1px 3px 1px rgba(60, 64, 67, 0.15);\n",
              "    fill: var(--button-hover-fill-color);\n",
              "  }\n",
              "\n",
              "  .colab-df-quickchart-complete:disabled,\n",
              "  .colab-df-quickchart-complete:disabled:hover {\n",
              "    background-color: var(--disabled-bg-color);\n",
              "    fill: var(--disabled-fill-color);\n",
              "    box-shadow: none;\n",
              "  }\n",
              "\n",
              "  .colab-df-spinner {\n",
              "    border: 2px solid var(--fill-color);\n",
              "    border-color: transparent;\n",
              "    border-bottom-color: var(--fill-color);\n",
              "    animation:\n",
              "      spin 1s steps(1) infinite;\n",
              "  }\n",
              "\n",
              "  @keyframes spin {\n",
              "    0% {\n",
              "      border-color: transparent;\n",
              "      border-bottom-color: var(--fill-color);\n",
              "      border-left-color: var(--fill-color);\n",
              "    }\n",
              "    20% {\n",
              "      border-color: transparent;\n",
              "      border-left-color: var(--fill-color);\n",
              "      border-top-color: var(--fill-color);\n",
              "    }\n",
              "    30% {\n",
              "      border-color: transparent;\n",
              "      border-left-color: var(--fill-color);\n",
              "      border-top-color: var(--fill-color);\n",
              "      border-right-color: var(--fill-color);\n",
              "    }\n",
              "    40% {\n",
              "      border-color: transparent;\n",
              "      border-right-color: var(--fill-color);\n",
              "      border-top-color: var(--fill-color);\n",
              "    }\n",
              "    60% {\n",
              "      border-color: transparent;\n",
              "      border-right-color: var(--fill-color);\n",
              "    }\n",
              "    80% {\n",
              "      border-color: transparent;\n",
              "      border-right-color: var(--fill-color);\n",
              "      border-bottom-color: var(--fill-color);\n",
              "    }\n",
              "    90% {\n",
              "      border-color: transparent;\n",
              "      border-bottom-color: var(--fill-color);\n",
              "    }\n",
              "  }\n",
              "</style>\n",
              "\n",
              "  <script>\n",
              "    async function quickchart(key) {\n",
              "      const quickchartButtonEl =\n",
              "        document.querySelector('#' + key + ' button');\n",
              "      quickchartButtonEl.disabled = true;  // To prevent multiple clicks.\n",
              "      quickchartButtonEl.classList.add('colab-df-spinner');\n",
              "      try {\n",
              "        const charts = await google.colab.kernel.invokeFunction(\n",
              "            'suggestCharts', [key], {});\n",
              "      } catch (error) {\n",
              "        console.error('Error during call to suggestCharts:', error);\n",
              "      }\n",
              "      quickchartButtonEl.classList.remove('colab-df-spinner');\n",
              "      quickchartButtonEl.classList.add('colab-df-quickchart-complete');\n",
              "    }\n",
              "    (() => {\n",
              "      let quickchartButtonEl =\n",
              "        document.querySelector('#df-9a26d800-aca4-4c0f-b4ea-32641650d818 button');\n",
              "      quickchartButtonEl.style.display =\n",
              "        google.colab.kernel.accessAllowed ? 'block' : 'none';\n",
              "    })();\n",
              "  </script>\n",
              "</div>\n",
              "\n",
              "    </div>\n",
              "  </div>\n"
            ],
            "application/vnd.google.colaboratory.intrinsic+json": {
              "type": "dataframe",
              "variable_name": "dfWifi"
            }
          },
          "metadata": {},
          "execution_count": 20
        }
      ]
    },
    {
      "cell_type": "code",
      "source": [
        "dfWifi = dfWifi[~dfWifi['hour'].isin([3, 4, 5, 6])]\n",
        "dfWifi.head(5)"
      ],
      "metadata": {
        "colab": {
          "base_uri": "https://localhost:8080/",
          "height": 206
        },
        "id": "HqwU0ypUE8uP",
        "outputId": "da5cd469-1867-41f1-f6ee-0f2afe56b03d"
      },
      "execution_count": null,
      "outputs": [
        {
          "output_type": "execute_result",
          "data": {
            "text/plain": [
              "         date  hour building_floor           building_desc building_type  \\\n",
              "0  2021-03-31     1              4      209 BAY STATE ROAD   Residential   \n",
              "1  2021-03-31     1              2  200-202 BAY STATE ROAD   Residential   \n",
              "2  2021-03-31     1              2      184 BAY STATE ROAD   Residential   \n",
              "3  2021-03-31     1              3      190 BAY STATE ROAD   Residential   \n",
              "4  2021-03-31     1              3      161 BAY STATE ROAD   Residential   \n",
              "\n",
              "   density_cnt  capacity  dc_ratio  \n",
              "0            1         8      0.13  \n",
              "1            1        12      0.08  \n",
              "2            1         6      0.17  \n",
              "3            1         9      0.11  \n",
              "4            1         5      0.20  "
            ],
            "text/html": [
              "\n",
              "  <div id=\"df-9d70f512-2856-4493-b71c-b9dc8930f935\" class=\"colab-df-container\">\n",
              "    <div>\n",
              "<style scoped>\n",
              "    .dataframe tbody tr th:only-of-type {\n",
              "        vertical-align: middle;\n",
              "    }\n",
              "\n",
              "    .dataframe tbody tr th {\n",
              "        vertical-align: top;\n",
              "    }\n",
              "\n",
              "    .dataframe thead th {\n",
              "        text-align: right;\n",
              "    }\n",
              "</style>\n",
              "<table border=\"1\" class=\"dataframe\">\n",
              "  <thead>\n",
              "    <tr style=\"text-align: right;\">\n",
              "      <th></th>\n",
              "      <th>date</th>\n",
              "      <th>hour</th>\n",
              "      <th>building_floor</th>\n",
              "      <th>building_desc</th>\n",
              "      <th>building_type</th>\n",
              "      <th>density_cnt</th>\n",
              "      <th>capacity</th>\n",
              "      <th>dc_ratio</th>\n",
              "    </tr>\n",
              "  </thead>\n",
              "  <tbody>\n",
              "    <tr>\n",
              "      <th>0</th>\n",
              "      <td>2021-03-31</td>\n",
              "      <td>1</td>\n",
              "      <td>4</td>\n",
              "      <td>209 BAY STATE ROAD</td>\n",
              "      <td>Residential</td>\n",
              "      <td>1</td>\n",
              "      <td>8</td>\n",
              "      <td>0.13</td>\n",
              "    </tr>\n",
              "    <tr>\n",
              "      <th>1</th>\n",
              "      <td>2021-03-31</td>\n",
              "      <td>1</td>\n",
              "      <td>2</td>\n",
              "      <td>200-202 BAY STATE ROAD</td>\n",
              "      <td>Residential</td>\n",
              "      <td>1</td>\n",
              "      <td>12</td>\n",
              "      <td>0.08</td>\n",
              "    </tr>\n",
              "    <tr>\n",
              "      <th>2</th>\n",
              "      <td>2021-03-31</td>\n",
              "      <td>1</td>\n",
              "      <td>2</td>\n",
              "      <td>184 BAY STATE ROAD</td>\n",
              "      <td>Residential</td>\n",
              "      <td>1</td>\n",
              "      <td>6</td>\n",
              "      <td>0.17</td>\n",
              "    </tr>\n",
              "    <tr>\n",
              "      <th>3</th>\n",
              "      <td>2021-03-31</td>\n",
              "      <td>1</td>\n",
              "      <td>3</td>\n",
              "      <td>190 BAY STATE ROAD</td>\n",
              "      <td>Residential</td>\n",
              "      <td>1</td>\n",
              "      <td>9</td>\n",
              "      <td>0.11</td>\n",
              "    </tr>\n",
              "    <tr>\n",
              "      <th>4</th>\n",
              "      <td>2021-03-31</td>\n",
              "      <td>1</td>\n",
              "      <td>3</td>\n",
              "      <td>161 BAY STATE ROAD</td>\n",
              "      <td>Residential</td>\n",
              "      <td>1</td>\n",
              "      <td>5</td>\n",
              "      <td>0.20</td>\n",
              "    </tr>\n",
              "  </tbody>\n",
              "</table>\n",
              "</div>\n",
              "    <div class=\"colab-df-buttons\">\n",
              "\n",
              "  <div class=\"colab-df-container\">\n",
              "    <button class=\"colab-df-convert\" onclick=\"convertToInteractive('df-9d70f512-2856-4493-b71c-b9dc8930f935')\"\n",
              "            title=\"Convert this dataframe to an interactive table.\"\n",
              "            style=\"display:none;\">\n",
              "\n",
              "  <svg xmlns=\"http://www.w3.org/2000/svg\" height=\"24px\" viewBox=\"0 -960 960 960\">\n",
              "    <path d=\"M120-120v-720h720v720H120Zm60-500h600v-160H180v160Zm220 220h160v-160H400v160Zm0 220h160v-160H400v160ZM180-400h160v-160H180v160Zm440 0h160v-160H620v160ZM180-180h160v-160H180v160Zm440 0h160v-160H620v160Z\"/>\n",
              "  </svg>\n",
              "    </button>\n",
              "\n",
              "  <style>\n",
              "    .colab-df-container {\n",
              "      display:flex;\n",
              "      gap: 12px;\n",
              "    }\n",
              "\n",
              "    .colab-df-convert {\n",
              "      background-color: #E8F0FE;\n",
              "      border: none;\n",
              "      border-radius: 50%;\n",
              "      cursor: pointer;\n",
              "      display: none;\n",
              "      fill: #1967D2;\n",
              "      height: 32px;\n",
              "      padding: 0 0 0 0;\n",
              "      width: 32px;\n",
              "    }\n",
              "\n",
              "    .colab-df-convert:hover {\n",
              "      background-color: #E2EBFA;\n",
              "      box-shadow: 0px 1px 2px rgba(60, 64, 67, 0.3), 0px 1px 3px 1px rgba(60, 64, 67, 0.15);\n",
              "      fill: #174EA6;\n",
              "    }\n",
              "\n",
              "    .colab-df-buttons div {\n",
              "      margin-bottom: 4px;\n",
              "    }\n",
              "\n",
              "    [theme=dark] .colab-df-convert {\n",
              "      background-color: #3B4455;\n",
              "      fill: #D2E3FC;\n",
              "    }\n",
              "\n",
              "    [theme=dark] .colab-df-convert:hover {\n",
              "      background-color: #434B5C;\n",
              "      box-shadow: 0px 1px 3px 1px rgba(0, 0, 0, 0.15);\n",
              "      filter: drop-shadow(0px 1px 2px rgba(0, 0, 0, 0.3));\n",
              "      fill: #FFFFFF;\n",
              "    }\n",
              "  </style>\n",
              "\n",
              "    <script>\n",
              "      const buttonEl =\n",
              "        document.querySelector('#df-9d70f512-2856-4493-b71c-b9dc8930f935 button.colab-df-convert');\n",
              "      buttonEl.style.display =\n",
              "        google.colab.kernel.accessAllowed ? 'block' : 'none';\n",
              "\n",
              "      async function convertToInteractive(key) {\n",
              "        const element = document.querySelector('#df-9d70f512-2856-4493-b71c-b9dc8930f935');\n",
              "        const dataTable =\n",
              "          await google.colab.kernel.invokeFunction('convertToInteractive',\n",
              "                                                    [key], {});\n",
              "        if (!dataTable) return;\n",
              "\n",
              "        const docLinkHtml = 'Like what you see? Visit the ' +\n",
              "          '<a target=\"_blank\" href=https://colab.research.google.com/notebooks/data_table.ipynb>data table notebook</a>'\n",
              "          + ' to learn more about interactive tables.';\n",
              "        element.innerHTML = '';\n",
              "        dataTable['output_type'] = 'display_data';\n",
              "        await google.colab.output.renderOutput(dataTable, element);\n",
              "        const docLink = document.createElement('div');\n",
              "        docLink.innerHTML = docLinkHtml;\n",
              "        element.appendChild(docLink);\n",
              "      }\n",
              "    </script>\n",
              "  </div>\n",
              "\n",
              "\n",
              "<div id=\"df-86b95fc1-eed9-495c-9d63-4dce55b6fd04\">\n",
              "  <button class=\"colab-df-quickchart\" onclick=\"quickchart('df-86b95fc1-eed9-495c-9d63-4dce55b6fd04')\"\n",
              "            title=\"Suggest charts\"\n",
              "            style=\"display:none;\">\n",
              "\n",
              "<svg xmlns=\"http://www.w3.org/2000/svg\" height=\"24px\"viewBox=\"0 0 24 24\"\n",
              "     width=\"24px\">\n",
              "    <g>\n",
              "        <path d=\"M19 3H5c-1.1 0-2 .9-2 2v14c0 1.1.9 2 2 2h14c1.1 0 2-.9 2-2V5c0-1.1-.9-2-2-2zM9 17H7v-7h2v7zm4 0h-2V7h2v10zm4 0h-2v-4h2v4z\"/>\n",
              "    </g>\n",
              "</svg>\n",
              "  </button>\n",
              "\n",
              "<style>\n",
              "  .colab-df-quickchart {\n",
              "      --bg-color: #E8F0FE;\n",
              "      --fill-color: #1967D2;\n",
              "      --hover-bg-color: #E2EBFA;\n",
              "      --hover-fill-color: #174EA6;\n",
              "      --disabled-fill-color: #AAA;\n",
              "      --disabled-bg-color: #DDD;\n",
              "  }\n",
              "\n",
              "  [theme=dark] .colab-df-quickchart {\n",
              "      --bg-color: #3B4455;\n",
              "      --fill-color: #D2E3FC;\n",
              "      --hover-bg-color: #434B5C;\n",
              "      --hover-fill-color: #FFFFFF;\n",
              "      --disabled-bg-color: #3B4455;\n",
              "      --disabled-fill-color: #666;\n",
              "  }\n",
              "\n",
              "  .colab-df-quickchart {\n",
              "    background-color: var(--bg-color);\n",
              "    border: none;\n",
              "    border-radius: 50%;\n",
              "    cursor: pointer;\n",
              "    display: none;\n",
              "    fill: var(--fill-color);\n",
              "    height: 32px;\n",
              "    padding: 0;\n",
              "    width: 32px;\n",
              "  }\n",
              "\n",
              "  .colab-df-quickchart:hover {\n",
              "    background-color: var(--hover-bg-color);\n",
              "    box-shadow: 0 1px 2px rgba(60, 64, 67, 0.3), 0 1px 3px 1px rgba(60, 64, 67, 0.15);\n",
              "    fill: var(--button-hover-fill-color);\n",
              "  }\n",
              "\n",
              "  .colab-df-quickchart-complete:disabled,\n",
              "  .colab-df-quickchart-complete:disabled:hover {\n",
              "    background-color: var(--disabled-bg-color);\n",
              "    fill: var(--disabled-fill-color);\n",
              "    box-shadow: none;\n",
              "  }\n",
              "\n",
              "  .colab-df-spinner {\n",
              "    border: 2px solid var(--fill-color);\n",
              "    border-color: transparent;\n",
              "    border-bottom-color: var(--fill-color);\n",
              "    animation:\n",
              "      spin 1s steps(1) infinite;\n",
              "  }\n",
              "\n",
              "  @keyframes spin {\n",
              "    0% {\n",
              "      border-color: transparent;\n",
              "      border-bottom-color: var(--fill-color);\n",
              "      border-left-color: var(--fill-color);\n",
              "    }\n",
              "    20% {\n",
              "      border-color: transparent;\n",
              "      border-left-color: var(--fill-color);\n",
              "      border-top-color: var(--fill-color);\n",
              "    }\n",
              "    30% {\n",
              "      border-color: transparent;\n",
              "      border-left-color: var(--fill-color);\n",
              "      border-top-color: var(--fill-color);\n",
              "      border-right-color: var(--fill-color);\n",
              "    }\n",
              "    40% {\n",
              "      border-color: transparent;\n",
              "      border-right-color: var(--fill-color);\n",
              "      border-top-color: var(--fill-color);\n",
              "    }\n",
              "    60% {\n",
              "      border-color: transparent;\n",
              "      border-right-color: var(--fill-color);\n",
              "    }\n",
              "    80% {\n",
              "      border-color: transparent;\n",
              "      border-right-color: var(--fill-color);\n",
              "      border-bottom-color: var(--fill-color);\n",
              "    }\n",
              "    90% {\n",
              "      border-color: transparent;\n",
              "      border-bottom-color: var(--fill-color);\n",
              "    }\n",
              "  }\n",
              "</style>\n",
              "\n",
              "  <script>\n",
              "    async function quickchart(key) {\n",
              "      const quickchartButtonEl =\n",
              "        document.querySelector('#' + key + ' button');\n",
              "      quickchartButtonEl.disabled = true;  // To prevent multiple clicks.\n",
              "      quickchartButtonEl.classList.add('colab-df-spinner');\n",
              "      try {\n",
              "        const charts = await google.colab.kernel.invokeFunction(\n",
              "            'suggestCharts', [key], {});\n",
              "      } catch (error) {\n",
              "        console.error('Error during call to suggestCharts:', error);\n",
              "      }\n",
              "      quickchartButtonEl.classList.remove('colab-df-spinner');\n",
              "      quickchartButtonEl.classList.add('colab-df-quickchart-complete');\n",
              "    }\n",
              "    (() => {\n",
              "      let quickchartButtonEl =\n",
              "        document.querySelector('#df-86b95fc1-eed9-495c-9d63-4dce55b6fd04 button');\n",
              "      quickchartButtonEl.style.display =\n",
              "        google.colab.kernel.accessAllowed ? 'block' : 'none';\n",
              "    })();\n",
              "  </script>\n",
              "</div>\n",
              "\n",
              "    </div>\n",
              "  </div>\n"
            ],
            "application/vnd.google.colaboratory.intrinsic+json": {
              "type": "dataframe",
              "variable_name": "dfWifi"
            }
          },
          "metadata": {},
          "execution_count": 21
        }
      ]
    },
    {
      "cell_type": "code",
      "source": [
        "wifiList = dfWifi[\"building_desc\"].unique()\n",
        "lengthOfList = int(len(wifiList)/4)\n",
        "chrisData = wifiList[:lengthOfList]\n",
        "ryanData = wifiList[lengthOfList:lengthOfList*2]\n",
        "junhoData = wifiList[lengthOfList*2:lengthOfList*3]\n",
        "wooData = wifiList[lengthOfList*3:]"
      ],
      "metadata": {
        "id": "vZzeq0y0Dz9S"
      },
      "execution_count": null,
      "outputs": []
    },
    {
      "cell_type": "code",
      "source": [
        "print(chrisData)"
      ],
      "metadata": {
        "colab": {
          "base_uri": "https://localhost:8080/"
        },
        "id": "YuV6WPXQGVzL",
        "outputId": "28c24080-53e9-4dae-ef2d-7687fd7c5571"
      },
      "execution_count": null,
      "outputs": [
        {
          "output_type": "stream",
          "name": "stdout",
          "text": [
            "['209 BAY STATE ROAD' '200-202 BAY STATE ROAD' '184 BAY STATE ROAD'\n",
            " '190 BAY STATE ROAD' '161 BAY STATE ROAD' '163 BAY STATE ROAD'\n",
            " '159 BAY STATE ROAD' '771 COMMONWEALTH AVENUE' '775 COMMONWEALTH AVENUE'\n",
            " '1 UNIVERSITY ROAD' '745 - 755 COMMONWEALTH AVENUE'\n",
            " '264-270 BAY STATE ROAD' '6 BUSWELL STREET' '22 BUSWELL STREET'\n",
            " '96 MOUNTFORT STREET' '806-820 BEACON STREET' '844 BEACON STREET'\n",
            " '46 MOUNTFORT STREET' '856-862 BEACON STREET' '870-872 BEACON STREET'\n",
            " '824-826 BEACON STREET' '24 BUSWELL STREET' '16 ARUNDEL STREET'\n",
            " '834-836 BEACON STREET' '830 BEACON STREET' '98 MOUNTFORT STREET'\n",
            " '635 COMMONWEALTH AVENUE' '2 SILBER WAY' '595 COMMONWEALTH AVENUE'\n",
            " '285 BABCOCK STREET' '120 ASHFORD STREET' '100 ASHFORD STREET'\n",
            " '590 COMMONWEALTH AVENUE' '722-26-28 COMMONWEALTH AVENUE'\n",
            " '730 COMMONWEALTH AVENUE' \"8 ST. MARY'S STREET\"\n",
            " '1010 COMMONWEALTH AVENUE' '930-940 COMMONWEALTH AVENUE'\n",
            " '186 BAY STATE ROAD' '10 BUICK STREET' '900 COMMONWEALTH AVENUE'\n",
            " '25 BUICK STREET' '855 COMMONWEALTH AVENUE' '871 COMMONWEALTH AVENUE'\n",
            " '700 COMMONWEALTH AVENUE' '1019 COMMONWEALTH AVENUE' '38 BUSWELL STREET'\n",
            " '44 BUSWELL STREET' '48 BUSWELL STREET' '1053 BEACON STREET'\n",
            " '483 COMMONWEALTH AVENUE' '2 BUSWELL STREET' '210-212 BAY STATE ROAD'\n",
            " '10 LENOX STREET' '91 BAY STATE ROAD' '275 BABCOCK STREET'\n",
            " '540 COMMONWEALTH AVENUE' '33 HARRY AGGANIS WAY' '90-92 BAY STATE ROAD'\n",
            " '30 HARRY AGGANIS WAY']\n"
          ]
        }
      ]
    },
    {
      "cell_type": "markdown",
      "source": [
        "## Wifi Stations Without Water Bottle Filling Station"
      ],
      "metadata": {
        "id": "UIOZj56qj2U8"
      }
    },
    {
      "cell_type": "code",
      "source": [
        "WithoutWaterBottle = {}"
      ],
      "metadata": {
        "id": "Gg4NJpkkIKQb"
      },
      "execution_count": null,
      "outputs": []
    },
    {
      "cell_type": "code",
      "source": [
        "grouped_df = dfWifi[dfWifi['building_desc'] == '209 BAY STATE ROAD']\n",
        "grouped_df = grouped_df.groupby(['building_desc', 'hour'])[['capacity']].mean().sum()\n",
        "print(f\"On an average day, {int(grouped_df)} people will benefit from a water bottle station at 209 BAY STATE ROAD\")\n",
        "WithoutWaterBottle['209 BAY STATE ROAD'] = int(grouped_df)"
      ],
      "metadata": {
        "colab": {
          "base_uri": "https://localhost:8080/"
        },
        "id": "J5jN1Uy3jzOn",
        "outputId": "fc87d049-04aa-49f2-b54d-2577863fc3ce"
      },
      "execution_count": null,
      "outputs": [
        {
          "output_type": "stream",
          "name": "stdout",
          "text": [
            "On an average day, 120 people will benefit from a water bottle station at 209 BAY STATE ROAD\n"
          ]
        }
      ]
    },
    {
      "cell_type": "code",
      "source": [
        "grouped_df = dfWifi[dfWifi['building_desc'] == '200-202 BAY STATE ROAD']\n",
        "grouped_df = grouped_df.groupby(['building_desc', 'hour'])[['capacity']].mean().sum()\n",
        "print(f\"On an average day, {int(grouped_df)} people will benefit from a water bottle station at 200-202 BAY STATE ROAD\")\n",
        "WithoutWaterBottle['200-202 BAY STATE ROAD'] = int(grouped_df)"
      ],
      "metadata": {
        "colab": {
          "base_uri": "https://localhost:8080/"
        },
        "id": "hOHSjwuSjz9J",
        "outputId": "e0dabce4-b5e3-4038-c10d-f1ccfc574106"
      },
      "execution_count": null,
      "outputs": [
        {
          "output_type": "stream",
          "name": "stdout",
          "text": [
            "On an average day, 199 people will benefit from a water bottle station at 200-202 BAY STATE ROAD\n"
          ]
        }
      ]
    },
    {
      "cell_type": "code",
      "source": [
        "grouped_df = dfWifi[dfWifi['building_desc'] == '184 BAY STATE ROAD']\n",
        "grouped_df = grouped_df.groupby(['building_desc', 'hour'])[['capacity']].mean().sum()\n",
        "print(f\"On an average day, {int(grouped_df)} people will benefit from a water bottle station at 184 BAY STATE ROAD\")\n",
        "WithoutWaterBottle['184 BAY STATE ROAD'] = int(grouped_df)"
      ],
      "metadata": {
        "colab": {
          "base_uri": "https://localhost:8080/"
        },
        "id": "pRH_J1D1jz_n",
        "outputId": "da2278a3-5684-4c5e-c727-30eb8f577205"
      },
      "execution_count": null,
      "outputs": [
        {
          "output_type": "stream",
          "name": "stdout",
          "text": [
            "On an average day, 134 people will benefit from a water bottle station at 184 BAY STATE ROAD\n"
          ]
        }
      ]
    },
    {
      "cell_type": "code",
      "source": [
        "grouped_df = dfWifi[dfWifi['building_desc'] == '190 BAY STATE ROAD']\n",
        "grouped_df = grouped_df.groupby(['building_desc', 'hour'])[['capacity']].mean().sum()\n",
        "print(f\"On an average day, {int(grouped_df)} people will benefit from a water bottle station at 190 BAY STATE ROAD\")\n",
        "WithoutWaterBottle['190 BAY STATE ROAD'] = int(grouped_df)"
      ],
      "metadata": {
        "colab": {
          "base_uri": "https://localhost:8080/"
        },
        "id": "k5RSb5Q1j0CH",
        "outputId": "10824636-3b1c-4466-bac8-37cd7c82e107"
      },
      "execution_count": null,
      "outputs": [
        {
          "output_type": "stream",
          "name": "stdout",
          "text": [
            "On an average day, 146 people will benefit from a water bottle station at 190 BAY STATE ROAD\n"
          ]
        }
      ]
    },
    {
      "cell_type": "code",
      "source": [
        "grouped_df = dfWifi[dfWifi['building_desc'] == '161 BAY STATE ROAD']\n",
        "grouped_df = grouped_df.groupby(['building_desc', 'hour'])[['capacity']].mean().sum()\n",
        "print(f\"On an average day, {int(grouped_df)} people will benefit from a water bottle station at 161 BAY STATE ROAD\")\n",
        "WithoutWaterBottle['161 BAY STATE ROAD'] = int(grouped_df)"
      ],
      "metadata": {
        "colab": {
          "base_uri": "https://localhost:8080/"
        },
        "id": "TjRYlHL4j0E3",
        "outputId": "2c381307-05f7-4f70-c08b-58077f1aa7e9"
      },
      "execution_count": null,
      "outputs": [
        {
          "output_type": "stream",
          "name": "stdout",
          "text": [
            "On an average day, 86 people will benefit from a water bottle station at 161 BAY STATE ROAD\n"
          ]
        }
      ]
    },
    {
      "cell_type": "code",
      "source": [
        "grouped_df = dfWifi[dfWifi['building_desc'] == '163 BAY STATE ROAD']\n",
        "grouped_df = grouped_df.groupby(['building_desc', 'hour'])[['capacity']].mean().sum()\n",
        "print(f\"On an average day, {int(grouped_df)} people will benefit from a water bottle station at 163 BAY STATE ROAD\")\n",
        "WithoutWaterBottle['163 BAY STATE ROAD'] = int(grouped_df)"
      ],
      "metadata": {
        "colab": {
          "base_uri": "https://localhost:8080/"
        },
        "id": "I4_8eEV7j0Ho",
        "outputId": "32d87bc6-fca7-48fb-a2fb-f40dca625be8"
      },
      "execution_count": null,
      "outputs": [
        {
          "output_type": "stream",
          "name": "stdout",
          "text": [
            "On an average day, 70 people will benefit from a water bottle station at 163 BAY STATE ROAD\n"
          ]
        }
      ]
    },
    {
      "cell_type": "code",
      "source": [
        "grouped_df = dfWifi[dfWifi['building_desc'] == '159 BAY STATE ROAD']\n",
        "grouped_df = grouped_df.groupby(['building_desc', 'hour'])[['capacity']].mean().sum()\n",
        "print(f\"On an average day, {int(grouped_df)} people will benefit from a water bottle station at 159 BAY STATE ROAD\")\n",
        "WithoutWaterBottle['159 BAY STATE ROAD'] = int(grouped_df)"
      ],
      "metadata": {
        "colab": {
          "base_uri": "https://localhost:8080/"
        },
        "id": "6Za2xH1Ij0KR",
        "outputId": "19e7d443-f76c-47b5-bc64-2b167f679e69"
      },
      "execution_count": null,
      "outputs": [
        {
          "output_type": "stream",
          "name": "stdout",
          "text": [
            "On an average day, 106 people will benefit from a water bottle station at 159 BAY STATE ROAD\n"
          ]
        }
      ]
    },
    {
      "cell_type": "code",
      "source": [
        "grouped_df = dfWifi[dfWifi['building_desc'] == '6 BUSWELL STREET']\n",
        "grouped_df = grouped_df.groupby(['building_desc', 'hour'])[['capacity']].mean().sum()\n",
        "print(f\"On an average day, {int(grouped_df)} people will benefit from a existing water bottle station at 6 BUSWELL STREET\")\n",
        "WithoutWaterBottle['6 BUSWELL STREET'] = int(grouped_df)"
      ],
      "metadata": {
        "colab": {
          "base_uri": "https://localhost:8080/"
        },
        "id": "VsAkz1lrj0Mn",
        "outputId": "f66fa6d0-1533-48a9-f51a-6c4810bc5323"
      },
      "execution_count": null,
      "outputs": [
        {
          "output_type": "stream",
          "name": "stdout",
          "text": [
            "On an average day, 443 people will benefit from a existing water bottle station at 6 BUSWELL STREET\n"
          ]
        }
      ]
    },
    {
      "cell_type": "code",
      "source": [
        "grouped_df = dfWifi[dfWifi['building_desc'] == '22 BUSWELL STREET']\n",
        "grouped_df = grouped_df.groupby(['building_desc', 'hour'])[['capacity']].mean().sum()\n",
        "print(f\"On an average day, {int(grouped_df)} people will benefit from a existing water bottle station at 22 BUSWELL STREET\")\n",
        "WithoutWaterBottle['22 BUSWELL STREET'] = int(grouped_df)"
      ],
      "metadata": {
        "colab": {
          "base_uri": "https://localhost:8080/"
        },
        "id": "8btogqt0j0PR",
        "outputId": "419a63d5-4741-4097-8e4f-5429bef39709"
      },
      "execution_count": null,
      "outputs": [
        {
          "output_type": "stream",
          "name": "stdout",
          "text": [
            "On an average day, 209 people will benefit from a existing water bottle station at 22 BUSWELL STREET\n"
          ]
        }
      ]
    },
    {
      "cell_type": "code",
      "source": [
        "grouped_df = dfWifi[dfWifi['building_desc'] == '96 MOUNTFORT STREET']\n",
        "grouped_df = grouped_df.groupby(['building_desc', 'hour'])[['capacity']].mean().sum()\n",
        "print(f\"On an average day, {int(grouped_df)} people will benefit from a existing water bottle station at 96 MOUNTFORT STREET\")\n",
        "WithoutWaterBottle['96 MOUNTFORT STREET'] = int(grouped_df)"
      ],
      "metadata": {
        "colab": {
          "base_uri": "https://localhost:8080/"
        },
        "id": "22SfTwX8j0SF",
        "outputId": "8a7cc46b-db63-4095-87b7-b7c10dfb2b24"
      },
      "execution_count": null,
      "outputs": [
        {
          "output_type": "stream",
          "name": "stdout",
          "text": [
            "On an average day, 118 people will benefit from a existing water bottle station at 96 MOUNTFORT STREET\n"
          ]
        }
      ]
    },
    {
      "cell_type": "code",
      "source": [
        "grouped_df = dfWifi[dfWifi['building_desc'] == '806-820 BEACON STREET']\n",
        "grouped_df = grouped_df.groupby(['building_desc', 'hour'])[['capacity']].mean().sum()\n",
        "print(f\"On an average day, {int(grouped_df)} people will benefit from a existing water bottle station at 806-820 BEACON STREET\")\n",
        "WithoutWaterBottle['806-820 BEACON STREET'] = int(grouped_df)"
      ],
      "metadata": {
        "id": "Kd37IjtjGVNR",
        "colab": {
          "base_uri": "https://localhost:8080/"
        },
        "outputId": "0519c5cd-2ff4-4235-a69e-361fe8ed49cb"
      },
      "execution_count": null,
      "outputs": [
        {
          "output_type": "stream",
          "name": "stdout",
          "text": [
            "On an average day, 197 people will benefit from a existing water bottle station at 806-820 BEACON STREET\n"
          ]
        }
      ]
    },
    {
      "cell_type": "code",
      "source": [
        "grouped_df = dfWifi[dfWifi['building_desc'] == '844 BEACON STREET']\n",
        "grouped_df = grouped_df.groupby(['building_desc', 'hour'])[['capacity']].mean().sum()\n",
        "print(f\"On an average day, {int(grouped_df)} people will benefit from a existing water bottle station at 844 BEACON STREET\")\n",
        "WithoutWaterBottle['844 BEACON STREET'] = int(grouped_df)"
      ],
      "metadata": {
        "colab": {
          "base_uri": "https://localhost:8080/"
        },
        "id": "1jp-4Ogzk8xE",
        "outputId": "b0257015-77b9-4722-8fc2-ad70314abcb3"
      },
      "execution_count": null,
      "outputs": [
        {
          "output_type": "stream",
          "name": "stdout",
          "text": [
            "On an average day, 142 people will benefit from a existing water bottle station at 844 BEACON STREET\n"
          ]
        }
      ]
    },
    {
      "cell_type": "code",
      "source": [
        "grouped_df = dfWifi[dfWifi['building_desc'] == '46 MOUNTFORT STREET']\n",
        "grouped_df = grouped_df.groupby(['building_desc', 'hour'])[['capacity']].mean().sum()\n",
        "print(f\"On an average day, {int(grouped_df)} people will benefit from a existing water bottle station at 46 MOUNTFORT STREET\")\n",
        "WithoutWaterBottle['46 MOUNTFORT STREET'] = int(grouped_df)"
      ],
      "metadata": {
        "colab": {
          "base_uri": "https://localhost:8080/"
        },
        "id": "GE2CU60Ak8yO",
        "outputId": "620c4e43-1d96-4512-8dd9-2746df36374c"
      },
      "execution_count": null,
      "outputs": [
        {
          "output_type": "stream",
          "name": "stdout",
          "text": [
            "On an average day, 298 people will benefit from a existing water bottle station at 46 MOUNTFORT STREET\n"
          ]
        }
      ]
    },
    {
      "cell_type": "code",
      "source": [
        "grouped_df = dfWifi[dfWifi['building_desc'] == '856-862 BEACON STREET']\n",
        "grouped_df = grouped_df.groupby(['building_desc', 'hour'])[['capacity']].mean().sum()\n",
        "print(f\"On an average day, {int(grouped_df)} people will benefit from a existing water bottle station at 856-862 BEACON STREET\")\n",
        "WithoutWaterBottle['856-862 BEACON STREET'] = int(grouped_df)"
      ],
      "metadata": {
        "colab": {
          "base_uri": "https://localhost:8080/"
        },
        "id": "M3dW_kYkk8y9",
        "outputId": "ff58dda2-1643-4e18-cf0b-66d7d70bd988"
      },
      "execution_count": null,
      "outputs": [
        {
          "output_type": "stream",
          "name": "stdout",
          "text": [
            "On an average day, 90 people will benefit from a existing water bottle station at 856-862 BEACON STREET\n"
          ]
        }
      ]
    },
    {
      "cell_type": "code",
      "source": [
        "grouped_df = dfWifi[dfWifi['building_desc'] == '870-872 BEACON STREET']\n",
        "grouped_df = grouped_df.groupby(['building_desc', 'hour'])[['capacity']].mean().sum()\n",
        "print(f\"On an average day, {int(grouped_df)} people will benefit from a existing water bottle station at 870-872 BEACON STREET\")\n",
        "WithoutWaterBottle['870-872 BEACON STREET'] = int(grouped_df)"
      ],
      "metadata": {
        "colab": {
          "base_uri": "https://localhost:8080/"
        },
        "id": "vbQ5fo85k8z_",
        "outputId": "061bec46-b97d-41c2-a524-e04bea830c5e"
      },
      "execution_count": null,
      "outputs": [
        {
          "output_type": "stream",
          "name": "stdout",
          "text": [
            "On an average day, 34 people will benefit from a existing water bottle station at 870-872 BEACON STREET\n"
          ]
        }
      ]
    },
    {
      "cell_type": "code",
      "source": [
        "grouped_df = dfWifi[dfWifi['building_desc'] == '824-826 BEACON STREET']\n",
        "grouped_df = grouped_df.groupby(['building_desc', 'hour'])[['capacity']].mean().sum()\n",
        "print(f\"On an average day, {int(grouped_df)} people will benefit from a existing water bottle station at 824-826 BEACON STREET\")\n",
        "WithoutWaterBottle['824-826 BEACON STREET'] = int(grouped_df)"
      ],
      "metadata": {
        "colab": {
          "base_uri": "https://localhost:8080/"
        },
        "id": "fkVL1MSKk81W",
        "outputId": "64c5d579-cdbd-41e0-ba9e-bdd16ea40cf0"
      },
      "execution_count": null,
      "outputs": [
        {
          "output_type": "stream",
          "name": "stdout",
          "text": [
            "On an average day, 157 people will benefit from a existing water bottle station at 824-826 BEACON STREET\n"
          ]
        }
      ]
    },
    {
      "cell_type": "code",
      "source": [
        "grouped_df = dfWifi[dfWifi['building_desc'] == '24 BUSWELL STREET']\n",
        "grouped_df = grouped_df.groupby(['building_desc', 'hour'])[['capacity']].mean().sum()\n",
        "print(f\"On an average day, {int(grouped_df)} people will benefit from a existing water bottle station at 24 BUSWELL STREET\")\n",
        "WithoutWaterBottle['24 BUSWELL STREET'] = int(grouped_df)"
      ],
      "metadata": {
        "colab": {
          "base_uri": "https://localhost:8080/"
        },
        "id": "XiL18tvBk82A",
        "outputId": "157e3bfa-c31d-44bf-a8cc-bf81022f809d"
      },
      "execution_count": null,
      "outputs": [
        {
          "output_type": "stream",
          "name": "stdout",
          "text": [
            "On an average day, 193 people will benefit from a existing water bottle station at 24 BUSWELL STREET\n"
          ]
        }
      ]
    },
    {
      "cell_type": "code",
      "source": [
        "grouped_df = dfWifi[dfWifi['building_desc'] == '16 ARUNDEL STREET']\n",
        "grouped_df = grouped_df.groupby(['building_desc', 'hour'])[['capacity']].mean().sum()\n",
        "print(f\"On an average day, {int(grouped_df)} people will benefit from a existing water bottle station at 16 ARUNDEL STREET\")\n",
        "WithoutWaterBottle['16 ARUNDEL STREET'] = int(grouped_df)"
      ],
      "metadata": {
        "colab": {
          "base_uri": "https://localhost:8080/"
        },
        "id": "8Yuo7SwTk83T",
        "outputId": "54b8efa0-436a-4dc3-bb1a-acefbc6cc5d7"
      },
      "execution_count": null,
      "outputs": [
        {
          "output_type": "stream",
          "name": "stdout",
          "text": [
            "On an average day, 71 people will benefit from a existing water bottle station at 16 ARUNDEL STREET\n"
          ]
        }
      ]
    },
    {
      "cell_type": "code",
      "source": [
        "grouped_df = dfWifi[dfWifi['building_desc'] == '834-836 BEACON STREET']\n",
        "grouped_df = grouped_df.groupby(['building_desc', 'hour'])[['capacity']].mean().sum()\n",
        "print(f\"On an average day, {int(grouped_df)} people will benefit from a existing water bottle station at 834-836 BEACON STREET\")\n",
        "WithoutWaterBottle['834-836 BEACON STREET'] = int(grouped_df)"
      ],
      "metadata": {
        "colab": {
          "base_uri": "https://localhost:8080/"
        },
        "id": "viJ9vYCSm9us",
        "outputId": "5f50c2d6-7a76-4735-b1ae-f124269bf78a"
      },
      "execution_count": null,
      "outputs": [
        {
          "output_type": "stream",
          "name": "stdout",
          "text": [
            "On an average day, 128 people will benefit from a existing water bottle station at 834-836 BEACON STREET\n"
          ]
        }
      ]
    },
    {
      "cell_type": "code",
      "source": [
        "grouped_df = dfWifi[dfWifi['building_desc'] == '830 BEACON STREET']\n",
        "grouped_df = grouped_df.groupby(['building_desc', 'hour'])[['capacity']].mean().sum()\n",
        "print(f\"On an average day, {int(grouped_df)} people will benefit from a existing water bottle station at 830 BEACON STREET\")\n",
        "WithoutWaterBottle['830 BEACON STREET'] = int(grouped_df)"
      ],
      "metadata": {
        "colab": {
          "base_uri": "https://localhost:8080/"
        },
        "id": "ieXbycacm9xP",
        "outputId": "39b2ecc1-4884-4496-cdb0-0b4407e91e02"
      },
      "execution_count": null,
      "outputs": [
        {
          "output_type": "stream",
          "name": "stdout",
          "text": [
            "On an average day, 68 people will benefit from a existing water bottle station at 830 BEACON STREET\n"
          ]
        }
      ]
    },
    {
      "cell_type": "code",
      "source": [
        "grouped_df = dfWifi[dfWifi['building_desc'] == '98 MOUNTFORT STREET']\n",
        "grouped_df = grouped_df.groupby(['building_desc', 'hour'])[['capacity']].mean().sum()\n",
        "print(f\"On an average day, {int(grouped_df)} people will benefit from a existing water bottle station at 98 MOUNTFORT STREET\")\n",
        "WithoutWaterBottle['98 MOUNTFORT STREET'] = int(grouped_df)"
      ],
      "metadata": {
        "colab": {
          "base_uri": "https://localhost:8080/"
        },
        "id": "LfJzN2CFm90H",
        "outputId": "39df35ad-2d41-4f2d-85cd-793f1cdd49b2"
      },
      "execution_count": null,
      "outputs": [
        {
          "output_type": "stream",
          "name": "stdout",
          "text": [
            "On an average day, 148 people will benefit from a existing water bottle station at 98 MOUNTFORT STREET\n"
          ]
        }
      ]
    },
    {
      "cell_type": "code",
      "source": [
        "grouped_df = dfWifi[dfWifi['building_desc'] == '1010 COMMONWEALTH AVENUE']\n",
        "grouped_df = grouped_df.groupby(['building_desc', 'hour'])[['capacity']].mean().sum()\n",
        "print(f\"On an average day, {int(grouped_df)} people will benefit from a existing water bottle station at 1010 COMMONWEALTH AVENUE\")\n",
        "WithoutWaterBottle['1010 COMMONWEALTH AVENUE'] = int(grouped_df)"
      ],
      "metadata": {
        "colab": {
          "base_uri": "https://localhost:8080/"
        },
        "id": "81AbiKXAm92V",
        "outputId": "bc42fc15-34fd-4bfe-e747-ed8dfe611eda"
      },
      "execution_count": null,
      "outputs": [
        {
          "output_type": "stream",
          "name": "stdout",
          "text": [
            "On an average day, 1457 people will benefit from a existing water bottle station at 1010 COMMONWEALTH AVENUE\n"
          ]
        }
      ]
    },
    {
      "cell_type": "code",
      "source": [
        "grouped_df = dfWifi[dfWifi['building_desc'] == '930-940 COMMONWEALTH AVENUE']\n",
        "grouped_df = grouped_df.groupby(['building_desc', 'hour'])[['capacity']].mean().sum()\n",
        "print(f\"On an average day, {int(grouped_df)} people will benefit from a existing water bottle station at 930-940 COMMONWEALTH AVENUE\")\n",
        "WithoutWaterBottle['930-940 COMMONWEALTH AVENUE'] = int(grouped_df)"
      ],
      "metadata": {
        "colab": {
          "base_uri": "https://localhost:8080/"
        },
        "id": "DhaCpYBCm94d",
        "outputId": "dc0456fa-82cd-4642-f435-7c255840a927"
      },
      "execution_count": null,
      "outputs": [
        {
          "output_type": "stream",
          "name": "stdout",
          "text": [
            "On an average day, 6202 people will benefit from a existing water bottle station at 930-940 COMMONWEALTH AVENUE\n"
          ]
        }
      ]
    },
    {
      "cell_type": "code",
      "source": [
        "grouped_df = dfWifi[dfWifi['building_desc'] == '186 BAY STATE ROAD']\n",
        "grouped_df = grouped_df.groupby(['building_desc', 'hour'])[['capacity']].mean().sum()\n",
        "print(f\"On an average day, {int(grouped_df)} people will benefit from a existing water bottle station at 186 BAY STATE ROAD\")\n",
        "WithoutWaterBottle['186 BAY STATE ROAD'] = int(grouped_df)"
      ],
      "metadata": {
        "colab": {
          "base_uri": "https://localhost:8080/"
        },
        "id": "cEC3mF5Am96u",
        "outputId": "537bf9f8-cb50-47cf-c4b5-2d2f91896b40"
      },
      "execution_count": null,
      "outputs": [
        {
          "output_type": "stream",
          "name": "stdout",
          "text": [
            "On an average day, 69 people will benefit from a existing water bottle station at 186 BAY STATE ROAD\n"
          ]
        }
      ]
    },
    {
      "cell_type": "code",
      "source": [
        "grouped_df = dfWifi[dfWifi['building_desc'] == '10 BUICK STREET']\n",
        "grouped_df = grouped_df.groupby(['building_desc', 'hour'])[['capacity']].mean().sum()\n",
        "print(f\"On an average day, {int(grouped_df)} people will benefit from a existing water bottle station at 10 BUICK STREET\")\n",
        "WithoutWaterBottle['10 BUICK STREET'] = int(grouped_df)"
      ],
      "metadata": {
        "colab": {
          "base_uri": "https://localhost:8080/"
        },
        "id": "uB1DoUdNm98-",
        "outputId": "e249a5ae-304a-4d84-cbe5-2d51dd097fc5"
      },
      "execution_count": null,
      "outputs": [
        {
          "output_type": "stream",
          "name": "stdout",
          "text": [
            "On an average day, 1081 people will benefit from a existing water bottle station at 10 BUICK STREET\n"
          ]
        }
      ]
    },
    {
      "cell_type": "code",
      "source": [
        "grouped_df = dfWifi[dfWifi['building_desc'] == '900 COMMONWEALTH AVENUE']\n",
        "grouped_df = grouped_df.groupby(['building_desc', 'hour'])[['capacity']].mean().sum()\n",
        "print(f\"On an average day, {int(grouped_df)} people will benefit from a existing water bottle station at 900 COMMONWEALTH AVENUE\")\n",
        "WithoutWaterBottle['900 COMMONWEALTH AVENUE'] = int(grouped_df)"
      ],
      "metadata": {
        "colab": {
          "base_uri": "https://localhost:8080/"
        },
        "id": "Av5D2E25m9_F",
        "outputId": "d7a9d127-7553-4a3a-d4e7-c7ccbce6f9ab"
      },
      "execution_count": null,
      "outputs": [
        {
          "output_type": "stream",
          "name": "stdout",
          "text": [
            "On an average day, 4106 people will benefit from a existing water bottle station at 900 COMMONWEALTH AVENUE\n"
          ]
        }
      ]
    },
    {
      "cell_type": "code",
      "source": [
        "grouped_df = dfWifi[dfWifi['building_desc'] == '16 ARUNDEL STREET']\n",
        "grouped_df = grouped_df.groupby(['building_desc', 'hour'])[['capacity']].mean().sum()\n",
        "print(f\"On an average day, {int(grouped_df)} people will benefit from a existing water bottle station at 16 ARUNDEL STREET\")\n",
        "WithoutWaterBottle['16 ARUNDEL STREET'] = int(grouped_df)"
      ],
      "metadata": {
        "colab": {
          "base_uri": "https://localhost:8080/"
        },
        "id": "hCivIpIam-BO",
        "outputId": "1bf99dee-f08a-4884-9456-1911e88e068a"
      },
      "execution_count": null,
      "outputs": [
        {
          "output_type": "stream",
          "name": "stdout",
          "text": [
            "On an average day, 71 people will benefit from a existing water bottle station at 16 ARUNDEL STREET\n"
          ]
        }
      ]
    },
    {
      "cell_type": "code",
      "source": [
        "grouped_df = dfWifi[dfWifi['building_desc'] == '38 BUSWELL STREET']\n",
        "grouped_df = grouped_df.groupby(['building_desc', 'hour'])[['capacity']].mean().sum()\n",
        "print(f\"On an average day, {int(grouped_df)} people will benefit from a existing water bottle station at 38 BUSWELL STREET\")\n",
        "WithoutWaterBottle['38 BUSWELL STREET'] = int(grouped_df)"
      ],
      "metadata": {
        "colab": {
          "base_uri": "https://localhost:8080/"
        },
        "id": "5oWdAqvIm-Dg",
        "outputId": "cf94f953-f6c3-4fa8-c727-c48b8aa32e3e"
      },
      "execution_count": null,
      "outputs": [
        {
          "output_type": "stream",
          "name": "stdout",
          "text": [
            "On an average day, 116 people will benefit from a existing water bottle station at 38 BUSWELL STREET\n"
          ]
        }
      ]
    },
    {
      "cell_type": "code",
      "source": [
        "grouped_df = dfWifi[dfWifi['building_desc'] == '44 BUSWELL STREET']\n",
        "grouped_df = grouped_df.groupby(['building_desc', 'hour'])[['capacity']].mean().sum()\n",
        "print(f\"On an average day, {int(grouped_df)} people will benefit from a existing water bottle station at 44 BUSWELL STREET\")\n",
        "WithoutWaterBottle['44 BUSWELL STREET'] = int(grouped_df)"
      ],
      "metadata": {
        "colab": {
          "base_uri": "https://localhost:8080/"
        },
        "id": "17dITVKxm-Fm",
        "outputId": "addbe4dd-ed43-4d3c-fed8-b44774f807aa"
      },
      "execution_count": null,
      "outputs": [
        {
          "output_type": "stream",
          "name": "stdout",
          "text": [
            "On an average day, 3 people will benefit from a existing water bottle station at 44 BUSWELL STREET\n"
          ]
        }
      ]
    },
    {
      "cell_type": "code",
      "source": [
        "grouped_df = dfWifi[dfWifi['building_desc'] == '48 BUSWELL STREET']\n",
        "grouped_df = grouped_df.groupby(['building_desc', 'hour'])[['capacity']].mean().sum()\n",
        "print(f\"On an average day, {int(grouped_df)} people will benefit from a existing water bottle station at 48 BUSWELL STREET\")\n",
        "WithoutWaterBottle['48 BUSWELL STREET'] = int(grouped_df)"
      ],
      "metadata": {
        "colab": {
          "base_uri": "https://localhost:8080/"
        },
        "id": "ljrYC3rGm-H-",
        "outputId": "513c22f2-4f7a-4bb7-d231-328075a84ea3"
      },
      "execution_count": null,
      "outputs": [
        {
          "output_type": "stream",
          "name": "stdout",
          "text": [
            "On an average day, 5 people will benefit from a existing water bottle station at 48 BUSWELL STREET\n"
          ]
        }
      ]
    },
    {
      "cell_type": "code",
      "source": [
        "grouped_df = dfWifi[dfWifi['building_desc'] == '1053 BEACON STREET']\n",
        "grouped_df = grouped_df.groupby(['building_desc', 'hour'])[['capacity']].mean().sum()\n",
        "print(f\"On an average day, {int(grouped_df)} people will benefit from a existing water bottle station at 1053 BEACON STREET\")\n",
        "WithoutWaterBottle['1053 BEACON STREET'] = int(grouped_df)"
      ],
      "metadata": {
        "colab": {
          "base_uri": "https://localhost:8080/"
        },
        "id": "yqW_ZVGkm-KI",
        "outputId": "85650dda-de66-480d-d5b6-010a44ebaf7c"
      },
      "execution_count": null,
      "outputs": [
        {
          "output_type": "stream",
          "name": "stdout",
          "text": [
            "On an average day, 28 people will benefit from a existing water bottle station at 1053 BEACON STREET\n"
          ]
        }
      ]
    },
    {
      "cell_type": "code",
      "source": [
        "grouped_df = dfWifi[dfWifi['building_desc'] == '483 COMMONWEALTH AVENUE']\n",
        "grouped_df = grouped_df.groupby(['building_desc', 'hour'])[['capacity']].mean().sum()\n",
        "print(f\"On an average day, {int(grouped_df)} people will benefit from a existing water bottle station at 483 COMMONWEALTH AVENUE\")\n",
        "WithoutWaterBottle['483 COMMONWEALTH AVENUE'] = int(grouped_df)"
      ],
      "metadata": {
        "colab": {
          "base_uri": "https://localhost:8080/"
        },
        "id": "YQaJC06Pm-MY",
        "outputId": "36e5f34e-7fe1-43b9-f32d-baae65e4ae9b"
      },
      "execution_count": null,
      "outputs": [
        {
          "output_type": "stream",
          "name": "stdout",
          "text": [
            "On an average day, 1 people will benefit from a existing water bottle station at 483 COMMONWEALTH AVENUE\n"
          ]
        }
      ]
    },
    {
      "cell_type": "code",
      "source": [
        "grouped_df = dfWifi[dfWifi['building_desc'] == '2 BUSWELL STREET']\n",
        "grouped_df = grouped_df.groupby(['building_desc', 'hour'])[['capacity']].mean().sum()\n",
        "print(f\"On an average day, {int(grouped_df)} people will benefit from a existing water bottle station at 2 BUSWELL STREET\")\n",
        "WithoutWaterBottle['2 BUSWELL STREET'] = int(grouped_df)"
      ],
      "metadata": {
        "colab": {
          "base_uri": "https://localhost:8080/"
        },
        "id": "itBVcelYm-m1",
        "outputId": "fc0f7679-3920-402f-dd34-d415a7a5d926"
      },
      "execution_count": null,
      "outputs": [
        {
          "output_type": "stream",
          "name": "stdout",
          "text": [
            "On an average day, 20 people will benefit from a existing water bottle station at 2 BUSWELL STREET\n"
          ]
        }
      ]
    },
    {
      "cell_type": "code",
      "source": [
        "grouped_df = dfWifi[dfWifi['building_desc'] == '210-212 BAY STATE ROAD']\n",
        "grouped_df = grouped_df.groupby(['building_desc', 'hour'])[['capacity']].mean().sum()\n",
        "print(f\"On an average day, {int(grouped_df)} people will benefit from a existing water bottle station at 210-212 BAY STATE ROAD\")\n",
        "WithoutWaterBottle['210-212 BAY STATE ROAD'] = int(grouped_df)"
      ],
      "metadata": {
        "colab": {
          "base_uri": "https://localhost:8080/"
        },
        "id": "Y0Sd2iP8pdXJ",
        "outputId": "20513e73-1497-4234-ba7b-46c8f34f57da"
      },
      "execution_count": null,
      "outputs": [
        {
          "output_type": "stream",
          "name": "stdout",
          "text": [
            "On an average day, 197 people will benefit from a existing water bottle station at 210-212 BAY STATE ROAD\n"
          ]
        }
      ]
    },
    {
      "cell_type": "code",
      "source": [
        "grouped_df = dfWifi[dfWifi['building_desc'] == '10 LENOX STREET']\n",
        "grouped_df = grouped_df.groupby(['building_desc', 'hour'])[['capacity']].mean().sum()\n",
        "print(f\"On an average day, {int(grouped_df)} people will benefit from a existing water bottle station at 10 LENOX STREET\")\n",
        "WithoutWaterBottle['10 LENOX STREET'] = int(grouped_df)"
      ],
      "metadata": {
        "colab": {
          "base_uri": "https://localhost:8080/"
        },
        "id": "ZILBIFmdpdaB",
        "outputId": "84f85b7a-7692-489f-acb4-3fb4d4997495"
      },
      "execution_count": null,
      "outputs": [
        {
          "output_type": "stream",
          "name": "stdout",
          "text": [
            "On an average day, 659 people will benefit from a existing water bottle station at 10 LENOX STREET\n"
          ]
        }
      ]
    },
    {
      "cell_type": "code",
      "source": [
        "grouped_df = dfWifi[dfWifi['building_desc'] == '540 COMMONWEALTH AVENUE']\n",
        "grouped_df = grouped_df.groupby(['building_desc', 'hour'])[['capacity']].mean().sum()\n",
        "print(f\"On an average day, {int(grouped_df)} people will benefit from a existing water bottle station at 540 COMMONWEALTH AVENUE\")\n",
        "WithoutWaterBottle['540 COMMONWEALTH AVENUE'] = int(grouped_df)"
      ],
      "metadata": {
        "colab": {
          "base_uri": "https://localhost:8080/"
        },
        "id": "2e9ONM5Hpdcf",
        "outputId": "54da472a-7944-41be-d572-4527b977a28a"
      },
      "execution_count": null,
      "outputs": [
        {
          "output_type": "stream",
          "name": "stdout",
          "text": [
            "On an average day, 563 people will benefit from a existing water bottle station at 540 COMMONWEALTH AVENUE\n"
          ]
        }
      ]
    },
    {
      "cell_type": "code",
      "source": [
        "grouped_df = dfWifi[dfWifi['building_desc'] == '90-92 BAY STATE ROAD']\n",
        "grouped_df = grouped_df.groupby(['building_desc', 'hour'])[['capacity']].mean().sum()\n",
        "print(f\"On an average day, {int(grouped_df)} people will benefit from a existing water bottle station at 90-92 BAY STATE ROAD\")\n",
        "WithoutWaterBottle['90-92 BAY STATE ROAD'] = int(grouped_df)"
      ],
      "metadata": {
        "colab": {
          "base_uri": "https://localhost:8080/"
        },
        "id": "Wprq5KGnpde2",
        "outputId": "2ecf6a12-8e45-4ace-a36b-2fea3090be2a"
      },
      "execution_count": null,
      "outputs": [
        {
          "output_type": "stream",
          "name": "stdout",
          "text": [
            "On an average day, 184 people will benefit from a existing water bottle station at 90-92 BAY STATE ROAD\n"
          ]
        }
      ]
    },
    {
      "cell_type": "code",
      "source": [
        "grouped_df = dfWifi[dfWifi['building_desc'] == '30 HARRY AGGANIS WAY']\n",
        "grouped_df = grouped_df.groupby(['building_desc', 'hour'])[['capacity']].mean().sum()\n",
        "print(f\"On an average day, {int(grouped_df)} people will benefit from a existing water bottle station at 30 HARRY AGGANIS WAY\")\n",
        "WithoutWaterBottle['30 HARRY AGGANIS WAY'] = int(grouped_df)"
      ],
      "metadata": {
        "colab": {
          "base_uri": "https://localhost:8080/"
        },
        "id": "FRalUw_wpdg_",
        "outputId": "45d0f566-54fa-4014-cb6c-5f8b85879e1d"
      },
      "execution_count": null,
      "outputs": [
        {
          "output_type": "stream",
          "name": "stdout",
          "text": [
            "On an average day, 0 people will benefit from a existing water bottle station at 30 HARRY AGGANIS WAY\n"
          ]
        }
      ]
    },
    {
      "cell_type": "markdown",
      "source": [
        "## Wifi Stations With Water Bottle Filling Stations"
      ],
      "metadata": {
        "id": "QQfVNYUMkMVc"
      }
    },
    {
      "cell_type": "code",
      "source": [
        "grouped_df = dfWifi[dfWifi['building_desc'] == '771 COMMONWEALTH AVENUE']\n",
        "grouped_df = grouped_df.groupby(['building_desc', 'hour'])[['capacity']].mean().sum()\n",
        "print(f\"On an average day, {int(grouped_df)} people benefitted from the existing water bottle station at 771 COMMONWEALTH AVENUE\")"
      ],
      "metadata": {
        "colab": {
          "base_uri": "https://localhost:8080/"
        },
        "id": "E_aeeN0IlMHO",
        "outputId": "5efc48f5-2852-47aa-e1e1-3ae449379f99"
      },
      "execution_count": null,
      "outputs": [
        {
          "output_type": "stream",
          "name": "stdout",
          "text": [
            "On an average day, 1065 people benefitted from the existing water bottle station at 771 COMMONWEALTH AVENUE\n"
          ]
        }
      ]
    },
    {
      "cell_type": "code",
      "source": [
        "grouped_df = dfWifi[dfWifi['building_desc'] == '775 COMMONWEALTH AVENUE']\n",
        "grouped_df = grouped_df.groupby(['building_desc', 'hour'])[['capacity']].mean().sum()\n",
        "print(f\"On an average day, {int(grouped_df)} people benefitted from the existing water bottle station at 775 COMMONWEALTH AVENUE\")"
      ],
      "metadata": {
        "colab": {
          "base_uri": "https://localhost:8080/"
        },
        "id": "5GnGnjWWlMQF",
        "outputId": "28777d76-0bcb-421e-cf1c-41020be181e7"
      },
      "execution_count": null,
      "outputs": [
        {
          "output_type": "stream",
          "name": "stdout",
          "text": [
            "On an average day, 4647 people benefitted from the existing water bottle station at 775 COMMONWEALTH AVENUE\n"
          ]
        }
      ]
    },
    {
      "cell_type": "code",
      "source": [
        "grouped_df = dfWifi[dfWifi['building_desc'] == '1 UNIVERSITY ROAD']\n",
        "grouped_df = grouped_df.groupby(['building_desc', 'hour'])[['capacity']].mean().sum()\n",
        "print(f\"On an average day, {int(grouped_df)} people benefitted from the existing water bottle station at 1 UNIVERSITY ROAD\")"
      ],
      "metadata": {
        "colab": {
          "base_uri": "https://localhost:8080/"
        },
        "id": "bIYdjYurlMSk",
        "outputId": "92012aee-60bd-489e-e9cf-e4ab8d66c2de"
      },
      "execution_count": null,
      "outputs": [
        {
          "output_type": "stream",
          "name": "stdout",
          "text": [
            "On an average day, 3219 people benefitted from the existing water bottle station at 1 UNIVERSITY ROAD\n"
          ]
        }
      ]
    },
    {
      "cell_type": "code",
      "source": [
        "grouped_df = dfWifi[dfWifi['building_desc'] == '745 - 755 COMMONWEALTH AVENUE']\n",
        "grouped_df = grouped_df.groupby(['building_desc', 'hour'])[['capacity']].mean().sum()\n",
        "print(f\"On an average day, {int(grouped_df)} people benefitted from the existing water bottle station at 745 - 755 COMMONWEALTH AVENUE\")"
      ],
      "metadata": {
        "colab": {
          "base_uri": "https://localhost:8080/"
        },
        "id": "QAMNcyyzlMU8",
        "outputId": "3fadb7e2-c296-4516-a418-4842adb2295c"
      },
      "execution_count": null,
      "outputs": [
        {
          "output_type": "stream",
          "name": "stdout",
          "text": [
            "On an average day, 1586 people benefitted from the existing water bottle station at 745 - 755 COMMONWEALTH AVENUE\n"
          ]
        }
      ]
    },
    {
      "cell_type": "code",
      "source": [
        "grouped_df = dfWifi[dfWifi['building_desc'] == '264-270 BAY STATE ROAD']\n",
        "grouped_df = grouped_df.groupby(['building_desc', 'hour'])[['capacity']].mean().sum()\n",
        "print(f\"On an average day, {int(grouped_df)} people benefitted from the existing water bottle station at 264-270 BAY STATE ROAD\")"
      ],
      "metadata": {
        "colab": {
          "base_uri": "https://localhost:8080/"
        },
        "id": "nUVxFV6elMXJ",
        "outputId": "68502639-7bc6-4f55-ee51-8816c2ac1274"
      },
      "execution_count": null,
      "outputs": [
        {
          "output_type": "stream",
          "name": "stdout",
          "text": [
            "On an average day, 1104 people benefitted from the existing water bottle station at 264-270 BAY STATE ROAD\n"
          ]
        }
      ]
    },
    {
      "cell_type": "code",
      "source": [
        "grouped_df = dfWifi[dfWifi['building_desc'] == '635 COMMONWEALTH AVENUE']\n",
        "grouped_df = grouped_df.groupby(['building_desc', 'hour'])[['capacity']].mean().sum()\n",
        "print(f\"On an average day, {int(grouped_df)} people benefitted from the existing water bottle station at 635 COMMONWEALTH AVENUE\")"
      ],
      "metadata": {
        "colab": {
          "base_uri": "https://localhost:8080/"
        },
        "id": "Gt5CGESUlMZO",
        "outputId": "8347f8d3-7932-48b1-fc01-13fc6240c10c"
      },
      "execution_count": null,
      "outputs": [
        {
          "output_type": "stream",
          "name": "stdout",
          "text": [
            "On an average day, 1527 people benefitted from the existing water bottle station at 635 COMMONWEALTH AVENUE\n"
          ]
        }
      ]
    },
    {
      "cell_type": "code",
      "source": [
        "grouped_df = dfWifi[dfWifi['building_desc'] == '2 SILBER WAY']\n",
        "grouped_df = grouped_df.groupby(['building_desc', 'hour'])[['capacity']].mean().sum()\n",
        "print(f\"On an average day, {int(grouped_df)} people benefitted from the existing water bottle station at 2 SILBER WAY\")"
      ],
      "metadata": {
        "colab": {
          "base_uri": "https://localhost:8080/"
        },
        "id": "buq5X_z8lWgz",
        "outputId": "86abc9f1-d090-4f28-a4ee-ae752b6fa82c"
      },
      "execution_count": null,
      "outputs": [
        {
          "output_type": "stream",
          "name": "stdout",
          "text": [
            "On an average day, 1472 people benefitted from the existing water bottle station at 2 SILBER WAY\n"
          ]
        }
      ]
    },
    {
      "cell_type": "code",
      "source": [
        "grouped_df = dfWifi[dfWifi['building_desc'] == '595 COMMONWEALTH AVENUE']\n",
        "grouped_df = grouped_df.groupby(['building_desc', 'hour'])[['capacity']].mean().sum()\n",
        "print(f\"On an average day, {int(grouped_df)} people benefitted from the existing water bottle station at 595 COMMONWEALTH AVENUE\")"
      ],
      "metadata": {
        "colab": {
          "base_uri": "https://localhost:8080/"
        },
        "id": "7Me9Mv7Vqjwh",
        "outputId": "da38acc3-dbc3-4a78-d57e-ed2af2907953"
      },
      "execution_count": null,
      "outputs": [
        {
          "output_type": "stream",
          "name": "stdout",
          "text": [
            "On an average day, 4523 people benefitted from the existing water bottle station at 595 COMMONWEALTH AVENUE\n"
          ]
        }
      ]
    },
    {
      "cell_type": "code",
      "source": [
        "grouped_df = dfWifi[dfWifi['building_desc'] == '285 BABCOCK STREET']\n",
        "grouped_df = grouped_df.groupby(['building_desc', 'hour'])[['capacity']].mean().sum()\n",
        "print(f\"On an average day, {int(grouped_df)} people benefitted from the existing water bottle station at 285 BABCOCK STREET\")"
      ],
      "metadata": {
        "colab": {
          "base_uri": "https://localhost:8080/"
        },
        "id": "HT3B2jENqjyv",
        "outputId": "1ac742b3-763c-4f78-ab0a-3fb32b62e792"
      },
      "execution_count": null,
      "outputs": [
        {
          "output_type": "stream",
          "name": "stdout",
          "text": [
            "On an average day, 8131 people benefitted from the existing water bottle station at 285 BABCOCK STREET\n"
          ]
        }
      ]
    },
    {
      "cell_type": "code",
      "source": [
        "grouped_df = dfWifi[dfWifi['building_desc'] == '120 ASHFORD STREET']\n",
        "grouped_df = grouped_df.groupby(['building_desc', 'hour'])[['capacity']].mean().sum()\n",
        "print(f\"On an average day, {int(grouped_df)} people benefitted from the existing water bottle station at 120 ASHFORD STREET\")"
      ],
      "metadata": {
        "colab": {
          "base_uri": "https://localhost:8080/"
        },
        "id": "ldMmEI85qj1B",
        "outputId": "bac1bab8-574e-4b4a-c5e7-774fe665b15e"
      },
      "execution_count": null,
      "outputs": [
        {
          "output_type": "stream",
          "name": "stdout",
          "text": [
            "On an average day, 4037 people benefitted from the existing water bottle station at 120 ASHFORD STREET\n"
          ]
        }
      ]
    },
    {
      "cell_type": "code",
      "source": [
        "grouped_df = dfWifi[dfWifi['building_desc'] == '100 ASHFORD STREET']\n",
        "grouped_df = grouped_df.groupby(['building_desc', 'hour'])[['capacity']].mean().sum()\n",
        "print(f\"On an average day, {int(grouped_df)} people benefitted from the existing water bottle station at 100 ASHFORD STREET\")"
      ],
      "metadata": {
        "colab": {
          "base_uri": "https://localhost:8080/"
        },
        "id": "lyqsjvSxqj3Z",
        "outputId": "1db4f484-a738-4928-d8c9-6461582c00b2"
      },
      "execution_count": null,
      "outputs": [
        {
          "output_type": "stream",
          "name": "stdout",
          "text": [
            "On an average day, 8905 people benefitted from the existing water bottle station at 100 ASHFORD STREET\n"
          ]
        }
      ]
    },
    {
      "cell_type": "code",
      "source": [
        "grouped_df = dfWifi[dfWifi['building_desc'] == '590 COMMONWEALTH AVENUE']\n",
        "grouped_df = grouped_df.groupby(['building_desc', 'hour'])[['capacity']].mean().sum()\n",
        "print(f\"On an average day, {int(grouped_df)} people benefitted from the existing water bottle station at 590 COMMONWEALTH AVENUE\")"
      ],
      "metadata": {
        "colab": {
          "base_uri": "https://localhost:8080/"
        },
        "id": "aH1PIkTxqj5m",
        "outputId": "3d95d2a0-9837-47ed-d20c-bb38521722a5"
      },
      "execution_count": null,
      "outputs": [
        {
          "output_type": "stream",
          "name": "stdout",
          "text": [
            "On an average day, 5117 people benefitted from the existing water bottle station at 590 COMMONWEALTH AVENUE\n"
          ]
        }
      ]
    },
    {
      "cell_type": "code",
      "source": [
        "grouped_df = dfWifi[dfWifi['building_desc'] == '722-26-28 COMMONWEALTH AVENUE']\n",
        "grouped_df = grouped_df.groupby(['building_desc', 'hour'])[['capacity']].mean().sum()\n",
        "print(f\"On an average day, {int(grouped_df)} people benefitted from the existing water bottle station at 722-26-28 COMMONWEALTH AVENUE\")"
      ],
      "metadata": {
        "colab": {
          "base_uri": "https://localhost:8080/"
        },
        "id": "sF1VLOYLqj76",
        "outputId": "30768127-23c4-46f7-ee1c-d9555a3c7d8c"
      },
      "execution_count": null,
      "outputs": [
        {
          "output_type": "stream",
          "name": "stdout",
          "text": [
            "On an average day, 837 people benefitted from the existing water bottle station at 722-26-28 COMMONWEALTH AVENUE\n"
          ]
        }
      ]
    },
    {
      "cell_type": "code",
      "source": [
        "grouped_df = dfWifi[dfWifi['building_desc'] == '730 COMMONWEALTH AVENUE']\n",
        "grouped_df = grouped_df.groupby(['building_desc', 'hour'])[['capacity']].mean().sum()\n",
        "print(f\"On an average day, {int(grouped_df)} people benefitted from the existing water bottle station at 730 COMMONWEALTH AVENUE\")"
      ],
      "metadata": {
        "colab": {
          "base_uri": "https://localhost:8080/"
        },
        "id": "WP0r2v5Vqj-I",
        "outputId": "e740cfcf-0d5e-45a9-a906-5c905b6d3aed"
      },
      "execution_count": null,
      "outputs": [
        {
          "output_type": "stream",
          "name": "stdout",
          "text": [
            "On an average day, 2205 people benefitted from the existing water bottle station at 730 COMMONWEALTH AVENUE\n"
          ]
        }
      ]
    },
    {
      "cell_type": "code",
      "source": [
        "grouped_df = dfWifi[dfWifi['building_desc'] == \"8 ST. MARY'S STREET\"]\n",
        "grouped_df = grouped_df.groupby(['building_desc', 'hour'])[['capacity']].mean().sum()\n",
        "print(f\"On an average day, {int(grouped_df)} people benefitted from the existing water bottle station at 8 ST. MARY'S STREET\")"
      ],
      "metadata": {
        "colab": {
          "base_uri": "https://localhost:8080/"
        },
        "id": "CZTI3nLgqkAa",
        "outputId": "b4198a9e-4a0d-4361-9e17-46fb38fcdc8e"
      },
      "execution_count": null,
      "outputs": [
        {
          "output_type": "stream",
          "name": "stdout",
          "text": [
            "On an average day, 2887 people benefitted from the existing water bottle station at 8 ST. MARY'S STREET\n"
          ]
        }
      ]
    },
    {
      "cell_type": "code",
      "source": [
        "grouped_df = dfWifi[dfWifi['building_desc'] == '25 BUICK STREET']\n",
        "grouped_df = grouped_df.groupby(['building_desc', 'hour'])[['capacity']].mean().sum()\n",
        "print(f\"On an average day, {int(grouped_df)} people benefitted from the existing water bottle station at 25 BUICK STREET\")"
      ],
      "metadata": {
        "colab": {
          "base_uri": "https://localhost:8080/"
        },
        "id": "u5linLMNqkCf",
        "outputId": "0856c9c3-6957-4d42-dd1d-6436db03d987"
      },
      "execution_count": null,
      "outputs": [
        {
          "output_type": "stream",
          "name": "stdout",
          "text": [
            "On an average day, 3624 people benefitted from the existing water bottle station at 25 BUICK STREET\n"
          ]
        }
      ]
    },
    {
      "cell_type": "code",
      "source": [
        "grouped_df = dfWifi[dfWifi['building_desc'] == '855 COMMONWEALTH AVENUE']\n",
        "grouped_df = grouped_df.groupby(['building_desc', 'hour'])[['capacity']].mean().sum()\n",
        "print(f\"On an average day, {int(grouped_df)} people benefitted from the existing water bottle station at 855 COMMONWEALTH AVENUE\")"
      ],
      "metadata": {
        "colab": {
          "base_uri": "https://localhost:8080/"
        },
        "id": "_E9GZa0ZqkE0",
        "outputId": "686d440a-9532-4d71-a223-aeeb83128a5c"
      },
      "execution_count": null,
      "outputs": [
        {
          "output_type": "stream",
          "name": "stdout",
          "text": [
            "On an average day, 3123 people benefitted from the existing water bottle station at 855 COMMONWEALTH AVENUE\n"
          ]
        }
      ]
    },
    {
      "cell_type": "code",
      "source": [
        "grouped_df = dfWifi[dfWifi['building_desc'] == '871 COMMONWEALTH AVENUE']\n",
        "grouped_df = grouped_df.groupby(['building_desc', 'hour'])[['capacity']].mean().sum()\n",
        "print(f\"On an average day, {int(grouped_df)} people benefitted from the existing water bottle station at 871 COMMONWEALTH AVENUE\")"
      ],
      "metadata": {
        "colab": {
          "base_uri": "https://localhost:8080/"
        },
        "id": "dsiUyCvVqkHH",
        "outputId": "aaa1459b-d301-4356-c070-dba41af9b36f"
      },
      "execution_count": null,
      "outputs": [
        {
          "output_type": "stream",
          "name": "stdout",
          "text": [
            "On an average day, 2830 people benefitted from the existing water bottle station at 871 COMMONWEALTH AVENUE\n"
          ]
        }
      ]
    },
    {
      "cell_type": "code",
      "source": [
        "grouped_df = dfWifi[dfWifi['building_desc'] == '700 COMMONWEALTH AVENUE']\n",
        "grouped_df = grouped_df.groupby(['building_desc', 'hour'])[['capacity']].mean().sum()\n",
        "print(f\"On an average day, {int(grouped_df)} people benefitted from the existing water bottle station at 700 COMMONWEALTH AVENUE\")"
      ],
      "metadata": {
        "colab": {
          "base_uri": "https://localhost:8080/"
        },
        "id": "fKd_NjeBqkf6",
        "outputId": "112a0926-49f9-45ca-cf15-a4909ce32b36"
      },
      "execution_count": null,
      "outputs": [
        {
          "output_type": "stream",
          "name": "stdout",
          "text": [
            "On an average day, 2640 people benefitted from the existing water bottle station at 700 COMMONWEALTH AVENUE\n"
          ]
        }
      ]
    },
    {
      "cell_type": "code",
      "source": [
        "grouped_df = dfWifi[dfWifi['building_desc'] == '1019 COMMONWEALTH AVENUE']\n",
        "grouped_df = grouped_df.groupby(['building_desc', 'hour'])[['capacity']].mean().sum()\n",
        "print(f\"On an average day, {int(grouped_df)} people benefitted from the existing water bottle station at 1019 COMMONWEALTH AVENUE\")"
      ],
      "metadata": {
        "colab": {
          "base_uri": "https://localhost:8080/"
        },
        "id": "6sIf6UOVqkh_",
        "outputId": "72cc822c-c2fd-4afa-9d06-fca852b23501"
      },
      "execution_count": null,
      "outputs": [
        {
          "output_type": "stream",
          "name": "stdout",
          "text": [
            "On an average day, 1087 people benefitted from the existing water bottle station at 1019 COMMONWEALTH AVENUE\n"
          ]
        }
      ]
    },
    {
      "cell_type": "code",
      "source": [
        "grouped_df = dfWifi[dfWifi['building_desc'] == '91 BAY STATE ROAD']\n",
        "grouped_df = grouped_df.groupby(['building_desc', 'hour'])[['capacity']].mean().sum()\n",
        "print(f\"On an average day, {int(grouped_df)} people benefitted from the existing water bottle station at 91 BAY STATE ROAD\")"
      ],
      "metadata": {
        "colab": {
          "base_uri": "https://localhost:8080/"
        },
        "id": "0Erh5Y0QlWi1",
        "outputId": "a8b9b933-ebe5-4579-b9b2-29ed6cb69e92"
      },
      "execution_count": null,
      "outputs": [
        {
          "output_type": "stream",
          "name": "stdout",
          "text": [
            "On an average day, 1831 people benefitted from the existing water bottle station at 91 BAY STATE ROAD\n"
          ]
        }
      ]
    },
    {
      "cell_type": "code",
      "source": [
        "grouped_df = dfWifi[dfWifi['building_desc'] == '275 BABCOCK STREET']\n",
        "grouped_df = grouped_df.groupby(['building_desc', 'hour'])[['capacity']].mean().sum()\n",
        "print(f\"On an average day, {int(grouped_df)} people benefitted from the existing water bottle station at 275 BABCOCK STREET\")"
      ],
      "metadata": {
        "colab": {
          "base_uri": "https://localhost:8080/"
        },
        "id": "H_XAlfGKrnhp",
        "outputId": "32f7f0ef-3074-46ec-e693-59a9aeb5dac2"
      },
      "execution_count": null,
      "outputs": [
        {
          "output_type": "stream",
          "name": "stdout",
          "text": [
            "On an average day, 1727 people benefitted from the existing water bottle station at 275 BABCOCK STREET\n"
          ]
        }
      ]
    },
    {
      "cell_type": "code",
      "source": [
        "grouped_df = dfWifi[dfWifi['building_desc'] == '33 HARRY AGGANIS WAY']\n",
        "grouped_df = grouped_df.groupby(['building_desc', 'hour'])[['capacity']].mean().sum()\n",
        "print(f\"On an average day, {int(grouped_df)} people benefitted from the existing water bottle station at 33 HARRY AGGANIS WAY\")"
      ],
      "metadata": {
        "colab": {
          "base_uri": "https://localhost:8080/"
        },
        "id": "_gP-mUtkrnn3",
        "outputId": "560daa67-eb66-493d-918f-e709c7b004fa"
      },
      "execution_count": null,
      "outputs": [
        {
          "output_type": "stream",
          "name": "stdout",
          "text": [
            "On an average day, 1266 people benefitted from the existing water bottle station at 33 HARRY AGGANIS WAY\n"
          ]
        }
      ]
    },
    {
      "cell_type": "markdown",
      "source": [
        "## Users Per Water Bottle Station (If there are multiple water bottle stations in one building, divide it by the total number of water bottle stations to check how many people benefit per water bottle station)"
      ],
      "metadata": {
        "id": "BFlOa_qQMuuK"
      }
    },
    {
      "cell_type": "code",
      "source": [
        "WithWaterBottle = {}"
      ],
      "metadata": {
        "id": "zX0LouEwNp4A"
      },
      "execution_count": null,
      "outputs": []
    },
    {
      "cell_type": "code",
      "source": [
        "grouped_df = dfWifi[dfWifi['building_desc'] == '771 COMMONWEALTH AVENUE']\n",
        "grouped_df = grouped_df.groupby(['building_desc', 'hour'])[['capacity']].mean().sum() / 3\n",
        "print(f\"On an average day, {int(grouped_df)} people benefitted per existing water bottle station at 771 COMMONWEALTH AVENUE\")\n",
        "WithWaterBottle[\"771 COMMONWEALTH AVENUE\"] = int(grouped_df)"
      ],
      "metadata": {
        "id": "9i1aGtMjrymh",
        "colab": {
          "base_uri": "https://localhost:8080/"
        },
        "outputId": "e1b32c82-1bf7-4927-887c-08f5ce185312"
      },
      "execution_count": null,
      "outputs": [
        {
          "output_type": "stream",
          "name": "stdout",
          "text": [
            "On an average day, 355 people benefitted per existing water bottle station at 771 COMMONWEALTH AVENUE\n"
          ]
        }
      ]
    },
    {
      "cell_type": "code",
      "source": [
        "grouped_df = dfWifi[dfWifi['building_desc'] == '775 COMMONWEALTH AVENUE']\n",
        "grouped_df = grouped_df.groupby(['building_desc', 'hour'])[['capacity']].mean().sum() / 5\n",
        "print(f\"On an average day, {int(grouped_df)} people benefitted per existing water bottle station at 775 COMMONWEALTH AVENUE\")\n",
        "WithWaterBottle[\"775 COMMONWEALTH AVENUE\"] = int(grouped_df)"
      ],
      "metadata": {
        "colab": {
          "base_uri": "https://localhost:8080/"
        },
        "id": "4Ii76t91NLXW",
        "outputId": "1f4940ad-a51a-4f4a-f47c-1e6312ad267d"
      },
      "execution_count": null,
      "outputs": [
        {
          "output_type": "stream",
          "name": "stdout",
          "text": [
            "On an average day, 929 people benefitted per existing water bottle station at 775 COMMONWEALTH AVENUE\n"
          ]
        }
      ]
    },
    {
      "cell_type": "code",
      "source": [
        "grouped_df = dfWifi[dfWifi['building_desc'] == '1 UNIVERSITY ROAD']\n",
        "grouped_df = grouped_df.groupby(['building_desc', 'hour'])[['capacity']].mean().sum() / 4\n",
        "print(f\"On an average day, {int(grouped_df)} people benefitted per existing water bottle station at 1 UNIVERSITY ROAD\")\n",
        "WithWaterBottle[\"1 UNIVERSITY ROAD\"] = int(grouped_df)"
      ],
      "metadata": {
        "colab": {
          "base_uri": "https://localhost:8080/"
        },
        "id": "jrnUDvM3NLZ3",
        "outputId": "719ee877-1bc0-4f0d-8888-0bbb96653f67"
      },
      "execution_count": null,
      "outputs": [
        {
          "output_type": "stream",
          "name": "stdout",
          "text": [
            "On an average day, 804 people benefitted per existing water bottle station at 1 UNIVERSITY ROAD\n"
          ]
        }
      ]
    },
    {
      "cell_type": "code",
      "source": [
        "grouped_df = dfWifi[dfWifi['building_desc'] == '745 - 755 COMMONWEALTH AVENUE']\n",
        "grouped_df = grouped_df.groupby(['building_desc', 'hour'])[['capacity']].mean().sum() / 4\n",
        "print(f\"On an average day, {int(grouped_df)} people benefitted per existing water bottle station at 745 - 755 COMMONWEALTH AVENUE\")\n",
        "WithWaterBottle[\"745 - 755 COMMONWEALTH AVENUE\"] = int(grouped_df)"
      ],
      "metadata": {
        "colab": {
          "base_uri": "https://localhost:8080/"
        },
        "id": "xlEyObepNLcI",
        "outputId": "615d8dfa-2dc3-4a2f-b86e-6b0fa167caed"
      },
      "execution_count": null,
      "outputs": [
        {
          "output_type": "stream",
          "name": "stdout",
          "text": [
            "On an average day, 396 people benefitted per existing water bottle station at 745 - 755 COMMONWEALTH AVENUE\n"
          ]
        }
      ]
    },
    {
      "cell_type": "code",
      "source": [
        "grouped_df = dfWifi[dfWifi['building_desc'] == '264-270 BAY STATE ROAD']\n",
        "grouped_df = grouped_df.groupby(['building_desc', 'hour'])[['capacity']].mean().sum() / 3\n",
        "print(f\"On an average day, {int(grouped_df)} people benefitted per existing water bottle station at 264-270 BAY STATE ROAD\")\n",
        "WithWaterBottle[\"264-270 BAY STATE ROAD\"] = int(grouped_df)"
      ],
      "metadata": {
        "colab": {
          "base_uri": "https://localhost:8080/"
        },
        "id": "FgdvWlYiNLeO",
        "outputId": "195ca3c1-82be-416d-89fc-1171b760aed3"
      },
      "execution_count": null,
      "outputs": [
        {
          "output_type": "stream",
          "name": "stdout",
          "text": [
            "On an average day, 368 people benefitted per existing water bottle station at 264-270 BAY STATE ROAD\n"
          ]
        }
      ]
    },
    {
      "cell_type": "code",
      "source": [
        "grouped_df = dfWifi[dfWifi['building_desc'] == '635 COMMONWEALTH AVENUE']\n",
        "grouped_df = grouped_df.groupby(['building_desc', 'hour'])[['capacity']].mean().sum() / 4\n",
        "print(f\"On an average day, {int(grouped_df)} people benefitted per existing water bottle station at 635 COMMONWEALTH AVENUE\")\n",
        "WithWaterBottle[\"635 COMMONWEALTH AVENUE\"] = int(grouped_df)"
      ],
      "metadata": {
        "colab": {
          "base_uri": "https://localhost:8080/"
        },
        "id": "QNc5BAI8NLgV",
        "outputId": "3e0913dd-0b8b-41c0-959c-ac5b16da1d94"
      },
      "execution_count": null,
      "outputs": [
        {
          "output_type": "stream",
          "name": "stdout",
          "text": [
            "On an average day, 381 people benefitted per existing water bottle station at 635 COMMONWEALTH AVENUE\n"
          ]
        }
      ]
    },
    {
      "cell_type": "code",
      "source": [
        "grouped_df = dfWifi[dfWifi['building_desc'] == '2 SILBER WAY']\n",
        "grouped_df = grouped_df.groupby(['building_desc', 'hour'])[['capacity']].mean().sum() / 6\n",
        "print(f\"On an average day, {int(grouped_df)} people benefitted per existing water bottle station at 2 SILBER WAY\")\n",
        "WithWaterBottle[\"2 SILBER WAY'\"] = int(grouped_df)"
      ],
      "metadata": {
        "colab": {
          "base_uri": "https://localhost:8080/"
        },
        "id": "uO8BChOUNLid",
        "outputId": "139ddce7-6e2d-43ac-b879-a1a79e7db123"
      },
      "execution_count": null,
      "outputs": [
        {
          "output_type": "stream",
          "name": "stdout",
          "text": [
            "On an average day, 245 people benefitted per existing water bottle station at 2 SILBER WAY\n"
          ]
        }
      ]
    },
    {
      "cell_type": "code",
      "source": [
        "grouped_df = dfWifi[dfWifi['building_desc'] == '595 COMMONWEALTH AVENUE']\n",
        "grouped_df = grouped_df.groupby(['building_desc', 'hour'])[['capacity']].mean().sum() / 9\n",
        "print(f\"On an average day, {int(grouped_df)} people benefitted per existing water bottle station at 595 COMMONWEALTH AVENUE\")\n",
        "WithWaterBottle[\"595 COMMONWEALTH AVENUE\"] = int(grouped_df)"
      ],
      "metadata": {
        "colab": {
          "base_uri": "https://localhost:8080/"
        },
        "id": "4V22rmdUNLkl",
        "outputId": "666ef893-ce00-46a0-810e-2f825aa3edfb"
      },
      "execution_count": null,
      "outputs": [
        {
          "output_type": "stream",
          "name": "stdout",
          "text": [
            "On an average day, 502 people benefitted per existing water bottle station at 595 COMMONWEALTH AVENUE\n"
          ]
        }
      ]
    },
    {
      "cell_type": "code",
      "source": [
        "grouped_df = dfWifi[dfWifi['building_desc'] == '285 BABCOCK STREET']\n",
        "grouped_df = grouped_df.groupby(['building_desc', 'hour'])[['capacity']].mean().sum() / 5\n",
        "print(f\"On an average day, {int(grouped_df)} people benefitted per existing water bottle station at 285 BABCOCK STREET\")\n",
        "WithWaterBottle[\"285 BABCOCK STREET\"] = int(grouped_df)"
      ],
      "metadata": {
        "colab": {
          "base_uri": "https://localhost:8080/"
        },
        "id": "aPAGI02CNLmt",
        "outputId": "22a5f4e8-ad83-4b3b-d44a-d8bc712c8ada"
      },
      "execution_count": null,
      "outputs": [
        {
          "output_type": "stream",
          "name": "stdout",
          "text": [
            "On an average day, 1626 people benefitted per existing water bottle station at 285 BABCOCK STREET\n"
          ]
        }
      ]
    },
    {
      "cell_type": "code",
      "source": [
        "grouped_df = dfWifi[dfWifi['building_desc'] == '120 ASHFORD STREET']\n",
        "grouped_df = grouped_df.groupby(['building_desc', 'hour'])[['capacity']].mean().sum() / 2\n",
        "print(f\"On an average day, {int(grouped_df)} people benefitted per existing water bottle station at 120 ASHFORD STREET\")\n",
        "WithWaterBottle[\"120 ASHFORD STREET\"] = int(grouped_df)"
      ],
      "metadata": {
        "colab": {
          "base_uri": "https://localhost:8080/"
        },
        "id": "lbedllYiNLo5",
        "outputId": "2179378c-61bd-4923-ffbd-8f4aba7e82fe"
      },
      "execution_count": null,
      "outputs": [
        {
          "output_type": "stream",
          "name": "stdout",
          "text": [
            "On an average day, 2018 people benefitted per existing water bottle station at 120 ASHFORD STREET\n"
          ]
        }
      ]
    },
    {
      "cell_type": "code",
      "source": [
        "grouped_df = dfWifi[dfWifi['building_desc'] == '100 ASHFORD STREET']\n",
        "grouped_df = grouped_df.groupby(['building_desc', 'hour'])[['capacity']].mean().sum() / 1\n",
        "print(f\"On an average day, {int(grouped_df)} people benefitted per existing water bottle station at 100 ASHFORD STREET\")\n",
        "WithWaterBottle[\"100 ASHFORD STREET\"] = int(grouped_df)"
      ],
      "metadata": {
        "colab": {
          "base_uri": "https://localhost:8080/"
        },
        "id": "27mZpq_sNLrG",
        "outputId": "ac37ae54-b1d4-44fd-81d4-4f64c4b7e95d"
      },
      "execution_count": null,
      "outputs": [
        {
          "output_type": "stream",
          "name": "stdout",
          "text": [
            "On an average day, 8905 people benefitted per existing water bottle station at 100 ASHFORD STREET\n"
          ]
        }
      ]
    },
    {
      "cell_type": "code",
      "source": [
        "grouped_df = dfWifi[dfWifi['building_desc'] == '590 COMMONWEALTH AVENUE']\n",
        "grouped_df = grouped_df.groupby(['building_desc', 'hour'])[['capacity']].mean().sum() / 6\n",
        "print(f\"On an average day, {int(grouped_df)} people benefitted per existing water bottle station at 590 COMMONWEALTH AVENUE\")\n",
        "WithWaterBottle[\"590 COMMONWEALTH AVENUE\"] = int(grouped_df)"
      ],
      "metadata": {
        "colab": {
          "base_uri": "https://localhost:8080/"
        },
        "id": "WSwme5xtNLtW",
        "outputId": "7e10a131-dcd5-4bb8-8d60-db906cb72506"
      },
      "execution_count": null,
      "outputs": [
        {
          "output_type": "stream",
          "name": "stdout",
          "text": [
            "On an average day, 852 people benefitted per existing water bottle station at 590 COMMONWEALTH AVENUE\n"
          ]
        }
      ]
    },
    {
      "cell_type": "code",
      "source": [
        "grouped_df = dfWifi[dfWifi['building_desc'] == '722-26-28 COMMONWEALTH AVENUE']\n",
        "grouped_df = grouped_df.groupby(['building_desc', 'hour'])[['capacity']].mean().sum() / 7\n",
        "print(f\"On an average day, {int(grouped_df)} people benefitted per existing water bottle station at 722-26-28 COMMONWEALTH AVENUE\")\n",
        "WithWaterBottle[\"722-26-28 COMMONWEALTH AVENUE\"] = int(grouped_df)"
      ],
      "metadata": {
        "colab": {
          "base_uri": "https://localhost:8080/"
        },
        "id": "8JXjGVQMNLvu",
        "outputId": "2dbcb257-2da6-4198-adcb-11b008d1558c"
      },
      "execution_count": null,
      "outputs": [
        {
          "output_type": "stream",
          "name": "stdout",
          "text": [
            "On an average day, 119 people benefitted per existing water bottle station at 722-26-28 COMMONWEALTH AVENUE\n"
          ]
        }
      ]
    },
    {
      "cell_type": "code",
      "source": [
        "grouped_df = dfWifi[dfWifi['building_desc'] == '730 COMMONWEALTH AVENUE']\n",
        "grouped_df = grouped_df.groupby(['building_desc', 'hour'])[['capacity']].mean().sum() / 1\n",
        "print(f\"On an average day, {int(grouped_df)} people benefitted per existing water bottle station at 730 COMMONWEALTH AVENUE\")\n",
        "WithWaterBottle[\"730 COMMONWEALTH AVENUE\"] = int(grouped_df)"
      ],
      "metadata": {
        "colab": {
          "base_uri": "https://localhost:8080/"
        },
        "id": "t6RGiM1cNLyi",
        "outputId": "c4d76848-e23e-4d8b-f84a-654ff1f6e80c"
      },
      "execution_count": null,
      "outputs": [
        {
          "output_type": "stream",
          "name": "stdout",
          "text": [
            "On an average day, 2205 people benefitted per existing water bottle station at 730 COMMONWEALTH AVENUE\n"
          ]
        }
      ]
    },
    {
      "cell_type": "code",
      "source": [
        "grouped_df = dfWifi[dfWifi['building_desc'] == \"8 ST. MARY'S STREET\"]\n",
        "grouped_df = grouped_df.groupby(['building_desc', 'hour'])[['capacity']].mean().sum() / 4\n",
        "print(f\"On an average day, {int(grouped_df)} people benefitted per existing water bottle station at 8 ST. MARY'S STREET\")\n",
        "WithWaterBottle[\"8 ST. MARY'S STREET\"] = int(grouped_df)"
      ],
      "metadata": {
        "colab": {
          "base_uri": "https://localhost:8080/"
        },
        "id": "Kij2I8JyNL0d",
        "outputId": "6c6efe9b-bdd1-4b85-e5fb-5daf7c4c4b07"
      },
      "execution_count": null,
      "outputs": [
        {
          "output_type": "stream",
          "name": "stdout",
          "text": [
            "On an average day, 721 people benefitted per existing water bottle station at 8 ST. MARY'S STREET\n"
          ]
        }
      ]
    },
    {
      "cell_type": "code",
      "source": [
        "grouped_df = dfWifi[dfWifi['building_desc'] == '25 BUICK STREET']\n",
        "grouped_df = grouped_df.groupby(['building_desc', 'hour'])[['capacity']].mean().sum() / 1\n",
        "print(f\"On an average day, {int(grouped_df)} people benefitted per existing water bottle station at 25 BUICK STREET\")\n",
        "WithWaterBottle[\"25 BUICK STREET\"] = int(grouped_df)"
      ],
      "metadata": {
        "colab": {
          "base_uri": "https://localhost:8080/"
        },
        "id": "B_PZaJOZNL2l",
        "outputId": "00a1104e-30f6-4846-8480-1ec834a04e27"
      },
      "execution_count": null,
      "outputs": [
        {
          "output_type": "stream",
          "name": "stdout",
          "text": [
            "On an average day, 3624 people benefitted per existing water bottle station at 25 BUICK STREET\n"
          ]
        }
      ]
    },
    {
      "cell_type": "code",
      "source": [
        "grouped_df = dfWifi[dfWifi['building_desc'] == '855 COMMONWEALTH AVENUE']\n",
        "grouped_df = grouped_df.groupby(['building_desc', 'hour'])[['capacity']].mean().sum() / 6\n",
        "print(f\"On an average day, {int(grouped_df)} people benefitted per existing water bottle station at 855 COMMONWEALTH AVENUE\")\n",
        "WithWaterBottle[\"855 COMMONWEALTH AVENUE\"] = int(grouped_df)"
      ],
      "metadata": {
        "colab": {
          "base_uri": "https://localhost:8080/"
        },
        "id": "vqP4MBCmNL43",
        "outputId": "c83d5d21-6029-4bee-9e87-4854cc387f96"
      },
      "execution_count": null,
      "outputs": [
        {
          "output_type": "stream",
          "name": "stdout",
          "text": [
            "On an average day, 520 people benefitted per existing water bottle station at 855 COMMONWEALTH AVENUE\n"
          ]
        }
      ]
    },
    {
      "cell_type": "code",
      "source": [
        "grouped_df = dfWifi[dfWifi['building_desc'] == '871 COMMONWEALTH AVENUE']\n",
        "grouped_df = grouped_df.groupby(['building_desc', 'hour'])[['capacity']].mean().sum() / 12\n",
        "print(f\"On an average day, {int(grouped_df)} people benefitted per existing water bottle station at 871 COMMONWEALTH AVENUE\")\n",
        "WithWaterBottle[\"871 COMMONWEALTH AVENUE\"] = int(grouped_df)"
      ],
      "metadata": {
        "colab": {
          "base_uri": "https://localhost:8080/"
        },
        "id": "6v9Wf9foNL7J",
        "outputId": "e8df4eb3-1c78-492a-f16c-07910fe9caf1"
      },
      "execution_count": null,
      "outputs": [
        {
          "output_type": "stream",
          "name": "stdout",
          "text": [
            "On an average day, 235 people benefitted per existing water bottle station at 871 COMMONWEALTH AVENUE\n"
          ]
        }
      ]
    },
    {
      "cell_type": "code",
      "source": [
        "grouped_df = dfWifi[dfWifi['building_desc'] == '700 COMMONWEALTH AVENUE']\n",
        "grouped_df = grouped_df.groupby(['building_desc', 'hour'])[['capacity']].mean().sum() / 6\n",
        "print(f\"On an average day, {int(grouped_df)} people benefitted per existing water bottle station at 700 COMMONWEALTH AVENUE\")\n",
        "WithWaterBottle[\"700 COMMONWEALTH AVENUE\"] = int(grouped_df)"
      ],
      "metadata": {
        "colab": {
          "base_uri": "https://localhost:8080/"
        },
        "id": "qExZF36oNL9V",
        "outputId": "b77062d1-9a67-40a4-8c27-b03b3d8a96e7"
      },
      "execution_count": null,
      "outputs": [
        {
          "output_type": "stream",
          "name": "stdout",
          "text": [
            "On an average day, 440 people benefitted per existing water bottle station at 700 COMMONWEALTH AVENUE\n"
          ]
        }
      ]
    },
    {
      "cell_type": "code",
      "source": [
        "grouped_df = dfWifi[dfWifi['building_desc'] == '1019 COMMONWEALTH AVENUE']\n",
        "grouped_df = grouped_df.groupby(['building_desc', 'hour'])[['capacity']].mean().sum() / 6\n",
        "print(f\"On an average day, {int(grouped_df)} people benefitted per existing water bottle station at 1019 COMMONWEALTH AVENUE\")\n",
        "WithWaterBottle[\"1019 COMMONWEALTH AVENUE\"] = int(grouped_df)"
      ],
      "metadata": {
        "colab": {
          "base_uri": "https://localhost:8080/"
        },
        "id": "Ymp6j5U1NL_n",
        "outputId": "b5d5c6dd-4848-40aa-dc95-02ba3d805e4b"
      },
      "execution_count": null,
      "outputs": [
        {
          "output_type": "stream",
          "name": "stdout",
          "text": [
            "On an average day, 181 people benefitted per existing water bottle station at 1019 COMMONWEALTH AVENUE\n"
          ]
        }
      ]
    },
    {
      "cell_type": "code",
      "source": [
        "grouped_df = dfWifi[dfWifi['building_desc'] == '91 BAY STATE ROAD']\n",
        "grouped_df = grouped_df.groupby(['building_desc', 'hour'])[['capacity']].mean().sum() / 2\n",
        "print(f\"On an average day, {int(grouped_df)} people benefitted per existing water bottle station at 91 BAY STATE ROAD\")\n",
        "WithWaterBottle[\"91 BAY STATE ROAD\"] = int(grouped_df)"
      ],
      "metadata": {
        "colab": {
          "base_uri": "https://localhost:8080/"
        },
        "id": "InhB0AC0NMB5",
        "outputId": "7f80a0ea-5966-4974-95df-3199c12d3355"
      },
      "execution_count": null,
      "outputs": [
        {
          "output_type": "stream",
          "name": "stdout",
          "text": [
            "On an average day, 915 people benefitted per existing water bottle station at 91 BAY STATE ROAD\n"
          ]
        }
      ]
    },
    {
      "cell_type": "code",
      "source": [
        "grouped_df = dfWifi[dfWifi['building_desc'] == '275 BABCOCK STREET']\n",
        "grouped_df = grouped_df.groupby(['building_desc', 'hour'])[['capacity']].mean().sum() / 1\n",
        "print(f\"On an average day, {int(grouped_df)} people benefitted per existing water bottle station at 275 BABCOCK STREET\")\n",
        "WithWaterBottle[\"275 BABCOCK STREET\"] = int(grouped_df)"
      ],
      "metadata": {
        "colab": {
          "base_uri": "https://localhost:8080/"
        },
        "id": "J_Y-NODENMEG",
        "outputId": "e81e0f4a-de63-4a75-a2b5-10de97a1ba1b"
      },
      "execution_count": null,
      "outputs": [
        {
          "output_type": "stream",
          "name": "stdout",
          "text": [
            "On an average day, 1727 people benefitted per existing water bottle station at 275 BABCOCK STREET\n"
          ]
        }
      ]
    },
    {
      "cell_type": "code",
      "source": [
        "grouped_df = dfWifi[dfWifi['building_desc'] == '33 HARRY AGGANIS WAY']\n",
        "grouped_df = grouped_df.groupby(['building_desc', 'hour'])[['capacity']].mean().sum() / 2\n",
        "print(f\"On an average day, {int(grouped_df)} people benefitted per existing water bottle station at 33 HARRY AGGANIS WAY\")\n",
        "WithWaterBottle[\"33 HARRY AGGANIS WAY\"] = int(grouped_df)"
      ],
      "metadata": {
        "colab": {
          "base_uri": "https://localhost:8080/"
        },
        "id": "ABgDXOTNNMGd",
        "outputId": "3fa24300-8148-4f2b-89c0-57ec65ae3127"
      },
      "execution_count": null,
      "outputs": [
        {
          "output_type": "stream",
          "name": "stdout",
          "text": [
            "On an average day, 633 people benefitted per existing water bottle station at 33 HARRY AGGANIS WAY\n"
          ]
        }
      ]
    },
    {
      "cell_type": "markdown",
      "source": [
        "## Summary"
      ],
      "metadata": {
        "id": "HcrWZIqSRnmI"
      }
    },
    {
      "cell_type": "code",
      "source": [
        "for key, value in WithoutWaterBottle.items():\n",
        "    print(f\"{value}\")"
      ],
      "metadata": {
        "colab": {
          "base_uri": "https://localhost:8080/"
        },
        "id": "mcVaPugtRopT",
        "outputId": "c2640c40-415e-48b5-9cbe-b9b274882189"
      },
      "execution_count": null,
      "outputs": [
        {
          "output_type": "stream",
          "name": "stdout",
          "text": [
            "120\n",
            "199\n",
            "134\n",
            "146\n",
            "86\n",
            "70\n",
            "106\n",
            "443\n",
            "209\n",
            "118\n",
            "197\n",
            "142\n",
            "298\n",
            "90\n",
            "34\n",
            "157\n",
            "193\n",
            "71\n",
            "128\n",
            "68\n",
            "148\n",
            "1457\n",
            "6202\n",
            "69\n",
            "1081\n",
            "4106\n",
            "116\n",
            "3\n",
            "5\n",
            "28\n",
            "1\n",
            "20\n",
            "197\n",
            "659\n",
            "563\n",
            "184\n",
            "0\n"
          ]
        }
      ]
    },
    {
      "cell_type": "code",
      "source": [
        "for key, value in WithWaterBottle.items():\n",
        "    print(f\"{value}\")"
      ],
      "metadata": {
        "colab": {
          "base_uri": "https://localhost:8080/"
        },
        "id": "KrbNv01-Rtnr",
        "outputId": "34a7751d-bb2e-4f5c-89de-500d5f9ea2b3"
      },
      "execution_count": null,
      "outputs": [
        {
          "output_type": "stream",
          "name": "stdout",
          "text": [
            "355\n",
            "929\n",
            "804\n",
            "396\n",
            "368\n",
            "381\n",
            "245\n",
            "502\n",
            "1626\n",
            "2018\n",
            "8905\n",
            "852\n",
            "119\n",
            "2205\n",
            "721\n",
            "3624\n",
            "520\n",
            "235\n",
            "440\n",
            "181\n",
            "915\n",
            "1727\n",
            "633\n"
          ]
        }
      ]
    },
    {
      "cell_type": "code",
      "source": [
        "nonexsisting = {\n",
        "    '177 BAY STATE ROAD' :148,\n",
        "    '179 BAY STATE ROAD': 98,\n",
        "    '157 BAY STATE ROAD': 151,\n",
        "    '203 BAY STATE ROAD': 155,\n",
        "    '181 BAY STATE ROAD': 103,\n",
        "    '173 BAY STATE ROAD': 46,\n",
        "    '178 BAY STATE ROAD': 138,\n",
        "    '205 BAY STATE ROAD': 69,\n",
        "    '42 BUSWELL STREET': 1,\n",
        "    '852 BEACON STREET': 1,\n",
        "    '848 BEACON STREET': 2,\n",
        "    '864 BEACON STREET': 1,\n",
        "    '133 BAY STATE ROAD': 54,\n",
        "    '625 COMMONWEALTH AVENUE': 25,\n",
        "    '832 BEACON STREET': 61,\n",
        "    '141 BAY STATE ROAD': 101,\n",
        "    '117 BAY STATE ROAD': 103,\n",
        "    '53 BAY STATE ROAD': 349,\n",
        "    '67 BAY STATE ROAD': 157,\n",
        "    '110 BAY STATE ROAD': 54,\n",
        "    '115 BAY STATE ROAD': 59,\n",
        "    '704 COMMONWEALTH AVENUE': 510,\n",
        "    '141 CARLTON STREET': 134,\n",
        "    '37-39 CARLTON STREET': 211,\n",
        "    '1 BUSWELL STREET': 75,\n",
        "    '5 BUSWELL STREET': 71,\n",
        "    '37 BUSWELL STREET': 37,\n",
        "    '39 BUSWELL STREET': 40,\n",
        "    '45 BUSWELL STREET': 110,\n",
        "    '47 BUSWELL STREET': 98,\n",
        "    '7 BUSWELL STREET': 84,\n",
        "    '60 BAY STATE ROAD': 70,\n",
        "    '80 BAY STATE ROAD': 68,\n",
        "    '191 BAY STATE ROAD': 145,\n",
        "    '199 BAY STATE ROAD': 128,\n",
        "    '232 BAY STATE ROAD': 720,\n",
        "    '201 BAY STATE ROAD': 126,\n",
        "    '214 BAY STATE ROAD': 44,\n",
        "    '207 BAY STATE ROAD': 83,\n",
        "    '188 BAY STATE ROAD': 169,\n",
        "    '204 BAY STATE ROAD': 121,\n",
        "    '619 MEMORIAL DRIVE': 1067,\n",
        "    '100 MOUNTFORT STREET': 79,\n",
        "    '677 BEACON STREET': 667\n",
        "}\n"
      ],
      "metadata": {
        "id": "wUQTjM15R8IB"
      },
      "execution_count": null,
      "outputs": []
    }
  ]
}