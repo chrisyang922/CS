{
 "cells": [
  {
   "cell_type": "code",
   "execution_count": 93,
   "metadata": {},
   "outputs": [],
   "source": [
    "import pandas as pd\n",
    "import csv\n",
    "import numpy as np"
   ]
  },
  {
   "cell_type": "code",
   "execution_count": 94,
   "metadata": {},
   "outputs": [
    {
     "data": {
      "text/html": [
       "<div>\n",
       "<style scoped>\n",
       "    .dataframe tbody tr th:only-of-type {\n",
       "        vertical-align: middle;\n",
       "    }\n",
       "\n",
       "    .dataframe tbody tr th {\n",
       "        vertical-align: top;\n",
       "    }\n",
       "\n",
       "    .dataframe thead th {\n",
       "        text-align: right;\n",
       "    }\n",
       "</style>\n",
       "<table border=\"1\" class=\"dataframe\">\n",
       "  <thead>\n",
       "    <tr style=\"text-align: right;\">\n",
       "      <th></th>\n",
       "      <th>BUILDING</th>\n",
       "      <th>FLOOR</th>\n",
       "      <th>TOTAL STATIONS/BUILDING</th>\n",
       "    </tr>\n",
       "  </thead>\n",
       "  <tbody>\n",
       "    <tr>\n",
       "      <th>0</th>\n",
       "      <td>1019 Commonwealth</td>\n",
       "      <td>1</td>\n",
       "      <td>1</td>\n",
       "    </tr>\n",
       "    <tr>\n",
       "      <th>1</th>\n",
       "      <td>110-112 Cummington</td>\n",
       "      <td>2</td>\n",
       "      <td>1</td>\n",
       "    </tr>\n",
       "    <tr>\n",
       "      <th>2</th>\n",
       "      <td>111 Cummington</td>\n",
       "      <td>1</td>\n",
       "      <td>4</td>\n",
       "    </tr>\n",
       "    <tr>\n",
       "      <th>3</th>\n",
       "      <td>111 Cummington</td>\n",
       "      <td>1</td>\n",
       "      <td>4</td>\n",
       "    </tr>\n",
       "    <tr>\n",
       "      <th>4</th>\n",
       "      <td>111 Cummington</td>\n",
       "      <td>0</td>\n",
       "      <td>4</td>\n",
       "    </tr>\n",
       "  </tbody>\n",
       "</table>\n",
       "</div>"
      ],
      "text/plain": [
       "             BUILDING FLOOR  TOTAL STATIONS/BUILDING\n",
       "0   1019 Commonwealth     1                        1\n",
       "1  110-112 Cummington     2                        1\n",
       "2      111 Cummington     1                        4\n",
       "3      111 Cummington     1                        4\n",
       "4      111 Cummington     0                        4"
      ]
     },
     "execution_count": 94,
     "metadata": {},
     "output_type": "execute_result"
    }
   ],
   "source": [
    "dfGeospatial = pd.read_csv(\"datata/updated_geospatial.csv\")\n",
    "dfGeospatial.head(5)"
   ]
  },
  {
   "cell_type": "code",
   "execution_count": 95,
   "metadata": {},
   "outputs": [
    {
     "data": {
      "text/html": [
       "<div>\n",
       "<style scoped>\n",
       "    .dataframe tbody tr th:only-of-type {\n",
       "        vertical-align: middle;\n",
       "    }\n",
       "\n",
       "    .dataframe tbody tr th {\n",
       "        vertical-align: top;\n",
       "    }\n",
       "\n",
       "    .dataframe thead th {\n",
       "        text-align: right;\n",
       "    }\n",
       "</style>\n",
       "<table border=\"1\" class=\"dataframe\">\n",
       "  <thead>\n",
       "    <tr style=\"text-align: right;\">\n",
       "      <th></th>\n",
       "      <th>Address</th>\n",
       "      <th>Floor</th>\n",
       "      <th>Description</th>\n",
       "      <th>Space@Bu room</th>\n",
       "      <th>Quantity</th>\n",
       "      <th>Walk-Thru Notes</th>\n",
       "    </tr>\n",
       "  </thead>\n",
       "  <tbody>\n",
       "    <tr>\n",
       "      <th>0</th>\n",
       "      <td>100 Ashford St</td>\n",
       "      <td>First</td>\n",
       "      <td>Hallway across from vending machines, across f...</td>\n",
       "      <td>191</td>\n",
       "      <td>1.0</td>\n",
       "      <td>two additional drinking fountain locations in ...</td>\n",
       "    </tr>\n",
       "    <tr>\n",
       "      <th>1</th>\n",
       "      <td>120 Ashford St</td>\n",
       "      <td>First</td>\n",
       "      <td>Kitchenette, Room 116A</td>\n",
       "      <td>116A</td>\n",
       "      <td>1.0</td>\n",
       "      <td>NaN</td>\n",
       "    </tr>\n",
       "    <tr>\n",
       "      <th>2</th>\n",
       "      <td>120 Ashford St</td>\n",
       "      <td>Second</td>\n",
       "      <td>Kitchenette, Room 222</td>\n",
       "      <td>222</td>\n",
       "      <td>1.0</td>\n",
       "      <td>NaN</td>\n",
       "    </tr>\n",
       "    <tr>\n",
       "      <th>3</th>\n",
       "      <td>8 St. Mary's Street</td>\n",
       "      <td>Basement</td>\n",
       "      <td>Hallway by bathrooms</td>\n",
       "      <td>B81</td>\n",
       "      <td>1.0</td>\n",
       "      <td>NaN</td>\n",
       "    </tr>\n",
       "    <tr>\n",
       "      <th>4</th>\n",
       "      <td>8 St. Mary's Street</td>\n",
       "      <td>First</td>\n",
       "      <td>Hallway by electrical room</td>\n",
       "      <td>181</td>\n",
       "      <td>1.0</td>\n",
       "      <td>NaN</td>\n",
       "    </tr>\n",
       "  </tbody>\n",
       "</table>\n",
       "</div>"
      ],
      "text/plain": [
       "               Address    Floor   \\\n",
       "0       100 Ashford St     First   \n",
       "1       120 Ashford St     First   \n",
       "2       120 Ashford St    Second   \n",
       "3  8 St. Mary's Street  Basement   \n",
       "4  8 St. Mary's Street     First   \n",
       "\n",
       "                                         Description Space@Bu room  Quantity  \\\n",
       "0  Hallway across from vending machines, across f...           191       1.0   \n",
       "1                             Kitchenette, Room 116A          116A       1.0   \n",
       "2                              Kitchenette, Room 222           222       1.0   \n",
       "3                               Hallway by bathrooms           B81       1.0   \n",
       "4                         Hallway by electrical room           181       1.0   \n",
       "\n",
       "                                     Walk-Thru Notes  \n",
       "0  two additional drinking fountain locations in ...  \n",
       "1                                                NaN  \n",
       "2                                                NaN  \n",
       "3                                                NaN  \n",
       "4                                                NaN  "
      ]
     },
     "execution_count": 95,
     "metadata": {},
     "output_type": "execute_result"
    }
   ],
   "source": [
    "dfInventory = pd.read_csv(\"datata/updated_Bottle_Fillers_Inventory.csv\")\n",
    "dfInventory.head(5)"
   ]
  },
  {
   "cell_type": "code",
   "execution_count": 96,
   "metadata": {},
   "outputs": [
    {
     "data": {
      "text/html": [
       "<div>\n",
       "<style scoped>\n",
       "    .dataframe tbody tr th:only-of-type {\n",
       "        vertical-align: middle;\n",
       "    }\n",
       "\n",
       "    .dataframe tbody tr th {\n",
       "        vertical-align: top;\n",
       "    }\n",
       "\n",
       "    .dataframe thead th {\n",
       "        text-align: right;\n",
       "    }\n",
       "</style>\n",
       "<table border=\"1\" class=\"dataframe\">\n",
       "  <thead>\n",
       "    <tr style=\"text-align: right;\">\n",
       "      <th></th>\n",
       "      <th>Room_Name</th>\n",
       "      <th>Address</th>\n",
       "      <th>Notes</th>\n",
       "      <th>Candidacy</th>\n",
       "      <th>Floor Number</th>\n",
       "    </tr>\n",
       "  </thead>\n",
       "  <tbody>\n",
       "    <tr>\n",
       "      <th>0</th>\n",
       "      <td>Agganis Arena Burke Club Room</td>\n",
       "      <td>925 Commonwealth Avenue</td>\n",
       "      <td>casual catered events, high liklihood of using...</td>\n",
       "      <td>2</td>\n",
       "      <td>2</td>\n",
       "    </tr>\n",
       "    <tr>\n",
       "      <th>1</th>\n",
       "      <td>Agganis Arena Friends of Hockey Lounge</td>\n",
       "      <td>925 Commonwealth Avenue</td>\n",
       "      <td>casual catered events, high liklihood of using...</td>\n",
       "      <td>2</td>\n",
       "      <td>1</td>\n",
       "    </tr>\n",
       "    <tr>\n",
       "      <th>2</th>\n",
       "      <td>Case Center Eilberg Lounge</td>\n",
       "      <td>285 Babcock Street</td>\n",
       "      <td>use of the space is limited; there are fillers...</td>\n",
       "      <td>5</td>\n",
       "      <td>3</td>\n",
       "    </tr>\n",
       "    <tr>\n",
       "      <th>3</th>\n",
       "      <td>College of Arts &amp; Sciences Classrooms</td>\n",
       "      <td>675-725 Commonwealth Avenue</td>\n",
       "      <td>There are a bunch already down the hallways; 4...</td>\n",
       "      <td>4</td>\n",
       "      <td>0</td>\n",
       "    </tr>\n",
       "    <tr>\n",
       "      <th>4</th>\n",
       "      <td>College of Communication Lounge</td>\n",
       "      <td>640 Commowealth Avenue</td>\n",
       "      <td>hallway by room 105</td>\n",
       "      <td>5</td>\n",
       "      <td>1</td>\n",
       "    </tr>\n",
       "  </tbody>\n",
       "</table>\n",
       "</div>"
      ],
      "text/plain": [
       "                                 Room_Name                       Address  \\\n",
       "0           Agganis Arena Burke Club Room        925 Commonwealth Avenue   \n",
       "1  Agganis Arena Friends of Hockey Lounge        925 Commonwealth Avenue   \n",
       "2              Case Center Eilberg Lounge             285 Babcock Street   \n",
       "3   College of Arts & Sciences Classrooms    675-725 Commonwealth Avenue   \n",
       "4         College of Communication Lounge         640 Commowealth Avenue   \n",
       "\n",
       "                                               Notes  Candidacy Floor Number  \n",
       "0  casual catered events, high liklihood of using...          2            2  \n",
       "1  casual catered events, high liklihood of using...          2            1  \n",
       "2  use of the space is limited; there are fillers...          5            3  \n",
       "3  There are a bunch already down the hallways; 4...          4            0  \n",
       "4                                hallway by room 105          5            1  "
      ]
     },
     "execution_count": 96,
     "metadata": {},
     "output_type": "execute_result"
    }
   ],
   "source": [
    "dfHighVolume = pd.read_csv(\"datata/updated_High_Volume_Event_Spaces.csv\")\n",
    "dfHighVolume.head(5)"
   ]
  },
  {
   "cell_type": "code",
   "execution_count": 97,
   "metadata": {},
   "outputs": [
    {
     "data": {
      "text/plain": [
       "array([2, 5, 4, 1, 3], dtype=int64)"
      ]
     },
     "execution_count": 97,
     "metadata": {},
     "output_type": "execute_result"
    }
   ],
   "source": [
    "dfHighVolume[\"Candidacy\"].unique()"
   ]
  },
  {
   "cell_type": "code",
   "execution_count": 98,
   "metadata": {},
   "outputs": [
    {
     "data": {
      "text/plain": [
       "array(['1019 Commonwealth', '110-112 Cummington', '111 Cummington',\n",
       "       '154 Bay State Road', '156 Bay State Road', '196 Bay State Road',\n",
       "       '2 Cummington', '25 Buick', '270 Bay State Road', '300 Babcock',\n",
       "       '33 Harry Agganis', '36 Cummington', '48 Cummington',\n",
       "       '5 Cummington', '517 Beacon', '565 Commonwealth', '64 Cummington',\n",
       "       '712 Beacon', '881 Commonwealth', '96 Cummington', 'Admissions',\n",
       "       'Booth', 'BUA', 'CAS', 'Case Center', 'CELOP', 'CFA', 'CGS',\n",
       "       'Claflin', 'COM', 'Danielson', 'EMA', 'ENG', 'Fitrec',\n",
       "       'Fuller Building', 'GRS', 'GSU', 'Hojo', 'Kilachand',\n",
       "       'Law Auditorium', 'Law', 'Linguistics', 'Marcom', 'Marsh',\n",
       "       'Metcalf', 'Mugar', 'Myles Annex', 'Myles Standish', 'Photonics',\n",
       "       'Questrom', 'Rich', 'Sargent', 'SHA', 'Sleeper', 'SSW', 'STH',\n",
       "       'Stone', 'Towers', 'Tsai', 'TTC', 'Warren', 'Wheelock', 'Yawkey'],\n",
       "      dtype=object)"
      ]
     },
     "execution_count": 98,
     "metadata": {},
     "output_type": "execute_result"
    }
   ],
   "source": [
    "dfGeospatial[\"BUILDING\"].unique()"
   ]
  },
  {
   "cell_type": "code",
   "execution_count": 99,
   "metadata": {},
   "outputs": [
    {
     "data": {
      "text/plain": [
       "array(['100 Ashford St', '120 Ashford St', \"8 St. Mary's Street\",\n",
       "       '273 Babcock St', '275 Babcock St', '277 Babcock St',\n",
       "       '285 Babcock St', '300 Babcock St', '91 Bay State Road',\n",
       "       '100 Bay State Road', '140 Bay State Road', '156 Bay State Road',\n",
       "       '196 Bay State Road', '226 Bay State Road', '233 Bay State Road',\n",
       "       '264 Bay State Road', '270 Bay State Road', '512 Beacon St',\n",
       "       '517 Beacon St', '610 Beacon St', '25 Buick St',\n",
       "       '565 Commonwealth Ave', '575 Commonwealth Ave',\n",
       "       '590 Commonwealth Ave', '595 Commonwealth Ave', '2 Silber Way',\n",
       "       '610 Commonwealth Ave', '621 Commonwealth Ave',\n",
       "       '635 Commonwealth Ave', '640 Commonwealth Ave',\n",
       "       '675 Commonwealth Ave', '685 Commonwealth Ave',\n",
       "       '700 Commonwealth Ave', '705 Commonwealth Ave',\n",
       "       '725 Commonwealth Ave', '735 Commonwealth Ave',\n",
       "       '745 Commonwealth Ave', '750 Commonwealth Ave',\n",
       "       '765 Commonwealth Ave', '767 Commonwealth Ave',\n",
       "       '771 Commonwealth Ave', '775 Commonwealth Ave', '1 University Rd',\n",
       "       '808 Commonwealth Ave', '820 Commonwealth Ave',\n",
       "       '855 Commonwealth Ave', '871 Commonwealth Ave',\n",
       "       '881 Commonwealth Ave', '890 Commonwealth Ave',\n",
       "       '915 Commonwealth Ave', '925 Commonwealth Ave',\n",
       "       '928 Commonwealth Ave', '985 Commonwealth Ave',\n",
       "       '1019 Commonwealth Ave', '808 Commonwealth Ave ',\n",
       "       '2 Cummington Mall', '5 Cummington Mall', '24 Cummington Mall',\n",
       "       '36 Cummington Mall', '44 Cummington Mall', '48 Cummington Mall',\n",
       "       '64 Cummington Mall', '68 Cummington Mall', '96 Cummington Mall',\n",
       "       '111 Cummington Mall', '110-112 Cummington Mall',\n",
       "       '33 Harry Agganis Way', 'nan nan'], dtype=object)"
      ]
     },
     "execution_count": 99,
     "metadata": {},
     "output_type": "execute_result"
    }
   ],
   "source": [
    "dfInventory[\"Address\"].unique()"
   ]
  },
  {
   "cell_type": "code",
   "execution_count": 100,
   "metadata": {},
   "outputs": [
    {
     "data": {
      "text/html": [
       "<div>\n",
       "<style scoped>\n",
       "    .dataframe tbody tr th:only-of-type {\n",
       "        vertical-align: middle;\n",
       "    }\n",
       "\n",
       "    .dataframe tbody tr th {\n",
       "        vertical-align: top;\n",
       "    }\n",
       "\n",
       "    .dataframe thead th {\n",
       "        text-align: right;\n",
       "    }\n",
       "</style>\n",
       "<table border=\"1\" class=\"dataframe\">\n",
       "  <thead>\n",
       "    <tr style=\"text-align: right;\">\n",
       "      <th></th>\n",
       "      <th>Room_Name</th>\n",
       "      <th>Address</th>\n",
       "      <th>Notes</th>\n",
       "      <th>Candidacy</th>\n",
       "      <th>Floor Number</th>\n",
       "    </tr>\n",
       "  </thead>\n",
       "  <tbody>\n",
       "    <tr>\n",
       "      <th>3</th>\n",
       "      <td>College of Arts &amp; Sciences Classrooms</td>\n",
       "      <td>675-725 Commonwealth Avenue</td>\n",
       "      <td>There are a bunch already down the hallways; 4...</td>\n",
       "      <td>4</td>\n",
       "      <td>0</td>\n",
       "    </tr>\n",
       "    <tr>\n",
       "      <th>5</th>\n",
       "      <td>College of General Studies Gilbane Lounge</td>\n",
       "      <td>871 Commonwealth Avenue</td>\n",
       "      <td>one on each floor</td>\n",
       "      <td>4</td>\n",
       "      <td>1</td>\n",
       "    </tr>\n",
       "    <tr>\n",
       "      <th>6</th>\n",
       "      <td>College of General Studies Katzenberg Lounge</td>\n",
       "      <td>871 Commonwealth Avenue</td>\n",
       "      <td>NaN</td>\n",
       "      <td>4</td>\n",
       "      <td>4</td>\n",
       "    </tr>\n",
       "    <tr>\n",
       "      <th>7</th>\n",
       "      <td>College of General Studies Sleeper Auditorium</td>\n",
       "      <td>871 Commonwealth Avenue</td>\n",
       "      <td>NaN</td>\n",
       "      <td>4</td>\n",
       "      <td>1</td>\n",
       "    </tr>\n",
       "    <tr>\n",
       "      <th>8</th>\n",
       "      <td>Dahod Family Alumni Center</td>\n",
       "      <td>225 Bay State Road</td>\n",
       "      <td>There's one in the space btw Castle and Admiss...</td>\n",
       "      <td>4</td>\n",
       "      <td>1</td>\n",
       "    </tr>\n",
       "  </tbody>\n",
       "</table>\n",
       "</div>"
      ],
      "text/plain": [
       "                                       Room_Name  \\\n",
       "3         College of Arts & Sciences Classrooms    \n",
       "5      College of General Studies Gilbane Lounge   \n",
       "6   College of General Studies Katzenberg Lounge   \n",
       "7  College of General Studies Sleeper Auditorium   \n",
       "8                    Dahod Family Alumni Center    \n",
       "\n",
       "                        Address  \\\n",
       "3   675-725 Commonwealth Avenue   \n",
       "5       871 Commonwealth Avenue   \n",
       "6       871 Commonwealth Avenue   \n",
       "7       871 Commonwealth Avenue   \n",
       "8            225 Bay State Road   \n",
       "\n",
       "                                               Notes  Candidacy Floor Number  \n",
       "3  There are a bunch already down the hallways; 4...          4            0  \n",
       "5                                  one on each floor          4            1  \n",
       "6                                                NaN          4            4  \n",
       "7                                                NaN          4            1  \n",
       "8  There's one in the space btw Castle and Admiss...          4            1  "
      ]
     },
     "execution_count": 100,
     "metadata": {},
     "output_type": "execute_result"
    }
   ],
   "source": [
    "dfHighVolumeOne = dfHighVolume[dfHighVolume[\"Candidacy\"] == 4]\n",
    "dfHighVolumeTwo = dfHighVolume[dfHighVolume[\"Candidacy\"] == 3]\n",
    "dfHighVolumeOne.head(5)"
   ]
  },
  {
   "cell_type": "code",
   "execution_count": 101,
   "metadata": {},
   "outputs": [
    {
     "data": {
      "text/html": [
       "<div>\n",
       "<style scoped>\n",
       "    .dataframe tbody tr th:only-of-type {\n",
       "        vertical-align: middle;\n",
       "    }\n",
       "\n",
       "    .dataframe tbody tr th {\n",
       "        vertical-align: top;\n",
       "    }\n",
       "\n",
       "    .dataframe thead th {\n",
       "        text-align: right;\n",
       "    }\n",
       "</style>\n",
       "<table border=\"1\" class=\"dataframe\">\n",
       "  <thead>\n",
       "    <tr style=\"text-align: right;\">\n",
       "      <th></th>\n",
       "      <th>Room_Name</th>\n",
       "      <th>Address</th>\n",
       "      <th>Notes</th>\n",
       "      <th>Candidacy</th>\n",
       "      <th>Floor Number</th>\n",
       "    </tr>\n",
       "  </thead>\n",
       "  <tbody>\n",
       "    <tr>\n",
       "      <th>11</th>\n",
       "      <td>George Sherman Union Metcalf Hall</td>\n",
       "      <td>775 Commonwealth Avenue</td>\n",
       "      <td>There are 3 on the second floor, just not in t...</td>\n",
       "      <td>3</td>\n",
       "      <td>2</td>\n",
       "    </tr>\n",
       "    <tr>\n",
       "      <th>15</th>\n",
       "      <td>Kilachand Center Eichenbaum Colloquium Room an...</td>\n",
       "      <td>610 Commonwealth Avenue</td>\n",
       "      <td>there's one in the hallway; a bottle filler in...</td>\n",
       "      <td>3</td>\n",
       "      <td>1</td>\n",
       "    </tr>\n",
       "  </tbody>\n",
       "</table>\n",
       "</div>"
      ],
      "text/plain": [
       "                                            Room_Name  \\\n",
       "11                  George Sherman Union Metcalf Hall   \n",
       "15  Kilachand Center Eichenbaum Colloquium Room an...   \n",
       "\n",
       "                     Address  \\\n",
       "11   775 Commonwealth Avenue   \n",
       "15   610 Commonwealth Avenue   \n",
       "\n",
       "                                                Notes  Candidacy Floor Number  \n",
       "11  There are 3 on the second floor, just not in t...          3            2  \n",
       "15  there's one in the hallway; a bottle filler in...          3            1  "
      ]
     },
     "execution_count": 101,
     "metadata": {},
     "output_type": "execute_result"
    }
   ],
   "source": [
    "dfHighVolumeTwo.head(5)"
   ]
  },
  {
   "cell_type": "code",
   "execution_count": 102,
   "metadata": {},
   "outputs": [
    {
     "data": {
      "text/plain": [
       "array([' 675-725 Commonwealth Avenue', ' 871 Commonwealth Avenue',\n",
       "       ' 225 Bay State Road', ' 775 Commonwealth Avenue',\n",
       "       ' 33 Agganis Way', ' 685 Commonwealth Avenue'], dtype=object)"
      ]
     },
     "execution_count": 102,
     "metadata": {},
     "output_type": "execute_result"
    }
   ],
   "source": [
    "dfHighVolumeOne[\"Address\"].unique()"
   ]
  },
  {
   "cell_type": "code",
   "execution_count": 103,
   "metadata": {},
   "outputs": [
    {
     "data": {
      "text/plain": [
       "array([' 775 Commonwealth Avenue', ' 610 Commonwealth Avenue'],\n",
       "      dtype=object)"
      ]
     },
     "execution_count": 103,
     "metadata": {},
     "output_type": "execute_result"
    }
   ],
   "source": [
    "dfHighVolumeTwo[\"Address\"].unique()"
   ]
  },
  {
   "cell_type": "code",
   "execution_count": 104,
   "metadata": {},
   "outputs": [
    {
     "data": {
      "text/html": [
       "<div>\n",
       "<style scoped>\n",
       "    .dataframe tbody tr th:only-of-type {\n",
       "        vertical-align: middle;\n",
       "    }\n",
       "\n",
       "    .dataframe tbody tr th {\n",
       "        vertical-align: top;\n",
       "    }\n",
       "\n",
       "    .dataframe thead th {\n",
       "        text-align: right;\n",
       "    }\n",
       "</style>\n",
       "<table border=\"1\" class=\"dataframe\">\n",
       "  <thead>\n",
       "    <tr style=\"text-align: right;\">\n",
       "      <th></th>\n",
       "      <th>date</th>\n",
       "      <th>hour</th>\n",
       "      <th>building_floor</th>\n",
       "      <th>building_desc</th>\n",
       "      <th>building_type</th>\n",
       "      <th>density_cnt</th>\n",
       "      <th>capacity</th>\n",
       "      <th>dc_ratio</th>\n",
       "    </tr>\n",
       "  </thead>\n",
       "  <tbody>\n",
       "    <tr>\n",
       "      <th>0</th>\n",
       "      <td>2021-03-31</td>\n",
       "      <td>1</td>\n",
       "      <td>4</td>\n",
       "      <td>209 BAY STATE ROAD</td>\n",
       "      <td>Residential</td>\n",
       "      <td>1</td>\n",
       "      <td>8</td>\n",
       "      <td>0.13</td>\n",
       "    </tr>\n",
       "    <tr>\n",
       "      <th>1</th>\n",
       "      <td>2021-03-31</td>\n",
       "      <td>1</td>\n",
       "      <td>2</td>\n",
       "      <td>200-202 BAY STATE ROAD</td>\n",
       "      <td>Residential</td>\n",
       "      <td>1</td>\n",
       "      <td>12</td>\n",
       "      <td>0.08</td>\n",
       "    </tr>\n",
       "    <tr>\n",
       "      <th>2</th>\n",
       "      <td>2021-03-31</td>\n",
       "      <td>1</td>\n",
       "      <td>2</td>\n",
       "      <td>184 BAY STATE ROAD</td>\n",
       "      <td>Residential</td>\n",
       "      <td>1</td>\n",
       "      <td>6</td>\n",
       "      <td>0.17</td>\n",
       "    </tr>\n",
       "    <tr>\n",
       "      <th>3</th>\n",
       "      <td>2021-03-31</td>\n",
       "      <td>1</td>\n",
       "      <td>3</td>\n",
       "      <td>190 BAY STATE ROAD</td>\n",
       "      <td>Residential</td>\n",
       "      <td>1</td>\n",
       "      <td>9</td>\n",
       "      <td>0.11</td>\n",
       "    </tr>\n",
       "    <tr>\n",
       "      <th>4</th>\n",
       "      <td>2021-03-31</td>\n",
       "      <td>1</td>\n",
       "      <td>3</td>\n",
       "      <td>161 BAY STATE ROAD</td>\n",
       "      <td>Residential</td>\n",
       "      <td>1</td>\n",
       "      <td>5</td>\n",
       "      <td>0.20</td>\n",
       "    </tr>\n",
       "  </tbody>\n",
       "</table>\n",
       "</div>"
      ],
      "text/plain": [
       "         date  hour building_floor           building_desc building_type  \\\n",
       "0  2021-03-31     1              4      209 BAY STATE ROAD   Residential   \n",
       "1  2021-03-31     1              2  200-202 BAY STATE ROAD   Residential   \n",
       "2  2021-03-31     1              2      184 BAY STATE ROAD   Residential   \n",
       "3  2021-03-31     1              3      190 BAY STATE ROAD   Residential   \n",
       "4  2021-03-31     1              3      161 BAY STATE ROAD   Residential   \n",
       "\n",
       "   density_cnt  capacity  dc_ratio  \n",
       "0            1         8      0.13  \n",
       "1            1        12      0.08  \n",
       "2            1         6      0.17  \n",
       "3            1         9      0.11  \n",
       "4            1         5      0.20  "
      ]
     },
     "execution_count": 104,
     "metadata": {},
     "output_type": "execute_result"
    }
   ],
   "source": [
    "dfWifi = pd.read_csv(\"datata/updated_wifi.csv\")\n",
    "dfWifi.head(5)"
   ]
  },
  {
   "cell_type": "code",
   "execution_count": 105,
   "metadata": {},
   "outputs": [
    {
     "data": {
      "text/html": [
       "<div>\n",
       "<style scoped>\n",
       "    .dataframe tbody tr th:only-of-type {\n",
       "        vertical-align: middle;\n",
       "    }\n",
       "\n",
       "    .dataframe tbody tr th {\n",
       "        vertical-align: top;\n",
       "    }\n",
       "\n",
       "    .dataframe thead th {\n",
       "        text-align: right;\n",
       "    }\n",
       "</style>\n",
       "<table border=\"1\" class=\"dataframe\">\n",
       "  <thead>\n",
       "    <tr style=\"text-align: right;\">\n",
       "      <th></th>\n",
       "      <th>date</th>\n",
       "      <th>hour</th>\n",
       "      <th>building_floor</th>\n",
       "      <th>building_desc</th>\n",
       "      <th>building_type</th>\n",
       "      <th>density_cnt</th>\n",
       "      <th>capacity</th>\n",
       "      <th>dc_ratio</th>\n",
       "    </tr>\n",
       "  </thead>\n",
       "  <tbody>\n",
       "    <tr>\n",
       "      <th>0</th>\n",
       "      <td>2021-03-31</td>\n",
       "      <td>1</td>\n",
       "      <td>4</td>\n",
       "      <td>209 BAY STATE ROAD</td>\n",
       "      <td>Residential</td>\n",
       "      <td>1</td>\n",
       "      <td>8</td>\n",
       "      <td>0.13</td>\n",
       "    </tr>\n",
       "    <tr>\n",
       "      <th>1</th>\n",
       "      <td>2021-03-31</td>\n",
       "      <td>1</td>\n",
       "      <td>2</td>\n",
       "      <td>200-202 BAY STATE ROAD</td>\n",
       "      <td>Residential</td>\n",
       "      <td>1</td>\n",
       "      <td>12</td>\n",
       "      <td>0.08</td>\n",
       "    </tr>\n",
       "    <tr>\n",
       "      <th>2</th>\n",
       "      <td>2021-03-31</td>\n",
       "      <td>1</td>\n",
       "      <td>2</td>\n",
       "      <td>184 BAY STATE ROAD</td>\n",
       "      <td>Residential</td>\n",
       "      <td>1</td>\n",
       "      <td>6</td>\n",
       "      <td>0.17</td>\n",
       "    </tr>\n",
       "    <tr>\n",
       "      <th>3</th>\n",
       "      <td>2021-03-31</td>\n",
       "      <td>1</td>\n",
       "      <td>3</td>\n",
       "      <td>190 BAY STATE ROAD</td>\n",
       "      <td>Residential</td>\n",
       "      <td>1</td>\n",
       "      <td>9</td>\n",
       "      <td>0.11</td>\n",
       "    </tr>\n",
       "    <tr>\n",
       "      <th>4</th>\n",
       "      <td>2021-03-31</td>\n",
       "      <td>1</td>\n",
       "      <td>3</td>\n",
       "      <td>161 BAY STATE ROAD</td>\n",
       "      <td>Residential</td>\n",
       "      <td>1</td>\n",
       "      <td>5</td>\n",
       "      <td>0.20</td>\n",
       "    </tr>\n",
       "  </tbody>\n",
       "</table>\n",
       "</div>"
      ],
      "text/plain": [
       "         date  hour building_floor           building_desc building_type  \\\n",
       "0  2021-03-31     1              4      209 BAY STATE ROAD   Residential   \n",
       "1  2021-03-31     1              2  200-202 BAY STATE ROAD   Residential   \n",
       "2  2021-03-31     1              2      184 BAY STATE ROAD   Residential   \n",
       "3  2021-03-31     1              3      190 BAY STATE ROAD   Residential   \n",
       "4  2021-03-31     1              3      161 BAY STATE ROAD   Residential   \n",
       "\n",
       "   density_cnt  capacity  dc_ratio  \n",
       "0            1         8      0.13  \n",
       "1            1        12      0.08  \n",
       "2            1         6      0.17  \n",
       "3            1         9      0.11  \n",
       "4            1         5      0.20  "
      ]
     },
     "execution_count": 105,
     "metadata": {},
     "output_type": "execute_result"
    }
   ],
   "source": [
    "dfWifi = dfWifi[~dfWifi['hour'].isin([3, 4, 5, 6])]\n",
    "dfWifi.head(5)"
   ]
  },
  {
   "cell_type": "code",
   "execution_count": 106,
   "metadata": {},
   "outputs": [],
   "source": [
    "wifiList = dfWifi[\"building_desc\"].unique()\n",
    "lengthOfList = int(len(wifiList)/4)\n",
    "chrisData = wifiList[:lengthOfList]\n",
    "ryanData = wifiList[lengthOfList:lengthOfList*2]\n",
    "junhoData = wifiList[lengthOfList*2:lengthOfList*3]\n",
    "wooData = wifiList[lengthOfList*3:]"
   ]
  },
  {
   "cell_type": "code",
   "execution_count": 107,
   "metadata": {},
   "outputs": [
    {
     "name": "stdout",
     "output_type": "stream",
     "text": [
      "['700 BEACON STREET' '736 - 738 COMMONWEALTH AVENUE'\n",
      " '916-922 COMMONWEALTH AVENUE' '866 BEACON STREET'\n",
      " '714 COMMONWEALTH AVENUE' '154 BAY STATE ROAD' '111 CUMMINGTON MALL'\n",
      " '531 BEACON STREET' '180 BAY STATE ROAD' '830-846 COMMONWEALTH AVENUE'\n",
      " '24 COTTAGE FARM ROAD' '828 BEACON STREET' '40 BUSWELL STREET'\n",
      " '152 BAY STATE ROAD' '138 MOUNTFORT STREET' '765 COMMONWEALTH AVENUE'\n",
      " '565 COMMONWEALTH AVENUE' '44 CUMMINGTON MALL' '110-112 CUMMINGTON MALL'\n",
      " '76 BAY STATE ROAD' '27 ABERDEEN STREET' '236 BAY STATE ROAD'\n",
      " '675 - 725 COMMONWEALTH AVENUE' '128 BAY STATE ROAD'\n",
      " '910 COMMONWEALTH AVENUE' '194 BAY STATE ROAD' '213 BAY STATE ROAD'\n",
      " '457 PARK DRIVE' '455 PARK DRIVE' '750 COMMONWEALTH AVENUE'\n",
      " '735 COMMONWEALTH AVENUE' '147 BAY STATE ROAD' '226 BAY STATE ROAD'\n",
      " '172 BAY STATE ROAD' \"15 ST. MARY'S STREET\" '56 BAY STATE ROAD'\n",
      " '718 COMMONWEALTH AVENUE' '124 BAY STATE ROAD' '225 BAY STATE ROAD'\n",
      " '64-86 CUMMINGTON MALL' '125 BAY STATE ROAD' '975 COMMONWEALTH AVENUE'\n",
      " '617-621 COMMONWEALTH AVENUE' '708 COMMONWEALTH AVENUE'\n",
      " '121 BAY STATE ROAD' '185 BAY STATE ROAD' '116 BAY STATE ROAD'\n",
      " '602 COMMONWEALTH AVENUE' '61 BAY STATE ROAD' '233 BAY STATE ROAD'\n",
      " '193 BAY STATE ROAD' '10 COTTAGE FARM ROAD' '78 BAY STATE ROAD'\n",
      " '143 BAY STATE ROAD' '135 IVY STREET' '75 BAY STATE ROAD'\n",
      " '74 BAY STATE ROAD' '84 BAY STATE ROAD' '118 BAY STATE ROAD'\n",
      " '156 BAY STATE ROAD' '122 BAY STATE ROAD' '50 WORTHINGTON ROAD'\n",
      " '68-70 BAY STATE ROAD']\n"
     ]
    }
   ],
   "source": [
    "print(wooData)"
   ]
  },
  {
   "cell_type": "markdown",
   "metadata": {},
   "source": [
    "## Wifi Stations Without Water Bottle Filling Station"
   ]
  },
  {
   "cell_type": "code",
   "execution_count": 108,
   "metadata": {},
   "outputs": [],
   "source": [
    "WithoutWaterBottle = {}"
   ]
  },
  {
   "cell_type": "code",
   "execution_count": 109,
   "metadata": {},
   "outputs": [
    {
     "name": "stdout",
     "output_type": "stream",
     "text": [
      "On an average day, 692 people will benefit from a water bottle station at 736 - 738 COMMONWEALTH AVENUE\n"
     ]
    },
    {
     "name": "stderr",
     "output_type": "stream",
     "text": [
      "C:\\Users\\Woo Hyeon Her\\AppData\\Local\\Temp\\ipykernel_22276\\1785521539.py:3: FutureWarning: Calling int on a single element Series is deprecated and will raise a TypeError in the future. Use int(ser.iloc[0]) instead\n",
      "  print(f\"On an average day, {int(grouped_df)} people will benefit from a water bottle station at 736 - 738 COMMONWEALTH AVENUE\")\n",
      "C:\\Users\\Woo Hyeon Her\\AppData\\Local\\Temp\\ipykernel_22276\\1785521539.py:4: FutureWarning: Calling int on a single element Series is deprecated and will raise a TypeError in the future. Use int(ser.iloc[0]) instead\n",
      "  WithoutWaterBottle['736 - 738 COMMONWEALTH AVENUE'] = int(grouped_df)\n"
     ]
    }
   ],
   "source": [
    "grouped_df = dfWifi[dfWifi['building_desc'] == '736 - 738 COMMONWEALTH AVENUE']\n",
    "grouped_df = grouped_df.groupby(['building_desc', 'hour'])[['capacity']].mean().sum()\n",
    "print(f\"On an average day, {int(grouped_df)} people will benefit from a water bottle station at 736 - 738 COMMONWEALTH AVENUE\")\n",
    "WithoutWaterBottle['736 - 738 COMMONWEALTH AVENUE'] = int(grouped_df)"
   ]
  },
  {
   "cell_type": "code",
   "execution_count": 110,
   "metadata": {},
   "outputs": [
    {
     "name": "stdout",
     "output_type": "stream",
     "text": [
      "On an average day, 1610 people will benefit from a water bottle station at 916-922 COMMONWEALTH AVENUE\n"
     ]
    },
    {
     "name": "stderr",
     "output_type": "stream",
     "text": [
      "C:\\Users\\Woo Hyeon Her\\AppData\\Local\\Temp\\ipykernel_22276\\205550598.py:3: FutureWarning: Calling int on a single element Series is deprecated and will raise a TypeError in the future. Use int(ser.iloc[0]) instead\n",
      "  print(f\"On an average day, {int(grouped_df)} people will benefit from a water bottle station at 916-922 COMMONWEALTH AVENUE\")\n",
      "C:\\Users\\Woo Hyeon Her\\AppData\\Local\\Temp\\ipykernel_22276\\205550598.py:4: FutureWarning: Calling int on a single element Series is deprecated and will raise a TypeError in the future. Use int(ser.iloc[0]) instead\n",
      "  WithoutWaterBottle['916-922 COMMONWEALTH AVENUE'] = int(grouped_df)\n"
     ]
    }
   ],
   "source": [
    "grouped_df = dfWifi[dfWifi['building_desc'] == '916-922 COMMONWEALTH AVENUE']\n",
    "grouped_df = grouped_df.groupby(['building_desc', 'hour'])[['capacity']].mean().sum()\n",
    "print(f\"On an average day, {int(grouped_df)} people will benefit from a water bottle station at 916-922 COMMONWEALTH AVENUE\")\n",
    "WithoutWaterBottle['916-922 COMMONWEALTH AVENUE'] = int(grouped_df)"
   ]
  },
  {
   "cell_type": "code",
   "execution_count": 111,
   "metadata": {},
   "outputs": [
    {
     "name": "stdout",
     "output_type": "stream",
     "text": [
      "On an average day, 0 people will benefit from a water bottle station at 866 BEACON STREET\n"
     ]
    },
    {
     "name": "stderr",
     "output_type": "stream",
     "text": [
      "C:\\Users\\Woo Hyeon Her\\AppData\\Local\\Temp\\ipykernel_22276\\4248930259.py:3: FutureWarning: Calling int on a single element Series is deprecated and will raise a TypeError in the future. Use int(ser.iloc[0]) instead\n",
      "  print(f\"On an average day, {int(grouped_df)} people will benefit from a water bottle station at 866 BEACON STREET\")\n",
      "C:\\Users\\Woo Hyeon Her\\AppData\\Local\\Temp\\ipykernel_22276\\4248930259.py:4: FutureWarning: Calling int on a single element Series is deprecated and will raise a TypeError in the future. Use int(ser.iloc[0]) instead\n",
      "  WithoutWaterBottle['866 BEACON STREET'] = int(grouped_df)\n"
     ]
    }
   ],
   "source": [
    "grouped_df = dfWifi[dfWifi['building_desc'] == '866 BEACON STREET']\n",
    "grouped_df = grouped_df.groupby(['building_desc', 'hour'])[['capacity']].mean().sum()\n",
    "print(f\"On an average day, {int(grouped_df)} people will benefit from a water bottle station at 866 BEACON STREET\")\n",
    "WithoutWaterBottle['866 BEACON STREET'] = int(grouped_df)"
   ]
  },
  {
   "cell_type": "code",
   "execution_count": 112,
   "metadata": {},
   "outputs": [
    {
     "name": "stdout",
     "output_type": "stream",
     "text": [
      "On an average day, 1 people will benefit from a water bottle station at 714 COMMONWEALTH AVENUE\n"
     ]
    },
    {
     "name": "stderr",
     "output_type": "stream",
     "text": [
      "C:\\Users\\Woo Hyeon Her\\AppData\\Local\\Temp\\ipykernel_22276\\427117986.py:3: FutureWarning: Calling int on a single element Series is deprecated and will raise a TypeError in the future. Use int(ser.iloc[0]) instead\n",
      "  print(f\"On an average day, {int(grouped_df)} people will benefit from a water bottle station at 714 COMMONWEALTH AVENUE\")\n",
      "C:\\Users\\Woo Hyeon Her\\AppData\\Local\\Temp\\ipykernel_22276\\427117986.py:4: FutureWarning: Calling int on a single element Series is deprecated and will raise a TypeError in the future. Use int(ser.iloc[0]) instead\n",
      "  WithoutWaterBottle['714 COMMONWEALTH AVENUE'] = int(grouped_df)\n"
     ]
    }
   ],
   "source": [
    "grouped_df = dfWifi[dfWifi['building_desc'] == '714 COMMONWEALTH AVENUE']\n",
    "grouped_df = grouped_df.groupby(['building_desc', 'hour'])[['capacity']].mean().sum()\n",
    "print(f\"On an average day, {int(grouped_df)} people will benefit from a water bottle station at 714 COMMONWEALTH AVENUE\")\n",
    "WithoutWaterBottle['714 COMMONWEALTH AVENUE'] = int(grouped_df)"
   ]
  },
  {
   "cell_type": "code",
   "execution_count": 113,
   "metadata": {},
   "outputs": [
    {
     "name": "stdout",
     "output_type": "stream",
     "text": [
      "On an average day, 18 people will benefit from a water bottle station at 531 BEACON STREET\n"
     ]
    },
    {
     "name": "stderr",
     "output_type": "stream",
     "text": [
      "C:\\Users\\Woo Hyeon Her\\AppData\\Local\\Temp\\ipykernel_22276\\2246671953.py:3: FutureWarning: Calling int on a single element Series is deprecated and will raise a TypeError in the future. Use int(ser.iloc[0]) instead\n",
      "  print(f\"On an average day, {int(grouped_df)} people will benefit from a water bottle station at 531 BEACON STREET\")\n",
      "C:\\Users\\Woo Hyeon Her\\AppData\\Local\\Temp\\ipykernel_22276\\2246671953.py:4: FutureWarning: Calling int on a single element Series is deprecated and will raise a TypeError in the future. Use int(ser.iloc[0]) instead\n",
      "  WithoutWaterBottle['531 BEACON STREET'] = int(grouped_df)\n"
     ]
    }
   ],
   "source": [
    "grouped_df = dfWifi[dfWifi['building_desc'] == '531 BEACON STREET']\n",
    "grouped_df = grouped_df.groupby(['building_desc', 'hour'])[['capacity']].mean().sum()\n",
    "print(f\"On an average day, {int(grouped_df)} people will benefit from a water bottle station at 531 BEACON STREET\")\n",
    "WithoutWaterBottle['531 BEACON STREET'] = int(grouped_df)"
   ]
  },
  {
   "cell_type": "code",
   "execution_count": 114,
   "metadata": {},
   "outputs": [
    {
     "name": "stdout",
     "output_type": "stream",
     "text": [
      "On an average day, 66 people will benefit from a water bottle station at 180 BAY STATE ROAD\n"
     ]
    },
    {
     "name": "stderr",
     "output_type": "stream",
     "text": [
      "C:\\Users\\Woo Hyeon Her\\AppData\\Local\\Temp\\ipykernel_22276\\2306377382.py:3: FutureWarning: Calling int on a single element Series is deprecated and will raise a TypeError in the future. Use int(ser.iloc[0]) instead\n",
      "  print(f\"On an average day, {int(grouped_df)} people will benefit from a water bottle station at 180 BAY STATE ROAD\")\n",
      "C:\\Users\\Woo Hyeon Her\\AppData\\Local\\Temp\\ipykernel_22276\\2306377382.py:4: FutureWarning: Calling int on a single element Series is deprecated and will raise a TypeError in the future. Use int(ser.iloc[0]) instead\n",
      "  WithoutWaterBottle['180 BAY STATE ROAD'] = int(grouped_df)\n"
     ]
    }
   ],
   "source": [
    "grouped_df = dfWifi[dfWifi['building_desc'] == '180 BAY STATE ROAD']\n",
    "grouped_df = grouped_df.groupby(['building_desc', 'hour'])[['capacity']].mean().sum()\n",
    "print(f\"On an average day, {int(grouped_df)} people will benefit from a water bottle station at 180 BAY STATE ROAD\")\n",
    "WithoutWaterBottle['180 BAY STATE ROAD'] = int(grouped_df)"
   ]
  },
  {
   "cell_type": "code",
   "execution_count": 115,
   "metadata": {},
   "outputs": [
    {
     "name": "stdout",
     "output_type": "stream",
     "text": [
      "On an average day, 273 people will benefit from a water bottle station at 830-846 COMMONWEALTH AVENUE\n"
     ]
    },
    {
     "name": "stderr",
     "output_type": "stream",
     "text": [
      "C:\\Users\\Woo Hyeon Her\\AppData\\Local\\Temp\\ipykernel_22276\\1096231537.py:3: FutureWarning: Calling int on a single element Series is deprecated and will raise a TypeError in the future. Use int(ser.iloc[0]) instead\n",
      "  print(f\"On an average day, {int(grouped_df)} people will benefit from a water bottle station at 830-846 COMMONWEALTH AVENUE\")\n",
      "C:\\Users\\Woo Hyeon Her\\AppData\\Local\\Temp\\ipykernel_22276\\1096231537.py:4: FutureWarning: Calling int on a single element Series is deprecated and will raise a TypeError in the future. Use int(ser.iloc[0]) instead\n",
      "  WithoutWaterBottle['830-846 COMMONWEALTH AVENUE'] = int(grouped_df)\n"
     ]
    }
   ],
   "source": [
    "grouped_df = dfWifi[dfWifi['building_desc'] == '830-846 COMMONWEALTH AVENUE']\n",
    "grouped_df = grouped_df.groupby(['building_desc', 'hour'])[['capacity']].mean().sum()\n",
    "print(f\"On an average day, {int(grouped_df)} people will benefit from a water bottle station at 830-846 COMMONWEALTH AVENUE\")\n",
    "WithoutWaterBottle['830-846 COMMONWEALTH AVENUE'] = int(grouped_df)"
   ]
  },
  {
   "cell_type": "code",
   "execution_count": 116,
   "metadata": {},
   "outputs": [
    {
     "name": "stdout",
     "output_type": "stream",
     "text": [
      "On an average day, 0 people will benefit from a water bottle station at 24 COTTAGE FARM ROAD\n"
     ]
    },
    {
     "name": "stderr",
     "output_type": "stream",
     "text": [
      "C:\\Users\\Woo Hyeon Her\\AppData\\Local\\Temp\\ipykernel_22276\\2684666362.py:3: FutureWarning: Calling int on a single element Series is deprecated and will raise a TypeError in the future. Use int(ser.iloc[0]) instead\n",
      "  print(f\"On an average day, {int(grouped_df)} people will benefit from a water bottle station at 24 COTTAGE FARM ROAD\")\n",
      "C:\\Users\\Woo Hyeon Her\\AppData\\Local\\Temp\\ipykernel_22276\\2684666362.py:4: FutureWarning: Calling int on a single element Series is deprecated and will raise a TypeError in the future. Use int(ser.iloc[0]) instead\n",
      "  WithoutWaterBottle['24 COTTAGE FARM ROAD'] = int(grouped_df)\n"
     ]
    }
   ],
   "source": [
    "grouped_df = dfWifi[dfWifi['building_desc'] == '24 COTTAGE FARM ROAD']\n",
    "grouped_df = grouped_df.groupby(['building_desc', 'hour'])[['capacity']].mean().sum()\n",
    "print(f\"On an average day, {int(grouped_df)} people will benefit from a water bottle station at 24 COTTAGE FARM ROAD\")\n",
    "WithoutWaterBottle['24 COTTAGE FARM ROAD'] = int(grouped_df)"
   ]
  },
  {
   "cell_type": "code",
   "execution_count": 117,
   "metadata": {},
   "outputs": [
    {
     "name": "stdout",
     "output_type": "stream",
     "text": [
      "On an average day, 69 people will benefit from a water bottle station at 828 BEACON STREET\n"
     ]
    },
    {
     "name": "stderr",
     "output_type": "stream",
     "text": [
      "C:\\Users\\Woo Hyeon Her\\AppData\\Local\\Temp\\ipykernel_22276\\4292857072.py:3: FutureWarning: Calling int on a single element Series is deprecated and will raise a TypeError in the future. Use int(ser.iloc[0]) instead\n",
      "  print(f\"On an average day, {int(grouped_df)} people will benefit from a water bottle station at 828 BEACON STREET\")\n",
      "C:\\Users\\Woo Hyeon Her\\AppData\\Local\\Temp\\ipykernel_22276\\4292857072.py:4: FutureWarning: Calling int on a single element Series is deprecated and will raise a TypeError in the future. Use int(ser.iloc[0]) instead\n",
      "  WithoutWaterBottle['828 BEACON STREET'] = int(grouped_df)\n"
     ]
    }
   ],
   "source": [
    "grouped_df = dfWifi[dfWifi['building_desc'] == '828 BEACON STREET']\n",
    "grouped_df = grouped_df.groupby(['building_desc', 'hour'])[['capacity']].mean().sum()\n",
    "print(f\"On an average day, {int(grouped_df)} people will benefit from a water bottle station at 828 BEACON STREET\")\n",
    "WithoutWaterBottle['828 BEACON STREET'] = int(grouped_df)"
   ]
  },
  {
   "cell_type": "code",
   "execution_count": 118,
   "metadata": {},
   "outputs": [
    {
     "name": "stdout",
     "output_type": "stream",
     "text": [
      "On an average day, 100 people will benefit from a water bottle station at 40 BUSWELL STREET\n"
     ]
    },
    {
     "name": "stderr",
     "output_type": "stream",
     "text": [
      "C:\\Users\\Woo Hyeon Her\\AppData\\Local\\Temp\\ipykernel_22276\\3976008023.py:3: FutureWarning: Calling int on a single element Series is deprecated and will raise a TypeError in the future. Use int(ser.iloc[0]) instead\n",
      "  print(f\"On an average day, {int(grouped_df)} people will benefit from a water bottle station at 40 BUSWELL STREET\")\n",
      "C:\\Users\\Woo Hyeon Her\\AppData\\Local\\Temp\\ipykernel_22276\\3976008023.py:4: FutureWarning: Calling int on a single element Series is deprecated and will raise a TypeError in the future. Use int(ser.iloc[0]) instead\n",
      "  WithoutWaterBottle['40 BUSWELL STREET'] = int(grouped_df)\n"
     ]
    }
   ],
   "source": [
    "grouped_df = dfWifi[dfWifi['building_desc'] == '40 BUSWELL STREET']\n",
    "grouped_df = grouped_df.groupby(['building_desc', 'hour'])[['capacity']].mean().sum()\n",
    "print(f\"On an average day, {int(grouped_df)} people will benefit from a water bottle station at 40 BUSWELL STREET\")\n",
    "WithoutWaterBottle['40 BUSWELL STREET'] = int(grouped_df)"
   ]
  },
  {
   "cell_type": "code",
   "execution_count": 119,
   "metadata": {},
   "outputs": [
    {
     "name": "stdout",
     "output_type": "stream",
     "text": [
      "On an average day, 161 people will benefit from a water bottle station at 152 BAY STATE ROAD\n"
     ]
    },
    {
     "name": "stderr",
     "output_type": "stream",
     "text": [
      "C:\\Users\\Woo Hyeon Her\\AppData\\Local\\Temp\\ipykernel_22276\\3975616471.py:3: FutureWarning: Calling int on a single element Series is deprecated and will raise a TypeError in the future. Use int(ser.iloc[0]) instead\n",
      "  print(f\"On an average day, {int(grouped_df)} people will benefit from a water bottle station at 152 BAY STATE ROAD\")\n",
      "C:\\Users\\Woo Hyeon Her\\AppData\\Local\\Temp\\ipykernel_22276\\3975616471.py:4: FutureWarning: Calling int on a single element Series is deprecated and will raise a TypeError in the future. Use int(ser.iloc[0]) instead\n",
      "  WithoutWaterBottle['152 BAY STATE ROAD'] = int(grouped_df)\n"
     ]
    }
   ],
   "source": [
    "grouped_df = dfWifi[dfWifi['building_desc'] == '152 BAY STATE ROAD']\n",
    "grouped_df = grouped_df.groupby(['building_desc', 'hour'])[['capacity']].mean().sum()\n",
    "print(f\"On an average day, {int(grouped_df)} people will benefit from a water bottle station at 152 BAY STATE ROAD\")\n",
    "WithoutWaterBottle['152 BAY STATE ROAD'] = int(grouped_df)"
   ]
  },
  {
   "cell_type": "code",
   "execution_count": 120,
   "metadata": {},
   "outputs": [
    {
     "name": "stdout",
     "output_type": "stream",
     "text": [
      "On an average day, 85 people will benefit from a water bottle station at 138 MOUNTFORT STREET\n"
     ]
    },
    {
     "name": "stderr",
     "output_type": "stream",
     "text": [
      "C:\\Users\\Woo Hyeon Her\\AppData\\Local\\Temp\\ipykernel_22276\\1925749511.py:3: FutureWarning: Calling int on a single element Series is deprecated and will raise a TypeError in the future. Use int(ser.iloc[0]) instead\n",
      "  print(f\"On an average day, {int(grouped_df)} people will benefit from a water bottle station at 138 MOUNTFORT STREET\")\n",
      "C:\\Users\\Woo Hyeon Her\\AppData\\Local\\Temp\\ipykernel_22276\\1925749511.py:4: FutureWarning: Calling int on a single element Series is deprecated and will raise a TypeError in the future. Use int(ser.iloc[0]) instead\n",
      "  WithoutWaterBottle['138 MOUNTFORT STREET'] = int(grouped_df)\n"
     ]
    }
   ],
   "source": [
    "grouped_df = dfWifi[dfWifi['building_desc'] == '138 MOUNTFORT STREET']\n",
    "grouped_df = grouped_df.groupby(['building_desc', 'hour'])[['capacity']].mean().sum()\n",
    "print(f\"On an average day, {int(grouped_df)} people will benefit from a water bottle station at 138 MOUNTFORT STREET\")\n",
    "WithoutWaterBottle['138 MOUNTFORT STREET'] = int(grouped_df)"
   ]
  },
  {
   "cell_type": "code",
   "execution_count": 121,
   "metadata": {},
   "outputs": [
    {
     "name": "stdout",
     "output_type": "stream",
     "text": [
      "On an average day, 1 people will benefit from a water bottle station at 76 BAY STATE ROAD\n"
     ]
    },
    {
     "name": "stderr",
     "output_type": "stream",
     "text": [
      "C:\\Users\\Woo Hyeon Her\\AppData\\Local\\Temp\\ipykernel_22276\\2561928323.py:3: FutureWarning: Calling int on a single element Series is deprecated and will raise a TypeError in the future. Use int(ser.iloc[0]) instead\n",
      "  print(f\"On an average day, {int(grouped_df)} people will benefit from a water bottle station at 76 BAY STATE ROAD\")\n",
      "C:\\Users\\Woo Hyeon Her\\AppData\\Local\\Temp\\ipykernel_22276\\2561928323.py:4: FutureWarning: Calling int on a single element Series is deprecated and will raise a TypeError in the future. Use int(ser.iloc[0]) instead\n",
      "  WithoutWaterBottle['76 BAY STATE ROAD'] = int(grouped_df)\n"
     ]
    }
   ],
   "source": [
    "grouped_df = dfWifi[dfWifi['building_desc'] == '76 BAY STATE ROAD']\n",
    "grouped_df = grouped_df.groupby(['building_desc', 'hour'])[['capacity']].mean().sum()\n",
    "print(f\"On an average day, {int(grouped_df)} people will benefit from a water bottle station at 76 BAY STATE ROAD\")\n",
    "WithoutWaterBottle['76 BAY STATE ROAD'] = int(grouped_df)"
   ]
  },
  {
   "cell_type": "code",
   "execution_count": 122,
   "metadata": {},
   "outputs": [
    {
     "name": "stdout",
     "output_type": "stream",
     "text": [
      "On an average day, 2 people will benefit from a water bottle station at 27 ABERDEEN STREET\n"
     ]
    },
    {
     "name": "stderr",
     "output_type": "stream",
     "text": [
      "C:\\Users\\Woo Hyeon Her\\AppData\\Local\\Temp\\ipykernel_22276\\408876456.py:3: FutureWarning: Calling int on a single element Series is deprecated and will raise a TypeError in the future. Use int(ser.iloc[0]) instead\n",
      "  print(f\"On an average day, {int(grouped_df)} people will benefit from a water bottle station at 27 ABERDEEN STREET\")\n",
      "C:\\Users\\Woo Hyeon Her\\AppData\\Local\\Temp\\ipykernel_22276\\408876456.py:4: FutureWarning: Calling int on a single element Series is deprecated and will raise a TypeError in the future. Use int(ser.iloc[0]) instead\n",
      "  WithoutWaterBottle['27 ABERDEEN STREET'] = int(grouped_df)\n"
     ]
    }
   ],
   "source": [
    "grouped_df = dfWifi[dfWifi['building_desc'] == '27 ABERDEEN STREET']\n",
    "grouped_df = grouped_df.groupby(['building_desc', 'hour'])[['capacity']].mean().sum()\n",
    "print(f\"On an average day, {int(grouped_df)} people will benefit from a water bottle station at 27 ABERDEEN STREET\")\n",
    "WithoutWaterBottle['27 ABERDEEN STREET'] = int(grouped_df)"
   ]
  },
  {
   "cell_type": "code",
   "execution_count": 123,
   "metadata": {},
   "outputs": [
    {
     "name": "stdout",
     "output_type": "stream",
     "text": [
      "On an average day, 301 people will benefit from a water bottle station at 236 BAY STATE ROAD\n"
     ]
    },
    {
     "name": "stderr",
     "output_type": "stream",
     "text": [
      "C:\\Users\\Woo Hyeon Her\\AppData\\Local\\Temp\\ipykernel_22276\\391045167.py:3: FutureWarning: Calling int on a single element Series is deprecated and will raise a TypeError in the future. Use int(ser.iloc[0]) instead\n",
      "  print(f\"On an average day, {int(grouped_df)} people will benefit from a water bottle station at 236 BAY STATE ROAD\")\n",
      "C:\\Users\\Woo Hyeon Her\\AppData\\Local\\Temp\\ipykernel_22276\\391045167.py:4: FutureWarning: Calling int on a single element Series is deprecated and will raise a TypeError in the future. Use int(ser.iloc[0]) instead\n",
      "  WithoutWaterBottle['236 BAY STATE ROAD'] = int(grouped_df)\n"
     ]
    }
   ],
   "source": [
    "grouped_df = dfWifi[dfWifi['building_desc'] == '236 BAY STATE ROAD']\n",
    "grouped_df = grouped_df.groupby(['building_desc', 'hour'])[['capacity']].mean().sum()\n",
    "print(f\"On an average day, {int(grouped_df)} people will benefit from a water bottle station at 236 BAY STATE ROAD\")\n",
    "WithoutWaterBottle['236 BAY STATE ROAD'] = int(grouped_df)"
   ]
  },
  {
   "cell_type": "code",
   "execution_count": 124,
   "metadata": {},
   "outputs": [
    {
     "name": "stdout",
     "output_type": "stream",
     "text": [
      "On an average day, 133 people will benefit from a water bottle station at 128 BAY STATE ROAD\n"
     ]
    },
    {
     "name": "stderr",
     "output_type": "stream",
     "text": [
      "C:\\Users\\Woo Hyeon Her\\AppData\\Local\\Temp\\ipykernel_22276\\2875409981.py:3: FutureWarning: Calling int on a single element Series is deprecated and will raise a TypeError in the future. Use int(ser.iloc[0]) instead\n",
      "  print(f\"On an average day, {int(grouped_df)} people will benefit from a water bottle station at 128 BAY STATE ROAD\")\n",
      "C:\\Users\\Woo Hyeon Her\\AppData\\Local\\Temp\\ipykernel_22276\\2875409981.py:4: FutureWarning: Calling int on a single element Series is deprecated and will raise a TypeError in the future. Use int(ser.iloc[0]) instead\n",
      "  WithoutWaterBottle['128 BAY STATE ROAD'] = int(grouped_df)\n"
     ]
    }
   ],
   "source": [
    "grouped_df = dfWifi[dfWifi['building_desc'] == '128 BAY STATE ROAD']\n",
    "grouped_df = grouped_df.groupby(['building_desc', 'hour'])[['capacity']].mean().sum()\n",
    "print(f\"On an average day, {int(grouped_df)} people will benefit from a water bottle station at 128 BAY STATE ROAD\")\n",
    "WithoutWaterBottle['128 BAY STATE ROAD'] = int(grouped_df)"
   ]
  },
  {
   "cell_type": "code",
   "execution_count": 125,
   "metadata": {},
   "outputs": [
    {
     "name": "stdout",
     "output_type": "stream",
     "text": [
      "On an average day, 1607 people will benefit from a water bottle station at 910 COMMONWEALTH AVENUE\n"
     ]
    },
    {
     "name": "stderr",
     "output_type": "stream",
     "text": [
      "C:\\Users\\Woo Hyeon Her\\AppData\\Local\\Temp\\ipykernel_22276\\2973442725.py:3: FutureWarning: Calling int on a single element Series is deprecated and will raise a TypeError in the future. Use int(ser.iloc[0]) instead\n",
      "  print(f\"On an average day, {int(grouped_df)} people will benefit from a water bottle station at 910 COMMONWEALTH AVENUE\")\n",
      "C:\\Users\\Woo Hyeon Her\\AppData\\Local\\Temp\\ipykernel_22276\\2973442725.py:4: FutureWarning: Calling int on a single element Series is deprecated and will raise a TypeError in the future. Use int(ser.iloc[0]) instead\n",
      "  WithoutWaterBottle['910 COMMONWEALTH AVENUE'] = int(grouped_df)\n"
     ]
    }
   ],
   "source": [
    "grouped_df = dfWifi[dfWifi['building_desc'] == '910 COMMONWEALTH AVENUE']\n",
    "grouped_df = grouped_df.groupby(['building_desc', 'hour'])[['capacity']].mean().sum()\n",
    "print(f\"On an average day, {int(grouped_df)} people will benefit from a water bottle station at 910 COMMONWEALTH AVENUE\")\n",
    "WithoutWaterBottle['910 COMMONWEALTH AVENUE'] = int(grouped_df)"
   ]
  },
  {
   "cell_type": "code",
   "execution_count": 126,
   "metadata": {},
   "outputs": [
    {
     "name": "stdout",
     "output_type": "stream",
     "text": [
      "On an average day, 105 people will benefit from a water bottle station at 194 BAY STATE ROAD\n"
     ]
    },
    {
     "name": "stderr",
     "output_type": "stream",
     "text": [
      "C:\\Users\\Woo Hyeon Her\\AppData\\Local\\Temp\\ipykernel_22276\\1242674748.py:3: FutureWarning: Calling int on a single element Series is deprecated and will raise a TypeError in the future. Use int(ser.iloc[0]) instead\n",
      "  print(f\"On an average day, {int(grouped_df)} people will benefit from a water bottle station at 194 BAY STATE ROAD\")\n",
      "C:\\Users\\Woo Hyeon Her\\AppData\\Local\\Temp\\ipykernel_22276\\1242674748.py:4: FutureWarning: Calling int on a single element Series is deprecated and will raise a TypeError in the future. Use int(ser.iloc[0]) instead\n",
      "  WithoutWaterBottle['194 BAY STATE ROAD'] = int(grouped_df)\n"
     ]
    }
   ],
   "source": [
    "grouped_df = dfWifi[dfWifi['building_desc'] == '194 BAY STATE ROAD']\n",
    "grouped_df = grouped_df.groupby(['building_desc', 'hour'])[['capacity']].mean().sum()\n",
    "print(f\"On an average day, {int(grouped_df)} people will benefit from a water bottle station at 194 BAY STATE ROAD\")\n",
    "WithoutWaterBottle['194 BAY STATE ROAD'] = int(grouped_df)"
   ]
  },
  {
   "cell_type": "code",
   "execution_count": 127,
   "metadata": {},
   "outputs": [
    {
     "name": "stdout",
     "output_type": "stream",
     "text": [
      "On an average day, 1511 people will benefit from a water bottle station at 213 BAY STATE ROAD\n"
     ]
    },
    {
     "name": "stderr",
     "output_type": "stream",
     "text": [
      "C:\\Users\\Woo Hyeon Her\\AppData\\Local\\Temp\\ipykernel_22276\\2131218179.py:3: FutureWarning: Calling int on a single element Series is deprecated and will raise a TypeError in the future. Use int(ser.iloc[0]) instead\n",
      "  print(f\"On an average day, {int(grouped_df)} people will benefit from a water bottle station at 213 BAY STATE ROAD\")\n",
      "C:\\Users\\Woo Hyeon Her\\AppData\\Local\\Temp\\ipykernel_22276\\2131218179.py:4: FutureWarning: Calling int on a single element Series is deprecated and will raise a TypeError in the future. Use int(ser.iloc[0]) instead\n",
      "  WithoutWaterBottle['213 BAY STATE ROAD'] = int(grouped_df)\n"
     ]
    }
   ],
   "source": [
    "grouped_df = dfWifi[dfWifi['building_desc'] == '213 BAY STATE ROAD']\n",
    "grouped_df = grouped_df.groupby(['building_desc', 'hour'])[['capacity']].mean().sum()\n",
    "print(f\"On an average day, {int(grouped_df)} people will benefit from a water bottle station at 213 BAY STATE ROAD\")\n",
    "WithoutWaterBottle['213 BAY STATE ROAD'] = int(grouped_df)"
   ]
  },
  {
   "cell_type": "code",
   "execution_count": 128,
   "metadata": {},
   "outputs": [
    {
     "name": "stdout",
     "output_type": "stream",
     "text": [
      "On an average day, 156 people will benefit from a water bottle station at 457 PARK DRIVE\n"
     ]
    },
    {
     "name": "stderr",
     "output_type": "stream",
     "text": [
      "C:\\Users\\Woo Hyeon Her\\AppData\\Local\\Temp\\ipykernel_22276\\3456190035.py:3: FutureWarning: Calling int on a single element Series is deprecated and will raise a TypeError in the future. Use int(ser.iloc[0]) instead\n",
      "  print(f\"On an average day, {int(grouped_df)} people will benefit from a water bottle station at 457 PARK DRIVE\")\n",
      "C:\\Users\\Woo Hyeon Her\\AppData\\Local\\Temp\\ipykernel_22276\\3456190035.py:4: FutureWarning: Calling int on a single element Series is deprecated and will raise a TypeError in the future. Use int(ser.iloc[0]) instead\n",
      "  WithoutWaterBottle['457 PARK DRIVE'] = int(grouped_df)\n"
     ]
    }
   ],
   "source": [
    "grouped_df = dfWifi[dfWifi['building_desc'] == '457 PARK DRIVE']\n",
    "grouped_df = grouped_df.groupby(['building_desc', 'hour'])[['capacity']].mean().sum()\n",
    "print(f\"On an average day, {int(grouped_df)} people will benefit from a water bottle station at 457 PARK DRIVE\")\n",
    "WithoutWaterBottle['457 PARK DRIVE'] = int(grouped_df)"
   ]
  },
  {
   "cell_type": "code",
   "execution_count": 129,
   "metadata": {},
   "outputs": [
    {
     "name": "stdout",
     "output_type": "stream",
     "text": [
      "On an average day, 156 people will benefit from a water bottle station at 455 PARK DRIVE\n"
     ]
    },
    {
     "name": "stderr",
     "output_type": "stream",
     "text": [
      "C:\\Users\\Woo Hyeon Her\\AppData\\Local\\Temp\\ipykernel_22276\\1644150457.py:3: FutureWarning: Calling int on a single element Series is deprecated and will raise a TypeError in the future. Use int(ser.iloc[0]) instead\n",
      "  print(f\"On an average day, {int(grouped_df)} people will benefit from a water bottle station at 455 PARK DRIVE\")\n",
      "C:\\Users\\Woo Hyeon Her\\AppData\\Local\\Temp\\ipykernel_22276\\1644150457.py:4: FutureWarning: Calling int on a single element Series is deprecated and will raise a TypeError in the future. Use int(ser.iloc[0]) instead\n",
      "  WithoutWaterBottle['455 PARK DRIVE'] = int(grouped_df)\n"
     ]
    }
   ],
   "source": [
    "grouped_df = dfWifi[dfWifi['building_desc'] == '455 PARK DRIVE']\n",
    "grouped_df = grouped_df.groupby(['building_desc', 'hour'])[['capacity']].mean().sum()\n",
    "print(f\"On an average day, {int(grouped_df)} people will benefit from a water bottle station at 455 PARK DRIVE\")\n",
    "WithoutWaterBottle['455 PARK DRIVE'] = int(grouped_df)"
   ]
  },
  {
   "cell_type": "code",
   "execution_count": 130,
   "metadata": {},
   "outputs": [
    {
     "name": "stdout",
     "output_type": "stream",
     "text": [
      "On an average day, 380 people will benefit from a water bottle station at 147 BAY STATE ROAD\n"
     ]
    },
    {
     "name": "stderr",
     "output_type": "stream",
     "text": [
      "C:\\Users\\Woo Hyeon Her\\AppData\\Local\\Temp\\ipykernel_22276\\2443983355.py:3: FutureWarning: Calling int on a single element Series is deprecated and will raise a TypeError in the future. Use int(ser.iloc[0]) instead\n",
      "  print(f\"On an average day, {int(grouped_df)} people will benefit from a water bottle station at 147 BAY STATE ROAD\")\n",
      "C:\\Users\\Woo Hyeon Her\\AppData\\Local\\Temp\\ipykernel_22276\\2443983355.py:4: FutureWarning: Calling int on a single element Series is deprecated and will raise a TypeError in the future. Use int(ser.iloc[0]) instead\n",
      "  WithoutWaterBottle['147 BAY STATE ROAD'] = int(grouped_df)\n"
     ]
    }
   ],
   "source": [
    "grouped_df = dfWifi[dfWifi['building_desc'] == '147 BAY STATE ROAD']\n",
    "grouped_df = grouped_df.groupby(['building_desc', 'hour'])[['capacity']].mean().sum()\n",
    "print(f\"On an average day, {int(grouped_df)} people will benefit from a water bottle station at 147 BAY STATE ROAD\")\n",
    "WithoutWaterBottle['147 BAY STATE ROAD'] = int(grouped_df)"
   ]
  },
  {
   "cell_type": "code",
   "execution_count": 131,
   "metadata": {},
   "outputs": [
    {
     "name": "stdout",
     "output_type": "stream",
     "text": [
      "On an average day, 106 people will benefit from a water bottle station at 172 BAY STATE ROAD\n"
     ]
    },
    {
     "name": "stderr",
     "output_type": "stream",
     "text": [
      "C:\\Users\\Woo Hyeon Her\\AppData\\Local\\Temp\\ipykernel_22276\\2284112273.py:3: FutureWarning: Calling int on a single element Series is deprecated and will raise a TypeError in the future. Use int(ser.iloc[0]) instead\n",
      "  print(f\"On an average day, {int(grouped_df)} people will benefit from a water bottle station at 172 BAY STATE ROAD\")\n",
      "C:\\Users\\Woo Hyeon Her\\AppData\\Local\\Temp\\ipykernel_22276\\2284112273.py:4: FutureWarning: Calling int on a single element Series is deprecated and will raise a TypeError in the future. Use int(ser.iloc[0]) instead\n",
      "  WithoutWaterBottle['172 BAY STATE ROAD'] = int(grouped_df)\n"
     ]
    }
   ],
   "source": [
    "grouped_df = dfWifi[dfWifi['building_desc'] == '172 BAY STATE ROAD']\n",
    "grouped_df = grouped_df.groupby(['building_desc', 'hour'])[['capacity']].mean().sum()\n",
    "print(f\"On an average day, {int(grouped_df)} people will benefit from a water bottle station at 172 BAY STATE ROAD\")\n",
    "WithoutWaterBottle['172 BAY STATE ROAD'] = int(grouped_df)"
   ]
  },
  {
   "cell_type": "code",
   "execution_count": 132,
   "metadata": {},
   "outputs": [
    {
     "name": "stdout",
     "output_type": "stream",
     "text": [
      "On an average day, 1868 people will benefit from a water bottle station at 15 ST. MARY'S STREET\n"
     ]
    },
    {
     "name": "stderr",
     "output_type": "stream",
     "text": [
      "C:\\Users\\Woo Hyeon Her\\AppData\\Local\\Temp\\ipykernel_22276\\2521177769.py:3: FutureWarning: Calling int on a single element Series is deprecated and will raise a TypeError in the future. Use int(ser.iloc[0]) instead\n",
      "  print(f\"On an average day, {int(grouped_df)} people will benefit from a water bottle station at 15 ST. MARY'S STREET\")\n",
      "C:\\Users\\Woo Hyeon Her\\AppData\\Local\\Temp\\ipykernel_22276\\2521177769.py:4: FutureWarning: Calling int on a single element Series is deprecated and will raise a TypeError in the future. Use int(ser.iloc[0]) instead\n",
      "  WithoutWaterBottle[\"15 ST. MARY'S STREET\"] = int(grouped_df)\n"
     ]
    }
   ],
   "source": [
    "grouped_df = dfWifi[dfWifi['building_desc'] == \"15 ST. MARY'S STREET\"]\n",
    "grouped_df = grouped_df.groupby(['building_desc', 'hour'])[['capacity']].mean().sum()\n",
    "print(f\"On an average day, {int(grouped_df)} people will benefit from a water bottle station at 15 ST. MARY'S STREET\")\n",
    "WithoutWaterBottle[\"15 ST. MARY'S STREET\"] = int(grouped_df)"
   ]
  },
  {
   "cell_type": "code",
   "execution_count": 133,
   "metadata": {},
   "outputs": [
    {
     "name": "stdout",
     "output_type": "stream",
     "text": [
      "On an average day, 66 people will benefit from a water bottle station at 56 BAY STATE ROAD\n"
     ]
    },
    {
     "name": "stderr",
     "output_type": "stream",
     "text": [
      "C:\\Users\\Woo Hyeon Her\\AppData\\Local\\Temp\\ipykernel_22276\\3908340724.py:3: FutureWarning: Calling int on a single element Series is deprecated and will raise a TypeError in the future. Use int(ser.iloc[0]) instead\n",
      "  print(f\"On an average day, {int(grouped_df)} people will benefit from a water bottle station at 56 BAY STATE ROAD\")\n",
      "C:\\Users\\Woo Hyeon Her\\AppData\\Local\\Temp\\ipykernel_22276\\3908340724.py:4: FutureWarning: Calling int on a single element Series is deprecated and will raise a TypeError in the future. Use int(ser.iloc[0]) instead\n",
      "  WithoutWaterBottle['56 BAY STATE ROAD'] = int(grouped_df)\n"
     ]
    }
   ],
   "source": [
    "grouped_df = dfWifi[dfWifi['building_desc'] == '56 BAY STATE ROAD']\n",
    "grouped_df = grouped_df.groupby(['building_desc', 'hour'])[['capacity']].mean().sum()\n",
    "print(f\"On an average day, {int(grouped_df)} people will benefit from a water bottle station at 56 BAY STATE ROAD\")\n",
    "WithoutWaterBottle['56 BAY STATE ROAD'] = int(grouped_df)"
   ]
  },
  {
   "cell_type": "code",
   "execution_count": 134,
   "metadata": {},
   "outputs": [
    {
     "name": "stdout",
     "output_type": "stream",
     "text": [
      "On an average day, 326 people will benefit from a water bottle station at 718 COMMONWEALTH AVENUE\n"
     ]
    },
    {
     "name": "stderr",
     "output_type": "stream",
     "text": [
      "C:\\Users\\Woo Hyeon Her\\AppData\\Local\\Temp\\ipykernel_22276\\1992848753.py:3: FutureWarning: Calling int on a single element Series is deprecated and will raise a TypeError in the future. Use int(ser.iloc[0]) instead\n",
      "  print(f\"On an average day, {int(grouped_df)} people will benefit from a water bottle station at 718 COMMONWEALTH AVENUE\")\n",
      "C:\\Users\\Woo Hyeon Her\\AppData\\Local\\Temp\\ipykernel_22276\\1992848753.py:4: FutureWarning: Calling int on a single element Series is deprecated and will raise a TypeError in the future. Use int(ser.iloc[0]) instead\n",
      "  WithoutWaterBottle['718 COMMONWEALTH AVENUE'] = int(grouped_df)\n"
     ]
    }
   ],
   "source": [
    "grouped_df = dfWifi[dfWifi['building_desc'] == '718 COMMONWEALTH AVENUE']\n",
    "grouped_df = grouped_df.groupby(['building_desc', 'hour'])[['capacity']].mean().sum()\n",
    "print(f\"On an average day, {int(grouped_df)} people will benefit from a water bottle station at 718 COMMONWEALTH AVENUE\")\n",
    "WithoutWaterBottle['718 COMMONWEALTH AVENUE'] = int(grouped_df)"
   ]
  },
  {
   "cell_type": "code",
   "execution_count": 135,
   "metadata": {},
   "outputs": [
    {
     "name": "stdout",
     "output_type": "stream",
     "text": [
      "On an average day, 58 people will benefit from a water bottle station at 124 BAY STATE ROAD\n"
     ]
    },
    {
     "name": "stderr",
     "output_type": "stream",
     "text": [
      "C:\\Users\\Woo Hyeon Her\\AppData\\Local\\Temp\\ipykernel_22276\\615237406.py:3: FutureWarning: Calling int on a single element Series is deprecated and will raise a TypeError in the future. Use int(ser.iloc[0]) instead\n",
      "  print(f\"On an average day, {int(grouped_df)} people will benefit from a water bottle station at 124 BAY STATE ROAD\")\n",
      "C:\\Users\\Woo Hyeon Her\\AppData\\Local\\Temp\\ipykernel_22276\\615237406.py:4: FutureWarning: Calling int on a single element Series is deprecated and will raise a TypeError in the future. Use int(ser.iloc[0]) instead\n",
      "  WithoutWaterBottle['124 BAY STATE ROAD'] = int(grouped_df)\n"
     ]
    }
   ],
   "source": [
    "grouped_df = dfWifi[dfWifi['building_desc'] == '124 BAY STATE ROAD']\n",
    "grouped_df = grouped_df.groupby(['building_desc', 'hour'])[['capacity']].mean().sum()\n",
    "print(f\"On an average day, {int(grouped_df)} people will benefit from a water bottle station at 124 BAY STATE ROAD\")\n",
    "WithoutWaterBottle['124 BAY STATE ROAD'] = int(grouped_df)"
   ]
  },
  {
   "cell_type": "code",
   "execution_count": 136,
   "metadata": {},
   "outputs": [
    {
     "name": "stdout",
     "output_type": "stream",
     "text": [
      "On an average day, 154 people will benefit from a water bottle station at 125 BAY STATE ROAD\n"
     ]
    },
    {
     "name": "stderr",
     "output_type": "stream",
     "text": [
      "C:\\Users\\Woo Hyeon Her\\AppData\\Local\\Temp\\ipykernel_22276\\1732621153.py:3: FutureWarning: Calling int on a single element Series is deprecated and will raise a TypeError in the future. Use int(ser.iloc[0]) instead\n",
      "  print(f\"On an average day, {int(grouped_df)} people will benefit from a water bottle station at 125 BAY STATE ROAD\")\n",
      "C:\\Users\\Woo Hyeon Her\\AppData\\Local\\Temp\\ipykernel_22276\\1732621153.py:4: FutureWarning: Calling int on a single element Series is deprecated and will raise a TypeError in the future. Use int(ser.iloc[0]) instead\n",
      "  WithoutWaterBottle['125 BAY STATE ROAD'] = int(grouped_df)\n"
     ]
    }
   ],
   "source": [
    "grouped_df = dfWifi[dfWifi['building_desc'] == '125 BAY STATE ROAD']\n",
    "grouped_df = grouped_df.groupby(['building_desc', 'hour'])[['capacity']].mean().sum()\n",
    "print(f\"On an average day, {int(grouped_df)} people will benefit from a water bottle station at 125 BAY STATE ROAD\")\n",
    "WithoutWaterBottle['125 BAY STATE ROAD'] = int(grouped_df)"
   ]
  },
  {
   "cell_type": "code",
   "execution_count": 137,
   "metadata": {},
   "outputs": [
    {
     "name": "stdout",
     "output_type": "stream",
     "text": [
      "On an average day, 1054 people will benefit from a water bottle station at 975 COMMONWEALTH AVENUE\n"
     ]
    },
    {
     "name": "stderr",
     "output_type": "stream",
     "text": [
      "C:\\Users\\Woo Hyeon Her\\AppData\\Local\\Temp\\ipykernel_22276\\1396691811.py:3: FutureWarning: Calling int on a single element Series is deprecated and will raise a TypeError in the future. Use int(ser.iloc[0]) instead\n",
      "  print(f\"On an average day, {int(grouped_df)} people will benefit from a water bottle station at 975 COMMONWEALTH AVENUE\")\n",
      "C:\\Users\\Woo Hyeon Her\\AppData\\Local\\Temp\\ipykernel_22276\\1396691811.py:4: FutureWarning: Calling int on a single element Series is deprecated and will raise a TypeError in the future. Use int(ser.iloc[0]) instead\n",
      "  WithoutWaterBottle['975 COMMONWEALTH AVENUE'] = int(grouped_df)\n"
     ]
    }
   ],
   "source": [
    "grouped_df = dfWifi[dfWifi['building_desc'] == '975 COMMONWEALTH AVENUE']\n",
    "grouped_df = grouped_df.groupby(['building_desc', 'hour'])[['capacity']].mean().sum()\n",
    "print(f\"On an average day, {int(grouped_df)} people will benefit from a water bottle station at 975 COMMONWEALTH AVENUE\")\n",
    "WithoutWaterBottle['975 COMMONWEALTH AVENUE'] = int(grouped_df)"
   ]
  },
  {
   "cell_type": "code",
   "execution_count": 138,
   "metadata": {},
   "outputs": [
    {
     "name": "stdout",
     "output_type": "stream",
     "text": [
      "On an average day, 79 people will benefit from a water bottle station at 708 COMMONWEALTH AVENUE\n"
     ]
    },
    {
     "name": "stderr",
     "output_type": "stream",
     "text": [
      "C:\\Users\\Woo Hyeon Her\\AppData\\Local\\Temp\\ipykernel_22276\\2954674435.py:3: FutureWarning: Calling int on a single element Series is deprecated and will raise a TypeError in the future. Use int(ser.iloc[0]) instead\n",
      "  print(f\"On an average day, {int(grouped_df)} people will benefit from a water bottle station at 708 COMMONWEALTH AVENUE\")\n",
      "C:\\Users\\Woo Hyeon Her\\AppData\\Local\\Temp\\ipykernel_22276\\2954674435.py:4: FutureWarning: Calling int on a single element Series is deprecated and will raise a TypeError in the future. Use int(ser.iloc[0]) instead\n",
      "  WithoutWaterBottle['708 COMMONWEALTH AVENUE'] = int(grouped_df)\n"
     ]
    }
   ],
   "source": [
    "grouped_df = dfWifi[dfWifi['building_desc'] == '708 COMMONWEALTH AVENUE']\n",
    "grouped_df = grouped_df.groupby(['building_desc', 'hour'])[['capacity']].mean().sum()\n",
    "print(f\"On an average day, {int(grouped_df)} people will benefit from a water bottle station at 708 COMMONWEALTH AVENUE\")\n",
    "WithoutWaterBottle['708 COMMONWEALTH AVENUE'] = int(grouped_df)"
   ]
  },
  {
   "cell_type": "code",
   "execution_count": 139,
   "metadata": {},
   "outputs": [
    {
     "name": "stdout",
     "output_type": "stream",
     "text": [
      "On an average day, 211 people will benefit from a water bottle station at 121 BAY STATE ROAD\n"
     ]
    },
    {
     "name": "stderr",
     "output_type": "stream",
     "text": [
      "C:\\Users\\Woo Hyeon Her\\AppData\\Local\\Temp\\ipykernel_22276\\1597763087.py:3: FutureWarning: Calling int on a single element Series is deprecated and will raise a TypeError in the future. Use int(ser.iloc[0]) instead\n",
      "  print(f\"On an average day, {int(grouped_df)} people will benefit from a water bottle station at 121 BAY STATE ROAD\")\n",
      "C:\\Users\\Woo Hyeon Her\\AppData\\Local\\Temp\\ipykernel_22276\\1597763087.py:4: FutureWarning: Calling int on a single element Series is deprecated and will raise a TypeError in the future. Use int(ser.iloc[0]) instead\n",
      "  WithoutWaterBottle['121 BAY STATE ROAD'] = int(grouped_df)\n"
     ]
    }
   ],
   "source": [
    "grouped_df = dfWifi[dfWifi['building_desc'] == '121 BAY STATE ROAD']\n",
    "grouped_df = grouped_df.groupby(['building_desc', 'hour'])[['capacity']].mean().sum()\n",
    "print(f\"On an average day, {int(grouped_df)} people will benefit from a water bottle station at 121 BAY STATE ROAD\")\n",
    "WithoutWaterBottle['121 BAY STATE ROAD'] = int(grouped_df)"
   ]
  },
  {
   "cell_type": "code",
   "execution_count": 140,
   "metadata": {},
   "outputs": [
    {
     "name": "stdout",
     "output_type": "stream",
     "text": [
      "On an average day, 153 people will benefit from a water bottle station at 185 BAY STATE ROAD\n"
     ]
    },
    {
     "name": "stderr",
     "output_type": "stream",
     "text": [
      "C:\\Users\\Woo Hyeon Her\\AppData\\Local\\Temp\\ipykernel_22276\\1099720217.py:3: FutureWarning: Calling int on a single element Series is deprecated and will raise a TypeError in the future. Use int(ser.iloc[0]) instead\n",
      "  print(f\"On an average day, {int(grouped_df)} people will benefit from a water bottle station at 185 BAY STATE ROAD\")\n",
      "C:\\Users\\Woo Hyeon Her\\AppData\\Local\\Temp\\ipykernel_22276\\1099720217.py:4: FutureWarning: Calling int on a single element Series is deprecated and will raise a TypeError in the future. Use int(ser.iloc[0]) instead\n",
      "  WithoutWaterBottle['185 BAY STATE ROAD'] = int(grouped_df)\n"
     ]
    }
   ],
   "source": [
    "grouped_df = dfWifi[dfWifi['building_desc'] == '185 BAY STATE ROAD']\n",
    "grouped_df = grouped_df.groupby(['building_desc', 'hour'])[['capacity']].mean().sum()\n",
    "print(f\"On an average day, {int(grouped_df)} people will benefit from a water bottle station at 185 BAY STATE ROAD\")\n",
    "WithoutWaterBottle['185 BAY STATE ROAD'] = int(grouped_df)"
   ]
  },
  {
   "cell_type": "code",
   "execution_count": 141,
   "metadata": {},
   "outputs": [
    {
     "name": "stdout",
     "output_type": "stream",
     "text": [
      "On an average day, 85 people will benefit from a water bottle station at 116 BAY STATE ROAD\n"
     ]
    },
    {
     "name": "stderr",
     "output_type": "stream",
     "text": [
      "C:\\Users\\Woo Hyeon Her\\AppData\\Local\\Temp\\ipykernel_22276\\2963543978.py:3: FutureWarning: Calling int on a single element Series is deprecated and will raise a TypeError in the future. Use int(ser.iloc[0]) instead\n",
      "  print(f\"On an average day, {int(grouped_df)} people will benefit from a water bottle station at 116 BAY STATE ROAD\")\n",
      "C:\\Users\\Woo Hyeon Her\\AppData\\Local\\Temp\\ipykernel_22276\\2963543978.py:4: FutureWarning: Calling int on a single element Series is deprecated and will raise a TypeError in the future. Use int(ser.iloc[0]) instead\n",
      "  WithoutWaterBottle['116 BAY STATE ROAD'] = int(grouped_df)\n"
     ]
    }
   ],
   "source": [
    "grouped_df = dfWifi[dfWifi['building_desc'] == '116 BAY STATE ROAD']\n",
    "grouped_df = grouped_df.groupby(['building_desc', 'hour'])[['capacity']].mean().sum()\n",
    "print(f\"On an average day, {int(grouped_df)} people will benefit from a water bottle station at 116 BAY STATE ROAD\")\n",
    "WithoutWaterBottle['116 BAY STATE ROAD'] = int(grouped_df)"
   ]
  },
  {
   "cell_type": "code",
   "execution_count": 142,
   "metadata": {},
   "outputs": [
    {
     "name": "stdout",
     "output_type": "stream",
     "text": [
      "On an average day, 829 people will benefit from a water bottle station at 602 COMMONWEALTH AVENUE\n"
     ]
    },
    {
     "name": "stderr",
     "output_type": "stream",
     "text": [
      "C:\\Users\\Woo Hyeon Her\\AppData\\Local\\Temp\\ipykernel_22276\\1375218819.py:3: FutureWarning: Calling int on a single element Series is deprecated and will raise a TypeError in the future. Use int(ser.iloc[0]) instead\n",
      "  print(f\"On an average day, {int(grouped_df)} people will benefit from a water bottle station at 602 COMMONWEALTH AVENUE\")\n",
      "C:\\Users\\Woo Hyeon Her\\AppData\\Local\\Temp\\ipykernel_22276\\1375218819.py:4: FutureWarning: Calling int on a single element Series is deprecated and will raise a TypeError in the future. Use int(ser.iloc[0]) instead\n",
      "  WithoutWaterBottle['602 COMMONWEALTH AVENUE'] = int(grouped_df)\n"
     ]
    }
   ],
   "source": [
    "grouped_df = dfWifi[dfWifi['building_desc'] == '602 COMMONWEALTH AVENUE']\n",
    "grouped_df = grouped_df.groupby(['building_desc', 'hour'])[['capacity']].mean().sum()\n",
    "print(f\"On an average day, {int(grouped_df)} people will benefit from a water bottle station at 602 COMMONWEALTH AVENUE\")\n",
    "WithoutWaterBottle['602 COMMONWEALTH AVENUE'] = int(grouped_df)"
   ]
  },
  {
   "cell_type": "code",
   "execution_count": 143,
   "metadata": {},
   "outputs": [
    {
     "name": "stdout",
     "output_type": "stream",
     "text": [
      "On an average day, 79 people will benefit from a water bottle station at 61 BAY STATE ROAD\n"
     ]
    },
    {
     "name": "stderr",
     "output_type": "stream",
     "text": [
      "C:\\Users\\Woo Hyeon Her\\AppData\\Local\\Temp\\ipykernel_22276\\4234884041.py:3: FutureWarning: Calling int on a single element Series is deprecated and will raise a TypeError in the future. Use int(ser.iloc[0]) instead\n",
      "  print(f\"On an average day, {int(grouped_df)} people will benefit from a water bottle station at 61 BAY STATE ROAD\")\n",
      "C:\\Users\\Woo Hyeon Her\\AppData\\Local\\Temp\\ipykernel_22276\\4234884041.py:4: FutureWarning: Calling int on a single element Series is deprecated and will raise a TypeError in the future. Use int(ser.iloc[0]) instead\n",
      "  WithoutWaterBottle['61 BAY STATE ROAD'] = int(grouped_df)\n"
     ]
    }
   ],
   "source": [
    "grouped_df = dfWifi[dfWifi['building_desc'] == '61 BAY STATE ROAD']\n",
    "grouped_df = grouped_df.groupby(['building_desc', 'hour'])[['capacity']].mean().sum()\n",
    "print(f\"On an average day, {int(grouped_df)} people will benefit from a water bottle station at 61 BAY STATE ROAD\")\n",
    "WithoutWaterBottle['61 BAY STATE ROAD'] = int(grouped_df)"
   ]
  },
  {
   "cell_type": "code",
   "execution_count": 144,
   "metadata": {},
   "outputs": [
    {
     "name": "stdout",
     "output_type": "stream",
     "text": [
      "On an average day, 151 people will benefit from a water bottle station at 193 BAY STATE ROAD\n"
     ]
    },
    {
     "name": "stderr",
     "output_type": "stream",
     "text": [
      "C:\\Users\\Woo Hyeon Her\\AppData\\Local\\Temp\\ipykernel_22276\\3679760320.py:3: FutureWarning: Calling int on a single element Series is deprecated and will raise a TypeError in the future. Use int(ser.iloc[0]) instead\n",
      "  print(f\"On an average day, {int(grouped_df)} people will benefit from a water bottle station at 193 BAY STATE ROAD\")\n",
      "C:\\Users\\Woo Hyeon Her\\AppData\\Local\\Temp\\ipykernel_22276\\3679760320.py:4: FutureWarning: Calling int on a single element Series is deprecated and will raise a TypeError in the future. Use int(ser.iloc[0]) instead\n",
      "  WithoutWaterBottle['193 BAY STATE ROAD'] = int(grouped_df)\n"
     ]
    }
   ],
   "source": [
    "grouped_df = dfWifi[dfWifi['building_desc'] == '193 BAY STATE ROAD']\n",
    "grouped_df = grouped_df.groupby(['building_desc', 'hour'])[['capacity']].mean().sum()\n",
    "print(f\"On an average day, {int(grouped_df)} people will benefit from a water bottle station at 193 BAY STATE ROAD\")\n",
    "WithoutWaterBottle['193 BAY STATE ROAD'] = int(grouped_df)"
   ]
  },
  {
   "cell_type": "code",
   "execution_count": 145,
   "metadata": {},
   "outputs": [
    {
     "name": "stdout",
     "output_type": "stream",
     "text": [
      "On an average day, 0 people will benefit from a water bottle station at 10 COTTAGE FARM ROAD\n"
     ]
    },
    {
     "name": "stderr",
     "output_type": "stream",
     "text": [
      "C:\\Users\\Woo Hyeon Her\\AppData\\Local\\Temp\\ipykernel_22276\\1590684857.py:3: FutureWarning: Calling int on a single element Series is deprecated and will raise a TypeError in the future. Use int(ser.iloc[0]) instead\n",
      "  print(f\"On an average day, {int(grouped_df)} people will benefit from a water bottle station at 10 COTTAGE FARM ROAD\")\n",
      "C:\\Users\\Woo Hyeon Her\\AppData\\Local\\Temp\\ipykernel_22276\\1590684857.py:4: FutureWarning: Calling int on a single element Series is deprecated and will raise a TypeError in the future. Use int(ser.iloc[0]) instead\n",
      "  WithoutWaterBottle['10 COTTAGE FARM ROAD'] = int(grouped_df)\n"
     ]
    }
   ],
   "source": [
    "grouped_df = dfWifi[dfWifi['building_desc'] == '10 COTTAGE FARM ROAD']\n",
    "grouped_df = grouped_df.groupby(['building_desc', 'hour'])[['capacity']].mean().sum()\n",
    "print(f\"On an average day, {int(grouped_df)} people will benefit from a water bottle station at 10 COTTAGE FARM ROAD\")\n",
    "WithoutWaterBottle['10 COTTAGE FARM ROAD'] = int(grouped_df)"
   ]
  },
  {
   "cell_type": "code",
   "execution_count": 146,
   "metadata": {},
   "outputs": [
    {
     "name": "stdout",
     "output_type": "stream",
     "text": [
      "On an average day, 52 people will benefit from a water bottle station at 78 BAY STATE ROAD\n"
     ]
    },
    {
     "name": "stderr",
     "output_type": "stream",
     "text": [
      "C:\\Users\\Woo Hyeon Her\\AppData\\Local\\Temp\\ipykernel_22276\\3269532939.py:3: FutureWarning: Calling int on a single element Series is deprecated and will raise a TypeError in the future. Use int(ser.iloc[0]) instead\n",
      "  print(f\"On an average day, {int(grouped_df)} people will benefit from a water bottle station at 78 BAY STATE ROAD\")\n",
      "C:\\Users\\Woo Hyeon Her\\AppData\\Local\\Temp\\ipykernel_22276\\3269532939.py:4: FutureWarning: Calling int on a single element Series is deprecated and will raise a TypeError in the future. Use int(ser.iloc[0]) instead\n",
      "  WithoutWaterBottle['78 BAY STATE ROAD'] = int(grouped_df)\n"
     ]
    }
   ],
   "source": [
    "grouped_df = dfWifi[dfWifi['building_desc'] == '78 BAY STATE ROAD']\n",
    "grouped_df = grouped_df.groupby(['building_desc', 'hour'])[['capacity']].mean().sum()\n",
    "print(f\"On an average day, {int(grouped_df)} people will benefit from a water bottle station at 78 BAY STATE ROAD\")\n",
    "WithoutWaterBottle['78 BAY STATE ROAD'] = int(grouped_df)"
   ]
  },
  {
   "cell_type": "code",
   "execution_count": 147,
   "metadata": {},
   "outputs": [
    {
     "name": "stdout",
     "output_type": "stream",
     "text": [
      "On an average day, 194 people will benefit from a water bottle station at 143 BAY STATE ROAD\n"
     ]
    },
    {
     "name": "stderr",
     "output_type": "stream",
     "text": [
      "C:\\Users\\Woo Hyeon Her\\AppData\\Local\\Temp\\ipykernel_22276\\3915221783.py:3: FutureWarning: Calling int on a single element Series is deprecated and will raise a TypeError in the future. Use int(ser.iloc[0]) instead\n",
      "  print(f\"On an average day, {int(grouped_df)} people will benefit from a water bottle station at 143 BAY STATE ROAD\")\n",
      "C:\\Users\\Woo Hyeon Her\\AppData\\Local\\Temp\\ipykernel_22276\\3915221783.py:4: FutureWarning: Calling int on a single element Series is deprecated and will raise a TypeError in the future. Use int(ser.iloc[0]) instead\n",
      "  WithoutWaterBottle['143 BAY STATE ROAD'] = int(grouped_df)\n"
     ]
    }
   ],
   "source": [
    "grouped_df = dfWifi[dfWifi['building_desc'] == '143 BAY STATE ROAD']\n",
    "grouped_df = grouped_df.groupby(['building_desc', 'hour'])[['capacity']].mean().sum()\n",
    "print(f\"On an average day, {int(grouped_df)} people will benefit from a water bottle station at 143 BAY STATE ROAD\")\n",
    "WithoutWaterBottle['143 BAY STATE ROAD'] = int(grouped_df)"
   ]
  },
  {
   "cell_type": "code",
   "execution_count": 148,
   "metadata": {},
   "outputs": [
    {
     "name": "stdout",
     "output_type": "stream",
     "text": [
      "On an average day, 0 people will benefit from a water bottle station at 135 IVY STREET\n"
     ]
    },
    {
     "name": "stderr",
     "output_type": "stream",
     "text": [
      "C:\\Users\\Woo Hyeon Her\\AppData\\Local\\Temp\\ipykernel_22276\\1178959484.py:3: FutureWarning: Calling int on a single element Series is deprecated and will raise a TypeError in the future. Use int(ser.iloc[0]) instead\n",
      "  print(f\"On an average day, {int(grouped_df)} people will benefit from a water bottle station at 135 IVY STREET\")\n",
      "C:\\Users\\Woo Hyeon Her\\AppData\\Local\\Temp\\ipykernel_22276\\1178959484.py:4: FutureWarning: Calling int on a single element Series is deprecated and will raise a TypeError in the future. Use int(ser.iloc[0]) instead\n",
      "  WithoutWaterBottle['135 IVY STREET'] = int(grouped_df)\n"
     ]
    }
   ],
   "source": [
    "grouped_df = dfWifi[dfWifi['building_desc'] == '135 IVY STREET']\n",
    "grouped_df = grouped_df.groupby(['building_desc', 'hour'])[['capacity']].mean().sum()\n",
    "print(f\"On an average day, {int(grouped_df)} people will benefit from a water bottle station at 135 IVY STREET\")\n",
    "WithoutWaterBottle['135 IVY STREET'] = int(grouped_df)"
   ]
  },
  {
   "cell_type": "code",
   "execution_count": 149,
   "metadata": {},
   "outputs": [
    {
     "name": "stdout",
     "output_type": "stream",
     "text": [
      "On an average day, 79 people will benefit from a water bottle station at 75 BAY STATE ROAD\n"
     ]
    },
    {
     "name": "stderr",
     "output_type": "stream",
     "text": [
      "C:\\Users\\Woo Hyeon Her\\AppData\\Local\\Temp\\ipykernel_22276\\627460401.py:3: FutureWarning: Calling int on a single element Series is deprecated and will raise a TypeError in the future. Use int(ser.iloc[0]) instead\n",
      "  print(f\"On an average day, {int(grouped_df)} people will benefit from a water bottle station at 75 BAY STATE ROAD\")\n",
      "C:\\Users\\Woo Hyeon Her\\AppData\\Local\\Temp\\ipykernel_22276\\627460401.py:4: FutureWarning: Calling int on a single element Series is deprecated and will raise a TypeError in the future. Use int(ser.iloc[0]) instead\n",
      "  WithoutWaterBottle['75 BAY STATE ROAD'] = int(grouped_df)\n"
     ]
    }
   ],
   "source": [
    "grouped_df = dfWifi[dfWifi['building_desc'] == '75 BAY STATE ROAD']\n",
    "grouped_df = grouped_df.groupby(['building_desc', 'hour'])[['capacity']].mean().sum()\n",
    "print(f\"On an average day, {int(grouped_df)} people will benefit from a water bottle station at 75 BAY STATE ROAD\")\n",
    "WithoutWaterBottle['75 BAY STATE ROAD'] = int(grouped_df)"
   ]
  },
  {
   "cell_type": "code",
   "execution_count": 150,
   "metadata": {},
   "outputs": [
    {
     "name": "stdout",
     "output_type": "stream",
     "text": [
      "On an average day, 50 people will benefit from a water bottle station at 74 BAY STATE ROAD\n"
     ]
    },
    {
     "name": "stderr",
     "output_type": "stream",
     "text": [
      "C:\\Users\\Woo Hyeon Her\\AppData\\Local\\Temp\\ipykernel_22276\\2572786075.py:3: FutureWarning: Calling int on a single element Series is deprecated and will raise a TypeError in the future. Use int(ser.iloc[0]) instead\n",
      "  print(f\"On an average day, {int(grouped_df)} people will benefit from a water bottle station at 74 BAY STATE ROAD\")\n",
      "C:\\Users\\Woo Hyeon Her\\AppData\\Local\\Temp\\ipykernel_22276\\2572786075.py:4: FutureWarning: Calling int on a single element Series is deprecated and will raise a TypeError in the future. Use int(ser.iloc[0]) instead\n",
      "  WithoutWaterBottle['74 BAY STATE ROAD'] = int(grouped_df)\n"
     ]
    }
   ],
   "source": [
    "grouped_df = dfWifi[dfWifi['building_desc'] == '74 BAY STATE ROAD']\n",
    "grouped_df = grouped_df.groupby(['building_desc', 'hour'])[['capacity']].mean().sum()\n",
    "print(f\"On an average day, {int(grouped_df)} people will benefit from a water bottle station at 74 BAY STATE ROAD\")\n",
    "WithoutWaterBottle['74 BAY STATE ROAD'] = int(grouped_df)"
   ]
  },
  {
   "cell_type": "code",
   "execution_count": 151,
   "metadata": {},
   "outputs": [
    {
     "name": "stdout",
     "output_type": "stream",
     "text": [
      "On an average day, 52 people will benefit from a water bottle station at 84 BAY STATE ROAD\n"
     ]
    },
    {
     "name": "stderr",
     "output_type": "stream",
     "text": [
      "C:\\Users\\Woo Hyeon Her\\AppData\\Local\\Temp\\ipykernel_22276\\3433865106.py:3: FutureWarning: Calling int on a single element Series is deprecated and will raise a TypeError in the future. Use int(ser.iloc[0]) instead\n",
      "  print(f\"On an average day, {int(grouped_df)} people will benefit from a water bottle station at 84 BAY STATE ROAD\")\n",
      "C:\\Users\\Woo Hyeon Her\\AppData\\Local\\Temp\\ipykernel_22276\\3433865106.py:4: FutureWarning: Calling int on a single element Series is deprecated and will raise a TypeError in the future. Use int(ser.iloc[0]) instead\n",
      "  WithoutWaterBottle['84 BAY STATE ROAD'] = int(grouped_df)\n"
     ]
    }
   ],
   "source": [
    "grouped_df = dfWifi[dfWifi['building_desc'] == '84 BAY STATE ROAD']\n",
    "grouped_df = grouped_df.groupby(['building_desc', 'hour'])[['capacity']].mean().sum()\n",
    "print(f\"On an average day, {int(grouped_df)} people will benefit from a water bottle station at 84 BAY STATE ROAD\")\n",
    "WithoutWaterBottle['84 BAY STATE ROAD'] = int(grouped_df)"
   ]
  },
  {
   "cell_type": "code",
   "execution_count": 152,
   "metadata": {},
   "outputs": [
    {
     "name": "stdout",
     "output_type": "stream",
     "text": [
      "On an average day, 72 people will benefit from a water bottle station at 118 BAY STATE ROAD\n"
     ]
    },
    {
     "name": "stderr",
     "output_type": "stream",
     "text": [
      "C:\\Users\\Woo Hyeon Her\\AppData\\Local\\Temp\\ipykernel_22276\\3081936143.py:3: FutureWarning: Calling int on a single element Series is deprecated and will raise a TypeError in the future. Use int(ser.iloc[0]) instead\n",
      "  print(f\"On an average day, {int(grouped_df)} people will benefit from a water bottle station at 118 BAY STATE ROAD\")\n",
      "C:\\Users\\Woo Hyeon Her\\AppData\\Local\\Temp\\ipykernel_22276\\3081936143.py:4: FutureWarning: Calling int on a single element Series is deprecated and will raise a TypeError in the future. Use int(ser.iloc[0]) instead\n",
      "  WithoutWaterBottle['118 BAY STATE ROAD'] = int(grouped_df)\n"
     ]
    }
   ],
   "source": [
    "grouped_df = dfWifi[dfWifi['building_desc'] == '118 BAY STATE ROAD']\n",
    "grouped_df = grouped_df.groupby(['building_desc', 'hour'])[['capacity']].mean().sum()\n",
    "print(f\"On an average day, {int(grouped_df)} people will benefit from a water bottle station at 118 BAY STATE ROAD\")\n",
    "WithoutWaterBottle['118 BAY STATE ROAD'] = int(grouped_df)"
   ]
  },
  {
   "cell_type": "code",
   "execution_count": 153,
   "metadata": {},
   "outputs": [
    {
     "name": "stdout",
     "output_type": "stream",
     "text": [
      "On an average day, 177 people will benefit from a water bottle station at 122 BAY STATE ROAD\n"
     ]
    },
    {
     "name": "stderr",
     "output_type": "stream",
     "text": [
      "C:\\Users\\Woo Hyeon Her\\AppData\\Local\\Temp\\ipykernel_22276\\605702856.py:3: FutureWarning: Calling int on a single element Series is deprecated and will raise a TypeError in the future. Use int(ser.iloc[0]) instead\n",
      "  print(f\"On an average day, {int(grouped_df)} people will benefit from a water bottle station at 122 BAY STATE ROAD\")\n",
      "C:\\Users\\Woo Hyeon Her\\AppData\\Local\\Temp\\ipykernel_22276\\605702856.py:4: FutureWarning: Calling int on a single element Series is deprecated and will raise a TypeError in the future. Use int(ser.iloc[0]) instead\n",
      "  WithoutWaterBottle['122 BAY STATE ROAD'] = int(grouped_df)\n"
     ]
    }
   ],
   "source": [
    "grouped_df = dfWifi[dfWifi['building_desc'] == '122 BAY STATE ROAD']\n",
    "grouped_df = grouped_df.groupby(['building_desc', 'hour'])[['capacity']].mean().sum()\n",
    "print(f\"On an average day, {int(grouped_df)} people will benefit from a water bottle station at 122 BAY STATE ROAD\")\n",
    "WithoutWaterBottle['122 BAY STATE ROAD'] = int(grouped_df)"
   ]
  },
  {
   "cell_type": "code",
   "execution_count": 154,
   "metadata": {},
   "outputs": [
    {
     "name": "stdout",
     "output_type": "stream",
     "text": [
      "On an average day, 0 people will benefit from a water bottle station at 50 WORTHINGTON ROAD\n"
     ]
    },
    {
     "name": "stderr",
     "output_type": "stream",
     "text": [
      "C:\\Users\\Woo Hyeon Her\\AppData\\Local\\Temp\\ipykernel_22276\\2856904366.py:3: FutureWarning: Calling int on a single element Series is deprecated and will raise a TypeError in the future. Use int(ser.iloc[0]) instead\n",
      "  print(f\"On an average day, {int(grouped_df)} people will benefit from a water bottle station at 50 WORTHINGTON ROAD\")\n",
      "C:\\Users\\Woo Hyeon Her\\AppData\\Local\\Temp\\ipykernel_22276\\2856904366.py:4: FutureWarning: Calling int on a single element Series is deprecated and will raise a TypeError in the future. Use int(ser.iloc[0]) instead\n",
      "  WithoutWaterBottle['50 WORTHINGTON ROAD'] = int(grouped_df)\n"
     ]
    }
   ],
   "source": [
    "grouped_df = dfWifi[dfWifi['building_desc'] == '50 WORTHINGTON ROAD']\n",
    "grouped_df = grouped_df.groupby(['building_desc', 'hour'])[['capacity']].mean().sum()\n",
    "print(f\"On an average day, {int(grouped_df)} people will benefit from a water bottle station at 50 WORTHINGTON ROAD\")\n",
    "WithoutWaterBottle['50 WORTHINGTON ROAD'] = int(grouped_df)"
   ]
  },
  {
   "cell_type": "code",
   "execution_count": 155,
   "metadata": {},
   "outputs": [
    {
     "name": "stdout",
     "output_type": "stream",
     "text": [
      "On an average day, 119 people will benefit from a water bottle station at 68-70 BAY STATE ROAD\n"
     ]
    },
    {
     "name": "stderr",
     "output_type": "stream",
     "text": [
      "C:\\Users\\Woo Hyeon Her\\AppData\\Local\\Temp\\ipykernel_22276\\3424734932.py:3: FutureWarning: Calling int on a single element Series is deprecated and will raise a TypeError in the future. Use int(ser.iloc[0]) instead\n",
      "  print(f\"On an average day, {int(grouped_df)} people will benefit from a water bottle station at 68-70 BAY STATE ROAD\")\n",
      "C:\\Users\\Woo Hyeon Her\\AppData\\Local\\Temp\\ipykernel_22276\\3424734932.py:4: FutureWarning: Calling int on a single element Series is deprecated and will raise a TypeError in the future. Use int(ser.iloc[0]) instead\n",
      "  WithoutWaterBottle['68-70 BAY STATE ROAD'] = int(grouped_df)\n"
     ]
    }
   ],
   "source": [
    "grouped_df = dfWifi[dfWifi['building_desc'] == '68-70 BAY STATE ROAD']\n",
    "grouped_df = grouped_df.groupby(['building_desc', 'hour'])[['capacity']].mean().sum()\n",
    "print(f\"On an average day, {int(grouped_df)} people will benefit from a water bottle station at 68-70 BAY STATE ROAD\")\n",
    "WithoutWaterBottle['68-70 BAY STATE ROAD'] = int(grouped_df)"
   ]
  },
  {
   "cell_type": "markdown",
   "metadata": {},
   "source": [
    "## Wifi Stations With Water Bottle Filling Stations"
   ]
  },
  {
   "cell_type": "code",
   "execution_count": 156,
   "metadata": {},
   "outputs": [
    {
     "name": "stdout",
     "output_type": "stream",
     "text": [
      "On an average day, 924 people benefitted from a water bottle station at 700 BEACON STREET\n"
     ]
    },
    {
     "name": "stderr",
     "output_type": "stream",
     "text": [
      "C:\\Users\\Woo Hyeon Her\\AppData\\Local\\Temp\\ipykernel_22276\\645969617.py:3: FutureWarning: Calling int on a single element Series is deprecated and will raise a TypeError in the future. Use int(ser.iloc[0]) instead\n",
      "  print(f\"On an average day, {int(grouped_df)} people benefitted from a water bottle station at 700 BEACON STREET\")\n"
     ]
    }
   ],
   "source": [
    "grouped_df = dfWifi[dfWifi['building_desc'] == '700 BEACON STREET']\n",
    "grouped_df = grouped_df.groupby(['building_desc', 'hour'])[['capacity']].mean().sum()\n",
    "print(f\"On an average day, {int(grouped_df)} people benefitted from a water bottle station at 700 BEACON STREET\")"
   ]
  },
  {
   "cell_type": "code",
   "execution_count": 157,
   "metadata": {},
   "outputs": [
    {
     "name": "stdout",
     "output_type": "stream",
     "text": [
      "On an average day, 113 people benefitted from a water bottle station at 154 BAY STATE ROAD\n"
     ]
    },
    {
     "name": "stderr",
     "output_type": "stream",
     "text": [
      "C:\\Users\\Woo Hyeon Her\\AppData\\Local\\Temp\\ipykernel_22276\\273134944.py:3: FutureWarning: Calling int on a single element Series is deprecated and will raise a TypeError in the future. Use int(ser.iloc[0]) instead\n",
      "  print(f\"On an average day, {int(grouped_df)} people benefitted from a water bottle station at 154 BAY STATE ROAD\")\n"
     ]
    }
   ],
   "source": [
    "grouped_df = dfWifi[dfWifi['building_desc'] == '154 BAY STATE ROAD']\n",
    "grouped_df = grouped_df.groupby(['building_desc', 'hour'])[['capacity']].mean().sum()\n",
    "print(f\"On an average day, {int(grouped_df)} people benefitted from a water bottle station at 154 BAY STATE ROAD\")"
   ]
  },
  {
   "cell_type": "code",
   "execution_count": 158,
   "metadata": {},
   "outputs": [
    {
     "name": "stdout",
     "output_type": "stream",
     "text": [
      "On an average day, 1046 people benefitted from a water bottle station at 111 CUMMINGTON MALL\n"
     ]
    },
    {
     "name": "stderr",
     "output_type": "stream",
     "text": [
      "C:\\Users\\Woo Hyeon Her\\AppData\\Local\\Temp\\ipykernel_22276\\1892833762.py:3: FutureWarning: Calling int on a single element Series is deprecated and will raise a TypeError in the future. Use int(ser.iloc[0]) instead\n",
      "  print(f\"On an average day, {int(grouped_df)} people benefitted from a water bottle station at 111 CUMMINGTON MALL\")\n"
     ]
    }
   ],
   "source": [
    "grouped_df = dfWifi[dfWifi['building_desc'] == '111 CUMMINGTON MALL']\n",
    "grouped_df = grouped_df.groupby(['building_desc', 'hour'])[['capacity']].mean().sum()\n",
    "print(f\"On an average day, {int(grouped_df)} people benefitted from a water bottle station at 111 CUMMINGTON MALL\")"
   ]
  },
  {
   "cell_type": "code",
   "execution_count": 159,
   "metadata": {},
   "outputs": [
    {
     "name": "stdout",
     "output_type": "stream",
     "text": [
      "On an average day, 3471 people benefitted from a water bottle station at 765 COMMONWEALTH AVENUE\n"
     ]
    },
    {
     "name": "stderr",
     "output_type": "stream",
     "text": [
      "C:\\Users\\Woo Hyeon Her\\AppData\\Local\\Temp\\ipykernel_22276\\3308978740.py:3: FutureWarning: Calling int on a single element Series is deprecated and will raise a TypeError in the future. Use int(ser.iloc[0]) instead\n",
      "  print(f\"On an average day, {int(grouped_df)} people benefitted from a water bottle station at 765 COMMONWEALTH AVENUE\")\n"
     ]
    }
   ],
   "source": [
    "grouped_df = dfWifi[dfWifi['building_desc'] == '765 COMMONWEALTH AVENUE']\n",
    "grouped_df = grouped_df.groupby(['building_desc', 'hour'])[['capacity']].mean().sum()\n",
    "print(f\"On an average day, {int(grouped_df)} people benefitted from a water bottle station at 765 COMMONWEALTH AVENUE\")"
   ]
  },
  {
   "cell_type": "code",
   "execution_count": 160,
   "metadata": {},
   "outputs": [
    {
     "name": "stdout",
     "output_type": "stream",
     "text": [
      "On an average day, 1969 people benefitted from a water bottle station at 565 COMMONWEALTH AVENUE\n"
     ]
    },
    {
     "name": "stderr",
     "output_type": "stream",
     "text": [
      "C:\\Users\\Woo Hyeon Her\\AppData\\Local\\Temp\\ipykernel_22276\\601681194.py:3: FutureWarning: Calling int on a single element Series is deprecated and will raise a TypeError in the future. Use int(ser.iloc[0]) instead\n",
      "  print(f\"On an average day, {int(grouped_df)} people benefitted from a water bottle station at 565 COMMONWEALTH AVENUE\")\n"
     ]
    }
   ],
   "source": [
    "grouped_df = dfWifi[dfWifi['building_desc'] == '565 COMMONWEALTH AVENUE']\n",
    "grouped_df = grouped_df.groupby(['building_desc', 'hour'])[['capacity']].mean().sum()\n",
    "print(f\"On an average day, {int(grouped_df)} people benefitted from a water bottle station at 565 COMMONWEALTH AVENUE\")"
   ]
  },
  {
   "cell_type": "code",
   "execution_count": 161,
   "metadata": {},
   "outputs": [
    {
     "name": "stdout",
     "output_type": "stream",
     "text": [
      "On an average day, 1156 people benefitted from a water bottle station at 44 CUMMINGTON MALL\n"
     ]
    },
    {
     "name": "stderr",
     "output_type": "stream",
     "text": [
      "C:\\Users\\Woo Hyeon Her\\AppData\\Local\\Temp\\ipykernel_22276\\3427492809.py:3: FutureWarning: Calling int on a single element Series is deprecated and will raise a TypeError in the future. Use int(ser.iloc[0]) instead\n",
      "  print(f\"On an average day, {int(grouped_df)} people benefitted from a water bottle station at 44 CUMMINGTON MALL\")\n"
     ]
    }
   ],
   "source": [
    "grouped_df = dfWifi[dfWifi['building_desc'] == '44 CUMMINGTON MALL']\n",
    "grouped_df = grouped_df.groupby(['building_desc', 'hour'])[['capacity']].mean().sum()\n",
    "print(f\"On an average day, {int(grouped_df)} people benefitted from a water bottle station at 44 CUMMINGTON MALL\")"
   ]
  },
  {
   "cell_type": "code",
   "execution_count": 162,
   "metadata": {},
   "outputs": [
    {
     "name": "stdout",
     "output_type": "stream",
     "text": [
      "On an average day, 1111 people benefitted from a water bottle station at 110-112 CUMMINGTON MALL\n"
     ]
    },
    {
     "name": "stderr",
     "output_type": "stream",
     "text": [
      "C:\\Users\\Woo Hyeon Her\\AppData\\Local\\Temp\\ipykernel_22276\\413925928.py:3: FutureWarning: Calling int on a single element Series is deprecated and will raise a TypeError in the future. Use int(ser.iloc[0]) instead\n",
      "  print(f\"On an average day, {int(grouped_df)} people benefitted from a water bottle station at 110-112 CUMMINGTON MALL\")\n"
     ]
    }
   ],
   "source": [
    "grouped_df = dfWifi[dfWifi['building_desc'] == '110-112 CUMMINGTON MALL']\n",
    "grouped_df = grouped_df.groupby(['building_desc', 'hour'])[['capacity']].mean().sum()\n",
    "print(f\"On an average day, {int(grouped_df)} people benefitted from a water bottle station at 110-112 CUMMINGTON MALL\")"
   ]
  },
  {
   "cell_type": "code",
   "execution_count": 163,
   "metadata": {},
   "outputs": [
    {
     "name": "stdout",
     "output_type": "stream",
     "text": [
      "On an average day, 0 people benefitted from a water bottle station at 675 - 725 COMMONWEALTH AVENUE\n"
     ]
    },
    {
     "name": "stderr",
     "output_type": "stream",
     "text": [
      "C:\\Users\\Woo Hyeon Her\\AppData\\Local\\Temp\\ipykernel_22276\\705411603.py:3: FutureWarning: Calling int on a single element Series is deprecated and will raise a TypeError in the future. Use int(ser.iloc[0]) instead\n",
      "  print(f\"On an average day, {int(grouped_df)} people benefitted from a water bottle station at 675 - 725 COMMONWEALTH AVENUE\")\n"
     ]
    }
   ],
   "source": [
    "grouped_df = dfWifi[dfWifi['building_desc'] == '675 - 725 COMMONWEALTH AVENUE']\n",
    "grouped_df = grouped_df.groupby(['building_desc', 'hour'])[['capacity']].mean().sum()\n",
    "print(f\"On an average day, {int(grouped_df)} people benefitted from a water bottle station at 675 - 725 COMMONWEALTH AVENUE\")"
   ]
  },
  {
   "cell_type": "code",
   "execution_count": 164,
   "metadata": {},
   "outputs": [
    {
     "name": "stdout",
     "output_type": "stream",
     "text": [
      "On an average day, 1921 people benefitted from a water bottle station at 750 COMMONWEALTH AVENUE\n"
     ]
    },
    {
     "name": "stderr",
     "output_type": "stream",
     "text": [
      "C:\\Users\\Woo Hyeon Her\\AppData\\Local\\Temp\\ipykernel_22276\\3130924191.py:3: FutureWarning: Calling int on a single element Series is deprecated and will raise a TypeError in the future. Use int(ser.iloc[0]) instead\n",
      "  print(f\"On an average day, {int(grouped_df)} people benefitted from a water bottle station at 750 COMMONWEALTH AVENUE\")\n"
     ]
    }
   ],
   "source": [
    "grouped_df = dfWifi[dfWifi['building_desc'] == '750 COMMONWEALTH AVENUE']\n",
    "grouped_df = grouped_df.groupby(['building_desc', 'hour'])[['capacity']].mean().sum()\n",
    "print(f\"On an average day, {int(grouped_df)} people benefitted from a water bottle station at 750 COMMONWEALTH AVENUE\")"
   ]
  },
  {
   "cell_type": "code",
   "execution_count": 165,
   "metadata": {},
   "outputs": [
    {
     "name": "stdout",
     "output_type": "stream",
     "text": [
      "On an average day, 304 people benefitted from a water bottle station at 735 COMMONWEALTH AVENUE\n"
     ]
    },
    {
     "name": "stderr",
     "output_type": "stream",
     "text": [
      "C:\\Users\\Woo Hyeon Her\\AppData\\Local\\Temp\\ipykernel_22276\\2898790790.py:3: FutureWarning: Calling int on a single element Series is deprecated and will raise a TypeError in the future. Use int(ser.iloc[0]) instead\n",
      "  print(f\"On an average day, {int(grouped_df)} people benefitted from a water bottle station at 735 COMMONWEALTH AVENUE\")\n"
     ]
    }
   ],
   "source": [
    "grouped_df = dfWifi[dfWifi['building_desc'] == '735 COMMONWEALTH AVENUE']\n",
    "grouped_df = grouped_df.groupby(['building_desc', 'hour'])[['capacity']].mean().sum()\n",
    "print(f\"On an average day, {int(grouped_df)} people benefitted from a water bottle station at 735 COMMONWEALTH AVENUE\")"
   ]
  },
  {
   "cell_type": "code",
   "execution_count": 166,
   "metadata": {},
   "outputs": [
    {
     "name": "stdout",
     "output_type": "stream",
     "text": [
      "On an average day, 273 people benefitted from a water bottle station at 226 BAY STATE ROAD\n"
     ]
    },
    {
     "name": "stderr",
     "output_type": "stream",
     "text": [
      "C:\\Users\\Woo Hyeon Her\\AppData\\Local\\Temp\\ipykernel_22276\\3330115038.py:3: FutureWarning: Calling int on a single element Series is deprecated and will raise a TypeError in the future. Use int(ser.iloc[0]) instead\n",
      "  print(f\"On an average day, {int(grouped_df)} people benefitted from a water bottle station at 226 BAY STATE ROAD\")\n"
     ]
    }
   ],
   "source": [
    "grouped_df = dfWifi[dfWifi['building_desc'] == '226 BAY STATE ROAD']\n",
    "grouped_df = grouped_df.groupby(['building_desc', 'hour'])[['capacity']].mean().sum()\n",
    "print(f\"On an average day, {int(grouped_df)} people benefitted from a water bottle station at 226 BAY STATE ROAD\")"
   ]
  },
  {
   "cell_type": "code",
   "execution_count": 167,
   "metadata": {},
   "outputs": [
    {
     "name": "stdout",
     "output_type": "stream",
     "text": [
      "On an average day, 385 people benefitted from a water bottle station at 225 BAY STATE ROAD\n"
     ]
    },
    {
     "name": "stderr",
     "output_type": "stream",
     "text": [
      "C:\\Users\\Woo Hyeon Her\\AppData\\Local\\Temp\\ipykernel_22276\\762945492.py:3: FutureWarning: Calling int on a single element Series is deprecated and will raise a TypeError in the future. Use int(ser.iloc[0]) instead\n",
      "  print(f\"On an average day, {int(grouped_df)} people benefitted from a water bottle station at 225 BAY STATE ROAD\")\n"
     ]
    }
   ],
   "source": [
    "grouped_df = dfWifi[dfWifi['building_desc'] == '225 BAY STATE ROAD']\n",
    "grouped_df = grouped_df.groupby(['building_desc', 'hour'])[['capacity']].mean().sum()\n",
    "print(f\"On an average day, {int(grouped_df)} people benefitted from a water bottle station at 225 BAY STATE ROAD\")"
   ]
  },
  {
   "cell_type": "code",
   "execution_count": 168,
   "metadata": {},
   "outputs": [
    {
     "name": "stdout",
     "output_type": "stream",
     "text": [
      "On an average day, 1853 people benefitted from a water bottle station at 64-86 CUMMINGTON MALL\n"
     ]
    },
    {
     "name": "stderr",
     "output_type": "stream",
     "text": [
      "C:\\Users\\Woo Hyeon Her\\AppData\\Local\\Temp\\ipykernel_22276\\36533668.py:3: FutureWarning: Calling int on a single element Series is deprecated and will raise a TypeError in the future. Use int(ser.iloc[0]) instead\n",
      "  print(f\"On an average day, {int(grouped_df)} people benefitted from a water bottle station at 64-86 CUMMINGTON MALL\")\n"
     ]
    }
   ],
   "source": [
    "grouped_df = dfWifi[dfWifi['building_desc'] == '64-86 CUMMINGTON MALL']\n",
    "grouped_df = grouped_df.groupby(['building_desc', 'hour'])[['capacity']].mean().sum()\n",
    "print(f\"On an average day, {int(grouped_df)} people benefitted from a water bottle station at 64-86 CUMMINGTON MALL\")"
   ]
  },
  {
   "cell_type": "code",
   "execution_count": 169,
   "metadata": {},
   "outputs": [
    {
     "name": "stdout",
     "output_type": "stream",
     "text": [
      "On an average day, 480 people benefitted from a water bottle station at 617-621 COMMONWEALTH AVENUE\n"
     ]
    },
    {
     "name": "stderr",
     "output_type": "stream",
     "text": [
      "C:\\Users\\Woo Hyeon Her\\AppData\\Local\\Temp\\ipykernel_22276\\3185904962.py:3: FutureWarning: Calling int on a single element Series is deprecated and will raise a TypeError in the future. Use int(ser.iloc[0]) instead\n",
      "  print(f\"On an average day, {int(grouped_df)} people benefitted from a water bottle station at 617-621 COMMONWEALTH AVENUE\")\n"
     ]
    }
   ],
   "source": [
    "grouped_df = dfWifi[dfWifi['building_desc'] == '617-621 COMMONWEALTH AVENUE']\n",
    "grouped_df = grouped_df.groupby(['building_desc', 'hour'])[['capacity']].mean().sum()\n",
    "print(f\"On an average day, {int(grouped_df)} people benefitted from a water bottle station at 617-621 COMMONWEALTH AVENUE\")"
   ]
  },
  {
   "cell_type": "code",
   "execution_count": 170,
   "metadata": {},
   "outputs": [
    {
     "name": "stdout",
     "output_type": "stream",
     "text": [
      "On an average day, 929 people benefitted from a water bottle station at 233 BAY STATE ROAD\n"
     ]
    },
    {
     "name": "stderr",
     "output_type": "stream",
     "text": [
      "C:\\Users\\Woo Hyeon Her\\AppData\\Local\\Temp\\ipykernel_22276\\299965575.py:3: FutureWarning: Calling int on a single element Series is deprecated and will raise a TypeError in the future. Use int(ser.iloc[0]) instead\n",
      "  print(f\"On an average day, {int(grouped_df)} people benefitted from a water bottle station at 233 BAY STATE ROAD\")\n"
     ]
    }
   ],
   "source": [
    "grouped_df = dfWifi[dfWifi['building_desc'] == '233 BAY STATE ROAD']\n",
    "grouped_df = grouped_df.groupby(['building_desc', 'hour'])[['capacity']].mean().sum()\n",
    "print(f\"On an average day, {int(grouped_df)} people benefitted from a water bottle station at 233 BAY STATE ROAD\")"
   ]
  },
  {
   "cell_type": "code",
   "execution_count": 171,
   "metadata": {},
   "outputs": [
    {
     "name": "stdout",
     "output_type": "stream",
     "text": [
      "On an average day, 107 people benefitted from a water bottle station at 156 BAY STATE ROAD\n"
     ]
    },
    {
     "name": "stderr",
     "output_type": "stream",
     "text": [
      "C:\\Users\\Woo Hyeon Her\\AppData\\Local\\Temp\\ipykernel_22276\\142001730.py:3: FutureWarning: Calling int on a single element Series is deprecated and will raise a TypeError in the future. Use int(ser.iloc[0]) instead\n",
      "  print(f\"On an average day, {int(grouped_df)} people benefitted from a water bottle station at 156 BAY STATE ROAD\")\n"
     ]
    }
   ],
   "source": [
    "grouped_df = dfWifi[dfWifi['building_desc'] == '156 BAY STATE ROAD']\n",
    "grouped_df = grouped_df.groupby(['building_desc', 'hour'])[['capacity']].mean().sum()\n",
    "print(f\"On an average day, {int(grouped_df)} people benefitted from a water bottle station at 156 BAY STATE ROAD\")"
   ]
  },
  {
   "cell_type": "markdown",
   "metadata": {},
   "source": [
    "## Users Per Water Bottle Station (If there are multiple water bottle stations in one building, divide it by the total number of water bottle stations to check how many people benefit per water bottle station)"
   ]
  },
  {
   "cell_type": "code",
   "execution_count": 172,
   "metadata": {},
   "outputs": [],
   "source": [
    "WithWaterBottle = {}"
   ]
  },
  {
   "cell_type": "code",
   "execution_count": 173,
   "metadata": {},
   "outputs": [
    {
     "name": "stdout",
     "output_type": "stream",
     "text": [
      "On an average day, 261 people benefitted per existing water bottle station at 111 CUMMINGTON MALL\n"
     ]
    },
    {
     "name": "stderr",
     "output_type": "stream",
     "text": [
      "C:\\Users\\Woo Hyeon Her\\AppData\\Local\\Temp\\ipykernel_22276\\2156275042.py:3: FutureWarning: Calling int on a single element Series is deprecated and will raise a TypeError in the future. Use int(ser.iloc[0]) instead\n",
      "  print(f\"On an average day, {int(grouped_df)} people benefitted per existing water bottle station at 111 CUMMINGTON MALL\")\n",
      "C:\\Users\\Woo Hyeon Her\\AppData\\Local\\Temp\\ipykernel_22276\\2156275042.py:4: FutureWarning: Calling int on a single element Series is deprecated and will raise a TypeError in the future. Use int(ser.iloc[0]) instead\n",
      "  WithWaterBottle[\"111 CUMMINGTON MALL\"] = int(grouped_df)\n"
     ]
    }
   ],
   "source": [
    "grouped_df = dfWifi[dfWifi['building_desc'] == '111 CUMMINGTON MALL']\n",
    "grouped_df = grouped_df.groupby(['building_desc', 'hour'])[['capacity']].mean().sum() / 4\n",
    "print(f\"On an average day, {int(grouped_df)} people benefitted per existing water bottle station at 111 CUMMINGTON MALL\")\n",
    "WithWaterBottle[\"111 CUMMINGTON MALL\"] = int(grouped_df)"
   ]
  },
  {
   "cell_type": "code",
   "execution_count": 174,
   "metadata": {},
   "outputs": [
    {
     "name": "stdout",
     "output_type": "stream",
     "text": [
      "On an average day, 150 people benefitted per existing water bottle station at 765 COMMONWEALTH AVENUE\n"
     ]
    },
    {
     "name": "stderr",
     "output_type": "stream",
     "text": [
      "C:\\Users\\Woo Hyeon Her\\AppData\\Local\\Temp\\ipykernel_22276\\3415458740.py:3: FutureWarning: Calling int on a single element Series is deprecated and will raise a TypeError in the future. Use int(ser.iloc[0]) instead\n",
      "  print(f\"On an average day, {int(grouped_df)} people benefitted per existing water bottle station at 765 COMMONWEALTH AVENUE\")\n",
      "C:\\Users\\Woo Hyeon Her\\AppData\\Local\\Temp\\ipykernel_22276\\3415458740.py:4: FutureWarning: Calling int on a single element Series is deprecated and will raise a TypeError in the future. Use int(ser.iloc[0]) instead\n",
      "  WithWaterBottle[\"765 COMMONWEALTH AVENUE\"] = int(grouped_df)\n"
     ]
    }
   ],
   "source": [
    "grouped_df = dfWifi[dfWifi['building_desc'] == '765 COMMONWEALTH AVENUE']\n",
    "grouped_df = grouped_df.groupby(['building_desc', 'hour'])[['capacity']].mean().sum() / 23\n",
    "print(f\"On an average day, {int(grouped_df)} people benefitted per existing water bottle station at 765 COMMONWEALTH AVENUE\")\n",
    "WithWaterBottle[\"765 COMMONWEALTH AVENUE\"] = int(grouped_df)"
   ]
  },
  {
   "cell_type": "code",
   "execution_count": 175,
   "metadata": {},
   "outputs": [
    {
     "name": "stdout",
     "output_type": "stream",
     "text": [
      "On an average day, 289 people benefitted per existing water bottle station at 44 CUMMINGTON MALL\n"
     ]
    },
    {
     "name": "stderr",
     "output_type": "stream",
     "text": [
      "C:\\Users\\Woo Hyeon Her\\AppData\\Local\\Temp\\ipykernel_22276\\1155709159.py:3: FutureWarning: Calling int on a single element Series is deprecated and will raise a TypeError in the future. Use int(ser.iloc[0]) instead\n",
      "  print(f\"On an average day, {int(grouped_df)} people benefitted per existing water bottle station at 44 CUMMINGTON MALL\")\n",
      "C:\\Users\\Woo Hyeon Her\\AppData\\Local\\Temp\\ipykernel_22276\\1155709159.py:4: FutureWarning: Calling int on a single element Series is deprecated and will raise a TypeError in the future. Use int(ser.iloc[0]) instead\n",
      "  WithWaterBottle[\"44 CUMMINGTON MALL\"] = int(grouped_df)\n"
     ]
    }
   ],
   "source": [
    "grouped_df = dfWifi[dfWifi['building_desc'] == '44 CUMMINGTON MALL']\n",
    "grouped_df = grouped_df.groupby(['building_desc', 'hour'])[['capacity']].mean().sum() / 4\n",
    "print(f\"On an average day, {int(grouped_df)} people benefitted per existing water bottle station at 44 CUMMINGTON MALL\")\n",
    "WithWaterBottle[\"44 CUMMINGTON MALL\"] = int(grouped_df)"
   ]
  },
  {
   "cell_type": "code",
   "execution_count": 176,
   "metadata": {},
   "outputs": [
    {
     "name": "stdout",
     "output_type": "stream",
     "text": [
      "On an average day, 136 people benefitted per existing water bottle station at 226 BAY STATE ROAD\n"
     ]
    },
    {
     "name": "stderr",
     "output_type": "stream",
     "text": [
      "C:\\Users\\Woo Hyeon Her\\AppData\\Local\\Temp\\ipykernel_22276\\2048709682.py:3: FutureWarning: Calling int on a single element Series is deprecated and will raise a TypeError in the future. Use int(ser.iloc[0]) instead\n",
      "  print(f\"On an average day, {int(grouped_df)} people benefitted per existing water bottle station at 226 BAY STATE ROAD\")\n",
      "C:\\Users\\Woo Hyeon Her\\AppData\\Local\\Temp\\ipykernel_22276\\2048709682.py:4: FutureWarning: Calling int on a single element Series is deprecated and will raise a TypeError in the future. Use int(ser.iloc[0]) instead\n",
      "  WithWaterBottle[\"226 BAY STATE ROAD\"] = int(grouped_df)\n"
     ]
    }
   ],
   "source": [
    "grouped_df = dfWifi[dfWifi['building_desc'] == '226 BAY STATE ROAD']\n",
    "grouped_df = grouped_df.groupby(['building_desc', 'hour'])[['capacity']].mean().sum() / 2\n",
    "print(f\"On an average day, {int(grouped_df)} people benefitted per existing water bottle station at 226 BAY STATE ROAD\")\n",
    "WithWaterBottle[\"226 BAY STATE ROAD\"] = int(grouped_df)"
   ]
  },
  {
   "cell_type": "code",
   "execution_count": 177,
   "metadata": {},
   "outputs": [
    {
     "name": "stdout",
     "output_type": "stream",
     "text": [
      "On an average day, 240 people benefitted per existing water bottle station at 617-621 COMMONWEALTH AVENUE\n"
     ]
    },
    {
     "name": "stderr",
     "output_type": "stream",
     "text": [
      "C:\\Users\\Woo Hyeon Her\\AppData\\Local\\Temp\\ipykernel_22276\\3252850157.py:3: FutureWarning: Calling int on a single element Series is deprecated and will raise a TypeError in the future. Use int(ser.iloc[0]) instead\n",
      "  print(f\"On an average day, {int(grouped_df)} people benefitted per existing water bottle station at 617-621 COMMONWEALTH AVENUE\")\n",
      "C:\\Users\\Woo Hyeon Her\\AppData\\Local\\Temp\\ipykernel_22276\\3252850157.py:4: FutureWarning: Calling int on a single element Series is deprecated and will raise a TypeError in the future. Use int(ser.iloc[0]) instead\n",
      "  WithWaterBottle[\"617-621 COMMONWEALTH AVENUE\"] = int(grouped_df)\n"
     ]
    }
   ],
   "source": [
    "grouped_df = dfWifi[dfWifi['building_desc'] == '617-621 COMMONWEALTH AVENUE']\n",
    "grouped_df = grouped_df.groupby(['building_desc', 'hour'])[['capacity']].mean().sum() / 2\n",
    "print(f\"On an average day, {int(grouped_df)} people benefitted per existing water bottle station at 617-621 COMMONWEALTH AVENUE\")\n",
    "WithWaterBottle[\"617-621 COMMONWEALTH AVENUE\"] = int(grouped_df)"
   ]
  },
  {
   "cell_type": "code",
   "execution_count": 178,
   "metadata": {},
   "outputs": [
    {
     "name": "stdout",
     "output_type": "stream",
     "text": [
      "On an average day, 232 people benefitted per existing water bottle station at 233 BAY STATE ROAD\n"
     ]
    },
    {
     "name": "stderr",
     "output_type": "stream",
     "text": [
      "C:\\Users\\Woo Hyeon Her\\AppData\\Local\\Temp\\ipykernel_22276\\1455451868.py:3: FutureWarning: Calling int on a single element Series is deprecated and will raise a TypeError in the future. Use int(ser.iloc[0]) instead\n",
      "  print(f\"On an average day, {int(grouped_df)} people benefitted per existing water bottle station at 233 BAY STATE ROAD\")\n",
      "C:\\Users\\Woo Hyeon Her\\AppData\\Local\\Temp\\ipykernel_22276\\1455451868.py:4: FutureWarning: Calling int on a single element Series is deprecated and will raise a TypeError in the future. Use int(ser.iloc[0]) instead\n",
      "  WithWaterBottle[\"233 BAY STATE ROAD\"] = int(grouped_df)\n"
     ]
    }
   ],
   "source": [
    "grouped_df = dfWifi[dfWifi['building_desc'] == '233 BAY STATE ROAD']\n",
    "grouped_df = grouped_df.groupby(['building_desc', 'hour'])[['capacity']].mean().sum() / 4\n",
    "print(f\"On an average day, {int(grouped_df)} people benefitted per existing water bottle station at 233 BAY STATE ROAD\")\n",
    "WithWaterBottle[\"233 BAY STATE ROAD\"] = int(grouped_df)"
   ]
  },
  {
   "cell_type": "markdown",
   "metadata": {},
   "source": [
    "## Summary"
   ]
  },
  {
   "cell_type": "code",
   "execution_count": 179,
   "metadata": {},
   "outputs": [
    {
     "name": "stdout",
     "output_type": "stream",
     "text": [
      "692\n",
      "1610\n",
      "0\n",
      "1\n",
      "18\n",
      "66\n",
      "273\n",
      "0\n",
      "69\n",
      "100\n",
      "161\n",
      "85\n",
      "1\n",
      "2\n",
      "301\n",
      "133\n",
      "1607\n",
      "105\n",
      "1511\n",
      "156\n",
      "156\n",
      "380\n",
      "106\n",
      "1868\n",
      "66\n",
      "326\n",
      "58\n",
      "154\n",
      "1054\n",
      "79\n",
      "211\n",
      "153\n",
      "85\n",
      "829\n",
      "79\n",
      "151\n",
      "0\n",
      "52\n",
      "194\n",
      "0\n",
      "79\n",
      "50\n",
      "52\n",
      "72\n",
      "177\n",
      "0\n",
      "119\n"
     ]
    }
   ],
   "source": [
    "for key, value in WithoutWaterBottle.items():\n",
    "    print(f\"{value}\")"
   ]
  },
  {
   "cell_type": "code",
   "execution_count": 180,
   "metadata": {},
   "outputs": [
    {
     "name": "stdout",
     "output_type": "stream",
     "text": [
      "261\n",
      "150\n",
      "289\n",
      "136\n",
      "240\n",
      "232\n"
     ]
    }
   ],
   "source": [
    "for key, value in WithWaterBottle.items():\n",
    "    print(f\"{value}\")"
   ]
  },
  {
   "cell_type": "code",
   "execution_count": 181,
   "metadata": {},
   "outputs": [],
   "source": [
    "nonexisting = {\n",
    "    '736 - 738 COMMONWEALTH AVENUE': 692,\n",
    "    '916-922 COMMONWEALTH AVENUE' : 1610,\n",
    "    '866 BEACON STREET' : 0,\n",
    "    '714 COMMONWEALTH AVENUE' : 1,\n",
    "    '531 BEACON STREET' : 18,\n",
    "    '180 BAY STATE ROAD' : 66,\n",
    "    '830-846 COMMONWEALTH AVENUE' : 273,\n",
    "    '24 COTTAGE FARM ROAD' : 0,\n",
    "    '828 BEACON STREET' : 69,\n",
    "    '40 BUSWELL STREET' : 100,\n",
    "    '152 BAY STATE ROAD' : 161,\n",
    "    '138 MOUNTFORT STREET' : 85,\n",
    "    '76 BAY STATE ROAD' : 1,\n",
    "    '27 ABERDEEN STREET' : 2,\n",
    "    '236 BAY STATE ROAD' : 301,\n",
    "    '128 BAY STATE ROAD' : 133,\n",
    "    '910 COMMONWEALTH AVENUE' : 1607,\n",
    "    '194 BAY STATE ROAD' : 105,\n",
    "    '213 BAY STATE ROAD' : 1511,\n",
    "    '457 PARK DRIVE' : 156,\n",
    "    '455 PARK DRIVE' : 156,\n",
    "    '147 BAY STATE ROAD' : 380,\n",
    "    '172 BAY STATE ROAD' : 106,\n",
    "    \"15 ST. MARY'S STREET\" : 1868,\n",
    "    '56 BAY STATE ROAD' : 66,\n",
    "    '718 COMMONWEALTH AVENUE' : 326,\n",
    "    '124 BAY STATE ROAD' : 58,\n",
    "    '125 BAY STATE ROAD' : 154,\n",
    "    '975 COMMONWEALTH AVENUE' : 1054,\n",
    "    '708 COMMONWEALTH AVENUE' : 79,\n",
    "    '121 BAY STATE ROAD' : 211,\n",
    "    '185 BAY STATE ROAD' : 153,\n",
    "    '116 BAY STATE ROAD' : 85,\n",
    "    '602 COMMONWEALTH AVENUE' : 829,\n",
    "    '61 BAY STATE ROAD' : 79,\n",
    "    '193 BAY STATE ROAD' : 151,\n",
    "    '10 COTTAGE FARM ROAD' : 0,\n",
    "    '78 BAY STATE ROAD' : 52,\n",
    "    '143 BAY STATE ROAD' : 194,\n",
    "    '135 IVY STREET' : 0,\n",
    "    '75 BAY STATE ROAD' : 79,\n",
    "    '74 BAY STATE ROAD' : 50,\n",
    "    '84 BAY STATE ROAD' : 52,\n",
    "    '118 BAY STATE ROAD' : 72,\n",
    "    '122 BAY STATE ROAD' : 177,\n",
    "    '50 WORTHINGTON ROAD' : 0,\n",
    "    '68-70 BAY STATE ROAD' : 119    \n",
    "}"
   ]
  },
  {
   "cell_type": "code",
   "execution_count": 182,
   "metadata": {},
   "outputs": [],
   "source": [
    "# Certain counts have been divided by a number (which represents the number of water foundations in the specific address) in order to generalize the data.\n",
    "existing = {\n",
    "    '700 BEACON STREET' : 924, \n",
    "    '154 BAY STATE ROAD' : 113, \n",
    "    '111 CUMMINGTON MALL' : 1046 / 4, # Supposed to be 1046, but divided by 4\n",
    "    '765 COMMONWEALTH AVENUE' : 3471 / 23, # Supposed to be 3471, but divided by 23\n",
    "    '565 COMMONWEALTH AVENUE' : 1969, \n",
    "    '44 CUMMINGTON MALL' : 1156 / 4, # Supposed to be 1156, but divided by 4\n",
    "    '110-112 CUMMINGTON MALL' : 1111, \n",
    "    '675 - 725 COMMONWEALTH AVENUE' : 0, # 675 Commonwealth has 3, 685 Commonwealth has 6, 700 Commonwealth has 31, 705 Commonwealth has 3, 725 Commonwealth has 7, but the estimation is 0. \n",
    "    '750 COMMONWEALTH AVENUE' : 1921,\n",
    "    '735 COMMONWEALTH AVENUE' : 304,\n",
    "    '226 BAY STATE ROAD' : 273 / 2, # Supposed to be 273, but divided by 2\n",
    "    '225 BAY STATE ROAD' : 385, \n",
    "    '64-86 CUMMINGTON MALL' : 1853,\n",
    "    '617-621 COMMONWEALTH AVENUE' : 480 / 2, # Supposed to be 480, but divided by 2\n",
    "    '233 BAY STATE ROAD' : 929 / 4, # Supposed to be 929, but divided by 4\n",
    "    '156 BAY STATE ROAD' : 107 \n",
    "}"
   ]
  }
 ],
 "metadata": {
  "kernelspec": {
   "display_name": "Python 3",
   "language": "python",
   "name": "python3"
  },
  "language_info": {
   "codemirror_mode": {
    "name": "ipython",
    "version": 3
   },
   "file_extension": ".py",
   "mimetype": "text/x-python",
   "name": "python",
   "nbconvert_exporter": "python",
   "pygments_lexer": "ipython3",
   "version": "3.11.5"
  }
 },
 "nbformat": 4,
 "nbformat_minor": 2
}
