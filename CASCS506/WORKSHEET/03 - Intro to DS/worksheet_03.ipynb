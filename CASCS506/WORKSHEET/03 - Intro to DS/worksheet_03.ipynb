{
  "cells": [
    {
      "cell_type": "markdown",
      "metadata": {
        "id": "tt6hDtuwMgSL"
      },
      "source": [
        "# Worksheet 03\n",
        "\n",
        "Name:  Jeong Yong Yang, Junho Son\n",
        "UID: U95912941, U64222022\n",
        "\n",
        "### Topics\n",
        "\n",
        "- Intro to DS\n",
        "\n",
        "### Linear Algebra Review\n",
        "\n",
        "If you need a linear algebra review, please read through the [following pdf](https://github.com/gallettilance/CS506-Spring2023/raw/main/worksheets/lecture_03_linear_algebra_review.pdf) before next class\n",
        "\n",
        "### Intro to Data Science\n",
        "\n",
        "a) what property must a hypothesis have?"
      ]
    },
    {
      "cell_type": "markdown",
      "metadata": {
        "id": "MtAf2vEYMgSM"
      },
      "source": [
        "Hypothesis must be testable."
      ]
    },
    {
      "cell_type": "markdown",
      "metadata": {
        "id": "p1zY7M5_MgSM"
      },
      "source": [
        "b) what examples would you have wanted to try?"
      ]
    },
    {
      "cell_type": "markdown",
      "metadata": {
        "id": "CRg7goSLMgSN"
      },
      "source": [
        "We wanted to try (7,8,9), (-5, -3, -1), and (-4, -3, -2)."
      ]
    },
    {
      "cell_type": "markdown",
      "metadata": {
        "id": "hWQBqyHKMgSN"
      },
      "source": [
        "c) Poll 1"
      ]
    },
    {
      "cell_type": "markdown",
      "metadata": {
        "id": "6aEVOkaWMgSN"
      },
      "source": [
        "We chose C. (1,2,3)"
      ]
    },
    {
      "cell_type": "markdown",
      "metadata": {
        "id": "yt-yaVPmMgSN"
      },
      "source": [
        "d) Given the hypothesis (x, 2x, 3x), for each of the following, determine whether they are positive or negative examples:\n",
        "\n",
        "- (2, 4, 6)\n",
        "- (6, 8 , 10)\n",
        "- (1, 3, 5)"
      ]
    },
    {
      "cell_type": "markdown",
      "metadata": {
        "id": "fwn0t3-aMgSN"
      },
      "source": [
        "(2, 4, 6) --> positive\n",
        "\n",
        "(6, 8, 10) --> negative\n",
        "\n",
        "(1, 3, 5) --> negative"
      ]
    },
    {
      "cell_type": "markdown",
      "metadata": {
        "id": "gfPlIKTbMgSN"
      },
      "source": [
        "e) Poll 2"
      ]
    },
    {
      "cell_type": "markdown",
      "metadata": {
        "id": "2J-rcijQMgSN"
      },
      "source": [
        "We chose C. (1, 2, 3)"
      ]
    },
    {
      "cell_type": "markdown",
      "metadata": {
        "id": "3VQop4zoMgSN"
      },
      "source": [
        "f) Describe steps of a Data Science Workflow"
      ]
    },
    {
      "cell_type": "markdown",
      "metadata": {
        "id": "tj6qNc66MgSN"
      },
      "source": [
        "The steps of Data Science workflow are:\n",
        "\n",
        "Process data\n",
        "\n",
        "Explore data\n",
        "\n",
        "Extract features\n",
        "\n",
        "Create model"
      ]
    },
    {
      "cell_type": "markdown",
      "metadata": {
        "id": "EAI0wncwMgSN"
      },
      "source": [
        "g) Give a real world example for each of the following data types:\n",
        "\n",
        "- record\n",
        "- graph\n",
        "- image\n",
        "- text\n",
        "\n",
        "\n",
        "\n",
        "- record: Boston University Student record --> can store student's birthdate, ID number, major, phone number, address, and GPA\n",
        "- graph: Facebook --> the nodes represent the different users/accounts in Facebook and the edges between them show whether the users are friends with one another\n",
        "- image: Image classificaiton --> images of dogs and cats and classifying them correctly as dogs or cats\n",
        "- text: Shakespeare plays --> stores chapters, paragraphs, setting and play instructions for natural language processing (NLP)"
      ]
    },
    {
      "cell_type": "markdown",
      "metadata": {
        "id": "NL5LOD7wMgSO"
      },
      "source": []
    },
    {
      "cell_type": "markdown",
      "metadata": {
        "id": "0DnfQWcoMgSO"
      },
      "source": [
        "h) Give a real world example of unsupervised learning"
      ]
    },
    {
      "cell_type": "markdown",
      "metadata": {
        "id": "XCYuCWG6MgSO"
      },
      "source": [
        "In natural language processing (NLP), topic modeling, the usage of LDA to discover possible topics of documents, is an example of unsupervised learning by looking at the patterns of words and the frequency of specific words."
      ]
    },
    {
      "cell_type": "markdown",
      "metadata": {
        "id": "BMsnqD9aMgSO"
      },
      "source": [
        "i) Give a real world example of supervised learning"
      ]
    },
    {
      "cell_type": "markdown",
      "metadata": {
        "id": "YgM9XAzOMgSO"
      },
      "source": [
        "Classifying whether an email is spam or ham (not spam). Using previously saved emails that are spam or not spam (look at the patterns of word choices, email title and message, spellings, and etc.), we can classify whether the new set of emails are spam or not spam."
      ]
    },
    {
      "cell_type": "code",
      "source": [],
      "metadata": {
        "id": "A0wkdl0yY7VU"
      },
      "execution_count": null,
      "outputs": []
    }
  ],
  "metadata": {
    "kernelspec": {
      "display_name": "Python 3",
      "language": "python",
      "name": "python3"
    },
    "language_info": {
      "codemirror_mode": {
        "name": "ipython",
        "version": 3
      },
      "file_extension": ".py",
      "mimetype": "text/x-python",
      "name": "python",
      "nbconvert_exporter": "python",
      "pygments_lexer": "ipython3",
      "version": "3.11.1"
    },
    "orig_nbformat": 4,
    "vscode": {
      "interpreter": {
        "hash": "e7370f93d1d0cde622a1f8e1c04877d8463912d04d973331ad4851f04de6915a"
      }
    },
    "colab": {
      "provenance": []
    }
  },
  "nbformat": 4,
  "nbformat_minor": 0
}