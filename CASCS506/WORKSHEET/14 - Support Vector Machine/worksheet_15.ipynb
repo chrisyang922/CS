{
  "cells": [
    {
      "cell_type": "markdown",
      "metadata": {
        "id": "qspwSuHqvkDL"
      },
      "source": [
        "# Worksheet 15\n",
        "\n",
        "Name:  Jeong Yong Yang, Junho Son\n",
        "UID: U95912941, U64222022\n",
        "\n",
        "### Topics\n",
        "\n",
        "- Support Vector Machines\n",
        "\n",
        "## Support Vector Machines\n",
        "\n",
        "a) Follow along in class to implement the perceptron algorithm and create an animation of the algorithm."
      ]
    },
    {
      "cell_type": "code",
      "execution_count": 4,
      "metadata": {
        "id": "8WKnzAu3vkDN"
      },
      "outputs": [],
      "source": [
        "import numpy as np\n",
        "from PIL import Image as im\n",
        "import matplotlib.pyplot as plt\n",
        "import sklearn.datasets as datasets\n",
        "\n",
        "TEMPFILE = \"temp.png\"\n",
        "CENTERS = [[0, 1], [1, 0]]\n",
        "\n",
        "# Dataset\n",
        "X, labels = datasets.make_blobs(n_samples=10, centers=CENTERS, cluster_std=0.2, random_state=0)\n",
        "Y = np.array(list(map(lambda x : -1 if x == 0 else 1, labels.tolist())))\n",
        "\n",
        "# Initializing w and b\n",
        "w = np.array([1, 1])\n",
        "b = 0.1\n",
        "\n",
        "# Perceptron Parameters\n",
        "epochs = 100\n",
        "alpha = .05\n",
        "expanding_rate = .99\n",
        "retracting_rate = 1.1\n",
        "\n",
        "def snap(x, w, b, error):\n",
        "    \"\"\"\n",
        "        Plot the street induced by w and b.\n",
        "        Circle the point x in red if it was\n",
        "        misclassified or in yellow if it was\n",
        "        classified correctly.\n",
        "    \"\"\"\n",
        "\n",
        "    xplot = np.linspace(-3, 3)\n",
        "    cs = np.array([x for x in 'gb'])\n",
        "\n",
        "    svm = - (w[1]/w[0]) * xplot - b/w[0]\n",
        "    left_svm = - (1/w[0]) - (w[1]/w[0]) * xplot - b/w[0]\n",
        "    right_svm = (1/w[0]) - (w[1]/w[0]) * xplot - b/w[0]\n",
        "\n",
        "    fig, ax = plt.subplots()\n",
        "    ax.scatter(X[:,0],X[:,1],color=cs[labels].tolist(), s=50, alpha=0.8)\n",
        "    if error:\n",
        "        ax.add_patch(plt.Circle((x[0], x[1]), .2, color='r',fill=False))\n",
        "    else:\n",
        "        ax.add_patch(plt.Circle((x[0], x[1]), .2, color='y',fill=False))\n",
        "    ax.plot(xplot, left_svm, 'g--', lw=2)\n",
        "    ax.plot(xplot, svm, 'r-', lw=2)\n",
        "    ax.plot(xplot, right_svm, 'b--', lw=2)\n",
        "    ax.set_xlim(min(X[:, 0]) - 1, max(X[:,0]) + 1)\n",
        "    ax.set_ylim(min(X[:, 1]) - 1, max(X[:,1]) + 1)\n",
        "    fig.savefig(TEMPFILE)\n",
        "    plt.close()\n",
        "\n",
        "    return im.fromarray(np.asarray(im.open(TEMPFILE)))\n",
        "\n",
        "\n",
        "images = []\n",
        "for _ in range(epochs):\n",
        "    # pick a point from X at random\n",
        "    i = np.random.randint(0, len(X))\n",
        "    x, y = X[i], Y[i]\n",
        "    error = False\n",
        "\n",
        "    y_predict = np.dot(w, x) + b\n",
        "    if not((y < 0 and y_predict < 0) or (y > 0 and y_predict > 0)):\n",
        "      # misclassified\n",
        "      error = True\n",
        "\n",
        "      # move in the direction of the point\n",
        "      w = w + y * x * alpha\n",
        "      b = b + y * alpha\n",
        "\n",
        "      #expand\n",
        "      w = w * expanding_rate\n",
        "      b = b * expanding_rate\n",
        "    else:\n",
        "        # are you in the street\n",
        "        if (y_predict < 1) and (y_predict > -1):\n",
        "          # yes\n",
        "          w = w * retracting_rate\n",
        "          b = b * retracting_rate\n",
        "\n",
        "\n",
        "\n",
        "    images.append(snap(x, w, b, error))\n",
        "\n",
        "images[0].save(\n",
        "    'svm.gif',\n",
        "    optimize=False,\n",
        "    save_all=True,\n",
        "    append_images=images[1:],\n",
        "    loop=0,\n",
        "    duration=100\n",
        ")"
      ]
    },
    {
      "cell_type": "markdown",
      "metadata": {
        "id": "LbLH3mEavkDR"
      },
      "source": [
        "b) Consider the following dataset:"
      ]
    },
    {
      "cell_type": "code",
      "execution_count": null,
      "metadata": {
        "id": "l0hjV4auvkDR",
        "outputId": "8f46cb90-9728-4f86-a36b-43bab25833e8"
      },
      "outputs": [
        {
          "data": {
            "image/png": "[encoded data removed]",
            "text/plain": [
              "<Figure size 432x288 with 1 Axes>"
            ]
          },
          "metadata": {},
          "output_type": "display_data"
        }
      ],
      "source": [
        "import numpy as np\n",
        "import matplotlib.pyplot as plt\n",
        "import sklearn.datasets as datasets\n",
        "\n",
        "centers = [[0, 1], [1, 0]]\n",
        "X, _ = datasets.make_blobs(n_samples=10, centers=centers, cluster_std=0.3, random_state=0)\n",
        "Y = np.array([1 if x[0] - x[1] >= 0 else 0 for x in X])\n",
        "\n",
        "cs = np.array([x for x in 'bg'])\n",
        "_, ax = plt.subplots()\n",
        "ax.scatter(X[:,0],X[:,1],color=cs[Y].tolist(), s=50, alpha=0.8)\n",
        "ax.set_aspect('equal', adjustable='datalim')\n",
        "ax.add_patch(plt.Circle((X[0][0], X[0][1]), .1, color='r',fill=False))\n",
        "ax.add_patch(plt.Circle((X[1][0], X[1][1]), .1, color='r',fill=False))\n",
        "plt.show()"
      ]
    },
    {
      "cell_type": "markdown",
      "metadata": {
        "id": "gCJ2pLFqvkDR"
      },
      "source": [
        "if we fit an SVM to the above dataset, moved the points circled in red, and re-fit the SVM, describe how the fit would change depending on how the points are moved."
      ]
    },
    {
      "cell_type": "markdown",
      "metadata": {
        "id": "6jYT4K3KvkDS"
      },
      "source": [
        "Since the two points are not support vectors, the fit would not cause much of a change unless they are moved to become the new support vectors of the graph."
      ]
    },
    {
      "cell_type": "markdown",
      "metadata": {
        "id": "loM-w8y9vkDS"
      },
      "source": [
        "c) If we were to fit an SVM to the above dataset, which points do you think would affect the decision boundary the most? Circle them in red."
      ]
    },
    {
      "cell_type": "markdown",
      "source": [
        "The two points that are in the center (the support vectors - the blue and green points that are closest to each other), would affect the decision boundary the most. Below is a photo of the points."
      ],
      "metadata": {
        "id": "5lot45s91dtR"
      }
    },
    {
      "cell_type": "code",
      "source": [
        "import numpy as np\n",
        "import matplotlib.pyplot as plt\n",
        "import sklearn.datasets as datasets\n",
        "import matplotlib.patches as patches\n",
        "\n",
        "centers = [[0, 1], [1, 0]]\n",
        "X, _ = datasets.make_blobs(n_samples=10, centers=centers, cluster_std=0.3, random_state=0)\n",
        "Y = np.array([1 if x[0] - x[1] >= 0 else 0 for x in X])\n",
        "\n",
        "cs = np.array([x for x in 'bg'])\n",
        "_, ax = plt.subplots()\n",
        "ax.scatter(X[:,0],X[:,1],color=cs[Y].tolist(), s=50, alpha=0.8)\n",
        "ax.set_aspect('equal', adjustable='datalim')\n",
        "circleOne = patches.Circle((1.05, 0.43), radius=0.05, edgecolor='r', facecolor='none')\n",
        "ax.add_patch(circleOne)\n",
        "circleTwo = patches.Circle((0.55, 0.7), radius=0.05, edgecolor='r', facecolor='none')\n",
        "ax.add_patch(circleTwo)\n",
        "plt.show()"
      ],
      "metadata": {
        "colab": {
          "base_uri": "https://localhost:8080/",
          "height": 432
        },
        "id": "V2dTtsni-GiK",
        "outputId": "d2310eba-e232-4d1d-93c2-779d26199146"
      },
      "execution_count": 20,
      "outputs": [
        {
          "output_type": "display_data",
          "data": {
            "text/plain": [
              "<Figure size 640x480 with 1 Axes>"
            ],
            "image/png": "[encoded data removed]"
          },
          "metadata": {}
        }
      ]
    },
    {
      "cell_type": "code",
      "source": [],
      "metadata": {
        "id": "cYwfp31B-G5-"
      },
      "execution_count": null,
      "outputs": []
    }
  ],
  "metadata": {
    "kernelspec": {
      "display_name": "Python 3",
      "language": "python",
      "name": "python3"
    },
    "language_info": {
      "codemirror_mode": {
        "name": "ipython",
        "version": 3
      },
      "file_extension": ".py",
      "mimetype": "text/x-python",
      "name": "python",
      "nbconvert_exporter": "python",
      "pygments_lexer": "ipython3",
      "version": "3.11.1"
    },
    "orig_nbformat": 4,
    "vscode": {
      "interpreter": {
        "hash": "e7370f93d1d0cde622a1f8e1c04877d8463912d04d973331ad4851f04de6915a"
      }
    },
    "colab": {
      "provenance": []
    }
  },
  "nbformat": 4,
  "nbformat_minor": 0
}