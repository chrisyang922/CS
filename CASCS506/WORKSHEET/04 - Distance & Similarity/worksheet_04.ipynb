{
  "cells": [
    {
      "cell_type": "markdown",
      "metadata": {
        "id": "JCYvTvy0fFjs"
      },
      "source": [
        "# Worksheet 04\n",
        "\n",
        "Name: Jeong Yong Yang, Junho Son\n",
        "UID: U95912941, U64222022\n",
        "\n",
        "### Topics\n",
        "\n",
        "- Distance & Similarity"
      ]
    },
    {
      "cell_type": "markdown",
      "metadata": {
        "id": "nNhqcfF6fFj5"
      },
      "source": [
        "### Distance & Similarity\n",
        "\n",
        "#### Part 1\n",
        "\n",
        "a) In the minkowski distance, describe what the parameters p and d are."
      ]
    },
    {
      "cell_type": "markdown",
      "metadata": {
        "id": "KKm5PZOPfFj5"
      },
      "source": [
        "The parameter p is tune distance (parameter that we are able to tune). If p = 2, it is Euclidean distance and if p = 1, it is Manhattan distance.\n",
        "\n",
        "The parameter d is the dimension. In other words, it represents d-dimensional space."
      ]
    },
    {
      "cell_type": "markdown",
      "metadata": {
        "id": "_eGzFF8rfFj5"
      },
      "source": [
        "b) In your own words describe the difference between the Euclidean distance and the Manhattan distance."
      ]
    },
    {
      "cell_type": "markdown",
      "metadata": {
        "id": "AHSp_qoOfFj5"
      },
      "source": [
        "Manhattan distance measures the distance horizontally and vertically but cannot go diagonal so when measuring distance between two points, it has to add the horizonal and vertical aspects. However, Euclidean distance can measure the distance diagonally and can measure the direct line distance from two points. Therefore, Manhattan distance is always greater than or equal than the Euclidean distance."
      ]
    },
    {
      "cell_type": "markdown",
      "metadata": {
        "id": "uhGCpr3CfFj_"
      },
      "source": [
        "Consider A = (0, 0) and B = (1, 1). When:\n",
        "\n",
        "- p = 1, d(A, B) = 2\n",
        "- p = 2, d(A, B) = $\\sqrt{2} = 1.41$\n",
        "- p = 3, d(A, B) = $2^{1/3} = 1.26$\n",
        "- p = 4, d(A, B) = $2^{1/4} = 1.19$\n",
        "\n",
        "c) Describe what you think distance would look like when p is very large."
      ]
    },
    {
      "cell_type": "markdown",
      "metadata": {
        "id": "mUqNVAeBfFj_"
      },
      "source": [
        "As p goes very large, the distance between A and B decreases and would be closer to 1 since it becomes 2^(very small number). In other words, as p increases, the distance between A and B goes closely to 1 but never reaches 1."
      ]
    },
    {
      "cell_type": "markdown",
      "metadata": {
        "id": "UJaeUBFVfFj_"
      },
      "source": [
        "d) Is the minkowski distance still a distance function when p < 1? Expain why / why not.\n",
        "\n",
        "\n"
      ]
    },
    {
      "cell_type": "markdown",
      "metadata": {
        "id": "hOHfqylFfFkA"
      },
      "source": [
        "No it cannot be a distance function when p < 1 because once p < 1, it violates the triangle inequality rule of d(i, j) <= d(i, k) + d(k, j)."
      ]
    },
    {
      "cell_type": "markdown",
      "metadata": {
        "id": "U_5UNyJ2fFkA"
      },
      "source": [
        "e) when would you use cosine similarity over the euclidan distance?"
      ]
    },
    {
      "cell_type": "markdown",
      "metadata": {
        "id": "J-Fnl3NzfFkH"
      },
      "source": [
        "We would use cosine dissimilarity over the Euclidean distance when direction matters more than magnitude."
      ]
    },
    {
      "cell_type": "markdown",
      "metadata": {
        "id": "7ACSiHz_fFkH"
      },
      "source": [
        "f) what does the jaccard distance account for that the manhattan distance doesn't?"
      ]
    },
    {
      "cell_type": "markdown",
      "metadata": {
        "id": "FSpANpdkfFkH"
      },
      "source": [
        "Jaccard distance accounts for the size of intersection, which Manhattan distance does not take into account."
      ]
    },
    {
      "cell_type": "markdown",
      "metadata": {
        "id": "OVLVs8ZrfFkI"
      },
      "source": [
        "#### Part 2\n",
        "\n",
        "Consider the following two sentences:"
      ]
    },
    {
      "cell_type": "code",
      "execution_count": null,
      "metadata": {
        "id": "4SCHK9svfFkI"
      },
      "outputs": [],
      "source": [
        "s1 = \"hello my name is Alice\"\n",
        "s2 = \"hello my name is Bob\""
      ]
    },
    {
      "cell_type": "markdown",
      "metadata": {
        "id": "9sCUvtWKfFkQ"
      },
      "source": [
        "using the union of words from both sentences, we can represent each sentence as a vector. Each element of the vector represents the presence or absence of the word at that index.\n",
        "\n",
        "In this example, the union of words is (\"hello\", \"my\", \"name\", \"is\", \"Alice\", \"Bob\") so we can represent the above sentences as such:"
      ]
    },
    {
      "cell_type": "code",
      "execution_count": null,
      "metadata": {
        "id": "Ij6W0M45fFkQ"
      },
      "outputs": [],
      "source": [
        "v1 = [1,    1, 1,   1, 1,    0]\n",
        "#     hello my name is Alice\n",
        "v2 = [1,    1, 1,   1, 0, 1]\n",
        "#     hello my name is    Bob"
      ]
    },
    {
      "cell_type": "markdown",
      "metadata": {
        "id": "d6wL73MEfFkQ"
      },
      "source": [
        "Programmatically, we can do the following:"
      ]
    },
    {
      "cell_type": "code",
      "execution_count": null,
      "metadata": {
        "colab": {
          "base_uri": "https://localhost:8080/"
        },
        "id": "_MDPkd7zfFkR",
        "outputId": "905a6820-1ffd-4186-83fb-b568eb443969"
      },
      "outputs": [
        {
          "output_type": "stream",
          "name": "stdout",
          "text": [
            "['my', 'name', 'is', 'Bob', 'Alice', 'hello']\n",
            "[1, 1, 1, 0, 1, 1]\n"
          ]
        }
      ],
      "source": [
        "corpus = [s1, s2]\n",
        "all_words = list(set([item for x in corpus for item in x.split()]))\n",
        "print(all_words)\n",
        "v1 = [1 if x in s1 else 0 for x in all_words]\n",
        "print(v1)"
      ]
    },
    {
      "cell_type": "markdown",
      "metadata": {
        "id": "Dsu9T9-_fFkX"
      },
      "source": [
        "Let's add a new sentence to our corpus:"
      ]
    },
    {
      "cell_type": "code",
      "execution_count": null,
      "metadata": {
        "id": "kcSkHGS1fFkY"
      },
      "outputs": [],
      "source": [
        "s3 = \"hi my name is Claude\"\n",
        "corpus.append(s3)"
      ]
    },
    {
      "cell_type": "markdown",
      "metadata": {
        "id": "ATxfuZO0fFkY"
      },
      "source": [
        "a) What is the new union of words used to represent s1, s2, and s3?"
      ]
    },
    {
      "cell_type": "code",
      "execution_count": null,
      "metadata": {
        "colab": {
          "base_uri": "https://localhost:8080/"
        },
        "id": "xQZ-ETVxfFkf",
        "outputId": "e5a94ffe-417e-422a-92d1-e5975733d569"
      },
      "outputs": [
        {
          "output_type": "stream",
          "name": "stdout",
          "text": [
            "['my', 'name', 'Claude', 'hi', 'is', 'Bob', 'Alice', 'hello']\n"
          ]
        }
      ],
      "source": [
        "union_of_words = list(set([item for x in corpus for item in x.split()]))\n",
        "print(union_of_words)"
      ]
    },
    {
      "cell_type": "markdown",
      "metadata": {
        "id": "_Pth08vpfFkf"
      },
      "source": [
        "b) Represent s1, s2, and s3 as vectors as above, using this new set of words."
      ]
    },
    {
      "cell_type": "code",
      "execution_count": null,
      "metadata": {
        "colab": {
          "base_uri": "https://localhost:8080/"
        },
        "id": "xnGfBYp8fFkf",
        "outputId": "47002bb5-411b-4ad8-afe6-71776a9418dd"
      },
      "outputs": [
        {
          "output_type": "stream",
          "name": "stdout",
          "text": [
            "[1, 1, 0, 0, 1, 0, 1, 1]\n",
            "[1, 1, 0, 0, 1, 1, 0, 1]\n",
            "[1, 1, 1, 1, 1, 0, 0, 0]\n"
          ]
        }
      ],
      "source": [
        "vector1 = [1 if x in s1 else 0 for x in union_of_words]\n",
        "vector2 = [1 if x in s2 else 0 for x in union_of_words]\n",
        "vector3 = [1 if x in s3 else 0 for x in union_of_words]\n",
        "\n",
        "print(vector1)\n",
        "print(vector2)\n",
        "print(vector3)"
      ]
    },
    {
      "cell_type": "markdown",
      "metadata": {
        "id": "HxTuOBNpfFkf"
      },
      "source": [
        "c) Write a function that computes the manhattan distance between two vectors. Which pair of vectors are the most similar under that distance function?"
      ]
    },
    {
      "cell_type": "code",
      "execution_count": null,
      "metadata": {
        "colab": {
          "base_uri": "https://localhost:8080/"
        },
        "id": "Su2LFRpufFkg",
        "outputId": "315e20b5-5972-4086-84f7-0b8f1bd381a3"
      },
      "outputs": [
        {
          "output_type": "stream",
          "name": "stdout",
          "text": [
            "2\n",
            "4\n",
            "4\n"
          ]
        }
      ],
      "source": [
        "def manhattanDistance(vec1, vec2):\n",
        "  value = 0\n",
        "  for x in (range(len(vec1))):\n",
        "    value += abs(vec1[x] - vec2[x])\n",
        "  return value\n",
        "\n",
        "man1 = manhattanDistance(vector1, vector2)\n",
        "man2 = manhattanDistance(vector1, vector3)\n",
        "man3 = manhattanDistance(vector2, vector3)\n",
        "\n",
        "print(man1)\n",
        "print(man2)\n",
        "print(man3)"
      ]
    },
    {
      "cell_type": "markdown",
      "source": [
        "Vector1 and vector2 (vector from \"hello my name is Alice\" and vector from \"hello my name is Bob\", respectively) are most similar under Manhattan distance."
      ],
      "metadata": {
        "id": "DsYv9lrIsUD7"
      }
    },
    {
      "cell_type": "markdown",
      "metadata": {
        "id": "ZNpKhLY2fFkm"
      },
      "source": [
        "d) Create a matrix of all these vectors (row major) and add the following sentences in vector form:\n",
        "\n",
        "- \"hi Alice\"\n",
        "- \"hello Claude\"\n",
        "- \"Bob my name is Claude\"\n",
        "- \"hi Claude my name is Alice\"\n",
        "- \"hello Bob\""
      ]
    },
    {
      "cell_type": "code",
      "execution_count": null,
      "metadata": {
        "id": "VciK92UffFkn",
        "colab": {
          "base_uri": "https://localhost:8080/"
        },
        "outputId": "6e6a0431-f658-4eb5-ac42-c0e19605feba"
      },
      "outputs": [
        {
          "output_type": "stream",
          "name": "stdout",
          "text": [
            "8\n",
            "['my', 'name', 'Claude', 'hi', 'is', 'Bob', 'Alice', 'hello']\n"
          ]
        }
      ],
      "source": [
        "sen1 = \"hi Alice\"\n",
        "sen2 = \"hello Claude\"\n",
        "sen3 = \"Bob my name is Claude\"\n",
        "sen4 = \"hi Claude my name is Alice\"\n",
        "sen5 = \"hello Bob\"\n",
        "\n",
        "unique_words = list(set([item for x in corpus for item in x.split()]))\n",
        "print(len(unique_words))\n",
        "print(unique_words)"
      ]
    },
    {
      "cell_type": "code",
      "source": [
        "#       my,   name,   Claude,   hi,   is,   Bob,    Alice,    hello\n",
        "vec1 = [0,    0,      0,        1,    0,    0,      1,        0]\n",
        "\n",
        "vec2 = [0,    0,      1,        0,    0,    0,      0,        1]\n",
        "\n",
        "vec3 = [1,    1,      1,        0,    1,    1,      0,        0]\n",
        "\n",
        "vec4 = [1,    1,      1,        1,    1,    0,      1,        0]\n",
        "\n",
        "vec5 = [0,    0,      0,        0,    0,    1,      0,        1]\n",
        "\n",
        "matrix_of_vecs = [vec1, vec2, vec3, vec4, vec5]\n",
        "print(matrix_of_vecs)"
      ],
      "metadata": {
        "colab": {
          "base_uri": "https://localhost:8080/"
        },
        "id": "r7E01tIHzByw",
        "outputId": "f0811f68-0c62-4b53-f8cb-216d8a84876f"
      },
      "execution_count": null,
      "outputs": [
        {
          "output_type": "stream",
          "name": "stdout",
          "text": [
            "[[0, 0, 0, 1, 0, 0, 1, 0], [0, 0, 1, 0, 0, 0, 0, 1], [1, 1, 1, 0, 1, 1, 0, 0], [1, 1, 1, 1, 1, 0, 1, 0], [0, 0, 0, 0, 0, 1, 0, 1]]\n"
          ]
        }
      ]
    },
    {
      "cell_type": "markdown",
      "metadata": {
        "id": "UMV6dmIMfFkn"
      },
      "source": [
        "e) How many rows and columns does this matrix have?"
      ]
    },
    {
      "cell_type": "code",
      "execution_count": null,
      "metadata": {
        "id": "Mas9ORgLfFko",
        "colab": {
          "base_uri": "https://localhost:8080/"
        },
        "outputId": "ec93aae4-5232-4001-c766-a0bac3795e5c"
      },
      "outputs": [
        {
          "output_type": "stream",
          "name": "stdout",
          "text": [
            "There are 5 rows in the matrix.\n",
            "There are 8 columns in the matrix.\n"
          ]
        }
      ],
      "source": [
        "print(f\"There are {len(matrix_of_vecs)} rows in the matrix.\")\n",
        "print(f\"There are {len(matrix_of_vecs[0])} columns in the matrix.\")"
      ]
    },
    {
      "cell_type": "markdown",
      "metadata": {
        "id": "9xNap5KsfFkt"
      },
      "source": [
        "f) When using the Manhattan distance, which two sentences are the most similar?"
      ]
    },
    {
      "cell_type": "code",
      "execution_count": null,
      "metadata": {
        "id": "1l7uzeBFfFkv",
        "colab": {
          "base_uri": "https://localhost:8080/"
        },
        "outputId": "318e4a23-0b99-4425-ccf3-30756e192731"
      },
      "outputs": [
        {
          "output_type": "stream",
          "name": "stdout",
          "text": [
            "[0, 0, 1, 0, 0, 0, 0, 1] [0, 0, 0, 0, 0, 1, 0, 1]\n",
            "2 5\n"
          ]
        }
      ],
      "source": [
        "sim_vec1 = []\n",
        "sim_vec2 = []\n",
        "index1 = 0\n",
        "index2 = 0\n",
        "smallestManD = manhattanDistance(vec1, vec2)\n",
        "for vv1 in range(len(matrix_of_vecs)):\n",
        "  for vv2 in range(vv1+1, len(matrix_of_vecs)):\n",
        "    if manhattanDistance(matrix_of_vecs[vv1], matrix_of_vecs[vv2]) < smallestManD:\n",
        "      index1 = vv1 + 1 # add 1 since index starts from 0\n",
        "      index2 = vv2 + 1 # add 1 since index starts from 0\n",
        "      sim_vec1 = matrix_of_vecs[vv1]\n",
        "      sim_vec2 = matrix_of_vecs[vv2]\n",
        "      smallestManD = manhattanDistance(matrix_of_vecs[vv1], matrix_of_vecs[vv2])\n",
        "print(sim_vec1, sim_vec2)\n",
        "print(index1, index2)"
      ]
    },
    {
      "cell_type": "markdown",
      "source": [
        "Vector2 and vector5 (vector from \"hello Claude\" and vector from \"hello Bob\", respectively) are most similar under Manhattan distance."
      ],
      "metadata": {
        "id": "HqOW7v222aQP"
      }
    },
    {
      "cell_type": "markdown",
      "metadata": {
        "id": "LZ0kzB3IfFkv"
      },
      "source": [
        "#### Part 3 Challenge"
      ]
    },
    {
      "cell_type": "markdown",
      "metadata": {
        "id": "qnV9LBmSfFkw"
      },
      "source": [
        "Given a set of graphs $\\mathcal{G}$, each graph $G \\in \\mathcal{G}$ is defined over the same set of nodes $V$. The graphs are represented by their adjacency matrices, which are 2D arrays where each element indicates whether a pair of nodes is connected by an edge.\n",
        "\n",
        "Your task is to compute the pairwise distances between these graphs based on a specific distance metric. The distance $d(G, G')$ between two graphs $G = (V, E)$ and $G' = (V, E')$ is defined as the sum of the number of edges in $G$ but not in $G'$, and the number of edges in $G'$ but not in $G$. Mathematically, this can be expressed as:\n",
        "\n",
        "$$\n",
        "d(G, G') = |E \\setminus E'| + |E' \\setminus E|.\n",
        "$$\n",
        "\n",
        "##### Requirements:\n",
        "1. **Input**: Should take a list of 2D numpy arrays as input. Each array represents the adjacency matrix of a graph.\n",
        "\n",
        "2. **Output**: Should output a pairwise distance matrix. If there are $n$ graphs in the input list, the output should be an $n \\times n$ matrix where the entry at position $(i, j)$ represents the distance between the $i^{th}$ and $j^{th}$ graph."
      ]
    },
    {
      "cell_type": "code",
      "source": [
        "def graph(graph):\n",
        "  num_graphs = len(graph)\n",
        "  distance_matrix = [[0 for _ in range(num_graphs)] for _ in range(num_graphs)]\n",
        "  for x in range(len(graph)):\n",
        "    for y in range(x+1, len(graph)):\n",
        "      distance = 0\n",
        "      for r in range(len(graph[x])):\n",
        "        for c in range(len(graph[x][r])):\n",
        "          if graph[x][r][c] != graph[y][r][c]:\n",
        "            distance += 1\n",
        "      distance_matrix[x][y] = distance\n",
        "      distance_matrix[y][x] = distance\n",
        "  return distance_matrix\n",
        "\n",
        "gra1 = [[1, 1, 1],[0, 0, 1], [1, 0, 1]]\n",
        "gra2 = [[1, 0, 0],[1, 1, 0], [0, 1, 1]]\n",
        "gra3 = [[0, 0, 1],[0, 1, 0], [1, 1, 0]]\n",
        "\n",
        "graphs = [gra1, gra2, gra3]\n",
        "print(graph(graphs))\n",
        "\n",
        "gra1 = [[1, 1, 1],[0, 0, 1], [1, 0, 1], [0, 0, 1]]\n",
        "gra2 = [[1, 0, 0],[1, 1, 0], [0, 1, 1], [1, 1, 1]]\n",
        "gra3 = [[0, 0, 1],[0, 1, 0], [1, 1, 0], [1, 0, 1]]\n",
        "\n",
        "graphs = [gra1, gra2, gra3]\n",
        "print(graph(graphs))\n"
      ],
      "metadata": {
        "colab": {
          "base_uri": "https://localhost:8080/"
        },
        "id": "poLxdMOoQZNd",
        "outputId": "31655af1-8a12-475b-c817-d7e82e1e9988"
      },
      "execution_count": null,
      "outputs": [
        {
          "output_type": "stream",
          "name": "stdout",
          "text": [
            "[[0, 7, 6], [7, 0, 5], [6, 5, 0]]\n",
            "[[0, 9, 7], [9, 0, 6], [7, 6, 0]]\n"
          ]
        }
      ]
    },
    {
      "cell_type": "code",
      "source": [],
      "metadata": {
        "id": "LomMPG1pbFJr"
      },
      "execution_count": null,
      "outputs": []
    }
  ],
  "metadata": {
    "kernelspec": {
      "display_name": "Python 3",
      "language": "python",
      "name": "python3"
    },
    "language_info": {
      "codemirror_mode": {
        "name": "ipython",
        "version": 3
      },
      "file_extension": ".py",
      "mimetype": "text/x-python",
      "name": "python",
      "nbconvert_exporter": "python",
      "pygments_lexer": "ipython3",
      "version": "3.11.1"
    },
    "orig_nbformat": 4,
    "vscode": {
      "interpreter": {
        "hash": "76ca05dc3ea24b2e3b98cdb7774adfbb40773424bf5109b477fd793f623715af"
      }
    },
    "colab": {
      "provenance": []
    }
  },
  "nbformat": 4,
  "nbformat_minor": 0
}