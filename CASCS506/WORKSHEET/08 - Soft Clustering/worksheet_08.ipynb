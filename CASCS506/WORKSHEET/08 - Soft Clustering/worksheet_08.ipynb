{
  "cells": [
    {
      "cell_type": "markdown",
      "metadata": {
        "id": "Tp-hIDs9Vk-N"
      },
      "source": [
        "# Worksheet 08\n",
        "\n",
        "Name:  Jeong Yong Yang\n",
        "UID: U95912941\n",
        "\n",
        "### Topics\n",
        "\n",
        "- Soft Clustering\n",
        "- Clustering Aggregation\n",
        "\n",
        "### Probability Review\n",
        "\n",
        "Read through [the following](https://medium.com/@gallettilance/overview-of-probability-3272b72c82c8)\n",
        "\n",
        "### Soft Clustering\n",
        "\n",
        "We generate 10 data points that come from a normal distribution with mean 5 and variance 1."
      ]
    },
    {
      "cell_type": "code",
      "execution_count": 1,
      "metadata": {
        "colab": {
          "base_uri": "https://localhost:8080/"
        },
        "id": "vem2pRtVVk-O",
        "outputId": "6c699544-cbea-4429-aab9-d6ab9e25891a"
      },
      "outputs": [
        {
          "output_type": "stream",
          "name": "stdout",
          "text": [
            "[4.31061139517483, 4.583571606979407, 3.922930492955666, 5.32087544662834, 4.706804917425918, 5.282289634353272, 3.4710783781531482, 5.0790113424947325, 4.1491393354386785, 3.3906494685571773]\n"
          ]
        }
      ],
      "source": [
        "import random\n",
        "import numpy as np\n",
        "from sklearn.cluster import KMeans\n",
        "\n",
        "mean = 5\n",
        "stdev = 1\n",
        "\n",
        "s1 = np.random.normal(mean, stdev, 10).tolist()\n",
        "print(s1)"
      ]
    },
    {
      "cell_type": "markdown",
      "metadata": {
        "id": "moUINqODVk-O"
      },
      "source": [
        "a) Generate 10 more data points, this time coming from a normal distribution with mean 8 and variance 1."
      ]
    },
    {
      "cell_type": "code",
      "execution_count": 2,
      "metadata": {
        "colab": {
          "base_uri": "https://localhost:8080/"
        },
        "id": "JKPvFe5KVk-O",
        "outputId": "016d80f9-9ba9-431a-cae7-0061f9c5e65f"
      },
      "outputs": [
        {
          "output_type": "stream",
          "name": "stdout",
          "text": [
            "[10.738940883258707, 8.434553897762486, 8.136873818772713, 6.87017272740713, 7.773071981188038, 8.187751318382452, 6.340975729049986, 7.886084359813896, 8.786630939737213, 9.440283336122544]\n"
          ]
        }
      ],
      "source": [
        "mean = 8\n",
        "stdev = 1\n",
        "s2 = np.random.normal( mean , stdev , 10 ).tolist()\n",
        "print(s2)"
      ]
    },
    {
      "cell_type": "markdown",
      "metadata": {
        "id": "kIPB5IZHVk-P"
      },
      "source": [
        "b) Flip a fair coin 10 times. If the coin lands on H, then pick the last data point of `s1` and remove it from `s1`, if T then pick the last data point from `s2` and remove it from `s2`. Add these 10 points to a list called `data`."
      ]
    },
    {
      "cell_type": "code",
      "execution_count": 3,
      "metadata": {
        "colab": {
          "base_uri": "https://localhost:8080/"
        },
        "id": "zbXAhwMBVk-P",
        "outputId": "8bf920e9-7251-4c95-af99-58ff6450729d"
      },
      "outputs": [
        {
          "output_type": "stream",
          "name": "stdout",
          "text": [
            "[9.440283336122544, 8.786630939737213, 7.886084359813896, 6.340975729049986, 3.3906494685571773, 4.1491393354386785, 8.187751318382452, 7.773071981188038, 5.0790113424947325, 3.4710783781531482]\n"
          ]
        }
      ],
      "source": [
        "data = []\n",
        "for i in range(10):\n",
        "    # flip coin\n",
        "    coin_output = random.choice([0, 1])\n",
        "    if coin_output == 0:\n",
        "        p1 = s1.pop()\n",
        "        data.append(p1)\n",
        "    else:\n",
        "        p2 = s2.pop()\n",
        "        data.append(p2)\n",
        "print(data)"
      ]
    },
    {
      "cell_type": "markdown",
      "metadata": {
        "id": "GUcbuDebVk-P"
      },
      "source": [
        "c) This `data` is a Gaussian Mixture Distribution with 2 mixture components. Over the next few questions we will walk through the GMM algorithm to see if we can uncover the parameters we used to generate this data. First, please list all these parameters of the GMM that created `data` and the values we know they have."
      ]
    },
    {
      "cell_type": "markdown",
      "metadata": {
        "id": "8bw2cV1SVk-P"
      },
      "source": [
        "### Probability\n",
        "\n",
        "P(`s1`) = 0.5\n",
        "\n",
        "P(`s2`) = 0.5\n",
        "\n",
        "### Variance\n",
        "\n",
        "Var(`s1`) = 1\n",
        "\n",
        "Var(`s2`) = 1\n",
        "\n",
        "### Mean\n",
        "\n",
        "Avg(`s1`) = 5\n",
        "\n",
        "Avg(`s2`) = 8"
      ]
    },
    {
      "cell_type": "markdown",
      "metadata": {
        "id": "ozKnuUpVVk-P"
      },
      "source": [
        "d) Let's assume there are two mixture components (note: we could plot the data and make the observation that there are two clusters). The EM algorithm asks us to start with a random `mean_j`, `variance_j`, `P(S_j)` for each component j. One method we could use to find sensible values for these is to apply K means with k=2 here.\n",
        "\n",
        "1. the centroids would be the estimates of the `mean_j`\n",
        "2. the intra-cluster variance could be the estimate of `variance_j`\n",
        "3. the proportion of points in each cluster could be the estimate of `P(S_j)`\n",
        "\n",
        "Go through this process and list the parameter estimates it gives. Are they close or far from the true values?"
      ]
    },
    {
      "cell_type": "code",
      "execution_count": 4,
      "metadata": {
        "colab": {
          "base_uri": "https://localhost:8080/"
        },
        "id": "98yNnDqkVk-P",
        "outputId": "c0ffe56d-7216-4f45-dbb3-07097c8c3581"
      },
      "outputs": [
        {
          "output_type": "stream",
          "name": "stderr",
          "text": [
            "/usr/local/lib/python3.10/dist-packages/sklearn/cluster/_kmeans.py:870: FutureWarning: The default value of `n_init` will change from 10 to 'auto' in 1.4. Set the value of `n_init` explicitly to suppress the warning\n",
            "  warnings.warn(\n"
          ]
        },
        {
          "output_type": "stream",
          "name": "stdout",
          "text": [
            "[3.3906494685571773, 4.1491393354386785, 5.0790113424947325, 3.4710783781531482]\n",
            "[9.440283336122544, 8.786630939737213, 7.886084359813896, 6.340975729049986, 8.187751318382452, 7.773071981188038]\n",
            "P(S_1) = 0.4,  P(S_2) = 0.6\n",
            "mean_1 = 4.022469631160934,  mean_2 = 8.069132944049022\n",
            "var_1 = 0.45888865838402415,  var_2 = 0.9194355546505552\n"
          ]
        }
      ],
      "source": [
        "kmeans = KMeans(2, init='k-means++').fit(X=np.array(data).reshape(-1, 1))\n",
        "\n",
        "s1 = [x[0] for x in filter(lambda x: x[1] == 0, zip(data, kmeans.labels_))]\n",
        "print(s1)\n",
        "s2 = [x[0] for x in filter(lambda x: x[1] == 1, zip(data, kmeans.labels_))]\n",
        "print(s2)\n",
        "\n",
        "prob_s = [ len(s1) / (len(s1) + len(s2)) , len(s2) / (len(s1) + len(s2)) ]\n",
        "mean = [ sum(s1)/len(s1) , sum(s2)/len(s2) ]\n",
        "var = [ sum(map(lambda x : (x - mean[0])**2, s1)) / len(s1) , sum(map(lambda x : (x - mean[1])**2, s2)) / len(s2) ]\n",
        "\n",
        "print(\"P(S_1) = \" + str(prob_s[0]) + \",  P(S_2) = \" + str(prob_s[1]))\n",
        "print(\"mean_1 = \" + str(mean[0]) + \",  mean_2 = \" + str(mean[1]))\n",
        "print(\"var_1 = \" + str(var[0]) + \",  var_2 = \" + str(var[1]))"
      ]
    },
    {
      "cell_type": "markdown",
      "metadata": {
        "id": "fgz1YlF2Vk-P"
      },
      "source": [
        "They are close from the true values."
      ]
    },
    {
      "cell_type": "markdown",
      "metadata": {
        "id": "dSxO4rkYVk-P"
      },
      "source": [
        "e) For each data point, compute `P(S_j | X_i)`. Comment on which cluster you think each point belongs to based on the estimated probabilities. How does that compare to the truth?"
      ]
    },
    {
      "cell_type": "code",
      "execution_count": 5,
      "metadata": {
        "colab": {
          "base_uri": "https://localhost:8080/"
        },
        "id": "mpai9tvjVk-P",
        "outputId": "7a4e84fc-c44a-4662-a201-20edca993d65"
      },
      "outputs": [
        {
          "output_type": "stream",
          "name": "stdout",
          "text": [
            "point =  9.440283336122544\n",
            "probability of observing that point if it came from cluster 0 =  4.68725506329445e-31\n",
            "probability of observing that point if it came from cluster 1 =  0.1427122651064448\n",
            "point =  8.786630939737213\n",
            "probability of observing that point if it came from cluster 0 =  3.4197199416445984e-24\n",
            "probability of observing that point if it came from cluster 1 =  0.32000129369143593\n",
            "point =  7.886084359813896\n",
            "probability of observing that point if it came from cluster 0 =  3.516091041984081e-16\n",
            "probability of observing that point if it came from cluster 1 =  0.4253847506342204\n",
            "point =  6.340975729049986\n",
            "probability of observing that point if it came from cluster 0 =  2.48919459428751e-06\n",
            "probability of observing that point if it came from cluster 1 =  0.07417241467457988\n",
            "point =  3.3906494685571773\n",
            "probability of observing that point if it came from cluster 0 =  0.33694122801200077\n",
            "probability of observing that point if it came from cluster 1 =  1.035109613379593e-06\n",
            "point =  4.1491393354386785\n",
            "probability of observing that point if it came from cluster 0 =  0.8368681516672145\n",
            "probability of observing that point if it came from cluster 1 =  4.9006032522650756e-05\n",
            "point =  8.187751318382452\n",
            "probability of observing that point if it came from cluster 0 =  1.1180414841448051e-18\n",
            "probability of observing that point if it came from cluster 1 =  0.4303031674292418\n",
            "point =  7.773071981188038\n",
            "probability of observing that point if it came from cluster 0 =  2.712700866538803e-15\n",
            "probability of observing that point if it came from cluster 1 =  0.4119776581037071\n",
            "point =  5.0790113424947325\n",
            "probability of observing that point if it came from cluster 0 =  0.061390756509752786\n",
            "probability of observing that point if it came from cluster 1 =  0.002191630111291801\n",
            "point =  3.4710783781531482\n",
            "probability of observing that point if it came from cluster 0 =  0.42236406042086544\n",
            "probability of observing that point if it came from cluster 1 =  1.6092991796249037e-06\n",
            "9.440283336122544\n",
            "Probability of coming from S_1 = 2.189606272826126e-30\n",
            "Probability of coming from S_2 = 1.0\n",
            "\n",
            "8.786630939737213\n",
            "Probability of coming from S_1 = 7.12438774271976e-24\n",
            "Probability of coming from S_2 = 1.0\n",
            "\n",
            "7.886084359813896\n",
            "Probability of coming from S_1 = 5.510448343907989e-16\n",
            "Probability of coming from S_2 = 0.9999999999999993\n",
            "\n",
            "6.340975729049986\n",
            "Probability of coming from S_1 = 2.2372548389062752e-05\n",
            "Probability of coming from S_2 = 0.999977627451611\n",
            "\n",
            "3.3906494685571773\n",
            "Probability of coming from S_1 = 0.9999953919047709\n",
            "Probability of coming from S_2 = 4.608095228965517e-06\n",
            "\n",
            "4.1491393354386785\n",
            "Probability of coming from S_1 = 0.999912169447126\n",
            "Probability of coming from S_2 = 8.783055287400747e-05\n",
            "\n",
            "8.187751318382452\n",
            "Probability of coming from S_1 = 1.7321763952677292e-18\n",
            "Probability of coming from S_2 = 1.0\n",
            "\n",
            "7.773071981188038\n",
            "Probability of coming from S_1 = 4.389721648216051e-15\n",
            "Probability of coming from S_2 = 0.9999999999999957\n",
            "\n",
            "5.0790113424947325\n",
            "Probability of coming from S_1 = 0.9491722855349197\n",
            "Probability of coming from S_2 = 0.05082771446508029\n",
            "\n",
            "3.4710783781531482\n",
            "Probability of coming from S_1 = 0.9999942847055439\n",
            "Probability of coming from S_2 = 5.7152944561712145e-06\n",
            "\n"
          ]
        }
      ],
      "source": [
        "from scipy.stats import norm\n",
        "\n",
        "prob_s0_x = [] # P(S_0 | X_i)\n",
        "prob_s1_x = [] # P(S_1 | X_i)\n",
        "prob_x = [] # P(X_i)\n",
        "\n",
        "k = 2\n",
        "\n",
        "for p in data:\n",
        "    print(\"point = \", p)\n",
        "    pdf_i = []\n",
        "\n",
        "    for j in range(k):\n",
        "        # P(X_i | S_j)\n",
        "        pdf_i.append(norm.pdf(p, mean[j], var[j]))\n",
        "        print(\"probability of observing that point if it came from cluster \" + str(j) + \" = \", pdf_i[j])\n",
        "        # P(S_j) already computed\n",
        "        prob_s[j]\n",
        "\n",
        "    # P(X_i) = P(S_0)P(X_i | S_0) + P(S_1)P(X_i | S_1)\n",
        "    prob_x = prob_s[0] * pdf_i[0] + prob_s[1] * pdf_i[1]\n",
        "\n",
        "    # P(S_j | X_i) = P(X_i | S_j)P(S_j) / P(X_i)\n",
        "    prob_s0_x.append( pdf_i[0] * prob_s[0] / prob_x )\n",
        "    prob_s1_x.append( pdf_i[1] * prob_s[1] / prob_x )\n",
        "\n",
        "probs = zip(data, prob_s0_x, prob_s1_x)\n",
        "for p in probs:\n",
        "    print(p[0])\n",
        "    print(\"Probability of coming from S_1 = \" + str(p[1]))\n",
        "    print(\"Probability of coming from S_2 = \" + str(p[2]))\n",
        "    print()\n"
      ]
    },
    {
      "cell_type": "markdown",
      "source": [
        "Based on the the probability,\n",
        "\n",
        "1. Point 9.440283336122544 belongs to cluster 1.\n",
        "2. Point 8.786630939737213 belongs to cluster 1.\n",
        "3. Point 7.886084359813896 belongs to cluster 1.\n",
        "4. Point 6.340975729049986 belongs to cluster 1.\n",
        "5. Point 3.3906494685571773 belongs to cluster 0.\n",
        "6. Point 4.1491393354386785 belongs to cluster 0.\n",
        "7. Point 8.187751318382452 belongs to cluster 1.\n",
        "8. Point 7.773071981188038 belongs to cluster 1.\n",
        "9. Point 5.0790113424947325 belongs to cluster 0.\n",
        "10. Point 3.4710783781531482 belongs to cluster 0.\n",
        "\n",
        "In reality,\n",
        "\n",
        "1. Point 9.440283336122544 belongs to cluster 1.\n",
        "2. Point 8.786630939737213 belongs to cluster 1.\n",
        "3. Point 7.886084359813896 belongs to cluster 1.\n",
        "4. Point 6.340975729049986 belongs to cluster 1.\n",
        "5. Point 3.3906494685571773 belongs to cluster 0.\n",
        "6. Point 4.1491393354386785 belongs to cluster 0.\n",
        "7. Point 8.187751318382452 belongs to cluster 1.\n",
        "8. Point 7.773071981188038 belongs to cluster 1.\n",
        "9. Point 5.0790113424947325 belongs to cluster 0.\n",
        "10. Point 3.4710783781531482 belongs to cluster 0.\n",
        "\n",
        "They match 100%.\n",
        "\n"
      ],
      "metadata": {
        "id": "Bh4Rx878YyXb"
      }
    },
    {
      "cell_type": "markdown",
      "metadata": {
        "id": "XvqzXI5eVk-P"
      },
      "source": [
        "f) Having computed `P(S_j | X_i)`, update the estimates of `mean_j`, `var_j`, and `P(S_j)`. How different are these values from the original ones you got from K means? briefly comment."
      ]
    },
    {
      "cell_type": "code",
      "execution_count": 6,
      "metadata": {
        "colab": {
          "base_uri": "https://localhost:8080/"
        },
        "id": "tp5NGshzVk-P",
        "outputId": "ccdedbac-f33c-4a4e-b369-606a07556fc9"
      },
      "outputs": [
        {
          "output_type": "stream",
          "name": "stdout",
          "text": [
            "P(S_1) = 0.4,  P(S_2) = 0.6\n",
            "mean_1 = 4.008883031771101,  mean_2 = 8.043957444697222\n",
            "var_1 = 0.45028095445011657,  var_2 = 0.9864187325310322\n"
          ]
        }
      ],
      "source": [
        "prob_c = [sum(prob_s0_x)/ len(prob_s0_x), sum(prob_s1_x)/ len(prob_s1_x) ]\n",
        "mean = [sum([x[0] * x[1] for x in zip(prob_s0_x, data)]) / sum(prob_s0_x), sum([x[0] * x[1] for x in zip(prob_s1_x, data)]) / sum(prob_s1_x)]\n",
        "var = [ sum([x[0] * (x[1]-mean[0])**2 for x in zip(prob_s0_x, data)]) / sum(prob_s0_x) , sum([x[0] * (x[1]-mean[1])**2 for x in zip(prob_s1_x, data)]) / sum(prob_s1_x) ]\n",
        "\n",
        "print(\"P(S_1) = \" + str(prob_s[0]) + \",  P(S_2) = \" + str(prob_s[1]))\n",
        "print(\"mean_1 = \" + str(mean[0]) + \",  mean_2 = \" + str(mean[1]))\n",
        "print(\"var_1 = \" + str(var[0]) + \",  var_2 = \" + str(var[1]))"
      ]
    },
    {
      "cell_type": "markdown",
      "metadata": {
        "id": "7ChuJ89MVk-P"
      },
      "source": [
        "They are very similar to the original values from K means. The probability is the same while the mean and variance is different by  small amounts.\n"
      ]
    },
    {
      "cell_type": "markdown",
      "metadata": {
        "id": "-jeogmqtVk-P"
      },
      "source": [
        "g) Update `P(S_j | X_i)`. Comment on any differences or lack thereof you observe."
      ]
    },
    {
      "cell_type": "code",
      "execution_count": 7,
      "metadata": {
        "colab": {
          "base_uri": "https://localhost:8080/"
        },
        "id": "Z4MfjnexVk-P",
        "outputId": "635c8c30-5158-4b60-882e-948eb31e53a2"
      },
      "outputs": [
        {
          "output_type": "stream",
          "name": "stdout",
          "text": [
            "point =  9.440283336122544\n",
            "probability of observing that point if it came from cluster 0 =  2.2541229388788283e-32\n",
            "probability of observing that point if it came from cluster 1 =  0.1485020784827171\n",
            "point =  8.786630939737213\n",
            "probability of observing that point if it came from cluster 0 =  3.162083882599154e-25\n",
            "probability of observing that point if it came from cluster 1 =  0.30461929057483844\n",
            "point =  7.886084359813896\n",
            "probability of observing that point if it came from cluster 0 =  7.038838942258483e-17\n",
            "probability of observing that point if it came from cluster 1 =  0.39928825738539925\n",
            "point =  6.340975729049986\n",
            "probability of observing that point if it came from cluster 0 =  1.3263450954454118e-06\n",
            "probability of observing that point if it came from cluster 1 =  0.0911232393966319\n",
            "point =  3.3906494685571773\n",
            "probability of observing that point if it came from cluster 0 =  0.34520638755003746\n",
            "probability of observing that point if it came from cluster 1 =  5.950222267360344e-06\n",
            "point =  4.1491393354386785\n",
            "probability of observing that point if it came from cluster 0 =  0.8440303612864287\n",
            "probability of observing that point if it came from cluster 1 =  0.00016652499534014278\n",
            "point =  8.187751318382452\n",
            "probability of observing that point if it came from cluster 0 =  1.7567789103709353e-19\n",
            "probability of observing that point if it came from cluster 1 =  0.4001606540530076\n",
            "point =  7.773071981188038\n",
            "probability of observing that point if it came from cluster 0 =  5.920813583345314e-16\n",
            "probability of observing that point if it came from cluster 1 =  0.389469033907699\n",
            "point =  5.0790113424947325\n",
            "probability of observing that point if it came from cluster 0 =  0.052595794107278895\n",
            "probability of observing that point if it came from cluster 1 =  0.004415714748578017\n",
            "point =  3.4710783781531482\n",
            "probability of observing that point if it came from cluster 0 =  0.4341688766058164\n",
            "probability of observing that point if it came from cluster 1 =  8.712351710014864e-06\n",
            "P(S_1) = 0.4,  P(S_2) = 0.6\n",
            "mean_1 = 3.992078688952148,  mean_2 = 8.014186732164532\n",
            "var_1 = 0.4391001684793039,  var_2 = 1.0640856661027474\n"
          ]
        }
      ],
      "source": [
        "prob_s0_x = [] # P(S_0 | X_i)\n",
        "prob_s1_x = [] # P(S_1 | X_i)\n",
        "prob_x = [] # P(X_i)\n",
        "\n",
        "k = 2\n",
        "\n",
        "for p in data:\n",
        "    print(\"point = \", p)\n",
        "    pdf_i = []\n",
        "\n",
        "    for j in range(k):\n",
        "        # P(X_i | S_j)\n",
        "        pdf_i.append(norm.pdf(p, mean[j], var[j]))\n",
        "        print(\"probability of observing that point if it came from cluster \" + str(j) + \" = \", pdf_i[j])\n",
        "        # P(S_j) already computed\n",
        "        prob_s[j]\n",
        "\n",
        "    # P(X_i) = P(S_0)P(X_i | S_0) + P(S_1)P(X_i | S_1)\n",
        "    prob_x = prob_s[0] * pdf_i[0] + prob_s[1] * pdf_i[1]\n",
        "\n",
        "    # P(S_j | X_i) = P(X_i | S_j)P(S_j) / P(X_i)\n",
        "    prob_s0_x.append( pdf_i[0] * prob_s[0] / prob_x )\n",
        "    prob_s1_x.append( pdf_i[1] * prob_s[1] / prob_x )\n",
        "\n",
        "\n",
        "prob_c = [sum(prob_s0_x)/ len(prob_s0_x), sum(prob_s1_x)/ len(prob_s1_x) ]\n",
        "mean = [sum([x[0] * x[1] for x in zip(prob_s0_x, data)]) / sum(prob_s0_x), sum([x[0] * x[1] for x in zip(prob_s1_x, data)]) / sum(prob_s1_x)]\n",
        "var = [ sum([x[0] * (x[1]-mean[0])**2 for x in zip(prob_s0_x, data)]) / sum(prob_s0_x) , sum([x[0] * (x[1]-mean[1])**2 for x in zip(prob_s1_x, data)]) / sum(prob_s1_x) ]\n",
        "\n",
        "print(\"P(S_1) = \" + str(prob_s[0]) + \",  P(S_2) = \" + str(prob_s[1]))\n",
        "print(\"mean_1 = \" + str(mean[0]) + \",  mean_2 = \" + str(mean[1]))\n",
        "print(\"var_1 = \" + str(var[0]) + \",  var_2 = \" + str(var[1]))"
      ]
    },
    {
      "cell_type": "markdown",
      "metadata": {
        "id": "kPFLDvbNVk-P"
      },
      "source": [
        "The probability, mean, and the variance values are similiar or the same as the previous iteration. One thing that it lacks is the mean value and the variance from the first cluster, which is ideally 5 and 1, respectively, but from the iteration, we continue to get values around 4 for the mean and 0.4 of the variance. This might be because of the values we got from the actual data and the fact that we only collected 10 total data."
      ]
    },
    {
      "cell_type": "markdown",
      "metadata": {
        "id": "l_vhNqfGVk-P"
      },
      "source": [
        "h) Use `P(S_j | X_i)` to create a hard assignment - label each point as belonging to a specific cluster (0 or 1)"
      ]
    },
    {
      "cell_type": "code",
      "execution_count": 9,
      "metadata": {
        "colab": {
          "base_uri": "https://localhost:8080/"
        },
        "id": "ytKC-MLwVk-P",
        "outputId": "086e4f7c-c101-4ed2-c5a9-4cae82b52863"
      },
      "outputs": [
        {
          "output_type": "stream",
          "name": "stdout",
          "text": [
            "Point 9.440283336122544 belongs to cluster 1\n",
            "Point 8.786630939737213 belongs to cluster 1\n",
            "Point 7.886084359813896 belongs to cluster 1\n",
            "Point 6.340975729049986 belongs to cluster 1\n",
            "Point 3.3906494685571773 belongs to cluster 0\n",
            "Point 4.1491393354386785 belongs to cluster 0\n",
            "Point 8.187751318382452 belongs to cluster 1\n",
            "Point 7.773071981188038 belongs to cluster 1\n",
            "Point 5.0790113424947325 belongs to cluster 0\n",
            "Point 3.4710783781531482 belongs to cluster 0\n"
          ]
        }
      ],
      "source": [
        "probs = zip(data, prob_s0_x, prob_s1_x)\n",
        "for p in probs:\n",
        "    if p[1] > p[2]:\n",
        "      print(f\"Point {p[0]} belongs to cluster 0\")\n",
        "    else:\n",
        "      print(f\"Point {p[0]} belongs to cluster 1\")\n",
        "\n"
      ]
    }
  ],
  "metadata": {
    "kernelspec": {
      "display_name": "Python 3",
      "language": "python",
      "name": "python3"
    },
    "language_info": {
      "codemirror_mode": {
        "name": "ipython",
        "version": 3
      },
      "file_extension": ".py",
      "mimetype": "text/x-python",
      "name": "python",
      "nbconvert_exporter": "python",
      "pygments_lexer": "ipython3",
      "version": "3.11.1"
    },
    "orig_nbformat": 4,
    "vscode": {
      "interpreter": {
        "hash": "e7370f93d1d0cde622a1f8e1c04877d8463912d04d973331ad4851f04de6915a"
      }
    },
    "colab": {
      "provenance": []
    }
  },
  "nbformat": 4,
  "nbformat_minor": 0
}