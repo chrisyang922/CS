{
  "nbformat": 4,
  "nbformat_minor": 0,
  "metadata": {
    "colab": {
      "provenance": []
    },
    "kernelspec": {
      "name": "python3",
      "display_name": "Python 3"
    },
    "language_info": {
      "name": "python"
    }
  },
  "cells": [
    {
      "cell_type": "markdown",
      "source": [
        "## Based on the previous ipynb file where we found the threshold, here is a basic summary\n",
        "\n",
        "1. Decided to apply 3 filters to 20 buildings that were higher than the threshold value of 518 (which we got from the median of the number of people using the existing water bottle stations).\n",
        "\n",
        "2. Kitchen --> Every building had kitchen, preventing us to apply the variable\n",
        "\n",
        "3. Maintenance --> 4 buildings did not have maintenance and we decided to remove them. Below is a list of the 4 buildings that we deleted\n",
        "\n",
        "- 916-922 commonwealth avenue\n",
        "- 1010 commonwealth avenue\n",
        "- 930-940 commonwealth avenue\n",
        "- 900 commonwealth avenue\n",
        "\n",
        "4. Mechanical Ventilation --> 3 buildings did not have mechanical ventilation, allowing us to finalize these 3 buildings. Below is a list of the 3 buildings that we finalized\n",
        "\n",
        "- 736 - 738 commonwealth avenue\n",
        "- 232 bay state road\n",
        "- 514-522 park drive\n",
        "\n",
        "Below is the list of thirteen buildings that we must apply an additional factor, which is distance.\n",
        "\n",
        "- 910 COMMONWEALTH AVENUE : 1607\n",
        "- 213 BAY STATE ROAD : 1511\n",
        "- 15 ST. MARY'S STREET : 1868\n",
        "- 975 COMMONWEALTH AVENUE : 1054\n",
        "- 602 COMMONWEALTH AVENUE : 829\n",
        "- 619 MEMORIAL DRIVE : 1067\n",
        "- 677 BEACON STREET : 667\n",
        "- 10 BUICK STREET : 1081\n",
        "- 10 LENOX STREET : 659\n",
        "- 540 COMMONWEALTH AVENUE : 563\n",
        "- 163-179 AMORY STREET : 1359\n",
        "- 580 COMMONWEALTH AVENUE : 845\n",
        "- 949 COMMONWEALTH AVENUE : 830\n"
      ],
      "metadata": {
        "id": "uQYzhXtbSQgs"
      }
    },
    {
      "cell_type": "markdown",
      "source": [
        "## Next Plan --> Apply distance factor\n",
        "\n",
        "1. Assume we build a water bottle station in one of the buildings from above.\n",
        "\n",
        "2. Find the closest distance from the remaining buildings to buildings that already have water bottle filling stations (including the station we assumed to build from step 1)\n",
        "\n",
        "3. Assume we build a water bottle station at the building where the value calculated from the previous step is the largest. (This is because the value indicates that the total distance traveled by people per building is the highest at that building and therefore installing a station at that specific location is the most efficient)\n",
        "\n",
        "4. Repeat step 2 - 3 until all buildings have a water bottle filling station\n",
        "\n",
        "5. Repeat step 1 - 4 for all the buildings.\n",
        "\n",
        "6. From all the lists above, prioritize the order of the buildings.\n",
        "\n",
        "We need to run this algorithm twice for both sets of buildings (3 more important ones and 13 remaining ones)\n",
        "\n",
        "We are prioritizing these buildings because the client requested to provide all of them.\n"
      ],
      "metadata": {
        "id": "hhD_1gGjVBW2"
      }
    },
    {
      "cell_type": "code",
      "source": [
        "nonexisting = {\n",
        "    '736 - 738 COMMONWEALTH AVENUE': 692,\n",
        "    '916-922 COMMONWEALTH AVENUE' : 1610,\n",
        "    '866 BEACON STREET' : 0,\n",
        "    '714 COMMONWEALTH AVENUE' : 1,\n",
        "    '531 BEACON STREET' : 18,\n",
        "    '180 BAY STATE ROAD' : 66,\n",
        "    '830-846 COMMONWEALTH AVENUE' : 273,\n",
        "    '24 COTTAGE FARM ROAD' : 0,\n",
        "    '828 BEACON STREET' : 69,\n",
        "    '40 BUSWELL STREET' : 100,\n",
        "    '152 BAY STATE ROAD' : 161,\n",
        "    '138 MOUNTFORT STREET' : 85,\n",
        "    '76 BAY STATE ROAD' : 1,\n",
        "    '27 ABERDEEN STREET' : 2,\n",
        "    '236 BAY STATE ROAD' : 301,\n",
        "    '128 BAY STATE ROAD' : 133,\n",
        "    '910 COMMONWEALTH AVENUE' : 1607,\n",
        "    '194 BAY STATE ROAD' : 105,\n",
        "    '213 BAY STATE ROAD' : 1511,\n",
        "    '457 PARK DRIVE' : 156,\n",
        "    '455 PARK DRIVE' : 156,\n",
        "    '147 BAY STATE ROAD' : 380,\n",
        "    '172 BAY STATE ROAD' : 106,\n",
        "    \"15 ST. MARY'S STREET\" : 1868,\n",
        "    '56 BAY STATE ROAD' : 66,\n",
        "    '718 COMMONWEALTH AVENUE' : 326,\n",
        "    '124 BAY STATE ROAD' : 58,\n",
        "    '125 BAY STATE ROAD' : 154,\n",
        "    '975 COMMONWEALTH AVENUE' : 1054,\n",
        "    '708 COMMONWEALTH AVENUE' : 79,\n",
        "    '121 BAY STATE ROAD' : 211,\n",
        "    '185 BAY STATE ROAD' : 153,\n",
        "    '116 BAY STATE ROAD' : 85,\n",
        "    '602 COMMONWEALTH AVENUE' : 829,\n",
        "    '61 BAY STATE ROAD' : 79,\n",
        "    '193 BAY STATE ROAD' : 151,\n",
        "    '10 COTTAGE FARM ROAD' : 0,\n",
        "    '78 BAY STATE ROAD' : 52,\n",
        "    '143 BAY STATE ROAD' : 194,\n",
        "    '135 IVY STREET' : 0,\n",
        "    '75 BAY STATE ROAD' : 79,\n",
        "    '74 BAY STATE ROAD' : 50,\n",
        "    '84 BAY STATE ROAD' : 52,\n",
        "    '118 BAY STATE ROAD' : 72,\n",
        "    '122 BAY STATE ROAD' : 177,\n",
        "    '50 WORTHINGTON ROAD' : 0,\n",
        "    '68-70 BAY STATE ROAD' : 119,\n",
        "    '177 BAY STATE ROAD' :148,\n",
        "    '179 BAY STATE ROAD': 98,\n",
        "    '157 BAY STATE ROAD': 151,\n",
        "    '203 BAY STATE ROAD': 155,\n",
        "    '181 BAY STATE ROAD': 103,\n",
        "    '173 BAY STATE ROAD': 46,\n",
        "    '178 BAY STATE ROAD': 138,\n",
        "    '205 BAY STATE ROAD': 69,\n",
        "    '42 BUSWELL STREET': 1,\n",
        "    '852 BEACON STREET': 1,\n",
        "    '848 BEACON STREET': 2,\n",
        "    '864 BEACON STREET': 1,\n",
        "    '133 BAY STATE ROAD': 54,\n",
        "    '625 COMMONWEALTH AVENUE': 25,\n",
        "    '832 BEACON STREET': 61,\n",
        "    '141 BAY STATE ROAD': 101,\n",
        "    '117 BAY STATE ROAD': 103,\n",
        "    '53 BAY STATE ROAD': 349,\n",
        "    '67 BAY STATE ROAD': 157,\n",
        "    '110 BAY STATE ROAD': 54,\n",
        "    '115 BAY STATE ROAD': 59,\n",
        "    '141 CARLTON STREET': 134,\n",
        "    '37-39 CARLTON STREET': 211,\n",
        "    '1 BUSWELL STREET': 75,\n",
        "    '5 BUSWELL STREET': 71,\n",
        "    '37 BUSWELL STREET': 37,\n",
        "    '39 BUSWELL STREET': 40,\n",
        "    '45 BUSWELL STREET': 110,\n",
        "    '47 BUSWELL STREET': 98,\n",
        "    '7 BUSWELL STREET': 84,\n",
        "    '60 BAY STATE ROAD': 70,\n",
        "    '80 BAY STATE ROAD': 68,\n",
        "    '191 BAY STATE ROAD': 145,\n",
        "    '199 BAY STATE ROAD': 128,\n",
        "    '232 BAY STATE ROAD': 720,\n",
        "    '201 BAY STATE ROAD': 126,\n",
        "    '214 BAY STATE ROAD': 44,\n",
        "    '207 BAY STATE ROAD': 83,\n",
        "    '188 BAY STATE ROAD': 169,\n",
        "    '204 BAY STATE ROAD': 121,\n",
        "    '619 MEMORIAL DRIVE': 1067,\n",
        "    '100 MOUNTFORT STREET': 79,\n",
        "    '677 BEACON STREET': 667,\n",
        "    '209 BAY STATE ROAD' : 120,\n",
        "    '200-202 BAY STATE ROAD' : 199,\n",
        "    '184 BAY STATE ROAD' : 134,\n",
        "    '190 BAY STATE ROAD' : 146,\n",
        "    '161 BAY STATE ROAD' : 86,\n",
        "    '163 BAY STATE ROAD' : 70,\n",
        "    '159 BAY STATE ROAD' : 106,\n",
        "    '6 BUSWELL STREET' : 443,\n",
        "    '22 BUSWELL STREET' : 209,\n",
        "    '96 MOUNTFORT STREET' : 118,\n",
        "    '806-820 BEACON STREET' : 197,\n",
        "    '844 BEACON STREET' : 142,\n",
        "    '46 MOUNTFORT STREET' : 298,\n",
        "    '856-862 BEACON STREET' : 90,\n",
        "    '870-872 BEACON STREET' : 34,\n",
        "    '824-826 BEACON STREET' : 157,\n",
        "    '24 BUSWELL STREET' : 193,\n",
        "    '16 ARUNDEL STREET' : 71,\n",
        "    '834-836 BEACON STREET' : 128,\n",
        "    '830 BEACON STREET' : 68,\n",
        "    '98 MOUNTFORT STREET' : 148,\n",
        "    '1010 COMMONWEALTH AVENUE' : 1457,\n",
        "    '930-940 COMMONWEALTH AVENUE' : 6202,\n",
        "    '186 BAY STATE ROAD' : 69,\n",
        "    '10 BUICK STREET' : 1081,\n",
        "    '900 COMMONWEALTH AVENUE' : 4106,\n",
        "    '38 BUSWELL STREET' : 116,\n",
        "    '44 BUSWELL STREET' : 3,\n",
        "    '48 BUSWELL STREET' : 5,\n",
        "    '1053 BEACON STREET' : 28,\n",
        "    '483 COMMONWEALTH AVENUE' : 1,\n",
        "    '2 BUSWELL STREET' : 20,\n",
        "    '210-212 BAY STATE ROAD' : 197,\n",
        "    '10 LENOX STREET' : 659,\n",
        "    '540 COMMONWEALTH AVENUE' : 563,\n",
        "    '90-92 BAY STATE ROAD' : 184,\n",
        "    '30 HARRY AGGANIS WAY' : 0,\n",
        "    '17 BUSWELL STREET' : 75,\n",
        "    '35 BUSWELL STREET': 45,\n",
        "    '187 BAY STATE ROAD': 0,\n",
        "    '710 COMMONWEALTH AVENUE': 67,\n",
        "    '25 ABERDEEN STREET': 11,\n",
        "    '515 PARK DRIVE': 2,\n",
        "    '171 BAY STATE ROAD': 59,\n",
        "    '278 BABCOCK STREET': 0,\n",
        "    '81 BAY STATE ROAD': 97,\n",
        "    '34 BUSWELL STREET': 154,\n",
        "    '163-179 AMORY STREET': 1359,\n",
        "    '112 BAY STATE ROAD': 48,\n",
        "    '135 BAB STATE ROAD': 139,\n",
        "    '139 BAY STATE ROAD': 40,\n",
        "    '580 COMMONWEALTH AVENUE': 845,\n",
        "    '31 BUSWELL STREET': 69,\n",
        "    '500-504 PARK DRIVE': 236,\n",
        "    '949 COMMONWEALTH AVENUE': 830,\n",
        "    '32 HARRY AGGANIS WAY': 359,\n",
        "    '11 BUSWELL STREET': 89,\n",
        "    '514-522 PARK DRIVE': 598,\n",
        "    '41 BUSWELL STREET': 66,\n",
        "    '50-52 BUSWELL STREET': 295,\n",
        "    '80-82 IVY STREET': 409,\n",
        "    '3 BUSWELL STREET': 68,\n",
        "    '29 BUSWELL STREET': 136,\n",
        "    '43 BUSWELL STREET': 94,\n",
        "    '55 BUSWELL STREET': 276,\n",
        "    '1A BUSWELL STREET': 98,\n",
        "    '15 BUSWELL STREET': 55,\n",
        "    '33 BUSWELL STREET': 93,\n",
        "    '79 BAY STATE ROAD': 165,\n",
        "    '2 RALEIGH STREET': 81,\n",
        "    '481 COMMONWEALTH AVENUE': 105,\n",
        "    '94 BAY STATE ROAD': 61,\n",
        "    '192 BAY STATE ROAD': 114,\n",
        "    '153 BAY STATE ROAD': 105,\n",
        "    '164 BAY STATE ROAD': 66,\n",
        "    '167-169 BAY STATE ROAD': 187,\n",
        "    '158-162 BAY STATE ROAD': 187,\n",
        "    '176 BAY STATE ROAD': 94,\n",
        "    '175 BAY STATE ROAD': 123,\n",
        "    '166-168 BAY STATE ROAD': 175,\n",
        "    '182 BAY STATE ROAD': 93,\n",
        "    '208 BAY STATE ROAD': 121,\n",
        "    '206 BAY STATE ROAD': 122,\n",
        "    '198 BAY STATE ROAD': 88\n",
        "}"
      ],
      "metadata": {
        "id": "e39Phl_zexvf"
      },
      "execution_count": 1,
      "outputs": []
    },
    {
      "cell_type": "code",
      "source": [
        "nonexisting_lat_long = {\n",
        "    '910 COMMONWEALTH AVENUE': (42.3510,-71.1167),\n",
        "    '213 BAY STATE ROAD': (42.3508,-71.1031),\n",
        "    \"15 ST. MARY'S STREET\": (42.3494,-71.1073),\n",
        "    '975 COMMONWEALTH AVENUE': (42.3521,-71.1201),\n",
        "    '602 COMMONWEALTH AVENUE':(42.3489,-71.1009),\n",
        "    '619 MEMORIAL DRIVE': (42.3532,-71.1078),\n",
        "    '677 BEACON STREET': (42.3481,-71.0986),\n",
        "    '10 BUICK STREET': (42.3522,-71.1157),\n",
        "    '10 LENOX STREET': (42.3351,-71.0791),\n",
        "    '540 COMMONWEALTH AVENUE':(42.3487,-71.0968),\n",
        "    '163-179 AMORY STREET': (42.3185,-71.1013),\n",
        "    '580 COMMONWEALTH AVENUE':(42.3489,-71.0989),\n",
        "    '949 COMMONWEALTH AVENUE':(42.3520,-71.1187)\n",
        "    }"
      ],
      "metadata": {
        "id": "we1M4_zrexx2"
      },
      "execution_count": 2,
      "outputs": []
    },
    {
      "cell_type": "code",
      "source": [
        "nonexisting_lat_long = {\n",
        "    '736 - 738 COMMONWEALTH AVENUE': (42.3498,-71.1072),\n",
        "    '232 BAY STATE ROAD': (42.3505,-71.1039),\n",
        "    '514-522 PARK DRIVE': (42.3481,-71.1063)\n",
        "}"
      ],
      "metadata": {
        "id": "sY6Rzf0kexz8"
      },
      "execution_count": 3,
      "outputs": []
    },
    {
      "cell_type": "code",
      "source": [
        "existing_lat_long = {\n",
        "    '730 COMMONWEALTH AVENUE' : (42.3497,-71.1075),\n",
        "    \"8 ST. MARY'S STREET\" : (42.3492,-71.1061),\n",
        "    '25 BUICK STREET' : (42.3516,-71.1156),\n",
        "    '855 COMMONWEALTH AVENUE' : (42.3511,-71.1146),\n",
        "    '871 COMMONWEALTH AVENUE' : (42.3512,-71.1149),\n",
        "    '700 COMMONWEALTH AVENUE' : (42.3495,-71.1041),\n",
        "    '1019 COMMONWEALTH AVENUE' : (42.3521,-71.1215),\n",
        "    '91 BAY STATE ROAD' : (42.3503,-71.0970),\n",
        "    '275 BABCOCK STREET' : (42.3531,-71.1205),\n",
        "    '33 HARRY AGGANIS WAY' : (42.3533,-71.1178),\n",
        "    '925 COMMONWEALTH AVENUE':(42.3522,-71.1177),\n",
        "    '517-521 BEACON STREET': (42.3505,-71.0906),\n",
        "    '48-52 CUMMINGTON MALL': (42.3486,-71.1026),\n",
        "    '808 COMMONWEALTH AVENUE': (42.3501,-71.1114),\n",
        "    '575 COMMONWEALTH AVENUE': (42.3494,-71.0986),\n",
        "    '273 BABCOCK STREET': (42.3525,-71.1198),\n",
        "    '277 BABCOCK STREET': (42.3535,-71.1206),\n",
        "    '640 COMMONWEALTH AVENUE': (42.3489,-71.1023),\n",
        "    '890 COMMONWEALTH AVENUE': (42.3517,-71.1226),\n",
        "    '915 COMMONWEALTH AVENUE': (42.3518,-71.1165),\n",
        "    '610 BEACON STREET': (42.3497,-71.0944),\n",
        "    '512 BEACON STREET': (42.3508,-71.0899),\n",
        "    '140 Bay State Road': (42.3500,-71.0998),\n",
        "    '100 ASHFORD STREET': (42.3546,-71.1235),\n",
        "    '120 ASHFORD STREET': (42.3543,-71.1239),\n",
        "    '704 COMMONWEALTH AVENUE': (42.3497,-71.1052),\n",
        "    }"
      ],
      "metadata": {
        "id": "oWxAMX5Lex19"
      },
      "execution_count": 4,
      "outputs": []
    },
    {
      "cell_type": "code",
      "source": [
        "ryanBuildingsLongLat = {\n",
        "    '700 BEACON STREET' : (42.3486722,-71.0982206),\n",
        "    '154 BAY STATE ROAD' : (42.3501426,-71.1006783),\n",
        "    '111 CUMMINGTON MALL' : (42.3490908,-71.1041456),\n",
        "    '765 COMMONWEALTH AVENUE' : (42.3510643,-71.1075071),\n",
        "    '565 COMMONWEALTH AVENUE' : (42.3494578,-71.098105),\n",
        "    '44 CUMMINGTON MALL' : (42.3485404,-71.1028457),\n",
        "    '110-112 CUMMINGTON MALL' : (42.3485174,-71.101787),\n",
        "    '675 - 725 COMMONWEALTH AVENUE' : (42.3501003,-71.1038376),\n",
        "    '750 COMMONWEALTH AVENUE' : (42.3497962,-71.1080312),\n",
        "    '735 COMMONWEALTH AVENUE' : (42.3506624,-71.1064383),\n",
        "    '226 BAY STATE ROAD' : (42.3504456,-71.1036861),\n",
        "    '225 BAY STATE ROAD' : (42.3509191,-71.1036358),\n",
        "    '64-86 CUMMINGTON MALL' : (42.3487282,-71.1035375),\n",
        "    '617-621 COMMONWEALTH AVENUE' : (42.3497287,-71.1011687),\n",
        "    '233 BAY STATE ROAD' : (42.3508609,-71.1038666),\n",
        "    '156 BAY STATE ROAD' : (42.3501514,-71.100764),\n",
        "    '195-197 BAY STATE ROAD' : (42.3506966,-71.1022823),\n",
        "    '627-629 COMMONWEALTH AVENUE' : (42.3491895,-71.10131),\n",
        "    '96-100 CUMMINGTON MALL' : (42.3488883,-71.1048443),\n",
        "    '881 COMMONWEALTH AVENUE' : (42.3513856,-71.1155187),\n",
        "    '100 BAY STATE ROAD' : (42.3497623,-71.0979673),\n",
        "    '928 COMMONWEALTH AVENUE' : (42.3511896,-71.117814),\n",
        "    '985 COMMONWEALTH AVENUE' : (42.3520969,-71.1200753),\n",
        "    '888 COMMONWEALTH AVENUE' : (42.3507339,-71.115618),\n",
        "    '820 COMMONWEALTH AVENUE' : (42.3504934,-71.1120347),\n",
        "    '196 BAY STATE ROAD' : (42.3503165,-71.1023936),\n",
        "    '300 BABCOCK STREET' : (42.353959,-71.120916),\n",
        "    '2 CUMMINGTON MALL' : (42.348282,-71.100914),\n",
        "    '30-38 CUMMINGTON MALL' : (42.3484364,-71.102308),\n",
        "    '3 - 5 CUMMINGTON MALL' : (42.3486511,-71.1012653),\n",
        "    '24 CUMMINGTON MALL' : (42.3483655,-71.1015899),\n",
        "    '771 COMMONWEALTH AVENUE' : (42.3509964,-71.1079952),\n",
        "    '775 COMMONWEALTH AVENUE' : (42.3509712,-71.108979),\n",
        "    '1 UNIVERSITY ROAD' : (42.3510171,-71.1098134),\n",
        "    '745 - 755 COMMONWEALTH AVENUE' : (42.3505236,-71.107545),\n",
        "    '264-270 BAY STATE ROAD' : (42.3507823,-71.1052402),\n",
        "    '635 COMMONWEALTH AVENUE' : (42.3498642,-71.1020204),\n",
        "    '2 SILBER WAY' : (42.3496261,-71.1005877),\n",
        "    '595 COMMONWEALTH AVENUE' : (42.3496397,-71.0997323),\n",
        "    '285 BABCOCK STREET' : (42.3527669,-71.1211772),\n",
        "    '590 COMMONWEALTH AVENUE' : (42.3484489,-71.1001558),\n",
        "    '722-26-28 COMMONWEALTH AVENUE' : (42.3496292,-71.1059547)\n",
        "}"
      ],
      "metadata": {
        "id": "-QK7TK4Xex4W"
      },
      "execution_count": 5,
      "outputs": []
    },
    {
      "cell_type": "code",
      "source": [
        "newCoordinates = {}\n",
        "for building, coordinates in ryanBuildingsLongLat.items():\n",
        "    rounded_lat = round(coordinates[0], 4)\n",
        "    rounded_lon = round(coordinates[1], 4)\n",
        "    existing_lat_long[building] = (rounded_lat, rounded_lon)"
      ],
      "metadata": {
        "id": "fNixoxX1ex6L"
      },
      "execution_count": 6,
      "outputs": []
    },
    {
      "cell_type": "code",
      "source": [
        "import math\n",
        "\n",
        "def manhattan_distance(coord1, coord2):\n",
        "\n",
        "    lat1, lon1 = coord1\n",
        "    lat2, lon2 = coord2\n",
        "\n",
        "    lat_diff = abs(lat1 - lat2)\n",
        "    lon_diff = abs(lon1 - lon2)\n",
        "\n",
        "    lat_distance = lat_diff * 111  # 111 kilometers per degree of latitude\n",
        "    avg_lat = (lat1 + lat2) / 2.0\n",
        "    long_distance = lon_diff * (111 * math.cos(math.radians(avg_lat)))\n",
        "\n",
        "    manhattan_distance = avg_lat + long_distance\n",
        "    return manhattan_distance"
      ],
      "metadata": {
        "id": "lau33BsssKJq"
      },
      "execution_count": 7,
      "outputs": []
    },
    {
      "cell_type": "code",
      "source": [
        "import copy\n",
        "\n",
        "orderedList = []\n",
        "\n",
        "count = 0\n",
        "alreadyDone = []\n",
        "all = []\n",
        "allCoord = []\n",
        "for key, value in nonexisting_lat_long.items():\n",
        "  all.append(key)\n",
        "  allCoord.append(value)\n",
        "\n",
        "\n",
        "\n",
        "\n",
        "for al in range(len(all)):\n",
        "  key = all[al]\n",
        "  value = allCoord[al]\n",
        "  print(key)\n",
        "  existing_lat_long[key] = value\n",
        "  del nonexisting_lat_long[key]\n",
        "  nowaterList = []\n",
        "  suborderedList = []\n",
        "  orderList = []\n",
        "\n",
        "  copied_non_dict = copy.deepcopy(nonexisting_lat_long)\n",
        "  copied_dict = copy.deepcopy(existing_lat_long)\n",
        "  while(len(copied_non_dict) > 0):\n",
        "    distanceList = []\n",
        "    for key2, value2 in copied_non_dict.items():\n",
        "      smallestDistance = 9999999999\n",
        "      coord = ()\n",
        "\n",
        "      for key3, value3 in copied_dict.items():\n",
        "\n",
        "        manhattanDistance = manhattan_distance(value2, value3)\n",
        "        if manhattanDistance < smallestDistance:\n",
        "          smallestDistance = manhattanDistance\n",
        "          coord = value2\n",
        "          suborderedList = [key2, key3, smallestDistance, coord]\n",
        "\n",
        "\n",
        "      distanceList.append(suborderedList)\n",
        "\n",
        "    max_index, max_value = max(enumerate(distanceList), key=lambda x: x[1][2])\n",
        "    orderList.append(distanceList[max_index])\n",
        "    nonexistingPlace = distanceList[max_index][0]\n",
        "    existingPlace = distanceList[max_index][1]\n",
        "    theirDisance = distanceList[max_index][2]\n",
        "    nonexistingCoord = distanceList[max_index][3]\n",
        "    copied_dict[nonexistingPlace] = nonexistingCoord\n",
        "    del copied_non_dict[nonexistingPlace]\n",
        "    nowaterList.append(nonexistingPlace)\n",
        "\n",
        "\n",
        "\n",
        "\n",
        "\n",
        "\n",
        "\n",
        "\n",
        "  orderedList.append(nowaterList)\n",
        "  nonexisting_lat_long[key] = value\n",
        "  del existing_lat_long[key]\n",
        "\n",
        "print(orderedList)"
      ],
      "metadata": {
        "colab": {
          "base_uri": "https://localhost:8080/"
        },
        "id": "6AZlnRhse_Fv",
        "outputId": "70c1fbdb-c17c-4ec0-8bb9-14a03fc1789c"
      },
      "execution_count": 8,
      "outputs": [
        {
          "output_type": "stream",
          "name": "stdout",
          "text": [
            "736 - 738 COMMONWEALTH AVENUE\n",
            "232 BAY STATE ROAD\n",
            "514-522 PARK DRIVE\n",
            "[['514-522 PARK DRIVE', '232 BAY STATE ROAD'], ['736 - 738 COMMONWEALTH AVENUE', '514-522 PARK DRIVE'], ['736 - 738 COMMONWEALTH AVENUE', '232 BAY STATE ROAD']]\n"
          ]
        }
      ]
    },
    {
      "cell_type": "code",
      "source": [
        "for x in orderedList:\n",
        "  print(x)\n",
        "  print(len(x))"
      ],
      "metadata": {
        "colab": {
          "base_uri": "https://localhost:8080/"
        },
        "id": "zGve16Mxe_H0",
        "outputId": "388422d4-a496-4b79-8cce-dbb9a9c733c9"
      },
      "execution_count": 9,
      "outputs": [
        {
          "output_type": "stream",
          "name": "stdout",
          "text": [
            "['514-522 PARK DRIVE', '232 BAY STATE ROAD']\n",
            "2\n",
            "['736 - 738 COMMONWEALTH AVENUE', '514-522 PARK DRIVE']\n",
            "2\n",
            "['736 - 738 COMMONWEALTH AVENUE', '232 BAY STATE ROAD']\n",
            "2\n"
          ]
        }
      ]
    },
    {
      "cell_type": "code",
      "source": [
        "nonexisting_points = {\n",
        "    '736 - 738 COMMONWEALTH AVENUE': 0,\n",
        "    '232 BAY STATE ROAD': 0,\n",
        "    '514-522 PARK DRIVE': 0\n",
        "    }\n",
        "\n",
        "length = 3\n",
        "\n",
        "for x in orderedList:\n",
        "  for y in range(len(x)):\n",
        "    nonexisting_points[x[y]] += length - y\n",
        "print(nonexisting_points)"
      ],
      "metadata": {
        "colab": {
          "base_uri": "https://localhost:8080/"
        },
        "id": "j9iS4LNze_J0",
        "outputId": "c12e4081-f262-4584-e3b4-e97faa86043b"
      },
      "execution_count": 10,
      "outputs": [
        {
          "output_type": "stream",
          "name": "stdout",
          "text": [
            "{'736 - 738 COMMONWEALTH AVENUE': 6, '232 BAY STATE ROAD': 4, '514-522 PARK DRIVE': 5}\n"
          ]
        }
      ]
    },
    {
      "cell_type": "code",
      "source": [
        "sortInList = [[key, value] for key, value in sorted(nonexisting_points.items(), key=lambda item: item[1], reverse = True)]\n",
        "for x in sortInList:\n",
        "  print(x)"
      ],
      "metadata": {
        "colab": {
          "base_uri": "https://localhost:8080/"
        },
        "id": "xhUJZQKJf931",
        "outputId": "5296f611-0069-4513-a16d-ac0fffeac274"
      },
      "execution_count": 11,
      "outputs": [
        {
          "output_type": "stream",
          "name": "stdout",
          "text": [
            "['736 - 738 COMMONWEALTH AVENUE', 6]\n",
            "['514-522 PARK DRIVE', 5]\n",
            "['232 BAY STATE ROAD', 4]\n"
          ]
        }
      ]
    },
    {
      "cell_type": "markdown",
      "source": [
        "Since the installation of the remaining 13 buildings only come after the installation of the three priortized locations, we assumed that those places already have a water bottle as well when running for the remaining 13 buildings. (Threse three buildings have more prioritized)"
      ],
      "metadata": {
        "id": "WemdEIk_fYLz"
      }
    },
    {
      "cell_type": "code",
      "source": [
        "for building, coordinates in nonexisting_lat_long.items():\n",
        "    rounded_lat = round(coordinates[0], 4)\n",
        "    rounded_lon = round(coordinates[1], 4)\n",
        "    existing_lat_long[building] = (rounded_lat, rounded_lon)"
      ],
      "metadata": {
        "id": "EQ-qNMhrfzE3"
      },
      "execution_count": 12,
      "outputs": []
    },
    {
      "cell_type": "code",
      "execution_count": 13,
      "metadata": {
        "id": "0WCqx3Y2Q81J"
      },
      "outputs": [],
      "source": [
        "nonexisting_lat_long = {\n",
        "    '910 COMMONWEALTH AVENUE': (42.3510,-71.1167),\n",
        "    '213 BAY STATE ROAD': (42.3508,-71.1031),\n",
        "    \"15 ST. MARY'S STREET\": (42.3494,-71.1073),\n",
        "    '975 COMMONWEALTH AVENUE': (42.3521,-71.1201),\n",
        "    '602 COMMONWEALTH AVENUE':(42.3489,-71.1009),\n",
        "    '619 MEMORIAL DRIVE': (42.3532,-71.1078),\n",
        "    '677 BEACON STREET': (42.3481,-71.0986),\n",
        "    '10 BUICK STREET': (42.3522,-71.1157),\n",
        "    '10 LENOX STREET': (42.3351,-71.0791),\n",
        "    '540 COMMONWEALTH AVENUE':(42.3487,-71.0968),\n",
        "    '163-179 AMORY STREET': (42.3185,-71.1013),\n",
        "    '580 COMMONWEALTH AVENUE':(42.3489,-71.0989),\n",
        "    '949 COMMONWEALTH AVENUE':(42.3520,-71.1187)\n",
        "    }"
      ]
    },
    {
      "cell_type": "code",
      "source": [
        "import copy\n",
        "\n",
        "orderedList = []\n",
        "\n",
        "count = 0\n",
        "alreadyDone = []\n",
        "all = []\n",
        "allCoord = []\n",
        "for key, value in nonexisting_lat_long.items():\n",
        "  all.append(key)\n",
        "  allCoord.append(value)\n",
        "\n",
        "\n",
        "\n",
        "\n",
        "for al in range(len(all)):\n",
        "  key = all[al]\n",
        "  value = allCoord[al]\n",
        "  print(key)\n",
        "  existing_lat_long[key] = value\n",
        "  del nonexisting_lat_long[key]\n",
        "  nowaterList = []\n",
        "  suborderedList = []\n",
        "  orderList = []\n",
        "\n",
        "  copied_non_dict = copy.deepcopy(nonexisting_lat_long)\n",
        "  copied_dict = copy.deepcopy(existing_lat_long)\n",
        "  while(len(copied_non_dict) > 0):\n",
        "    distanceList = []\n",
        "    for key2, value2 in copied_non_dict.items():\n",
        "      smallestDistance = 9999999999\n",
        "      coord = ()\n",
        "\n",
        "      for key3, value3 in copied_dict.items():\n",
        "\n",
        "        manhattanDistance = manhattan_distance(value2, value3)\n",
        "        if manhattanDistance < smallestDistance:\n",
        "          smallestDistance = manhattanDistance\n",
        "          coord = value2\n",
        "          suborderedList = [key2, key3, smallestDistance, coord]\n",
        "\n",
        "\n",
        "      distanceList.append(suborderedList)\n",
        "\n",
        "    max_index, max_value = max(enumerate(distanceList), key=lambda x: x[1][2])\n",
        "    orderList.append(distanceList[max_index])\n",
        "    nonexistingPlace = distanceList[max_index][0]\n",
        "    existingPlace = distanceList[max_index][1]\n",
        "    theirDisance = distanceList[max_index][2]\n",
        "    nonexistingCoord = distanceList[max_index][3]\n",
        "    copied_dict[nonexistingPlace] = nonexistingCoord\n",
        "    del copied_non_dict[nonexistingPlace]\n",
        "    nowaterList.append(nonexistingPlace)\n",
        "\n",
        "\n",
        "\n",
        "\n",
        "\n",
        "\n",
        "\n",
        "\n",
        "  orderedList.append(nowaterList)\n",
        "  nonexisting_lat_long[key] = value\n",
        "  del existing_lat_long[key]\n",
        "\n",
        "print(orderedList)"
      ],
      "metadata": {
        "id": "xtPQNWaJRxOT",
        "colab": {
          "base_uri": "https://localhost:8080/"
        },
        "outputId": "6b5b3805-5224-48a2-e62c-6beae2700f0c"
      },
      "execution_count": 14,
      "outputs": [
        {
          "output_type": "stream",
          "name": "stdout",
          "text": [
            "910 COMMONWEALTH AVENUE\n",
            "213 BAY STATE ROAD\n",
            "15 ST. MARY'S STREET\n",
            "975 COMMONWEALTH AVENUE\n",
            "602 COMMONWEALTH AVENUE\n",
            "619 MEMORIAL DRIVE\n",
            "677 BEACON STREET\n",
            "10 BUICK STREET\n",
            "10 LENOX STREET\n",
            "540 COMMONWEALTH AVENUE\n",
            "163-179 AMORY STREET\n",
            "580 COMMONWEALTH AVENUE\n",
            "949 COMMONWEALTH AVENUE\n",
            "[['10 LENOX STREET', '949 COMMONWEALTH AVENUE', '213 BAY STATE ROAD', '580 COMMONWEALTH AVENUE', '619 MEMORIAL DRIVE', '540 COMMONWEALTH AVENUE', '10 BUICK STREET', \"15 ST. MARY'S STREET\", '975 COMMONWEALTH AVENUE', '677 BEACON STREET', '602 COMMONWEALTH AVENUE', '163-179 AMORY STREET'], ['10 LENOX STREET', '949 COMMONWEALTH AVENUE', '580 COMMONWEALTH AVENUE', '619 MEMORIAL DRIVE', '910 COMMONWEALTH AVENUE', '540 COMMONWEALTH AVENUE', '10 BUICK STREET', \"15 ST. MARY'S STREET\", '975 COMMONWEALTH AVENUE', '677 BEACON STREET', '602 COMMONWEALTH AVENUE', '163-179 AMORY STREET'], ['10 LENOX STREET', '949 COMMONWEALTH AVENUE', '213 BAY STATE ROAD', '580 COMMONWEALTH AVENUE', '619 MEMORIAL DRIVE', '910 COMMONWEALTH AVENUE', '540 COMMONWEALTH AVENUE', '10 BUICK STREET', '975 COMMONWEALTH AVENUE', '677 BEACON STREET', '602 COMMONWEALTH AVENUE', '163-179 AMORY STREET'], ['10 LENOX STREET', '949 COMMONWEALTH AVENUE', '213 BAY STATE ROAD', '580 COMMONWEALTH AVENUE', '619 MEMORIAL DRIVE', '910 COMMONWEALTH AVENUE', '540 COMMONWEALTH AVENUE', '10 BUICK STREET', \"15 ST. MARY'S STREET\", '677 BEACON STREET', '602 COMMONWEALTH AVENUE', '163-179 AMORY STREET'], ['10 LENOX STREET', '949 COMMONWEALTH AVENUE', '213 BAY STATE ROAD', '580 COMMONWEALTH AVENUE', '619 MEMORIAL DRIVE', '910 COMMONWEALTH AVENUE', '540 COMMONWEALTH AVENUE', '10 BUICK STREET', \"15 ST. MARY'S STREET\", '975 COMMONWEALTH AVENUE', '677 BEACON STREET', '163-179 AMORY STREET'], ['10 LENOX STREET', '949 COMMONWEALTH AVENUE', '213 BAY STATE ROAD', '580 COMMONWEALTH AVENUE', '910 COMMONWEALTH AVENUE', '540 COMMONWEALTH AVENUE', '10 BUICK STREET', \"15 ST. MARY'S STREET\", '975 COMMONWEALTH AVENUE', '677 BEACON STREET', '602 COMMONWEALTH AVENUE', '163-179 AMORY STREET'], ['10 LENOX STREET', '949 COMMONWEALTH AVENUE', '213 BAY STATE ROAD', '580 COMMONWEALTH AVENUE', '619 MEMORIAL DRIVE', '910 COMMONWEALTH AVENUE', '540 COMMONWEALTH AVENUE', '10 BUICK STREET', \"15 ST. MARY'S STREET\", '975 COMMONWEALTH AVENUE', '602 COMMONWEALTH AVENUE', '163-179 AMORY STREET'], ['10 LENOX STREET', '949 COMMONWEALTH AVENUE', '213 BAY STATE ROAD', '580 COMMONWEALTH AVENUE', '619 MEMORIAL DRIVE', '910 COMMONWEALTH AVENUE', '540 COMMONWEALTH AVENUE', \"15 ST. MARY'S STREET\", '975 COMMONWEALTH AVENUE', '677 BEACON STREET', '602 COMMONWEALTH AVENUE', '163-179 AMORY STREET'], ['949 COMMONWEALTH AVENUE', '213 BAY STATE ROAD', '580 COMMONWEALTH AVENUE', '619 MEMORIAL DRIVE', '910 COMMONWEALTH AVENUE', '540 COMMONWEALTH AVENUE', '10 BUICK STREET', \"15 ST. MARY'S STREET\", '975 COMMONWEALTH AVENUE', '677 BEACON STREET', '602 COMMONWEALTH AVENUE', '163-179 AMORY STREET'], ['10 LENOX STREET', '949 COMMONWEALTH AVENUE', '213 BAY STATE ROAD', '580 COMMONWEALTH AVENUE', '619 MEMORIAL DRIVE', '910 COMMONWEALTH AVENUE', '10 BUICK STREET', \"15 ST. MARY'S STREET\", '975 COMMONWEALTH AVENUE', '677 BEACON STREET', '602 COMMONWEALTH AVENUE', '163-179 AMORY STREET'], ['10 LENOX STREET', '949 COMMONWEALTH AVENUE', '213 BAY STATE ROAD', '580 COMMONWEALTH AVENUE', '619 MEMORIAL DRIVE', '910 COMMONWEALTH AVENUE', '540 COMMONWEALTH AVENUE', '10 BUICK STREET', \"15 ST. MARY'S STREET\", '975 COMMONWEALTH AVENUE', '677 BEACON STREET', '602 COMMONWEALTH AVENUE'], ['10 LENOX STREET', '949 COMMONWEALTH AVENUE', '213 BAY STATE ROAD', '619 MEMORIAL DRIVE', '910 COMMONWEALTH AVENUE', '540 COMMONWEALTH AVENUE', '10 BUICK STREET', \"15 ST. MARY'S STREET\", '975 COMMONWEALTH AVENUE', '677 BEACON STREET', '602 COMMONWEALTH AVENUE', '163-179 AMORY STREET'], ['10 LENOX STREET', '213 BAY STATE ROAD', '580 COMMONWEALTH AVENUE', '619 MEMORIAL DRIVE', '910 COMMONWEALTH AVENUE', '540 COMMONWEALTH AVENUE', '10 BUICK STREET', \"15 ST. MARY'S STREET\", '975 COMMONWEALTH AVENUE', '677 BEACON STREET', '602 COMMONWEALTH AVENUE', '163-179 AMORY STREET']]\n"
          ]
        }
      ]
    },
    {
      "cell_type": "code",
      "source": [
        "for x in orderedList:\n",
        "  print(x)\n",
        "  print(len(x))"
      ],
      "metadata": {
        "id": "RUedg9gLRzDy",
        "colab": {
          "base_uri": "https://localhost:8080/"
        },
        "outputId": "fcda6faa-3b24-4dc1-b6da-ea1d0edeb8c5"
      },
      "execution_count": 15,
      "outputs": [
        {
          "output_type": "stream",
          "name": "stdout",
          "text": [
            "['10 LENOX STREET', '949 COMMONWEALTH AVENUE', '213 BAY STATE ROAD', '580 COMMONWEALTH AVENUE', '619 MEMORIAL DRIVE', '540 COMMONWEALTH AVENUE', '10 BUICK STREET', \"15 ST. MARY'S STREET\", '975 COMMONWEALTH AVENUE', '677 BEACON STREET', '602 COMMONWEALTH AVENUE', '163-179 AMORY STREET']\n",
            "12\n",
            "['10 LENOX STREET', '949 COMMONWEALTH AVENUE', '580 COMMONWEALTH AVENUE', '619 MEMORIAL DRIVE', '910 COMMONWEALTH AVENUE', '540 COMMONWEALTH AVENUE', '10 BUICK STREET', \"15 ST. MARY'S STREET\", '975 COMMONWEALTH AVENUE', '677 BEACON STREET', '602 COMMONWEALTH AVENUE', '163-179 AMORY STREET']\n",
            "12\n",
            "['10 LENOX STREET', '949 COMMONWEALTH AVENUE', '213 BAY STATE ROAD', '580 COMMONWEALTH AVENUE', '619 MEMORIAL DRIVE', '910 COMMONWEALTH AVENUE', '540 COMMONWEALTH AVENUE', '10 BUICK STREET', '975 COMMONWEALTH AVENUE', '677 BEACON STREET', '602 COMMONWEALTH AVENUE', '163-179 AMORY STREET']\n",
            "12\n",
            "['10 LENOX STREET', '949 COMMONWEALTH AVENUE', '213 BAY STATE ROAD', '580 COMMONWEALTH AVENUE', '619 MEMORIAL DRIVE', '910 COMMONWEALTH AVENUE', '540 COMMONWEALTH AVENUE', '10 BUICK STREET', \"15 ST. MARY'S STREET\", '677 BEACON STREET', '602 COMMONWEALTH AVENUE', '163-179 AMORY STREET']\n",
            "12\n",
            "['10 LENOX STREET', '949 COMMONWEALTH AVENUE', '213 BAY STATE ROAD', '580 COMMONWEALTH AVENUE', '619 MEMORIAL DRIVE', '910 COMMONWEALTH AVENUE', '540 COMMONWEALTH AVENUE', '10 BUICK STREET', \"15 ST. MARY'S STREET\", '975 COMMONWEALTH AVENUE', '677 BEACON STREET', '163-179 AMORY STREET']\n",
            "12\n",
            "['10 LENOX STREET', '949 COMMONWEALTH AVENUE', '213 BAY STATE ROAD', '580 COMMONWEALTH AVENUE', '910 COMMONWEALTH AVENUE', '540 COMMONWEALTH AVENUE', '10 BUICK STREET', \"15 ST. MARY'S STREET\", '975 COMMONWEALTH AVENUE', '677 BEACON STREET', '602 COMMONWEALTH AVENUE', '163-179 AMORY STREET']\n",
            "12\n",
            "['10 LENOX STREET', '949 COMMONWEALTH AVENUE', '213 BAY STATE ROAD', '580 COMMONWEALTH AVENUE', '619 MEMORIAL DRIVE', '910 COMMONWEALTH AVENUE', '540 COMMONWEALTH AVENUE', '10 BUICK STREET', \"15 ST. MARY'S STREET\", '975 COMMONWEALTH AVENUE', '602 COMMONWEALTH AVENUE', '163-179 AMORY STREET']\n",
            "12\n",
            "['10 LENOX STREET', '949 COMMONWEALTH AVENUE', '213 BAY STATE ROAD', '580 COMMONWEALTH AVENUE', '619 MEMORIAL DRIVE', '910 COMMONWEALTH AVENUE', '540 COMMONWEALTH AVENUE', \"15 ST. MARY'S STREET\", '975 COMMONWEALTH AVENUE', '677 BEACON STREET', '602 COMMONWEALTH AVENUE', '163-179 AMORY STREET']\n",
            "12\n",
            "['949 COMMONWEALTH AVENUE', '213 BAY STATE ROAD', '580 COMMONWEALTH AVENUE', '619 MEMORIAL DRIVE', '910 COMMONWEALTH AVENUE', '540 COMMONWEALTH AVENUE', '10 BUICK STREET', \"15 ST. MARY'S STREET\", '975 COMMONWEALTH AVENUE', '677 BEACON STREET', '602 COMMONWEALTH AVENUE', '163-179 AMORY STREET']\n",
            "12\n",
            "['10 LENOX STREET', '949 COMMONWEALTH AVENUE', '213 BAY STATE ROAD', '580 COMMONWEALTH AVENUE', '619 MEMORIAL DRIVE', '910 COMMONWEALTH AVENUE', '10 BUICK STREET', \"15 ST. MARY'S STREET\", '975 COMMONWEALTH AVENUE', '677 BEACON STREET', '602 COMMONWEALTH AVENUE', '163-179 AMORY STREET']\n",
            "12\n",
            "['10 LENOX STREET', '949 COMMONWEALTH AVENUE', '213 BAY STATE ROAD', '580 COMMONWEALTH AVENUE', '619 MEMORIAL DRIVE', '910 COMMONWEALTH AVENUE', '540 COMMONWEALTH AVENUE', '10 BUICK STREET', \"15 ST. MARY'S STREET\", '975 COMMONWEALTH AVENUE', '677 BEACON STREET', '602 COMMONWEALTH AVENUE']\n",
            "12\n",
            "['10 LENOX STREET', '949 COMMONWEALTH AVENUE', '213 BAY STATE ROAD', '619 MEMORIAL DRIVE', '910 COMMONWEALTH AVENUE', '540 COMMONWEALTH AVENUE', '10 BUICK STREET', \"15 ST. MARY'S STREET\", '975 COMMONWEALTH AVENUE', '677 BEACON STREET', '602 COMMONWEALTH AVENUE', '163-179 AMORY STREET']\n",
            "12\n",
            "['10 LENOX STREET', '213 BAY STATE ROAD', '580 COMMONWEALTH AVENUE', '619 MEMORIAL DRIVE', '910 COMMONWEALTH AVENUE', '540 COMMONWEALTH AVENUE', '10 BUICK STREET', \"15 ST. MARY'S STREET\", '975 COMMONWEALTH AVENUE', '677 BEACON STREET', '602 COMMONWEALTH AVENUE', '163-179 AMORY STREET']\n",
            "12\n"
          ]
        }
      ]
    },
    {
      "cell_type": "code",
      "source": [
        "nonexisting_points = {\n",
        "    '910 COMMONWEALTH AVENUE': 0,\n",
        "    '213 BAY STATE ROAD': 0,\n",
        "    \"15 ST. MARY'S STREET\": 0,\n",
        "    '975 COMMONWEALTH AVENUE': 0,\n",
        "    '602 COMMONWEALTH AVENUE':0,\n",
        "    '619 MEMORIAL DRIVE': 0,\n",
        "    '677 BEACON STREET': 0,\n",
        "    '10 BUICK STREET': 0,\n",
        "    '10 LENOX STREET': 0,\n",
        "    '540 COMMONWEALTH AVENUE': 0,\n",
        "    '163-179 AMORY STREET': 0,\n",
        "    '580 COMMONWEALTH AVENUE': 0,\n",
        "    '949 COMMONWEALTH AVENUE': 0\n",
        "    }\n",
        "\n",
        "length = 12\n",
        "\n",
        "for x in orderedList:\n",
        "  for y in range(len(x)):\n",
        "    nonexisting_points[x[y]] += length - y\n",
        "print(nonexisting_points)"
      ],
      "metadata": {
        "colab": {
          "base_uri": "https://localhost:8080/"
        },
        "id": "BgDmSPexg3DV",
        "outputId": "91854963-dfdb-4597-b91b-edb9bf71c9e2"
      },
      "execution_count": 16,
      "outputs": [
        {
          "output_type": "stream",
          "name": "stdout",
          "text": [
            "{'910 COMMONWEALTH AVENUE': 89, '213 BAY STATE ROAD': 122, \"15 ST. MARY'S STREET\": 56, '975 COMMONWEALTH AVENUE': 45, '602 COMMONWEALTH AVENUE': 23, '619 MEMORIAL DRIVE': 100, '677 BEACON STREET': 34, '10 BUICK STREET': 67, '10 LENOX STREET': 144, '540 COMMONWEALTH AVENUE': 78, '163-179 AMORY STREET': 12, '580 COMMONWEALTH AVENUE': 111, '949 COMMONWEALTH AVENUE': 133}\n"
          ]
        }
      ]
    },
    {
      "cell_type": "code",
      "source": [
        "sortInList = [[key, value] for key, value in sorted(nonexisting_points.items(), key=lambda item: item[1], reverse = True)]\n",
        "for x in sortInList:\n",
        "  print(x)"
      ],
      "metadata": {
        "colab": {
          "base_uri": "https://localhost:8080/"
        },
        "id": "7wKcp8pLkdX8",
        "outputId": "07705909-f0ef-4002-d8de-83a595e94c60"
      },
      "execution_count": 17,
      "outputs": [
        {
          "output_type": "stream",
          "name": "stdout",
          "text": [
            "['10 LENOX STREET', 144]\n",
            "['949 COMMONWEALTH AVENUE', 133]\n",
            "['213 BAY STATE ROAD', 122]\n",
            "['580 COMMONWEALTH AVENUE', 111]\n",
            "['619 MEMORIAL DRIVE', 100]\n",
            "['910 COMMONWEALTH AVENUE', 89]\n",
            "['540 COMMONWEALTH AVENUE', 78]\n",
            "['10 BUICK STREET', 67]\n",
            "[\"15 ST. MARY'S STREET\", 56]\n",
            "['975 COMMONWEALTH AVENUE', 45]\n",
            "['677 BEACON STREET', 34]\n",
            "['602 COMMONWEALTH AVENUE', 23]\n",
            "['163-179 AMORY STREET', 12]\n"
          ]
        }
      ]
    },
    {
      "cell_type": "code",
      "source": [],
      "metadata": {
        "id": "YJvocGrHozIC"
      },
      "execution_count": 17,
      "outputs": []
    }
  ]
}