{
 "cells": [
  {
   "cell_type": "markdown",
   "metadata": {
    "id": "7hBDaB3pfKB1"
   },
   "source": [
    "# CS 505 Homework 03:  N-Gram Modelling\n",
    "\n",
    "#### Due Thursday  10/5 at midnight (1 minute after 11:59 pm) in Gradescope (with a grace period of 6 hours)\n",
    "#### You may submit the homework up to 24 hours late (with the same grace period) for a penalty of 10%.\n",
    "\n",
    "All homeworks will be scored with a maximum of 100 points; point values are given\n",
    "for individual problems, and if parts of problems do not have point values given, they\n",
    "will be counted equally toward the total for that problem.\n",
    "\n",
    "Note: I strongly recommend you work in **Google Colab** (the free version) to complete homeworks in this class; in addition to (probably) being faster than your laptop, all the necessary libraries will already be available to you, and you don't have to hassle with <code>conda</code>, <code>pip</code>, etc. and resolving problems when the install doesn't work. But it is up to you!   You should go through the necessary tutorials listed on the web site concerning Colab and storing files on a Google Drive. And of course, Dr. Google is always ready to help you resolve your problems.\n",
    "\n",
    "I will post a  \"walk-through\" video ASAP on my <a href=\"https://www.youtube.com/channel/UCfSqNB0yh99yuG4p4nzjPOA\">Youtube Channel</a>.\n",
    "\n",
    "#### Submission Instructions\n",
    "\n",
    "You must complete the homework by editing <b>this notebook</b> and submitting the following two files in Gradescope by the due date and time:\n",
    "\n",
    "  - A file <code>HW03.ipynb</code> (be sure to select <code>Kernel -> Restart and Run All</code> before you submit, to make sure everything works); and\n",
    "  - A file <code>HW03.pdf</code> created from the previous.\n",
    "  \n",
    "  For best results obtaining a clean PDF file on the Mac, select <code>File -> Print Review</code> from the Jupyter window, then choose <code>File-> Print</code> in your browser and then <code>Save as PDF</code>.  Something  similar should be possible on a Windows machine -- just make sure it is readable and no cell contents have been cut off. Make it easy to grade!\n",
    "  \n",
    "The date and time of your submission is the last file you submitted, so if your IPYNB file is submitted on time, but your PDF is late, then your submission is late."
   ]
  },
  {
   "cell_type": "code",
   "execution_count": 1,
   "metadata": {},
   "outputs": [],
   "source": [
    "### FIRST VERSION"
   ]
  },
  {
   "cell_type": "markdown",
   "metadata": {
    "id": "C57DlF10fKB3"
   },
   "source": [
    "## Collaborators (5 pts)\n",
    "\n",
    "Describe briefly but precisely\n",
    "\n",
    "1. Any persons you discussed this homework with and the nature of the discussion;\n",
    "2. Any online resources you consulted and what information you got from those resources; and\n",
    "3. Any AI agents (such as chatGPT or CoPilot) or other applications you used to complete the homework, and the nature of the help you received.\n",
    "\n",
    "A few brief sentences is all that I am looking for here.\n",
    "\n",
    "    <Your answer here>\n",
    "\n",
    "    1.\n",
    "    2. I looked at lecture notes from the course to review the materials for perplexity and probability.\n",
    "    3. I searched ChatGPT to get an example of adding with log function and putting it into math.exp when calculating perplexity when the float is very low."
   ]
  },
  {
   "cell_type": "markdown",
   "metadata": {
    "id": "CPfYsz50fKB4"
   },
   "source": [
    "## Overview\n",
    "\n",
    "\n"
   ]
  },
  {
   "cell_type": "markdown",
   "metadata": {
    "id": "QxM7OSAffKB4"
   },
   "source": [
    "etc."
   ]
  },
  {
   "cell_type": "code",
   "execution_count": null,
   "metadata": {
    "colab": {
     "base_uri": "https://localhost:8080/"
    },
    "id": "5D8va4KIfKB5",
    "outputId": "03c373a4-f8bd-441d-b311-72844620471c",
    "scrolled": false
   },
   "outputs": [
    {
     "name": "stderr",
     "output_type": "stream",
     "text": [
      "[nltk_data] Downloading package brown to /root/nltk_data...\n",
      "[nltk_data]   Package brown is already up-to-date!\n"
     ]
    },
    {
     "data": {
      "text/plain": [
       "True"
      ]
     },
     "execution_count": 64,
     "metadata": {},
     "output_type": "execute_result"
    }
   ],
   "source": [
    "import math\n",
    "import numpy as np\n",
    "from numpy.random import shuffle, seed, choice\n",
    "import nltk\n",
    "from tqdm import tqdm\n",
    "from collections import defaultdict\n",
    "import random\n",
    "\n",
    "# First time you will need to download the corpus:\n",
    "# Run the following and download the book collection\n",
    "\n",
    "from nltk.corpus import brown\n",
    "nltk.download('brown')\n",
    "\n"
   ]
  },
  {
   "cell_type": "markdown",
   "metadata": {
    "id": "g0aW3pLcfKB6"
   },
   "source": [
    "## Problem One:  Bag of N-Grams (30 pts)\n",
    "\n",
    "A BOW is a language modelling technique (also called a Term Frequency Vector) which creates a frequency distribution for a set of tokens -- or unigrams!\n",
    "Extending this idea a bit, we can also create a Bag of N-Grams, which is a frequency distribution for\n",
    "a set of N-grams for some N. If we divide the frequency by the number of N-grams, we have a probability distribution, such as we showed for the exciting text about John and Mary in Lecture 5.\n",
    "\n",
    "For this homework, we are going to create such Bag of N-Gram models for N = 1, 2, 3, & 4, for the sentences\n",
    "in `brown.sents()`.  We will evaluate them using a test set, and then in the second part of the\n",
    "homework, we shall use them to generate sentences.\n",
    "\n",
    "\n",
    "**Note 1:**  We do not want to do the same low-level transformations in this project\n",
    "as we did in HW 02. We will keep the capitalization, punctuation, and\n",
    "words in all their various forms.  There are some strange things in `brown.sents()`, such as double semicolons, and bad sentence segmentation, but we will assume\n",
    "the processing of the texts into `brown.sents()` was consistent, and we will see what\n",
    "our model makes of this data.\n",
    "\n",
    "**Note 2:** Since `brown.sents()` contains punctuation marks as well as words, we shall use the term **tokens**\n",
    "for the strings stored in the sentence lists."
   ]
  },
  {
   "cell_type": "markdown",
   "metadata": {
    "id": "-W_Jfd1ffKB6"
   },
   "source": [
    "### Part A: Randomize the list of sentences and split into training and testing sets\n",
    "\n",
    "We will use  `brown.sents()` (a list of list of tokens) as the basis of our N-gram models.\n",
    "The list `brown.words()` is simply the concatenation of all these lists of tokens.\n",
    "\n",
    "We will shuffle the list into a random order, but using a seed value so that the order of the random\n",
    "shuffle is the same each time.\n",
    "\n",
    "1. Read about `numpy.random.seed` and `numpy.random.shuffle`.\n",
    "\n",
    "2. Set the seed to `0` and shuffle the list: you can't shuffle `brown.sents()` and because `numpy.random.shuffle` modifies the list **in place**, to avoid reshuffling:\n",
    "<ul>\n",
    "    <li> Convert <b>brown.sents()</b> to a list and assign to a new variable <b>sentences</b> and then\n",
    "    <li> <b>Copy sentences</b> to a new variable <b>shuffled_sentences</b> and then\n",
    "    <li> Shuffle that list.\n",
    "</ul>\n",
    "\n",
    "In this way, you will have the original list, and a randomized list, but because of `seed(0)` it will be in the same order every time you run your code (and when we grade it).\n",
    "\n",
    "3. Then split  `shuffled_sentences` into sets `training_sents` (first 99.9% of the sentences) and `testing_sents` (last 0.1%).\n",
    "\n",
    "4. Print out the length of the training and testing sets.\n",
    "\n",
    "5. Print out the first sentence in each of these sets.  \n",
    "\n",
    "In 4 and 5, label the outputs so we know which is which. (Always make outputs easy\n",
    "to understand!)\n",
    "\n",
    "NOTE: The terms \"training set\" and \"testing set\" are very standard, even though we store these in lists (it is\n",
    "possible that there are duplicate sentences).\n"
   ]
  },
  {
   "cell_type": "code",
   "execution_count": null,
   "metadata": {
    "colab": {
     "base_uri": "https://localhost:8080/"
    },
    "id": "xH2L-J8AfKB7",
    "outputId": "9a9a668d-9802-4cae-8d39-e4884c519d1e",
    "scrolled": true
   },
   "outputs": [
    {
     "name": "stdout",
     "output_type": "stream",
     "text": [
      "Length training set: 57282.\n",
      "Length of testing set: 58. \n",
      "\n",
      "Start of training set: \n",
      " ['Muscle', 'weakness', 'did', 'not', 'improve', ',', 'and', 'the', 'patient', 'needed', 'first', 'a', 'cane', ',', 'then', 'crutches', '.']) \n",
      "\n",
      "Start of testing set: \n",
      " ['It', 'is', 'at', 'least', 'as', 'important', 'as', 'the', 'more', 'dramatic', 'attempts', 'to', 'break', 'down', 'barriers', 'of', 'inequality', 'in', 'the', 'South', '.']\n"
     ]
    }
   ],
   "source": [
    "# First, shuffle the set of sentences\n",
    "\n",
    "seed(0)\n",
    "\n",
    "sentences = list(brown.sents())\n",
    "shuffled_sentences = list(sentences[:])\n",
    "shuffle(shuffled_sentences)\n",
    "\n",
    "\n",
    "\n",
    "\n",
    "# your code here\n",
    "\n",
    "# split into training and testing sets\n",
    "length_train = int(len(shuffled_sentences) * .999)\n",
    "training_sents = shuffled_sentences[:length_train]\n",
    "testing_sents = shuffled_sentences[length_train:]\n",
    "\n",
    "# your code here\n",
    "print(f\"Length training set: {len(training_sents)}.\")\n",
    "print(f\"Length of testing set: {len(testing_sents)}. \\n\")\n",
    "\n",
    "print(f\"Start of training set: \\n {training_sents[0]}) \\n\")\n",
    "print(f\"Start of testing set: \\n {testing_sents[0]}\")\n"
   ]
  },
  {
   "cell_type": "markdown",
   "metadata": {
    "id": "vXZmPscHfKB7"
   },
   "source": [
    "### Part B\n",
    "\n",
    "Now, you must add the beginning `<s>` and ending `</s>` markers to each sentence in both the\n",
    "training and testing lists.   Do not make any other changes\n",
    "to the sentences -- you will see that punctuation has been left in, such as periods at the end\n",
    "of sentences. Again, we will see what our models make of this data set.\n",
    "\n",
    "Print out the first sentence in each of the training and testing sets to check that all is well."
   ]
  },
  {
   "cell_type": "code",
   "execution_count": null,
   "metadata": {
    "colab": {
     "base_uri": "https://localhost:8080/"
    },
    "id": "sDSNsdizfKB7",
    "outputId": "76f314a2-3ebf-492c-9499-4989cc32bdd0",
    "scrolled": false
   },
   "outputs": [
    {
     "name": "stdout",
     "output_type": "stream",
     "text": [
      "Start of training set: \n",
      " ['<s>', 'Muscle', 'weakness', 'did', 'not', 'improve', ',', 'and', 'the', 'patient', 'needed', 'first', 'a', 'cane', ',', 'then', 'crutches', '.', '</s>'] \n",
      "\n",
      "Start of testing set: \n",
      " ['<s>', 'It', 'is', 'at', 'least', 'as', 'important', 'as', 'the', 'more', 'dramatic', 'attempts', 'to', 'break', 'down', 'barriers', 'of', 'inequality', 'in', 'the', 'South', '.', '</s>']\n"
     ]
    }
   ],
   "source": [
    "# put `<s>` at beginning and `</s>` at end of all sentences.\n",
    "\n",
    "def bracket_sentence(sent):\n",
    "    for x in sent:\n",
    "        x.insert(0, \"<s>\")\n",
    "        x.append(\"</s>\")\n",
    "    return sent\n",
    "\n",
    "training_sents = bracket_sentence(training_sents)\n",
    "testing_sents = bracket_sentence(testing_sents)\n",
    "\n",
    "\n",
    "# your code here\n",
    "print(f\"Start of training set: \\n {training_sents[0]} \\n\")\n",
    "print(f\"Start of testing set: \\n {testing_sents[0]}\")\n"
   ]
  },
  {
   "cell_type": "markdown",
   "metadata": {
    "id": "FY532l1VfKB8"
   },
   "source": [
    "###  Part C\n",
    "\n",
    "Complete the following template for a function to extract N-grams from one sentence, and test\n",
    "it for N = 1,2,3,4 for the first sentences in the training set."
   ]
  },
  {
   "cell_type": "code",
   "execution_count": null,
   "metadata": {
    "colab": {
     "base_uri": "https://localhost:8080/"
    },
    "id": "qpnhRFMofKB8",
    "outputId": "2ec6af79-0896-4891-c851-1162816f8d07"
   },
   "outputs": [
    {
     "name": "stdout",
     "output_type": "stream",
     "text": [
      "[('<s>',), ('Muscle',), ('weakness',), ('did',), ('not',), ('improve',), (',',), ('and',), ('the',), ('patient',), ('needed',), ('first',), ('a',), ('cane',), (',',), ('then',), ('crutches',), ('.',), ('</s>',)]\n",
      "\n",
      "[('<s>', 'Muscle'), ('Muscle', 'weakness'), ('weakness', 'did'), ('did', 'not'), ('not', 'improve'), ('improve', ','), (',', 'and'), ('and', 'the'), ('the', 'patient'), ('patient', 'needed'), ('needed', 'first'), ('first', 'a'), ('a', 'cane'), ('cane', ','), (',', 'then'), ('then', 'crutches'), ('crutches', '.'), ('.', '</s>')]\n",
      "\n",
      "[('<s>', 'Muscle', 'weakness'), ('Muscle', 'weakness', 'did'), ('weakness', 'did', 'not'), ('did', 'not', 'improve'), ('not', 'improve', ','), ('improve', ',', 'and'), (',', 'and', 'the'), ('and', 'the', 'patient'), ('the', 'patient', 'needed'), ('patient', 'needed', 'first'), ('needed', 'first', 'a'), ('first', 'a', 'cane'), ('a', 'cane', ','), ('cane', ',', 'then'), (',', 'then', 'crutches'), ('then', 'crutches', '.'), ('crutches', '.', '</s>')]\n",
      "\n",
      "[('<s>', 'Muscle', 'weakness', 'did'), ('Muscle', 'weakness', 'did', 'not'), ('weakness', 'did', 'not', 'improve'), ('did', 'not', 'improve', ','), ('not', 'improve', ',', 'and'), ('improve', ',', 'and', 'the'), (',', 'and', 'the', 'patient'), ('and', 'the', 'patient', 'needed'), ('the', 'patient', 'needed', 'first'), ('patient', 'needed', 'first', 'a'), ('needed', 'first', 'a', 'cane'), ('first', 'a', 'cane', ','), ('a', 'cane', ',', 'then'), ('cane', ',', 'then', 'crutches'), (',', 'then', 'crutches', '.'), ('then', 'crutches', '.', '</s>')]\n"
     ]
    }
   ],
   "source": [
    "# Return a list of the N-grams for all sentences s\n",
    "\n",
    "# Store all N-grams as tuples, so that a unigram is (w,), a bigram is (w1,w2), etc.\n",
    "\n",
    "def get_Ngrams_for_sentence(N,s):\n",
    "    answer = []\n",
    "    for x in range(N):\n",
    "      for y in range(0, len(s) - N + 1):\n",
    "        answer.append(tuple(s[:N]))\n",
    "        s = s[1:]\n",
    "    return answer                            # your code here\n",
    "\n",
    "\n",
    "\n",
    "# test on first sentence in the training set\n",
    "sentence_one = get_Ngrams_for_sentence(1, training_sents[0])\n",
    "sentence_two = get_Ngrams_for_sentence(2, training_sents[0])\n",
    "sentence_three = get_Ngrams_for_sentence(3, training_sents[0])\n",
    "sentence_four = get_Ngrams_for_sentence(4, training_sents[0])\n",
    "# your code here\n",
    "\n",
    "print(sentence_one)\n",
    "print()\n",
    "print(sentence_two)\n",
    "print()\n",
    "print(sentence_three)\n",
    "print()\n",
    "print(sentence_four)"
   ]
  },
  {
   "cell_type": "markdown",
   "metadata": {
    "id": "6lIco2dZfKB9"
   },
   "source": [
    "###  Part D\n",
    "\n",
    "Now create lists of N-grams for all the sentences in your training set (NOT the testing set).\n",
    "Complete the following template to assign these to the given list.\n",
    "\n",
    "Print out the number of N-grams, and the first 5 N-grams in each list for N = 1, 2, 3, 4.\n",
    "\n",
    "Note that this number is the number of occurrences of N-grams, which may not be unique in the list."
   ]
  },
  {
   "cell_type": "code",
   "execution_count": null,
   "metadata": {
    "colab": {
     "base_uri": "https://localhost:8080/"
    },
    "id": "J1odRLfsfKB9",
    "outputId": "2ff1a5d0-135a-42bf-a4cf-af3824f83e05",
    "scrolled": true
   },
   "outputs": [
    {
     "name": "stdout",
     "output_type": "stream",
     "text": [
      "There are 1274667 N-grams in Ngrams[1] and the first 5 are: \n",
      "[('<s>',), ('Muscle',), ('weakness',), ('did',), ('not',)] \n",
      "\n",
      "There are 1217385 N-grams in Ngrams[2] and the first 5 are: \n",
      "[('<s>', 'Muscle'), ('Muscle', 'weakness'), ('weakness', 'did'), ('did', 'not'), ('not', 'improve')] \n",
      "\n",
      "There are 1160103 N-grams in Ngrams[3] and the first 5 are: \n",
      "[('<s>', 'Muscle', 'weakness'), ('Muscle', 'weakness', 'did'), ('weakness', 'did', 'not'), ('did', 'not', 'improve'), ('not', 'improve', ',')] \n",
      "\n",
      "There are 1102821 N-grams in Ngrams[4] and the first 5 are: \n",
      "[('<s>', 'Muscle', 'weakness', 'did'), ('Muscle', 'weakness', 'did', 'not'), ('weakness', 'did', 'not', 'improve'), ('did', 'not', 'improve', ','), ('not', 'improve', ',', 'and')]\n"
     ]
    }
   ],
   "source": [
    "Ngrams = [None]*5    # first slot is empty, then Ngram[1] will hold unigrams, Ngram[2] will hold bigrams, etc.\n",
    "\n",
    "unigrams = []\n",
    "for x in training_sents:\n",
    "  unigrams.append(get_Ngrams_for_sentence(1,x))\n",
    "unigrams = [tup for listlist in unigrams for tup in listlist]\n",
    "\n",
    "bigrams = []\n",
    "for x in training_sents:\n",
    "  bigrams.append(get_Ngrams_for_sentence(2,x))\n",
    "bigrams = [tup for listlist in bigrams for tup in listlist]\n",
    "\n",
    "trigrams = []\n",
    "for x in training_sents:\n",
    "  trigrams.append(get_Ngrams_for_sentence(3,x))\n",
    "trigrams = [tup for listlist in trigrams for tup in listlist]\n",
    "\n",
    "quadgrams = []\n",
    "for x in training_sents:\n",
    "  quadgrams.append(get_Ngrams_for_sentence(4,x))\n",
    "quadgrams = [tup for listlist in quadgrams for tup in listlist]\n",
    "\n",
    "Ngrams[1] = unigrams\n",
    "Ngrams[2] = bigrams\n",
    "Ngrams[3] = trigrams\n",
    "Ngrams[4] = quadgrams\n",
    "\n",
    "print(f\"There are {len(unigrams)} N-grams in Ngrams[1] and the first 5 are: \\n{unigrams[:5]} \\n\")\n",
    "print(f\"There are {len(bigrams)} N-grams in Ngrams[2] and the first 5 are: \\n{bigrams[:5]} \\n\")\n",
    "print(f\"There are {len(trigrams)} N-grams in Ngrams[3] and the first 5 are: \\n{trigrams[:5]} \\n\")\n",
    "print(f\"There are {len(quadgrams)} N-grams in Ngrams[4] and the first 5 are: \\n{quadgrams[:5]}\")"
   ]
  },
  {
   "cell_type": "markdown",
   "metadata": {
    "id": "HS7e41cwfKB9"
   },
   "source": [
    "### Part E\n",
    "\n",
    "We will now create a probability distribution for each of the Ngram collections. Note carefully\n",
    "that you must divide the frequency of each N-gram by the number of occurrences of N-grams, not\n",
    "the number of unique N-grams.\n",
    "\n",
    "Complete the following template and then\n",
    "\n",
    "1. Print out the total number of N-grams in each dictionary (they should be a bit smaller than the totals in the last part - why?).\n",
    "2. Test your code by printing out the probability of the following Ngrams to 8 digits of precision:\n",
    "\n",
    "        ('to',)           \n",
    "        ('to','the')            \n",
    "        ('to','the','house')              \n",
    "        ('to','the','house','.')"
   ]
  },
  {
   "cell_type": "code",
   "execution_count": null,
   "metadata": {
    "colab": {
     "base_uri": "https://localhost:8080/"
    },
    "id": "GCmT_Oi7fKB-",
    "outputId": "2085b999-effa-47c3-a112-d1da046002f7",
    "scrolled": true
   },
   "outputs": [
    {
     "name": "stdout",
     "output_type": "stream",
     "text": [
      "The Probability of ('to',) is 0.02017703. \n",
      "\n",
      "The Probability of ('to', 'the') is 0.00281341. \n",
      "\n",
      "The Probability of ('to','the','house') is 9.48e-06. \n",
      "\n",
      "The Probability of ('to','the','house','.') is 2.72e-06.\n"
     ]
    }
   ],
   "source": [
    "# Create a defaultdict with the frequency distribution for the training set for a given N.\n",
    "\n",
    "def get_Ngram_distribution(N,Ngrams):\n",
    "  def_dict = defaultdict(int)\n",
    "  ngrams = Ngrams[N]\n",
    "  length = len(ngrams)\n",
    "  for x in ngrams:\n",
    "    def_dict[x] += 1/length\n",
    "  return def_dict\n",
    "\n",
    "\n",
    "                                     # your code here\n",
    "\n",
    "# now create for N = 1,2,3,4\n",
    "\n",
    "Ngram_distribution = [None]*5\n",
    "one = get_Ngram_distribution(1, Ngrams)\n",
    "two = get_Ngram_distribution(2, Ngrams)\n",
    "three = get_Ngram_distribution(3, Ngrams)\n",
    "four = get_Ngram_distribution(4, Ngrams)\n",
    "\n",
    "Ngram_distribution[1] = one\n",
    "Ngram_distribution[2] = two\n",
    "Ngram_distribution[3] = three\n",
    "Ngram_distribution[4] = four\n",
    "\n",
    "print(f\"The Probability of ('to',) is {round(Ngram_distribution[1].get(('to',)),8)}. \\n\")\n",
    "print(f\"The Probability of ('to', 'the') is {round(Ngram_distribution[2].get(('to', 'the')),8)}. \\n\")\n",
    "print(f\"The Probability of ('to','the','house') is {round(Ngram_distribution[3].get(('to','the','house')),8)}. \\n\")\n",
    "print(f\"The Probability of ('to','the','house','.') is {round(Ngram_distribution[4].get(('to','the','house','.')),8)}.\")\n",
    "\n",
    "\n",
    "# your code here"
   ]
  },
  {
   "cell_type": "markdown",
   "metadata": {
    "id": "QNgFKlx1fKB-"
   },
   "source": [
    "## Probability and Perplexity\n",
    "\n",
    "Now we will calculate the probability and the perplexity of sequences\n",
    "of tokens, using the principle of \"Stupid Backoff\" as explained\n",
    "in the paper:\n",
    "\n",
    "https://aclanthology.org/D07-1090.pdf\n",
    "\n",
    "and explicated in this StackOverflow post:\n",
    "\n",
    "https://stackoverflow.com/questions/16383194/stupid-backoff-implementation-clarification\n",
    "\n",
    "Before describing \"Stupid Backoff,\" let us consider the naive way to\n",
    "calculate the probability of a sequence of tokens which starts with `<s>`.\n",
    "\n",
    "#### A simple and naive way to calculate probabilities of sequences of tokens\n",
    "\n",
    "Suppose we have a quadrigram model (N = 4), we have a sequence of tokens\n",
    "\n",
    "$$[\\text{'<s>'}, w_1, w_2, \\cdots, w_n],$$   \n",
    "\n",
    "($w_n$ may or may not be `<\\s>`), and we have calculated all the N-gram\n",
    "probabilities in  `Ngram_distribution[N]` for N = 1,2,3,4.  \n",
    "\n",
    "Then, let\n",
    "\n",
    "$$\\begin{aligned}\n",
    "        p_1 &= P(\\ (\\text{'<s>'}, w_1)\\ ) \\ =\\  \\text{Ngram_distribution[2][$(\\text{'<s>'}, w_1)$]}    \\\\       \n",
    "        p_2 &= P(\\ (\\text{'<s>'}, w_1, w_2)\\ ) \\ =\\  \\text{Ngram_distribution[3][$(\\text{'<s>'}, w_1,w_2)$]}    \\\\       \n",
    "        p_3 &= P(\\ (\\text{'<s>'}, w_1, w_2, w_3)\\ )\\ =\\  \\text{Ngram_distribution[4][$(\\text{'<s>'}, w_1,w_2,w_3)$]}    \\\\        \n",
    "            &\\ldots                             \\\\\n",
    "        p_i &= P(\\ (w_{i-3}, w_{i-2}, w_{i-1}, w_i)\\ )\\ =\\  \\text{Ngram_distribution[4][$(w_{i-3}, w_{i-2}, w_{i-1}, w_i)$]}    \\\\        \n",
    "                    &\\ldots                            \\\\\n",
    "        p_n &= P(\\ (w_{n-3}, w_{n-2}, w_{n-1}, w_n)\\ ) \\ =\\  \\text{Ngram_distribution[4][$(w_{n-3}, w_{n-2}, w_{n-1}, w_n)$]}    \\\\        \n",
    "  \\end{aligned}$$\n",
    "Finally, let\n",
    "\n",
    "$$P(\\text{'<s>'}, w_1, w_2, \\cdots, w_n)\\ =\\ p_1\\ast p_2\\ast\\cdots\\ast p_n.$$\n",
    "\n",
    "In other words, as each step, we use as much left context as we have available, up to N = 4.\n",
    "\n",
    "#### What could possibly go wrong?\n",
    "\n",
    "Well, if our sentence is from our training set, nothing!  All the probabilities will\n",
    "have been calculated for all the possible N-grams.\n",
    "\n",
    "However, when we have a separate\n",
    "training set, we have to account for the fact that **some N-grams (and even\n",
    "some tokens) may occur in the testing set which do not occur in the training set,\n",
    "and so their probability will be 0.**\n",
    "\n",
    "There are various solutions, which we discussed in lectures 5 and 6, but the simplest\n",
    "(and very effective for large data sets) is \"Stupid Backoff,\" recursively defined as follows\n",
    "for quadrigrams (and analogously for bigrams and trigrams):\n",
    "\n",
    "    P(w1, w2, w3, w4) = brown_N_grams[4][(w1, w2, w3, w4)] if this is not 0, else:\n",
    "                       = 0.4 * P(w2, w3, w4)               if this is not 0, else:\n",
    "                       = 0.4^2 * P(w3, w4)                 if this is not 0, else:\n",
    "                       = 0.4^3 * P(w4)                     if this is not 0, else:\n",
    "                       = (0.4)^4 * (frequency of w4 in corpus / # tokens in corpus)\n",
    "                       \n",
    "The \"discount factor\"\n",
    "0.4 was proposed by the originators of the method, and seems to work well in practice.\n",
    "\n",
    "This calculation is unnecessary in generative models, since then we will train on the entire\n",
    "corpus, and only use available N-grams to produce sentences."
   ]
  },
  {
   "cell_type": "markdown",
   "metadata": {
    "id": "EMI9bWCFfKB_"
   },
   "source": [
    "## Problem 2 (40 pts)\n",
    "\n",
    "Now we will calculate the probability of a sequence of tokens. We will warm up by considering\n",
    "the simple case, where no probabilities can be 0, and then consider the more complex case, where\n",
    "\"stupid backoff\" will be used.\n",
    "\n",
    "### Part A\n",
    "\n",
    "For this part, complete the following template to create a function which will\n",
    "calculate the probability of a sequence of tokens, assuming that no probabilities\n",
    "are 0, for example, if you test a sentence from the training set.\n",
    "\n",
    "Tests are provided following the cell in which you will write your code."
   ]
  },
  {
   "cell_type": "code",
   "execution_count": null,
   "metadata": {
    "id": "zdvqdukefKB_"
   },
   "outputs": [],
   "source": [
    "# Probability of a list of tokens using N-grams\n",
    "# W a list of tokens\n",
    "\n",
    "# This assumes no probabilities are 0, e.g., if using on the training set\n",
    "\n",
    "# Now deal with growing prefixes, W must be of length at least 2\n",
    "\n",
    "def P(N,W):\n",
    "  answer = 1\n",
    "  if N == 4:\n",
    "    answer *= P(3, W[:3])\n",
    "    for x in range(0, len(W) - N + 1):\n",
    "      value = Ngram_distribution[N].get(W[:4])\n",
    "      if value is None:\n",
    "        value = 0\n",
    "        answer = answer * value\n",
    "      else:\n",
    "        answer = answer * value\n",
    "      W = W[1:]\n",
    "  elif N == 3:\n",
    "    answer *= P(2, W[:2])\n",
    "    for x in range(0, len(W) - N + 1):\n",
    "      value = Ngram_distribution[N].get(W[:3])\n",
    "      if value is None:\n",
    "        value = 0\n",
    "        answer = answer * value\n",
    "      else:\n",
    "        answer = answer * value\n",
    "      W = W[1:]\n",
    "  elif N == 2:\n",
    "    for x in range(0, len(W) - N + 1):\n",
    "      value = Ngram_distribution[N].get(W[:2])\n",
    "      if value is None:\n",
    "        value = 0\n",
    "        answer = answer * value\n",
    "      else:\n",
    "        answer = answer * value\n",
    "      W = W[1:]\n",
    "\n",
    "  return answer\n",
    "\n",
    "\n"
   ]
  },
  {
   "cell_type": "markdown",
   "metadata": {
    "id": "G1QEtIz6fKB_"
   },
   "source": [
    "The following are tests to make sure your code is working properly. The values printed\n",
    "should be the same."
   ]
  },
  {
   "cell_type": "code",
   "execution_count": null,
   "metadata": {
    "colab": {
     "base_uri": "https://localhost:8080/"
    },
    "id": "liuUB4T4fKCA",
    "outputId": "13ea970b-759e-4bbc-d5c6-37abfce3bc0c"
   },
   "outputs": [
    {
     "name": "stdout",
     "output_type": "stream",
     "text": [
      "a*b*c:    1.5798085081133677e-11\n",
      "P(2,...): 1.5798085081133677e-11\n"
     ]
    }
   ],
   "source": [
    "a = Ngram_distribution[2][('to','the',)]\n",
    "b = Ngram_distribution[2][('the','house',)]\n",
    "c = Ngram_distribution[2][('house','.')]\n",
    "\n",
    "print('a*b*c:   ',a*b*c)\n",
    "print('P(2,...):', P(2,('to','the','house','.')))"
   ]
  },
  {
   "cell_type": "code",
   "execution_count": null,
   "metadata": {
    "colab": {
     "base_uri": "https://localhost:8080/"
    },
    "id": "RAj8_YKrfKCA",
    "outputId": "7e57f106-bb74-452f-c90e-4eb775c7d73e"
   },
   "outputs": [
    {
     "name": "stdout",
     "output_type": "stream",
     "text": [
      "a*b*c:    6.8984809553359e-13\n",
      "P(3,...): 6.8984809553359e-13\n"
     ]
    }
   ],
   "source": [
    "a = Ngram_distribution[2][('to','the',)]\n",
    "b = Ngram_distribution[3][('to','the','house',)]\n",
    "c = Ngram_distribution[3][('the','house','.')]\n",
    "\n",
    "print('a*b*c:   ',a*b*c)\n",
    "print('P(3,...):', P(3,('to','the','house','.')))"
   ]
  },
  {
   "cell_type": "code",
   "execution_count": null,
   "metadata": {
    "colab": {
     "base_uri": "https://localhost:8080/"
    },
    "id": "lt3rpE7UfKCA",
    "outputId": "789da373-aafe-479f-821a-8d50061927d6"
   },
   "outputs": [
    {
     "name": "stdout",
     "output_type": "stream",
     "text": [
      "a*b*c:    7.256797296866889e-14\n",
      "P(4,...): 7.256797296866889e-14\n"
     ]
    }
   ],
   "source": [
    "a = Ngram_distribution[2][('to','the',)]\n",
    "b = Ngram_distribution[3][('to','the','house',)]\n",
    "c = Ngram_distribution[4][('to',f'the','house','.')]\n",
    "\n",
    "print('a*b*c:   ',a*b*c)\n",
    "print('P(4,...):', P(4,('to','the','house','.')))"
   ]
  },
  {
   "cell_type": "markdown",
   "metadata": {
    "id": "NOwNUQAgfKCB"
   },
   "source": [
    "### Part B\n",
    "\n",
    "Now we will develop the probability for a sequence with the possibility that some N-grams, or\n",
    "even some tokens, are not in the training set. We will use the idea of \"stupid backoff\" explained\n",
    "in lecture.\n",
    "\n",
    "Complete the following template and verify that it passes all the tests. Note that `P_stupid_backoff`\n",
    "is the same as `P` except that you use `PN_with_stupid_backoff` instead of `Ngram_distribution`."
   ]
  },
  {
   "cell_type": "code",
   "execution_count": null,
   "metadata": {
    "colab": {
     "base_uri": "https://localhost:8080/"
    },
    "id": "p3Jza1ZTfKCB",
    "outputId": "b2b5940e-1390-4b67-e8c1-9e980588b35d"
   },
   "outputs": [
    {
     "data": {
      "text/plain": [
       "1.5798085081133677e-11"
      ]
     },
     "execution_count": 74,
     "metadata": {},
     "output_type": "execute_result"
    }
   ],
   "source": [
    "# Probability with stupid backoff\n",
    "# same as previous, but have to use recursive (or iterative) method instead of\n",
    "# calling Ngram_distribution directly\n",
    "\n",
    "# W a list of tokens\n",
    "\n",
    "num_all_tokens = len(brown.words())\n",
    "\n",
    "# This returns backed-off probability for single N-gram\n",
    "# len(W) must be N, this will try whole N-gram, then last N-1 tokens, then N-2, etc. down to 1 token.\n",
    "\n",
    "# Assumes W is a tuple\n",
    "\n",
    "def PN_with_stupid_backoff(N,W):\n",
    "  answer = 1\n",
    "  if N == 4:\n",
    "    for x in range(0, len(W) - N + 1):\n",
    "      value = Ngram_distribution[N].get(W[:4])\n",
    "      if value is None:\n",
    "        value = 0.4 * PN_with_stupid_backoff(N-1, W[1:])\n",
    "        answer = answer * value\n",
    "      else:\n",
    "        answer = answer * value\n",
    "  elif N == 3:\n",
    "    for x in range(0, len(W) - N + 1):\n",
    "      value = Ngram_distribution[N].get(W[:3])\n",
    "      if value is None:\n",
    "        value = 0.4 * PN_with_stupid_backoff(N-1, W[1:])\n",
    "        answer = answer * value\n",
    "      else:\n",
    "        answer = answer * value\n",
    "  elif N == 2:\n",
    "    for x in range(0, len(W) - N + 1):\n",
    "      value = Ngram_distribution[N].get(W[:2])\n",
    "      if value is None:\n",
    "        value = 0.4 * PN_with_stupid_backoff(N-1, W[1:])\n",
    "        answer = answer * value\n",
    "      else:\n",
    "        answer = answer * value\n",
    "  elif N == 1:\n",
    "    for x in range(0, len(W) - N + 1):\n",
    "      value = Ngram_distribution[N].get(W[:1])\n",
    "      if value is None:\n",
    "        words = brown.words()\n",
    "        value = list(brown.words()).count(W[0])/num_all_tokens\n",
    "        answer = answer * value\n",
    "      else:\n",
    "        answer = answer * value\n",
    "\n",
    "  return answer\n",
    "\n",
    "# Now just substitute previous for call to Ngram_distribution\n",
    "\n",
    "# Note that for training set, this will be same as P(N,W) since all probabilities are non-zero\n",
    "\n",
    "def P_stupid_backoff(N,W):\n",
    "  answer = 1\n",
    "  if N == 4:\n",
    "    answer *= P_stupid_backoff(3, W[:3])\n",
    "    for x in range(0, len(W) - N + 1):\n",
    "      value = PN_with_stupid_backoff(N,W[:4])\n",
    "      # value = Ngram_distribution[N].get(W[:4])\n",
    "      if value is None:\n",
    "        value = 0\n",
    "        answer = answer * value\n",
    "      else:\n",
    "        answer = answer * value\n",
    "      W = W[1:]\n",
    "  elif N == 3:\n",
    "    answer *= P_stupid_backoff(2, W[:2])\n",
    "    for x in range(0, len(W) - N + 1):\n",
    "      value = PN_with_stupid_backoff(N,W[:3])\n",
    "      # value = Ngram_distribution[N].get(W[:3])\n",
    "      if value is None:\n",
    "        value = 0\n",
    "        answer = answer * value\n",
    "      else:\n",
    "        answer = answer * value\n",
    "      W = W[1:]\n",
    "  elif N == 2:\n",
    "    for x in range(0, len(W) - N + 1):\n",
    "      value = PN_with_stupid_backoff(N,W[:2])\n",
    "      # value = Ngram_distribution[N].get(W[:2])\n",
    "      if value is None:\n",
    "        value = 0\n",
    "        answer = answer * value\n",
    "      else:\n",
    "        answer = answer * value\n",
    "      W = W[1:]\n",
    "  elif N == 1:\n",
    "    for x in range(0, len(W) - N + 1):\n",
    "      value = PN_with_stupid_backoff(N,W[:1])\n",
    "      # value = Ngram_distribution[N].get(W[:1])\n",
    "      if value is None:\n",
    "        value = 0\n",
    "        answer = answer * value\n",
    "      else:\n",
    "        answer = answer * value\n",
    "      W = W[1:]\n",
    "\n",
    "  return answer\n",
    "\n",
    "# tests\n",
    "\n",
    "P_stupid_backoff(2,('to','the','house','.'))"
   ]
  },
  {
   "cell_type": "code",
   "execution_count": null,
   "metadata": {
    "colab": {
     "base_uri": "https://localhost:8080/"
    },
    "id": "PL3slp0MfKCB",
    "outputId": "6364e316-39ff-4753-ec56-4c12359cd4cc"
   },
   "outputs": [
    {
     "data": {
      "text/plain": [
       "2.234297284753796e-06"
      ]
     },
     "execution_count": 75,
     "metadata": {},
     "output_type": "execute_result"
    }
   ],
   "source": [
    "PN_with_stupid_backoff(4,('to','his','house','in'))"
   ]
  },
  {
   "cell_type": "code",
   "execution_count": null,
   "metadata": {
    "colab": {
     "base_uri": "https://localhost:8080/"
    },
    "id": "kX9w2fwrfKCB",
    "outputId": "eff74f9b-de8d-460a-ea94-d001444913eb"
   },
   "outputs": [
    {
     "data": {
      "text/plain": [
       "0.0"
      ]
     },
     "execution_count": 76,
     "metadata": {},
     "output_type": "execute_result"
    }
   ],
   "source": [
    "P(4,('to','his','house','in'))"
   ]
  },
  {
   "cell_type": "code",
   "execution_count": null,
   "metadata": {
    "colab": {
     "base_uri": "https://localhost:8080/"
    },
    "id": "S3E6k29rfKCC",
    "outputId": "b9f7fa19-8781-4653-d7ac-a42ddbdc1095"
   },
   "outputs": [
    {
     "data": {
      "text/plain": [
       "0.0"
      ]
     },
     "execution_count": 77,
     "metadata": {},
     "output_type": "execute_result"
    }
   ],
   "source": [
    "a = P(3,('his','house','in'))\n",
    "a"
   ]
  },
  {
   "cell_type": "code",
   "execution_count": null,
   "metadata": {
    "colab": {
     "base_uri": "https://localhost:8080/"
    },
    "id": "iWfpX_8FfKCC",
    "outputId": "4e7fb6aa-1ad9-4391-d60f-15a947d8d6f1"
   },
   "outputs": [
    {
     "data": {
      "text/plain": [
       "1.3964358029711225e-05"
      ]
     },
     "execution_count": 78,
     "metadata": {},
     "output_type": "execute_result"
    }
   ],
   "source": [
    "b = P(3,('house','in'))\n",
    "b"
   ]
  },
  {
   "cell_type": "code",
   "execution_count": null,
   "metadata": {
    "colab": {
     "base_uri": "https://localhost:8080/"
    },
    "id": "-0y7EX91fKCC",
    "outputId": "89401dd4-5fd6-42df-ed9e-19a70e2b994f"
   },
   "outputs": [
    {
     "data": {
      "text/plain": [
       "2.2342972847537965e-06"
      ]
     },
     "execution_count": 79,
     "metadata": {},
     "output_type": "execute_result"
    }
   ],
   "source": [
    "0.4*0.4*b"
   ]
  },
  {
   "cell_type": "code",
   "execution_count": null,
   "metadata": {
    "colab": {
     "base_uri": "https://localhost:8080/"
    },
    "id": "ci2EMMvHfKCD",
    "outputId": "2fd88e08-3f45-498b-e2d9-1c43fc13d4cb"
   },
   "outputs": [
    {
     "data": {
      "text/plain": [
       "0.0"
      ]
     },
     "execution_count": 80,
     "metadata": {},
     "output_type": "execute_result"
    }
   ],
   "source": [
    "# 'grandstand' is in testing set but not in the training set\n",
    "\n",
    "P(2,('where','is','the','grandstand'))"
   ]
  },
  {
   "cell_type": "code",
   "execution_count": null,
   "metadata": {
    "colab": {
     "base_uri": "https://localhost:8080/"
    },
    "id": "JcOwXouofKCD",
    "outputId": "71b9ea4a-8115-47e7-cedf-4b05f026e38f"
   },
   "outputs": [
    {
     "data": {
      "text/plain": [
       "9.088177927478767e-16"
      ]
     },
     "execution_count": 81,
     "metadata": {},
     "output_type": "execute_result"
    }
   ],
   "source": [
    "P_stupid_backoff(2,('where','is','the','grandstand'))"
   ]
  },
  {
   "cell_type": "code",
   "execution_count": null,
   "metadata": {
    "colab": {
     "base_uri": "https://localhost:8080/"
    },
    "id": "CxG0ehK8fKCD",
    "outputId": "f5b604ae-5553-4484-9ab4-d6f6e3d74dbe"
   },
   "outputs": [
    {
     "data": {
      "text/plain": [
       "9.088177927478767e-16"
      ]
     },
     "execution_count": 82,
     "metadata": {},
     "output_type": "execute_result"
    }
   ],
   "source": [
    "a = P(2,('where','is'))\n",
    "b = P(2,('is','the'))\n",
    "c = P(2,('the','grandstand'))    # this is 0, so use 0.4*d instead of c\n",
    "d = list(brown.words()).count('grandstand') / len(brown.words())\n",
    "a*b*0.4*d"
   ]
  },
  {
   "cell_type": "markdown",
   "metadata": {
    "id": "Gul7m9imfKCD"
   },
   "source": [
    "### Part C\n",
    "\n",
    "Now we will implement the notion of *perplexity* as explained in lecture. Refer to\n",
    "the formula presented there to complete the following template, and verify\n",
    "that it passes all the tests.\n",
    "\n",
    "Note: When we calculate perplexity, we do not count the start-of-sentence symbol `<s>` as\n",
    "a token. So the length of\n",
    "\n",
    "    '<s>' 'the' 'man' 'was' 'tall' '.' '</s>'\n",
    "    \n",
    "would be 6, and you would use the exponent $-(1/6)$ in the calculation."
   ]
  },
  {
   "cell_type": "code",
   "execution_count": null,
   "metadata": {
    "id": "aLt-4no9fKCD"
   },
   "outputs": [],
   "source": [
    "# Perplexity\n",
    "\n",
    "# We assume that W starts with <s>, may not end with </s>\n",
    "\"\"\"\n",
    "def PP(N,W):\n",
    "  length = len(W)\n",
    "  word = W\n",
    "  probs = []\n",
    "  sum_in_log = 0\n",
    "\n",
    "  for x in W:\n",
    "    if x == \"<s>\":\n",
    "      length -= 1\n",
    "\n",
    "  for x in range(1, N):\n",
    "    if x == 1:\n",
    "      probs.append(P_stupid_backoff(x, word[:x]))\n",
    "    else:\n",
    "      probs.append(P_stupid_backoff(x, word[:x]) / P_stupid_backoff(x - 1, word[:x-1]))\n",
    "\n",
    "  if N > len(word):\n",
    "    for p in probs:\n",
    "      sum_in_log += math.log(p)\n",
    "    result = math.exp(sum_in_log)\n",
    "    if result < 2.2250738585072014e-308:\n",
    "      result = 2.2250738585072014e-308\n",
    "    return result ** (-(1/(length)))\n",
    "\n",
    "  for x in range(0, len(W)- N + 1):\n",
    "    probOne = P_stupid_backoff(N,W[x:N+x])\n",
    "    probTwo = P_stupid_backoff(N-1, W[x:N-1+x])\n",
    "    probs.append(probOne)\n",
    "\n",
    "  for p in probs:\n",
    "    sum_in_log += math.log(p)\n",
    "  result = math.exp(sum_in_log)\n",
    "  if result < 2.2250738585072014e-308:\n",
    "    result = 2.2250738585072014e-308\n",
    "  return result ** (-1/length)\n",
    "\"\"\"\n",
    "\n",
    "def PP(N,W):\n",
    "  length = len(W)\n",
    "  word = W\n",
    "  probs = []\n",
    "  sum_in_log = 0\n",
    "\n",
    "  for x in W:\n",
    "    if x == \"<s>\":\n",
    "      length -= 1\n",
    "\n",
    "  if N == 3:\n",
    "    if len(word) > 1:\n",
    "      probs.append(P_stupid_backoff(2, word[:2]))\n",
    "  if N == 4:\n",
    "    if len(word) > 1:\n",
    "      probs.append(P_stupid_backoff(2, word[:2]))\n",
    "    if len(word) > 2:\n",
    "      probs.append(P_stupid_backoff(3, word[:3])/P_stupid_backoff(2, word[:2]))\n",
    "\n",
    "  if N > len(word):\n",
    "    for p in probs:\n",
    "      sum_in_log += math.log(p)\n",
    "    sum_in_log = sum_in_log * -1/length\n",
    "    result = math.exp(sum_in_log)\n",
    "    return result\n",
    "\n",
    "  for x in range(0, len(W)- N + 1):\n",
    "    probOne = P_stupid_backoff(N,W[x:N+x])\n",
    "    if N > 2:\n",
    "      probTwo = P_stupid_backoff(N-1, W[x:N-1+x])\n",
    "    else:\n",
    "      probTwo = 1\n",
    "    probs.append(probOne/probTwo)\n",
    "\n",
    "  for p in probs:\n",
    "    sum_in_log += math.log(p)\n",
    "  sum_in_log = sum_in_log * -1/length\n",
    "  result = math.exp(sum_in_log)\n",
    "\n",
    "  return result\n"
   ]
  },
  {
   "cell_type": "code",
   "execution_count": null,
   "metadata": {
    "colab": {
     "base_uri": "https://localhost:8080/"
    },
    "id": "mL4ljEXPfKCD",
    "outputId": "53e372bf-7c2c-499e-f562-ac62e2821f0d"
   },
   "outputs": [
    {
     "data": {
      "text/plain": [
       "3901.8749999999886"
      ]
     },
     "execution_count": 84,
     "metadata": {},
     "output_type": "execute_result"
    }
   ],
   "source": [
    "PP(2,('<s>','the'))"
   ]
  },
  {
   "cell_type": "code",
   "execution_count": null,
   "metadata": {
    "colab": {
     "base_uri": "https://localhost:8080/"
    },
    "id": "HASicBy4fKCE",
    "outputId": "a5284f07-c618-40b3-c20c-f883ca42de63"
   },
   "outputs": [
    {
     "data": {
      "text/plain": [
       "35708.79331810148"
      ]
     },
     "execution_count": 85,
     "metadata": {},
     "output_type": "execute_result"
    }
   ],
   "source": [
    "PP(2,('<s>','the','man','went'))"
   ]
  },
  {
   "cell_type": "code",
   "execution_count": null,
   "metadata": {
    "colab": {
     "base_uri": "https://localhost:8080/"
    },
    "id": "WuLzBZ8QfKCE",
    "outputId": "a772e23e-76b9-487a-f73b-f2c8ffaddd22"
   },
   "outputs": [
    {
     "data": {
      "text/plain": [
       "5410.502630293523"
      ]
     },
     "execution_count": 86,
     "metadata": {},
     "output_type": "execute_result"
    }
   ],
   "source": [
    "PP(2,('<s>','the','man','went','to','the', 'house','.','</s>'))"
   ]
  },
  {
   "cell_type": "code",
   "execution_count": null,
   "metadata": {
    "colab": {
     "base_uri": "https://localhost:8080/"
    },
    "id": "NDvANJgkfKCE",
    "outputId": "2796bf7c-5bd0-4013-84ee-1e3de32dd29c"
   },
   "outputs": [
    {
     "data": {
      "text/plain": [
       "3901.8749999999886"
      ]
     },
     "execution_count": 87,
     "metadata": {},
     "output_type": "execute_result"
    }
   ],
   "source": [
    "PP(3,('<s>','the'))"
   ]
  },
  {
   "cell_type": "code",
   "execution_count": null,
   "metadata": {
    "colab": {
     "base_uri": "https://localhost:8080/"
    },
    "id": "G4bk6BmzfKCE",
    "outputId": "21cf22f5-5ffe-453b-b985-80432376c4d4"
   },
   "outputs": [
    {
     "data": {
      "text/plain": [
       "239724.60904832865"
      ]
     },
     "execution_count": 88,
     "metadata": {},
     "output_type": "execute_result"
    }
   ],
   "source": [
    "PP(3,('<s>','the','man','went'))"
   ]
  },
  {
   "cell_type": "code",
   "execution_count": null,
   "metadata": {
    "colab": {
     "base_uri": "https://localhost:8080/"
    },
    "id": "pxgN78_6fKCE",
    "outputId": "94b3687d-9ff3-4531-a69a-92b9b982e67d"
   },
   "outputs": [
    {
     "data": {
      "text/plain": [
       "73539.4118507504"
      ]
     },
     "execution_count": 89,
     "metadata": {},
     "output_type": "execute_result"
    }
   ],
   "source": [
    "PP(3,('<s>','the','man','went','to','the', 'house','.','</s>'))"
   ]
  },
  {
   "cell_type": "markdown",
   "metadata": {
    "id": "sOLox7D6fKCE"
   },
   "source": [
    "### Part D\n",
    "\n",
    "Print out the first ten sentences in the training set, with their perplexities. Then do the\n",
    "same for the testing set.\n",
    "\n",
    "Print out the text of the sentences in a readable form, e.g., for a sentence `w`, print it out using\n",
    "\n",
    "    ' '.join(w[1:-1)"
   ]
  },
  {
   "cell_type": "code",
   "execution_count": null,
   "metadata": {
    "colab": {
     "base_uri": "https://localhost:8080/"
    },
    "id": "5XhPkr9PfKCE",
    "outputId": "5b6fa516-aad3-4e38-86e0-880f530501c1"
   },
   "outputs": [
    {
     "name": "stdout",
     "output_type": "stream",
     "text": [
      "75558.8 \t Muscle weakness did not improve , and the patient needed first a cane , then crutches .\n",
      "41114.8 \t He replaced the flashlight where it had been stowed , got into his own car and backed it out of the garage .\n",
      "64851.91 \t When he had given the call a few moments thought , he went into the kitchen to ask Mrs. Yamata to prepare tea and sushi for the visitors , using the formal English china and the silver tea service which had been donated to the mission , then he went outside to inspect the grounds .\n",
      "54823.54 \t -- On the basis of a differentiability assumption in function space , it is possible to prove that , for materials having the property that the stress is given by a functional of the history of the deformation gradients , the classical theory of infinitesimal viscoelasticity is valid when the deformation has been infinitesimal for all times in the past .\n",
      "131936.22 \t She said sharks have no bones and shrimp swam backward .\n",
      "102780.31 \t T. V. Barker , who developed the classification-angle system , was about to begin the systematic compilation of the index when he died in 1931 .\n",
      "15584.1 \t He was then in man's hands .\n",
      "2517.48 \t 4 .\n",
      "22932.71 \t `` Fifteen minutes , then ! !\n",
      "26299.58 \t Thus the cocktail party would appear to be the ideal system , but there is one weakness .\n"
     ]
    }
   ],
   "source": [
    "start = 0\n",
    "for x in range(10):\n",
    "  sent = training_sents[x][1:len(training_sents[x])-1]\n",
    "  sentence = ' '.join(sent)\n",
    "  train = tuple(training_sents[x])\n",
    "  print(f\"{round(PP(2, train),2)} \\t {sentence}\")"
   ]
  },
  {
   "cell_type": "code",
   "execution_count": null,
   "metadata": {
    "colab": {
     "base_uri": "https://localhost:8080/"
    },
    "id": "Fw8xlxxvfKCF",
    "outputId": "d0199078-1723-4856-cce1-69d851b39469",
    "scrolled": false
   },
   "outputs": [
    {
     "name": "stdout",
     "output_type": "stream",
     "text": [
      "66836.37 \t It is at least as important as the more dramatic attempts to break down barriers of inequality in the South .\n",
      "131885.57 \t the car's far windshield panel turned into a silver web with a dark hole in the center .\n",
      "109489.65 \t `` I was just thinking how things have changed .\n",
      "92107.21 \t She smiled , and the teeth gleamed in her beautifully modeled olive face .\n",
      "149699.23 \t `` There isn't a chance of Myra's letting anything like that happen .\n",
      "217504.84 \t On the other hand , many a pastor is so absorbed in ministering to the intimate , personal needs of individuals in his congregation that he does little or nothing to lead them into a sense of social responsibility and world mission .\n",
      "34612.33 \t We live down by the Base commissary .\n",
      "140178.39 \t For example , the BBB has reported it was receiving four times as many inquiries about quack devices and 10 times as many complaints compared with two years ago .\n",
      "43182.19 \t As a result , life had become a kind of continuous make-ready .\n",
      "179499.92 \t Some of the poems express a mood of joy in a newly discovered love ; ;\n"
     ]
    }
   ],
   "source": [
    "start = 0\n",
    "for x in range(10):\n",
    "  sent = testing_sents[x][1:len(testing_sents[x])-1]\n",
    "  sentence = ' '.join(sent)\n",
    "  test = tuple(testing_sents[x])\n",
    "  print(f\"{round(PP(3, test),2)} \\t {sentence}\")"
   ]
  },
  {
   "cell_type": "markdown",
   "metadata": {
    "id": "ssAoKDHefKCF"
   },
   "source": [
    "### Part E\n",
    "\n",
    "Finally, we will find the perplexities of the the testing set with bigrams, trigrams, and quadrigrams.\n",
    "Complete the following template the verify that your results are consistent with the test results."
   ]
  },
  {
   "cell_type": "code",
   "execution_count": null,
   "metadata": {
    "colab": {
     "base_uri": "https://localhost:8080/"
    },
    "id": "NqZUxIXthPFa",
    "outputId": "52d1ca91-4124-498b-858d-13fee1362e46"
   },
   "outputs": [
    {
     "name": "stdout",
     "output_type": "stream",
     "text": [
      "The perplexity of the testing sets for 2-grams is 29011. \n",
      "\n",
      "The perplexity of the testing sets for 3-grams is 124608. \n",
      "\n",
      "The perplexity of the testing sets for 4-grams is 294296.\n"
     ]
    }
   ],
   "source": [
    "# Find all the probabilities of the sentences in the testing set, multiply them,\n",
    "# and take the $K^{th}$ root, where K is the number of tokens, excluding the <s> tokens.\n",
    "# So, K = (sum of length of sentences) - (# of sentences)\n",
    "\n",
    "# We need to take the product of many small probabilities, so use math.log and math.exp to avoid\n",
    "# underflow (the product would then simply be 0.0).\n",
    "\n",
    "# Print out the perplexity as an integer.\n",
    "\n",
    "import math\n",
    "new_test = tuple(t for sublist in testing_sents for t in sublist)\n",
    "\n",
    "def all_tests(N,W):\n",
    "  length = len(W)\n",
    "  for x in W:\n",
    "    if x == \"<s>\":\n",
    "      length -= 1\n",
    "  probs = []\n",
    "  sum_in_log = 0\n",
    "  probOne = 1\n",
    "  probTwo = 1\n",
    "  for x in testing_sents:\n",
    "    if N == 3:\n",
    "      if len(x) > 1:\n",
    "        probOne *= P_stupid_backoff(2, tuple(x[:2]))\n",
    "    if N == 4:\n",
    "      if len(x) > 1:\n",
    "        probOne *= P_stupid_backoff(2, tuple(x[:2]))\n",
    "      if len(x) > 2:\n",
    "        probOne *= P_stupid_backoff(3, tuple(x[:3]))/P_stupid_backoff(2, tuple(x[:2]))\n",
    "    if N > len(x):\n",
    "      probs.append(probOne)\n",
    "    else:\n",
    "      for y in range(0,len(x) - N + 1):\n",
    "        probOne *= P_stupid_backoff(N,tuple(x[y:N+y]))\n",
    "        if N > 2:\n",
    "          probOne /= P_stupid_backoff(N-1, tuple(x[y:N-1+y]))\n",
    "        else:\n",
    "          probTwo = 1\n",
    "      probs.append(probOne)\n",
    "    probOne = 1\n",
    "  return probs, length\n",
    "\n",
    "def helper(probs, length):\n",
    "  sum_in_log = 0\n",
    "  for p in probs:\n",
    "    sum_in_log += math.log(p)\n",
    "  sum_in_log = sum_in_log * -1/length\n",
    "  result = math.exp(sum_in_log)\n",
    "  return result\n",
    "\n",
    "\n",
    "one,two = all_tests(2,new_test)\n",
    "print(f\"The perplexity of the testing sets for 2-grams is {int(helper(one, two))}. \\n\")\n",
    "\n",
    "one,two = all_tests(3,new_test)\n",
    "print(f\"The perplexity of the testing sets for 3-grams is {int(helper(one, two))}. \\n\")\n",
    "\n",
    "one,two = all_tests(4,new_test)\n",
    "print(f\"The perplexity of the testing sets for 4-grams is {int(helper(one, two))}.\")\n",
    "\n"
   ]
  },
  {
   "cell_type": "markdown",
   "metadata": {
    "id": "PZRZnSXJfKCF"
   },
   "source": [
    "## Problem 3: Generative N-Gram Model (25 pts)\n",
    "\n",
    "\n",
    "Now we will consider how to generate sentences using our N-gram model.\n",
    "\n",
    "\n",
    "The idea is fairly simple.  Suppose we have model using N=4 (quadrigrams -- the algorithm for bigrams and trigrams\n",
    "is analogous):\n",
    "\n",
    "1. To get $w_1$, choose a bigram $(\\text{\"<s>\"}, w_1)$ randomly according the probability distribution stored in\n",
    "\n",
    "$$\\text{Ngram_distribution[2][ $(\\text{\"<s>\"},)$ ]}.$$\n",
    "\n",
    "2. To get $w_2$, choose a bigram $(\\text{\"<s>\"}, w_1, w_2)$ randomly according the probability distribution stored in\n",
    "\n",
    "$$\\text{Ngram_distribution[3][ $(\\text{\"<s>\"},w_1)$ ]}.$$\n",
    "\n",
    "3. To get $w_3$, choose a trigram $(\\text{\"<s>\"}, w_1, w_2, w_3)$ randomly according the probability distribution stored in\n",
    "\n",
    "$$\\text{Ngram_distribution[4][ $(\\text{\"<s>\"},w_1,w_2)$ ]}.$$\n",
    "\n",
    "4. Thereafter, for a sequence $(\\text{\"<s>\"}, w_1, w_2, \\ldots, w_{i-2}, w_{i-1})$, to get $w_i$, choose a\n",
    "quadrigram $(w_{i-3}, w_{i-2}, w_{i-1}, w_i)$ randomly according the probability distribution stored in\n",
    "\n",
    "$$\\text{Ngram_distribution[4][ $(w_{i-3}, w_{i-2}, w_{i-1})$ ]}.$$\n",
    "\n",
    "5. When we generate the end of sentence marker `<\\s>` we stop."
   ]
  },
  {
   "cell_type": "markdown",
   "metadata": {
    "id": "6eoB0HzRfKCF"
   },
   "source": [
    "### Part A\n",
    "\n",
    "The first step, under the assumption that we are working with N-grams for N = 1,2,3, or 4, is to build a data structure that can sample from the distribution of next tokens\n",
    "given an (N-1)-gram of left context.\n",
    "\n",
    "The best choice here is a nested default dictionary for N-grams for N = 2,3,4, the outer dictionary containing\n",
    "keys consisting of the first N-1 tokens (we'll call this the *prefix*), with the value being an inner dictionary holding a probability distribution for the last token (we'll call this *wn*).\n",
    "\n",
    "For this problem, you need to redo the construction of the list of N-grams and the distributions for\n",
    "each N, using the *entire* set of sentences, not just the testing set you used for the previous problems.\n",
    "You can easily do this by copying and pasting code from above.\n"
   ]
  },
  {
   "cell_type": "code",
   "execution_count": null,
   "metadata": {
    "id": "PaUElGn2fKCF"
   },
   "outputs": [],
   "source": [
    "All_Ngrams = [None]*5    # first slot is empty, then Ngram[1] will hold unigrams,\n",
    "                         # Ngram[2] will hold bigrams, etc. for ALL sentences, not just training set\n",
    "\n",
    "# your code here\n",
    "\n",
    "# now create for N = 1,2,3,4\n",
    "\n",
    "All_Ngram_distribution = [None]*5\n",
    "all_sents = testing_sents + training_sents\n",
    "\n",
    "unigrams_for_all = []\n",
    "for x in all_sents:\n",
    "  unigrams_for_all.append(get_Ngrams_for_sentence(1,x))\n",
    "unigrams_for_all = [tup for listlist in unigrams_for_all for tup in listlist]\n",
    "\n",
    "bigrams_for_all = []\n",
    "for x in all_sents:\n",
    "  bigrams_for_all.append(get_Ngrams_for_sentence(2,x))\n",
    "bigrams_for_all = [tup for listlist in bigrams_for_all for tup in listlist]\n",
    "\n",
    "trigrams_for_all = []\n",
    "for x in all_sents:\n",
    "  trigrams_for_all.append(get_Ngrams_for_sentence(3,x))\n",
    "trigrams_for_all = [tup for listlist in trigrams_for_all for tup in listlist]\n",
    "\n",
    "quadgrams_for_all = []\n",
    "for x in all_sents:\n",
    "  quadgrams_for_all.append(get_Ngrams_for_sentence(4,x))\n",
    "quadgrams_for_all = [tup for listlist in quadgrams_for_all for tup in listlist]\n",
    "\n",
    "All_Ngrams[1] = unigrams_for_all\n",
    "All_Ngrams[2] = bigrams_for_all\n",
    "All_Ngrams[3] = trigrams_for_all\n",
    "All_Ngrams[4] = quadgrams_for_all\n",
    "\n",
    "\n",
    "All_Ngram_distribution[1] = get_Ngram_distribution(1, All_Ngrams[1])\n",
    "All_Ngram_distribution[2] = get_Ngram_distribution(2, All_Ngrams[2])\n",
    "All_Ngram_distribution[3] = get_Ngram_distribution(3, All_Ngrams[3])\n",
    "All_Ngram_distribution[4] = get_Ngram_distribution(4, All_Ngrams[4])\n",
    "\n",
    "# your code here"
   ]
  },
  {
   "cell_type": "markdown",
   "metadata": {
    "id": "Q1x-A4kcfKCG"
   },
   "source": [
    "### Part B\n",
    "\n",
    "Now we must build a date structure to solve the following problem: If we are working in\n",
    "an N-gram model for N = 2, 3, or 4, given a sequence of tokens\n",
    "\n",
    "$$ <s>\\ w_1\\ w_2\\ w_3\\ \\cdots w_i$$\n",
    "\n",
    "generate a sample word $w_{i+1}$ using the distribution of the N-grams of the form\n",
    "\n",
    "$$ w_{i-N+1}\\ \\cdots w_{i-1}\\ w_{i}\\  w_{i+1}.$$\n",
    "\n",
    "In other words, we use the last $N-1$ tokens of the sequence to determine a likely\n",
    "next token, given the distribution of N-grams starting with those $N-1$ tokens.\n",
    "\n",
    "The best way to do this is to build a nested dictionary. Let us call the first $N-1$ tokens\n",
    "in an N-gram the *prefix* and the last token $wn$. Then the outer dictionary\n",
    "is a `defaultdict` whose keys are the prefixes and values are an inner `defaultdict`\n",
    "whose keys are the $wn$ and whose values form a probability distribution for\n",
    "the ways that the prefix can be completed with a token $wn$.\n",
    "\n",
    "To give a simple example, suppose that in our corpus there are only the following bigrams whose\n",
    "first token is 'the':\n",
    "\n",
    "    ('the','boy'),    ('the','baby'),     ('the','baby'),    ('the','man')\n",
    "    \n",
    "Then our outer dictionary would have the prefix\n",
    "\n",
    "    ('the',)\n",
    "    \n",
    "as a key, and the inner dictionary would store the probability that each of 'boy', 'baby', and 'man'\n",
    "would follow 'the', as shown in the next code cell.\n",
    "\n",
    "Note that the prefix is an N-gram (a tuple) and $wn$ is simply a token."
   ]
  },
  {
   "cell_type": "code",
   "execution_count": null,
   "metadata": {
    "colab": {
     "base_uri": "https://localhost:8080/"
    },
    "id": "OET6IqoSfKCG",
    "outputId": "7f51996d-95c1-4952-d681-f1874fff8317"
   },
   "outputs": [
    {
     "data": {
      "text/plain": [
       "defaultdict(<function __main__.<lambda>()>,\n",
       "            {('the',): defaultdict(<function __main__.<lambda>()>,\n",
       "                         {'boy': 0.25, 'man': 0.25, 'baby': 0.5})})"
      ]
     },
     "execution_count": 94,
     "metadata": {},
     "output_type": "execute_result"
    }
   ],
   "source": [
    "D = defaultdict(lambda: None)\n",
    "\n",
    "D[('the',)] = defaultdict(lambda: 0)\n",
    "D[('the',)]['boy'] = 0.25\n",
    "D[('the',)]['man'] = 0.25\n",
    "D[('the',)]['baby'] = 0.5\n",
    "\n",
    "D"
   ]
  },
  {
   "cell_type": "markdown",
   "metadata": {
    "id": "-z7g8DwYfKCG"
   },
   "source": [
    "Your task is to complete the following template and build a nested default dictionary giving\n",
    "the probability distributions for completions for (N-1)-grams.\n",
    "\n",
    "Hint:  For each N, you must create a `defaultdict` for all N-grams, whose key\n",
    "is the prefix and whose values are an inner `defaultdict`. For each N-gram,\n",
    "you should store the probability of the N-gram prefix+wn under the key $wn$.\n",
    "Then you must normalize these probabilities so that their sum is 1.0.\n",
    "\n",
    "The end result will be that if you lookup a prefix (N-1 tokens), you will\n",
    "have a probability distribution of possible $wn$ which can be used for\n",
    "the next token."
   ]
  },
  {
   "cell_type": "code",
   "execution_count": null,
   "metadata": {
    "id": "wOkPNs2UfKCG",
    "scrolled": false
   },
   "outputs": [],
   "source": [
    "\n",
    "\n",
    "def get_Ngram_dict(N):\n",
    "  D = defaultdict(lambda: None)\n",
    "  len_prefix = N-1\n",
    "  for x in All_Ngrams[N]:\n",
    "    if x[:N-1] in D:\n",
    "      D[(x[:N-1])][x[N-1]] += 1\n",
    "    else:\n",
    "      D[(x[:N-1])] = defaultdict(lambda: 0)\n",
    "      D[(x[:N-1])][x[N-1]] += 1\n",
    "  count = 0\n",
    "  for x,y in D.items():\n",
    "    count = 0\n",
    "    for a, b in y.items():\n",
    "      count += b\n",
    "    for a, b in y.items():\n",
    "      y[a] = b/count\n",
    "\n",
    "\n",
    "  return D                    # your code here\n",
    "\n",
    "Ngram_nested_dict = [None]*5\n",
    "\n",
    "for n in range(2,5):\n",
    "    Ngram_nested_dict[n] = get_Ngram_dict(n)\n",
    "\n"
   ]
  },
  {
   "cell_type": "code",
   "execution_count": 105,
   "metadata": {
    "colab": {
     "base_uri": "https://localhost:8080/"
    },
    "id": "GqNZJSLWfKCG",
    "outputId": "b6e5cd90-c5e7-4bb7-faf9-9b470b90c317"
   },
   "outputs": [
    {
     "data": {
      "text/plain": [
       "1.0000000000000742"
      ]
     },
     "execution_count": 105,
     "metadata": {},
     "output_type": "execute_result"
    }
   ],
   "source": [
    "# tests: these should sum to (close to) 1.0\n",
    "sum(Ngram_nested_dict[2][('<s>',)].values())"
   ]
  },
  {
   "cell_type": "code",
   "execution_count": 106,
   "metadata": {
    "colab": {
     "base_uri": "https://localhost:8080/"
    },
    "id": "DfkJfU3BfKCG",
    "outputId": "bf9fd6c3-e179-436f-e8ab-a34d1b98f300"
   },
   "outputs": [
    {
     "data": {
      "text/plain": [
       "0.9999999999999438"
      ]
     },
     "execution_count": 106,
     "metadata": {},
     "output_type": "execute_result"
    }
   ],
   "source": [
    "sum(Ngram_nested_dict[3][('<s>','The')].values())"
   ]
  },
  {
   "cell_type": "code",
   "execution_count": 107,
   "metadata": {
    "colab": {
     "base_uri": "https://localhost:8080/"
    },
    "id": "Ut4vQOa0fKCG",
    "outputId": "ce284aac-0ad9-4ffb-b86d-ccaff9fe160d"
   },
   "outputs": [
    {
     "data": {
      "text/plain": [
       "1.0000000000000007"
      ]
     },
     "execution_count": 107,
     "metadata": {},
     "output_type": "execute_result"
    }
   ],
   "source": [
    "sum(Ngram_nested_dict[4][('<s>','When', 'the')].values())"
   ]
  },
  {
   "cell_type": "markdown",
   "metadata": {
    "id": "lUyzn9zpfKCH"
   },
   "source": [
    "### Part C\n",
    "\n",
    "Now that we have a way of sampling the next likely word, we will write\n",
    "a function which will predict the next word. You must sample from the\n",
    "probability distribution given a prefix, to choose a likely next word.\n",
    "\n",
    "Hint:  read about `numpy.random.choice`, in particular how you can set the parameter `p`\n",
    "to determine the probability of selecting a given key from the dictionary."
   ]
  },
  {
   "cell_type": "code",
   "execution_count": null,
   "metadata": {
    "id": "Qc5t98cKfKCH",
    "scrolled": false
   },
   "outputs": [],
   "source": [
    "# given a prefix, randomly choose next token using the appropriate probability distribution\n",
    "\n",
    "#  len(prefix) must be 1, 2, or 3 only\n",
    "\n",
    "def next_word(prefix):\n",
    "  length = len(prefix) + 1\n",
    "  word = []\n",
    "  prob = []\n",
    "  dict = Ngram_nested_dict[length]\n",
    "  count = 0\n",
    "  for x,y in dict.items():\n",
    "    if x == prefix:\n",
    "      for a,b in y.items():\n",
    "        word.append(a)\n",
    "        prob.append(b)\n",
    "  nextWord = np.random.choice(word, size=1, p=prob)[0]\n",
    "  return nextWord\n",
    "\n",
    "                        # your code here\n"
   ]
  },
  {
   "cell_type": "code",
   "execution_count": null,
   "metadata": {
    "colab": {
     "base_uri": "https://localhost:8080/",
     "height": 37
    },
    "id": "XRiw728pfKCH",
    "outputId": "deaeed87-13aa-4d99-b40d-fa26ae62694a"
   },
   "outputs": [
    {
     "data": {
      "application/vnd.google.colaboratory.intrinsic+json": {
       "type": "string"
      },
      "text/plain": [
       "'In'"
      ]
     },
     "execution_count": 100,
     "metadata": {},
     "output_type": "execute_result"
    }
   ],
   "source": [
    "# tests; these are random, your results may vary\n",
    "\n",
    "next_word(('<s>',))"
   ]
  },
  {
   "cell_type": "code",
   "execution_count": null,
   "metadata": {
    "colab": {
     "base_uri": "https://localhost:8080/",
     "height": 37
    },
    "id": "3Rnu-9HIfKCH",
    "outputId": "cad3fe16-5788-4e0d-8da5-53a1b384c03d"
   },
   "outputs": [
    {
     "data": {
      "application/vnd.google.colaboratory.intrinsic+json": {
       "type": "string"
      },
      "text/plain": [
       "'Dark'"
      ]
     },
     "execution_count": 101,
     "metadata": {},
     "output_type": "execute_result"
    }
   ],
   "source": [
    "next_word(('<s>','The'))"
   ]
  },
  {
   "cell_type": "code",
   "execution_count": null,
   "metadata": {
    "colab": {
     "base_uri": "https://localhost:8080/",
     "height": 37
    },
    "id": "7cg7GTsOfKCH",
    "outputId": "2a2e26d5-27d3-42db-c72a-082d30fda397"
   },
   "outputs": [
    {
     "data": {
      "application/vnd.google.colaboratory.intrinsic+json": {
       "type": "string"
      },
      "text/plain": [
       "'moved'"
      ]
     },
     "execution_count": 102,
     "metadata": {},
     "output_type": "execute_result"
    }
   ],
   "source": [
    "next_word(('<s>','The','man'))"
   ]
  },
  {
   "cell_type": "markdown",
   "metadata": {
    "id": "dUjwm6GwfKCH"
   },
   "source": [
    "### Part D\n",
    "\n",
    "Complete the following template to generate a random sentence by starting with\n",
    "the unigram `('<s>',)` and extending it by sampling until you generate the token `</s>`."
   ]
  },
  {
   "cell_type": "code",
   "execution_count": null,
   "metadata": {
    "id": "NxKHcB9SfKCH",
    "scrolled": true
   },
   "outputs": [],
   "source": [
    "# N is the parameter in N-gram\n",
    "\"\"\"\n",
    "# string version\n",
    "def generate_sentence(N):\n",
    "  first_word = '<s>'\n",
    "  last_word = '</s>'\n",
    "  middle_words = first_word + \" \"\n",
    "  current_word = ('<s>',)\n",
    "  count = 0\n",
    "  while not(last_word in middle_words):\n",
    "\n",
    "    word = next_word(current_word)\n",
    "\n",
    "    middle_words += word + \" \"\n",
    "    words = middle_words.split()\n",
    "    if len(words) < N - 1:\n",
    "      current_word = tuple(words)\n",
    "    else:\n",
    "      current_word = tuple(words[len(words)- N + 1:len(words)])\n",
    "  return middle_words\n",
    "\n",
    "# list version\n",
    "def generate_sentence(N):\n",
    "  first_word = '<s>'\n",
    "  last_word = '</s>'\n",
    "  middle_words = [first_word]\n",
    "  current_word = ('<s>',)\n",
    "  count = 0\n",
    "  while not(last_word in middle_words):\n",
    "\n",
    "    word = next_word(current_word)\n",
    "\n",
    "    middle_words.append(word)\n",
    "    if len(middle_words) < N - 1:\n",
    "      current_word = tuple(middle_words)\n",
    "    else:\n",
    "      current_word = tuple(middle_words[len(middle_words)- N + 1:len(middle_words)])\n",
    "  return middle_words\n",
    "\"\"\"\n",
    "# tuple version\n",
    "def generate_sentence(N):\n",
    "  first_word = '<s>'\n",
    "  last_word = '</s>'\n",
    "  middle_words = first_word + \" \"\n",
    "  current_word = ('<s>',)\n",
    "  count = 0\n",
    "  while not(last_word in middle_words):\n",
    "\n",
    "    word = next_word(current_word)\n",
    "\n",
    "    middle_words += word + \" \"\n",
    "    words = middle_words.split()\n",
    "    if len(words) < N - 1:\n",
    "      current_word = tuple(words)\n",
    "    else:\n",
    "      current_word = tuple(words[len(words)- N + 1:len(words)])\n",
    "  return tuple(middle_words.split())\n",
    "\n"
   ]
  },
  {
   "cell_type": "code",
   "execution_count": null,
   "metadata": {
    "colab": {
     "base_uri": "https://localhost:8080/"
    },
    "id": "s-h-otMhfKCH",
    "outputId": "25858712-c736-45c7-e591-88765ecee800"
   },
   "outputs": [
    {
     "name": "stdout",
     "output_type": "stream",
     "text": [
      "32745 Death ! !\n",
      "246992 He held the razor , a lone figure .\n",
      "379224 You don't need worry , Angelo .\n"
     ]
    }
   ],
   "source": [
    "# tests; these are random, your results may vary\n",
    "\n",
    "\n",
    "w1 = generate_sentence(2)\n",
    "print(int(PP(2,w1)), ' '.join(w1[1:-1]))\n",
    "\n",
    "w2 = generate_sentence(3)\n",
    "print(int(PP(3,w2)), ' '.join(w2[1:-1]))\n",
    "\n",
    "w3 = generate_sentence(4)\n",
    "print(int(PP(4,w3)), ' '.join(w3[1:-1]))\n"
   ]
  },
  {
   "cell_type": "markdown",
   "metadata": {
    "id": "xpRqFe09fKCI"
   },
   "source": [
    "### Part E\n",
    "\n",
    "Experiment with generating sentences for various values of N = 2, 3, 4.   Do you see a difference\n",
    "in the quality of the sentences? How well does it do with punctuation and quotes? The typical view is that for larger values of N,\n",
    "the model is just \"memorizing\" the corpus. Do you think this is true? (You might look through\n",
    "the corpus to see what relationship your generated sentences, say for N = 4, have with\n",
    "the sentences in the corpus."
   ]
  },
  {
   "cell_type": "markdown",
   "metadata": {
    "id": "ch96uoQRfKCI"
   },
   "source": [
    "After the experiments, I discovered numerous things. N = 4 produced the best quality of the sentences, the closest to believing that it is created by humans. However, this might be because the model is simply \"memorizing\" the corpus and producing the contents in the corpus without generating a new sentence using the data.\n",
    "\n",
    "The punctuations and quotes for N = 4 was good overall but when it came to N = 3 and especially N = 2, the punctuations were in places that should not have existed.\n",
    "\n",
    "I would agree and disagree regarding whether the corpus simply memorizing the corpus. It certainly can generate sentences that exist inside the corpus but there existed variations within parts of the sentences that were not exactly the same as the corpus. However, it still looks identical in a few specific areas where the occurrences of some words in sequence is unique.\n",
    "\n",
    "Overall, I believe that the value of N = 3 produces the best sentences that looks as it is human generated (even though some parts do not make sense in terms of sentences) and it also does not simply memorize the corpus and generate the exact same sentences in the corpus."
   ]
  },
  {
   "cell_type": "code",
   "execution_count": null,
   "metadata": {
    "id": "sC8gLpwuqXxr"
   },
   "outputs": [],
   "source": []
  }
 ],
 "metadata": {
  "colab": {
   "provenance": []
  },
  "kernelspec": {
   "display_name": "Python 3 (ipykernel)",
   "language": "python",
   "name": "python3"
  },
  "language_info": {
   "codemirror_mode": {
    "name": "ipython",
    "version": 3
   },
   "file_extension": ".py",
   "mimetype": "text/x-python",
   "name": "python",
   "nbconvert_exporter": "python",
   "pygments_lexer": "ipython3",
   "version": "3.9.13"
  }
 },
 "nbformat": 4,
 "nbformat_minor": 1
}
